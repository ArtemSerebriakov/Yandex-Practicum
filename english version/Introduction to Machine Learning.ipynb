{
 "cells": [
  {
   "cell_type": "markdown",
   "metadata": {},
   "source": [
    "# Recommendation of mobile phone plans"
   ]
  },
  {
   "cell_type": "markdown",
   "metadata": {},
   "source": [
    "We need to build a model for the classification task that selects the appropriate tariff for each customer. No preprocessing of the data is needed - it has already been done.\n",
    "\n",
    "Let's build a model with the largest possible *accuracy* value. A project can be considered successful if the proportion of correct answers is at least 0.75. It is also necessary to check *accuracy* on a test sample."
   ]
  },
  {
   "cell_type": "markdown",
   "metadata": {},
   "source": [
    "Work plan:\n",
    "1. Study the general information from the dataframe.\n",
    "2. Divide the raw data into training, validation and test samples.\n",
    "3. Build three models:\n",
    "   - decision tree,\n",
    "   - random forest,\n",
    "   - logistic regression.\n",
    "4. Analyze the quality of the constructed models by changing the hyperparameters.\n",
    "5. Verify the quality of the model on a test sample.\n",
    "6. Check the models for reasonableness."
   ]
  },
  {
   "cell_type": "markdown",
   "metadata": {},
   "source": [
    "<a id=\"0\"></a> <br>\n",
    "# Table of Contents  \n",
    "1. [Exploring data from a file](#1)     \n",
    "2. [Splitting data](#2)\n",
    "3. [Model quality research](#3)\n",
    "4. [Checking the quality of the model on a testing set](#4)\n",
    "5. [Checking models for adequacy](#5)"
   ]
  },
  {
   "cell_type": "markdown",
   "metadata": {},
   "source": [
    "<a id=\"1\"></a>\n",
    "## Exploring data from a file\n",
    "[Back to the top](#0)"
   ]
  },
  {
   "cell_type": "code",
   "execution_count": 1,
   "metadata": {},
   "outputs": [],
   "source": [
    "# pip install nb_black"
   ]
  },
  {
   "cell_type": "code",
   "execution_count": 2,
   "metadata": {},
   "outputs": [],
   "source": [
    "#%load_ext nb_black"
   ]
  },
  {
   "cell_type": "code",
   "execution_count": 3,
   "metadata": {},
   "outputs": [],
   "source": [
    "import pandas as pd\n",
    "from sklearn.model_selection import train_test_split\n",
    "from sklearn.tree import DecisionTreeClassifier\n",
    "from sklearn.metrics import accuracy_score\n",
    "from sklearn.ensemble import RandomForestClassifier\n",
    "from sklearn.linear_model import LogisticRegression\n",
    "import numpy as np\n",
    "import matplotlib.pyplot as plt\n",
    "import matplotlib.ticker as ticker\n",
    "from sklearn.dummy import DummyClassifier\n",
    "from sklearn import tree"
   ]
  },
  {
   "cell_type": "code",
   "execution_count": 4,
   "metadata": {},
   "outputs": [],
   "source": [
    "df = pd.read_csv(\"/datasets/users_behavior.csv\", sep=\",\")"
   ]
  },
  {
   "cell_type": "code",
   "execution_count": 5,
   "metadata": {},
   "outputs": [
    {
     "name": "stdout",
     "output_type": "stream",
     "text": [
      "<class 'pandas.core.frame.DataFrame'>\n",
      "RangeIndex: 3214 entries, 0 to 3213\n",
      "Data columns (total 5 columns):\n",
      " #   Column    Non-Null Count  Dtype  \n",
      "---  ------    --------------  -----  \n",
      " 0   calls     3214 non-null   float64\n",
      " 1   minutes   3214 non-null   float64\n",
      " 2   messages  3214 non-null   float64\n",
      " 3   mb_used   3214 non-null   float64\n",
      " 4   is_ultra  3214 non-null   int64  \n",
      "dtypes: float64(4), int64(1)\n",
      "memory usage: 125.7 KB\n"
     ]
    }
   ],
   "source": [
    "df.info()"
   ]
  },
  {
   "cell_type": "code",
   "execution_count": 6,
   "metadata": {},
   "outputs": [
    {
     "data": {
      "text/plain": [
       "(3214, 5)"
      ]
     },
     "execution_count": 6,
     "metadata": {},
     "output_type": "execute_result"
    }
   ],
   "source": [
    "df.shape"
   ]
  },
  {
   "cell_type": "code",
   "execution_count": 7,
   "metadata": {},
   "outputs": [
    {
     "data": {
      "text/html": [
       "<div>\n",
       "<style scoped>\n",
       "    .dataframe tbody tr th:only-of-type {\n",
       "        vertical-align: middle;\n",
       "    }\n",
       "\n",
       "    .dataframe tbody tr th {\n",
       "        vertical-align: top;\n",
       "    }\n",
       "\n",
       "    .dataframe thead th {\n",
       "        text-align: right;\n",
       "    }\n",
       "</style>\n",
       "<table border=\"1\" class=\"dataframe\">\n",
       "  <thead>\n",
       "    <tr style=\"text-align: right;\">\n",
       "      <th></th>\n",
       "      <th>calls</th>\n",
       "      <th>minutes</th>\n",
       "      <th>messages</th>\n",
       "      <th>mb_used</th>\n",
       "      <th>is_ultra</th>\n",
       "    </tr>\n",
       "  </thead>\n",
       "  <tbody>\n",
       "    <tr>\n",
       "      <th>0</th>\n",
       "      <td>40.0</td>\n",
       "      <td>311.90</td>\n",
       "      <td>83.0</td>\n",
       "      <td>19915.42</td>\n",
       "      <td>0</td>\n",
       "    </tr>\n",
       "    <tr>\n",
       "      <th>1</th>\n",
       "      <td>85.0</td>\n",
       "      <td>516.75</td>\n",
       "      <td>56.0</td>\n",
       "      <td>22696.96</td>\n",
       "      <td>0</td>\n",
       "    </tr>\n",
       "    <tr>\n",
       "      <th>2</th>\n",
       "      <td>77.0</td>\n",
       "      <td>467.66</td>\n",
       "      <td>86.0</td>\n",
       "      <td>21060.45</td>\n",
       "      <td>0</td>\n",
       "    </tr>\n",
       "    <tr>\n",
       "      <th>3</th>\n",
       "      <td>106.0</td>\n",
       "      <td>745.53</td>\n",
       "      <td>81.0</td>\n",
       "      <td>8437.39</td>\n",
       "      <td>1</td>\n",
       "    </tr>\n",
       "    <tr>\n",
       "      <th>4</th>\n",
       "      <td>66.0</td>\n",
       "      <td>418.74</td>\n",
       "      <td>1.0</td>\n",
       "      <td>14502.75</td>\n",
       "      <td>0</td>\n",
       "    </tr>\n",
       "    <tr>\n",
       "      <th>5</th>\n",
       "      <td>58.0</td>\n",
       "      <td>344.56</td>\n",
       "      <td>21.0</td>\n",
       "      <td>15823.37</td>\n",
       "      <td>0</td>\n",
       "    </tr>\n",
       "    <tr>\n",
       "      <th>6</th>\n",
       "      <td>57.0</td>\n",
       "      <td>431.64</td>\n",
       "      <td>20.0</td>\n",
       "      <td>3738.90</td>\n",
       "      <td>1</td>\n",
       "    </tr>\n",
       "    <tr>\n",
       "      <th>7</th>\n",
       "      <td>15.0</td>\n",
       "      <td>132.40</td>\n",
       "      <td>6.0</td>\n",
       "      <td>21911.60</td>\n",
       "      <td>0</td>\n",
       "    </tr>\n",
       "    <tr>\n",
       "      <th>8</th>\n",
       "      <td>7.0</td>\n",
       "      <td>43.39</td>\n",
       "      <td>3.0</td>\n",
       "      <td>2538.67</td>\n",
       "      <td>1</td>\n",
       "    </tr>\n",
       "    <tr>\n",
       "      <th>9</th>\n",
       "      <td>90.0</td>\n",
       "      <td>665.41</td>\n",
       "      <td>38.0</td>\n",
       "      <td>17358.61</td>\n",
       "      <td>0</td>\n",
       "    </tr>\n",
       "  </tbody>\n",
       "</table>\n",
       "</div>"
      ],
      "text/plain": [
       "   calls  minutes  messages   mb_used  is_ultra\n",
       "0   40.0   311.90      83.0  19915.42         0\n",
       "1   85.0   516.75      56.0  22696.96         0\n",
       "2   77.0   467.66      86.0  21060.45         0\n",
       "3  106.0   745.53      81.0   8437.39         1\n",
       "4   66.0   418.74       1.0  14502.75         0\n",
       "5   58.0   344.56      21.0  15823.37         0\n",
       "6   57.0   431.64      20.0   3738.90         1\n",
       "7   15.0   132.40       6.0  21911.60         0\n",
       "8    7.0    43.39       3.0   2538.67         1\n",
       "9   90.0   665.41      38.0  17358.61         0"
      ]
     },
     "execution_count": 7,
     "metadata": {},
     "output_type": "execute_result"
    }
   ],
   "source": [
    "df.head(10)"
   ]
  },
  {
   "cell_type": "code",
   "execution_count": 8,
   "metadata": {},
   "outputs": [
    {
     "data": {
      "text/html": [
       "<div>\n",
       "<style scoped>\n",
       "    .dataframe tbody tr th:only-of-type {\n",
       "        vertical-align: middle;\n",
       "    }\n",
       "\n",
       "    .dataframe tbody tr th {\n",
       "        vertical-align: top;\n",
       "    }\n",
       "\n",
       "    .dataframe thead th {\n",
       "        text-align: right;\n",
       "    }\n",
       "</style>\n",
       "<table border=\"1\" class=\"dataframe\">\n",
       "  <thead>\n",
       "    <tr style=\"text-align: right;\">\n",
       "      <th></th>\n",
       "      <th>0</th>\n",
       "    </tr>\n",
       "  </thead>\n",
       "  <tbody>\n",
       "    <tr>\n",
       "      <th>calls</th>\n",
       "      <td>0.0</td>\n",
       "    </tr>\n",
       "    <tr>\n",
       "      <th>minutes</th>\n",
       "      <td>0.0</td>\n",
       "    </tr>\n",
       "    <tr>\n",
       "      <th>messages</th>\n",
       "      <td>0.0</td>\n",
       "    </tr>\n",
       "    <tr>\n",
       "      <th>mb_used</th>\n",
       "      <td>0.0</td>\n",
       "    </tr>\n",
       "    <tr>\n",
       "      <th>is_ultra</th>\n",
       "      <td>0.0</td>\n",
       "    </tr>\n",
       "  </tbody>\n",
       "</table>\n",
       "</div>"
      ],
      "text/plain": [
       "            0\n",
       "calls     0.0\n",
       "minutes   0.0\n",
       "messages  0.0\n",
       "mb_used   0.0\n",
       "is_ultra  0.0"
      ]
     },
     "execution_count": 8,
     "metadata": {},
     "output_type": "execute_result"
    }
   ],
   "source": [
    "(df.isna().mean() * 100).to_frame()"
   ]
  },
  {
   "cell_type": "markdown",
   "metadata": {},
   "source": [
    "We see that our dataframe consists of 5 columns, the values in the columns have the required data types, there are no gaps, so no preprocessing is required."
   ]
  },
  {
   "cell_type": "markdown",
   "metadata": {},
   "source": [
    "Let's check the dataset for class balance in the target column `is_ultra`."
   ]
  },
  {
   "cell_type": "code",
   "execution_count": 9,
   "metadata": {},
   "outputs": [
    {
     "data": {
      "text/plain": [
       "0    2229\n",
       "1     985\n",
       "Name: is_ultra, dtype: int64"
      ]
     },
     "execution_count": 9,
     "metadata": {},
     "output_type": "execute_result"
    }
   ],
   "source": [
    "df[\"is_ultra\"].value_counts()"
   ]
  },
  {
   "cell_type": "markdown",
   "metadata": {},
   "source": [
    "We see that in the `is_ultra` column there are more than twice as many null values as single values, i.e. there is an imbalance of classes."
   ]
  },
  {
   "cell_type": "markdown",
   "metadata": {},
   "source": [
    "<a id=\"2\"></a>\n",
    "## Splitting data\n",
    "[Back to the top](#0)"
   ]
  },
  {
   "cell_type": "markdown",
   "metadata": {},
   "source": [
    "Let's split the input data into three sets: training(60%), validation(20%) and testing(20%)."
   ]
  },
  {
   "cell_type": "code",
   "execution_count": 10,
   "metadata": {},
   "outputs": [],
   "source": [
    "features = df.drop([\"is_ultra\"], axis=1)"
   ]
  },
  {
   "cell_type": "code",
   "execution_count": 11,
   "metadata": {},
   "outputs": [],
   "source": [
    "target = df[\"is_ultra\"]"
   ]
  },
  {
   "cell_type": "code",
   "execution_count": 12,
   "metadata": {},
   "outputs": [],
   "source": [
    "features_train, features_vt, target_train, target_vt = train_test_split(\n",
    "    features, target, test_size=0.4, random_state=12345, stratify=target\n",
    ")"
   ]
  },
  {
   "cell_type": "code",
   "execution_count": 13,
   "metadata": {},
   "outputs": [
    {
     "name": "stdout",
     "output_type": "stream",
     "text": [
      "Количество строк в target_train по классам: [1337  591]\n",
      "Количество строк в target_vt по классам: [892 394]\n"
     ]
    }
   ],
   "source": [
    "print(f\"Количество строк в target_train по классам: {np.bincount(target_train)}\")\n",
    "print(f\"Количество строк в target_vt по классам: {np.bincount(target_vt)}\")"
   ]
  },
  {
   "cell_type": "markdown",
   "metadata": {},
   "source": [
    "We see that in target_train and target_vt the class imbalance has remained the same."
   ]
  },
  {
   "cell_type": "code",
   "execution_count": 14,
   "metadata": {},
   "outputs": [],
   "source": [
    "features_valid, features_test, target_valid, target_test = train_test_split(\n",
    "    features_vt, target_vt, test_size=0.5, random_state=12345, stratify=target_vt\n",
    ")"
   ]
  },
  {
   "cell_type": "code",
   "execution_count": 15,
   "metadata": {},
   "outputs": [
    {
     "name": "stdout",
     "output_type": "stream",
     "text": [
      "Количество строк в target_valid по классам: [446 197]\n",
      "Количество строк в target_test по классам: [446 197]\n"
     ]
    }
   ],
   "source": [
    "print(f\"Количество строк в target_valid по классам: {np.bincount(target_valid)}\")\n",
    "print(f\"Количество строк в target_test по классам: {np.bincount(target_test)}\")"
   ]
  },
  {
   "cell_type": "markdown",
   "metadata": {},
   "source": [
    "We see that the proportion of the number of elements in the two classes remain the same."
   ]
  },
  {
   "cell_type": "markdown",
   "metadata": {},
   "source": [
    "The resulting sets have the following sizes:"
   ]
  },
  {
   "cell_type": "code",
   "execution_count": 16,
   "metadata": {},
   "outputs": [
    {
     "data": {
      "text/plain": [
       "(1928, 4)"
      ]
     },
     "execution_count": 16,
     "metadata": {},
     "output_type": "execute_result"
    }
   ],
   "source": [
    "features_train.shape"
   ]
  },
  {
   "cell_type": "code",
   "execution_count": 17,
   "metadata": {},
   "outputs": [
    {
     "data": {
      "text/plain": [
       "(1928,)"
      ]
     },
     "execution_count": 17,
     "metadata": {},
     "output_type": "execute_result"
    }
   ],
   "source": [
    "target_train.shape"
   ]
  },
  {
   "cell_type": "code",
   "execution_count": 18,
   "metadata": {},
   "outputs": [
    {
     "data": {
      "text/plain": [
       "(643, 4)"
      ]
     },
     "execution_count": 18,
     "metadata": {},
     "output_type": "execute_result"
    }
   ],
   "source": [
    "features_valid.shape"
   ]
  },
  {
   "cell_type": "code",
   "execution_count": 19,
   "metadata": {},
   "outputs": [
    {
     "data": {
      "text/plain": [
       "(643,)"
      ]
     },
     "execution_count": 19,
     "metadata": {},
     "output_type": "execute_result"
    }
   ],
   "source": [
    "target_valid.shape"
   ]
  },
  {
   "cell_type": "code",
   "execution_count": 20,
   "metadata": {},
   "outputs": [
    {
     "data": {
      "text/plain": [
       "(643, 4)"
      ]
     },
     "execution_count": 20,
     "metadata": {},
     "output_type": "execute_result"
    }
   ],
   "source": [
    "features_test.shape"
   ]
  },
  {
   "cell_type": "code",
   "execution_count": 21,
   "metadata": {},
   "outputs": [
    {
     "data": {
      "text/plain": [
       "(643,)"
      ]
     },
     "execution_count": 21,
     "metadata": {},
     "output_type": "execute_result"
    }
   ],
   "source": [
    "target_test.shape"
   ]
  },
  {
   "cell_type": "markdown",
   "metadata": {},
   "source": [
    "We can see by the number of rows in each sample that the splitting has been done correctly."
   ]
  },
  {
   "cell_type": "markdown",
   "metadata": {},
   "source": [
    "<a id=\"3\"></a>\n",
    "## Model quality research\n",
    "[Back to the top](#0)"
   ]
  },
  {
   "cell_type": "markdown",
   "metadata": {},
   "source": [
    "Let's study the first model - a decision tree, and find its quality at different values of the max_depth hyperparameter (tree depth)."
   ]
  },
  {
   "cell_type": "code",
   "execution_count": 22,
   "metadata": {},
   "outputs": [
    {
     "name": "stdout",
     "output_type": "stream",
     "text": [
      "Accuracy наилучшей модели на валидационной выборке: 0.7776049766718507\n",
      "max_depth = 3\n"
     ]
    }
   ],
   "source": [
    "best_model = None\n",
    "best_result = 0\n",
    "best_est = 1\n",
    "accuracy_arr_val = []\n",
    "accuracy_arr_tr = []\n",
    "for depth in range(1, 5):\n",
    "    model = DecisionTreeClassifier(random_state=12345, max_depth=depth)\n",
    "    model.fit(features_train, target_train)\n",
    "    predictions_train = model.predict(features_train)\n",
    "    result_train = accuracy_score(target_train, predictions_train)\n",
    "    predictions_valid = model.predict(features_valid)\n",
    "    result_valid = accuracy_score(target_valid, predictions_valid)\n",
    "    accuracy_arr_val.append(result_valid)\n",
    "    accuracy_arr_tr.append(result_train)\n",
    "    if result_valid > best_result:\n",
    "        best_model = model\n",
    "        best_result = result_valid\n",
    "        best_depth = depth\n",
    "\n",
    "print(\"Accuracy наилучшей модели на валидационной выборке:\", best_result)\n",
    "print(\"max_depth =\", best_depth)"
   ]
  },
  {
   "cell_type": "code",
   "execution_count": 23,
   "metadata": {},
   "outputs": [
    {
     "data": {
      "text/plain": [
       "[0.7402799377916018,\n",
       " 0.7729393468118196,\n",
       " 0.7776049766718507,\n",
       " 0.7542768273716952]"
      ]
     },
     "execution_count": 23,
     "metadata": {},
     "output_type": "execute_result"
    }
   ],
   "source": [
    "accuracy_arr_val"
   ]
  },
  {
   "cell_type": "code",
   "execution_count": 24,
   "metadata": {},
   "outputs": [
    {
     "data": {
      "text/plain": [
       "[0.7546680497925311,\n",
       " 0.7759336099585062,\n",
       " 0.7909751037344398,\n",
       " 0.7971991701244814]"
      ]
     },
     "execution_count": 24,
     "metadata": {},
     "output_type": "execute_result"
    }
   ],
   "source": [
    "accuracy_arr_tr"
   ]
  },
  {
   "cell_type": "code",
   "execution_count": 25,
   "metadata": {},
   "outputs": [
    {
     "data": {
      "image/png": "[encoded data removed]",
      "text/plain": [
       "<Figure size 360x240 with 1 Axes>"
      ]
     },
     "metadata": {
      "needs_background": "light"
     },
     "output_type": "display_data"
    }
   ],
   "source": [
    "x = [1, 2, 3, 4]\n",
    "plt.plot(x, accuracy_arr_tr, label=\"Обучающая выборка\")\n",
    "plt.plot(x, accuracy_arr_val, label=\"Валидационная выборка\")\n",
    "\n",
    "plt.legend(loc=\"upper left\")\n",
    "plt.xlabel('max_depth') \n",
    "plt.ylabel('accuracy') \n",
    "plt.title(\"Изменение качества модели при различной глубине дерева\")\n",
    "plt.xticks([1, 2, 3, 4])\n",
    "\n",
    "plt.gcf().set_dpi(60)\n",
    "plt.grid()"
   ]
  },
  {
   "cell_type": "markdown",
   "metadata": {},
   "source": [
    "From the plots obtained, the overfitting of the constructed model is evident, since the quality is better with the training set than with the validation one."
   ]
  },
  {
   "cell_type": "code",
   "execution_count": 27,
   "metadata": {},
   "outputs": [
    {
     "data": {
      "image/png": "[encoded data removed]",
      "text/plain": [
       "<Figure size 2520x1440 with 1 Axes>"
      ]
     },
     "metadata": {
      "needs_background": "light"
     },
     "output_type": "display_data"
    }
   ],
   "source": [
    "model = DecisionTreeClassifier(random_state=12345, max_depth=3)\n",
    "#tree.plot_tree(model.fit(features_train, target_train))\n",
    "#plt.rcParams[\"figure.figsize\"] = (10, 10)\n",
    "model.fit(features_train, target_train)\n",
    "fig = plt.figure(figsize=(35,20))\n",
    "_ = tree.plot_tree(model, \n",
    "               feature_names=features_train.columns.values, \n",
    "               class_names=['Smart','Ultra'],\n",
    "               filled=True,\n",
    "               fontsize = 15)"
   ]
  },
  {
   "cell_type": "markdown",
   "metadata": {},
   "source": [
    "The next step is to train the random forest model and check the quality of the model with different number of trees (n_estimators)."
   ]
  },
  {
   "cell_type": "code",
   "execution_count": 197,
   "metadata": {},
   "outputs": [
    {
     "name": "stdout",
     "output_type": "stream",
     "text": [
      "Accuracy наилучшей модели на валидационной выборке: 0.8102643856920684\n",
      "n_estimators = 60\n",
      "CPU times: user 1.71 s, sys: 17 ms, total: 1.73 s\n",
      "Wall time: 1.73 s\n"
     ]
    }
   ],
   "source": [
    "%%time\n",
    "best_model = None\n",
    "best_result = 0\n",
    "best_est = 10\n",
    "for est in range(10, 100, 10):\n",
    "    model = RandomForestClassifier(random_state=12345, n_estimators=est)\n",
    "    model.fit(features_train, target_train)\n",
    "    result = model.score(features_valid, target_valid)\n",
    "    if result > best_result:\n",
    "        best_model = model\n",
    "        best_result = result\n",
    "        best_est = est\n",
    "\n",
    "print(\"Accuracy наилучшей модели на валидационной выборке:\", best_result)\n",
    "print(\"n_estimators =\", best_est)"
   ]
  },
  {
   "cell_type": "markdown",
   "metadata": {},
   "source": [
    "The next model is a logistic regression."
   ]
  },
  {
   "cell_type": "code",
   "execution_count": 198,
   "metadata": {
    "scrolled": true
   },
   "outputs": [
    {
     "name": "stdout",
     "output_type": "stream",
     "text": [
      "Accuracy наилучшей модели на валидационной выборке: 0.7387247278382582\n",
      "max_iter = 100\n"
     ]
    }
   ],
   "source": [
    "best_model = None\n",
    "best_result = 0\n",
    "best_iter = 100\n",
    "for i in range(100, 1000, 100):\n",
    "    model = LogisticRegression(random_state=12345, solver=\"lbfgs\", max_iter=i)\n",
    "    model.fit(features_train, target_train)\n",
    "    result = model.score(features_valid, target_valid)\n",
    "    if result > best_result:\n",
    "        best_model = model\n",
    "        best_result = result\n",
    "        best_iter = i\n",
    "\n",
    "print(\"Accuracy наилучшей модели на валидационной выборке:\", best_result)\n",
    "print(\"max_iter =\", best_iter)"
   ]
  },
  {
   "cell_type": "markdown",
   "metadata": {},
   "source": [
    "We can see that the random forest model with 60 trees has the best quality on the validation set."
   ]
  },
  {
   "cell_type": "markdown",
   "metadata": {},
   "source": [
    "<a id=\"4\"></a>\n",
    "## Checking the quality of the model on a testing set\n",
    "[Back to the top](#0)"
   ]
  },
  {
   "cell_type": "markdown",
   "metadata": {},
   "source": [
    "Check the quality of the random forest model chosen earlier on a test sample."
   ]
  },
  {
   "cell_type": "code",
   "execution_count": 199,
   "metadata": {},
   "outputs": [
    {
     "name": "stdout",
     "output_type": "stream",
     "text": [
      "Accuracy наилучшей модели на тестовой выборке: 0.8040435458786936\n"
     ]
    }
   ],
   "source": [
    "model = RandomForestClassifier(random_state=12345, n_estimators=50)\n",
    "model.fit(features_train, target_train)\n",
    "result = model.score(features_test, target_test)\n",
    "print(\"Accuracy наилучшей модели на тестовой выборке:\", result)"
   ]
  },
  {
   "cell_type": "markdown",
   "metadata": {},
   "source": [
    "We obtain that the quality of the random forest model with 60 trees is slightly lower on the testing set than on the validation one."
   ]
  },
  {
   "cell_type": "markdown",
   "metadata": {},
   "source": [
    "<a id=\"5\"></a>\n",
    "## Checking models for adequacy\n",
    "[Back to the top](#0)"
   ]
  },
  {
   "cell_type": "markdown",
   "metadata": {},
   "source": [
    "It was shown earlier that the `is_ultra` column has unbalanced classes (the number of zeros noticeably exceeds the number of ones), so let's build a primitive model when the predicted values are all zeros and find its quality on the test data."
   ]
  },
  {
   "cell_type": "code",
   "execution_count": 200,
   "metadata": {},
   "outputs": [
    {
     "name": "stdout",
     "output_type": "stream",
     "text": [
      "Уникальные прогнозируемые величины по примитивной модели:  [0]\n",
      "Accuracy примитивной модели на тестовой выборке:  0.6936236391912908\n"
     ]
    }
   ],
   "source": [
    "dummy = DummyClassifier(strategy='most_frequent').fit(features_train, target_train)\n",
    "dummy_pred = dummy.predict(features_test)\n",
    "print('Уникальные прогнозируемые величины по примитивной модели: ', (np.unique(dummy_pred)))\n",
    "print('Accuracy примитивной модели на тестовой выборке: ', accuracy_score(target_test, dummy_pred))"
   ]
  },
  {
   "cell_type": "markdown",
   "metadata": {},
   "source": [
    "We see that the quality of the primitive model is significantly lower than the previously constructed models, so we can conclude that the random tree, random forest and logistic regression models are adequate."
   ]
  }
 ],
 "metadata": {
  "ExecuteTimeLog": [
   {
    "duration": 3,
    "start_time": "2022-09-10T18:11:59.916Z"
   },
   {
    "duration": 6,
    "start_time": "2022-09-10T18:11:59.921Z"
   },
   {
    "duration": 1143,
    "start_time": "2022-09-10T18:11:59.929Z"
   },
   {
    "duration": 130,
    "start_time": "2022-09-10T18:12:01.074Z"
   },
   {
    "duration": 0,
    "start_time": "2022-09-10T18:12:01.206Z"
   },
   {
    "duration": 0,
    "start_time": "2022-09-10T18:12:01.208Z"
   },
   {
    "duration": 0,
    "start_time": "2022-09-10T18:12:01.212Z"
   },
   {
    "duration": 0,
    "start_time": "2022-09-10T18:12:01.213Z"
   },
   {
    "duration": 0,
    "start_time": "2022-09-10T18:12:01.214Z"
   },
   {
    "duration": 0,
    "start_time": "2022-09-10T18:12:01.215Z"
   },
   {
    "duration": 0,
    "start_time": "2022-09-10T18:12:01.217Z"
   },
   {
    "duration": 0,
    "start_time": "2022-09-10T18:12:01.221Z"
   },
   {
    "duration": 0,
    "start_time": "2022-09-10T18:12:01.223Z"
   },
   {
    "duration": 0,
    "start_time": "2022-09-10T18:12:01.224Z"
   },
   {
    "duration": 0,
    "start_time": "2022-09-10T18:12:01.246Z"
   },
   {
    "duration": 0,
    "start_time": "2022-09-10T18:12:01.248Z"
   },
   {
    "duration": 0,
    "start_time": "2022-09-10T18:12:01.249Z"
   },
   {
    "duration": 0,
    "start_time": "2022-09-10T18:12:01.250Z"
   },
   {
    "duration": 0,
    "start_time": "2022-09-10T18:12:01.251Z"
   },
   {
    "duration": 0,
    "start_time": "2022-09-10T18:12:01.253Z"
   },
   {
    "duration": 0,
    "start_time": "2022-09-10T18:12:01.254Z"
   },
   {
    "duration": 0,
    "start_time": "2022-09-10T18:12:01.255Z"
   },
   {
    "duration": 2,
    "start_time": "2022-09-10T18:13:03.455Z"
   },
   {
    "duration": 7,
    "start_time": "2022-09-10T18:13:03.460Z"
   },
   {
    "duration": 9,
    "start_time": "2022-09-10T18:13:03.469Z"
   },
   {
    "duration": 120,
    "start_time": "2022-09-10T18:13:03.480Z"
   },
   {
    "duration": 12,
    "start_time": "2022-09-10T18:13:03.602Z"
   },
   {
    "duration": 14,
    "start_time": "2022-09-10T18:13:03.615Z"
   },
   {
    "duration": 25,
    "start_time": "2022-09-10T18:13:03.630Z"
   },
   {
    "duration": 10,
    "start_time": "2022-09-10T18:13:03.657Z"
   },
   {
    "duration": 4,
    "start_time": "2022-09-10T18:13:03.669Z"
   },
   {
    "duration": 8,
    "start_time": "2022-09-10T18:13:03.674Z"
   },
   {
    "duration": 7,
    "start_time": "2022-09-10T18:13:03.683Z"
   },
   {
    "duration": 7,
    "start_time": "2022-09-10T18:13:03.692Z"
   },
   {
    "duration": 6,
    "start_time": "2022-09-10T18:13:03.701Z"
   },
   {
    "duration": 10,
    "start_time": "2022-09-10T18:13:03.709Z"
   },
   {
    "duration": 27,
    "start_time": "2022-09-10T18:13:03.720Z"
   },
   {
    "duration": 15,
    "start_time": "2022-09-10T18:13:03.749Z"
   },
   {
    "duration": 6,
    "start_time": "2022-09-10T18:13:03.766Z"
   },
   {
    "duration": 10,
    "start_time": "2022-09-10T18:13:03.774Z"
   },
   {
    "duration": 28,
    "start_time": "2022-09-10T18:13:03.785Z"
   },
   {
    "duration": 1743,
    "start_time": "2022-09-10T18:13:03.815Z"
   },
   {
    "duration": 178,
    "start_time": "2022-09-10T18:13:05.559Z"
   },
   {
    "duration": 201,
    "start_time": "2022-09-10T18:13:05.738Z"
   },
   {
    "duration": 4,
    "start_time": "2022-09-10T18:29:36.150Z"
   },
   {
    "duration": 4,
    "start_time": "2022-09-10T18:30:15.631Z"
   },
   {
    "duration": 4,
    "start_time": "2022-09-10T18:31:47.642Z"
   },
   {
    "duration": 4,
    "start_time": "2022-09-10T18:31:50.767Z"
   },
   {
    "duration": 4,
    "start_time": "2022-09-10T18:31:57.521Z"
   },
   {
    "duration": 5,
    "start_time": "2022-09-10T18:33:30.532Z"
   },
   {
    "duration": 2,
    "start_time": "2022-09-10T18:38:00.269Z"
   },
   {
    "duration": 27,
    "start_time": "2022-09-10T18:38:00.273Z"
   },
   {
    "duration": 11,
    "start_time": "2022-09-10T18:38:00.302Z"
   },
   {
    "duration": 77,
    "start_time": "2022-09-10T18:38:00.314Z"
   },
   {
    "duration": 11,
    "start_time": "2022-09-10T18:38:00.394Z"
   },
   {
    "duration": 28,
    "start_time": "2022-09-10T18:38:00.406Z"
   },
   {
    "duration": 45,
    "start_time": "2022-09-10T18:38:00.436Z"
   },
   {
    "duration": 44,
    "start_time": "2022-09-10T18:38:00.482Z"
   },
   {
    "duration": 26,
    "start_time": "2022-09-10T18:38:00.528Z"
   },
   {
    "duration": 46,
    "start_time": "2022-09-10T18:38:00.555Z"
   },
   {
    "duration": 28,
    "start_time": "2022-09-10T18:38:00.603Z"
   },
   {
    "duration": 32,
    "start_time": "2022-09-10T18:38:00.633Z"
   },
   {
    "duration": 12,
    "start_time": "2022-09-10T18:38:00.667Z"
   },
   {
    "duration": 3,
    "start_time": "2022-09-10T18:38:34.974Z"
   },
   {
    "duration": 5,
    "start_time": "2022-09-10T18:41:05.925Z"
   },
   {
    "duration": 5,
    "start_time": "2022-09-10T18:42:06.384Z"
   },
   {
    "duration": 4,
    "start_time": "2022-09-10T18:44:24.197Z"
   },
   {
    "duration": 3,
    "start_time": "2022-09-10T18:44:24.744Z"
   },
   {
    "duration": 4,
    "start_time": "2022-09-10T18:44:25.354Z"
   },
   {
    "duration": 5,
    "start_time": "2022-09-10T18:44:25.904Z"
   },
   {
    "duration": 4,
    "start_time": "2022-09-10T18:44:26.399Z"
   },
   {
    "duration": 4,
    "start_time": "2022-09-10T18:44:28.373Z"
   },
   {
    "duration": 23,
    "start_time": "2022-09-10T18:47:32.757Z"
   },
   {
    "duration": 24,
    "start_time": "2022-09-10T18:55:18.045Z"
   },
   {
    "duration": 4,
    "start_time": "2022-09-10T18:55:31.388Z"
   },
   {
    "duration": 26,
    "start_time": "2022-09-10T18:55:46.156Z"
   },
   {
    "duration": 4,
    "start_time": "2022-09-10T18:55:50.555Z"
   },
   {
    "duration": 348,
    "start_time": "2022-09-10T18:56:32.464Z"
   },
   {
    "duration": 4,
    "start_time": "2022-09-10T18:57:02.162Z"
   },
   {
    "duration": 44,
    "start_time": "2022-09-10T18:58:17.243Z"
   },
   {
    "duration": 50,
    "start_time": "2022-09-10T18:58:39.837Z"
   },
   {
    "duration": 50,
    "start_time": "2022-09-10T18:58:49.044Z"
   },
   {
    "duration": 40,
    "start_time": "2022-09-10T18:59:53.770Z"
   },
   {
    "duration": 75,
    "start_time": "2022-09-10T19:00:13.267Z"
   },
   {
    "duration": 50,
    "start_time": "2022-09-10T19:00:24.391Z"
   },
   {
    "duration": 130,
    "start_time": "2022-09-10T19:00:34.362Z"
   },
   {
    "duration": 131,
    "start_time": "2022-09-10T19:01:20.585Z"
   },
   {
    "duration": 105,
    "start_time": "2022-09-10T19:01:44.404Z"
   },
   {
    "duration": 10,
    "start_time": "2022-09-10T19:02:19.703Z"
   },
   {
    "duration": 122,
    "start_time": "2022-09-10T19:03:21.447Z"
   },
   {
    "duration": 160,
    "start_time": "2022-09-10T19:03:28.298Z"
   },
   {
    "duration": 114,
    "start_time": "2022-09-10T19:03:46.849Z"
   },
   {
    "duration": 110,
    "start_time": "2022-09-10T19:04:27.755Z"
   },
   {
    "duration": 103,
    "start_time": "2022-09-10T19:05:10.570Z"
   },
   {
    "duration": 311,
    "start_time": "2022-09-10T19:05:23.600Z"
   },
   {
    "duration": 199,
    "start_time": "2022-09-10T19:05:36.285Z"
   },
   {
    "duration": 131,
    "start_time": "2022-09-10T19:05:44.868Z"
   },
   {
    "duration": 161,
    "start_time": "2022-09-10T19:08:47.904Z"
   },
   {
    "duration": 23,
    "start_time": "2022-09-10T19:17:41.370Z"
   },
   {
    "duration": 16,
    "start_time": "2022-09-10T19:18:45.800Z"
   },
   {
    "duration": 33,
    "start_time": "2022-09-10T19:19:07.742Z"
   },
   {
    "duration": 3,
    "start_time": "2022-09-10T19:19:51.709Z"
   },
   {
    "duration": 31,
    "start_time": "2022-09-10T19:20:32.882Z"
   },
   {
    "duration": 4,
    "start_time": "2022-09-10T19:20:35.139Z"
   },
   {
    "duration": 5,
    "start_time": "2022-09-10T19:20:46.060Z"
   },
   {
    "duration": 4,
    "start_time": "2022-09-10T19:20:50.473Z"
   },
   {
    "duration": 4,
    "start_time": "2022-09-10T19:20:51.638Z"
   },
   {
    "duration": 10,
    "start_time": "2022-09-10T19:24:10.987Z"
   },
   {
    "duration": 167,
    "start_time": "2022-09-10T19:24:16.972Z"
   },
   {
    "duration": 154,
    "start_time": "2022-09-10T19:26:46.654Z"
   },
   {
    "duration": 843,
    "start_time": "2022-09-10T19:31:16.950Z"
   },
   {
    "duration": 842,
    "start_time": "2022-09-10T19:31:51.200Z"
   },
   {
    "duration": 861,
    "start_time": "2022-09-10T19:31:57.547Z"
   },
   {
    "duration": 902,
    "start_time": "2022-09-10T19:33:19.820Z"
   },
   {
    "duration": 851,
    "start_time": "2022-09-10T19:33:24.746Z"
   },
   {
    "duration": 820,
    "start_time": "2022-09-10T19:33:29.547Z"
   },
   {
    "duration": 926,
    "start_time": "2022-09-10T19:33:35.720Z"
   },
   {
    "duration": 801,
    "start_time": "2022-09-10T19:34:22.097Z"
   },
   {
    "duration": 842,
    "start_time": "2022-09-10T19:34:26.447Z"
   },
   {
    "duration": 865,
    "start_time": "2022-09-10T19:34:30.763Z"
   },
   {
    "duration": 1025,
    "start_time": "2022-09-10T19:34:37.613Z"
   },
   {
    "duration": 873,
    "start_time": "2022-09-10T19:34:44.449Z"
   },
   {
    "duration": 839,
    "start_time": "2022-09-10T19:34:51.761Z"
   },
   {
    "duration": 986,
    "start_time": "2022-09-10T19:34:56.137Z"
   },
   {
    "duration": 989,
    "start_time": "2022-09-10T19:34:59.872Z"
   },
   {
    "duration": 1021,
    "start_time": "2022-09-10T19:35:05.543Z"
   },
   {
    "duration": 929,
    "start_time": "2022-09-10T19:35:08.845Z"
   },
   {
    "duration": 1250,
    "start_time": "2022-09-10T19:35:18.704Z"
   },
   {
    "duration": 558,
    "start_time": "2022-09-10T19:36:11.170Z"
   },
   {
    "duration": 601,
    "start_time": "2022-09-10T19:36:17.439Z"
   },
   {
    "duration": 527,
    "start_time": "2022-09-10T19:36:24.522Z"
   },
   {
    "duration": 505,
    "start_time": "2022-09-10T19:36:27.546Z"
   },
   {
    "duration": 441,
    "start_time": "2022-09-10T19:36:33.010Z"
   },
   {
    "duration": 486,
    "start_time": "2022-09-10T19:36:41.697Z"
   },
   {
    "duration": 469,
    "start_time": "2022-09-10T19:37:03.547Z"
   },
   {
    "duration": 480,
    "start_time": "2022-09-10T19:37:09.543Z"
   },
   {
    "duration": 437,
    "start_time": "2022-09-10T19:37:14.042Z"
   },
   {
    "duration": 426,
    "start_time": "2022-09-10T19:37:28.959Z"
   },
   {
    "duration": 467,
    "start_time": "2022-09-10T19:37:34.354Z"
   },
   {
    "duration": 591,
    "start_time": "2022-09-10T19:37:40.262Z"
   },
   {
    "duration": 736,
    "start_time": "2022-09-10T19:37:49.961Z"
   },
   {
    "duration": 690,
    "start_time": "2022-09-10T19:37:57.449Z"
   },
   {
    "duration": 569,
    "start_time": "2022-09-10T19:38:08.251Z"
   },
   {
    "duration": 527,
    "start_time": "2022-09-10T19:38:15.393Z"
   },
   {
    "duration": 455,
    "start_time": "2022-09-10T19:38:21.950Z"
   },
   {
    "duration": 438,
    "start_time": "2022-09-10T19:38:27.466Z"
   },
   {
    "duration": 429,
    "start_time": "2022-09-10T19:38:32.654Z"
   },
   {
    "duration": 473,
    "start_time": "2022-09-10T19:38:38.263Z"
   },
   {
    "duration": 532,
    "start_time": "2022-09-10T19:38:44.118Z"
   },
   {
    "duration": 1761,
    "start_time": "2022-09-10T19:41:40.947Z"
   },
   {
    "duration": 1720,
    "start_time": "2022-09-10T19:44:15.492Z"
   },
   {
    "duration": 3,
    "start_time": "2022-09-11T07:42:20.891Z"
   },
   {
    "duration": 6,
    "start_time": "2022-09-11T07:49:49.522Z"
   },
   {
    "duration": 6,
    "start_time": "2022-09-11T07:52:57.199Z"
   },
   {
    "duration": 6,
    "start_time": "2022-09-11T07:53:03.287Z"
   },
   {
    "duration": 3,
    "start_time": "2022-09-11T07:59:19.262Z"
   },
   {
    "duration": 17,
    "start_time": "2022-09-11T07:59:19.267Z"
   },
   {
    "duration": 21,
    "start_time": "2022-09-11T07:59:19.286Z"
   },
   {
    "duration": 34,
    "start_time": "2022-09-11T07:59:19.309Z"
   },
   {
    "duration": 11,
    "start_time": "2022-09-11T07:59:19.346Z"
   },
   {
    "duration": 7,
    "start_time": "2022-09-11T07:59:19.359Z"
   },
   {
    "duration": 17,
    "start_time": "2022-09-11T07:59:19.368Z"
   },
   {
    "duration": 21,
    "start_time": "2022-09-11T07:59:19.387Z"
   },
   {
    "duration": 11,
    "start_time": "2022-09-11T07:59:19.410Z"
   },
   {
    "duration": 15,
    "start_time": "2022-09-11T07:59:19.423Z"
   },
   {
    "duration": 9,
    "start_time": "2022-09-11T07:59:19.439Z"
   },
   {
    "duration": 8,
    "start_time": "2022-09-11T07:59:19.450Z"
   },
   {
    "duration": 6,
    "start_time": "2022-09-11T07:59:19.460Z"
   },
   {
    "duration": 14,
    "start_time": "2022-09-11T07:59:19.469Z"
   },
   {
    "duration": 11,
    "start_time": "2022-09-11T07:59:19.484Z"
   },
   {
    "duration": 6,
    "start_time": "2022-09-11T07:59:19.497Z"
   },
   {
    "duration": 9,
    "start_time": "2022-09-11T07:59:19.505Z"
   },
   {
    "duration": 12,
    "start_time": "2022-09-11T07:59:19.515Z"
   },
   {
    "duration": 5,
    "start_time": "2022-09-11T07:59:19.529Z"
   },
   {
    "duration": 4,
    "start_time": "2022-09-11T07:59:19.547Z"
   },
   {
    "duration": 6,
    "start_time": "2022-09-11T07:59:19.553Z"
   },
   {
    "duration": 38,
    "start_time": "2022-09-11T07:59:19.560Z"
   },
   {
    "duration": 5,
    "start_time": "2022-09-11T07:59:19.599Z"
   },
   {
    "duration": 11,
    "start_time": "2022-09-11T07:59:19.605Z"
   },
   {
    "duration": 236,
    "start_time": "2022-09-11T07:59:19.618Z"
   },
   {
    "duration": 493,
    "start_time": "2022-09-11T07:59:19.856Z"
   },
   {
    "duration": 1725,
    "start_time": "2022-09-11T07:59:20.350Z"
   },
   {
    "duration": 279,
    "start_time": "2022-09-11T07:59:22.076Z"
   },
   {
    "duration": 225,
    "start_time": "2022-09-11T07:59:22.357Z"
   },
   {
    "duration": 7,
    "start_time": "2022-09-11T07:59:22.584Z"
   },
   {
    "duration": 269,
    "start_time": "2022-09-11T08:01:33.488Z"
   },
   {
    "duration": 299,
    "start_time": "2022-09-11T08:01:45.502Z"
   },
   {
    "duration": 1687,
    "start_time": "2022-09-11T08:02:41.236Z"
   },
   {
    "duration": 2,
    "start_time": "2022-09-11T08:03:35.176Z"
   },
   {
    "duration": 8,
    "start_time": "2022-09-11T08:03:35.180Z"
   },
   {
    "duration": 6,
    "start_time": "2022-09-11T08:03:35.189Z"
   },
   {
    "duration": 32,
    "start_time": "2022-09-11T08:03:35.196Z"
   },
   {
    "duration": 10,
    "start_time": "2022-09-11T08:03:35.230Z"
   },
   {
    "duration": 10,
    "start_time": "2022-09-11T08:03:35.241Z"
   },
   {
    "duration": 22,
    "start_time": "2022-09-11T08:03:35.252Z"
   },
   {
    "duration": 10,
    "start_time": "2022-09-11T08:03:35.276Z"
   },
   {
    "duration": 9,
    "start_time": "2022-09-11T08:03:35.287Z"
   },
   {
    "duration": 6,
    "start_time": "2022-09-11T08:03:35.297Z"
   },
   {
    "duration": 5,
    "start_time": "2022-09-11T08:03:35.304Z"
   },
   {
    "duration": 10,
    "start_time": "2022-09-11T08:03:35.310Z"
   },
   {
    "duration": 4,
    "start_time": "2022-09-11T08:03:35.321Z"
   },
   {
    "duration": 17,
    "start_time": "2022-09-11T08:03:35.327Z"
   },
   {
    "duration": 7,
    "start_time": "2022-09-11T08:03:35.346Z"
   },
   {
    "duration": 5,
    "start_time": "2022-09-11T08:03:35.355Z"
   },
   {
    "duration": 10,
    "start_time": "2022-09-11T08:03:35.361Z"
   },
   {
    "duration": 7,
    "start_time": "2022-09-11T08:03:35.373Z"
   },
   {
    "duration": 8,
    "start_time": "2022-09-11T08:03:35.382Z"
   },
   {
    "duration": 13,
    "start_time": "2022-09-11T08:03:35.391Z"
   },
   {
    "duration": 9,
    "start_time": "2022-09-11T08:03:35.405Z"
   },
   {
    "duration": 41,
    "start_time": "2022-09-11T08:03:35.415Z"
   },
   {
    "duration": 3,
    "start_time": "2022-09-11T08:03:35.458Z"
   },
   {
    "duration": 8,
    "start_time": "2022-09-11T08:03:35.463Z"
   },
   {
    "duration": 219,
    "start_time": "2022-09-11T08:03:35.472Z"
   },
   {
    "duration": 469,
    "start_time": "2022-09-11T08:03:35.693Z"
   },
   {
    "duration": 1738,
    "start_time": "2022-09-11T08:03:36.164Z"
   },
   {
    "duration": 296,
    "start_time": "2022-09-11T08:03:37.903Z"
   },
   {
    "duration": 190,
    "start_time": "2022-09-11T08:03:38.201Z"
   },
   {
    "duration": 5,
    "start_time": "2022-09-11T08:03:38.392Z"
   },
   {
    "duration": 173,
    "start_time": "2022-09-11T08:04:07.771Z"
   },
   {
    "duration": 144,
    "start_time": "2022-09-11T08:04:12.990Z"
   },
   {
    "duration": 154,
    "start_time": "2022-09-11T08:04:16.988Z"
   },
   {
    "duration": 3,
    "start_time": "2022-09-11T14:16:00.110Z"
   },
   {
    "duration": 11,
    "start_time": "2022-09-11T14:16:00.115Z"
   },
   {
    "duration": 1452,
    "start_time": "2022-09-11T14:16:00.127Z"
   },
   {
    "duration": 119,
    "start_time": "2022-09-11T14:16:01.581Z"
   },
   {
    "duration": 12,
    "start_time": "2022-09-11T14:16:01.702Z"
   },
   {
    "duration": 19,
    "start_time": "2022-09-11T14:16:01.716Z"
   },
   {
    "duration": 25,
    "start_time": "2022-09-11T14:16:01.737Z"
   },
   {
    "duration": 21,
    "start_time": "2022-09-11T14:16:01.764Z"
   },
   {
    "duration": 15,
    "start_time": "2022-09-11T14:16:01.787Z"
   },
   {
    "duration": 7,
    "start_time": "2022-09-11T14:16:01.804Z"
   },
   {
    "duration": 6,
    "start_time": "2022-09-11T14:16:01.813Z"
   },
   {
    "duration": 12,
    "start_time": "2022-09-11T14:16:01.820Z"
   },
   {
    "duration": 10,
    "start_time": "2022-09-11T14:16:01.834Z"
   },
   {
    "duration": 8,
    "start_time": "2022-09-11T14:16:01.845Z"
   },
   {
    "duration": 10,
    "start_time": "2022-09-11T14:16:01.854Z"
   },
   {
    "duration": 20,
    "start_time": "2022-09-11T14:16:01.865Z"
   },
   {
    "duration": 22,
    "start_time": "2022-09-11T14:16:01.886Z"
   },
   {
    "duration": 19,
    "start_time": "2022-09-11T14:16:01.910Z"
   },
   {
    "duration": 13,
    "start_time": "2022-09-11T14:16:01.931Z"
   },
   {
    "duration": 27,
    "start_time": "2022-09-11T14:16:01.946Z"
   },
   {
    "duration": 10,
    "start_time": "2022-09-11T14:16:01.975Z"
   },
   {
    "duration": 41,
    "start_time": "2022-09-11T14:16:01.986Z"
   },
   {
    "duration": 4,
    "start_time": "2022-09-11T14:16:02.029Z"
   },
   {
    "duration": 13,
    "start_time": "2022-09-11T14:16:02.034Z"
   },
   {
    "duration": 141,
    "start_time": "2022-09-11T14:16:02.048Z"
   },
   {
    "duration": 126,
    "start_time": "2022-09-11T14:16:12.313Z"
   },
   {
    "duration": 746,
    "start_time": "2022-09-11T14:16:50.854Z"
   }
  ],
  "kernelspec": {
   "display_name": "Python 3 (ipykernel)",
   "language": "python",
   "name": "python3"
  },
  "language_info": {
   "codemirror_mode": {
    "name": "ipython",
    "version": 3
   },
   "file_extension": ".py",
   "mimetype": "text/x-python",
   "name": "python",
   "nbconvert_exporter": "python",
   "pygments_lexer": "ipython3",
   "version": "3.9.7"
  },
  "toc": {
   "base_numbering": 1,
   "nav_menu": {},
   "number_sections": true,
   "sideBar": true,
   "skip_h1_title": true,
   "title_cell": "Table of Contents",
   "title_sidebar": "Contents",
   "toc_cell": false,
   "toc_position": {},
   "toc_section_display": true,
   "toc_window_display": false
  }
 },
 "nbformat": 4,
 "nbformat_minor": 2
}
