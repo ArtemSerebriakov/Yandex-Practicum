{
 "cells": [
  {
   "cell_type": "markdown",
   "metadata": {
    "id": "E0vqbgi9ay0H"
   },
   "source": [
    "# Yandex.Music"
   ]
  },
  {
   "cell_type": "markdown",
   "metadata": {
    "id": "VUC88oWjTJw2"
   },
   "source": [
    "The comparison between Moscow and St. Petersburg is surrounded by myths. For example:\n",
    " * Moscow is a megalopolis, subject to the rigid rhythm of the working week;\n",
    " * St. Petersburg is a cultural capital with its own tastes.\n",
    "\n",
    "Using Yandex.Music data, we will compare the behavior of users of the two capitals.\n",
    "\n",
    "**Research Objective** - test three hypotheses:\n",
    "1. user activity depends on the day of the week. And in Moscow and St. Petersburg it manifests itself differently.\n",
    "2. On Monday morning in Moscow some genres prevail, while in St. Petersburg other genres prevail. Similarly, on Friday evening, different genres prevail depending on the city. \n",
    "3. Moscow and St. Petersburg prefer different genres of music. In Moscow they listen to pop music more often, in St. Petersburg - Russian rap.\n",
    "\n",
    "**Study progress**\n",
    "\n",
    "We will get data on user behavior from the `yandex_music_project.csv` file. Nothing is known about the quality of the data. Therefore, we will need a review of the data before testing hypotheses. \n",
    "\n",
    "We will check the data for errors and assess their impact on the study. Then, in the preprocessing phase, We will look for opportunities to correct the most critical data errors.\n",
    " \n",
    "Thus, the study will proceed in three phases:\n",
    " 1. Data review.\n",
    " 2. Data preprocessing.\n",
    " 3. Hypothesis testing."
   ]
  },
  {
   "cell_type": "markdown",
   "metadata": {
    "id": "Ml1hmfXC_Zcs"
   },
   "source": [
    "## Data overview\n",
    "\n",
    "Let's make a first overview of Yandex.Music data.\n",
    "\n",
    "\n"
   ]
  },
  {
   "cell_type": "markdown",
   "metadata": {
    "id": "57eAOGIz_Zcs"
   },
   "source": [
    "The analyst's primary tool is `pandas`. Therefore we should import this library."
   ]
  },
  {
   "cell_type": "code",
   "execution_count": 1,
   "metadata": {
    "id": "AXN7PHPN_Zcs"
   },
   "outputs": [],
   "source": [
    "# import pandas library\n",
    "import pandas as pd"
   ]
  },
  {
   "cell_type": "markdown",
   "metadata": {
    "id": "SG23P8tt_Zcs"
   },
   "source": [
    "Read the `yandex_music_project.csv` file from the `/datasets` folder and save it in the `df` variable:"
   ]
  },
  {
   "cell_type": "code",
   "execution_count": 2,
   "metadata": {
    "id": "fFVu7vqh_Zct"
   },
   "outputs": [],
   "source": [
    "# read the data file and save it to df\n",
    "df = pd.read_csv('/datasets/yandex_music_project.csv')"
   ]
  },
  {
   "cell_type": "markdown",
   "metadata": {
    "id": "rDoOMd3uTqnZ"
   },
   "source": [
    "Display the first ten rows of the table:"
   ]
  },
  {
   "cell_type": "code",
   "execution_count": 3,
   "metadata": {
    "id": "oWTVX3gW_Zct"
   },
   "outputs": [
    {
     "data": {
      "text/html": [
       "<div>\n",
       "<style scoped>\n",
       "    .dataframe tbody tr th:only-of-type {\n",
       "        vertical-align: middle;\n",
       "    }\n",
       "\n",
       "    .dataframe tbody tr th {\n",
       "        vertical-align: top;\n",
       "    }\n",
       "\n",
       "    .dataframe thead th {\n",
       "        text-align: right;\n",
       "    }\n",
       "</style>\n",
       "<table border=\"1\" class=\"dataframe\">\n",
       "  <thead>\n",
       "    <tr style=\"text-align: right;\">\n",
       "      <th></th>\n",
       "      <th>userID</th>\n",
       "      <th>Track</th>\n",
       "      <th>artist</th>\n",
       "      <th>genre</th>\n",
       "      <th>City</th>\n",
       "      <th>time</th>\n",
       "      <th>Day</th>\n",
       "    </tr>\n",
       "  </thead>\n",
       "  <tbody>\n",
       "    <tr>\n",
       "      <th>0</th>\n",
       "      <td>FFB692EC</td>\n",
       "      <td>Kamigata To Boots</td>\n",
       "      <td>The Mass Missile</td>\n",
       "      <td>rock</td>\n",
       "      <td>Saint-Petersburg</td>\n",
       "      <td>20:28:33</td>\n",
       "      <td>Wednesday</td>\n",
       "    </tr>\n",
       "    <tr>\n",
       "      <th>1</th>\n",
       "      <td>55204538</td>\n",
       "      <td>Delayed Because of Accident</td>\n",
       "      <td>Andreas Rönnberg</td>\n",
       "      <td>rock</td>\n",
       "      <td>Moscow</td>\n",
       "      <td>14:07:09</td>\n",
       "      <td>Friday</td>\n",
       "    </tr>\n",
       "    <tr>\n",
       "      <th>2</th>\n",
       "      <td>20EC38</td>\n",
       "      <td>Funiculì funiculà</td>\n",
       "      <td>Mario Lanza</td>\n",
       "      <td>pop</td>\n",
       "      <td>Saint-Petersburg</td>\n",
       "      <td>20:58:07</td>\n",
       "      <td>Wednesday</td>\n",
       "    </tr>\n",
       "    <tr>\n",
       "      <th>3</th>\n",
       "      <td>A3DD03C9</td>\n",
       "      <td>Dragons in the Sunset</td>\n",
       "      <td>Fire + Ice</td>\n",
       "      <td>folk</td>\n",
       "      <td>Saint-Petersburg</td>\n",
       "      <td>08:37:09</td>\n",
       "      <td>Monday</td>\n",
       "    </tr>\n",
       "    <tr>\n",
       "      <th>4</th>\n",
       "      <td>E2DC1FAE</td>\n",
       "      <td>Soul People</td>\n",
       "      <td>Space Echo</td>\n",
       "      <td>dance</td>\n",
       "      <td>Moscow</td>\n",
       "      <td>08:34:34</td>\n",
       "      <td>Monday</td>\n",
       "    </tr>\n",
       "    <tr>\n",
       "      <th>5</th>\n",
       "      <td>842029A1</td>\n",
       "      <td>Преданная</td>\n",
       "      <td>IMPERVTOR</td>\n",
       "      <td>rusrap</td>\n",
       "      <td>Saint-Petersburg</td>\n",
       "      <td>13:09:41</td>\n",
       "      <td>Friday</td>\n",
       "    </tr>\n",
       "    <tr>\n",
       "      <th>6</th>\n",
       "      <td>4CB90AA5</td>\n",
       "      <td>True</td>\n",
       "      <td>Roman Messer</td>\n",
       "      <td>dance</td>\n",
       "      <td>Moscow</td>\n",
       "      <td>13:00:07</td>\n",
       "      <td>Wednesday</td>\n",
       "    </tr>\n",
       "    <tr>\n",
       "      <th>7</th>\n",
       "      <td>F03E1C1F</td>\n",
       "      <td>Feeling This Way</td>\n",
       "      <td>Polina Griffith</td>\n",
       "      <td>dance</td>\n",
       "      <td>Moscow</td>\n",
       "      <td>20:47:49</td>\n",
       "      <td>Wednesday</td>\n",
       "    </tr>\n",
       "    <tr>\n",
       "      <th>8</th>\n",
       "      <td>8FA1D3BE</td>\n",
       "      <td>И вновь продолжается бой</td>\n",
       "      <td>NaN</td>\n",
       "      <td>ruspop</td>\n",
       "      <td>Moscow</td>\n",
       "      <td>09:17:40</td>\n",
       "      <td>Friday</td>\n",
       "    </tr>\n",
       "    <tr>\n",
       "      <th>9</th>\n",
       "      <td>E772D5C0</td>\n",
       "      <td>Pessimist</td>\n",
       "      <td>NaN</td>\n",
       "      <td>dance</td>\n",
       "      <td>Saint-Petersburg</td>\n",
       "      <td>21:20:49</td>\n",
       "      <td>Wednesday</td>\n",
       "    </tr>\n",
       "  </tbody>\n",
       "</table>\n",
       "</div>"
      ],
      "text/plain": [
       "     userID                        Track            artist   genre  \\\n",
       "0  FFB692EC            Kamigata To Boots  The Mass Missile    rock   \n",
       "1  55204538  Delayed Because of Accident  Andreas Rönnberg    rock   \n",
       "2    20EC38            Funiculì funiculà       Mario Lanza     pop   \n",
       "3  A3DD03C9        Dragons in the Sunset        Fire + Ice    folk   \n",
       "4  E2DC1FAE                  Soul People        Space Echo   dance   \n",
       "5  842029A1                    Преданная         IMPERVTOR  rusrap   \n",
       "6  4CB90AA5                         True      Roman Messer   dance   \n",
       "7  F03E1C1F             Feeling This Way   Polina Griffith   dance   \n",
       "8  8FA1D3BE     И вновь продолжается бой               NaN  ruspop   \n",
       "9  E772D5C0                    Pessimist               NaN   dance   \n",
       "\n",
       "             City        time        Day  \n",
       "0  Saint-Petersburg  20:28:33  Wednesday  \n",
       "1            Moscow  14:07:09     Friday  \n",
       "2  Saint-Petersburg  20:58:07  Wednesday  \n",
       "3  Saint-Petersburg  08:37:09     Monday  \n",
       "4            Moscow  08:34:34     Monday  \n",
       "5  Saint-Petersburg  13:09:41     Friday  \n",
       "6            Moscow  13:00:07  Wednesday  \n",
       "7            Moscow  20:47:49  Wednesday  \n",
       "8            Moscow  09:17:40     Friday  \n",
       "9  Saint-Petersburg  21:20:49  Wednesday  "
      ]
     },
     "execution_count": 3,
     "metadata": {},
     "output_type": "execute_result"
    }
   ],
   "source": [
    "# get the first 10 rows of table df\n",
    "df.head(10)"
   ]
  },
  {
   "cell_type": "markdown",
   "metadata": {
    "id": "EO73Kwic_Zct"
   },
   "source": [
    "Get general information about the table with one command :"
   ]
  },
  {
   "cell_type": "code",
   "execution_count": 4,
   "metadata": {
    "id": "DSf2kIb-_Zct"
   },
   "outputs": [
    {
     "name": "stdout",
     "output_type": "stream",
     "text": [
      "<class 'pandas.core.frame.DataFrame'>\n",
      "RangeIndex: 65079 entries, 0 to 65078\n",
      "Data columns (total 7 columns):\n",
      " #   Column    Non-Null Count  Dtype \n",
      "---  ------    --------------  ----- \n",
      " 0     userID  65079 non-null  object\n",
      " 1   Track     63848 non-null  object\n",
      " 2   artist    57876 non-null  object\n",
      " 3   genre     63881 non-null  object\n",
      " 4     City    65079 non-null  object\n",
      " 5   time      65079 non-null  object\n",
      " 6   Day       65079 non-null  object\n",
      "dtypes: object(7)\n",
      "memory usage: 3.5+ MB\n"
     ]
    }
   ],
   "source": [
    "# get general information about the data in table df\n",
    "df.info()"
   ]
  },
  {
   "cell_type": "markdown",
   "metadata": {
    "id": "TaQ2Iwbr_Zct"
   },
   "source": [
    "So, there are seven columns in the table. The data type in all columns is `object`.\n",
    "\n",
    "According to the data documentation:\n",
    "* `userID` - user ID;\n",
    "* `Track` - track name;  \n",
    "* `artist` - artist name;\n",
    "* `genre` - genre name;\n",
    "* `City` - user's city;\n",
    "* `time` - start time of listening;\n",
    "* `Day` - day of the week.\n",
    "\n",
    "Three style violations are visible in the column names:\n",
    "1. Lowercase letters are combined with uppercase letters.\n",
    "2. Spaces occur.\n",
    "3. \"snake_register\" is not respected.\n",
    "\n",
    "\n",
    "\n",
    "The number of values in the columns are different. So, there are missing values in the data."
   ]
  },
  {
   "cell_type": "markdown",
   "metadata": {
    "id": "MCB6-dXG_Zct"
   },
   "source": [
    "**Findings**\n",
    "\n",
    "Each row of the table contains data about the track you listened to. Part of the columns describes the song itself: title, artist and genre. The rest of the data tells about the user: what city he/she is from, when he/she listened to the music. \n",
    "\n",
    "Preliminarily, we can say that, the data is enough to test hypotheses. But there are omissions in the data, and discrepancies with good style in the column names.\n",
    "\n",
    "To move forward, we need to fix the problems in the data."
   ]
  },
  {
   "cell_type": "markdown",
   "metadata": {
    "id": "SjYF6Ub9_Zct"
   },
   "source": [
    "## Data preprocessing\n",
    "Let's correct the style in the column headings, eliminate omissions. Then let's check the data for duplicates."
   ]
  },
  {
   "cell_type": "markdown",
   "metadata": {
    "id": "dIaKXr29_Zct"
   },
   "source": [
    "### Heading Style\n",
    "Display the column titles on the screen:"
   ]
  },
  {
   "cell_type": "code",
   "execution_count": 5,
   "metadata": {
    "id": "oKOTdF_Q_Zct"
   },
   "outputs": [
    {
     "data": {
      "text/plain": [
       "Index(['  userID', 'Track', 'artist', 'genre', '  City  ', 'time', 'Day'], dtype='object')"
      ]
     },
     "execution_count": 5,
     "metadata": {},
     "output_type": "execute_result"
    }
   ],
   "source": [
    "# list of df table column names\n",
    "df.columns"
   ]
  },
  {
   "cell_type": "markdown",
   "metadata": {
    "id": "zj5534cv_Zct"
   },
   "source": [
    "Bring titles into line with good style:\n",
    "* write several words in the title in \"snake_register\",\n",
    "* make all characters lowercase,\n",
    "* eliminate spaces.\n",
    "\n",
    "To do this, rename the columns as follows:\n",
    "* `'  userID'` → `'user_id'`;\n",
    "* `'Track'` → `'track'`;\n",
    "* `'  City  '` → `'city'`;\n",
    "* `'Day'` → `'day'`."
   ]
  },
  {
   "cell_type": "code",
   "execution_count": 6,
   "metadata": {
    "id": "ISlFqs5y_Zct"
   },
   "outputs": [],
   "source": [
    "# column renaming\n",
    "df = df.rename(columns = {df.columns[0]:'user_id',\n",
    "                         df.columns[1]:'track',\n",
    "                         df.columns[-3]:'city',\n",
    "                         df.columns[-1]:'day'})"
   ]
  },
  {
   "cell_type": "markdown",
   "metadata": {
    "id": "1dqbh00J_Zct"
   },
   "source": [
    "Сheck the result. To do this, display the column names on the screen again:"
   ]
  },
  {
   "cell_type": "code",
   "execution_count": 7,
   "metadata": {
    "id": "d4NOAmTW_Zct"
   },
   "outputs": [
    {
     "data": {
      "text/plain": [
       "Index(['user_id', 'track', 'artist', 'genre', 'city', 'time', 'day'], dtype='object')"
      ]
     },
     "execution_count": 7,
     "metadata": {},
     "output_type": "execute_result"
    }
   ],
   "source": [
    "# check results - list of column names\n",
    "df.columns"
   ]
  },
  {
   "cell_type": "markdown",
   "metadata": {
    "id": "5ISfbcfY_Zct"
   },
   "source": [
    "### Missing values\n",
    "First, let's count how many missing values there are in the table. Two `pandas` methods are sufficient for this purpose:"
   ]
  },
  {
   "cell_type": "code",
   "execution_count": 8,
   "metadata": {
    "id": "RskX29qr_Zct"
   },
   "outputs": [
    {
     "data": {
      "text/plain": [
       "user_id       0\n",
       "track      1231\n",
       "artist     7203\n",
       "genre      1198\n",
       "city          0\n",
       "time          0\n",
       "day           0\n",
       "dtype: int64"
      ]
     },
     "execution_count": 8,
     "metadata": {},
     "output_type": "execute_result"
    }
   ],
   "source": [
    "# omission counting\n",
    "df.isna().sum()"
   ]
  },
  {
   "cell_type": "markdown",
   "metadata": {
    "id": "qubhgnlO_Zct"
   },
   "source": [
    "Not all missing values affect the study. So in `track` and `artist` the omissions are not important for your work. It is enough to replace them with explicit designations.\n",
    "\n",
    "But omissions in `genre` may interfere with the comparison of musical tastes in Moscow and St. Petersburg. In practice, it would be correct to establish the reason for the omissions and restore the data. Such a possibility is not available in the study project. We will have to:\n",
    "* fill in these omissions with explicit designations,\n",
    "* assess how much they will damage the calculations."
   ]
  },
  {
   "cell_type": "markdown",
   "metadata": {
    "id": "fSv2laPA_Zct"
   },
   "source": [
    "Replace the missing values in columns `track`, `artist` and `genre` with the string `'unknown'`. To do this, create a `columns_to_replace` list, search its elements by `for` loop and replace missing values for each column:"
   ]
  },
  {
   "cell_type": "code",
   "execution_count": 9,
   "metadata": {
    "id": "KplB5qWs_Zct"
   },
   "outputs": [],
   "source": [
    "# loop through the column names and replace missing values with 'unknown'.\n",
    "columns_to_replace = ['track','artist','genre']\n",
    "for column in columns_to_replace:\n",
    "    df[column] = df[column].fillna('unknown')"
   ]
  },
  {
   "cell_type": "markdown",
   "metadata": {
    "id": "Ilsm-MZo_Zct"
   },
   "source": [
    "Make sure that there are no gaps left in the table. To do this, count the missing values again."
   ]
  },
  {
   "cell_type": "code",
   "execution_count": 10,
   "metadata": {
    "id": "Tq4nYRX4_Zct"
   },
   "outputs": [
    {
     "data": {
      "text/plain": [
       "user_id    0\n",
       "track      0\n",
       "artist     0\n",
       "genre      0\n",
       "city       0\n",
       "time       0\n",
       "day        0\n",
       "dtype: int64"
      ]
     },
     "execution_count": 10,
     "metadata": {},
     "output_type": "execute_result"
    }
   ],
   "source": [
    "# omission counting\n",
    "df.isna().sum()"
   ]
  },
  {
   "cell_type": "markdown",
   "metadata": {
    "id": "BWKRtBJ3_Zct"
   },
   "source": [
    "### Duplicates\n",
    "Count explicit duplicates in a table with a single command:"
   ]
  },
  {
   "cell_type": "code",
   "execution_count": 11,
   "metadata": {
    "id": "36eES_S0_Zct"
   },
   "outputs": [
    {
     "data": {
      "text/plain": [
       "3826"
      ]
     },
     "execution_count": 11,
     "metadata": {},
     "output_type": "execute_result"
    }
   ],
   "source": [
    "# counting obvious duplicates\n",
    "df.duplicated().sum()"
   ]
  },
  {
   "cell_type": "markdown",
   "metadata": {
    "id": "Ot25h6XR_Zct"
   },
   "source": [
    "Call the special `pandas` method to remove obvious duplicates:"
   ]
  },
  {
   "cell_type": "code",
   "execution_count": 12,
   "metadata": {
    "id": "exFHq6tt_Zct"
   },
   "outputs": [],
   "source": [
    "# removal of obvious duplicates (with deletion of old indexes and formation of new ones)\n",
    "df = df.drop_duplicates().reset_index(drop=True)"
   ]
  },
  {
   "cell_type": "markdown",
   "metadata": {
    "id": "Im2YwBEG_Zct"
   },
   "source": [
    "Count the obvious duplicates in the table again - make sure we get rid of them completely:"
   ]
  },
  {
   "cell_type": "code",
   "execution_count": 13,
   "metadata": {
    "id": "-8PuNWQ0_Zct"
   },
   "outputs": [
    {
     "data": {
      "text/plain": [
       "0"
      ]
     },
     "execution_count": 13,
     "metadata": {},
     "output_type": "execute_result"
    }
   ],
   "source": [
    "# check for duplicates\n",
    "df.duplicated().sum()"
   ]
  },
  {
   "cell_type": "markdown",
   "metadata": {
    "id": "QlFBsxAr_Zct"
   },
   "source": [
    "Now let's get rid of implicit duplicates in the `genre` column. For example, the name of the same genre may be written slightly differently. Such errors will also affect the result of the survey."
   ]
  },
  {
   "cell_type": "markdown",
   "metadata": {
    "id": "eSjWwsOh_Zct"
   },
   "source": [
    "Display a list of unique genre titles sorted alphabetically. To do this:\n",
    "* extract the required dataframe column, \n",
    "* apply the sorting method to it,\n",
    "* for the sorted column call the method that will return unique values from the column."
   ]
  },
  {
   "cell_type": "code",
   "execution_count": 14,
   "metadata": {
    "id": "JIUcqzZN_Zct"
   },
   "outputs": [
    {
     "data": {
      "text/plain": [
       "array(['acid', 'acoustic', 'action', 'adult', 'africa', 'afrikaans',\n",
       "       'alternative', 'alternativepunk', 'ambient', 'americana',\n",
       "       'animated', 'anime', 'arabesk', 'arabic', 'arena',\n",
       "       'argentinetango', 'art', 'audiobook', 'author', 'avantgarde',\n",
       "       'axé', 'baile', 'balkan', 'beats', 'bigroom', 'black', 'bluegrass',\n",
       "       'blues', 'bollywood', 'bossa', 'brazilian', 'breakbeat', 'breaks',\n",
       "       'broadway', 'cantautori', 'cantopop', 'canzone', 'caribbean',\n",
       "       'caucasian', 'celtic', 'chamber', 'chanson', 'children', 'chill',\n",
       "       'chinese', 'choral', 'christian', 'christmas', 'classical',\n",
       "       'classicmetal', 'club', 'colombian', 'comedy', 'conjazz',\n",
       "       'contemporary', 'country', 'cuban', 'dance', 'dancehall',\n",
       "       'dancepop', 'dark', 'death', 'deep', 'deutschrock', 'deutschspr',\n",
       "       'dirty', 'disco', 'dnb', 'documentary', 'downbeat', 'downtempo',\n",
       "       'drum', 'dub', 'dubstep', 'eastern', 'easy', 'electronic',\n",
       "       'electropop', 'emo', 'entehno', 'epicmetal', 'estrada', 'ethnic',\n",
       "       'eurofolk', 'european', 'experimental', 'extrememetal', 'fado',\n",
       "       'fairytail', 'film', 'fitness', 'flamenco', 'folk', 'folklore',\n",
       "       'folkmetal', 'folkrock', 'folktronica', 'forró', 'frankreich',\n",
       "       'französisch', 'french', 'funk', 'future', 'gangsta', 'garage',\n",
       "       'german', 'ghazal', 'gitarre', 'glitch', 'gospel', 'gothic',\n",
       "       'grime', 'grunge', 'gypsy', 'handsup', \"hard'n'heavy\", 'hardcore',\n",
       "       'hardstyle', 'hardtechno', 'hip', 'hip-hop', 'hiphop',\n",
       "       'historisch', 'holiday', 'hop', 'horror', 'house', 'hymn', 'idm',\n",
       "       'independent', 'indian', 'indie', 'indipop', 'industrial',\n",
       "       'inspirational', 'instrumental', 'international', 'irish', 'jam',\n",
       "       'japanese', 'jazz', 'jewish', 'jpop', 'jungle', 'k-pop',\n",
       "       'karadeniz', 'karaoke', 'kayokyoku', 'korean', 'laiko', 'latin',\n",
       "       'latino', 'leftfield', 'local', 'lounge', 'loungeelectronic',\n",
       "       'lovers', 'malaysian', 'mandopop', 'marschmusik', 'meditative',\n",
       "       'mediterranean', 'melodic', 'metal', 'metalcore', 'mexican',\n",
       "       'middle', 'minimal', 'miscellaneous', 'modern', 'mood', 'mpb',\n",
       "       'muslim', 'native', 'neoklassik', 'neue', 'new', 'newage',\n",
       "       'newwave', 'nu', 'nujazz', 'numetal', 'oceania', 'old', 'opera',\n",
       "       'orchestral', 'other', 'piano', 'podcasts', 'pop', 'popdance',\n",
       "       'popelectronic', 'popeurodance', 'poprussian', 'post',\n",
       "       'posthardcore', 'postrock', 'power', 'progmetal', 'progressive',\n",
       "       'psychedelic', 'punjabi', 'punk', 'quebecois', 'ragga', 'ram',\n",
       "       'rancheras', 'rap', 'rave', 'reggae', 'reggaeton', 'regional',\n",
       "       'relax', 'religious', 'retro', 'rhythm', 'rnb', 'rnr', 'rock',\n",
       "       'rockabilly', 'rockalternative', 'rockindie', 'rockother',\n",
       "       'romance', 'roots', 'ruspop', 'rusrap', 'rusrock', 'russian',\n",
       "       'salsa', 'samba', 'scenic', 'schlager', 'self', 'sertanejo',\n",
       "       'shanson', 'shoegazing', 'showtunes', 'singer', 'ska', 'skarock',\n",
       "       'slow', 'smooth', 'soft', 'soul', 'soulful', 'sound', 'soundtrack',\n",
       "       'southern', 'specialty', 'speech', 'spiritual', 'sport',\n",
       "       'stonerrock', 'surf', 'swing', 'synthpop', 'synthrock',\n",
       "       'sängerportrait', 'tango', 'tanzorchester', 'taraftar', 'tatar',\n",
       "       'tech', 'techno', 'teen', 'thrash', 'top', 'traditional',\n",
       "       'tradjazz', 'trance', 'tribal', 'trip', 'triphop', 'tropical',\n",
       "       'türk', 'türkçe', 'ukrrock', 'unknown', 'urban', 'uzbek',\n",
       "       'variété', 'vi', 'videogame', 'vocal', 'western', 'world',\n",
       "       'worldbeat', 'ïîï', 'электроника'], dtype=object)"
      ]
     },
     "execution_count": 14,
     "metadata": {},
     "output_type": "execute_result"
    }
   ],
   "source": [
    "# View unique genre titles\n",
    "df.sort_values(by='genre')['genre'].unique()"
   ]
  },
  {
   "cell_type": "markdown",
   "metadata": {
    "id": "qej-Qmuo_Zct"
   },
   "source": [
    "Browse the list and look for implicit duplicates of the title `hiphop`. These may be misspelled titles or alternative titles of the same genre.\n",
    "\n",
    "We will see the following implicit duplicates:\n",
    "* *hip*,\n",
    "* *hip*,\n",
    "* *hip-hop*.\n",
    "\n",
    "To clear them from the table, write the `replace_wrong_genres()` function with two parameters: \n",
    "* `wrong_genres` - list of duplicates,\n",
    "* `correct_genre` - the row with the correct value.\n",
    "\n",
    "The function should correct the `genre` column in the `df` table: replace each value from the `wrong_genres` list with a value from `correct_genre`."
   ]
  },
  {
   "cell_type": "code",
   "execution_count": 15,
   "metadata": {
    "id": "ErNDkmns_Zct"
   },
   "outputs": [],
   "source": [
    "# Function for replacing implicit duplicates\n",
    "def replace_wrong_genres(wrong_genres,correct_genre):\n",
    "    for genre in wrong_genres:\n",
    "        df['genre'] = df['genre'].replace(genre,correct_genre)"
   ]
  },
  {
   "cell_type": "markdown",
   "metadata": {
    "id": "aDoBJxbA_Zct"
   },
   "source": [
    "Call `replace_wrong_genres()` and pass it such arguments that it eliminates implicit duplicates: instead of `hip`, `hop` and `hip-hop`, the table should have the value `hiphop`:"
   ]
  },
  {
   "cell_type": "code",
   "execution_count": 16,
   "metadata": {
    "id": "YN5i2hpmSo09"
   },
   "outputs": [],
   "source": [
    "# Устранение неявных дубликатов\n",
    "replace_wrong_genres(['hip','hop','hip-hop'],'hiphop')"
   ]
  },
  {
   "cell_type": "markdown",
   "metadata": {
    "id": "zQKF16_RG15m"
   },
   "source": [
    "Check that we've replaced the wrong names:\n",
    "\n",
    "* hip\n",
    "* hop\n",
    "* hip-hop\n",
    "\n",
    "Print the sorted list of unique values of the `genre` column:"
   ]
  },
  {
   "cell_type": "code",
   "execution_count": 17,
   "metadata": {
    "id": "wvixALnFG15m"
   },
   "outputs": [
    {
     "data": {
      "text/plain": [
       "array(['acid', 'acoustic', 'action', 'adult', 'africa', 'afrikaans',\n",
       "       'alternative', 'alternativepunk', 'ambient', 'americana',\n",
       "       'animated', 'anime', 'arabesk', 'arabic', 'arena',\n",
       "       'argentinetango', 'art', 'audiobook', 'author', 'avantgarde',\n",
       "       'axé', 'baile', 'balkan', 'beats', 'bigroom', 'black', 'bluegrass',\n",
       "       'blues', 'bollywood', 'bossa', 'brazilian', 'breakbeat', 'breaks',\n",
       "       'broadway', 'cantautori', 'cantopop', 'canzone', 'caribbean',\n",
       "       'caucasian', 'celtic', 'chamber', 'chanson', 'children', 'chill',\n",
       "       'chinese', 'choral', 'christian', 'christmas', 'classical',\n",
       "       'classicmetal', 'club', 'colombian', 'comedy', 'conjazz',\n",
       "       'contemporary', 'country', 'cuban', 'dance', 'dancehall',\n",
       "       'dancepop', 'dark', 'death', 'deep', 'deutschrock', 'deutschspr',\n",
       "       'dirty', 'disco', 'dnb', 'documentary', 'downbeat', 'downtempo',\n",
       "       'drum', 'dub', 'dubstep', 'eastern', 'easy', 'electronic',\n",
       "       'electropop', 'emo', 'entehno', 'epicmetal', 'estrada', 'ethnic',\n",
       "       'eurofolk', 'european', 'experimental', 'extrememetal', 'fado',\n",
       "       'fairytail', 'film', 'fitness', 'flamenco', 'folk', 'folklore',\n",
       "       'folkmetal', 'folkrock', 'folktronica', 'forró', 'frankreich',\n",
       "       'französisch', 'french', 'funk', 'future', 'gangsta', 'garage',\n",
       "       'german', 'ghazal', 'gitarre', 'glitch', 'gospel', 'gothic',\n",
       "       'grime', 'grunge', 'gypsy', 'handsup', \"hard'n'heavy\", 'hardcore',\n",
       "       'hardstyle', 'hardtechno', 'hiphop', 'historisch', 'holiday',\n",
       "       'horror', 'house', 'hymn', 'idm', 'independent', 'indian', 'indie',\n",
       "       'indipop', 'industrial', 'inspirational', 'instrumental',\n",
       "       'international', 'irish', 'jam', 'japanese', 'jazz', 'jewish',\n",
       "       'jpop', 'jungle', 'k-pop', 'karadeniz', 'karaoke', 'kayokyoku',\n",
       "       'korean', 'laiko', 'latin', 'latino', 'leftfield', 'local',\n",
       "       'lounge', 'loungeelectronic', 'lovers', 'malaysian', 'mandopop',\n",
       "       'marschmusik', 'meditative', 'mediterranean', 'melodic', 'metal',\n",
       "       'metalcore', 'mexican', 'middle', 'minimal', 'miscellaneous',\n",
       "       'modern', 'mood', 'mpb', 'muslim', 'native', 'neoklassik', 'neue',\n",
       "       'new', 'newage', 'newwave', 'nu', 'nujazz', 'numetal', 'oceania',\n",
       "       'old', 'opera', 'orchestral', 'other', 'piano', 'podcasts', 'pop',\n",
       "       'popdance', 'popelectronic', 'popeurodance', 'poprussian', 'post',\n",
       "       'posthardcore', 'postrock', 'power', 'progmetal', 'progressive',\n",
       "       'psychedelic', 'punjabi', 'punk', 'quebecois', 'ragga', 'ram',\n",
       "       'rancheras', 'rap', 'rave', 'reggae', 'reggaeton', 'regional',\n",
       "       'relax', 'religious', 'retro', 'rhythm', 'rnb', 'rnr', 'rock',\n",
       "       'rockabilly', 'rockalternative', 'rockindie', 'rockother',\n",
       "       'romance', 'roots', 'ruspop', 'rusrap', 'rusrock', 'russian',\n",
       "       'salsa', 'samba', 'scenic', 'schlager', 'self', 'sertanejo',\n",
       "       'shanson', 'shoegazing', 'showtunes', 'singer', 'ska', 'skarock',\n",
       "       'slow', 'smooth', 'soft', 'soul', 'soulful', 'sound', 'soundtrack',\n",
       "       'southern', 'specialty', 'speech', 'spiritual', 'sport',\n",
       "       'stonerrock', 'surf', 'swing', 'synthpop', 'synthrock',\n",
       "       'sängerportrait', 'tango', 'tanzorchester', 'taraftar', 'tatar',\n",
       "       'tech', 'techno', 'teen', 'thrash', 'top', 'traditional',\n",
       "       'tradjazz', 'trance', 'tribal', 'trip', 'triphop', 'tropical',\n",
       "       'türk', 'türkçe', 'ukrrock', 'unknown', 'urban', 'uzbek',\n",
       "       'variété', 'vi', 'videogame', 'vocal', 'western', 'world',\n",
       "       'worldbeat', 'ïîï', 'электроника'], dtype=object)"
      ]
     },
     "execution_count": 17,
     "metadata": {},
     "output_type": "execute_result"
    }
   ],
   "source": [
    "# Checking for implicit duplicates\n",
    "df.sort_values(by='genre')['genre'].unique()"
   ]
  },
  {
   "cell_type": "markdown",
   "metadata": {
    "id": "jz6a9-7HQUDd"
   },
   "source": [
    "**Conclusions**.\n",
    "\n",
    "Pre-processing found three problems in the data:\n",
    "\n",
    "- irregularities in header style,\n",
    "- missing values,\n",
    "- duplicates, explicit and implicit.\n",
    "\n",
    "We have corrected the headings to make the table easier to work with. Without duplicates, the study will be more accurate.\n",
    "\n",
    "We have replaced the missing values with `'unknown'. It remains to be seen if the omissions in the `genre` column will harm the study.\n",
    "\n",
    "Now we can move on to hypothesis testing. "
   ]
  },
  {
   "cell_type": "markdown",
   "metadata": {
    "id": "WttZHXH0SqKk"
   },
   "source": [
    "## Hypothesis testing"
   ]
  },
  {
   "cell_type": "markdown",
   "metadata": {
    "id": "Im936VVi_Zcu"
   },
   "source": [
    "### Comparison of user behavior of two capitals"
   ]
  },
  {
   "cell_type": "markdown",
   "metadata": {
    "id": "nwt_MuaL_Zcu"
   },
   "source": [
    "The first hypothesis states that users listen to music differently in Moscow and St. Petersburg. Let's test this assumption using data on three days of the week - Monday, Wednesday and Friday. To do this:\n",
    "\n",
    "* Let's divide Moscow and St. Petersburg users\n",
    "* Let's compare how many tracks each user group listened to on Monday, Wednesday and Friday.\n"
   ]
  },
  {
   "cell_type": "markdown",
   "metadata": {
    "id": "8Dw_YMmT_Zcu"
   },
   "source": [
    "For practice, first perform each of the calculations separately. \n",
    "\n",
    "Estimate the user activity in each city. Group the data by city and count the listens in each group.\n",
    "\n"
   ]
  },
  {
   "cell_type": "code",
   "execution_count": 18,
   "metadata": {
    "id": "0_Qs96oh_Zcu"
   },
   "outputs": [
    {
     "data": {
      "text/plain": [
       "city\n",
       "Moscow              42741\n",
       "Saint-Petersburg    18512\n",
       "Name: user_id, dtype: int64"
      ]
     },
     "execution_count": 18,
     "metadata": {},
     "output_type": "execute_result"
    }
   ],
   "source": [
    "# Counting auditions in each city\n",
    "df.groupby('city')['user_id'].count()"
   ]
  },
  {
   "cell_type": "markdown",
   "metadata": {
    "id": "dzli3w8o_Zcu"
   },
   "source": [
    "There are more listens in Moscow than in St. Petersburg. It does not follow that Moscow users listen to music more often. It's just that there are more users in Moscow.\n",
    "\n",
    "Now let's group the data by day of the week and count the listens on Monday, Wednesday and Friday. Keep in mind that the data contains information about the listens for these days only.\n"
   ]
  },
  {
   "cell_type": "code",
   "execution_count": 19,
   "metadata": {
    "id": "uZMKjiJz_Zcu"
   },
   "outputs": [
    {
     "data": {
      "text/plain": [
       "day\n",
       "Friday       21840\n",
       "Monday       21354\n",
       "Wednesday    18059\n",
       "Name: user_id, dtype: int64"
      ]
     },
     "execution_count": 19,
     "metadata": {},
     "output_type": "execute_result"
    }
   ],
   "source": [
    "# Counting auditions on each of the three days\n",
    "df.groupby('day')['user_id'].count()"
   ]
  },
  {
   "cell_type": "markdown",
   "metadata": {
    "id": "cC2tNrlL_Zcu"
   },
   "source": [
    "On average, users from the two cities are less active on Wednesdays. But the picture may change if we look at each city separately."
   ]
  },
  {
   "cell_type": "markdown",
   "metadata": {
    "id": "POzs8bGa_Zcu"
   },
   "source": [
    "We have seen how grouping by city and by day of the week works. Now let's write a function that combines these two calculations.\n",
    "\n",
    "Let's create a function `number_tracks()` that will count the listens for a given day and city. It will need two parameters:\n",
    "* day of the week,\n",
    "* the name of the city.\n",
    "\n",
    "In the function, we should save to a variable the rows of the source table that have the value:\n",
    "  * in the `day` column is equal to the `day` parameter,\n",
    "  * in the `city` column is equal to the `city` parameter.\n",
    "\n",
    "To do this, let's apply sequential filtering with logical indexing.\n",
    "\n",
    "Then count the values in the `user_id` column of the resulting table. Save the result into a new variable. Return this variable from the function."
   ]
  },
  {
   "cell_type": "code",
   "execution_count": 20,
   "metadata": {
    "id": "Nz3GdQB1_Zcu"
   },
   "outputs": [],
   "source": [
    "# A function to calculate the auditions for a specific city and day.\n",
    "# Using sequential filtering with logical indexing, it will \n",
    "# first retrieves the rows with the correct day from the source table,\n",
    "# and then filter out the city rows from the result,\n",
    "# count() method to count the number of values in the user_id column. \n",
    "# The function will return this number as a result\n",
    "\n",
    "def number_tracks(day,city):\n",
    "    track_list = df[df['day'] == day]\n",
    "    track_list = track_list[track_list['city'] == city]\n",
    "    track_list_count = track_list['user_id'].count()\n",
    "    return track_list_count\n"
   ]
  },
  {
   "cell_type": "markdown",
   "metadata": {
    "id": "ytf7xFrFJQ2r"
   },
   "source": [
    "Call `number_tracks()` six times, changing the value of the parameters - so that we get data for each city on each of the three days."
   ]
  },
  {
   "cell_type": "code",
   "execution_count": 21,
   "metadata": {
    "id": "rJcRATNQ_Zcu"
   },
   "outputs": [
    {
     "data": {
      "text/plain": [
       "15740"
      ]
     },
     "execution_count": 21,
     "metadata": {},
     "output_type": "execute_result"
    }
   ],
   "source": [
    "# the number of auditions in Moscow on Mondays\n",
    "number_tracks('Monday','Moscow')"
   ]
  },
  {
   "cell_type": "code",
   "execution_count": 22,
   "metadata": {
    "id": "hq_ncZ5T_Zcu"
   },
   "outputs": [
    {
     "data": {
      "text/plain": [
       "5614"
      ]
     },
     "execution_count": 22,
     "metadata": {},
     "output_type": "execute_result"
    }
   ],
   "source": [
    "# the number of auditions in Saint-Petersburg on Mondays\n",
    "number_tracks('Monday','Saint-Petersburg')"
   ]
  },
  {
   "cell_type": "code",
   "execution_count": 23,
   "metadata": {
    "id": "_NTy2VPU_Zcu"
   },
   "outputs": [
    {
     "data": {
      "text/plain": [
       "11056"
      ]
     },
     "execution_count": 23,
     "metadata": {},
     "output_type": "execute_result"
    }
   ],
   "source": [
    "# the number of auditions in Moscow on Wednesdays\n",
    "number_tracks('Wednesday','Moscow')"
   ]
  },
  {
   "cell_type": "code",
   "execution_count": 24,
   "metadata": {
    "id": "j2y3TAwo_Zcu"
   },
   "outputs": [
    {
     "data": {
      "text/plain": [
       "7003"
      ]
     },
     "execution_count": 24,
     "metadata": {},
     "output_type": "execute_result"
    }
   ],
   "source": [
    "# the number of auditions in Saint-Petersburg on Wednesdays\n",
    "number_tracks('Wednesday','Saint-Petersburg')"
   ]
  },
  {
   "cell_type": "code",
   "execution_count": 25,
   "metadata": {
    "id": "vYDw5u_K_Zcu"
   },
   "outputs": [
    {
     "data": {
      "text/plain": [
       "15945"
      ]
     },
     "execution_count": 25,
     "metadata": {},
     "output_type": "execute_result"
    }
   ],
   "source": [
    "# the number of auditions in Moscow on Fridays\n",
    "number_tracks('Friday','Moscow')"
   ]
  },
  {
   "cell_type": "code",
   "execution_count": 26,
   "metadata": {
    "id": "8_yzFtW3_Zcu"
   },
   "outputs": [
    {
     "data": {
      "text/plain": [
       "5895"
      ]
     },
     "execution_count": 26,
     "metadata": {},
     "output_type": "execute_result"
    }
   ],
   "source": [
    "# the number of auditions in Saint-Petersburg on Wednesdays\n",
    "number_tracks('Friday','Saint-Petersburg')"
   ]
  },
  {
   "cell_type": "markdown",
   "metadata": {
    "id": "7QXffbO-_Zcu"
   },
   "source": [
    "Create a table using the `pd.DataFrame` constructor, where\n",
    "* the column names are `['city', 'monday', 'wednesday', 'friday']`;\n",
    "* the data is the results you got with `number_tracks`."
   ]
  },
  {
   "cell_type": "code",
   "execution_count": 27,
   "metadata": {
    "id": "APAcLpOr_Zcu"
   },
   "outputs": [
    {
     "data": {
      "text/html": [
       "<div>\n",
       "<style scoped>\n",
       "    .dataframe tbody tr th:only-of-type {\n",
       "        vertical-align: middle;\n",
       "    }\n",
       "\n",
       "    .dataframe tbody tr th {\n",
       "        vertical-align: top;\n",
       "    }\n",
       "\n",
       "    .dataframe thead th {\n",
       "        text-align: right;\n",
       "    }\n",
       "</style>\n",
       "<table border=\"1\" class=\"dataframe\">\n",
       "  <thead>\n",
       "    <tr style=\"text-align: right;\">\n",
       "      <th></th>\n",
       "      <th>city</th>\n",
       "      <th>monday</th>\n",
       "      <th>wednesday</th>\n",
       "      <th>friday</th>\n",
       "    </tr>\n",
       "  </thead>\n",
       "  <tbody>\n",
       "    <tr>\n",
       "      <th>0</th>\n",
       "      <td>Moscow</td>\n",
       "      <td>15740</td>\n",
       "      <td>11056</td>\n",
       "      <td>15945</td>\n",
       "    </tr>\n",
       "    <tr>\n",
       "      <th>1</th>\n",
       "      <td>Saint-Petersburg</td>\n",
       "      <td>5614</td>\n",
       "      <td>7003</td>\n",
       "      <td>5895</td>\n",
       "    </tr>\n",
       "  </tbody>\n",
       "</table>\n",
       "</div>"
      ],
      "text/plain": [
       "               city  monday  wednesday  friday\n",
       "0            Moscow   15740      11056   15945\n",
       "1  Saint-Petersburg    5614       7003    5895"
      ]
     },
     "execution_count": 27,
     "metadata": {},
     "output_type": "execute_result"
    }
   ],
   "source": [
    "# Table of results\n",
    "pd.DataFrame(data = [['Moscow',number_tracks('Monday','Moscow'),number_tracks('Wednesday','Moscow'),number_tracks('Friday','Moscow')],\n",
    "                     ['Saint-Petersburg',number_tracks('Monday','Saint-Petersburg'),number_tracks('Wednesday','Saint-Petersburg'),number_tracks('Friday','Saint-Petersburg')]]\n",
    "                      ,columns = ['city', 'monday', 'wednesday', 'friday'])"
   ]
  },
  {
   "cell_type": "markdown",
   "metadata": {
    "id": "-EgPIHYu_Zcu"
   },
   "source": [
    "**Findings**.\n",
    "\n",
    "The data shows the difference in user behavior:\n",
    "\n",
    "- In Moscow, listening peaks on Monday and Friday, with a noticeable decline on Wednesday.\n",
    "- In St. Petersburg, on the contrary, more people listen to music on Wednesdays. The activity on Monday and Friday is almost equally inferior to Wednesday.\n",
    "\n",
    "So the data are in favor of the first hypothesis."
   ]
  },
  {
   "cell_type": "markdown",
   "metadata": {
    "id": "atZAxtq4_Zcu"
   },
   "source": [
    "### Music at the beginning and end of the week"
   ]
  },
  {
   "cell_type": "markdown",
   "metadata": {
    "id": "eXrQqXFH_Zcu"
   },
   "source": [
    "According to the second hypothesis, on Monday morning in Moscow certain genres prevail, and in St. Petersburg other genres prevail. In the same way, different genres prevail on Friday evenings, depending on the city."
   ]
  },
  {
   "cell_type": "markdown",
   "metadata": {
    "id": "S8UcW6Hw_Zcu"
   },
   "source": [
    "Save the tables with data into two variables:\n",
    "* for Moscow - in `moscow_general`;\n",
    "* for St. Petersburg - in `spb_general`."
   ]
  },
  {
   "cell_type": "code",
   "execution_count": 28,
   "metadata": {
    "id": "qeaFfM_P_Zcu"
   },
   "outputs": [],
   "source": [
    "# get table moscow_general from those rows of table df, \n",
    "# for which the value in the 'city' column is equal to 'Moscow'\n",
    "moscow_general = df[df['city'] == 'Moscow']"
   ]
  },
  {
   "cell_type": "code",
   "execution_count": 29,
   "metadata": {
    "id": "ORaVRKto_Zcu"
   },
   "outputs": [],
   "source": [
    "# get table moscow_general from those rows of table df, \n",
    "# for which the value in the 'city' column is equal to 'Saint-Petersburg'\n",
    "spb_general = df[df['city'] == 'Saint-Petersburg']"
   ]
  },
  {
   "cell_type": "markdown",
   "metadata": {
    "id": "MEJV-CX2_Zcu"
   },
   "source": [
    "Create a `genre_weekday()` function with four parameters:\n",
    "* a table (dataframe) with the data,\n",
    "* day of the week,\n",
    "* initial timestamp in the format 'hh:mm', \n",
    "* last timestamp in the format 'hh:mm'.\n",
    "\n",
    "The function should return information about the top 10 genres of those tracks listened to on the specified day, between the two time stamps."
   ]
  },
  {
   "cell_type": "code",
   "execution_count": 30,
   "metadata": {
    "id": "laJT9BYl_Zcu"
   },
   "outputs": [],
   "source": [
    "# Declare a genre_weekday() function with parameters table, day, time1, time2,\n",
    "# which returns information about the most popular genres on a given day at a given time.\n",
    "# specified time:\n",
    "def genre_weekday(table, day, time1, time2):\n",
    "\n",
    "    genre_df = table[table['day'] == day]\n",
    "    genre_df = genre_df[genre_df['time'] > time1]\n",
    "    genre_df = genre_df[genre_df['time'] < time2]\n",
    "\n",
    "    genre_df_count = genre_df.groupby('genre')['day'].count()\n",
    "\n",
    "    genre_df_sorted = genre_df_count.sort_values(ascending = False)\n",
    "\n",
    "    return genre_df_sorted.head(10)"
   ]
  },
  {
   "cell_type": "markdown",
   "metadata": {
    "id": "la2s2_PF_Zcu"
   },
   "source": [
    "Compare the results of the `genre_weekday()` function for Moscow and St. Petersburg on Monday morning (from 7:00 to 11:00) and Friday evening (from 17:00 to 23:00):"
   ]
  },
  {
   "cell_type": "code",
   "execution_count": 31,
   "metadata": {
    "id": "yz7itPUQ_Zcu"
   },
   "outputs": [
    {
     "data": {
      "text/plain": [
       "genre\n",
       "pop            781\n",
       "dance          549\n",
       "electronic     480\n",
       "rock           474\n",
       "hiphop         286\n",
       "ruspop         186\n",
       "world          181\n",
       "rusrap         175\n",
       "alternative    164\n",
       "unknown        161\n",
       "Name: day, dtype: int64"
      ]
     },
     "execution_count": 31,
     "metadata": {},
     "output_type": "execute_result"
    }
   ],
   "source": [
    "# function call for Monday morning in Moscow\n",
    "genre_weekday(moscow_general, 'Monday', '07:00', '11:00')"
   ]
  },
  {
   "cell_type": "code",
   "execution_count": 32,
   "metadata": {
    "id": "kwUcHPdy_Zcu"
   },
   "outputs": [
    {
     "data": {
      "text/plain": [
       "genre\n",
       "pop            218\n",
       "dance          182\n",
       "rock           162\n",
       "electronic     147\n",
       "hiphop          80\n",
       "ruspop          64\n",
       "alternative     58\n",
       "rusrap          55\n",
       "jazz            44\n",
       "classical       40\n",
       "Name: day, dtype: int64"
      ]
     },
     "execution_count": 32,
     "metadata": {},
     "output_type": "execute_result"
    }
   ],
   "source": [
    "## function call for Monday morning in St. Petersburg\n",
    "genre_weekday(spb_general, 'Monday', '07:00', '11:00')"
   ]
  },
  {
   "cell_type": "code",
   "execution_count": 33,
   "metadata": {
    "id": "EzXVRE1o_Zcu"
   },
   "outputs": [
    {
     "data": {
      "text/plain": [
       "genre\n",
       "pop            713\n",
       "rock           517\n",
       "dance          495\n",
       "electronic     482\n",
       "hiphop         273\n",
       "world          208\n",
       "ruspop         170\n",
       "alternative    163\n",
       "classical      163\n",
       "rusrap         142\n",
       "Name: day, dtype: int64"
      ]
     },
     "execution_count": 33,
     "metadata": {},
     "output_type": "execute_result"
    }
   ],
   "source": [
    "# function call for Friday evening in Moscow\n",
    "genre_weekday(moscow_general, 'Friday', '17:00', '23:00')"
   ]
  },
  {
   "cell_type": "code",
   "execution_count": 34,
   "metadata": {
    "id": "JZaEKu5v_Zcu"
   },
   "outputs": [
    {
     "data": {
      "text/plain": [
       "genre\n",
       "pop            256\n",
       "electronic     216\n",
       "rock           216\n",
       "dance          210\n",
       "hiphop          97\n",
       "alternative     63\n",
       "jazz            61\n",
       "classical       60\n",
       "rusrap          59\n",
       "world           54\n",
       "Name: day, dtype: int64"
      ]
     },
     "execution_count": 34,
     "metadata": {},
     "output_type": "execute_result"
    }
   ],
   "source": [
    "# function call for Friday evening in St. Petersburg\n",
    "genre_weekday(spb_general, 'Friday', '17:00', '23:00')"
   ]
  },
  {
   "cell_type": "markdown",
   "metadata": {
    "id": "wrCe4MNX_Zcu"
   },
   "source": [
    "**Findings**.\n",
    "\n",
    "If we compare the top 10 genres on Monday morning, we can draw these conclusions:\n",
    "\n",
    "1. People in Moscow and St. Petersburg listen to similar music. The only difference is that the Moscow rating includes the genre \"world\", while the St. Petersburg rating includes jazz and classical.\n",
    "\n",
    "2. In Moscow there were so many missing values that `'unknown'` took the tenth place among the most popular genres. This means that the missing values take up a significant proportion of the data and threaten the validity of the study.\n",
    "\n",
    "Friday night doesn't change this picture. Some genres rise a little higher, others come down, but overall the top 10 remains the same.\n",
    "\n",
    "Thus, the second hypothesis is only partially confirmed:\n",
    "* Users listen to similar music at the beginning of the week and at the end.\n",
    "* The difference between Moscow and St. Petersburg is not too pronounced. In Moscow, Russian popular music is listened to more often, in St. Petersburg - jazz.\n",
    "\n",
    "However, omissions in the data cast doubt on this result. There are so many of them in Moscow that the top-10 ranking could look different if it were not for the missing data on genres."
   ]
  },
  {
   "cell_type": "markdown",
   "metadata": {
    "id": "JolODAqr_Zcu"
   },
   "source": [
    "### Genre preferences in Moscow and St. Petersburg\n",
    "\n",
    "Hypothesis: St. Petersburg is the capital of rap music, and music of this genre is listened to there more often than in Moscow.  And Moscow is a city of contrasts, in which, however, pop music prevails."
   ]
  },
  {
   "cell_type": "markdown",
   "metadata": {
    "id": "DlegSvaT_Zcu"
   },
   "source": [
    "Group the `moscow_general` table by genre and count the track listens of each genre using the `count()` method. Then sort the result in descending order and store it in the `moscow_genres` table."
   ]
  },
  {
   "cell_type": "code",
   "execution_count": 35,
   "metadata": {
    "id": "r19lIPke_Zcu"
   },
   "outputs": [],
   "source": [
    "moscow_genres = moscow_general.groupby('genre')['genre'].count().sort_values(ascending = False)"
   ]
  },
  {
   "cell_type": "markdown",
   "metadata": {
    "id": "6kMuomxTiIr8"
   },
   "source": [
    "Print the first ten lines of `moscow_genres`:"
   ]
  },
  {
   "cell_type": "code",
   "execution_count": 36,
   "metadata": {
    "id": "WhCSooF8_Zcv"
   },
   "outputs": [
    {
     "data": {
      "text/plain": [
       "genre\n",
       "pop            5892\n",
       "dance          4435\n",
       "rock           3965\n",
       "electronic     3786\n",
       "hiphop         2096\n",
       "classical      1616\n",
       "world          1432\n",
       "alternative    1379\n",
       "ruspop         1372\n",
       "rusrap         1161\n",
       "Name: genre, dtype: int64"
      ]
     },
     "execution_count": 36,
     "metadata": {},
     "output_type": "execute_result"
    }
   ],
   "source": [
    "moscow_genres.head(10)"
   ]
  },
  {
   "cell_type": "markdown",
   "metadata": {
    "id": "cnPG2vnN_Zcv"
   },
   "source": [
    "Now repeat the same for St. Petersburg.\n",
    "\n",
    "Group the `spb_general` table by genre. Count the listens of tracks of each genre. Sort the result in descending order and save it in the `spb_genres` table:"
   ]
  },
  {
   "cell_type": "code",
   "execution_count": 37,
   "metadata": {
    "id": "gluLIpE7_Zcv"
   },
   "outputs": [],
   "source": [
    "spb_genres = spb_general.groupby('genre')['genre'].count().sort_values(ascending = False)"
   ]
  },
  {
   "cell_type": "markdown",
   "metadata": {
    "id": "5Doha_ODgyQ8"
   },
   "source": [
    "Print the first ten lines of `spb_genres`:"
   ]
  },
  {
   "cell_type": "code",
   "execution_count": 38,
   "metadata": {
    "id": "uaGJHjVU_Zcv"
   },
   "outputs": [
    {
     "data": {
      "text/plain": [
       "genre\n",
       "pop            2431\n",
       "dance          1932\n",
       "rock           1879\n",
       "electronic     1736\n",
       "hiphop          960\n",
       "alternative     649\n",
       "classical       646\n",
       "rusrap          564\n",
       "ruspop          538\n",
       "world           515\n",
       "Name: genre, dtype: int64"
      ]
     },
     "execution_count": 38,
     "metadata": {},
     "output_type": "execute_result"
    }
   ],
   "source": [
    "spb_genres.head(10)"
   ]
  },
  {
   "cell_type": "markdown",
   "metadata": {
    "id": "nVhnJEm__Zcv"
   },
   "source": [
    "**Conclusions**.\n",
    "\n",
    "The hypothesis was partially confirmed:\n",
    "* Pop music is the most popular genre in Moscow, as the hypothesis suggested. Moreover, a close genre - Russian popular music - is found in the top 10 genres.\n",
    "* Contrary to expectations, rap is equally popular in Moscow and St. Petersburg."
   ]
  },
  {
   "cell_type": "markdown",
   "metadata": {
    "id": "ykKQ0N65_Zcv"
   },
   "source": [
    "## Survey Results"
   ]
  },
  {
   "cell_type": "markdown",
   "metadata": {
    "id": "tjUwbHb3_Zcv"
   },
   "source": [
    "You have tested three hypotheses and established:\n",
    "\n",
    "1. The day of the week has a different effect on user activity in Moscow and St. Petersburg. \n",
    "\n",
    "The first hypothesis is completely confirmed.\n",
    "\n",
    "2. Music preferences do not change much during the week, whether in Moscow or St. Petersburg. Small differences are noticeable at the beginning of the week, on Mondays:\n",
    "* in Moscow they listen to music of the \"world\" genre,\n",
    "* in St. Petersburg - jazz and classical.\n",
    "\n",
    "Thus, the second hypothesis was only partially confirmed. This result could have been different if there had not been omissions in the data.\n",
    "\n",
    "3. There are more similarities than differences in the tastes of Moscow and St. Petersburg users. Contrary to expectations, genre preferences in St. Petersburg resemble those in Moscow.\n",
    "\n",
    "The third hypothesis was not confirmed. If there are differences in preferences, they are unnoticeable for the bulk of users.\n"
   ]
  }
 ],
 "metadata": {
  "ExecuteTimeLog": [
   {
    "duration": 384,
    "start_time": "2022-04-03T14:41:25.138Z"
   },
   {
    "duration": 293,
    "start_time": "2022-04-03T14:42:10.145Z"
   },
   {
    "duration": 30,
    "start_time": "2022-04-03T14:43:19.905Z"
   },
   {
    "duration": 29,
    "start_time": "2022-04-03T14:43:41.987Z"
   },
   {
    "duration": 3,
    "start_time": "2022-04-03T14:49:58.270Z"
   },
   {
    "duration": 11,
    "start_time": "2022-04-03T14:55:29.357Z"
   },
   {
    "duration": 3,
    "start_time": "2022-04-03T14:55:41.638Z"
   },
   {
    "duration": 62,
    "start_time": "2022-04-03T14:57:16.756Z"
   },
   {
    "duration": 24,
    "start_time": "2022-04-03T14:57:30.429Z"
   },
   {
    "duration": 1668,
    "start_time": "2022-04-03T15:09:13.617Z"
   },
   {
    "duration": 12,
    "start_time": "2022-04-03T15:12:10.882Z"
   },
   {
    "duration": 4,
    "start_time": "2022-04-03T15:12:13.473Z"
   },
   {
    "duration": 438,
    "start_time": "2022-04-03T15:16:03.993Z"
   },
   {
    "duration": 169,
    "start_time": "2022-04-03T15:16:04.433Z"
   },
   {
    "duration": 19,
    "start_time": "2022-04-03T15:16:04.604Z"
   },
   {
    "duration": 31,
    "start_time": "2022-04-03T15:16:04.626Z"
   },
   {
    "duration": 4,
    "start_time": "2022-04-03T15:16:04.659Z"
   },
   {
    "duration": 67,
    "start_time": "2022-04-03T15:16:10.639Z"
   },
   {
    "duration": 16,
    "start_time": "2022-04-03T15:17:33.231Z"
   },
   {
    "duration": 4,
    "start_time": "2022-04-03T15:17:35.990Z"
   },
   {
    "duration": 24,
    "start_time": "2022-04-03T15:17:41.990Z"
   },
   {
    "duration": 21,
    "start_time": "2022-04-03T15:17:45.183Z"
   },
   {
    "duration": 7,
    "start_time": "2022-04-03T15:18:12.107Z"
   },
   {
    "duration": 26,
    "start_time": "2022-04-03T15:18:17.907Z"
   },
   {
    "duration": 64,
    "start_time": "2022-04-03T15:20:57.800Z"
   },
   {
    "duration": 71,
    "start_time": "2022-04-03T15:24:38.553Z"
   },
   {
    "duration": 56,
    "start_time": "2022-04-03T15:25:06.568Z"
   },
   {
    "duration": 9,
    "start_time": "2022-04-03T15:28:16.053Z"
   },
   {
    "duration": 47,
    "start_time": "2022-04-03T15:39:04.738Z"
   },
   {
    "duration": 48,
    "start_time": "2022-04-03T15:39:28.732Z"
   },
   {
    "duration": 3,
    "start_time": "2022-04-03T15:48:10.046Z"
   },
   {
    "duration": 3,
    "start_time": "2022-04-03T15:58:37.237Z"
   },
   {
    "duration": 8,
    "start_time": "2022-04-03T16:00:11.274Z"
   },
   {
    "duration": 12,
    "start_time": "2022-04-03T16:00:29.061Z"
   },
   {
    "duration": 12,
    "start_time": "2022-04-03T16:01:00.220Z"
   },
   {
    "duration": 12,
    "start_time": "2022-04-03T16:15:21.314Z"
   },
   {
    "duration": 1545,
    "start_time": "2022-04-03T16:21:48.563Z"
   },
   {
    "duration": 3,
    "start_time": "2022-04-03T16:27:44.038Z"
   },
   {
    "duration": 32,
    "start_time": "2022-04-03T16:27:49.727Z"
   },
   {
    "duration": 3,
    "start_time": "2022-04-03T16:28:23.568Z"
   },
   {
    "duration": 13,
    "start_time": "2022-04-03T16:28:40.144Z"
   },
   {
    "duration": 4,
    "start_time": "2022-04-03T16:29:23.151Z"
   },
   {
    "duration": 14,
    "start_time": "2022-04-03T16:29:25.891Z"
   },
   {
    "duration": 3,
    "start_time": "2022-04-03T16:40:48.347Z"
   },
   {
    "duration": 11,
    "start_time": "2022-04-03T16:40:51.285Z"
   },
   {
    "duration": 3,
    "start_time": "2022-04-03T16:43:12.094Z"
   },
   {
    "duration": 9,
    "start_time": "2022-04-03T16:43:15.216Z"
   },
   {
    "duration": 51,
    "start_time": "2022-04-03T16:43:39.866Z"
   },
   {
    "duration": 35,
    "start_time": "2022-04-03T18:00:51.755Z"
   },
   {
    "duration": 13,
    "start_time": "2022-04-03T18:02:08.868Z"
   },
   {
    "duration": 12,
    "start_time": "2022-04-03T18:03:14.879Z"
   },
   {
    "duration": 6,
    "start_time": "2022-04-03T18:15:43.594Z"
   },
   {
    "duration": 3,
    "start_time": "2022-04-03T18:15:53.850Z"
   },
   {
    "duration": 15,
    "start_time": "2022-04-03T18:15:56.280Z"
   },
   {
    "duration": 4,
    "start_time": "2022-04-03T18:16:08.050Z"
   },
   {
    "duration": 16,
    "start_time": "2022-04-03T18:16:10.399Z"
   },
   {
    "duration": 3,
    "start_time": "2022-04-03T18:16:18.339Z"
   },
   {
    "duration": 17,
    "start_time": "2022-04-03T18:16:20.611Z"
   },
   {
    "duration": 15,
    "start_time": "2022-04-03T18:17:11.178Z"
   },
   {
    "duration": 17,
    "start_time": "2022-04-03T18:17:33.720Z"
   },
   {
    "duration": 19,
    "start_time": "2022-04-03T18:18:04.792Z"
   },
   {
    "duration": 16,
    "start_time": "2022-04-03T18:18:31.069Z"
   },
   {
    "duration": 16,
    "start_time": "2022-04-03T18:18:51.542Z"
   },
   {
    "duration": 10,
    "start_time": "2022-04-03T18:21:03.769Z"
   },
   {
    "duration": 9,
    "start_time": "2022-04-03T18:21:31.834Z"
   },
   {
    "duration": 80,
    "start_time": "2022-04-03T18:25:18.582Z"
   },
   {
    "duration": 149,
    "start_time": "2022-04-03T18:29:13.788Z"
   },
   {
    "duration": 14,
    "start_time": "2022-04-03T18:29:22.991Z"
   },
   {
    "duration": 15,
    "start_time": "2022-04-03T18:29:27.556Z"
   },
   {
    "duration": 16,
    "start_time": "2022-04-03T18:29:45.919Z"
   },
   {
    "duration": 387,
    "start_time": "2022-04-03T18:34:28.371Z"
   },
   {
    "duration": 162,
    "start_time": "2022-04-03T18:34:28.761Z"
   },
   {
    "duration": 21,
    "start_time": "2022-04-03T18:34:28.925Z"
   },
   {
    "duration": 30,
    "start_time": "2022-04-03T18:34:28.948Z"
   },
   {
    "duration": 29,
    "start_time": "2022-04-03T18:34:28.980Z"
   },
   {
    "duration": 17,
    "start_time": "2022-04-03T18:34:29.011Z"
   },
   {
    "duration": 6,
    "start_time": "2022-04-03T18:34:29.030Z"
   },
   {
    "duration": 49,
    "start_time": "2022-04-03T18:34:29.038Z"
   },
   {
    "duration": 31,
    "start_time": "2022-04-03T18:34:29.110Z"
   },
   {
    "duration": 36,
    "start_time": "2022-04-03T18:34:29.144Z"
   },
   {
    "duration": 92,
    "start_time": "2022-04-03T18:34:29.182Z"
   },
   {
    "duration": 105,
    "start_time": "2022-04-03T18:34:29.276Z"
   },
   {
    "duration": 73,
    "start_time": "2022-04-03T18:34:29.383Z"
   },
   {
    "duration": 69,
    "start_time": "2022-04-03T18:34:29.458Z"
   },
   {
    "duration": 2,
    "start_time": "2022-04-03T18:34:35.555Z"
   },
   {
    "duration": 67,
    "start_time": "2022-04-03T18:34:37.282Z"
   },
   {
    "duration": 427,
    "start_time": "2022-04-03T18:35:44.330Z"
   },
   {
    "duration": 146,
    "start_time": "2022-04-03T18:35:44.759Z"
   },
   {
    "duration": 18,
    "start_time": "2022-04-03T18:35:44.908Z"
   },
   {
    "duration": 34,
    "start_time": "2022-04-03T18:35:44.928Z"
   },
   {
    "duration": 6,
    "start_time": "2022-04-03T18:35:44.966Z"
   },
   {
    "duration": 24,
    "start_time": "2022-04-03T18:35:45.008Z"
   },
   {
    "duration": 10,
    "start_time": "2022-04-03T18:35:45.034Z"
   },
   {
    "duration": 46,
    "start_time": "2022-04-03T18:35:45.046Z"
   },
   {
    "duration": 30,
    "start_time": "2022-04-03T18:35:45.094Z"
   },
   {
    "duration": 23,
    "start_time": "2022-04-03T18:35:45.126Z"
   },
   {
    "duration": 84,
    "start_time": "2022-04-03T18:35:45.151Z"
   },
   {
    "duration": 85,
    "start_time": "2022-04-03T18:35:45.237Z"
   },
   {
    "duration": 58,
    "start_time": "2022-04-03T18:35:45.324Z"
   },
   {
    "duration": 70,
    "start_time": "2022-04-03T18:35:45.385Z"
   },
   {
    "duration": 3,
    "start_time": "2022-04-03T18:35:58.209Z"
   },
   {
    "duration": 9,
    "start_time": "2022-04-03T18:35:59.981Z"
   },
   {
    "duration": 51,
    "start_time": "2022-04-03T18:36:04.190Z"
   },
   {
    "duration": 408,
    "start_time": "2022-04-03T18:36:20.613Z"
   },
   {
    "duration": 152,
    "start_time": "2022-04-03T18:36:21.023Z"
   },
   {
    "duration": 19,
    "start_time": "2022-04-03T18:36:21.177Z"
   },
   {
    "duration": 30,
    "start_time": "2022-04-03T18:36:21.208Z"
   },
   {
    "duration": 4,
    "start_time": "2022-04-03T18:36:21.240Z"
   },
   {
    "duration": 13,
    "start_time": "2022-04-03T18:36:21.246Z"
   },
   {
    "duration": 6,
    "start_time": "2022-04-03T18:36:21.261Z"
   },
   {
    "duration": 56,
    "start_time": "2022-04-03T18:36:21.268Z"
   },
   {
    "duration": 20,
    "start_time": "2022-04-03T18:36:21.325Z"
   },
   {
    "duration": 25,
    "start_time": "2022-04-03T18:36:21.347Z"
   },
   {
    "duration": 91,
    "start_time": "2022-04-03T18:36:21.374Z"
   },
   {
    "duration": 83,
    "start_time": "2022-04-03T18:36:21.467Z"
   },
   {
    "duration": 69,
    "start_time": "2022-04-03T18:36:21.552Z"
   },
   {
    "duration": 51,
    "start_time": "2022-04-03T18:36:21.624Z"
   },
   {
    "duration": 4,
    "start_time": "2022-04-03T18:36:21.677Z"
   },
   {
    "duration": 27,
    "start_time": "2022-04-03T18:36:21.683Z"
   },
   {
    "duration": 49,
    "start_time": "2022-04-03T18:36:21.712Z"
   },
   {
    "duration": 12,
    "start_time": "2022-04-03T18:36:21.762Z"
   },
   {
    "duration": 37,
    "start_time": "2022-04-03T18:36:21.776Z"
   },
   {
    "duration": 4,
    "start_time": "2022-04-03T18:36:21.815Z"
   },
   {
    "duration": 19,
    "start_time": "2022-04-03T18:36:21.821Z"
   },
   {
    "duration": 16,
    "start_time": "2022-04-03T18:36:21.843Z"
   },
   {
    "duration": 50,
    "start_time": "2022-04-03T18:36:21.861Z"
   },
   {
    "duration": 13,
    "start_time": "2022-04-03T18:36:21.913Z"
   },
   {
    "duration": 15,
    "start_time": "2022-04-03T18:36:21.928Z"
   },
   {
    "duration": 14,
    "start_time": "2022-04-03T18:36:21.945Z"
   },
   {
    "duration": 104,
    "start_time": "2022-04-03T18:36:21.960Z"
   },
   {
    "duration": 11,
    "start_time": "2022-04-03T18:36:22.066Z"
   },
   {
    "duration": 11,
    "start_time": "2022-04-03T18:36:22.078Z"
   },
   {
    "duration": 91,
    "start_time": "2022-04-03T18:45:17.192Z"
   },
   {
    "duration": 4,
    "start_time": "2022-04-03T18:45:45.023Z"
   },
   {
    "duration": 10,
    "start_time": "2022-04-03T18:46:23.256Z"
   },
   {
    "duration": 12,
    "start_time": "2022-04-03T18:46:24.917Z"
   },
   {
    "duration": 419,
    "start_time": "2022-04-03T18:46:48.287Z"
   },
   {
    "duration": 143,
    "start_time": "2022-04-03T18:46:48.709Z"
   },
   {
    "duration": 17,
    "start_time": "2022-04-03T18:46:48.853Z"
   },
   {
    "duration": 40,
    "start_time": "2022-04-03T18:46:48.872Z"
   },
   {
    "duration": 4,
    "start_time": "2022-04-03T18:46:48.914Z"
   },
   {
    "duration": 11,
    "start_time": "2022-04-03T18:46:48.919Z"
   },
   {
    "duration": 5,
    "start_time": "2022-04-03T18:46:48.932Z"
   },
   {
    "duration": 26,
    "start_time": "2022-04-03T18:46:48.938Z"
   },
   {
    "duration": 22,
    "start_time": "2022-04-03T18:46:48.965Z"
   },
   {
    "duration": 25,
    "start_time": "2022-04-03T18:46:49.008Z"
   },
   {
    "duration": 76,
    "start_time": "2022-04-03T18:46:49.034Z"
   },
   {
    "duration": 77,
    "start_time": "2022-04-03T18:46:49.112Z"
   },
   {
    "duration": 71,
    "start_time": "2022-04-03T18:46:49.191Z"
   },
   {
    "duration": 59,
    "start_time": "2022-04-03T18:46:49.264Z"
   },
   {
    "duration": 3,
    "start_time": "2022-04-03T18:46:49.325Z"
   },
   {
    "duration": 14,
    "start_time": "2022-04-03T18:46:49.329Z"
   },
   {
    "duration": 52,
    "start_time": "2022-04-03T18:46:49.344Z"
   },
   {
    "duration": 21,
    "start_time": "2022-04-03T18:46:49.397Z"
   },
   {
    "duration": 11,
    "start_time": "2022-04-03T18:46:49.419Z"
   },
   {
    "duration": 4,
    "start_time": "2022-04-03T18:46:49.431Z"
   },
   {
    "duration": 19,
    "start_time": "2022-04-03T18:46:49.436Z"
   },
   {
    "duration": 14,
    "start_time": "2022-04-03T18:46:49.457Z"
   },
   {
    "duration": 43,
    "start_time": "2022-04-03T18:46:49.472Z"
   },
   {
    "duration": 13,
    "start_time": "2022-04-03T18:46:49.517Z"
   },
   {
    "duration": 16,
    "start_time": "2022-04-03T18:46:49.531Z"
   },
   {
    "duration": 14,
    "start_time": "2022-04-03T18:46:49.548Z"
   },
   {
    "duration": 93,
    "start_time": "2022-04-03T18:46:49.563Z"
   },
   {
    "duration": 9,
    "start_time": "2022-04-03T18:46:49.660Z"
   },
   {
    "duration": 8,
    "start_time": "2022-04-03T18:46:49.671Z"
   },
   {
    "duration": 4,
    "start_time": "2022-04-03T18:46:49.681Z"
   },
   {
    "duration": 82,
    "start_time": "2022-04-03T18:47:21.327Z"
   },
   {
    "duration": 4,
    "start_time": "2022-04-03T18:47:45.899Z"
   },
   {
    "duration": 21,
    "start_time": "2022-04-03T18:47:48.486Z"
   },
   {
    "duration": 21,
    "start_time": "2022-04-03T18:48:10.239Z"
   },
   {
    "duration": 10,
    "start_time": "2022-04-03T18:48:54.770Z"
   },
   {
    "duration": 20,
    "start_time": "2022-04-03T18:49:01.445Z"
   },
   {
    "duration": 19,
    "start_time": "2022-04-03T18:49:38.213Z"
   },
   {
    "duration": 19,
    "start_time": "2022-04-03T18:49:50.111Z"
   },
   {
    "duration": 21,
    "start_time": "2022-04-03T18:50:12.443Z"
   },
   {
    "duration": 342,
    "start_time": "2022-04-03T18:52:38.664Z"
   },
   {
    "duration": 139,
    "start_time": "2022-04-03T18:52:39.009Z"
   },
   {
    "duration": 16,
    "start_time": "2022-04-03T18:52:39.150Z"
   },
   {
    "duration": 40,
    "start_time": "2022-04-03T18:52:39.168Z"
   },
   {
    "duration": 4,
    "start_time": "2022-04-03T18:52:39.211Z"
   },
   {
    "duration": 12,
    "start_time": "2022-04-03T18:52:39.216Z"
   },
   {
    "duration": 7,
    "start_time": "2022-04-03T18:52:39.230Z"
   },
   {
    "duration": 27,
    "start_time": "2022-04-03T18:52:39.238Z"
   },
   {
    "duration": 43,
    "start_time": "2022-04-03T18:52:39.267Z"
   },
   {
    "duration": 24,
    "start_time": "2022-04-03T18:52:39.311Z"
   },
   {
    "duration": 73,
    "start_time": "2022-04-03T18:52:39.337Z"
   },
   {
    "duration": 69,
    "start_time": "2022-04-03T18:52:39.412Z"
   },
   {
    "duration": 71,
    "start_time": "2022-04-03T18:52:39.482Z"
   },
   {
    "duration": 53,
    "start_time": "2022-04-03T18:52:39.557Z"
   },
   {
    "duration": 2,
    "start_time": "2022-04-03T18:52:39.612Z"
   },
   {
    "duration": 11,
    "start_time": "2022-04-03T18:52:39.616Z"
   },
   {
    "duration": 46,
    "start_time": "2022-04-03T18:52:39.628Z"
   },
   {
    "duration": 33,
    "start_time": "2022-04-03T18:52:39.676Z"
   },
   {
    "duration": 12,
    "start_time": "2022-04-03T18:52:39.711Z"
   },
   {
    "duration": 3,
    "start_time": "2022-04-03T18:52:39.724Z"
   },
   {
    "duration": 20,
    "start_time": "2022-04-03T18:52:39.729Z"
   },
   {
    "duration": 13,
    "start_time": "2022-04-03T18:52:39.750Z"
   },
   {
    "duration": 14,
    "start_time": "2022-04-03T18:52:39.764Z"
   },
   {
    "duration": 13,
    "start_time": "2022-04-03T18:52:39.809Z"
   },
   {
    "duration": 15,
    "start_time": "2022-04-03T18:52:39.823Z"
   },
   {
    "duration": 13,
    "start_time": "2022-04-03T18:52:39.839Z"
   },
   {
    "duration": 90,
    "start_time": "2022-04-03T18:52:39.853Z"
   },
   {
    "duration": 9,
    "start_time": "2022-04-03T18:52:39.944Z"
   },
   {
    "duration": 8,
    "start_time": "2022-04-03T18:52:39.955Z"
   },
   {
    "duration": 4,
    "start_time": "2022-04-03T18:52:39.964Z"
   },
   {
    "duration": 40,
    "start_time": "2022-04-03T18:52:39.970Z"
   },
   {
    "duration": 16,
    "start_time": "2022-04-03T18:52:40.011Z"
   },
   {
    "duration": 17,
    "start_time": "2022-04-03T18:52:40.028Z"
   },
   {
    "duration": 358,
    "start_time": "2022-04-03T18:53:25.043Z"
   },
   {
    "duration": 141,
    "start_time": "2022-04-03T18:53:25.403Z"
   },
   {
    "duration": 16,
    "start_time": "2022-04-03T18:53:25.546Z"
   },
   {
    "duration": 29,
    "start_time": "2022-04-03T18:53:25.563Z"
   },
   {
    "duration": 4,
    "start_time": "2022-04-03T18:53:25.609Z"
   },
   {
    "duration": 12,
    "start_time": "2022-04-03T18:53:25.614Z"
   },
   {
    "duration": 5,
    "start_time": "2022-04-03T18:53:25.628Z"
   },
   {
    "duration": 24,
    "start_time": "2022-04-03T18:53:25.634Z"
   },
   {
    "duration": 18,
    "start_time": "2022-04-03T18:53:25.660Z"
   },
   {
    "duration": 42,
    "start_time": "2022-04-03T18:53:25.680Z"
   },
   {
    "duration": 61,
    "start_time": "2022-04-03T18:53:25.724Z"
   },
   {
    "duration": 85,
    "start_time": "2022-04-03T18:53:25.787Z"
   },
   {
    "duration": 72,
    "start_time": "2022-04-03T18:53:25.873Z"
   },
   {
    "duration": 60,
    "start_time": "2022-04-03T18:53:25.949Z"
   },
   {
    "duration": 4,
    "start_time": "2022-04-03T18:53:26.010Z"
   },
   {
    "duration": 11,
    "start_time": "2022-04-03T18:53:26.015Z"
   },
   {
    "duration": 48,
    "start_time": "2022-04-03T18:53:26.028Z"
   },
   {
    "duration": 33,
    "start_time": "2022-04-03T18:53:26.077Z"
   },
   {
    "duration": 12,
    "start_time": "2022-04-03T18:53:26.111Z"
   },
   {
    "duration": 4,
    "start_time": "2022-04-03T18:53:26.124Z"
   },
   {
    "duration": 21,
    "start_time": "2022-04-03T18:53:26.129Z"
   },
   {
    "duration": 13,
    "start_time": "2022-04-03T18:53:26.151Z"
   },
   {
    "duration": 44,
    "start_time": "2022-04-03T18:53:26.166Z"
   },
   {
    "duration": 13,
    "start_time": "2022-04-03T18:53:26.211Z"
   },
   {
    "duration": 14,
    "start_time": "2022-04-03T18:53:26.226Z"
   },
   {
    "duration": 14,
    "start_time": "2022-04-03T18:53:26.241Z"
   },
   {
    "duration": 99,
    "start_time": "2022-04-03T18:53:26.257Z"
   },
   {
    "duration": 10,
    "start_time": "2022-04-03T18:53:26.358Z"
   },
   {
    "duration": 8,
    "start_time": "2022-04-03T18:53:26.370Z"
   },
   {
    "duration": 4,
    "start_time": "2022-04-03T18:53:26.380Z"
   },
   {
    "duration": 38,
    "start_time": "2022-04-03T18:53:26.386Z"
   },
   {
    "duration": 11,
    "start_time": "2022-04-03T18:53:26.425Z"
   },
   {
    "duration": 15,
    "start_time": "2022-04-03T18:53:26.437Z"
   },
   {
    "duration": 10,
    "start_time": "2022-04-03T18:53:26.453Z"
   },
   {
    "duration": 11,
    "start_time": "2022-04-03T18:53:32.981Z"
   },
   {
    "duration": 10,
    "start_time": "2022-04-03T18:58:37.378Z"
   },
   {
    "duration": 8,
    "start_time": "2022-04-03T18:58:58.059Z"
   },
   {
    "duration": 4,
    "start_time": "2022-04-03T18:59:06.317Z"
   },
   {
    "duration": 6,
    "start_time": "2022-04-03T18:59:45.833Z"
   },
   {
    "duration": 5,
    "start_time": "2022-04-03T18:59:59.972Z"
   },
   {
    "duration": 439,
    "start_time": "2022-04-03T19:19:27.376Z"
   },
   {
    "duration": 159,
    "start_time": "2022-04-03T19:19:27.817Z"
   },
   {
    "duration": 18,
    "start_time": "2022-04-03T19:19:27.978Z"
   },
   {
    "duration": 32,
    "start_time": "2022-04-03T19:19:28.008Z"
   },
   {
    "duration": 4,
    "start_time": "2022-04-03T19:19:28.041Z"
   },
   {
    "duration": 21,
    "start_time": "2022-04-03T19:19:28.046Z"
   },
   {
    "duration": 6,
    "start_time": "2022-04-03T19:19:28.069Z"
   },
   {
    "duration": 41,
    "start_time": "2022-04-03T19:19:28.076Z"
   },
   {
    "duration": 21,
    "start_time": "2022-04-03T19:19:28.119Z"
   },
   {
    "duration": 26,
    "start_time": "2022-04-03T19:19:28.143Z"
   },
   {
    "duration": 88,
    "start_time": "2022-04-03T19:19:28.170Z"
   },
   {
    "duration": 87,
    "start_time": "2022-04-03T19:19:28.260Z"
   },
   {
    "duration": 72,
    "start_time": "2022-04-03T19:19:28.349Z"
   },
   {
    "duration": 51,
    "start_time": "2022-04-03T19:19:28.422Z"
   },
   {
    "duration": 3,
    "start_time": "2022-04-03T19:19:28.474Z"
   },
   {
    "duration": 11,
    "start_time": "2022-04-03T19:19:28.479Z"
   },
   {
    "duration": 66,
    "start_time": "2022-04-03T19:19:28.492Z"
   },
   {
    "duration": 13,
    "start_time": "2022-04-03T19:19:28.559Z"
   },
   {
    "duration": 11,
    "start_time": "2022-04-03T19:19:28.573Z"
   },
   {
    "duration": 25,
    "start_time": "2022-04-03T19:19:28.585Z"
   },
   {
    "duration": 20,
    "start_time": "2022-04-03T19:19:28.612Z"
   },
   {
    "duration": 14,
    "start_time": "2022-04-03T19:19:28.633Z"
   },
   {
    "duration": 14,
    "start_time": "2022-04-03T19:19:28.649Z"
   },
   {
    "duration": 45,
    "start_time": "2022-04-03T19:19:28.665Z"
   },
   {
    "duration": 18,
    "start_time": "2022-04-03T19:19:28.712Z"
   },
   {
    "duration": 15,
    "start_time": "2022-04-03T19:19:28.732Z"
   },
   {
    "duration": 89,
    "start_time": "2022-04-03T19:19:28.748Z"
   },
   {
    "duration": 10,
    "start_time": "2022-04-03T19:19:28.840Z"
   },
   {
    "duration": 9,
    "start_time": "2022-04-03T19:19:28.852Z"
   },
   {
    "duration": 5,
    "start_time": "2022-04-03T19:19:28.862Z"
   },
   {
    "duration": 44,
    "start_time": "2022-04-03T19:19:28.868Z"
   },
   {
    "duration": 12,
    "start_time": "2022-04-03T19:19:28.914Z"
   },
   {
    "duration": 15,
    "start_time": "2022-04-03T19:19:28.927Z"
   },
   {
    "duration": 10,
    "start_time": "2022-04-03T19:19:28.943Z"
   },
   {
    "duration": 7,
    "start_time": "2022-04-03T19:19:28.955Z"
   },
   {
    "duration": 4,
    "start_time": "2022-04-03T19:19:28.964Z"
   },
   {
    "duration": 41,
    "start_time": "2022-04-03T19:19:28.969Z"
   },
   {
    "duration": 4,
    "start_time": "2022-04-03T19:19:29.012Z"
   },
   {
    "duration": 703,
    "start_time": "2022-04-14T09:41:08.062Z"
   },
   {
    "duration": 309,
    "start_time": "2022-04-14T09:41:08.769Z"
   },
   {
    "duration": 43,
    "start_time": "2022-04-14T09:41:09.081Z"
   },
   {
    "duration": 40,
    "start_time": "2022-04-14T09:41:09.127Z"
   },
   {
    "duration": 6,
    "start_time": "2022-04-14T09:41:09.171Z"
   },
   {
    "duration": 51,
    "start_time": "2022-04-14T09:41:09.180Z"
   },
   {
    "duration": 9,
    "start_time": "2022-04-14T09:41:09.234Z"
   },
   {
    "duration": 37,
    "start_time": "2022-04-14T09:41:09.245Z"
   },
   {
    "duration": 51,
    "start_time": "2022-04-14T09:41:09.284Z"
   },
   {
    "duration": 33,
    "start_time": "2022-04-14T09:41:09.337Z"
   },
   {
    "duration": 122,
    "start_time": "2022-04-14T09:41:09.373Z"
   },
   {
    "duration": 132,
    "start_time": "2022-04-14T09:41:09.498Z"
   },
   {
    "duration": 111,
    "start_time": "2022-04-14T09:41:09.633Z"
   },
   {
    "duration": 127,
    "start_time": "2022-04-14T09:41:09.750Z"
   },
   {
    "duration": 5,
    "start_time": "2022-04-14T09:41:09.879Z"
   },
   {
    "duration": 37,
    "start_time": "2022-04-14T09:41:09.887Z"
   },
   {
    "duration": 73,
    "start_time": "2022-04-14T09:41:09.927Z"
   },
   {
    "duration": 32,
    "start_time": "2022-04-14T09:41:10.003Z"
   },
   {
    "duration": 42,
    "start_time": "2022-04-14T09:41:10.038Z"
   },
   {
    "duration": 14,
    "start_time": "2022-04-14T09:41:10.083Z"
   },
   {
    "duration": 63,
    "start_time": "2022-04-14T09:41:10.100Z"
   },
   {
    "duration": 33,
    "start_time": "2022-04-14T09:41:10.166Z"
   },
   {
    "duration": 40,
    "start_time": "2022-04-14T09:41:10.206Z"
   },
   {
    "duration": 24,
    "start_time": "2022-04-14T09:41:10.252Z"
   },
   {
    "duration": 58,
    "start_time": "2022-04-14T09:41:10.279Z"
   },
   {
    "duration": 21,
    "start_time": "2022-04-14T09:41:10.339Z"
   },
   {
    "duration": 132,
    "start_time": "2022-04-14T09:41:10.362Z"
   },
   {
    "duration": 25,
    "start_time": "2022-04-14T09:41:10.499Z"
   },
   {
    "duration": 17,
    "start_time": "2022-04-14T09:41:10.527Z"
   },
   {
    "duration": 17,
    "start_time": "2022-04-14T09:41:10.547Z"
   },
   {
    "duration": 68,
    "start_time": "2022-04-14T09:41:10.566Z"
   },
   {
    "duration": 37,
    "start_time": "2022-04-14T09:41:10.637Z"
   },
   {
    "duration": 25,
    "start_time": "2022-04-14T09:41:10.676Z"
   },
   {
    "duration": 31,
    "start_time": "2022-04-14T09:41:10.704Z"
   },
   {
    "duration": 13,
    "start_time": "2022-04-14T09:41:10.738Z"
   },
   {
    "duration": 22,
    "start_time": "2022-04-14T09:41:10.753Z"
   },
   {
    "duration": 39,
    "start_time": "2022-04-14T09:41:10.777Z"
   },
   {
    "duration": 8,
    "start_time": "2022-04-14T09:41:10.819Z"
   },
   {
    "duration": 112,
    "start_time": "2022-04-14T09:49:57.182Z"
   },
   {
    "duration": 393,
    "start_time": "2022-04-15T11:07:58.379Z"
   },
   {
    "duration": 160,
    "start_time": "2022-04-15T11:07:58.774Z"
   },
   {
    "duration": 17,
    "start_time": "2022-04-15T11:07:58.935Z"
   },
   {
    "duration": 33,
    "start_time": "2022-04-15T11:07:58.953Z"
   },
   {
    "duration": 3,
    "start_time": "2022-04-15T11:07:58.988Z"
   },
   {
    "duration": 12,
    "start_time": "2022-04-15T11:07:58.993Z"
   },
   {
    "duration": 7,
    "start_time": "2022-04-15T11:07:59.007Z"
   },
   {
    "duration": 31,
    "start_time": "2022-04-15T11:07:59.016Z"
   },
   {
    "duration": 40,
    "start_time": "2022-04-15T11:07:59.048Z"
   },
   {
    "duration": 23,
    "start_time": "2022-04-15T11:07:59.090Z"
   },
   {
    "duration": 76,
    "start_time": "2022-04-15T11:07:59.115Z"
   },
   {
    "duration": 81,
    "start_time": "2022-04-15T11:07:59.192Z"
   },
   {
    "duration": 57,
    "start_time": "2022-04-15T11:07:59.275Z"
   },
   {
    "duration": 62,
    "start_time": "2022-04-15T11:07:59.336Z"
   },
   {
    "duration": 3,
    "start_time": "2022-04-15T11:07:59.400Z"
   },
   {
    "duration": 13,
    "start_time": "2022-04-15T11:07:59.404Z"
   },
   {
    "duration": 62,
    "start_time": "2022-04-15T11:07:59.418Z"
   },
   {
    "duration": 11,
    "start_time": "2022-04-15T11:07:59.481Z"
   },
   {
    "duration": 11,
    "start_time": "2022-04-15T11:07:59.494Z"
   },
   {
    "duration": 3,
    "start_time": "2022-04-15T11:07:59.506Z"
   },
   {
    "duration": 21,
    "start_time": "2022-04-15T11:07:59.511Z"
   },
   {
    "duration": 41,
    "start_time": "2022-04-15T11:07:59.533Z"
   },
   {
    "duration": 15,
    "start_time": "2022-04-15T11:07:59.576Z"
   },
   {
    "duration": 13,
    "start_time": "2022-04-15T11:07:59.592Z"
   },
   {
    "duration": 17,
    "start_time": "2022-04-15T11:07:59.606Z"
   },
   {
    "duration": 14,
    "start_time": "2022-04-15T11:07:59.624Z"
   },
   {
    "duration": 101,
    "start_time": "2022-04-15T11:07:59.640Z"
   },
   {
    "duration": 11,
    "start_time": "2022-04-15T11:07:59.742Z"
   },
   {
    "duration": 27,
    "start_time": "2022-04-15T11:07:59.755Z"
   },
   {
    "duration": 6,
    "start_time": "2022-04-15T11:07:59.783Z"
   },
   {
    "duration": 23,
    "start_time": "2022-04-15T11:07:59.790Z"
   },
   {
    "duration": 12,
    "start_time": "2022-04-15T11:07:59.815Z"
   },
   {
    "duration": 15,
    "start_time": "2022-04-15T11:07:59.828Z"
   },
   {
    "duration": 37,
    "start_time": "2022-04-15T11:07:59.845Z"
   },
   {
    "duration": 9,
    "start_time": "2022-04-15T11:07:59.884Z"
   },
   {
    "duration": 5,
    "start_time": "2022-04-15T11:07:59.894Z"
   },
   {
    "duration": 8,
    "start_time": "2022-04-15T11:07:59.900Z"
   },
   {
    "duration": 6,
    "start_time": "2022-04-15T11:07:59.910Z"
   }
  ],
  "colab": {
   "collapsed_sections": [
    "E0vqbgi9ay0H",
    "VUC88oWjTJw2"
   ],
   "name": "yandex_music_project.ipynb",
   "provenance": []
  },
  "kernelspec": {
   "display_name": "Python 3 (ipykernel)",
   "language": "python",
   "name": "python3"
  },
  "language_info": {
   "codemirror_mode": {
    "name": "ipython",
    "version": 3
   },
   "file_extension": ".py",
   "mimetype": "text/x-python",
   "name": "python",
   "nbconvert_exporter": "python",
   "pygments_lexer": "ipython3",
   "version": "3.9.7"
  },
  "toc": {
   "base_numbering": 1,
   "nav_menu": {},
   "number_sections": true,
   "sideBar": true,
   "skip_h1_title": true,
   "title_cell": "Table of Contents",
   "title_sidebar": "Contents",
   "toc_cell": false,
   "toc_position": {},
   "toc_section_display": true,
   "toc_window_display": false
  }
 },
 "nbformat": 4,
 "nbformat_minor": 1
}
