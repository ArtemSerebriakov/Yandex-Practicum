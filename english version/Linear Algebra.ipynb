{
 "cells": [
  {
   "cell_type": "markdown",
   "metadata": {},
   "source": [
    "# Protection of customer personal data"
   ]
  },
  {
   "cell_type": "markdown",
   "metadata": {},
   "source": [
    "We need to protect the data of our customers at Flood Insurance Company. Therefore, we should develop such a method of data transformation that it would be difficult to recover personal information from it.\n",
    "\n",
    "We also need to protect the data so that the quality of machine learning models does not suffer during the transformation."
   ]
  },
  {
   "cell_type": "markdown",
   "metadata": {},
   "source": [
    "Work plan:\n",
    "1. Explore the data from the dataframe.\n",
    "2. Conduct preprocessing of the data.\n",
    "3. Check by formula whether multiplication of the original feature matrix by a reversible matrix affects the quality of linear regression.\n",
    "4. Create a custom linear regression class and, using the R2 metric and compare the quality before and after transformation.\n",
    "5. Find the quality of the inbuilt linear regression model on the transformed feature matrix and compare it with the same obtained on the original matrix."
   ]
  },
  {
   "cell_type": "markdown",
   "metadata": {},
   "source": [
    "<a id=\"0\"></a> <br>\n",
    "# Table of Contents  \n",
    "1. [Loading data](#1)     \n",
    "2. [Matrix multiplication](#2)\n",
    "3. [Transformation Algorithm](#3)\n",
    "4. [Algorithm validation](#4)"
   ]
  },
  {
   "cell_type": "markdown",
   "metadata": {},
   "source": [
    "<a id=\"1\"></a>\n",
    "## Loading data\n",
    "[Back to the top](#0)"
   ]
  },
  {
   "cell_type": "code",
   "execution_count": 3,
   "metadata": {},
   "outputs": [],
   "source": [
    "#pip install nb_black"
   ]
  },
  {
   "cell_type": "code",
   "execution_count": 4,
   "metadata": {},
   "outputs": [],
   "source": [
    "#%load_ext nb_black"
   ]
  },
  {
   "cell_type": "code",
   "execution_count": 5,
   "metadata": {},
   "outputs": [],
   "source": [
    "import pandas as pd\n",
    "import numpy as np\n",
    "\n",
    "from sklearn.model_selection import train_test_split\n",
    "from sklearn.linear_model import LinearRegression\n",
    "from sklearn.metrics import r2_score\n",
    "from sklearn.preprocessing import StandardScaler"
   ]
  },
  {
   "cell_type": "markdown",
   "metadata": {},
   "source": [
    "Explore the data."
   ]
  },
  {
   "cell_type": "code",
   "execution_count": 6,
   "metadata": {},
   "outputs": [
    {
     "data": {
      "text/html": [
       "<div>\n",
       "<style scoped>\n",
       "    .dataframe tbody tr th:only-of-type {\n",
       "        vertical-align: middle;\n",
       "    }\n",
       "\n",
       "    .dataframe tbody tr th {\n",
       "        vertical-align: top;\n",
       "    }\n",
       "\n",
       "    .dataframe thead th {\n",
       "        text-align: right;\n",
       "    }\n",
       "</style>\n",
       "<table border=\"1\" class=\"dataframe\">\n",
       "  <thead>\n",
       "    <tr style=\"text-align: right;\">\n",
       "      <th></th>\n",
       "      <th>Пол</th>\n",
       "      <th>Возраст</th>\n",
       "      <th>Зарплата</th>\n",
       "      <th>Члены семьи</th>\n",
       "      <th>Страховые выплаты</th>\n",
       "    </tr>\n",
       "  </thead>\n",
       "  <tbody>\n",
       "    <tr>\n",
       "      <th>0</th>\n",
       "      <td>1</td>\n",
       "      <td>41.0</td>\n",
       "      <td>49600.0</td>\n",
       "      <td>1</td>\n",
       "      <td>0</td>\n",
       "    </tr>\n",
       "    <tr>\n",
       "      <th>1</th>\n",
       "      <td>0</td>\n",
       "      <td>46.0</td>\n",
       "      <td>38000.0</td>\n",
       "      <td>1</td>\n",
       "      <td>1</td>\n",
       "    </tr>\n",
       "    <tr>\n",
       "      <th>2</th>\n",
       "      <td>0</td>\n",
       "      <td>29.0</td>\n",
       "      <td>21000.0</td>\n",
       "      <td>0</td>\n",
       "      <td>0</td>\n",
       "    </tr>\n",
       "    <tr>\n",
       "      <th>3</th>\n",
       "      <td>0</td>\n",
       "      <td>21.0</td>\n",
       "      <td>41700.0</td>\n",
       "      <td>2</td>\n",
       "      <td>0</td>\n",
       "    </tr>\n",
       "    <tr>\n",
       "      <th>4</th>\n",
       "      <td>1</td>\n",
       "      <td>28.0</td>\n",
       "      <td>26100.0</td>\n",
       "      <td>0</td>\n",
       "      <td>0</td>\n",
       "    </tr>\n",
       "    <tr>\n",
       "      <th>5</th>\n",
       "      <td>1</td>\n",
       "      <td>43.0</td>\n",
       "      <td>41000.0</td>\n",
       "      <td>2</td>\n",
       "      <td>1</td>\n",
       "    </tr>\n",
       "    <tr>\n",
       "      <th>6</th>\n",
       "      <td>1</td>\n",
       "      <td>39.0</td>\n",
       "      <td>39700.0</td>\n",
       "      <td>2</td>\n",
       "      <td>0</td>\n",
       "    </tr>\n",
       "    <tr>\n",
       "      <th>7</th>\n",
       "      <td>1</td>\n",
       "      <td>25.0</td>\n",
       "      <td>38600.0</td>\n",
       "      <td>4</td>\n",
       "      <td>0</td>\n",
       "    </tr>\n",
       "    <tr>\n",
       "      <th>8</th>\n",
       "      <td>1</td>\n",
       "      <td>36.0</td>\n",
       "      <td>49700.0</td>\n",
       "      <td>1</td>\n",
       "      <td>0</td>\n",
       "    </tr>\n",
       "    <tr>\n",
       "      <th>9</th>\n",
       "      <td>1</td>\n",
       "      <td>32.0</td>\n",
       "      <td>51700.0</td>\n",
       "      <td>1</td>\n",
       "      <td>0</td>\n",
       "    </tr>\n",
       "  </tbody>\n",
       "</table>\n",
       "</div>"
      ],
      "text/plain": [
       "   Пол  Возраст  Зарплата  Члены семьи  Страховые выплаты\n",
       "0    1     41.0   49600.0            1                  0\n",
       "1    0     46.0   38000.0            1                  1\n",
       "2    0     29.0   21000.0            0                  0\n",
       "3    0     21.0   41700.0            2                  0\n",
       "4    1     28.0   26100.0            0                  0\n",
       "5    1     43.0   41000.0            2                  1\n",
       "6    1     39.0   39700.0            2                  0\n",
       "7    1     25.0   38600.0            4                  0\n",
       "8    1     36.0   49700.0            1                  0\n",
       "9    1     32.0   51700.0            1                  0"
      ]
     },
     "execution_count": 6,
     "metadata": {},
     "output_type": "execute_result"
    }
   ],
   "source": [
    "df = pd.read_csv(\"/datasets/insurance.csv\", sep=\",\")\n",
    "df.head(10)"
   ]
  },
  {
   "cell_type": "code",
   "execution_count": 7,
   "metadata": {},
   "outputs": [
    {
     "name": "stdout",
     "output_type": "stream",
     "text": [
      "<class 'pandas.core.frame.DataFrame'>\n",
      "RangeIndex: 5000 entries, 0 to 4999\n",
      "Data columns (total 5 columns):\n",
      " #   Column             Non-Null Count  Dtype  \n",
      "---  ------             --------------  -----  \n",
      " 0   Пол                5000 non-null   int64  \n",
      " 1   Возраст            5000 non-null   float64\n",
      " 2   Зарплата           5000 non-null   float64\n",
      " 3   Члены семьи        5000 non-null   int64  \n",
      " 4   Страховые выплаты  5000 non-null   int64  \n",
      "dtypes: float64(2), int64(3)\n",
      "memory usage: 195.4 KB\n"
     ]
    }
   ],
   "source": [
    "df.info()"
   ]
  },
  {
   "cell_type": "markdown",
   "metadata": {},
   "source": [
    "We see that all columns in the original dataset are of numeric type, and there are no omissions."
   ]
  },
  {
   "cell_type": "code",
   "execution_count": 8,
   "metadata": {},
   "outputs": [
    {
     "data": {
      "text/plain": [
       "0    2505\n",
       "1    2495\n",
       "Name: Пол, dtype: int64"
      ]
     },
     "execution_count": 8,
     "metadata": {},
     "output_type": "execute_result"
    }
   ],
   "source": [
    "df[\"Пол\"].value_counts()"
   ]
  },
  {
   "cell_type": "markdown",
   "metadata": {},
   "source": [
    "As we can see, the `Gender` column takes two values, meaning it is a categorical feature, which matches the logic."
   ]
  },
  {
   "cell_type": "code",
   "execution_count": 9,
   "metadata": {},
   "outputs": [
    {
     "data": {
      "text/plain": [
       "2688    18.0\n",
       "3370    18.0\n",
       "1159    18.0\n",
       "2549    18.0\n",
       "1693    18.0\n",
       "        ... \n",
       "3117    60.0\n",
       "2240    60.0\n",
       "3907    61.0\n",
       "4019    62.0\n",
       "228     65.0\n",
       "Name: Возраст, Length: 5000, dtype: float64"
      ]
     },
     "execution_count": 9,
     "metadata": {},
     "output_type": "execute_result"
    }
   ],
   "source": [
    "df[\"Возраст\"].sort_values()"
   ]
  },
  {
   "cell_type": "markdown",
   "metadata": {},
   "source": [
    "We see that `Age` accepts only non-negative integer values, so the data in this column is correct."
   ]
  },
  {
   "cell_type": "code",
   "execution_count": 10,
   "metadata": {},
   "outputs": [
    {
     "data": {
      "text/plain": [
       "726      5300.0\n",
       "4164     6000.0\n",
       "4623     7400.0\n",
       "437      8900.0\n",
       "483      9800.0\n",
       "         ...   \n",
       "2193    71400.0\n",
       "3328    71600.0\n",
       "4360    74800.0\n",
       "4512    75200.0\n",
       "3255    79000.0\n",
       "Name: Зарплата, Length: 5000, dtype: float64"
      ]
     },
     "execution_count": 10,
     "metadata": {},
     "output_type": "execute_result"
    }
   ],
   "source": [
    "df[\"Зарплата\"].sort_values()"
   ]
  },
  {
   "cell_type": "markdown",
   "metadata": {},
   "source": [
    "The `Salary` column contains only non-negative values, indicating the adequacy of the data in this column."
   ]
  },
  {
   "cell_type": "code",
   "execution_count": 11,
   "metadata": {},
   "outputs": [
    {
     "data": {
      "text/plain": [
       "1    1814\n",
       "0    1513\n",
       "2    1071\n",
       "3     439\n",
       "4     124\n",
       "5      32\n",
       "6       7\n",
       "Name: Члены семьи, dtype: int64"
      ]
     },
     "execution_count": 11,
     "metadata": {},
     "output_type": "execute_result"
    }
   ],
   "source": [
    "df[\"Члены семьи\"].value_counts()"
   ]
  },
  {
   "cell_type": "markdown",
   "metadata": {},
   "source": [
    "The resulting column shows that the data in the `Family members` column is realistic, most people are single or with one family member."
   ]
  },
  {
   "cell_type": "code",
   "execution_count": 12,
   "metadata": {},
   "outputs": [
    {
     "data": {
      "text/plain": [
       "0    4436\n",
       "1     423\n",
       "2     115\n",
       "3      18\n",
       "4       7\n",
       "5       1\n",
       "Name: Страховые выплаты, dtype: int64"
      ]
     },
     "execution_count": 12,
     "metadata": {},
     "output_type": "execute_result"
    }
   ],
   "source": [
    "df[\"Страховые выплаты\"].value_counts()"
   ]
  },
  {
   "cell_type": "markdown",
   "metadata": {},
   "source": [
    "We see that a maximum of 5 insurance payments have been made over 5 years, while the majority of the insurance company's clients have not received any insurance payments at all over the last 5 years."
   ]
  },
  {
   "cell_type": "markdown",
   "metadata": {},
   "source": [
    "<a id=\"2\"></a>\n",
    "## Matrix multiplication\n",
    "[Back to the top](#0)"
   ]
  },
  {
   "cell_type": "markdown",
   "metadata": {},
   "source": [
    "Let us introduce the notations:\n",
    "\n",
    "- $X$ — feature matrix (zero column consists of ones)\n",
    "\n",
    "- $y$ — target feature vector\n",
    "\n",
    "- $P$ — matrix by which features are multiplied\n",
    "\n",
    "- $w$ — vector of linear regression weights (zero element equals the shift)"
   ]
  },
  {
   "cell_type": "markdown",
   "metadata": {},
   "source": [
    "Predictions:\n",
    "\n",
    "$$\n",
    "a = Xw\n",
    "$$\n",
    "\n",
    "Training goal:\n",
    "\n",
    "$$\n",
    "w = \\arg\\min_w MSE(Xw, y)\n",
    "$$\n",
    "\n",
    "Training formula:\n",
    "\n",
    "$$\n",
    "w = (X^T X)^{-1} X^T y\n",
    "$$"
   ]
  },
  {
   "cell_type": "markdown",
   "metadata": {},
   "source": [
    "Test whether the quality of the linear regression changes after multiplying the feature matrix $X$ by the reversible matrix $P$."
   ]
  },
  {
   "cell_type": "markdown",
   "metadata": {},
   "source": [
    "**Rationale:**\n",
    "\n",
    "According to the training formula for the encrypted data matrix $Z = XP$ we obtain:\n",
    " \n",
    "$$\n",
    "w' = (Z^T Z)^{-1} Z^T y = ((XP)^T (XP))^{-1} (XP)^T y.\n",
    "$$\n",
    "\n",
    "Next, let's use the transpose property of matrices: $(A B)^T = B^T A^T$:\n",
    "\n",
    "$$\n",
    "w'= ((XP)^T (XP))^{-1} (XP)^T y=(P^T X^T X P)^{-1} P^T X^T y.\n",
    "$$\n",
    "\n",
    "Let's apply the property of finding the inverse matrix $(A B)^{-1} = B^{-1} A^{-1}$, где $(A B)$ is a square matrix:\n",
    "\n",
    "$$\n",
    "w'=(P^T X^T X P)^{-1} P^T X^T y=P^{-1}(X^TX)^{-1}(P^T)^{-1} P^T X^T y.\n",
    "$$\n",
    "\n",
    "Since $(P^T)^{-1} P^T = E$, then:\n",
    "\n",
    "$$\n",
    "w'=P^{-1}(X^TX)^{-1}(P^T)^{-1} P^T X^T y=P^{-1}(X^TX)^{-1} X^T y=P^{-1}w.\n",
    "$$\n",
    "\n",
    "Then for the prediction $a'=Zw'$ we have:\n",
    "\n",
    "$$\n",
    "a'=Zw'=XPP^{-1}w=Xw.\n",
    "$$"
   ]
  },
  {
   "cell_type": "markdown",
   "metadata": {},
   "source": [
    "**Outcome:** According to the given formula conclusions, we conclude that the quality of the model does not change with this data encryption. "
   ]
  },
  {
   "cell_type": "markdown",
   "metadata": {},
   "source": [
    "<a id=\"3\"></a>\n",
    "## Transformation Algorithm\n",
    "[Back to the top](#0)"
   ]
  },
  {
   "cell_type": "markdown",
   "metadata": {},
   "source": [
    "Let's check the conclusion obtained at the previous stage in practice."
   ]
  },
  {
   "cell_type": "markdown",
   "metadata": {},
   "source": [
    "**Algorithm**"
   ]
  },
  {
   "cell_type": "code",
   "execution_count": 13,
   "metadata": {},
   "outputs": [],
   "source": [
    "RANDOM_STATE = 12345"
   ]
  },
  {
   "cell_type": "markdown",
   "metadata": {},
   "source": [
    "Divide the initial data into two samples: training (80%) and test (20%).\n",
    "Write the features of the obtained samples in features_train, features_test.\n",
    "Record the target feature in target_train, target_test."
   ]
  },
  {
   "cell_type": "code",
   "execution_count": 14,
   "metadata": {},
   "outputs": [],
   "source": [
    "target = df[\"Страховые выплаты\"]\n",
    "features = df.drop(\"Страховые выплаты\", axis=1)\n",
    "features_train, features_test, target_train, target_test = train_test_split(\n",
    "    features, target, test_size=0.2, random_state=RANDOM_STATE\n",
    ")"
   ]
  },
  {
   "cell_type": "code",
   "execution_count": 15,
   "metadata": {},
   "outputs": [
    {
     "data": {
      "text/plain": [
       "(4000, 4)"
      ]
     },
     "execution_count": 15,
     "metadata": {},
     "output_type": "execute_result"
    }
   ],
   "source": [
    "features_train.shape"
   ]
  },
  {
   "cell_type": "code",
   "execution_count": 16,
   "metadata": {},
   "outputs": [
    {
     "data": {
      "text/plain": [
       "(4000,)"
      ]
     },
     "execution_count": 16,
     "metadata": {},
     "output_type": "execute_result"
    }
   ],
   "source": [
    "target_train.shape"
   ]
  },
  {
   "cell_type": "code",
   "execution_count": 17,
   "metadata": {},
   "outputs": [
    {
     "data": {
      "text/plain": [
       "(1000, 4)"
      ]
     },
     "execution_count": 17,
     "metadata": {},
     "output_type": "execute_result"
    }
   ],
   "source": [
    "features_test.shape"
   ]
  },
  {
   "cell_type": "code",
   "execution_count": 18,
   "metadata": {},
   "outputs": [
    {
     "data": {
      "text/plain": [
       "(1000,)"
      ]
     },
     "execution_count": 18,
     "metadata": {},
     "output_type": "execute_result"
    }
   ],
   "source": [
    "target_test.shape"
   ]
  },
  {
   "cell_type": "markdown",
   "metadata": {},
   "source": [
    "We can see by the number of rows in each sample that the separation has been done correctly."
   ]
  },
  {
   "cell_type": "markdown",
   "metadata": {},
   "source": [
    "Create our own linear regression class."
   ]
  },
  {
   "cell_type": "code",
   "execution_count": 19,
   "metadata": {},
   "outputs": [],
   "source": [
    "class LinearRegression_custom:\n",
    "    def fit(self, train_features, train_target):\n",
    "        X = np.concatenate(\n",
    "            (np.ones((train_features.shape[0], 1)), train_features), axis=1\n",
    "        )\n",
    "        y = train_target\n",
    "        w = (np.linalg.inv(X.T @ X) @ X.T) @ y\n",
    "        self.w = w[1:]\n",
    "        self.w0 = w[0]\n",
    "\n",
    "    def predict(self, test_features):\n",
    "        return test_features.dot(self.w) + self.w0"
   ]
  },
  {
   "cell_type": "markdown",
   "metadata": {},
   "source": [
    "Perform feature scaling."
   ]
  },
  {
   "cell_type": "code",
   "execution_count": 20,
   "metadata": {
    "scrolled": true
   },
   "outputs": [
    {
     "data": {
      "text/html": [
       "<div>\n",
       "<style scoped>\n",
       "    .dataframe tbody tr th:only-of-type {\n",
       "        vertical-align: middle;\n",
       "    }\n",
       "\n",
       "    .dataframe tbody tr th {\n",
       "        vertical-align: top;\n",
       "    }\n",
       "\n",
       "    .dataframe thead th {\n",
       "        text-align: right;\n",
       "    }\n",
       "</style>\n",
       "<table border=\"1\" class=\"dataframe\">\n",
       "  <thead>\n",
       "    <tr style=\"text-align: right;\">\n",
       "      <th></th>\n",
       "      <th>Пол</th>\n",
       "      <th>Возраст</th>\n",
       "      <th>Зарплата</th>\n",
       "      <th>Члены семьи</th>\n",
       "    </tr>\n",
       "  </thead>\n",
       "  <tbody>\n",
       "    <tr>\n",
       "      <th>317</th>\n",
       "      <td>0</td>\n",
       "      <td>20.0</td>\n",
       "      <td>39800.0</td>\n",
       "      <td>2</td>\n",
       "    </tr>\n",
       "    <tr>\n",
       "      <th>4143</th>\n",
       "      <td>1</td>\n",
       "      <td>40.0</td>\n",
       "      <td>34200.0</td>\n",
       "      <td>0</td>\n",
       "    </tr>\n",
       "    <tr>\n",
       "      <th>4252</th>\n",
       "      <td>1</td>\n",
       "      <td>45.0</td>\n",
       "      <td>50800.0</td>\n",
       "      <td>1</td>\n",
       "    </tr>\n",
       "    <tr>\n",
       "      <th>710</th>\n",
       "      <td>0</td>\n",
       "      <td>28.0</td>\n",
       "      <td>39100.0</td>\n",
       "      <td>2</td>\n",
       "    </tr>\n",
       "    <tr>\n",
       "      <th>148</th>\n",
       "      <td>0</td>\n",
       "      <td>28.0</td>\n",
       "      <td>39000.0</td>\n",
       "      <td>1</td>\n",
       "    </tr>\n",
       "  </tbody>\n",
       "</table>\n",
       "</div>"
      ],
      "text/plain": [
       "      Пол  Возраст  Зарплата  Члены семьи\n",
       "317     0     20.0   39800.0            2\n",
       "4143    1     40.0   34200.0            0\n",
       "4252    1     45.0   50800.0            1\n",
       "710     0     28.0   39100.0            2\n",
       "148     0     28.0   39000.0            1"
      ]
     },
     "execution_count": 20,
     "metadata": {},
     "output_type": "execute_result"
    }
   ],
   "source": [
    "features_train.head()"
   ]
  },
  {
   "cell_type": "code",
   "execution_count": 21,
   "metadata": {},
   "outputs": [],
   "source": [
    "numeric = [\"Возраст\", \"Зарплата\", \"Члены семьи\"]\n",
    "scaler = StandardScaler()\n",
    "scaler.fit(features_train[numeric])\n",
    "pd.options.mode.chained_assignment = None\n",
    "features_train[numeric] = scaler.transform(features_train[numeric])\n",
    "features_test[numeric] = scaler.transform(features_test[numeric])"
   ]
  },
  {
   "cell_type": "code",
   "execution_count": 22,
   "metadata": {},
   "outputs": [
    {
     "data": {
      "text/html": [
       "<div>\n",
       "<style scoped>\n",
       "    .dataframe tbody tr th:only-of-type {\n",
       "        vertical-align: middle;\n",
       "    }\n",
       "\n",
       "    .dataframe tbody tr th {\n",
       "        vertical-align: top;\n",
       "    }\n",
       "\n",
       "    .dataframe thead th {\n",
       "        text-align: right;\n",
       "    }\n",
       "</style>\n",
       "<table border=\"1\" class=\"dataframe\">\n",
       "  <thead>\n",
       "    <tr style=\"text-align: right;\">\n",
       "      <th></th>\n",
       "      <th>Пол</th>\n",
       "      <th>Возраст</th>\n",
       "      <th>Зарплата</th>\n",
       "      <th>Члены семьи</th>\n",
       "    </tr>\n",
       "  </thead>\n",
       "  <tbody>\n",
       "    <tr>\n",
       "      <th>317</th>\n",
       "      <td>0</td>\n",
       "      <td>-1.306556</td>\n",
       "      <td>-0.012614</td>\n",
       "      <td>0.749930</td>\n",
       "    </tr>\n",
       "    <tr>\n",
       "      <th>4143</th>\n",
       "      <td>1</td>\n",
       "      <td>1.050572</td>\n",
       "      <td>-0.578840</td>\n",
       "      <td>-1.079168</td>\n",
       "    </tr>\n",
       "    <tr>\n",
       "      <th>4252</th>\n",
       "      <td>1</td>\n",
       "      <td>1.639853</td>\n",
       "      <td>1.099616</td>\n",
       "      <td>-0.164619</td>\n",
       "    </tr>\n",
       "    <tr>\n",
       "      <th>710</th>\n",
       "      <td>0</td>\n",
       "      <td>-0.363705</td>\n",
       "      <td>-0.083392</td>\n",
       "      <td>0.749930</td>\n",
       "    </tr>\n",
       "    <tr>\n",
       "      <th>148</th>\n",
       "      <td>0</td>\n",
       "      <td>-0.363705</td>\n",
       "      <td>-0.093503</td>\n",
       "      <td>-0.164619</td>\n",
       "    </tr>\n",
       "  </tbody>\n",
       "</table>\n",
       "</div>"
      ],
      "text/plain": [
       "      Пол   Возраст  Зарплата  Члены семьи\n",
       "317     0 -1.306556 -0.012614     0.749930\n",
       "4143    1  1.050572 -0.578840    -1.079168\n",
       "4252    1  1.639853  1.099616    -0.164619\n",
       "710     0 -0.363705 -0.083392     0.749930\n",
       "148     0 -0.363705 -0.093503    -0.164619"
      ]
     },
     "execution_count": 22,
     "metadata": {},
     "output_type": "execute_result"
    }
   ],
   "source": [
    "features_train.head()"
   ]
  },
  {
   "cell_type": "markdown",
   "metadata": {},
   "source": [
    "We can see that the scaling was successful."
   ]
  },
  {
   "cell_type": "markdown",
   "metadata": {},
   "source": [
    "Train this model on the source training sample, get the predictions on the test sample and calculate the value of the `R2` metric."
   ]
  },
  {
   "cell_type": "code",
   "execution_count": 23,
   "metadata": {},
   "outputs": [
    {
     "data": {
      "text/plain": [
       "0.4117683956770476"
      ]
     },
     "execution_count": 23,
     "metadata": {},
     "output_type": "execute_result"
    }
   ],
   "source": [
    "model = LinearRegression_custom()\n",
    "model.fit(features_train, target_train)\n",
    "predictions = model.predict(features_test)\n",
    "r2_score(target_test, predictions)"
   ]
  },
  {
   "cell_type": "markdown",
   "metadata": {},
   "source": [
    "Create a random reversible matrix $P$:"
   ]
  },
  {
   "cell_type": "code",
   "execution_count": 24,
   "metadata": {},
   "outputs": [
    {
     "data": {
      "text/plain": [
       "array([[ 0.59058468,  1.95788668, -0.03887743, -0.11146061],\n",
       "       [ 4.93156115,  3.78681167,  1.18581575,  1.56349231],\n",
       "       [ 2.53804514,  3.49286947,  3.01437872, -1.59244222],\n",
       "       [ 1.54998327,  1.45782576,  3.70583367,  2.77285868]])"
      ]
     },
     "execution_count": 24,
     "metadata": {},
     "output_type": "execute_result"
    }
   ],
   "source": [
    "np.random.seed(RANDOM_STATE)\n",
    "P = np.random.normal(1, 2, size=(4, 4))\n",
    "P"
   ]
  },
  {
   "cell_type": "code",
   "execution_count": 25,
   "metadata": {},
   "outputs": [
    {
     "data": {
      "text/plain": [
       "-97.05037974221308"
      ]
     },
     "execution_count": 25,
     "metadata": {},
     "output_type": "execute_result"
    }
   ],
   "source": [
    "np.linalg.det(P)"
   ]
  },
  {
   "cell_type": "markdown",
   "metadata": {},
   "source": [
    "Since the determinant of matrix $P$ is not zero, this matrix is reversible."
   ]
  },
  {
   "cell_type": "markdown",
   "metadata": {},
   "source": [
    "Построим модель линейной регресии для матрицы $Z=XP$:"
   ]
  },
  {
   "cell_type": "code",
   "execution_count": 26,
   "metadata": {},
   "outputs": [
    {
     "data": {
      "text/html": [
       "<div>\n",
       "<style scoped>\n",
       "    .dataframe tbody tr th:only-of-type {\n",
       "        vertical-align: middle;\n",
       "    }\n",
       "\n",
       "    .dataframe tbody tr th {\n",
       "        vertical-align: top;\n",
       "    }\n",
       "\n",
       "    .dataframe thead th {\n",
       "        text-align: right;\n",
       "    }\n",
       "</style>\n",
       "<table border=\"1\" class=\"dataframe\">\n",
       "  <thead>\n",
       "    <tr style=\"text-align: right;\">\n",
       "      <th></th>\n",
       "      <th>0</th>\n",
       "      <th>1</th>\n",
       "      <th>2</th>\n",
       "      <th>3</th>\n",
       "    </tr>\n",
       "  </thead>\n",
       "  <tbody>\n",
       "    <tr>\n",
       "      <th>0</th>\n",
       "      <td>126091.373282</td>\n",
       "      <td>173405.000840</td>\n",
       "      <td>149565.469674</td>\n",
       "      <td>-78918.369441</td>\n",
       "    </tr>\n",
       "    <tr>\n",
       "      <th>1</th>\n",
       "      <td>96674.116934</td>\n",
       "      <td>132904.691128</td>\n",
       "      <td>114604.644535</td>\n",
       "      <td>-60438.110788</td>\n",
       "    </tr>\n",
       "    <tr>\n",
       "      <th>2</th>\n",
       "      <td>53441.963113</td>\n",
       "      <td>73460.076467</td>\n",
       "      <td>63336.341675</td>\n",
       "      <td>-33395.945306</td>\n",
       "    </tr>\n",
       "    <tr>\n",
       "      <th>3</th>\n",
       "      <td>105943.144889</td>\n",
       "      <td>145735.095711</td>\n",
       "      <td>125731.906221</td>\n",
       "      <td>-66366.461444</td>\n",
       "    </tr>\n",
       "    <tr>\n",
       "      <th>4</th>\n",
       "      <td>66381.652326</td>\n",
       "      <td>91271.881853</td>\n",
       "      <td>78708.448430</td>\n",
       "      <td>-41519.075572</td>\n",
       "    </tr>\n",
       "    <tr>\n",
       "      <th>...</th>\n",
       "      <td>...</td>\n",
       "      <td>...</td>\n",
       "      <td>...</td>\n",
       "      <td>...</td>\n",
       "    </tr>\n",
       "    <tr>\n",
       "      <th>4995</th>\n",
       "      <td>90749.395006</td>\n",
       "      <td>124804.386556</td>\n",
       "      <td>107653.934640</td>\n",
       "      <td>-56800.863689</td>\n",
       "    </tr>\n",
       "    <tr>\n",
       "      <th>4996</th>\n",
       "      <td>133162.788148</td>\n",
       "      <td>183156.569796</td>\n",
       "      <td>157997.468244</td>\n",
       "      <td>-83388.040638</td>\n",
       "    </tr>\n",
       "    <tr>\n",
       "      <th>4997</th>\n",
       "      <td>86141.461274</td>\n",
       "      <td>118486.927012</td>\n",
       "      <td>102218.566427</td>\n",
       "      <td>-53946.975634</td>\n",
       "    </tr>\n",
       "    <tr>\n",
       "      <th>4998</th>\n",
       "      <td>83107.810801</td>\n",
       "      <td>114306.472980</td>\n",
       "      <td>98607.350556</td>\n",
       "      <td>-52030.256590</td>\n",
       "    </tr>\n",
       "    <tr>\n",
       "      <th>4999</th>\n",
       "      <td>103184.856770</td>\n",
       "      <td>141919.947034</td>\n",
       "      <td>122420.645633</td>\n",
       "      <td>-64606.714877</td>\n",
       "    </tr>\n",
       "  </tbody>\n",
       "</table>\n",
       "<p>5000 rows × 4 columns</p>\n",
       "</div>"
      ],
      "text/plain": [
       "                  0              1              2             3\n",
       "0     126091.373282  173405.000840  149565.469674 -78918.369441\n",
       "1      96674.116934  132904.691128  114604.644535 -60438.110788\n",
       "2      53441.963113   73460.076467   63336.341675 -33395.945306\n",
       "3     105943.144889  145735.095711  125731.906221 -66366.461444\n",
       "4      66381.652326   91271.881853   78708.448430 -41519.075572\n",
       "...             ...            ...            ...           ...\n",
       "4995   90749.395006  124804.386556  107653.934640 -56800.863689\n",
       "4996  133162.788148  183156.569796  157997.468244 -83388.040638\n",
       "4997   86141.461274  118486.927012  102218.566427 -53946.975634\n",
       "4998   83107.810801  114306.472980   98607.350556 -52030.256590\n",
       "4999  103184.856770  141919.947034  122420.645633 -64606.714877\n",
       "\n",
       "[5000 rows x 4 columns]"
      ]
     },
     "execution_count": 26,
     "metadata": {},
     "output_type": "execute_result"
    }
   ],
   "source": [
    "features_Z = features @ P\n",
    "features_Z"
   ]
  },
  {
   "cell_type": "code",
   "execution_count": 27,
   "metadata": {},
   "outputs": [],
   "source": [
    "features_train_Z, features_test_Z, target_train_Z, target_test_Z = train_test_split(\n",
    "    features_Z, target, test_size=0.2, random_state=RANDOM_STATE\n",
    ")"
   ]
  },
  {
   "cell_type": "code",
   "execution_count": 28,
   "metadata": {},
   "outputs": [
    {
     "data": {
      "text/plain": [
       "(4000, 4)"
      ]
     },
     "execution_count": 28,
     "metadata": {},
     "output_type": "execute_result"
    }
   ],
   "source": [
    "features_train_Z.shape"
   ]
  },
  {
   "cell_type": "code",
   "execution_count": 29,
   "metadata": {},
   "outputs": [
    {
     "data": {
      "text/plain": [
       "(1000, 4)"
      ]
     },
     "execution_count": 29,
     "metadata": {},
     "output_type": "execute_result"
    }
   ],
   "source": [
    "features_test_Z.shape"
   ]
  },
  {
   "cell_type": "code",
   "execution_count": 30,
   "metadata": {},
   "outputs": [
    {
     "data": {
      "text/plain": [
       "(4000,)"
      ]
     },
     "execution_count": 30,
     "metadata": {},
     "output_type": "execute_result"
    }
   ],
   "source": [
    "target_train_Z.shape"
   ]
  },
  {
   "cell_type": "code",
   "execution_count": 31,
   "metadata": {},
   "outputs": [
    {
     "data": {
      "text/plain": [
       "(1000,)"
      ]
     },
     "execution_count": 31,
     "metadata": {},
     "output_type": "execute_result"
    }
   ],
   "source": [
    "target_test_Z.shape"
   ]
  },
  {
   "cell_type": "markdown",
   "metadata": {},
   "source": [
    "We can see by the number of rows in each sample that the separation has been done correctly."
   ]
  },
  {
   "cell_type": "code",
   "execution_count": 32,
   "metadata": {},
   "outputs": [
    {
     "data": {
      "text/plain": [
       "0.41176840477707777"
      ]
     },
     "execution_count": 32,
     "metadata": {},
     "output_type": "execute_result"
    }
   ],
   "source": [
    "model.fit(features_train_Z, target_train_Z)\n",
    "predictions = model.predict(features_test_Z)\n",
    "r2_score(target_test_Z, predictions)"
   ]
  },
  {
   "cell_type": "markdown",
   "metadata": {},
   "source": [
    "**Rationale:**\n",
    "\n",
    "The values of the `R2` metric for the original feature set $X$ and the encrypted one $Z=PX$ are almost the same, so the quality of the model does not change with this data transformation algorithm."
   ]
  },
  {
   "cell_type": "markdown",
   "metadata": {},
   "source": [
    "<a id=\"4\"></a>\n",
    "## Algorithm validation\n",
    "[Back to the top](#0)"
   ]
  },
  {
   "cell_type": "markdown",
   "metadata": {},
   "source": [
    "Verify that the quality of the linear regression does not change when the original data is encrypted."
   ]
  },
  {
   "cell_type": "markdown",
   "metadata": {},
   "source": [
    "For the original matrix we have:"
   ]
  },
  {
   "cell_type": "code",
   "execution_count": 33,
   "metadata": {},
   "outputs": [
    {
     "data": {
      "text/plain": [
       "0.4117683956770476"
      ]
     },
     "execution_count": 33,
     "metadata": {},
     "output_type": "execute_result"
    }
   ],
   "source": [
    "model = LinearRegression()\n",
    "model.fit(features_train, target_train)\n",
    "predictions = model.predict(features_test)\n",
    "r2_score(target_test, predictions)"
   ]
  },
  {
   "cell_type": "markdown",
   "metadata": {},
   "source": [
    "For the transformed matrix:"
   ]
  },
  {
   "cell_type": "code",
   "execution_count": 34,
   "metadata": {},
   "outputs": [
    {
     "data": {
      "text/plain": [
       "0.41176839567706636"
      ]
     },
     "execution_count": 34,
     "metadata": {},
     "output_type": "execute_result"
    }
   ],
   "source": [
    "model.fit(features_train_Z, target_train_Z)\n",
    "predictions = model.predict(features_test_Z)\n",
    "r2_score(target_test_Z, predictions)"
   ]
  },
  {
   "cell_type": "markdown",
   "metadata": {},
   "source": [
    "From the results obtained, it is seen that indeed the quality of the model does not change after transforming the original data matrix. Thus, in the case of multiplying the feature matrix by a random reversible matrix, data protection can be provided without losing much in the quality of the model."
   ]
  }
 ],
 "metadata": {
  "ExecuteTimeLog": [
   {
    "duration": 325,
    "start_time": "2022-11-26T20:39:44.026Z"
   },
   {
    "duration": 2558,
    "start_time": "2022-11-26T20:39:50.924Z"
   },
   {
    "duration": 117,
    "start_time": "2022-11-26T20:39:55.184Z"
   },
   {
    "duration": 3,
    "start_time": "2022-11-27T10:53:21.077Z"
   },
   {
    "duration": 345,
    "start_time": "2022-11-27T10:53:21.886Z"
   },
   {
    "duration": 2,
    "start_time": "2022-11-27T10:59:52.748Z"
   },
   {
    "duration": 20,
    "start_time": "2022-11-27T10:59:52.752Z"
   },
   {
    "duration": 1091,
    "start_time": "2022-11-27T10:59:52.774Z"
   },
   {
    "duration": 107,
    "start_time": "2022-11-27T10:59:53.867Z"
   },
   {
    "duration": 13,
    "start_time": "2022-11-27T10:59:53.976Z"
   },
   {
    "duration": 30,
    "start_time": "2022-11-27T10:59:53.991Z"
   },
   {
    "duration": 12,
    "start_time": "2022-11-27T10:59:54.023Z"
   },
   {
    "duration": 8,
    "start_time": "2022-11-27T10:59:54.037Z"
   },
   {
    "duration": 15,
    "start_time": "2022-11-27T10:59:54.047Z"
   },
   {
    "duration": 15,
    "start_time": "2022-11-27T10:59:54.065Z"
   },
   {
    "duration": 5,
    "start_time": "2022-11-27T10:59:54.082Z"
   },
   {
    "duration": 9,
    "start_time": "2022-11-27T10:59:54.088Z"
   },
   {
    "duration": 6,
    "start_time": "2022-11-27T10:59:54.098Z"
   },
   {
    "duration": 6,
    "start_time": "2022-11-27T10:59:54.106Z"
   },
   {
    "duration": 8,
    "start_time": "2022-11-27T10:59:54.114Z"
   },
   {
    "duration": 6,
    "start_time": "2022-11-27T10:59:54.124Z"
   },
   {
    "duration": 32,
    "start_time": "2022-11-27T10:59:54.132Z"
   },
   {
    "duration": 17,
    "start_time": "2022-11-27T10:59:54.166Z"
   },
   {
    "duration": 31,
    "start_time": "2022-11-27T10:59:54.185Z"
   },
   {
    "duration": 59,
    "start_time": "2022-11-27T10:59:54.219Z"
   },
   {
    "duration": 28,
    "start_time": "2022-11-27T10:59:54.280Z"
   },
   {
    "duration": 143,
    "start_time": "2022-11-27T10:59:54.314Z"
   },
   {
    "duration": 30,
    "start_time": "2022-11-27T10:59:54.458Z"
   },
   {
    "duration": 21,
    "start_time": "2022-11-27T10:59:54.490Z"
   },
   {
    "duration": 6,
    "start_time": "2022-11-27T10:59:54.512Z"
   },
   {
    "duration": 17,
    "start_time": "2022-11-27T10:59:54.520Z"
   },
   {
    "duration": 11,
    "start_time": "2022-11-27T10:59:54.538Z"
   },
   {
    "duration": 36,
    "start_time": "2022-11-27T10:59:54.554Z"
   },
   {
    "duration": 22,
    "start_time": "2022-11-27T10:59:54.591Z"
   },
   {
    "duration": 17,
    "start_time": "2022-11-27T10:59:54.615Z"
   },
   {
    "duration": 125,
    "start_time": "2022-11-27T10:59:54.634Z"
   },
   {
    "duration": 22,
    "start_time": "2022-11-27T10:59:54.760Z"
   }
  ],
  "kernelspec": {
   "display_name": "Python 3 (ipykernel)",
   "language": "python",
   "name": "python3"
  },
  "language_info": {
   "codemirror_mode": {
    "name": "ipython",
    "version": 3
   },
   "file_extension": ".py",
   "mimetype": "text/x-python",
   "name": "python",
   "nbconvert_exporter": "python",
   "pygments_lexer": "ipython3",
   "version": "3.9.7"
  },
  "toc": {
   "base_numbering": 1,
   "nav_menu": {},
   "number_sections": true,
   "sideBar": true,
   "skip_h1_title": true,
   "title_cell": "Содержание",
   "title_sidebar": "Contents",
   "toc_cell": true,
   "toc_position": {},
   "toc_section_display": true,
   "toc_window_display": true
  }
 },
 "nbformat": 4,
 "nbformat_minor": 2
}
