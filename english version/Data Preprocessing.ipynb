{
 "cells": [
  {
   "cell_type": "markdown",
   "id": "4f29ef75",
   "metadata": {},
   "source": [
    "# A study of the reliability of borrowers."
   ]
  },
  {
   "cell_type": "markdown",
   "id": "89deb333",
   "metadata": {},
   "source": [
    "### Project Description\n",
    "The customer is the credit department of a bank. We need to find out whether marital status and the number of children of the client on the fact of repayment of the loan on time. Input data from the bank - statistics on\n",
    "solvency of clients.\n",
    "\n",
    "The results of the research will be taken into account when building a model of credit scoring - a special system that evaluates the potential borrower's ability to repay the loan to the bank.\n"
   ]
  },
  {
   "cell_type": "markdown",
   "id": "37fdc322",
   "metadata": {},
   "source": [
    "The customer is the credit department of a bank.\n",
    "\n",
    "It is necessary to find out:\n",
    "- whether marital status affects the fact of loan repayment on time;\n",
    "- whether the number of children of the client affects the fact of loan repayment in time.\n",
    "\n",
    "Input data from the bank - statistics on the solvency of clients.\n",
    "\n",
    "The results of the research will be taken into account when building a credit scoring model - a special system that assesses the ability of a potential borrower to repay the loan to the bank."
   ]
  },
  {
   "cell_type": "markdown",
   "id": "5b82a8b2",
   "metadata": {},
   "source": [
    "### Step 1: Review the data"
   ]
  },
  {
   "cell_type": "code",
   "execution_count": 1,
   "id": "2237730a",
   "metadata": {},
   "outputs": [],
   "source": [
    "#pip install nb_black"
   ]
  },
  {
   "cell_type": "code",
   "execution_count": 2,
   "id": "4f99bfa6",
   "metadata": {},
   "outputs": [
    {
     "data": {
      "application/javascript": [
       "\n",
       "            setTimeout(function() {\n",
       "                var nbb_cell_id = 2;\n",
       "                var nbb_unformatted_code = \"%load_ext nb_black\";\n",
       "                var nbb_formatted_code = \"%load_ext nb_black\";\n",
       "                var nbb_cells = Jupyter.notebook.get_cells();\n",
       "                for (var i = 0; i < nbb_cells.length; ++i) {\n",
       "                    if (nbb_cells[i].input_prompt_number == nbb_cell_id) {\n",
       "                        if (nbb_cells[i].get_text() == nbb_unformatted_code) {\n",
       "                             nbb_cells[i].set_text(nbb_formatted_code);\n",
       "                        }\n",
       "                        break;\n",
       "                    }\n",
       "                }\n",
       "            }, 500);\n",
       "            "
      ],
      "text/plain": [
       "<IPython.core.display.Javascript object>"
      ]
     },
     "metadata": {},
     "output_type": "display_data"
    }
   ],
   "source": [
    "%load_ext nb_black"
   ]
  },
  {
   "cell_type": "code",
   "execution_count": 3,
   "id": "57c58b54",
   "metadata": {},
   "outputs": [
    {
     "data": {
      "application/javascript": [
       "\n",
       "            setTimeout(function() {\n",
       "                var nbb_cell_id = 3;\n",
       "                var nbb_unformatted_code = \"import pandas as pd\";\n",
       "                var nbb_formatted_code = \"import pandas as pd\";\n",
       "                var nbb_cells = Jupyter.notebook.get_cells();\n",
       "                for (var i = 0; i < nbb_cells.length; ++i) {\n",
       "                    if (nbb_cells[i].input_prompt_number == nbb_cell_id) {\n",
       "                        if (nbb_cells[i].get_text() == nbb_unformatted_code) {\n",
       "                             nbb_cells[i].set_text(nbb_formatted_code);\n",
       "                        }\n",
       "                        break;\n",
       "                    }\n",
       "                }\n",
       "            }, 500);\n",
       "            "
      ],
      "text/plain": [
       "<IPython.core.display.Javascript object>"
      ]
     },
     "metadata": {},
     "output_type": "display_data"
    }
   ],
   "source": [
    "import pandas as pd"
   ]
  },
  {
   "cell_type": "code",
   "execution_count": 4,
   "id": "1775e7d2",
   "metadata": {},
   "outputs": [
    {
     "data": {
      "application/javascript": [
       "\n",
       "            setTimeout(function() {\n",
       "                var nbb_cell_id = 4;\n",
       "                var nbb_unformatted_code = \"df = pd.read_csv(\\\"/datasets/data.csv\\\")\";\n",
       "                var nbb_formatted_code = \"df = pd.read_csv(\\\"/datasets/data.csv\\\")\";\n",
       "                var nbb_cells = Jupyter.notebook.get_cells();\n",
       "                for (var i = 0; i < nbb_cells.length; ++i) {\n",
       "                    if (nbb_cells[i].input_prompt_number == nbb_cell_id) {\n",
       "                        if (nbb_cells[i].get_text() == nbb_unformatted_code) {\n",
       "                             nbb_cells[i].set_text(nbb_formatted_code);\n",
       "                        }\n",
       "                        break;\n",
       "                    }\n",
       "                }\n",
       "            }, 500);\n",
       "            "
      ],
      "text/plain": [
       "<IPython.core.display.Javascript object>"
      ]
     },
     "metadata": {},
     "output_type": "display_data"
    }
   ],
   "source": [
    "df = pd.read_csv(\"/datasets/data.csv\")"
   ]
  },
  {
   "cell_type": "code",
   "execution_count": 5,
   "id": "2d57e104",
   "metadata": {},
   "outputs": [
    {
     "data": {
      "text/html": [
       "<div>\n",
       "<style scoped>\n",
       "    .dataframe tbody tr th:only-of-type {\n",
       "        vertical-align: middle;\n",
       "    }\n",
       "\n",
       "    .dataframe tbody tr th {\n",
       "        vertical-align: top;\n",
       "    }\n",
       "\n",
       "    .dataframe thead th {\n",
       "        text-align: right;\n",
       "    }\n",
       "</style>\n",
       "<table border=\"1\" class=\"dataframe\">\n",
       "  <thead>\n",
       "    <tr style=\"text-align: right;\">\n",
       "      <th></th>\n",
       "      <th>children</th>\n",
       "      <th>days_employed</th>\n",
       "      <th>dob_years</th>\n",
       "      <th>education</th>\n",
       "      <th>education_id</th>\n",
       "      <th>family_status</th>\n",
       "      <th>family_status_id</th>\n",
       "      <th>gender</th>\n",
       "      <th>income_type</th>\n",
       "      <th>debt</th>\n",
       "      <th>total_income</th>\n",
       "      <th>purpose</th>\n",
       "    </tr>\n",
       "  </thead>\n",
       "  <tbody>\n",
       "    <tr>\n",
       "      <th>0</th>\n",
       "      <td>1</td>\n",
       "      <td>-8437.673028</td>\n",
       "      <td>42</td>\n",
       "      <td>высшее</td>\n",
       "      <td>0</td>\n",
       "      <td>женат / замужем</td>\n",
       "      <td>0</td>\n",
       "      <td>F</td>\n",
       "      <td>сотрудник</td>\n",
       "      <td>0</td>\n",
       "      <td>253875.639453</td>\n",
       "      <td>покупка жилья</td>\n",
       "    </tr>\n",
       "    <tr>\n",
       "      <th>1</th>\n",
       "      <td>1</td>\n",
       "      <td>-4024.803754</td>\n",
       "      <td>36</td>\n",
       "      <td>среднее</td>\n",
       "      <td>1</td>\n",
       "      <td>женат / замужем</td>\n",
       "      <td>0</td>\n",
       "      <td>F</td>\n",
       "      <td>сотрудник</td>\n",
       "      <td>0</td>\n",
       "      <td>112080.014102</td>\n",
       "      <td>приобретение автомобиля</td>\n",
       "    </tr>\n",
       "    <tr>\n",
       "      <th>2</th>\n",
       "      <td>0</td>\n",
       "      <td>-5623.422610</td>\n",
       "      <td>33</td>\n",
       "      <td>Среднее</td>\n",
       "      <td>1</td>\n",
       "      <td>женат / замужем</td>\n",
       "      <td>0</td>\n",
       "      <td>M</td>\n",
       "      <td>сотрудник</td>\n",
       "      <td>0</td>\n",
       "      <td>145885.952297</td>\n",
       "      <td>покупка жилья</td>\n",
       "    </tr>\n",
       "    <tr>\n",
       "      <th>3</th>\n",
       "      <td>3</td>\n",
       "      <td>-4124.747207</td>\n",
       "      <td>32</td>\n",
       "      <td>среднее</td>\n",
       "      <td>1</td>\n",
       "      <td>женат / замужем</td>\n",
       "      <td>0</td>\n",
       "      <td>M</td>\n",
       "      <td>сотрудник</td>\n",
       "      <td>0</td>\n",
       "      <td>267628.550329</td>\n",
       "      <td>дополнительное образование</td>\n",
       "    </tr>\n",
       "    <tr>\n",
       "      <th>4</th>\n",
       "      <td>0</td>\n",
       "      <td>340266.072047</td>\n",
       "      <td>53</td>\n",
       "      <td>среднее</td>\n",
       "      <td>1</td>\n",
       "      <td>гражданский брак</td>\n",
       "      <td>1</td>\n",
       "      <td>F</td>\n",
       "      <td>пенсионер</td>\n",
       "      <td>0</td>\n",
       "      <td>158616.077870</td>\n",
       "      <td>сыграть свадьбу</td>\n",
       "    </tr>\n",
       "    <tr>\n",
       "      <th>5</th>\n",
       "      <td>0</td>\n",
       "      <td>-926.185831</td>\n",
       "      <td>27</td>\n",
       "      <td>высшее</td>\n",
       "      <td>0</td>\n",
       "      <td>гражданский брак</td>\n",
       "      <td>1</td>\n",
       "      <td>M</td>\n",
       "      <td>компаньон</td>\n",
       "      <td>0</td>\n",
       "      <td>255763.565419</td>\n",
       "      <td>покупка жилья</td>\n",
       "    </tr>\n",
       "    <tr>\n",
       "      <th>6</th>\n",
       "      <td>0</td>\n",
       "      <td>-2879.202052</td>\n",
       "      <td>43</td>\n",
       "      <td>высшее</td>\n",
       "      <td>0</td>\n",
       "      <td>женат / замужем</td>\n",
       "      <td>0</td>\n",
       "      <td>F</td>\n",
       "      <td>компаньон</td>\n",
       "      <td>0</td>\n",
       "      <td>240525.971920</td>\n",
       "      <td>операции с жильем</td>\n",
       "    </tr>\n",
       "    <tr>\n",
       "      <th>7</th>\n",
       "      <td>0</td>\n",
       "      <td>-152.779569</td>\n",
       "      <td>50</td>\n",
       "      <td>СРЕДНЕЕ</td>\n",
       "      <td>1</td>\n",
       "      <td>женат / замужем</td>\n",
       "      <td>0</td>\n",
       "      <td>M</td>\n",
       "      <td>сотрудник</td>\n",
       "      <td>0</td>\n",
       "      <td>135823.934197</td>\n",
       "      <td>образование</td>\n",
       "    </tr>\n",
       "    <tr>\n",
       "      <th>8</th>\n",
       "      <td>2</td>\n",
       "      <td>-6929.865299</td>\n",
       "      <td>35</td>\n",
       "      <td>ВЫСШЕЕ</td>\n",
       "      <td>0</td>\n",
       "      <td>гражданский брак</td>\n",
       "      <td>1</td>\n",
       "      <td>F</td>\n",
       "      <td>сотрудник</td>\n",
       "      <td>0</td>\n",
       "      <td>95856.832424</td>\n",
       "      <td>на проведение свадьбы</td>\n",
       "    </tr>\n",
       "    <tr>\n",
       "      <th>9</th>\n",
       "      <td>0</td>\n",
       "      <td>-2188.756445</td>\n",
       "      <td>41</td>\n",
       "      <td>среднее</td>\n",
       "      <td>1</td>\n",
       "      <td>женат / замужем</td>\n",
       "      <td>0</td>\n",
       "      <td>M</td>\n",
       "      <td>сотрудник</td>\n",
       "      <td>0</td>\n",
       "      <td>144425.938277</td>\n",
       "      <td>покупка жилья для семьи</td>\n",
       "    </tr>\n",
       "  </tbody>\n",
       "</table>\n",
       "</div>"
      ],
      "text/plain": [
       "   children  days_employed  dob_years education  education_id  \\\n",
       "0         1   -8437.673028         42    высшее             0   \n",
       "1         1   -4024.803754         36   среднее             1   \n",
       "2         0   -5623.422610         33   Среднее             1   \n",
       "3         3   -4124.747207         32   среднее             1   \n",
       "4         0  340266.072047         53   среднее             1   \n",
       "5         0    -926.185831         27    высшее             0   \n",
       "6         0   -2879.202052         43    высшее             0   \n",
       "7         0    -152.779569         50   СРЕДНЕЕ             1   \n",
       "8         2   -6929.865299         35    ВЫСШЕЕ             0   \n",
       "9         0   -2188.756445         41   среднее             1   \n",
       "\n",
       "      family_status  family_status_id gender income_type  debt   total_income  \\\n",
       "0   женат / замужем                 0      F   сотрудник     0  253875.639453   \n",
       "1   женат / замужем                 0      F   сотрудник     0  112080.014102   \n",
       "2   женат / замужем                 0      M   сотрудник     0  145885.952297   \n",
       "3   женат / замужем                 0      M   сотрудник     0  267628.550329   \n",
       "4  гражданский брак                 1      F   пенсионер     0  158616.077870   \n",
       "5  гражданский брак                 1      M   компаньон     0  255763.565419   \n",
       "6   женат / замужем                 0      F   компаньон     0  240525.971920   \n",
       "7   женат / замужем                 0      M   сотрудник     0  135823.934197   \n",
       "8  гражданский брак                 1      F   сотрудник     0   95856.832424   \n",
       "9   женат / замужем                 0      M   сотрудник     0  144425.938277   \n",
       "\n",
       "                      purpose  \n",
       "0               покупка жилья  \n",
       "1     приобретение автомобиля  \n",
       "2               покупка жилья  \n",
       "3  дополнительное образование  \n",
       "4             сыграть свадьбу  \n",
       "5               покупка жилья  \n",
       "6           операции с жильем  \n",
       "7                 образование  \n",
       "8       на проведение свадьбы  \n",
       "9     покупка жилья для семьи  "
      ]
     },
     "execution_count": 5,
     "metadata": {},
     "output_type": "execute_result"
    },
    {
     "data": {
      "application/javascript": [
       "\n",
       "            setTimeout(function() {\n",
       "                var nbb_cell_id = 5;\n",
       "                var nbb_unformatted_code = \"df.head(10)\";\n",
       "                var nbb_formatted_code = \"df.head(10)\";\n",
       "                var nbb_cells = Jupyter.notebook.get_cells();\n",
       "                for (var i = 0; i < nbb_cells.length; ++i) {\n",
       "                    if (nbb_cells[i].input_prompt_number == nbb_cell_id) {\n",
       "                        if (nbb_cells[i].get_text() == nbb_unformatted_code) {\n",
       "                             nbb_cells[i].set_text(nbb_formatted_code);\n",
       "                        }\n",
       "                        break;\n",
       "                    }\n",
       "                }\n",
       "            }, 500);\n",
       "            "
      ],
      "text/plain": [
       "<IPython.core.display.Javascript object>"
      ]
     },
     "metadata": {},
     "output_type": "display_data"
    }
   ],
   "source": [
    "df.head(10)"
   ]
  },
  {
   "cell_type": "code",
   "execution_count": 6,
   "id": "2a2f9fff",
   "metadata": {
    "scrolled": true
   },
   "outputs": [
    {
     "data": {
      "text/plain": [
       "(21525, 12)"
      ]
     },
     "execution_count": 6,
     "metadata": {},
     "output_type": "execute_result"
    },
    {
     "data": {
      "application/javascript": [
       "\n",
       "            setTimeout(function() {\n",
       "                var nbb_cell_id = 6;\n",
       "                var nbb_unformatted_code = \"df.shape\";\n",
       "                var nbb_formatted_code = \"df.shape\";\n",
       "                var nbb_cells = Jupyter.notebook.get_cells();\n",
       "                for (var i = 0; i < nbb_cells.length; ++i) {\n",
       "                    if (nbb_cells[i].input_prompt_number == nbb_cell_id) {\n",
       "                        if (nbb_cells[i].get_text() == nbb_unformatted_code) {\n",
       "                             nbb_cells[i].set_text(nbb_formatted_code);\n",
       "                        }\n",
       "                        break;\n",
       "                    }\n",
       "                }\n",
       "            }, 500);\n",
       "            "
      ],
      "text/plain": [
       "<IPython.core.display.Javascript object>"
      ]
     },
     "metadata": {},
     "output_type": "display_data"
    }
   ],
   "source": [
    "df.shape"
   ]
  },
  {
   "cell_type": "markdown",
   "id": "88e8bc7e",
   "metadata": {},
   "source": [
    "Let's get general information about df."
   ]
  },
  {
   "cell_type": "code",
   "execution_count": 7,
   "id": "dfb478ed",
   "metadata": {},
   "outputs": [
    {
     "name": "stdout",
     "output_type": "stream",
     "text": [
      "<class 'pandas.core.frame.DataFrame'>\n",
      "RangeIndex: 21525 entries, 0 to 21524\n",
      "Data columns (total 12 columns):\n",
      " #   Column            Non-Null Count  Dtype  \n",
      "---  ------            --------------  -----  \n",
      " 0   children          21525 non-null  int64  \n",
      " 1   days_employed     19351 non-null  float64\n",
      " 2   dob_years         21525 non-null  int64  \n",
      " 3   education         21525 non-null  object \n",
      " 4   education_id      21525 non-null  int64  \n",
      " 5   family_status     21525 non-null  object \n",
      " 6   family_status_id  21525 non-null  int64  \n",
      " 7   gender            21525 non-null  object \n",
      " 8   income_type       21525 non-null  object \n",
      " 9   debt              21525 non-null  int64  \n",
      " 10  total_income      19351 non-null  float64\n",
      " 11  purpose           21525 non-null  object \n",
      "dtypes: float64(2), int64(5), object(5)\n",
      "memory usage: 2.0+ MB\n"
     ]
    },
    {
     "data": {
      "application/javascript": [
       "\n",
       "            setTimeout(function() {\n",
       "                var nbb_cell_id = 7;\n",
       "                var nbb_unformatted_code = \"df.info()\";\n",
       "                var nbb_formatted_code = \"df.info()\";\n",
       "                var nbb_cells = Jupyter.notebook.get_cells();\n",
       "                for (var i = 0; i < nbb_cells.length; ++i) {\n",
       "                    if (nbb_cells[i].input_prompt_number == nbb_cell_id) {\n",
       "                        if (nbb_cells[i].get_text() == nbb_unformatted_code) {\n",
       "                             nbb_cells[i].set_text(nbb_formatted_code);\n",
       "                        }\n",
       "                        break;\n",
       "                    }\n",
       "                }\n",
       "            }, 500);\n",
       "            "
      ],
      "text/plain": [
       "<IPython.core.display.Javascript object>"
      ]
     },
     "metadata": {},
     "output_type": "display_data"
    }
   ],
   "source": [
    "df.info()"
   ]
  },
  {
   "cell_type": "markdown",
   "id": "630dc32e",
   "metadata": {},
   "source": [
    "We see that the dataframe contains data of integer, real and string types. It should also be noted that the columns `days_employed` and `total_income` contain omissions."
   ]
  },
  {
   "cell_type": "markdown",
   "id": "051299c0",
   "metadata": {},
   "source": [
    "### Step 2.1 Filling in the passes"
   ]
  },
  {
   "cell_type": "markdown",
   "id": "53f03d45",
   "metadata": {},
   "source": [
    "Determine the type of missing values."
   ]
  },
  {
   "cell_type": "code",
   "execution_count": 8,
   "id": "b86642ca",
   "metadata": {
    "scrolled": true
   },
   "outputs": [
    {
     "data": {
      "text/html": [
       "<div>\n",
       "<style scoped>\n",
       "    .dataframe tbody tr th:only-of-type {\n",
       "        vertical-align: middle;\n",
       "    }\n",
       "\n",
       "    .dataframe tbody tr th {\n",
       "        vertical-align: top;\n",
       "    }\n",
       "\n",
       "    .dataframe thead th {\n",
       "        text-align: right;\n",
       "    }\n",
       "</style>\n",
       "<table border=\"1\" class=\"dataframe\">\n",
       "  <thead>\n",
       "    <tr style=\"text-align: right;\">\n",
       "      <th></th>\n",
       "      <th>children</th>\n",
       "      <th>days_employed</th>\n",
       "      <th>dob_years</th>\n",
       "      <th>education</th>\n",
       "      <th>education_id</th>\n",
       "      <th>family_status</th>\n",
       "      <th>family_status_id</th>\n",
       "      <th>gender</th>\n",
       "      <th>income_type</th>\n",
       "      <th>debt</th>\n",
       "      <th>total_income</th>\n",
       "      <th>purpose</th>\n",
       "    </tr>\n",
       "  </thead>\n",
       "  <tbody>\n",
       "    <tr>\n",
       "      <th>12</th>\n",
       "      <td>0</td>\n",
       "      <td>NaN</td>\n",
       "      <td>65</td>\n",
       "      <td>среднее</td>\n",
       "      <td>1</td>\n",
       "      <td>гражданский брак</td>\n",
       "      <td>1</td>\n",
       "      <td>M</td>\n",
       "      <td>пенсионер</td>\n",
       "      <td>0</td>\n",
       "      <td>NaN</td>\n",
       "      <td>сыграть свадьбу</td>\n",
       "    </tr>\n",
       "    <tr>\n",
       "      <th>26</th>\n",
       "      <td>0</td>\n",
       "      <td>NaN</td>\n",
       "      <td>41</td>\n",
       "      <td>среднее</td>\n",
       "      <td>1</td>\n",
       "      <td>женат / замужем</td>\n",
       "      <td>0</td>\n",
       "      <td>M</td>\n",
       "      <td>госслужащий</td>\n",
       "      <td>0</td>\n",
       "      <td>NaN</td>\n",
       "      <td>образование</td>\n",
       "    </tr>\n",
       "    <tr>\n",
       "      <th>29</th>\n",
       "      <td>0</td>\n",
       "      <td>NaN</td>\n",
       "      <td>63</td>\n",
       "      <td>среднее</td>\n",
       "      <td>1</td>\n",
       "      <td>Не женат / не замужем</td>\n",
       "      <td>4</td>\n",
       "      <td>F</td>\n",
       "      <td>пенсионер</td>\n",
       "      <td>0</td>\n",
       "      <td>NaN</td>\n",
       "      <td>строительство жилой недвижимости</td>\n",
       "    </tr>\n",
       "    <tr>\n",
       "      <th>41</th>\n",
       "      <td>0</td>\n",
       "      <td>NaN</td>\n",
       "      <td>50</td>\n",
       "      <td>среднее</td>\n",
       "      <td>1</td>\n",
       "      <td>женат / замужем</td>\n",
       "      <td>0</td>\n",
       "      <td>F</td>\n",
       "      <td>госслужащий</td>\n",
       "      <td>0</td>\n",
       "      <td>NaN</td>\n",
       "      <td>сделка с подержанным автомобилем</td>\n",
       "    </tr>\n",
       "    <tr>\n",
       "      <th>55</th>\n",
       "      <td>0</td>\n",
       "      <td>NaN</td>\n",
       "      <td>54</td>\n",
       "      <td>среднее</td>\n",
       "      <td>1</td>\n",
       "      <td>гражданский брак</td>\n",
       "      <td>1</td>\n",
       "      <td>F</td>\n",
       "      <td>пенсионер</td>\n",
       "      <td>1</td>\n",
       "      <td>NaN</td>\n",
       "      <td>сыграть свадьбу</td>\n",
       "    </tr>\n",
       "  </tbody>\n",
       "</table>\n",
       "</div>"
      ],
      "text/plain": [
       "    children  days_employed  dob_years education  education_id  \\\n",
       "12         0            NaN         65   среднее             1   \n",
       "26         0            NaN         41   среднее             1   \n",
       "29         0            NaN         63   среднее             1   \n",
       "41         0            NaN         50   среднее             1   \n",
       "55         0            NaN         54   среднее             1   \n",
       "\n",
       "            family_status  family_status_id gender  income_type  debt  \\\n",
       "12       гражданский брак                 1      M    пенсионер     0   \n",
       "26        женат / замужем                 0      M  госслужащий     0   \n",
       "29  Не женат / не замужем                 4      F    пенсионер     0   \n",
       "41        женат / замужем                 0      F  госслужащий     0   \n",
       "55       гражданский брак                 1      F    пенсионер     1   \n",
       "\n",
       "    total_income                           purpose  \n",
       "12           NaN                   сыграть свадьбу  \n",
       "26           NaN                       образование  \n",
       "29           NaN  строительство жилой недвижимости  \n",
       "41           NaN  сделка с подержанным автомобилем  \n",
       "55           NaN                   сыграть свадьбу  "
      ]
     },
     "execution_count": 8,
     "metadata": {},
     "output_type": "execute_result"
    },
    {
     "data": {
      "application/javascript": [
       "\n",
       "            setTimeout(function() {\n",
       "                var nbb_cell_id = 8;\n",
       "                var nbb_unformatted_code = \"df[df[\\\"total_income\\\"].isna()].head()\";\n",
       "                var nbb_formatted_code = \"df[df[\\\"total_income\\\"].isna()].head()\";\n",
       "                var nbb_cells = Jupyter.notebook.get_cells();\n",
       "                for (var i = 0; i < nbb_cells.length; ++i) {\n",
       "                    if (nbb_cells[i].input_prompt_number == nbb_cell_id) {\n",
       "                        if (nbb_cells[i].get_text() == nbb_unformatted_code) {\n",
       "                             nbb_cells[i].set_text(nbb_formatted_code);\n",
       "                        }\n",
       "                        break;\n",
       "                    }\n",
       "                }\n",
       "            }, 500);\n",
       "            "
      ],
      "text/plain": [
       "<IPython.core.display.Javascript object>"
      ]
     },
     "metadata": {},
     "output_type": "display_data"
    }
   ],
   "source": [
    "df[df[\"total_income\"].isna()].head()"
   ]
  },
  {
   "cell_type": "markdown",
   "id": "324e7034",
   "metadata": {},
   "source": [
    "We get that the `days_employed` and `total_income` columns contain missing data of type `NaN`."
   ]
  },
  {
   "cell_type": "markdown",
   "id": "fd471585",
   "metadata": {},
   "source": [
    "Find the number of gaps in these columns."
   ]
  },
  {
   "cell_type": "code",
   "execution_count": 9,
   "id": "74ad3d4d",
   "metadata": {},
   "outputs": [
    {
     "data": {
      "text/plain": [
       "2174"
      ]
     },
     "execution_count": 9,
     "metadata": {},
     "output_type": "execute_result"
    },
    {
     "data": {
      "application/javascript": [
       "\n",
       "            setTimeout(function() {\n",
       "                var nbb_cell_id = 9;\n",
       "                var nbb_unformatted_code = \"df[\\\"days_employed\\\"].isna().sum()\";\n",
       "                var nbb_formatted_code = \"df[\\\"days_employed\\\"].isna().sum()\";\n",
       "                var nbb_cells = Jupyter.notebook.get_cells();\n",
       "                for (var i = 0; i < nbb_cells.length; ++i) {\n",
       "                    if (nbb_cells[i].input_prompt_number == nbb_cell_id) {\n",
       "                        if (nbb_cells[i].get_text() == nbb_unformatted_code) {\n",
       "                             nbb_cells[i].set_text(nbb_formatted_code);\n",
       "                        }\n",
       "                        break;\n",
       "                    }\n",
       "                }\n",
       "            }, 500);\n",
       "            "
      ],
      "text/plain": [
       "<IPython.core.display.Javascript object>"
      ]
     },
     "metadata": {},
     "output_type": "display_data"
    }
   ],
   "source": [
    "df[\"days_employed\"].isna().sum()"
   ]
  },
  {
   "cell_type": "code",
   "execution_count": 10,
   "id": "d41b1c95",
   "metadata": {},
   "outputs": [
    {
     "data": {
      "text/plain": [
       "2174"
      ]
     },
     "execution_count": 10,
     "metadata": {},
     "output_type": "execute_result"
    },
    {
     "data": {
      "application/javascript": [
       "\n",
       "            setTimeout(function() {\n",
       "                var nbb_cell_id = 10;\n",
       "                var nbb_unformatted_code = \"df[\\\"total_income\\\"].isna().sum()\";\n",
       "                var nbb_formatted_code = \"df[\\\"total_income\\\"].isna().sum()\";\n",
       "                var nbb_cells = Jupyter.notebook.get_cells();\n",
       "                for (var i = 0; i < nbb_cells.length; ++i) {\n",
       "                    if (nbb_cells[i].input_prompt_number == nbb_cell_id) {\n",
       "                        if (nbb_cells[i].get_text() == nbb_unformatted_code) {\n",
       "                             nbb_cells[i].set_text(nbb_formatted_code);\n",
       "                        }\n",
       "                        break;\n",
       "                    }\n",
       "                }\n",
       "            }, 500);\n",
       "            "
      ],
      "text/plain": [
       "<IPython.core.display.Javascript object>"
      ]
     },
     "metadata": {},
     "output_type": "display_data"
    }
   ],
   "source": [
    "df[\"total_income\"].isna().sum()"
   ]
  },
  {
   "cell_type": "markdown",
   "id": "cf5e379c",
   "metadata": {},
   "source": [
    "Calculate the fraction of missing values in each of the columns with missing values."
   ]
  },
  {
   "cell_type": "code",
   "execution_count": 11,
   "id": "f8d915bb",
   "metadata": {},
   "outputs": [
    {
     "data": {
      "text/plain": [
       "0.10099883855981417"
      ]
     },
     "execution_count": 11,
     "metadata": {},
     "output_type": "execute_result"
    },
    {
     "data": {
      "application/javascript": [
       "\n",
       "            setTimeout(function() {\n",
       "                var nbb_cell_id = 11;\n",
       "                var nbb_unformatted_code = \"df[\\\"days_employed\\\"].isna().mean()\";\n",
       "                var nbb_formatted_code = \"df[\\\"days_employed\\\"].isna().mean()\";\n",
       "                var nbb_cells = Jupyter.notebook.get_cells();\n",
       "                for (var i = 0; i < nbb_cells.length; ++i) {\n",
       "                    if (nbb_cells[i].input_prompt_number == nbb_cell_id) {\n",
       "                        if (nbb_cells[i].get_text() == nbb_unformatted_code) {\n",
       "                             nbb_cells[i].set_text(nbb_formatted_code);\n",
       "                        }\n",
       "                        break;\n",
       "                    }\n",
       "                }\n",
       "            }, 500);\n",
       "            "
      ],
      "text/plain": [
       "<IPython.core.display.Javascript object>"
      ]
     },
     "metadata": {},
     "output_type": "display_data"
    }
   ],
   "source": [
    "df[\"days_employed\"].isna().mean()"
   ]
  },
  {
   "cell_type": "code",
   "execution_count": 12,
   "id": "fbe872a5",
   "metadata": {},
   "outputs": [
    {
     "data": {
      "text/plain": [
       "0.10099883855981417"
      ]
     },
     "execution_count": 12,
     "metadata": {},
     "output_type": "execute_result"
    },
    {
     "data": {
      "application/javascript": [
       "\n",
       "            setTimeout(function() {\n",
       "                var nbb_cell_id = 12;\n",
       "                var nbb_unformatted_code = \"df[\\\"total_income\\\"].isna().mean()\";\n",
       "                var nbb_formatted_code = \"df[\\\"total_income\\\"].isna().mean()\";\n",
       "                var nbb_cells = Jupyter.notebook.get_cells();\n",
       "                for (var i = 0; i < nbb_cells.length; ++i) {\n",
       "                    if (nbb_cells[i].input_prompt_number == nbb_cell_id) {\n",
       "                        if (nbb_cells[i].get_text() == nbb_unformatted_code) {\n",
       "                             nbb_cells[i].set_text(nbb_formatted_code);\n",
       "                        }\n",
       "                        break;\n",
       "                    }\n",
       "                }\n",
       "            }, 500);\n",
       "            "
      ],
      "text/plain": [
       "<IPython.core.display.Javascript object>"
      ]
     },
     "metadata": {},
     "output_type": "display_data"
    }
   ],
   "source": [
    "df[\"total_income\"].isna().mean()"
   ]
  },
  {
   "cell_type": "markdown",
   "id": "aa0dfa38",
   "metadata": {},
   "source": [
    "We obtained that the `days_employed` and `total_income` columns have the same share of missing values - 10%. This is due to the fact that monthly income directly depends on the total length of employment. Therefore, if no values are specified in the `days_employed` column, the `total_income` column will also have undefined values."
   ]
  },
  {
   "cell_type": "markdown",
   "id": "f27fc18d",
   "metadata": {},
   "source": [
    "Оbtain the distribution statistics of the `days_employed` and `total_income` columns."
   ]
  },
  {
   "cell_type": "code",
   "execution_count": 13,
   "id": "ca4f6abb",
   "metadata": {},
   "outputs": [
    {
     "data": {
      "text/plain": [
       "count     19351.000000\n",
       "mean      63046.497661\n",
       "std      140827.311974\n",
       "min      -18388.949901\n",
       "25%       -2747.423625\n",
       "50%       -1203.369529\n",
       "75%        -291.095954\n",
       "max      401755.400475\n",
       "Name: days_employed, dtype: float64"
      ]
     },
     "execution_count": 13,
     "metadata": {},
     "output_type": "execute_result"
    },
    {
     "data": {
      "application/javascript": [
       "\n",
       "            setTimeout(function() {\n",
       "                var nbb_cell_id = 13;\n",
       "                var nbb_unformatted_code = \"df[\\\"days_employed\\\"].describe()\";\n",
       "                var nbb_formatted_code = \"df[\\\"days_employed\\\"].describe()\";\n",
       "                var nbb_cells = Jupyter.notebook.get_cells();\n",
       "                for (var i = 0; i < nbb_cells.length; ++i) {\n",
       "                    if (nbb_cells[i].input_prompt_number == nbb_cell_id) {\n",
       "                        if (nbb_cells[i].get_text() == nbb_unformatted_code) {\n",
       "                             nbb_cells[i].set_text(nbb_formatted_code);\n",
       "                        }\n",
       "                        break;\n",
       "                    }\n",
       "                }\n",
       "            }, 500);\n",
       "            "
      ],
      "text/plain": [
       "<IPython.core.display.Javascript object>"
      ]
     },
     "metadata": {},
     "output_type": "display_data"
    }
   ],
   "source": [
    "df[\"days_employed\"].describe()"
   ]
  },
  {
   "cell_type": "code",
   "execution_count": 14,
   "id": "4eb58c04",
   "metadata": {},
   "outputs": [
    {
     "data": {
      "text/plain": [
       "count    1.935100e+04\n",
       "mean     1.674223e+05\n",
       "std      1.029716e+05\n",
       "min      2.066726e+04\n",
       "25%      1.030532e+05\n",
       "50%      1.450179e+05\n",
       "75%      2.034351e+05\n",
       "max      2.265604e+06\n",
       "Name: total_income, dtype: float64"
      ]
     },
     "execution_count": 14,
     "metadata": {},
     "output_type": "execute_result"
    },
    {
     "data": {
      "application/javascript": [
       "\n",
       "            setTimeout(function() {\n",
       "                var nbb_cell_id = 14;\n",
       "                var nbb_unformatted_code = \"df[\\\"total_income\\\"].describe()\";\n",
       "                var nbb_formatted_code = \"df[\\\"total_income\\\"].describe()\";\n",
       "                var nbb_cells = Jupyter.notebook.get_cells();\n",
       "                for (var i = 0; i < nbb_cells.length; ++i) {\n",
       "                    if (nbb_cells[i].input_prompt_number == nbb_cell_id) {\n",
       "                        if (nbb_cells[i].get_text() == nbb_unformatted_code) {\n",
       "                             nbb_cells[i].set_text(nbb_formatted_code);\n",
       "                        }\n",
       "                        break;\n",
       "                    }\n",
       "                }\n",
       "            }, 500);\n",
       "            "
      ],
      "text/plain": [
       "<IPython.core.display.Javascript object>"
      ]
     },
     "metadata": {},
     "output_type": "display_data"
    }
   ],
   "source": [
    "df[\"total_income\"].describe()"
   ]
  },
  {
   "cell_type": "markdown",
   "id": "dd7f9e4e",
   "metadata": {},
   "source": [
    "We see that in the `days_employed` column the minimum value is negative, which contradicts the name of this column. \n",
    "Most likely, an error occurred when filling the dataframe, and some data in the `days_employed` column were added with a minus sign. minus sign. Therefore, let's replace negative values in this column with absolute values."
   ]
  },
  {
   "cell_type": "code",
   "execution_count": 15,
   "id": "a2d31437",
   "metadata": {},
   "outputs": [
    {
     "data": {
      "application/javascript": [
       "\n",
       "            setTimeout(function() {\n",
       "                var nbb_cell_id = 15;\n",
       "                var nbb_unformatted_code = \"df[\\\"days_employed\\\"] = df[\\\"days_employed\\\"].abs()\";\n",
       "                var nbb_formatted_code = \"df[\\\"days_employed\\\"] = df[\\\"days_employed\\\"].abs()\";\n",
       "                var nbb_cells = Jupyter.notebook.get_cells();\n",
       "                for (var i = 0; i < nbb_cells.length; ++i) {\n",
       "                    if (nbb_cells[i].input_prompt_number == nbb_cell_id) {\n",
       "                        if (nbb_cells[i].get_text() == nbb_unformatted_code) {\n",
       "                             nbb_cells[i].set_text(nbb_formatted_code);\n",
       "                        }\n",
       "                        break;\n",
       "                    }\n",
       "                }\n",
       "            }, 500);\n",
       "            "
      ],
      "text/plain": [
       "<IPython.core.display.Javascript object>"
      ]
     },
     "metadata": {},
     "output_type": "display_data"
    }
   ],
   "source": [
    "df[\"days_employed\"] = df[\"days_employed\"].abs()"
   ]
  },
  {
   "cell_type": "code",
   "execution_count": 16,
   "id": "8ced341a",
   "metadata": {},
   "outputs": [
    {
     "data": {
      "text/plain": [
       "count     19351.000000\n",
       "mean      66914.728907\n",
       "std      139030.880527\n",
       "min          24.141633\n",
       "25%         927.009265\n",
       "50%        2194.220567\n",
       "75%        5537.882441\n",
       "max      401755.400475\n",
       "Name: days_employed, dtype: float64"
      ]
     },
     "execution_count": 16,
     "metadata": {},
     "output_type": "execute_result"
    },
    {
     "data": {
      "application/javascript": [
       "\n",
       "            setTimeout(function() {\n",
       "                var nbb_cell_id = 16;\n",
       "                var nbb_unformatted_code = \"df[\\\"days_employed\\\"].describe()\";\n",
       "                var nbb_formatted_code = \"df[\\\"days_employed\\\"].describe()\";\n",
       "                var nbb_cells = Jupyter.notebook.get_cells();\n",
       "                for (var i = 0; i < nbb_cells.length; ++i) {\n",
       "                    if (nbb_cells[i].input_prompt_number == nbb_cell_id) {\n",
       "                        if (nbb_cells[i].get_text() == nbb_unformatted_code) {\n",
       "                             nbb_cells[i].set_text(nbb_formatted_code);\n",
       "                        }\n",
       "                        break;\n",
       "                    }\n",
       "                }\n",
       "            }, 500);\n",
       "            "
      ],
      "text/plain": [
       "<IPython.core.display.Javascript object>"
      ]
     },
     "metadata": {},
     "output_type": "display_data"
    }
   ],
   "source": [
    "df[\"days_employed\"].describe()"
   ]
  },
  {
   "cell_type": "markdown",
   "id": "a61fae9b",
   "metadata": {},
   "source": [
    "We replace the omissions in these columns with median values because `days_employed` and `total_income` describe quantitative data and some values in these columns stand out strongly among the majority."
   ]
  },
  {
   "cell_type": "markdown",
   "id": "97ba9153",
   "metadata": {},
   "source": [
    "Find the median values:"
   ]
  },
  {
   "cell_type": "code",
   "execution_count": 17,
   "id": "3f637829",
   "metadata": {},
   "outputs": [
    {
     "data": {
      "application/javascript": [
       "\n",
       "            setTimeout(function() {\n",
       "                var nbb_cell_id = 17;\n",
       "                var nbb_unformatted_code = \"days_employed_median = df[\\\"days_employed\\\"].median()\";\n",
       "                var nbb_formatted_code = \"days_employed_median = df[\\\"days_employed\\\"].median()\";\n",
       "                var nbb_cells = Jupyter.notebook.get_cells();\n",
       "                for (var i = 0; i < nbb_cells.length; ++i) {\n",
       "                    if (nbb_cells[i].input_prompt_number == nbb_cell_id) {\n",
       "                        if (nbb_cells[i].get_text() == nbb_unformatted_code) {\n",
       "                             nbb_cells[i].set_text(nbb_formatted_code);\n",
       "                        }\n",
       "                        break;\n",
       "                    }\n",
       "                }\n",
       "            }, 500);\n",
       "            "
      ],
      "text/plain": [
       "<IPython.core.display.Javascript object>"
      ]
     },
     "metadata": {},
     "output_type": "display_data"
    }
   ],
   "source": [
    "days_employed_median = df[\"days_employed\"].median()"
   ]
  },
  {
   "cell_type": "code",
   "execution_count": 18,
   "id": "36fe8176",
   "metadata": {},
   "outputs": [
    {
     "data": {
      "text/plain": [
       "2194.220566878695"
      ]
     },
     "execution_count": 18,
     "metadata": {},
     "output_type": "execute_result"
    },
    {
     "data": {
      "application/javascript": [
       "\n",
       "            setTimeout(function() {\n",
       "                var nbb_cell_id = 18;\n",
       "                var nbb_unformatted_code = \"days_employed_median\";\n",
       "                var nbb_formatted_code = \"days_employed_median\";\n",
       "                var nbb_cells = Jupyter.notebook.get_cells();\n",
       "                for (var i = 0; i < nbb_cells.length; ++i) {\n",
       "                    if (nbb_cells[i].input_prompt_number == nbb_cell_id) {\n",
       "                        if (nbb_cells[i].get_text() == nbb_unformatted_code) {\n",
       "                             nbb_cells[i].set_text(nbb_formatted_code);\n",
       "                        }\n",
       "                        break;\n",
       "                    }\n",
       "                }\n",
       "            }, 500);\n",
       "            "
      ],
      "text/plain": [
       "<IPython.core.display.Javascript object>"
      ]
     },
     "metadata": {},
     "output_type": "display_data"
    }
   ],
   "source": [
    "days_employed_median"
   ]
  },
  {
   "cell_type": "code",
   "execution_count": 19,
   "id": "6212fd83",
   "metadata": {},
   "outputs": [
    {
     "data": {
      "application/javascript": [
       "\n",
       "            setTimeout(function() {\n",
       "                var nbb_cell_id = 19;\n",
       "                var nbb_unformatted_code = \"total_income_median = df[\\\"total_income\\\"].median()\";\n",
       "                var nbb_formatted_code = \"total_income_median = df[\\\"total_income\\\"].median()\";\n",
       "                var nbb_cells = Jupyter.notebook.get_cells();\n",
       "                for (var i = 0; i < nbb_cells.length; ++i) {\n",
       "                    if (nbb_cells[i].input_prompt_number == nbb_cell_id) {\n",
       "                        if (nbb_cells[i].get_text() == nbb_unformatted_code) {\n",
       "                             nbb_cells[i].set_text(nbb_formatted_code);\n",
       "                        }\n",
       "                        break;\n",
       "                    }\n",
       "                }\n",
       "            }, 500);\n",
       "            "
      ],
      "text/plain": [
       "<IPython.core.display.Javascript object>"
      ]
     },
     "metadata": {},
     "output_type": "display_data"
    }
   ],
   "source": [
    "total_income_median = df[\"total_income\"].median()"
   ]
  },
  {
   "cell_type": "code",
   "execution_count": 20,
   "id": "d9fe5de9",
   "metadata": {},
   "outputs": [
    {
     "data": {
      "text/plain": [
       "145017.93753253992"
      ]
     },
     "execution_count": 20,
     "metadata": {},
     "output_type": "execute_result"
    },
    {
     "data": {
      "application/javascript": [
       "\n",
       "            setTimeout(function() {\n",
       "                var nbb_cell_id = 20;\n",
       "                var nbb_unformatted_code = \"total_income_median\";\n",
       "                var nbb_formatted_code = \"total_income_median\";\n",
       "                var nbb_cells = Jupyter.notebook.get_cells();\n",
       "                for (var i = 0; i < nbb_cells.length; ++i) {\n",
       "                    if (nbb_cells[i].input_prompt_number == nbb_cell_id) {\n",
       "                        if (nbb_cells[i].get_text() == nbb_unformatted_code) {\n",
       "                             nbb_cells[i].set_text(nbb_formatted_code);\n",
       "                        }\n",
       "                        break;\n",
       "                    }\n",
       "                }\n",
       "            }, 500);\n",
       "            "
      ],
      "text/plain": [
       "<IPython.core.display.Javascript object>"
      ]
     },
     "metadata": {},
     "output_type": "display_data"
    }
   ],
   "source": [
    "total_income_median"
   ]
  },
  {
   "cell_type": "markdown",
   "id": "e2789822",
   "metadata": {},
   "source": [
    "Print the number of rows with median values in the considered columns."
   ]
  },
  {
   "cell_type": "code",
   "execution_count": 21,
   "id": "c2f6e842",
   "metadata": {},
   "outputs": [
    {
     "data": {
      "text/plain": [
       "1"
      ]
     },
     "execution_count": 21,
     "metadata": {},
     "output_type": "execute_result"
    },
    {
     "data": {
      "application/javascript": [
       "\n",
       "            setTimeout(function() {\n",
       "                var nbb_cell_id = 21;\n",
       "                var nbb_unformatted_code = \"df[df[\\\"days_employed\\\"] == days_employed_median][\\\"days_employed\\\"].count()\";\n",
       "                var nbb_formatted_code = \"df[df[\\\"days_employed\\\"] == days_employed_median][\\\"days_employed\\\"].count()\";\n",
       "                var nbb_cells = Jupyter.notebook.get_cells();\n",
       "                for (var i = 0; i < nbb_cells.length; ++i) {\n",
       "                    if (nbb_cells[i].input_prompt_number == nbb_cell_id) {\n",
       "                        if (nbb_cells[i].get_text() == nbb_unformatted_code) {\n",
       "                             nbb_cells[i].set_text(nbb_formatted_code);\n",
       "                        }\n",
       "                        break;\n",
       "                    }\n",
       "                }\n",
       "            }, 500);\n",
       "            "
      ],
      "text/plain": [
       "<IPython.core.display.Javascript object>"
      ]
     },
     "metadata": {},
     "output_type": "display_data"
    }
   ],
   "source": [
    "df[df[\"days_employed\"] == days_employed_median][\"days_employed\"].count()"
   ]
  },
  {
   "cell_type": "code",
   "execution_count": 22,
   "id": "53650557",
   "metadata": {},
   "outputs": [
    {
     "data": {
      "text/plain": [
       "1"
      ]
     },
     "execution_count": 22,
     "metadata": {},
     "output_type": "execute_result"
    },
    {
     "data": {
      "application/javascript": [
       "\n",
       "            setTimeout(function() {\n",
       "                var nbb_cell_id = 22;\n",
       "                var nbb_unformatted_code = \"df[df[\\\"total_income\\\"] == total_income_median][\\\"total_income\\\"].count()\";\n",
       "                var nbb_formatted_code = \"df[df[\\\"total_income\\\"] == total_income_median][\\\"total_income\\\"].count()\";\n",
       "                var nbb_cells = Jupyter.notebook.get_cells();\n",
       "                for (var i = 0; i < nbb_cells.length; ++i) {\n",
       "                    if (nbb_cells[i].input_prompt_number == nbb_cell_id) {\n",
       "                        if (nbb_cells[i].get_text() == nbb_unformatted_code) {\n",
       "                             nbb_cells[i].set_text(nbb_formatted_code);\n",
       "                        }\n",
       "                        break;\n",
       "                    }\n",
       "                }\n",
       "            }, 500);\n",
       "            "
      ],
      "text/plain": [
       "<IPython.core.display.Javascript object>"
      ]
     },
     "metadata": {},
     "output_type": "display_data"
    }
   ],
   "source": [
    "df[df[\"total_income\"] == total_income_median][\"total_income\"].count()"
   ]
  },
  {
   "cell_type": "markdown",
   "id": "77ef6055",
   "metadata": {},
   "source": [
    "Replace the omissions in the `days_employed` and `total_income` columns with median values."
   ]
  },
  {
   "cell_type": "code",
   "execution_count": 23,
   "id": "ff3e940f",
   "metadata": {},
   "outputs": [
    {
     "data": {
      "application/javascript": [
       "\n",
       "            setTimeout(function() {\n",
       "                var nbb_cell_id = 23;\n",
       "                var nbb_unformatted_code = \"df.loc[df[\\\"days_employed\\\"].isna(), \\\"days_employed\\\"] = days_employed_median\";\n",
       "                var nbb_formatted_code = \"df.loc[df[\\\"days_employed\\\"].isna(), \\\"days_employed\\\"] = days_employed_median\";\n",
       "                var nbb_cells = Jupyter.notebook.get_cells();\n",
       "                for (var i = 0; i < nbb_cells.length; ++i) {\n",
       "                    if (nbb_cells[i].input_prompt_number == nbb_cell_id) {\n",
       "                        if (nbb_cells[i].get_text() == nbb_unformatted_code) {\n",
       "                             nbb_cells[i].set_text(nbb_formatted_code);\n",
       "                        }\n",
       "                        break;\n",
       "                    }\n",
       "                }\n",
       "            }, 500);\n",
       "            "
      ],
      "text/plain": [
       "<IPython.core.display.Javascript object>"
      ]
     },
     "metadata": {},
     "output_type": "display_data"
    }
   ],
   "source": [
    "df.loc[df[\"days_employed\"].isna(), \"days_employed\"] = days_employed_median"
   ]
  },
  {
   "cell_type": "code",
   "execution_count": 24,
   "id": "bceda6d8",
   "metadata": {},
   "outputs": [
    {
     "data": {
      "application/javascript": [
       "\n",
       "            setTimeout(function() {\n",
       "                var nbb_cell_id = 24;\n",
       "                var nbb_unformatted_code = \"df.loc[df[\\\"total_income\\\"].isna(), \\\"total_income\\\"] = total_income_median\";\n",
       "                var nbb_formatted_code = \"df.loc[df[\\\"total_income\\\"].isna(), \\\"total_income\\\"] = total_income_median\";\n",
       "                var nbb_cells = Jupyter.notebook.get_cells();\n",
       "                for (var i = 0; i < nbb_cells.length; ++i) {\n",
       "                    if (nbb_cells[i].input_prompt_number == nbb_cell_id) {\n",
       "                        if (nbb_cells[i].get_text() == nbb_unformatted_code) {\n",
       "                             nbb_cells[i].set_text(nbb_formatted_code);\n",
       "                        }\n",
       "                        break;\n",
       "                    }\n",
       "                }\n",
       "            }, 500);\n",
       "            "
      ],
      "text/plain": [
       "<IPython.core.display.Javascript object>"
      ]
     },
     "metadata": {},
     "output_type": "display_data"
    }
   ],
   "source": [
    "df.loc[df[\"total_income\"].isna(), \"total_income\"] = total_income_median"
   ]
  },
  {
   "cell_type": "markdown",
   "id": "bd43a51d",
   "metadata": {},
   "source": [
    "Count the number of rows with missing values."
   ]
  },
  {
   "cell_type": "code",
   "execution_count": 25,
   "id": "0458a0ba",
   "metadata": {},
   "outputs": [
    {
     "data": {
      "text/plain": [
       "0"
      ]
     },
     "execution_count": 25,
     "metadata": {},
     "output_type": "execute_result"
    },
    {
     "data": {
      "application/javascript": [
       "\n",
       "            setTimeout(function() {\n",
       "                var nbb_cell_id = 25;\n",
       "                var nbb_unformatted_code = \"df[\\\"days_employed\\\"].isna().sum()\";\n",
       "                var nbb_formatted_code = \"df[\\\"days_employed\\\"].isna().sum()\";\n",
       "                var nbb_cells = Jupyter.notebook.get_cells();\n",
       "                for (var i = 0; i < nbb_cells.length; ++i) {\n",
       "                    if (nbb_cells[i].input_prompt_number == nbb_cell_id) {\n",
       "                        if (nbb_cells[i].get_text() == nbb_unformatted_code) {\n",
       "                             nbb_cells[i].set_text(nbb_formatted_code);\n",
       "                        }\n",
       "                        break;\n",
       "                    }\n",
       "                }\n",
       "            }, 500);\n",
       "            "
      ],
      "text/plain": [
       "<IPython.core.display.Javascript object>"
      ]
     },
     "metadata": {},
     "output_type": "display_data"
    }
   ],
   "source": [
    "df[\"days_employed\"].isna().sum()"
   ]
  },
  {
   "cell_type": "code",
   "execution_count": 26,
   "id": "07bd48bf",
   "metadata": {},
   "outputs": [
    {
     "data": {
      "text/plain": [
       "0"
      ]
     },
     "execution_count": 26,
     "metadata": {},
     "output_type": "execute_result"
    },
    {
     "data": {
      "application/javascript": [
       "\n",
       "            setTimeout(function() {\n",
       "                var nbb_cell_id = 26;\n",
       "                var nbb_unformatted_code = \"df[\\\"total_income\\\"].isna().sum()\";\n",
       "                var nbb_formatted_code = \"df[\\\"total_income\\\"].isna().sum()\";\n",
       "                var nbb_cells = Jupyter.notebook.get_cells();\n",
       "                for (var i = 0; i < nbb_cells.length; ++i) {\n",
       "                    if (nbb_cells[i].input_prompt_number == nbb_cell_id) {\n",
       "                        if (nbb_cells[i].get_text() == nbb_unformatted_code) {\n",
       "                             nbb_cells[i].set_text(nbb_formatted_code);\n",
       "                        }\n",
       "                        break;\n",
       "                    }\n",
       "                }\n",
       "            }, 500);\n",
       "            "
      ],
      "text/plain": [
       "<IPython.core.display.Javascript object>"
      ]
     },
     "metadata": {},
     "output_type": "display_data"
    }
   ],
   "source": [
    "df[\"total_income\"].isna().sum()"
   ]
  },
  {
   "cell_type": "markdown",
   "id": "29ac34c0",
   "metadata": {},
   "source": [
    "Print the number of rows with median values in the considered columns."
   ]
  },
  {
   "cell_type": "code",
   "execution_count": 27,
   "id": "b5bc97ad",
   "metadata": {},
   "outputs": [
    {
     "data": {
      "text/plain": [
       "2175"
      ]
     },
     "execution_count": 27,
     "metadata": {},
     "output_type": "execute_result"
    },
    {
     "data": {
      "application/javascript": [
       "\n",
       "            setTimeout(function() {\n",
       "                var nbb_cell_id = 27;\n",
       "                var nbb_unformatted_code = \"df[df[\\\"days_employed\\\"] == days_employed_median][\\\"days_employed\\\"].count()\";\n",
       "                var nbb_formatted_code = \"df[df[\\\"days_employed\\\"] == days_employed_median][\\\"days_employed\\\"].count()\";\n",
       "                var nbb_cells = Jupyter.notebook.get_cells();\n",
       "                for (var i = 0; i < nbb_cells.length; ++i) {\n",
       "                    if (nbb_cells[i].input_prompt_number == nbb_cell_id) {\n",
       "                        if (nbb_cells[i].get_text() == nbb_unformatted_code) {\n",
       "                             nbb_cells[i].set_text(nbb_formatted_code);\n",
       "                        }\n",
       "                        break;\n",
       "                    }\n",
       "                }\n",
       "            }, 500);\n",
       "            "
      ],
      "text/plain": [
       "<IPython.core.display.Javascript object>"
      ]
     },
     "metadata": {},
     "output_type": "display_data"
    }
   ],
   "source": [
    "df[df[\"days_employed\"] == days_employed_median][\"days_employed\"].count()"
   ]
  },
  {
   "cell_type": "code",
   "execution_count": 28,
   "id": "d7699ef3",
   "metadata": {},
   "outputs": [
    {
     "data": {
      "text/plain": [
       "2175"
      ]
     },
     "execution_count": 28,
     "metadata": {},
     "output_type": "execute_result"
    },
    {
     "data": {
      "application/javascript": [
       "\n",
       "            setTimeout(function() {\n",
       "                var nbb_cell_id = 28;\n",
       "                var nbb_unformatted_code = \"df[df[\\\"total_income\\\"] == total_income_median][\\\"total_income\\\"].count()\";\n",
       "                var nbb_formatted_code = \"df[df[\\\"total_income\\\"] == total_income_median][\\\"total_income\\\"].count()\";\n",
       "                var nbb_cells = Jupyter.notebook.get_cells();\n",
       "                for (var i = 0; i < nbb_cells.length; ++i) {\n",
       "                    if (nbb_cells[i].input_prompt_number == nbb_cell_id) {\n",
       "                        if (nbb_cells[i].get_text() == nbb_unformatted_code) {\n",
       "                             nbb_cells[i].set_text(nbb_formatted_code);\n",
       "                        }\n",
       "                        break;\n",
       "                    }\n",
       "                }\n",
       "            }, 500);\n",
       "            "
      ],
      "text/plain": [
       "<IPython.core.display.Javascript object>"
      ]
     },
     "metadata": {},
     "output_type": "display_data"
    }
   ],
   "source": [
    "df[df[\"total_income\"] == total_income_median][\"total_income\"].count()"
   ]
  },
  {
   "cell_type": "markdown",
   "id": "dcf4f580",
   "metadata": {},
   "source": [
    "Thus, the replacement of missing values with median values was successful, since the final table has 2175 rows with values in columns equal to medians, which is equal to the sum of the number of missing values (2174) and the number of values equal to the median (1) in the original table."
   ]
  },
  {
   "cell_type": "markdown",
   "id": "94948e97",
   "metadata": {},
   "source": [
    "### Step 2.2 Check data for anomalies and corrections."
   ]
  },
  {
   "cell_type": "markdown",
   "id": "543dafbb",
   "metadata": {},
   "source": [
    "Let's look at the table again:"
   ]
  },
  {
   "cell_type": "code",
   "execution_count": 29,
   "id": "51bf5506",
   "metadata": {},
   "outputs": [
    {
     "data": {
      "text/html": [
       "<div>\n",
       "<style scoped>\n",
       "    .dataframe tbody tr th:only-of-type {\n",
       "        vertical-align: middle;\n",
       "    }\n",
       "\n",
       "    .dataframe tbody tr th {\n",
       "        vertical-align: top;\n",
       "    }\n",
       "\n",
       "    .dataframe thead th {\n",
       "        text-align: right;\n",
       "    }\n",
       "</style>\n",
       "<table border=\"1\" class=\"dataframe\">\n",
       "  <thead>\n",
       "    <tr style=\"text-align: right;\">\n",
       "      <th></th>\n",
       "      <th>children</th>\n",
       "      <th>days_employed</th>\n",
       "      <th>dob_years</th>\n",
       "      <th>education</th>\n",
       "      <th>education_id</th>\n",
       "      <th>family_status</th>\n",
       "      <th>family_status_id</th>\n",
       "      <th>gender</th>\n",
       "      <th>income_type</th>\n",
       "      <th>debt</th>\n",
       "      <th>total_income</th>\n",
       "      <th>purpose</th>\n",
       "    </tr>\n",
       "  </thead>\n",
       "  <tbody>\n",
       "    <tr>\n",
       "      <th>0</th>\n",
       "      <td>1</td>\n",
       "      <td>8437.673028</td>\n",
       "      <td>42</td>\n",
       "      <td>высшее</td>\n",
       "      <td>0</td>\n",
       "      <td>женат / замужем</td>\n",
       "      <td>0</td>\n",
       "      <td>F</td>\n",
       "      <td>сотрудник</td>\n",
       "      <td>0</td>\n",
       "      <td>253875.639453</td>\n",
       "      <td>покупка жилья</td>\n",
       "    </tr>\n",
       "    <tr>\n",
       "      <th>1</th>\n",
       "      <td>1</td>\n",
       "      <td>4024.803754</td>\n",
       "      <td>36</td>\n",
       "      <td>среднее</td>\n",
       "      <td>1</td>\n",
       "      <td>женат / замужем</td>\n",
       "      <td>0</td>\n",
       "      <td>F</td>\n",
       "      <td>сотрудник</td>\n",
       "      <td>0</td>\n",
       "      <td>112080.014102</td>\n",
       "      <td>приобретение автомобиля</td>\n",
       "    </tr>\n",
       "    <tr>\n",
       "      <th>2</th>\n",
       "      <td>0</td>\n",
       "      <td>5623.422610</td>\n",
       "      <td>33</td>\n",
       "      <td>Среднее</td>\n",
       "      <td>1</td>\n",
       "      <td>женат / замужем</td>\n",
       "      <td>0</td>\n",
       "      <td>M</td>\n",
       "      <td>сотрудник</td>\n",
       "      <td>0</td>\n",
       "      <td>145885.952297</td>\n",
       "      <td>покупка жилья</td>\n",
       "    </tr>\n",
       "    <tr>\n",
       "      <th>3</th>\n",
       "      <td>3</td>\n",
       "      <td>4124.747207</td>\n",
       "      <td>32</td>\n",
       "      <td>среднее</td>\n",
       "      <td>1</td>\n",
       "      <td>женат / замужем</td>\n",
       "      <td>0</td>\n",
       "      <td>M</td>\n",
       "      <td>сотрудник</td>\n",
       "      <td>0</td>\n",
       "      <td>267628.550329</td>\n",
       "      <td>дополнительное образование</td>\n",
       "    </tr>\n",
       "    <tr>\n",
       "      <th>4</th>\n",
       "      <td>0</td>\n",
       "      <td>340266.072047</td>\n",
       "      <td>53</td>\n",
       "      <td>среднее</td>\n",
       "      <td>1</td>\n",
       "      <td>гражданский брак</td>\n",
       "      <td>1</td>\n",
       "      <td>F</td>\n",
       "      <td>пенсионер</td>\n",
       "      <td>0</td>\n",
       "      <td>158616.077870</td>\n",
       "      <td>сыграть свадьбу</td>\n",
       "    </tr>\n",
       "  </tbody>\n",
       "</table>\n",
       "</div>"
      ],
      "text/plain": [
       "   children  days_employed  dob_years education  education_id  \\\n",
       "0         1    8437.673028         42    высшее             0   \n",
       "1         1    4024.803754         36   среднее             1   \n",
       "2         0    5623.422610         33   Среднее             1   \n",
       "3         3    4124.747207         32   среднее             1   \n",
       "4         0  340266.072047         53   среднее             1   \n",
       "\n",
       "      family_status  family_status_id gender income_type  debt   total_income  \\\n",
       "0   женат / замужем                 0      F   сотрудник     0  253875.639453   \n",
       "1   женат / замужем                 0      F   сотрудник     0  112080.014102   \n",
       "2   женат / замужем                 0      M   сотрудник     0  145885.952297   \n",
       "3   женат / замужем                 0      M   сотрудник     0  267628.550329   \n",
       "4  гражданский брак                 1      F   пенсионер     0  158616.077870   \n",
       "\n",
       "                      purpose  \n",
       "0               покупка жилья  \n",
       "1     приобретение автомобиля  \n",
       "2               покупка жилья  \n",
       "3  дополнительное образование  \n",
       "4             сыграть свадьбу  "
      ]
     },
     "execution_count": 29,
     "metadata": {},
     "output_type": "execute_result"
    },
    {
     "data": {
      "application/javascript": [
       "\n",
       "            setTimeout(function() {\n",
       "                var nbb_cell_id = 29;\n",
       "                var nbb_unformatted_code = \"df.head()\";\n",
       "                var nbb_formatted_code = \"df.head()\";\n",
       "                var nbb_cells = Jupyter.notebook.get_cells();\n",
       "                for (var i = 0; i < nbb_cells.length; ++i) {\n",
       "                    if (nbb_cells[i].input_prompt_number == nbb_cell_id) {\n",
       "                        if (nbb_cells[i].get_text() == nbb_unformatted_code) {\n",
       "                             nbb_cells[i].set_text(nbb_formatted_code);\n",
       "                        }\n",
       "                        break;\n",
       "                    }\n",
       "                }\n",
       "            }, 500);\n",
       "            "
      ],
      "text/plain": [
       "<IPython.core.display.Javascript object>"
      ]
     },
     "metadata": {},
     "output_type": "display_data"
    }
   ],
   "source": [
    "df.head()"
   ]
  },
  {
   "cell_type": "markdown",
   "id": "6d22e240",
   "metadata": {},
   "source": [
    "From the definitions of the names of the column names with numeric data of this table it follows that they cannot have negative values, let's check this."
   ]
  },
  {
   "cell_type": "code",
   "execution_count": 30,
   "id": "ecb6ea09",
   "metadata": {},
   "outputs": [
    {
     "data": {
      "text/plain": [
       "children            47\n",
       "days_employed        0\n",
       "dob_years            0\n",
       "education_id         0\n",
       "family_status_id     0\n",
       "debt                 0\n",
       "total_income         0\n",
       "dtype: int64"
      ]
     },
     "execution_count": 30,
     "metadata": {},
     "output_type": "execute_result"
    },
    {
     "data": {
      "application/javascript": [
       "\n",
       "            setTimeout(function() {\n",
       "                var nbb_cell_id = 30;\n",
       "                var nbb_unformatted_code = \"df.select_dtypes(exclude=\\\"object\\\")[df.select_dtypes(exclude=\\\"object\\\") < 0].count()\";\n",
       "                var nbb_formatted_code = \"df.select_dtypes(exclude=\\\"object\\\")[df.select_dtypes(exclude=\\\"object\\\") < 0].count()\";\n",
       "                var nbb_cells = Jupyter.notebook.get_cells();\n",
       "                for (var i = 0; i < nbb_cells.length; ++i) {\n",
       "                    if (nbb_cells[i].input_prompt_number == nbb_cell_id) {\n",
       "                        if (nbb_cells[i].get_text() == nbb_unformatted_code) {\n",
       "                             nbb_cells[i].set_text(nbb_formatted_code);\n",
       "                        }\n",
       "                        break;\n",
       "                    }\n",
       "                }\n",
       "            }, 500);\n",
       "            "
      ],
      "text/plain": [
       "<IPython.core.display.Javascript object>"
      ]
     },
     "metadata": {},
     "output_type": "display_data"
    }
   ],
   "source": [
    "df.select_dtypes(exclude=\"object\")[df.select_dtypes(exclude=\"object\") < 0].count()"
   ]
  },
  {
   "cell_type": "markdown",
   "id": "88c39ab5",
   "metadata": {},
   "source": [
    "We obtained that the column showing the number of children in the family has negative values. Such values are abnormal."
   ]
  },
  {
   "cell_type": "markdown",
   "id": "9db643b7",
   "metadata": {},
   "source": [
    "Find the exact magnitudes of these negative values in the `children` column and their number."
   ]
  },
  {
   "cell_type": "code",
   "execution_count": 31,
   "id": "1981f0a4",
   "metadata": {},
   "outputs": [
    {
     "data": {
      "text/plain": [
       " 0     14149\n",
       " 1      4818\n",
       " 2      2055\n",
       " 3       330\n",
       " 20       76\n",
       "-1        47\n",
       " 4        41\n",
       " 5         9\n",
       "Name: children, dtype: int64"
      ]
     },
     "execution_count": 31,
     "metadata": {},
     "output_type": "execute_result"
    },
    {
     "data": {
      "application/javascript": [
       "\n",
       "            setTimeout(function() {\n",
       "                var nbb_cell_id = 31;\n",
       "                var nbb_unformatted_code = \"df[\\\"children\\\"].value_counts()\";\n",
       "                var nbb_formatted_code = \"df[\\\"children\\\"].value_counts()\";\n",
       "                var nbb_cells = Jupyter.notebook.get_cells();\n",
       "                for (var i = 0; i < nbb_cells.length; ++i) {\n",
       "                    if (nbb_cells[i].input_prompt_number == nbb_cell_id) {\n",
       "                        if (nbb_cells[i].get_text() == nbb_unformatted_code) {\n",
       "                             nbb_cells[i].set_text(nbb_formatted_code);\n",
       "                        }\n",
       "                        break;\n",
       "                    }\n",
       "                }\n",
       "            }, 500);\n",
       "            "
      ],
      "text/plain": [
       "<IPython.core.display.Javascript object>"
      ]
     },
     "metadata": {},
     "output_type": "display_data"
    }
   ],
   "source": [
    "df[\"children\"].value_counts()"
   ]
  },
  {
   "cell_type": "markdown",
   "id": "97f4f0b8",
   "metadata": {},
   "source": [
    "We obtained that there is only one negative value -1 in this column. Let's replace it with an absolute value."
   ]
  },
  {
   "cell_type": "code",
   "execution_count": 32,
   "id": "16975429",
   "metadata": {},
   "outputs": [
    {
     "data": {
      "application/javascript": [
       "\n",
       "            setTimeout(function() {\n",
       "                var nbb_cell_id = 32;\n",
       "                var nbb_unformatted_code = \"df[\\\"children\\\"] = df[\\\"children\\\"].abs()\";\n",
       "                var nbb_formatted_code = \"df[\\\"children\\\"] = df[\\\"children\\\"].abs()\";\n",
       "                var nbb_cells = Jupyter.notebook.get_cells();\n",
       "                for (var i = 0; i < nbb_cells.length; ++i) {\n",
       "                    if (nbb_cells[i].input_prompt_number == nbb_cell_id) {\n",
       "                        if (nbb_cells[i].get_text() == nbb_unformatted_code) {\n",
       "                             nbb_cells[i].set_text(nbb_formatted_code);\n",
       "                        }\n",
       "                        break;\n",
       "                    }\n",
       "                }\n",
       "            }, 500);\n",
       "            "
      ],
      "text/plain": [
       "<IPython.core.display.Javascript object>"
      ]
     },
     "metadata": {},
     "output_type": "display_data"
    }
   ],
   "source": [
    "df[\"children\"] = df[\"children\"].abs()"
   ]
  },
  {
   "cell_type": "code",
   "execution_count": 33,
   "id": "980ad0f5",
   "metadata": {},
   "outputs": [
    {
     "data": {
      "text/plain": [
       "0     14149\n",
       "1      4865\n",
       "2      2055\n",
       "3       330\n",
       "20       76\n",
       "4        41\n",
       "5         9\n",
       "Name: children, dtype: int64"
      ]
     },
     "execution_count": 33,
     "metadata": {},
     "output_type": "execute_result"
    },
    {
     "data": {
      "application/javascript": [
       "\n",
       "            setTimeout(function() {\n",
       "                var nbb_cell_id = 33;\n",
       "                var nbb_unformatted_code = \"df[\\\"children\\\"].value_counts()\";\n",
       "                var nbb_formatted_code = \"df[\\\"children\\\"].value_counts()\";\n",
       "                var nbb_cells = Jupyter.notebook.get_cells();\n",
       "                for (var i = 0; i < nbb_cells.length; ++i) {\n",
       "                    if (nbb_cells[i].input_prompt_number == nbb_cell_id) {\n",
       "                        if (nbb_cells[i].get_text() == nbb_unformatted_code) {\n",
       "                             nbb_cells[i].set_text(nbb_formatted_code);\n",
       "                        }\n",
       "                        break;\n",
       "                    }\n",
       "                }\n",
       "            }, 500);\n",
       "            "
      ],
      "text/plain": [
       "<IPython.core.display.Javascript object>"
      ]
     },
     "metadata": {},
     "output_type": "display_data"
    }
   ],
   "source": [
    "df[\"children\"].value_counts()"
   ]
  },
  {
   "cell_type": "markdown",
   "id": "85c6dcdb",
   "metadata": {},
   "source": [
    "We now obtain that all values in the `children` column are non-negative. There are no more anomalies in this column."
   ]
  },
  {
   "cell_type": "markdown",
   "id": "164d6fdd",
   "metadata": {},
   "source": [
    "Take a look at the resulting table."
   ]
  },
  {
   "cell_type": "code",
   "execution_count": 34,
   "id": "a4cd835f",
   "metadata": {},
   "outputs": [
    {
     "data": {
      "text/html": [
       "<div>\n",
       "<style scoped>\n",
       "    .dataframe tbody tr th:only-of-type {\n",
       "        vertical-align: middle;\n",
       "    }\n",
       "\n",
       "    .dataframe tbody tr th {\n",
       "        vertical-align: top;\n",
       "    }\n",
       "\n",
       "    .dataframe thead th {\n",
       "        text-align: right;\n",
       "    }\n",
       "</style>\n",
       "<table border=\"1\" class=\"dataframe\">\n",
       "  <thead>\n",
       "    <tr style=\"text-align: right;\">\n",
       "      <th></th>\n",
       "      <th>children</th>\n",
       "      <th>days_employed</th>\n",
       "      <th>dob_years</th>\n",
       "      <th>education</th>\n",
       "      <th>education_id</th>\n",
       "      <th>family_status</th>\n",
       "      <th>family_status_id</th>\n",
       "      <th>gender</th>\n",
       "      <th>income_type</th>\n",
       "      <th>debt</th>\n",
       "      <th>total_income</th>\n",
       "      <th>purpose</th>\n",
       "    </tr>\n",
       "  </thead>\n",
       "  <tbody>\n",
       "    <tr>\n",
       "      <th>0</th>\n",
       "      <td>1</td>\n",
       "      <td>8437.673028</td>\n",
       "      <td>42</td>\n",
       "      <td>высшее</td>\n",
       "      <td>0</td>\n",
       "      <td>женат / замужем</td>\n",
       "      <td>0</td>\n",
       "      <td>F</td>\n",
       "      <td>сотрудник</td>\n",
       "      <td>0</td>\n",
       "      <td>253875.639453</td>\n",
       "      <td>покупка жилья</td>\n",
       "    </tr>\n",
       "    <tr>\n",
       "      <th>1</th>\n",
       "      <td>1</td>\n",
       "      <td>4024.803754</td>\n",
       "      <td>36</td>\n",
       "      <td>среднее</td>\n",
       "      <td>1</td>\n",
       "      <td>женат / замужем</td>\n",
       "      <td>0</td>\n",
       "      <td>F</td>\n",
       "      <td>сотрудник</td>\n",
       "      <td>0</td>\n",
       "      <td>112080.014102</td>\n",
       "      <td>приобретение автомобиля</td>\n",
       "    </tr>\n",
       "    <tr>\n",
       "      <th>2</th>\n",
       "      <td>0</td>\n",
       "      <td>5623.422610</td>\n",
       "      <td>33</td>\n",
       "      <td>Среднее</td>\n",
       "      <td>1</td>\n",
       "      <td>женат / замужем</td>\n",
       "      <td>0</td>\n",
       "      <td>M</td>\n",
       "      <td>сотрудник</td>\n",
       "      <td>0</td>\n",
       "      <td>145885.952297</td>\n",
       "      <td>покупка жилья</td>\n",
       "    </tr>\n",
       "    <tr>\n",
       "      <th>3</th>\n",
       "      <td>3</td>\n",
       "      <td>4124.747207</td>\n",
       "      <td>32</td>\n",
       "      <td>среднее</td>\n",
       "      <td>1</td>\n",
       "      <td>женат / замужем</td>\n",
       "      <td>0</td>\n",
       "      <td>M</td>\n",
       "      <td>сотрудник</td>\n",
       "      <td>0</td>\n",
       "      <td>267628.550329</td>\n",
       "      <td>дополнительное образование</td>\n",
       "    </tr>\n",
       "    <tr>\n",
       "      <th>4</th>\n",
       "      <td>0</td>\n",
       "      <td>340266.072047</td>\n",
       "      <td>53</td>\n",
       "      <td>среднее</td>\n",
       "      <td>1</td>\n",
       "      <td>гражданский брак</td>\n",
       "      <td>1</td>\n",
       "      <td>F</td>\n",
       "      <td>пенсионер</td>\n",
       "      <td>0</td>\n",
       "      <td>158616.077870</td>\n",
       "      <td>сыграть свадьбу</td>\n",
       "    </tr>\n",
       "  </tbody>\n",
       "</table>\n",
       "</div>"
      ],
      "text/plain": [
       "   children  days_employed  dob_years education  education_id  \\\n",
       "0         1    8437.673028         42    высшее             0   \n",
       "1         1    4024.803754         36   среднее             1   \n",
       "2         0    5623.422610         33   Среднее             1   \n",
       "3         3    4124.747207         32   среднее             1   \n",
       "4         0  340266.072047         53   среднее             1   \n",
       "\n",
       "      family_status  family_status_id gender income_type  debt   total_income  \\\n",
       "0   женат / замужем                 0      F   сотрудник     0  253875.639453   \n",
       "1   женат / замужем                 0      F   сотрудник     0  112080.014102   \n",
       "2   женат / замужем                 0      M   сотрудник     0  145885.952297   \n",
       "3   женат / замужем                 0      M   сотрудник     0  267628.550329   \n",
       "4  гражданский брак                 1      F   пенсионер     0  158616.077870   \n",
       "\n",
       "                      purpose  \n",
       "0               покупка жилья  \n",
       "1     приобретение автомобиля  \n",
       "2               покупка жилья  \n",
       "3  дополнительное образование  \n",
       "4             сыграть свадьбу  "
      ]
     },
     "execution_count": 34,
     "metadata": {},
     "output_type": "execute_result"
    },
    {
     "data": {
      "application/javascript": [
       "\n",
       "            setTimeout(function() {\n",
       "                var nbb_cell_id = 34;\n",
       "                var nbb_unformatted_code = \"df.head()\";\n",
       "                var nbb_formatted_code = \"df.head()\";\n",
       "                var nbb_cells = Jupyter.notebook.get_cells();\n",
       "                for (var i = 0; i < nbb_cells.length; ++i) {\n",
       "                    if (nbb_cells[i].input_prompt_number == nbb_cell_id) {\n",
       "                        if (nbb_cells[i].get_text() == nbb_unformatted_code) {\n",
       "                             nbb_cells[i].set_text(nbb_formatted_code);\n",
       "                        }\n",
       "                        break;\n",
       "                    }\n",
       "                }\n",
       "            }, 500);\n",
       "            "
      ],
      "text/plain": [
       "<IPython.core.display.Javascript object>"
      ]
     },
     "metadata": {},
     "output_type": "display_data"
    }
   ],
   "source": [
    "df.head()"
   ]
  },
  {
   "cell_type": "markdown",
   "id": "4577eaf5",
   "metadata": {},
   "source": [
    "It is worth noting that the `dob_years` column cannot have zero values, as the customer must exist to be able to borrow."
   ]
  },
  {
   "cell_type": "code",
   "execution_count": 35,
   "id": "f202c681",
   "metadata": {},
   "outputs": [
    {
     "data": {
      "text/plain": [
       "101"
      ]
     },
     "execution_count": 35,
     "metadata": {},
     "output_type": "execute_result"
    },
    {
     "data": {
      "application/javascript": [
       "\n",
       "            setTimeout(function() {\n",
       "                var nbb_cell_id = 35;\n",
       "                var nbb_unformatted_code = \"df[df[\\\"dob_years\\\"] == 0][\\\"dob_years\\\"].count()\";\n",
       "                var nbb_formatted_code = \"df[df[\\\"dob_years\\\"] == 0][\\\"dob_years\\\"].count()\";\n",
       "                var nbb_cells = Jupyter.notebook.get_cells();\n",
       "                for (var i = 0; i < nbb_cells.length; ++i) {\n",
       "                    if (nbb_cells[i].input_prompt_number == nbb_cell_id) {\n",
       "                        if (nbb_cells[i].get_text() == nbb_unformatted_code) {\n",
       "                             nbb_cells[i].set_text(nbb_formatted_code);\n",
       "                        }\n",
       "                        break;\n",
       "                    }\n",
       "                }\n",
       "            }, 500);\n",
       "            "
      ],
      "text/plain": [
       "<IPython.core.display.Javascript object>"
      ]
     },
     "metadata": {},
     "output_type": "display_data"
    }
   ],
   "source": [
    "df[df[\"dob_years\"] == 0][\"dob_years\"].count()"
   ]
  },
  {
   "cell_type": "markdown",
   "id": "eacef68c",
   "metadata": {},
   "source": [
    "Determine the proportion of zero values in this column."
   ]
  },
  {
   "cell_type": "code",
   "execution_count": 36,
   "id": "deb996c3",
   "metadata": {},
   "outputs": [
    {
     "data": {
      "text/plain": [
       "0.004692218350754936"
      ]
     },
     "execution_count": 36,
     "metadata": {},
     "output_type": "execute_result"
    },
    {
     "data": {
      "application/javascript": [
       "\n",
       "            setTimeout(function() {\n",
       "                var nbb_cell_id = 36;\n",
       "                var nbb_unformatted_code = \"df.loc[df[\\\"dob_years\\\"] == 0][\\\"dob_years\\\"].count() / len(df[\\\"dob_years\\\"])\";\n",
       "                var nbb_formatted_code = \"df.loc[df[\\\"dob_years\\\"] == 0][\\\"dob_years\\\"].count() / len(df[\\\"dob_years\\\"])\";\n",
       "                var nbb_cells = Jupyter.notebook.get_cells();\n",
       "                for (var i = 0; i < nbb_cells.length; ++i) {\n",
       "                    if (nbb_cells[i].input_prompt_number == nbb_cell_id) {\n",
       "                        if (nbb_cells[i].get_text() == nbb_unformatted_code) {\n",
       "                             nbb_cells[i].set_text(nbb_formatted_code);\n",
       "                        }\n",
       "                        break;\n",
       "                    }\n",
       "                }\n",
       "            }, 500);\n",
       "            "
      ],
      "text/plain": [
       "<IPython.core.display.Javascript object>"
      ]
     },
     "metadata": {},
     "output_type": "display_data"
    }
   ],
   "source": [
    "df.loc[df[\"dob_years\"] == 0][\"dob_years\"].count() / len(df[\"dob_years\"])"
   ]
  },
  {
   "cell_type": "markdown",
   "id": "f66cde3d",
   "metadata": {},
   "source": [
    "We obtained that the proportion of such values is extremely small, so we can delete the corresponding rows."
   ]
  },
  {
   "cell_type": "code",
   "execution_count": 37,
   "id": "78ad8fe6",
   "metadata": {},
   "outputs": [
    {
     "data": {
      "application/javascript": [
       "\n",
       "            setTimeout(function() {\n",
       "                var nbb_cell_id = 37;\n",
       "                var nbb_unformatted_code = \"df = df.loc[df[\\\"dob_years\\\"] != 0]\";\n",
       "                var nbb_formatted_code = \"df = df.loc[df[\\\"dob_years\\\"] != 0]\";\n",
       "                var nbb_cells = Jupyter.notebook.get_cells();\n",
       "                for (var i = 0; i < nbb_cells.length; ++i) {\n",
       "                    if (nbb_cells[i].input_prompt_number == nbb_cell_id) {\n",
       "                        if (nbb_cells[i].get_text() == nbb_unformatted_code) {\n",
       "                             nbb_cells[i].set_text(nbb_formatted_code);\n",
       "                        }\n",
       "                        break;\n",
       "                    }\n",
       "                }\n",
       "            }, 500);\n",
       "            "
      ],
      "text/plain": [
       "<IPython.core.display.Javascript object>"
      ]
     },
     "metadata": {},
     "output_type": "display_data"
    }
   ],
   "source": [
    "df = df.loc[df[\"dob_years\"] != 0]"
   ]
  },
  {
   "cell_type": "code",
   "execution_count": 38,
   "id": "40d8aacc",
   "metadata": {},
   "outputs": [
    {
     "data": {
      "text/plain": [
       "0"
      ]
     },
     "execution_count": 38,
     "metadata": {},
     "output_type": "execute_result"
    },
    {
     "data": {
      "application/javascript": [
       "\n",
       "            setTimeout(function() {\n",
       "                var nbb_cell_id = 38;\n",
       "                var nbb_unformatted_code = \"df[df[\\\"dob_years\\\"] == 0][\\\"dob_years\\\"].count()\";\n",
       "                var nbb_formatted_code = \"df[df[\\\"dob_years\\\"] == 0][\\\"dob_years\\\"].count()\";\n",
       "                var nbb_cells = Jupyter.notebook.get_cells();\n",
       "                for (var i = 0; i < nbb_cells.length; ++i) {\n",
       "                    if (nbb_cells[i].input_prompt_number == nbb_cell_id) {\n",
       "                        if (nbb_cells[i].get_text() == nbb_unformatted_code) {\n",
       "                             nbb_cells[i].set_text(nbb_formatted_code);\n",
       "                        }\n",
       "                        break;\n",
       "                    }\n",
       "                }\n",
       "            }, 500);\n",
       "            "
      ],
      "text/plain": [
       "<IPython.core.display.Javascript object>"
      ]
     },
     "metadata": {},
     "output_type": "display_data"
    }
   ],
   "source": [
    "df[df[\"dob_years\"] == 0][\"dob_years\"].count()"
   ]
  },
  {
   "cell_type": "markdown",
   "id": "a4fb03d0",
   "metadata": {},
   "source": [
    "It is worth noting that there are only two possible values in the `gender` column: F and M. Let's check if this condition is fulfilled."
   ]
  },
  {
   "cell_type": "code",
   "execution_count": 39,
   "id": "b0f9cd85",
   "metadata": {},
   "outputs": [
    {
     "data": {
      "text/plain": [
       "F      14164\n",
       "M       7259\n",
       "XNA        1\n",
       "Name: gender, dtype: int64"
      ]
     },
     "execution_count": 39,
     "metadata": {},
     "output_type": "execute_result"
    },
    {
     "data": {
      "application/javascript": [
       "\n",
       "            setTimeout(function() {\n",
       "                var nbb_cell_id = 39;\n",
       "                var nbb_unformatted_code = \"df[\\\"gender\\\"].value_counts()\";\n",
       "                var nbb_formatted_code = \"df[\\\"gender\\\"].value_counts()\";\n",
       "                var nbb_cells = Jupyter.notebook.get_cells();\n",
       "                for (var i = 0; i < nbb_cells.length; ++i) {\n",
       "                    if (nbb_cells[i].input_prompt_number == nbb_cell_id) {\n",
       "                        if (nbb_cells[i].get_text() == nbb_unformatted_code) {\n",
       "                             nbb_cells[i].set_text(nbb_formatted_code);\n",
       "                        }\n",
       "                        break;\n",
       "                    }\n",
       "                }\n",
       "            }, 500);\n",
       "            "
      ],
      "text/plain": [
       "<IPython.core.display.Javascript object>"
      ]
     },
     "metadata": {},
     "output_type": "display_data"
    }
   ],
   "source": [
    "df[\"gender\"].value_counts()"
   ]
  },
  {
   "cell_type": "markdown",
   "id": "6c2f93c8",
   "metadata": {},
   "source": [
    "We see that there is one line with undefined gender in the dataframe, we can neglect it."
   ]
  },
  {
   "cell_type": "code",
   "execution_count": 40,
   "id": "c09e8395",
   "metadata": {},
   "outputs": [
    {
     "data": {
      "application/javascript": [
       "\n",
       "            setTimeout(function() {\n",
       "                var nbb_cell_id = 40;\n",
       "                var nbb_unformatted_code = \"df = df[df[\\\"gender\\\"] != \\\"XNA\\\"]\";\n",
       "                var nbb_formatted_code = \"df = df[df[\\\"gender\\\"] != \\\"XNA\\\"]\";\n",
       "                var nbb_cells = Jupyter.notebook.get_cells();\n",
       "                for (var i = 0; i < nbb_cells.length; ++i) {\n",
       "                    if (nbb_cells[i].input_prompt_number == nbb_cell_id) {\n",
       "                        if (nbb_cells[i].get_text() == nbb_unformatted_code) {\n",
       "                             nbb_cells[i].set_text(nbb_formatted_code);\n",
       "                        }\n",
       "                        break;\n",
       "                    }\n",
       "                }\n",
       "            }, 500);\n",
       "            "
      ],
      "text/plain": [
       "<IPython.core.display.Javascript object>"
      ]
     },
     "metadata": {},
     "output_type": "display_data"
    }
   ],
   "source": [
    "df = df[df[\"gender\"] != \"XNA\"]"
   ]
  },
  {
   "cell_type": "code",
   "execution_count": 41,
   "id": "6de83450",
   "metadata": {},
   "outputs": [
    {
     "data": {
      "text/plain": [
       "F    14164\n",
       "M     7259\n",
       "Name: gender, dtype: int64"
      ]
     },
     "execution_count": 41,
     "metadata": {},
     "output_type": "execute_result"
    },
    {
     "data": {
      "application/javascript": [
       "\n",
       "            setTimeout(function() {\n",
       "                var nbb_cell_id = 41;\n",
       "                var nbb_unformatted_code = \"df[\\\"gender\\\"].value_counts()\";\n",
       "                var nbb_formatted_code = \"df[\\\"gender\\\"].value_counts()\";\n",
       "                var nbb_cells = Jupyter.notebook.get_cells();\n",
       "                for (var i = 0; i < nbb_cells.length; ++i) {\n",
       "                    if (nbb_cells[i].input_prompt_number == nbb_cell_id) {\n",
       "                        if (nbb_cells[i].get_text() == nbb_unformatted_code) {\n",
       "                             nbb_cells[i].set_text(nbb_formatted_code);\n",
       "                        }\n",
       "                        break;\n",
       "                    }\n",
       "                }\n",
       "            }, 500);\n",
       "            "
      ],
      "text/plain": [
       "<IPython.core.display.Javascript object>"
      ]
     },
     "metadata": {},
     "output_type": "display_data"
    }
   ],
   "source": [
    "df[\"gender\"].value_counts()"
   ]
  },
  {
   "cell_type": "markdown",
   "id": "17b943e0",
   "metadata": {},
   "source": [
    "### Step 2.3. Change the data types."
   ]
  },
  {
   "cell_type": "markdown",
   "id": "0b5315a9",
   "metadata": {},
   "source": [
    "Replace the real data type in the `total_income` column with an integer one."
   ]
  },
  {
   "cell_type": "code",
   "execution_count": 42,
   "id": "f2641f31",
   "metadata": {},
   "outputs": [
    {
     "data": {
      "application/javascript": [
       "\n",
       "            setTimeout(function() {\n",
       "                var nbb_cell_id = 42;\n",
       "                var nbb_unformatted_code = \"df[\\\"total_income\\\"] = df[\\\"total_income\\\"].astype(\\\"int\\\")\";\n",
       "                var nbb_formatted_code = \"df[\\\"total_income\\\"] = df[\\\"total_income\\\"].astype(\\\"int\\\")\";\n",
       "                var nbb_cells = Jupyter.notebook.get_cells();\n",
       "                for (var i = 0; i < nbb_cells.length; ++i) {\n",
       "                    if (nbb_cells[i].input_prompt_number == nbb_cell_id) {\n",
       "                        if (nbb_cells[i].get_text() == nbb_unformatted_code) {\n",
       "                             nbb_cells[i].set_text(nbb_formatted_code);\n",
       "                        }\n",
       "                        break;\n",
       "                    }\n",
       "                }\n",
       "            }, 500);\n",
       "            "
      ],
      "text/plain": [
       "<IPython.core.display.Javascript object>"
      ]
     },
     "metadata": {},
     "output_type": "display_data"
    }
   ],
   "source": [
    "df[\"total_income\"] = df[\"total_income\"].astype(\"int\")"
   ]
  },
  {
   "cell_type": "code",
   "execution_count": 43,
   "id": "1a4f10d5",
   "metadata": {},
   "outputs": [
    {
     "name": "stdout",
     "output_type": "stream",
     "text": [
      "<class 'pandas.core.frame.DataFrame'>\n",
      "Int64Index: 21423 entries, 0 to 21524\n",
      "Data columns (total 12 columns):\n",
      " #   Column            Non-Null Count  Dtype  \n",
      "---  ------            --------------  -----  \n",
      " 0   children          21423 non-null  int64  \n",
      " 1   days_employed     21423 non-null  float64\n",
      " 2   dob_years         21423 non-null  int64  \n",
      " 3   education         21423 non-null  object \n",
      " 4   education_id      21423 non-null  int64  \n",
      " 5   family_status     21423 non-null  object \n",
      " 6   family_status_id  21423 non-null  int64  \n",
      " 7   gender            21423 non-null  object \n",
      " 8   income_type       21423 non-null  object \n",
      " 9   debt              21423 non-null  int64  \n",
      " 10  total_income      21423 non-null  int64  \n",
      " 11  purpose           21423 non-null  object \n",
      "dtypes: float64(1), int64(6), object(5)\n",
      "memory usage: 2.1+ MB\n"
     ]
    },
    {
     "data": {
      "application/javascript": [
       "\n",
       "            setTimeout(function() {\n",
       "                var nbb_cell_id = 43;\n",
       "                var nbb_unformatted_code = \"df.info()\";\n",
       "                var nbb_formatted_code = \"df.info()\";\n",
       "                var nbb_cells = Jupyter.notebook.get_cells();\n",
       "                for (var i = 0; i < nbb_cells.length; ++i) {\n",
       "                    if (nbb_cells[i].input_prompt_number == nbb_cell_id) {\n",
       "                        if (nbb_cells[i].get_text() == nbb_unformatted_code) {\n",
       "                             nbb_cells[i].set_text(nbb_formatted_code);\n",
       "                        }\n",
       "                        break;\n",
       "                    }\n",
       "                }\n",
       "            }, 500);\n",
       "            "
      ],
      "text/plain": [
       "<IPython.core.display.Javascript object>"
      ]
     },
     "metadata": {},
     "output_type": "display_data"
    }
   ],
   "source": [
    "df.info()"
   ]
  },
  {
   "cell_type": "markdown",
   "id": "e8208333",
   "metadata": {},
   "source": [
    "### Step 2.4. Deleting duplicates."
   ]
  },
  {
   "cell_type": "markdown",
   "id": "2da67288",
   "metadata": {},
   "source": [
    "Calculate the number of duplicate rows."
   ]
  },
  {
   "cell_type": "code",
   "execution_count": 44,
   "id": "142bc8b0",
   "metadata": {},
   "outputs": [
    {
     "data": {
      "text/plain": [
       "54"
      ]
     },
     "execution_count": 44,
     "metadata": {},
     "output_type": "execute_result"
    },
    {
     "data": {
      "application/javascript": [
       "\n",
       "            setTimeout(function() {\n",
       "                var nbb_cell_id = 44;\n",
       "                var nbb_unformatted_code = \"df.duplicated().sum()\";\n",
       "                var nbb_formatted_code = \"df.duplicated().sum()\";\n",
       "                var nbb_cells = Jupyter.notebook.get_cells();\n",
       "                for (var i = 0; i < nbb_cells.length; ++i) {\n",
       "                    if (nbb_cells[i].input_prompt_number == nbb_cell_id) {\n",
       "                        if (nbb_cells[i].get_text() == nbb_unformatted_code) {\n",
       "                             nbb_cells[i].set_text(nbb_formatted_code);\n",
       "                        }\n",
       "                        break;\n",
       "                    }\n",
       "                }\n",
       "            }, 500);\n",
       "            "
      ],
      "text/plain": [
       "<IPython.core.display.Javascript object>"
      ]
     },
     "metadata": {},
     "output_type": "display_data"
    }
   ],
   "source": [
    "df.duplicated().sum()"
   ]
  },
  {
   "cell_type": "markdown",
   "id": "88c0c1ce",
   "metadata": {},
   "source": [
    "Remove the duplicates."
   ]
  },
  {
   "cell_type": "code",
   "execution_count": 45,
   "id": "298269bd",
   "metadata": {},
   "outputs": [
    {
     "data": {
      "application/javascript": [
       "\n",
       "            setTimeout(function() {\n",
       "                var nbb_cell_id = 45;\n",
       "                var nbb_unformatted_code = \"df = df.drop_duplicates().reset_index(drop=True)\";\n",
       "                var nbb_formatted_code = \"df = df.drop_duplicates().reset_index(drop=True)\";\n",
       "                var nbb_cells = Jupyter.notebook.get_cells();\n",
       "                for (var i = 0; i < nbb_cells.length; ++i) {\n",
       "                    if (nbb_cells[i].input_prompt_number == nbb_cell_id) {\n",
       "                        if (nbb_cells[i].get_text() == nbb_unformatted_code) {\n",
       "                             nbb_cells[i].set_text(nbb_formatted_code);\n",
       "                        }\n",
       "                        break;\n",
       "                    }\n",
       "                }\n",
       "            }, 500);\n",
       "            "
      ],
      "text/plain": [
       "<IPython.core.display.Javascript object>"
      ]
     },
     "metadata": {},
     "output_type": "display_data"
    }
   ],
   "source": [
    "df = df.drop_duplicates().reset_index(drop=True)"
   ]
  },
  {
   "cell_type": "code",
   "execution_count": 46,
   "id": "87cef9e5",
   "metadata": {},
   "outputs": [
    {
     "data": {
      "text/plain": [
       "0"
      ]
     },
     "execution_count": 46,
     "metadata": {},
     "output_type": "execute_result"
    },
    {
     "data": {
      "application/javascript": [
       "\n",
       "            setTimeout(function() {\n",
       "                var nbb_cell_id = 46;\n",
       "                var nbb_unformatted_code = \"df.duplicated().sum()\";\n",
       "                var nbb_formatted_code = \"df.duplicated().sum()\";\n",
       "                var nbb_cells = Jupyter.notebook.get_cells();\n",
       "                for (var i = 0; i < nbb_cells.length; ++i) {\n",
       "                    if (nbb_cells[i].input_prompt_number == nbb_cell_id) {\n",
       "                        if (nbb_cells[i].get_text() == nbb_unformatted_code) {\n",
       "                             nbb_cells[i].set_text(nbb_formatted_code);\n",
       "                        }\n",
       "                        break;\n",
       "                    }\n",
       "                }\n",
       "            }, 500);\n",
       "            "
      ],
      "text/plain": [
       "<IPython.core.display.Javascript object>"
      ]
     },
     "metadata": {},
     "output_type": "display_data"
    }
   ],
   "source": [
    "df.duplicated().sum()"
   ]
  },
  {
   "cell_type": "markdown",
   "id": "f108fdc0",
   "metadata": {},
   "source": [
    "Let's look at the table again"
   ]
  },
  {
   "cell_type": "code",
   "execution_count": 47,
   "id": "bc855731",
   "metadata": {},
   "outputs": [
    {
     "data": {
      "text/html": [
       "<div>\n",
       "<style scoped>\n",
       "    .dataframe tbody tr th:only-of-type {\n",
       "        vertical-align: middle;\n",
       "    }\n",
       "\n",
       "    .dataframe tbody tr th {\n",
       "        vertical-align: top;\n",
       "    }\n",
       "\n",
       "    .dataframe thead th {\n",
       "        text-align: right;\n",
       "    }\n",
       "</style>\n",
       "<table border=\"1\" class=\"dataframe\">\n",
       "  <thead>\n",
       "    <tr style=\"text-align: right;\">\n",
       "      <th></th>\n",
       "      <th>children</th>\n",
       "      <th>days_employed</th>\n",
       "      <th>dob_years</th>\n",
       "      <th>education</th>\n",
       "      <th>education_id</th>\n",
       "      <th>family_status</th>\n",
       "      <th>family_status_id</th>\n",
       "      <th>gender</th>\n",
       "      <th>income_type</th>\n",
       "      <th>debt</th>\n",
       "      <th>total_income</th>\n",
       "      <th>purpose</th>\n",
       "    </tr>\n",
       "  </thead>\n",
       "  <tbody>\n",
       "    <tr>\n",
       "      <th>0</th>\n",
       "      <td>1</td>\n",
       "      <td>8437.673028</td>\n",
       "      <td>42</td>\n",
       "      <td>высшее</td>\n",
       "      <td>0</td>\n",
       "      <td>женат / замужем</td>\n",
       "      <td>0</td>\n",
       "      <td>F</td>\n",
       "      <td>сотрудник</td>\n",
       "      <td>0</td>\n",
       "      <td>253875</td>\n",
       "      <td>покупка жилья</td>\n",
       "    </tr>\n",
       "    <tr>\n",
       "      <th>1</th>\n",
       "      <td>1</td>\n",
       "      <td>4024.803754</td>\n",
       "      <td>36</td>\n",
       "      <td>среднее</td>\n",
       "      <td>1</td>\n",
       "      <td>женат / замужем</td>\n",
       "      <td>0</td>\n",
       "      <td>F</td>\n",
       "      <td>сотрудник</td>\n",
       "      <td>0</td>\n",
       "      <td>112080</td>\n",
       "      <td>приобретение автомобиля</td>\n",
       "    </tr>\n",
       "    <tr>\n",
       "      <th>2</th>\n",
       "      <td>0</td>\n",
       "      <td>5623.422610</td>\n",
       "      <td>33</td>\n",
       "      <td>Среднее</td>\n",
       "      <td>1</td>\n",
       "      <td>женат / замужем</td>\n",
       "      <td>0</td>\n",
       "      <td>M</td>\n",
       "      <td>сотрудник</td>\n",
       "      <td>0</td>\n",
       "      <td>145885</td>\n",
       "      <td>покупка жилья</td>\n",
       "    </tr>\n",
       "    <tr>\n",
       "      <th>3</th>\n",
       "      <td>3</td>\n",
       "      <td>4124.747207</td>\n",
       "      <td>32</td>\n",
       "      <td>среднее</td>\n",
       "      <td>1</td>\n",
       "      <td>женат / замужем</td>\n",
       "      <td>0</td>\n",
       "      <td>M</td>\n",
       "      <td>сотрудник</td>\n",
       "      <td>0</td>\n",
       "      <td>267628</td>\n",
       "      <td>дополнительное образование</td>\n",
       "    </tr>\n",
       "    <tr>\n",
       "      <th>4</th>\n",
       "      <td>0</td>\n",
       "      <td>340266.072047</td>\n",
       "      <td>53</td>\n",
       "      <td>среднее</td>\n",
       "      <td>1</td>\n",
       "      <td>гражданский брак</td>\n",
       "      <td>1</td>\n",
       "      <td>F</td>\n",
       "      <td>пенсионер</td>\n",
       "      <td>0</td>\n",
       "      <td>158616</td>\n",
       "      <td>сыграть свадьбу</td>\n",
       "    </tr>\n",
       "  </tbody>\n",
       "</table>\n",
       "</div>"
      ],
      "text/plain": [
       "   children  days_employed  dob_years education  education_id  \\\n",
       "0         1    8437.673028         42    высшее             0   \n",
       "1         1    4024.803754         36   среднее             1   \n",
       "2         0    5623.422610         33   Среднее             1   \n",
       "3         3    4124.747207         32   среднее             1   \n",
       "4         0  340266.072047         53   среднее             1   \n",
       "\n",
       "      family_status  family_status_id gender income_type  debt  total_income  \\\n",
       "0   женат / замужем                 0      F   сотрудник     0        253875   \n",
       "1   женат / замужем                 0      F   сотрудник     0        112080   \n",
       "2   женат / замужем                 0      M   сотрудник     0        145885   \n",
       "3   женат / замужем                 0      M   сотрудник     0        267628   \n",
       "4  гражданский брак                 1      F   пенсионер     0        158616   \n",
       "\n",
       "                      purpose  \n",
       "0               покупка жилья  \n",
       "1     приобретение автомобиля  \n",
       "2               покупка жилья  \n",
       "3  дополнительное образование  \n",
       "4             сыграть свадьбу  "
      ]
     },
     "execution_count": 47,
     "metadata": {},
     "output_type": "execute_result"
    },
    {
     "data": {
      "application/javascript": [
       "\n",
       "            setTimeout(function() {\n",
       "                var nbb_cell_id = 47;\n",
       "                var nbb_unformatted_code = \"df.head()\";\n",
       "                var nbb_formatted_code = \"df.head()\";\n",
       "                var nbb_cells = Jupyter.notebook.get_cells();\n",
       "                for (var i = 0; i < nbb_cells.length; ++i) {\n",
       "                    if (nbb_cells[i].input_prompt_number == nbb_cell_id) {\n",
       "                        if (nbb_cells[i].get_text() == nbb_unformatted_code) {\n",
       "                             nbb_cells[i].set_text(nbb_formatted_code);\n",
       "                        }\n",
       "                        break;\n",
       "                    }\n",
       "                }\n",
       "            }, 500);\n",
       "            "
      ],
      "text/plain": [
       "<IPython.core.display.Javascript object>"
      ]
     },
     "metadata": {},
     "output_type": "display_data"
    }
   ],
   "source": [
    "df.head()"
   ]
  },
  {
   "cell_type": "markdown",
   "id": "d5ab83cf",
   "metadata": {},
   "source": [
    "We see that in the `education` column there are values in upper case, which appeared, probably, due to human factor, so let's convert all symbolic values to lower case."
   ]
  },
  {
   "cell_type": "code",
   "execution_count": 48,
   "id": "f314a421",
   "metadata": {},
   "outputs": [
    {
     "data": {
      "application/javascript": [
       "\n",
       "            setTimeout(function() {\n",
       "                var nbb_cell_id = 48;\n",
       "                var nbb_unformatted_code = \"df1 = df.select_dtypes(include=\\\"object\\\")\";\n",
       "                var nbb_formatted_code = \"df1 = df.select_dtypes(include=\\\"object\\\")\";\n",
       "                var nbb_cells = Jupyter.notebook.get_cells();\n",
       "                for (var i = 0; i < nbb_cells.length; ++i) {\n",
       "                    if (nbb_cells[i].input_prompt_number == nbb_cell_id) {\n",
       "                        if (nbb_cells[i].get_text() == nbb_unformatted_code) {\n",
       "                             nbb_cells[i].set_text(nbb_formatted_code);\n",
       "                        }\n",
       "                        break;\n",
       "                    }\n",
       "                }\n",
       "            }, 500);\n",
       "            "
      ],
      "text/plain": [
       "<IPython.core.display.Javascript object>"
      ]
     },
     "metadata": {},
     "output_type": "display_data"
    }
   ],
   "source": [
    "df1 = df.select_dtypes(include=\"object\")"
   ]
  },
  {
   "cell_type": "code",
   "execution_count": 49,
   "id": "24df2f85",
   "metadata": {},
   "outputs": [
    {
     "data": {
      "text/html": [
       "<div>\n",
       "<style scoped>\n",
       "    .dataframe tbody tr th:only-of-type {\n",
       "        vertical-align: middle;\n",
       "    }\n",
       "\n",
       "    .dataframe tbody tr th {\n",
       "        vertical-align: top;\n",
       "    }\n",
       "\n",
       "    .dataframe thead th {\n",
       "        text-align: right;\n",
       "    }\n",
       "</style>\n",
       "<table border=\"1\" class=\"dataframe\">\n",
       "  <thead>\n",
       "    <tr style=\"text-align: right;\">\n",
       "      <th></th>\n",
       "      <th>education</th>\n",
       "      <th>family_status</th>\n",
       "      <th>gender</th>\n",
       "      <th>income_type</th>\n",
       "      <th>purpose</th>\n",
       "    </tr>\n",
       "  </thead>\n",
       "  <tbody>\n",
       "    <tr>\n",
       "      <th>0</th>\n",
       "      <td>высшее</td>\n",
       "      <td>женат / замужем</td>\n",
       "      <td>F</td>\n",
       "      <td>сотрудник</td>\n",
       "      <td>покупка жилья</td>\n",
       "    </tr>\n",
       "    <tr>\n",
       "      <th>1</th>\n",
       "      <td>среднее</td>\n",
       "      <td>женат / замужем</td>\n",
       "      <td>F</td>\n",
       "      <td>сотрудник</td>\n",
       "      <td>приобретение автомобиля</td>\n",
       "    </tr>\n",
       "    <tr>\n",
       "      <th>2</th>\n",
       "      <td>Среднее</td>\n",
       "      <td>женат / замужем</td>\n",
       "      <td>M</td>\n",
       "      <td>сотрудник</td>\n",
       "      <td>покупка жилья</td>\n",
       "    </tr>\n",
       "    <tr>\n",
       "      <th>3</th>\n",
       "      <td>среднее</td>\n",
       "      <td>женат / замужем</td>\n",
       "      <td>M</td>\n",
       "      <td>сотрудник</td>\n",
       "      <td>дополнительное образование</td>\n",
       "    </tr>\n",
       "    <tr>\n",
       "      <th>4</th>\n",
       "      <td>среднее</td>\n",
       "      <td>гражданский брак</td>\n",
       "      <td>F</td>\n",
       "      <td>пенсионер</td>\n",
       "      <td>сыграть свадьбу</td>\n",
       "    </tr>\n",
       "    <tr>\n",
       "      <th>...</th>\n",
       "      <td>...</td>\n",
       "      <td>...</td>\n",
       "      <td>...</td>\n",
       "      <td>...</td>\n",
       "      <td>...</td>\n",
       "    </tr>\n",
       "    <tr>\n",
       "      <th>21364</th>\n",
       "      <td>среднее</td>\n",
       "      <td>гражданский брак</td>\n",
       "      <td>F</td>\n",
       "      <td>компаньон</td>\n",
       "      <td>операции с жильем</td>\n",
       "    </tr>\n",
       "    <tr>\n",
       "      <th>21365</th>\n",
       "      <td>среднее</td>\n",
       "      <td>женат / замужем</td>\n",
       "      <td>F</td>\n",
       "      <td>пенсионер</td>\n",
       "      <td>сделка с автомобилем</td>\n",
       "    </tr>\n",
       "    <tr>\n",
       "      <th>21366</th>\n",
       "      <td>среднее</td>\n",
       "      <td>гражданский брак</td>\n",
       "      <td>M</td>\n",
       "      <td>сотрудник</td>\n",
       "      <td>недвижимость</td>\n",
       "    </tr>\n",
       "    <tr>\n",
       "      <th>21367</th>\n",
       "      <td>среднее</td>\n",
       "      <td>женат / замужем</td>\n",
       "      <td>M</td>\n",
       "      <td>сотрудник</td>\n",
       "      <td>на покупку своего автомобиля</td>\n",
       "    </tr>\n",
       "    <tr>\n",
       "      <th>21368</th>\n",
       "      <td>среднее</td>\n",
       "      <td>женат / замужем</td>\n",
       "      <td>F</td>\n",
       "      <td>сотрудник</td>\n",
       "      <td>на покупку автомобиля</td>\n",
       "    </tr>\n",
       "  </tbody>\n",
       "</table>\n",
       "<p>21369 rows × 5 columns</p>\n",
       "</div>"
      ],
      "text/plain": [
       "      education     family_status gender income_type  \\\n",
       "0        высшее   женат / замужем      F   сотрудник   \n",
       "1       среднее   женат / замужем      F   сотрудник   \n",
       "2       Среднее   женат / замужем      M   сотрудник   \n",
       "3       среднее   женат / замужем      M   сотрудник   \n",
       "4       среднее  гражданский брак      F   пенсионер   \n",
       "...         ...               ...    ...         ...   \n",
       "21364   среднее  гражданский брак      F   компаньон   \n",
       "21365   среднее   женат / замужем      F   пенсионер   \n",
       "21366   среднее  гражданский брак      M   сотрудник   \n",
       "21367   среднее   женат / замужем      M   сотрудник   \n",
       "21368   среднее   женат / замужем      F   сотрудник   \n",
       "\n",
       "                            purpose  \n",
       "0                     покупка жилья  \n",
       "1           приобретение автомобиля  \n",
       "2                     покупка жилья  \n",
       "3        дополнительное образование  \n",
       "4                   сыграть свадьбу  \n",
       "...                             ...  \n",
       "21364             операции с жильем  \n",
       "21365          сделка с автомобилем  \n",
       "21366                  недвижимость  \n",
       "21367  на покупку своего автомобиля  \n",
       "21368         на покупку автомобиля  \n",
       "\n",
       "[21369 rows x 5 columns]"
      ]
     },
     "execution_count": 49,
     "metadata": {},
     "output_type": "execute_result"
    },
    {
     "data": {
      "application/javascript": [
       "\n",
       "            setTimeout(function() {\n",
       "                var nbb_cell_id = 49;\n",
       "                var nbb_unformatted_code = \"df1\";\n",
       "                var nbb_formatted_code = \"df1\";\n",
       "                var nbb_cells = Jupyter.notebook.get_cells();\n",
       "                for (var i = 0; i < nbb_cells.length; ++i) {\n",
       "                    if (nbb_cells[i].input_prompt_number == nbb_cell_id) {\n",
       "                        if (nbb_cells[i].get_text() == nbb_unformatted_code) {\n",
       "                             nbb_cells[i].set_text(nbb_formatted_code);\n",
       "                        }\n",
       "                        break;\n",
       "                    }\n",
       "                }\n",
       "            }, 500);\n",
       "            "
      ],
      "text/plain": [
       "<IPython.core.display.Javascript object>"
      ]
     },
     "metadata": {},
     "output_type": "display_data"
    }
   ],
   "source": [
    "df1"
   ]
  },
  {
   "cell_type": "code",
   "execution_count": 50,
   "id": "aaf95d67",
   "metadata": {},
   "outputs": [
    {
     "data": {
      "application/javascript": [
       "\n",
       "            setTimeout(function() {\n",
       "                var nbb_cell_id = 50;\n",
       "                var nbb_unformatted_code = \"df1 = df1.apply(lambda x: x.astype(str).str.lower())\";\n",
       "                var nbb_formatted_code = \"df1 = df1.apply(lambda x: x.astype(str).str.lower())\";\n",
       "                var nbb_cells = Jupyter.notebook.get_cells();\n",
       "                for (var i = 0; i < nbb_cells.length; ++i) {\n",
       "                    if (nbb_cells[i].input_prompt_number == nbb_cell_id) {\n",
       "                        if (nbb_cells[i].get_text() == nbb_unformatted_code) {\n",
       "                             nbb_cells[i].set_text(nbb_formatted_code);\n",
       "                        }\n",
       "                        break;\n",
       "                    }\n",
       "                }\n",
       "            }, 500);\n",
       "            "
      ],
      "text/plain": [
       "<IPython.core.display.Javascript object>"
      ]
     },
     "metadata": {},
     "output_type": "display_data"
    }
   ],
   "source": [
    "df1 = df1.apply(lambda x: x.astype(str).str.lower())"
   ]
  },
  {
   "cell_type": "code",
   "execution_count": 51,
   "id": "66656514",
   "metadata": {},
   "outputs": [
    {
     "data": {
      "text/html": [
       "<div>\n",
       "<style scoped>\n",
       "    .dataframe tbody tr th:only-of-type {\n",
       "        vertical-align: middle;\n",
       "    }\n",
       "\n",
       "    .dataframe tbody tr th {\n",
       "        vertical-align: top;\n",
       "    }\n",
       "\n",
       "    .dataframe thead th {\n",
       "        text-align: right;\n",
       "    }\n",
       "</style>\n",
       "<table border=\"1\" class=\"dataframe\">\n",
       "  <thead>\n",
       "    <tr style=\"text-align: right;\">\n",
       "      <th></th>\n",
       "      <th>education</th>\n",
       "      <th>family_status</th>\n",
       "      <th>gender</th>\n",
       "      <th>income_type</th>\n",
       "      <th>purpose</th>\n",
       "    </tr>\n",
       "  </thead>\n",
       "  <tbody>\n",
       "    <tr>\n",
       "      <th>0</th>\n",
       "      <td>высшее</td>\n",
       "      <td>женат / замужем</td>\n",
       "      <td>f</td>\n",
       "      <td>сотрудник</td>\n",
       "      <td>покупка жилья</td>\n",
       "    </tr>\n",
       "    <tr>\n",
       "      <th>1</th>\n",
       "      <td>среднее</td>\n",
       "      <td>женат / замужем</td>\n",
       "      <td>f</td>\n",
       "      <td>сотрудник</td>\n",
       "      <td>приобретение автомобиля</td>\n",
       "    </tr>\n",
       "    <tr>\n",
       "      <th>2</th>\n",
       "      <td>среднее</td>\n",
       "      <td>женат / замужем</td>\n",
       "      <td>m</td>\n",
       "      <td>сотрудник</td>\n",
       "      <td>покупка жилья</td>\n",
       "    </tr>\n",
       "    <tr>\n",
       "      <th>3</th>\n",
       "      <td>среднее</td>\n",
       "      <td>женат / замужем</td>\n",
       "      <td>m</td>\n",
       "      <td>сотрудник</td>\n",
       "      <td>дополнительное образование</td>\n",
       "    </tr>\n",
       "    <tr>\n",
       "      <th>4</th>\n",
       "      <td>среднее</td>\n",
       "      <td>гражданский брак</td>\n",
       "      <td>f</td>\n",
       "      <td>пенсионер</td>\n",
       "      <td>сыграть свадьбу</td>\n",
       "    </tr>\n",
       "    <tr>\n",
       "      <th>...</th>\n",
       "      <td>...</td>\n",
       "      <td>...</td>\n",
       "      <td>...</td>\n",
       "      <td>...</td>\n",
       "      <td>...</td>\n",
       "    </tr>\n",
       "    <tr>\n",
       "      <th>21364</th>\n",
       "      <td>среднее</td>\n",
       "      <td>гражданский брак</td>\n",
       "      <td>f</td>\n",
       "      <td>компаньон</td>\n",
       "      <td>операции с жильем</td>\n",
       "    </tr>\n",
       "    <tr>\n",
       "      <th>21365</th>\n",
       "      <td>среднее</td>\n",
       "      <td>женат / замужем</td>\n",
       "      <td>f</td>\n",
       "      <td>пенсионер</td>\n",
       "      <td>сделка с автомобилем</td>\n",
       "    </tr>\n",
       "    <tr>\n",
       "      <th>21366</th>\n",
       "      <td>среднее</td>\n",
       "      <td>гражданский брак</td>\n",
       "      <td>m</td>\n",
       "      <td>сотрудник</td>\n",
       "      <td>недвижимость</td>\n",
       "    </tr>\n",
       "    <tr>\n",
       "      <th>21367</th>\n",
       "      <td>среднее</td>\n",
       "      <td>женат / замужем</td>\n",
       "      <td>m</td>\n",
       "      <td>сотрудник</td>\n",
       "      <td>на покупку своего автомобиля</td>\n",
       "    </tr>\n",
       "    <tr>\n",
       "      <th>21368</th>\n",
       "      <td>среднее</td>\n",
       "      <td>женат / замужем</td>\n",
       "      <td>f</td>\n",
       "      <td>сотрудник</td>\n",
       "      <td>на покупку автомобиля</td>\n",
       "    </tr>\n",
       "  </tbody>\n",
       "</table>\n",
       "<p>21369 rows × 5 columns</p>\n",
       "</div>"
      ],
      "text/plain": [
       "      education     family_status gender income_type  \\\n",
       "0        высшее   женат / замужем      f   сотрудник   \n",
       "1       среднее   женат / замужем      f   сотрудник   \n",
       "2       среднее   женат / замужем      m   сотрудник   \n",
       "3       среднее   женат / замужем      m   сотрудник   \n",
       "4       среднее  гражданский брак      f   пенсионер   \n",
       "...         ...               ...    ...         ...   \n",
       "21364   среднее  гражданский брак      f   компаньон   \n",
       "21365   среднее   женат / замужем      f   пенсионер   \n",
       "21366   среднее  гражданский брак      m   сотрудник   \n",
       "21367   среднее   женат / замужем      m   сотрудник   \n",
       "21368   среднее   женат / замужем      f   сотрудник   \n",
       "\n",
       "                            purpose  \n",
       "0                     покупка жилья  \n",
       "1           приобретение автомобиля  \n",
       "2                     покупка жилья  \n",
       "3        дополнительное образование  \n",
       "4                   сыграть свадьбу  \n",
       "...                             ...  \n",
       "21364             операции с жильем  \n",
       "21365          сделка с автомобилем  \n",
       "21366                  недвижимость  \n",
       "21367  на покупку своего автомобиля  \n",
       "21368         на покупку автомобиля  \n",
       "\n",
       "[21369 rows x 5 columns]"
      ]
     },
     "execution_count": 51,
     "metadata": {},
     "output_type": "execute_result"
    },
    {
     "data": {
      "application/javascript": [
       "\n",
       "            setTimeout(function() {\n",
       "                var nbb_cell_id = 51;\n",
       "                var nbb_unformatted_code = \"df1\";\n",
       "                var nbb_formatted_code = \"df1\";\n",
       "                var nbb_cells = Jupyter.notebook.get_cells();\n",
       "                for (var i = 0; i < nbb_cells.length; ++i) {\n",
       "                    if (nbb_cells[i].input_prompt_number == nbb_cell_id) {\n",
       "                        if (nbb_cells[i].get_text() == nbb_unformatted_code) {\n",
       "                             nbb_cells[i].set_text(nbb_formatted_code);\n",
       "                        }\n",
       "                        break;\n",
       "                    }\n",
       "                }\n",
       "            }, 500);\n",
       "            "
      ],
      "text/plain": [
       "<IPython.core.display.Javascript object>"
      ]
     },
     "metadata": {},
     "output_type": "display_data"
    }
   ],
   "source": [
    "df1"
   ]
  },
  {
   "cell_type": "code",
   "execution_count": 52,
   "id": "40c1d3d5",
   "metadata": {},
   "outputs": [
    {
     "data": {
      "application/javascript": [
       "\n",
       "            setTimeout(function() {\n",
       "                var nbb_cell_id = 52;\n",
       "                var nbb_unformatted_code = \"df.loc[:, df.select_dtypes(include=\\\"object\\\").columns] = df1[df1.columns]\";\n",
       "                var nbb_formatted_code = \"df.loc[:, df.select_dtypes(include=\\\"object\\\").columns] = df1[df1.columns]\";\n",
       "                var nbb_cells = Jupyter.notebook.get_cells();\n",
       "                for (var i = 0; i < nbb_cells.length; ++i) {\n",
       "                    if (nbb_cells[i].input_prompt_number == nbb_cell_id) {\n",
       "                        if (nbb_cells[i].get_text() == nbb_unformatted_code) {\n",
       "                             nbb_cells[i].set_text(nbb_formatted_code);\n",
       "                        }\n",
       "                        break;\n",
       "                    }\n",
       "                }\n",
       "            }, 500);\n",
       "            "
      ],
      "text/plain": [
       "<IPython.core.display.Javascript object>"
      ]
     },
     "metadata": {},
     "output_type": "display_data"
    }
   ],
   "source": [
    "df.loc[:, df.select_dtypes(include=\"object\").columns] = df1[df1.columns]"
   ]
  },
  {
   "cell_type": "code",
   "execution_count": 53,
   "id": "ff09a80f",
   "metadata": {},
   "outputs": [
    {
     "data": {
      "text/html": [
       "<div>\n",
       "<style scoped>\n",
       "    .dataframe tbody tr th:only-of-type {\n",
       "        vertical-align: middle;\n",
       "    }\n",
       "\n",
       "    .dataframe tbody tr th {\n",
       "        vertical-align: top;\n",
       "    }\n",
       "\n",
       "    .dataframe thead th {\n",
       "        text-align: right;\n",
       "    }\n",
       "</style>\n",
       "<table border=\"1\" class=\"dataframe\">\n",
       "  <thead>\n",
       "    <tr style=\"text-align: right;\">\n",
       "      <th></th>\n",
       "      <th>children</th>\n",
       "      <th>days_employed</th>\n",
       "      <th>dob_years</th>\n",
       "      <th>education</th>\n",
       "      <th>education_id</th>\n",
       "      <th>family_status</th>\n",
       "      <th>family_status_id</th>\n",
       "      <th>gender</th>\n",
       "      <th>income_type</th>\n",
       "      <th>debt</th>\n",
       "      <th>total_income</th>\n",
       "      <th>purpose</th>\n",
       "    </tr>\n",
       "  </thead>\n",
       "  <tbody>\n",
       "    <tr>\n",
       "      <th>0</th>\n",
       "      <td>1</td>\n",
       "      <td>8437.673028</td>\n",
       "      <td>42</td>\n",
       "      <td>высшее</td>\n",
       "      <td>0</td>\n",
       "      <td>женат / замужем</td>\n",
       "      <td>0</td>\n",
       "      <td>f</td>\n",
       "      <td>сотрудник</td>\n",
       "      <td>0</td>\n",
       "      <td>253875</td>\n",
       "      <td>покупка жилья</td>\n",
       "    </tr>\n",
       "    <tr>\n",
       "      <th>1</th>\n",
       "      <td>1</td>\n",
       "      <td>4024.803754</td>\n",
       "      <td>36</td>\n",
       "      <td>среднее</td>\n",
       "      <td>1</td>\n",
       "      <td>женат / замужем</td>\n",
       "      <td>0</td>\n",
       "      <td>f</td>\n",
       "      <td>сотрудник</td>\n",
       "      <td>0</td>\n",
       "      <td>112080</td>\n",
       "      <td>приобретение автомобиля</td>\n",
       "    </tr>\n",
       "    <tr>\n",
       "      <th>2</th>\n",
       "      <td>0</td>\n",
       "      <td>5623.422610</td>\n",
       "      <td>33</td>\n",
       "      <td>среднее</td>\n",
       "      <td>1</td>\n",
       "      <td>женат / замужем</td>\n",
       "      <td>0</td>\n",
       "      <td>m</td>\n",
       "      <td>сотрудник</td>\n",
       "      <td>0</td>\n",
       "      <td>145885</td>\n",
       "      <td>покупка жилья</td>\n",
       "    </tr>\n",
       "    <tr>\n",
       "      <th>3</th>\n",
       "      <td>3</td>\n",
       "      <td>4124.747207</td>\n",
       "      <td>32</td>\n",
       "      <td>среднее</td>\n",
       "      <td>1</td>\n",
       "      <td>женат / замужем</td>\n",
       "      <td>0</td>\n",
       "      <td>m</td>\n",
       "      <td>сотрудник</td>\n",
       "      <td>0</td>\n",
       "      <td>267628</td>\n",
       "      <td>дополнительное образование</td>\n",
       "    </tr>\n",
       "    <tr>\n",
       "      <th>4</th>\n",
       "      <td>0</td>\n",
       "      <td>340266.072047</td>\n",
       "      <td>53</td>\n",
       "      <td>среднее</td>\n",
       "      <td>1</td>\n",
       "      <td>гражданский брак</td>\n",
       "      <td>1</td>\n",
       "      <td>f</td>\n",
       "      <td>пенсионер</td>\n",
       "      <td>0</td>\n",
       "      <td>158616</td>\n",
       "      <td>сыграть свадьбу</td>\n",
       "    </tr>\n",
       "    <tr>\n",
       "      <th>...</th>\n",
       "      <td>...</td>\n",
       "      <td>...</td>\n",
       "      <td>...</td>\n",
       "      <td>...</td>\n",
       "      <td>...</td>\n",
       "      <td>...</td>\n",
       "      <td>...</td>\n",
       "      <td>...</td>\n",
       "      <td>...</td>\n",
       "      <td>...</td>\n",
       "      <td>...</td>\n",
       "      <td>...</td>\n",
       "    </tr>\n",
       "    <tr>\n",
       "      <th>21364</th>\n",
       "      <td>1</td>\n",
       "      <td>4529.316663</td>\n",
       "      <td>43</td>\n",
       "      <td>среднее</td>\n",
       "      <td>1</td>\n",
       "      <td>гражданский брак</td>\n",
       "      <td>1</td>\n",
       "      <td>f</td>\n",
       "      <td>компаньон</td>\n",
       "      <td>0</td>\n",
       "      <td>224791</td>\n",
       "      <td>операции с жильем</td>\n",
       "    </tr>\n",
       "    <tr>\n",
       "      <th>21365</th>\n",
       "      <td>0</td>\n",
       "      <td>343937.404131</td>\n",
       "      <td>67</td>\n",
       "      <td>среднее</td>\n",
       "      <td>1</td>\n",
       "      <td>женат / замужем</td>\n",
       "      <td>0</td>\n",
       "      <td>f</td>\n",
       "      <td>пенсионер</td>\n",
       "      <td>0</td>\n",
       "      <td>155999</td>\n",
       "      <td>сделка с автомобилем</td>\n",
       "    </tr>\n",
       "    <tr>\n",
       "      <th>21366</th>\n",
       "      <td>1</td>\n",
       "      <td>2113.346888</td>\n",
       "      <td>38</td>\n",
       "      <td>среднее</td>\n",
       "      <td>1</td>\n",
       "      <td>гражданский брак</td>\n",
       "      <td>1</td>\n",
       "      <td>m</td>\n",
       "      <td>сотрудник</td>\n",
       "      <td>1</td>\n",
       "      <td>89672</td>\n",
       "      <td>недвижимость</td>\n",
       "    </tr>\n",
       "    <tr>\n",
       "      <th>21367</th>\n",
       "      <td>3</td>\n",
       "      <td>3112.481705</td>\n",
       "      <td>38</td>\n",
       "      <td>среднее</td>\n",
       "      <td>1</td>\n",
       "      <td>женат / замужем</td>\n",
       "      <td>0</td>\n",
       "      <td>m</td>\n",
       "      <td>сотрудник</td>\n",
       "      <td>1</td>\n",
       "      <td>244093</td>\n",
       "      <td>на покупку своего автомобиля</td>\n",
       "    </tr>\n",
       "    <tr>\n",
       "      <th>21368</th>\n",
       "      <td>2</td>\n",
       "      <td>1984.507589</td>\n",
       "      <td>40</td>\n",
       "      <td>среднее</td>\n",
       "      <td>1</td>\n",
       "      <td>женат / замужем</td>\n",
       "      <td>0</td>\n",
       "      <td>f</td>\n",
       "      <td>сотрудник</td>\n",
       "      <td>0</td>\n",
       "      <td>82047</td>\n",
       "      <td>на покупку автомобиля</td>\n",
       "    </tr>\n",
       "  </tbody>\n",
       "</table>\n",
       "<p>21369 rows × 12 columns</p>\n",
       "</div>"
      ],
      "text/plain": [
       "       children  days_employed  dob_years education  education_id  \\\n",
       "0             1    8437.673028         42    высшее             0   \n",
       "1             1    4024.803754         36   среднее             1   \n",
       "2             0    5623.422610         33   среднее             1   \n",
       "3             3    4124.747207         32   среднее             1   \n",
       "4             0  340266.072047         53   среднее             1   \n",
       "...         ...            ...        ...       ...           ...   \n",
       "21364         1    4529.316663         43   среднее             1   \n",
       "21365         0  343937.404131         67   среднее             1   \n",
       "21366         1    2113.346888         38   среднее             1   \n",
       "21367         3    3112.481705         38   среднее             1   \n",
       "21368         2    1984.507589         40   среднее             1   \n",
       "\n",
       "          family_status  family_status_id gender income_type  debt  \\\n",
       "0       женат / замужем                 0      f   сотрудник     0   \n",
       "1       женат / замужем                 0      f   сотрудник     0   \n",
       "2       женат / замужем                 0      m   сотрудник     0   \n",
       "3       женат / замужем                 0      m   сотрудник     0   \n",
       "4      гражданский брак                 1      f   пенсионер     0   \n",
       "...                 ...               ...    ...         ...   ...   \n",
       "21364  гражданский брак                 1      f   компаньон     0   \n",
       "21365   женат / замужем                 0      f   пенсионер     0   \n",
       "21366  гражданский брак                 1      m   сотрудник     1   \n",
       "21367   женат / замужем                 0      m   сотрудник     1   \n",
       "21368   женат / замужем                 0      f   сотрудник     0   \n",
       "\n",
       "       total_income                       purpose  \n",
       "0            253875                 покупка жилья  \n",
       "1            112080       приобретение автомобиля  \n",
       "2            145885                 покупка жилья  \n",
       "3            267628    дополнительное образование  \n",
       "4            158616               сыграть свадьбу  \n",
       "...             ...                           ...  \n",
       "21364        224791             операции с жильем  \n",
       "21365        155999          сделка с автомобилем  \n",
       "21366         89672                  недвижимость  \n",
       "21367        244093  на покупку своего автомобиля  \n",
       "21368         82047         на покупку автомобиля  \n",
       "\n",
       "[21369 rows x 12 columns]"
      ]
     },
     "execution_count": 53,
     "metadata": {},
     "output_type": "execute_result"
    },
    {
     "data": {
      "application/javascript": [
       "\n",
       "            setTimeout(function() {\n",
       "                var nbb_cell_id = 53;\n",
       "                var nbb_unformatted_code = \"df\";\n",
       "                var nbb_formatted_code = \"df\";\n",
       "                var nbb_cells = Jupyter.notebook.get_cells();\n",
       "                for (var i = 0; i < nbb_cells.length; ++i) {\n",
       "                    if (nbb_cells[i].input_prompt_number == nbb_cell_id) {\n",
       "                        if (nbb_cells[i].get_text() == nbb_unformatted_code) {\n",
       "                             nbb_cells[i].set_text(nbb_formatted_code);\n",
       "                        }\n",
       "                        break;\n",
       "                    }\n",
       "                }\n",
       "            }, 500);\n",
       "            "
      ],
      "text/plain": [
       "<IPython.core.display.Javascript object>"
      ]
     },
     "metadata": {},
     "output_type": "display_data"
    }
   ],
   "source": [
    "df"
   ]
  },
  {
   "cell_type": "code",
   "execution_count": 54,
   "id": "039a1fe8",
   "metadata": {},
   "outputs": [
    {
     "data": {
      "text/plain": [
       "education        0\n",
       "family_status    0\n",
       "gender           0\n",
       "income_type      0\n",
       "purpose          0\n",
       "dtype: int64"
      ]
     },
     "execution_count": 54,
     "metadata": {},
     "output_type": "execute_result"
    },
    {
     "data": {
      "application/javascript": [
       "\n",
       "            setTimeout(function() {\n",
       "                var nbb_cell_id = 54;\n",
       "                var nbb_unformatted_code = \"df.select_dtypes(include=\\\"object\\\").apply(lambda x: x.astype(str).str.isupper()).sum()\";\n",
       "                var nbb_formatted_code = \"df.select_dtypes(include=\\\"object\\\").apply(lambda x: x.astype(str).str.isupper()).sum()\";\n",
       "                var nbb_cells = Jupyter.notebook.get_cells();\n",
       "                for (var i = 0; i < nbb_cells.length; ++i) {\n",
       "                    if (nbb_cells[i].input_prompt_number == nbb_cell_id) {\n",
       "                        if (nbb_cells[i].get_text() == nbb_unformatted_code) {\n",
       "                             nbb_cells[i].set_text(nbb_formatted_code);\n",
       "                        }\n",
       "                        break;\n",
       "                    }\n",
       "                }\n",
       "            }, 500);\n",
       "            "
      ],
      "text/plain": [
       "<IPython.core.display.Javascript object>"
      ]
     },
     "metadata": {},
     "output_type": "display_data"
    }
   ],
   "source": [
    "df.select_dtypes(include=\"object\").apply(lambda x: x.astype(str).str.isupper()).sum()"
   ]
  },
  {
   "cell_type": "markdown",
   "id": "8c67d909",
   "metadata": {},
   "source": [
    "Thus, all character data in the table is converted to lower case, let's now check for implicit duplicates."
   ]
  },
  {
   "cell_type": "code",
   "execution_count": 55,
   "id": "21e493ae",
   "metadata": {},
   "outputs": [
    {
     "data": {
      "text/plain": [
       "17"
      ]
     },
     "execution_count": 55,
     "metadata": {},
     "output_type": "execute_result"
    },
    {
     "data": {
      "application/javascript": [
       "\n",
       "            setTimeout(function() {\n",
       "                var nbb_cell_id = 55;\n",
       "                var nbb_unformatted_code = \"df.duplicated().sum()\";\n",
       "                var nbb_formatted_code = \"df.duplicated().sum()\";\n",
       "                var nbb_cells = Jupyter.notebook.get_cells();\n",
       "                for (var i = 0; i < nbb_cells.length; ++i) {\n",
       "                    if (nbb_cells[i].input_prompt_number == nbb_cell_id) {\n",
       "                        if (nbb_cells[i].get_text() == nbb_unformatted_code) {\n",
       "                             nbb_cells[i].set_text(nbb_formatted_code);\n",
       "                        }\n",
       "                        break;\n",
       "                    }\n",
       "                }\n",
       "            }, 500);\n",
       "            "
      ],
      "text/plain": [
       "<IPython.core.display.Javascript object>"
      ]
     },
     "metadata": {},
     "output_type": "display_data"
    }
   ],
   "source": [
    "df.duplicated().sum()"
   ]
  },
  {
   "cell_type": "markdown",
   "id": "7e66cc76",
   "metadata": {},
   "source": [
    "Remove the implicit duplicates."
   ]
  },
  {
   "cell_type": "code",
   "execution_count": 56,
   "id": "9529785b",
   "metadata": {},
   "outputs": [
    {
     "data": {
      "application/javascript": [
       "\n",
       "            setTimeout(function() {\n",
       "                var nbb_cell_id = 56;\n",
       "                var nbb_unformatted_code = \"df = df.drop_duplicates().reset_index(drop=True)\";\n",
       "                var nbb_formatted_code = \"df = df.drop_duplicates().reset_index(drop=True)\";\n",
       "                var nbb_cells = Jupyter.notebook.get_cells();\n",
       "                for (var i = 0; i < nbb_cells.length; ++i) {\n",
       "                    if (nbb_cells[i].input_prompt_number == nbb_cell_id) {\n",
       "                        if (nbb_cells[i].get_text() == nbb_unformatted_code) {\n",
       "                             nbb_cells[i].set_text(nbb_formatted_code);\n",
       "                        }\n",
       "                        break;\n",
       "                    }\n",
       "                }\n",
       "            }, 500);\n",
       "            "
      ],
      "text/plain": [
       "<IPython.core.display.Javascript object>"
      ]
     },
     "metadata": {},
     "output_type": "display_data"
    }
   ],
   "source": [
    "df = df.drop_duplicates().reset_index(drop=True)"
   ]
  },
  {
   "cell_type": "code",
   "execution_count": 57,
   "id": "659fbdf3",
   "metadata": {},
   "outputs": [
    {
     "data": {
      "text/plain": [
       "0"
      ]
     },
     "execution_count": 57,
     "metadata": {},
     "output_type": "execute_result"
    },
    {
     "data": {
      "application/javascript": [
       "\n",
       "            setTimeout(function() {\n",
       "                var nbb_cell_id = 57;\n",
       "                var nbb_unformatted_code = \"df.duplicated().sum()\";\n",
       "                var nbb_formatted_code = \"df.duplicated().sum()\";\n",
       "                var nbb_cells = Jupyter.notebook.get_cells();\n",
       "                for (var i = 0; i < nbb_cells.length; ++i) {\n",
       "                    if (nbb_cells[i].input_prompt_number == nbb_cell_id) {\n",
       "                        if (nbb_cells[i].get_text() == nbb_unformatted_code) {\n",
       "                             nbb_cells[i].set_text(nbb_formatted_code);\n",
       "                        }\n",
       "                        break;\n",
       "                    }\n",
       "                }\n",
       "            }, 500);\n",
       "            "
      ],
      "text/plain": [
       "<IPython.core.display.Javascript object>"
      ]
     },
     "metadata": {},
     "output_type": "display_data"
    }
   ],
   "source": [
    "df.duplicated().sum()"
   ]
  },
  {
   "cell_type": "code",
   "execution_count": 58,
   "id": "f17ebc8c",
   "metadata": {},
   "outputs": [
    {
     "data": {
      "text/html": [
       "<div>\n",
       "<style scoped>\n",
       "    .dataframe tbody tr th:only-of-type {\n",
       "        vertical-align: middle;\n",
       "    }\n",
       "\n",
       "    .dataframe tbody tr th {\n",
       "        vertical-align: top;\n",
       "    }\n",
       "\n",
       "    .dataframe thead th {\n",
       "        text-align: right;\n",
       "    }\n",
       "</style>\n",
       "<table border=\"1\" class=\"dataframe\">\n",
       "  <thead>\n",
       "    <tr style=\"text-align: right;\">\n",
       "      <th></th>\n",
       "      <th>children</th>\n",
       "      <th>days_employed</th>\n",
       "      <th>dob_years</th>\n",
       "      <th>education</th>\n",
       "      <th>education_id</th>\n",
       "      <th>family_status</th>\n",
       "      <th>family_status_id</th>\n",
       "      <th>gender</th>\n",
       "      <th>income_type</th>\n",
       "      <th>debt</th>\n",
       "      <th>total_income</th>\n",
       "      <th>purpose</th>\n",
       "    </tr>\n",
       "  </thead>\n",
       "  <tbody>\n",
       "    <tr>\n",
       "      <th>0</th>\n",
       "      <td>1</td>\n",
       "      <td>8437.673028</td>\n",
       "      <td>42</td>\n",
       "      <td>высшее</td>\n",
       "      <td>0</td>\n",
       "      <td>женат / замужем</td>\n",
       "      <td>0</td>\n",
       "      <td>f</td>\n",
       "      <td>сотрудник</td>\n",
       "      <td>0</td>\n",
       "      <td>253875</td>\n",
       "      <td>покупка жилья</td>\n",
       "    </tr>\n",
       "    <tr>\n",
       "      <th>1</th>\n",
       "      <td>1</td>\n",
       "      <td>4024.803754</td>\n",
       "      <td>36</td>\n",
       "      <td>среднее</td>\n",
       "      <td>1</td>\n",
       "      <td>женат / замужем</td>\n",
       "      <td>0</td>\n",
       "      <td>f</td>\n",
       "      <td>сотрудник</td>\n",
       "      <td>0</td>\n",
       "      <td>112080</td>\n",
       "      <td>приобретение автомобиля</td>\n",
       "    </tr>\n",
       "    <tr>\n",
       "      <th>2</th>\n",
       "      <td>0</td>\n",
       "      <td>5623.422610</td>\n",
       "      <td>33</td>\n",
       "      <td>среднее</td>\n",
       "      <td>1</td>\n",
       "      <td>женат / замужем</td>\n",
       "      <td>0</td>\n",
       "      <td>m</td>\n",
       "      <td>сотрудник</td>\n",
       "      <td>0</td>\n",
       "      <td>145885</td>\n",
       "      <td>покупка жилья</td>\n",
       "    </tr>\n",
       "    <tr>\n",
       "      <th>3</th>\n",
       "      <td>3</td>\n",
       "      <td>4124.747207</td>\n",
       "      <td>32</td>\n",
       "      <td>среднее</td>\n",
       "      <td>1</td>\n",
       "      <td>женат / замужем</td>\n",
       "      <td>0</td>\n",
       "      <td>m</td>\n",
       "      <td>сотрудник</td>\n",
       "      <td>0</td>\n",
       "      <td>267628</td>\n",
       "      <td>дополнительное образование</td>\n",
       "    </tr>\n",
       "    <tr>\n",
       "      <th>4</th>\n",
       "      <td>0</td>\n",
       "      <td>340266.072047</td>\n",
       "      <td>53</td>\n",
       "      <td>среднее</td>\n",
       "      <td>1</td>\n",
       "      <td>гражданский брак</td>\n",
       "      <td>1</td>\n",
       "      <td>f</td>\n",
       "      <td>пенсионер</td>\n",
       "      <td>0</td>\n",
       "      <td>158616</td>\n",
       "      <td>сыграть свадьбу</td>\n",
       "    </tr>\n",
       "    <tr>\n",
       "      <th>...</th>\n",
       "      <td>...</td>\n",
       "      <td>...</td>\n",
       "      <td>...</td>\n",
       "      <td>...</td>\n",
       "      <td>...</td>\n",
       "      <td>...</td>\n",
       "      <td>...</td>\n",
       "      <td>...</td>\n",
       "      <td>...</td>\n",
       "      <td>...</td>\n",
       "      <td>...</td>\n",
       "      <td>...</td>\n",
       "    </tr>\n",
       "    <tr>\n",
       "      <th>21347</th>\n",
       "      <td>1</td>\n",
       "      <td>4529.316663</td>\n",
       "      <td>43</td>\n",
       "      <td>среднее</td>\n",
       "      <td>1</td>\n",
       "      <td>гражданский брак</td>\n",
       "      <td>1</td>\n",
       "      <td>f</td>\n",
       "      <td>компаньон</td>\n",
       "      <td>0</td>\n",
       "      <td>224791</td>\n",
       "      <td>операции с жильем</td>\n",
       "    </tr>\n",
       "    <tr>\n",
       "      <th>21348</th>\n",
       "      <td>0</td>\n",
       "      <td>343937.404131</td>\n",
       "      <td>67</td>\n",
       "      <td>среднее</td>\n",
       "      <td>1</td>\n",
       "      <td>женат / замужем</td>\n",
       "      <td>0</td>\n",
       "      <td>f</td>\n",
       "      <td>пенсионер</td>\n",
       "      <td>0</td>\n",
       "      <td>155999</td>\n",
       "      <td>сделка с автомобилем</td>\n",
       "    </tr>\n",
       "    <tr>\n",
       "      <th>21349</th>\n",
       "      <td>1</td>\n",
       "      <td>2113.346888</td>\n",
       "      <td>38</td>\n",
       "      <td>среднее</td>\n",
       "      <td>1</td>\n",
       "      <td>гражданский брак</td>\n",
       "      <td>1</td>\n",
       "      <td>m</td>\n",
       "      <td>сотрудник</td>\n",
       "      <td>1</td>\n",
       "      <td>89672</td>\n",
       "      <td>недвижимость</td>\n",
       "    </tr>\n",
       "    <tr>\n",
       "      <th>21350</th>\n",
       "      <td>3</td>\n",
       "      <td>3112.481705</td>\n",
       "      <td>38</td>\n",
       "      <td>среднее</td>\n",
       "      <td>1</td>\n",
       "      <td>женат / замужем</td>\n",
       "      <td>0</td>\n",
       "      <td>m</td>\n",
       "      <td>сотрудник</td>\n",
       "      <td>1</td>\n",
       "      <td>244093</td>\n",
       "      <td>на покупку своего автомобиля</td>\n",
       "    </tr>\n",
       "    <tr>\n",
       "      <th>21351</th>\n",
       "      <td>2</td>\n",
       "      <td>1984.507589</td>\n",
       "      <td>40</td>\n",
       "      <td>среднее</td>\n",
       "      <td>1</td>\n",
       "      <td>женат / замужем</td>\n",
       "      <td>0</td>\n",
       "      <td>f</td>\n",
       "      <td>сотрудник</td>\n",
       "      <td>0</td>\n",
       "      <td>82047</td>\n",
       "      <td>на покупку автомобиля</td>\n",
       "    </tr>\n",
       "  </tbody>\n",
       "</table>\n",
       "<p>21352 rows × 12 columns</p>\n",
       "</div>"
      ],
      "text/plain": [
       "       children  days_employed  dob_years education  education_id  \\\n",
       "0             1    8437.673028         42    высшее             0   \n",
       "1             1    4024.803754         36   среднее             1   \n",
       "2             0    5623.422610         33   среднее             1   \n",
       "3             3    4124.747207         32   среднее             1   \n",
       "4             0  340266.072047         53   среднее             1   \n",
       "...         ...            ...        ...       ...           ...   \n",
       "21347         1    4529.316663         43   среднее             1   \n",
       "21348         0  343937.404131         67   среднее             1   \n",
       "21349         1    2113.346888         38   среднее             1   \n",
       "21350         3    3112.481705         38   среднее             1   \n",
       "21351         2    1984.507589         40   среднее             1   \n",
       "\n",
       "          family_status  family_status_id gender income_type  debt  \\\n",
       "0       женат / замужем                 0      f   сотрудник     0   \n",
       "1       женат / замужем                 0      f   сотрудник     0   \n",
       "2       женат / замужем                 0      m   сотрудник     0   \n",
       "3       женат / замужем                 0      m   сотрудник     0   \n",
       "4      гражданский брак                 1      f   пенсионер     0   \n",
       "...                 ...               ...    ...         ...   ...   \n",
       "21347  гражданский брак                 1      f   компаньон     0   \n",
       "21348   женат / замужем                 0      f   пенсионер     0   \n",
       "21349  гражданский брак                 1      m   сотрудник     1   \n",
       "21350   женат / замужем                 0      m   сотрудник     1   \n",
       "21351   женат / замужем                 0      f   сотрудник     0   \n",
       "\n",
       "       total_income                       purpose  \n",
       "0            253875                 покупка жилья  \n",
       "1            112080       приобретение автомобиля  \n",
       "2            145885                 покупка жилья  \n",
       "3            267628    дополнительное образование  \n",
       "4            158616               сыграть свадьбу  \n",
       "...             ...                           ...  \n",
       "21347        224791             операции с жильем  \n",
       "21348        155999          сделка с автомобилем  \n",
       "21349         89672                  недвижимость  \n",
       "21350        244093  на покупку своего автомобиля  \n",
       "21351         82047         на покупку автомобиля  \n",
       "\n",
       "[21352 rows x 12 columns]"
      ]
     },
     "execution_count": 58,
     "metadata": {},
     "output_type": "execute_result"
    },
    {
     "data": {
      "application/javascript": [
       "\n",
       "            setTimeout(function() {\n",
       "                var nbb_cell_id = 58;\n",
       "                var nbb_unformatted_code = \"df\";\n",
       "                var nbb_formatted_code = \"df\";\n",
       "                var nbb_cells = Jupyter.notebook.get_cells();\n",
       "                for (var i = 0; i < nbb_cells.length; ++i) {\n",
       "                    if (nbb_cells[i].input_prompt_number == nbb_cell_id) {\n",
       "                        if (nbb_cells[i].get_text() == nbb_unformatted_code) {\n",
       "                             nbb_cells[i].set_text(nbb_formatted_code);\n",
       "                        }\n",
       "                        break;\n",
       "                    }\n",
       "                }\n",
       "            }, 500);\n",
       "            "
      ],
      "text/plain": [
       "<IPython.core.display.Javascript object>"
      ]
     },
     "metadata": {},
     "output_type": "display_data"
    }
   ],
   "source": [
    "df"
   ]
  },
  {
   "cell_type": "markdown",
   "id": "9215d285",
   "metadata": {},
   "source": [
    "Check the number of unique values in the `education` and `education_id` columns."
   ]
  },
  {
   "cell_type": "code",
   "execution_count": 59,
   "id": "e90ce96d",
   "metadata": {},
   "outputs": [
    {
     "data": {
      "text/plain": [
       "среднее                15108\n",
       "высшее                  5215\n",
       "неоконченное высшее      741\n",
       "начальное                282\n",
       "ученая степень             6\n",
       "Name: education, dtype: int64"
      ]
     },
     "execution_count": 59,
     "metadata": {},
     "output_type": "execute_result"
    },
    {
     "data": {
      "application/javascript": [
       "\n",
       "            setTimeout(function() {\n",
       "                var nbb_cell_id = 59;\n",
       "                var nbb_unformatted_code = \"df[\\\"education\\\"].value_counts()\";\n",
       "                var nbb_formatted_code = \"df[\\\"education\\\"].value_counts()\";\n",
       "                var nbb_cells = Jupyter.notebook.get_cells();\n",
       "                for (var i = 0; i < nbb_cells.length; ++i) {\n",
       "                    if (nbb_cells[i].input_prompt_number == nbb_cell_id) {\n",
       "                        if (nbb_cells[i].get_text() == nbb_unformatted_code) {\n",
       "                             nbb_cells[i].set_text(nbb_formatted_code);\n",
       "                        }\n",
       "                        break;\n",
       "                    }\n",
       "                }\n",
       "            }, 500);\n",
       "            "
      ],
      "text/plain": [
       "<IPython.core.display.Javascript object>"
      ]
     },
     "metadata": {},
     "output_type": "display_data"
    }
   ],
   "source": [
    "df[\"education\"].value_counts()"
   ]
  },
  {
   "cell_type": "code",
   "execution_count": 60,
   "id": "bba0eb6d",
   "metadata": {},
   "outputs": [
    {
     "data": {
      "text/plain": [
       "1    15108\n",
       "0     5215\n",
       "2      741\n",
       "3      282\n",
       "4        6\n",
       "Name: education_id, dtype: int64"
      ]
     },
     "execution_count": 60,
     "metadata": {},
     "output_type": "execute_result"
    },
    {
     "data": {
      "application/javascript": [
       "\n",
       "            setTimeout(function() {\n",
       "                var nbb_cell_id = 60;\n",
       "                var nbb_unformatted_code = \"df[\\\"education_id\\\"].value_counts()\";\n",
       "                var nbb_formatted_code = \"df[\\\"education_id\\\"].value_counts()\";\n",
       "                var nbb_cells = Jupyter.notebook.get_cells();\n",
       "                for (var i = 0; i < nbb_cells.length; ++i) {\n",
       "                    if (nbb_cells[i].input_prompt_number == nbb_cell_id) {\n",
       "                        if (nbb_cells[i].get_text() == nbb_unformatted_code) {\n",
       "                             nbb_cells[i].set_text(nbb_formatted_code);\n",
       "                        }\n",
       "                        break;\n",
       "                    }\n",
       "                }\n",
       "            }, 500);\n",
       "            "
      ],
      "text/plain": [
       "<IPython.core.display.Javascript object>"
      ]
     },
     "metadata": {},
     "output_type": "display_data"
    }
   ],
   "source": [
    "df[\"education_id\"].value_counts()"
   ]
  },
  {
   "cell_type": "markdown",
   "id": "0d979aa8",
   "metadata": {},
   "source": [
    "It can be seen that the number of identifiers and the number of values describing the level of education are the same."
   ]
  },
  {
   "cell_type": "markdown",
   "id": "e3e0a54f",
   "metadata": {},
   "source": [
    "Check the number of unique values in the `family_status` and `family_status_id` columns."
   ]
  },
  {
   "cell_type": "code",
   "execution_count": 61,
   "id": "8eb62b2d",
   "metadata": {},
   "outputs": [
    {
     "data": {
      "text/plain": [
       "женат / замужем          12290\n",
       "гражданский брак          4129\n",
       "не женат / не замужем     2794\n",
       "в разводе                 1185\n",
       "вдовец / вдова             954\n",
       "Name: family_status, dtype: int64"
      ]
     },
     "execution_count": 61,
     "metadata": {},
     "output_type": "execute_result"
    },
    {
     "data": {
      "application/javascript": [
       "\n",
       "            setTimeout(function() {\n",
       "                var nbb_cell_id = 61;\n",
       "                var nbb_unformatted_code = \"df[\\\"family_status\\\"].value_counts()\";\n",
       "                var nbb_formatted_code = \"df[\\\"family_status\\\"].value_counts()\";\n",
       "                var nbb_cells = Jupyter.notebook.get_cells();\n",
       "                for (var i = 0; i < nbb_cells.length; ++i) {\n",
       "                    if (nbb_cells[i].input_prompt_number == nbb_cell_id) {\n",
       "                        if (nbb_cells[i].get_text() == nbb_unformatted_code) {\n",
       "                             nbb_cells[i].set_text(nbb_formatted_code);\n",
       "                        }\n",
       "                        break;\n",
       "                    }\n",
       "                }\n",
       "            }, 500);\n",
       "            "
      ],
      "text/plain": [
       "<IPython.core.display.Javascript object>"
      ]
     },
     "metadata": {},
     "output_type": "display_data"
    }
   ],
   "source": [
    "df[\"family_status\"].value_counts()"
   ]
  },
  {
   "cell_type": "code",
   "execution_count": 62,
   "id": "4b54f2c1",
   "metadata": {},
   "outputs": [
    {
     "data": {
      "text/plain": [
       "0    12290\n",
       "1     4129\n",
       "4     2794\n",
       "3     1185\n",
       "2      954\n",
       "Name: family_status_id, dtype: int64"
      ]
     },
     "execution_count": 62,
     "metadata": {},
     "output_type": "execute_result"
    },
    {
     "data": {
      "application/javascript": [
       "\n",
       "            setTimeout(function() {\n",
       "                var nbb_cell_id = 62;\n",
       "                var nbb_unformatted_code = \"df[\\\"family_status_id\\\"].value_counts()\";\n",
       "                var nbb_formatted_code = \"df[\\\"family_status_id\\\"].value_counts()\";\n",
       "                var nbb_cells = Jupyter.notebook.get_cells();\n",
       "                for (var i = 0; i < nbb_cells.length; ++i) {\n",
       "                    if (nbb_cells[i].input_prompt_number == nbb_cell_id) {\n",
       "                        if (nbb_cells[i].get_text() == nbb_unformatted_code) {\n",
       "                             nbb_cells[i].set_text(nbb_formatted_code);\n",
       "                        }\n",
       "                        break;\n",
       "                    }\n",
       "                }\n",
       "            }, 500);\n",
       "            "
      ],
      "text/plain": [
       "<IPython.core.display.Javascript object>"
      ]
     },
     "metadata": {},
     "output_type": "display_data"
    }
   ],
   "source": [
    "df[\"family_status_id\"].value_counts()"
   ]
  },
  {
   "cell_type": "markdown",
   "id": "c8461974",
   "metadata": {},
   "source": [
    "Again we got the same number of identifiers and values."
   ]
  },
  {
   "cell_type": "markdown",
   "id": "396d3d21",
   "metadata": {},
   "source": [
    "### Step 2.5. Formation of additional dictionary dataframes, decomposition of the initial dataframe."
   ]
  },
  {
   "cell_type": "markdown",
   "id": "350e1c43",
   "metadata": {},
   "source": [
    "Let's create two new dataframes \"dictionaries\"."
   ]
  },
  {
   "cell_type": "code",
   "execution_count": 63,
   "id": "9d2d43d4",
   "metadata": {},
   "outputs": [
    {
     "data": {
      "text/html": [
       "<div>\n",
       "<style scoped>\n",
       "    .dataframe tbody tr th:only-of-type {\n",
       "        vertical-align: middle;\n",
       "    }\n",
       "\n",
       "    .dataframe tbody tr th {\n",
       "        vertical-align: top;\n",
       "    }\n",
       "\n",
       "    .dataframe thead th {\n",
       "        text-align: right;\n",
       "    }\n",
       "</style>\n",
       "<table border=\"1\" class=\"dataframe\">\n",
       "  <thead>\n",
       "    <tr style=\"text-align: right;\">\n",
       "      <th></th>\n",
       "      <th>education_id</th>\n",
       "      <th>education</th>\n",
       "    </tr>\n",
       "  </thead>\n",
       "  <tbody>\n",
       "    <tr>\n",
       "      <th>0</th>\n",
       "      <td>0</td>\n",
       "      <td>высшее</td>\n",
       "    </tr>\n",
       "    <tr>\n",
       "      <th>1</th>\n",
       "      <td>1</td>\n",
       "      <td>среднее</td>\n",
       "    </tr>\n",
       "    <tr>\n",
       "      <th>2</th>\n",
       "      <td>1</td>\n",
       "      <td>среднее</td>\n",
       "    </tr>\n",
       "    <tr>\n",
       "      <th>3</th>\n",
       "      <td>1</td>\n",
       "      <td>среднее</td>\n",
       "    </tr>\n",
       "    <tr>\n",
       "      <th>4</th>\n",
       "      <td>1</td>\n",
       "      <td>среднее</td>\n",
       "    </tr>\n",
       "    <tr>\n",
       "      <th>...</th>\n",
       "      <td>...</td>\n",
       "      <td>...</td>\n",
       "    </tr>\n",
       "    <tr>\n",
       "      <th>21347</th>\n",
       "      <td>1</td>\n",
       "      <td>среднее</td>\n",
       "    </tr>\n",
       "    <tr>\n",
       "      <th>21348</th>\n",
       "      <td>1</td>\n",
       "      <td>среднее</td>\n",
       "    </tr>\n",
       "    <tr>\n",
       "      <th>21349</th>\n",
       "      <td>1</td>\n",
       "      <td>среднее</td>\n",
       "    </tr>\n",
       "    <tr>\n",
       "      <th>21350</th>\n",
       "      <td>1</td>\n",
       "      <td>среднее</td>\n",
       "    </tr>\n",
       "    <tr>\n",
       "      <th>21351</th>\n",
       "      <td>1</td>\n",
       "      <td>среднее</td>\n",
       "    </tr>\n",
       "  </tbody>\n",
       "</table>\n",
       "<p>21352 rows × 2 columns</p>\n",
       "</div>"
      ],
      "text/plain": [
       "       education_id education\n",
       "0                 0    высшее\n",
       "1                 1   среднее\n",
       "2                 1   среднее\n",
       "3                 1   среднее\n",
       "4                 1   среднее\n",
       "...             ...       ...\n",
       "21347             1   среднее\n",
       "21348             1   среднее\n",
       "21349             1   среднее\n",
       "21350             1   среднее\n",
       "21351             1   среднее\n",
       "\n",
       "[21352 rows x 2 columns]"
      ]
     },
     "execution_count": 63,
     "metadata": {},
     "output_type": "execute_result"
    },
    {
     "data": {
      "application/javascript": [
       "\n",
       "            setTimeout(function() {\n",
       "                var nbb_cell_id = 63;\n",
       "                var nbb_unformatted_code = \"df_1 = df[[\\\"education_id\\\", \\\"education\\\"]]\\ndf_1\";\n",
       "                var nbb_formatted_code = \"df_1 = df[[\\\"education_id\\\", \\\"education\\\"]]\\ndf_1\";\n",
       "                var nbb_cells = Jupyter.notebook.get_cells();\n",
       "                for (var i = 0; i < nbb_cells.length; ++i) {\n",
       "                    if (nbb_cells[i].input_prompt_number == nbb_cell_id) {\n",
       "                        if (nbb_cells[i].get_text() == nbb_unformatted_code) {\n",
       "                             nbb_cells[i].set_text(nbb_formatted_code);\n",
       "                        }\n",
       "                        break;\n",
       "                    }\n",
       "                }\n",
       "            }, 500);\n",
       "            "
      ],
      "text/plain": [
       "<IPython.core.display.Javascript object>"
      ]
     },
     "metadata": {},
     "output_type": "display_data"
    }
   ],
   "source": [
    "df_1 = df[[\"education_id\", \"education\"]]\n",
    "df_1"
   ]
  },
  {
   "cell_type": "markdown",
   "id": "754cb4d9",
   "metadata": {},
   "source": [
    "Remove duplicates in df_1."
   ]
  },
  {
   "cell_type": "code",
   "execution_count": 64,
   "id": "be3758be",
   "metadata": {},
   "outputs": [
    {
     "data": {
      "text/plain": [
       "21347"
      ]
     },
     "execution_count": 64,
     "metadata": {},
     "output_type": "execute_result"
    },
    {
     "data": {
      "application/javascript": [
       "\n",
       "            setTimeout(function() {\n",
       "                var nbb_cell_id = 64;\n",
       "                var nbb_unformatted_code = \"df_1.duplicated().sum()\";\n",
       "                var nbb_formatted_code = \"df_1.duplicated().sum()\";\n",
       "                var nbb_cells = Jupyter.notebook.get_cells();\n",
       "                for (var i = 0; i < nbb_cells.length; ++i) {\n",
       "                    if (nbb_cells[i].input_prompt_number == nbb_cell_id) {\n",
       "                        if (nbb_cells[i].get_text() == nbb_unformatted_code) {\n",
       "                             nbb_cells[i].set_text(nbb_formatted_code);\n",
       "                        }\n",
       "                        break;\n",
       "                    }\n",
       "                }\n",
       "            }, 500);\n",
       "            "
      ],
      "text/plain": [
       "<IPython.core.display.Javascript object>"
      ]
     },
     "metadata": {},
     "output_type": "display_data"
    }
   ],
   "source": [
    "df_1.duplicated().sum()"
   ]
  },
  {
   "cell_type": "code",
   "execution_count": 65,
   "id": "a94aa426",
   "metadata": {},
   "outputs": [
    {
     "data": {
      "text/html": [
       "<div>\n",
       "<style scoped>\n",
       "    .dataframe tbody tr th:only-of-type {\n",
       "        vertical-align: middle;\n",
       "    }\n",
       "\n",
       "    .dataframe tbody tr th {\n",
       "        vertical-align: top;\n",
       "    }\n",
       "\n",
       "    .dataframe thead th {\n",
       "        text-align: right;\n",
       "    }\n",
       "</style>\n",
       "<table border=\"1\" class=\"dataframe\">\n",
       "  <thead>\n",
       "    <tr style=\"text-align: right;\">\n",
       "      <th></th>\n",
       "      <th>education_id</th>\n",
       "      <th>education</th>\n",
       "    </tr>\n",
       "  </thead>\n",
       "  <tbody>\n",
       "    <tr>\n",
       "      <th>0</th>\n",
       "      <td>0</td>\n",
       "      <td>высшее</td>\n",
       "    </tr>\n",
       "    <tr>\n",
       "      <th>1</th>\n",
       "      <td>1</td>\n",
       "      <td>среднее</td>\n",
       "    </tr>\n",
       "    <tr>\n",
       "      <th>2</th>\n",
       "      <td>2</td>\n",
       "      <td>неоконченное высшее</td>\n",
       "    </tr>\n",
       "    <tr>\n",
       "      <th>3</th>\n",
       "      <td>3</td>\n",
       "      <td>начальное</td>\n",
       "    </tr>\n",
       "    <tr>\n",
       "      <th>4</th>\n",
       "      <td>4</td>\n",
       "      <td>ученая степень</td>\n",
       "    </tr>\n",
       "  </tbody>\n",
       "</table>\n",
       "</div>"
      ],
      "text/plain": [
       "   education_id            education\n",
       "0             0               высшее\n",
       "1             1              среднее\n",
       "2             2  неоконченное высшее\n",
       "3             3            начальное\n",
       "4             4       ученая степень"
      ]
     },
     "execution_count": 65,
     "metadata": {},
     "output_type": "execute_result"
    },
    {
     "data": {
      "application/javascript": [
       "\n",
       "            setTimeout(function() {\n",
       "                var nbb_cell_id = 65;\n",
       "                var nbb_unformatted_code = \"df_1 = df_1.drop_duplicates().reset_index(drop=True)\\ndf_1\";\n",
       "                var nbb_formatted_code = \"df_1 = df_1.drop_duplicates().reset_index(drop=True)\\ndf_1\";\n",
       "                var nbb_cells = Jupyter.notebook.get_cells();\n",
       "                for (var i = 0; i < nbb_cells.length; ++i) {\n",
       "                    if (nbb_cells[i].input_prompt_number == nbb_cell_id) {\n",
       "                        if (nbb_cells[i].get_text() == nbb_unformatted_code) {\n",
       "                             nbb_cells[i].set_text(nbb_formatted_code);\n",
       "                        }\n",
       "                        break;\n",
       "                    }\n",
       "                }\n",
       "            }, 500);\n",
       "            "
      ],
      "text/plain": [
       "<IPython.core.display.Javascript object>"
      ]
     },
     "metadata": {},
     "output_type": "display_data"
    }
   ],
   "source": [
    "df_1 = df_1.drop_duplicates().reset_index(drop=True)\n",
    "df_1"
   ]
  },
  {
   "cell_type": "code",
   "execution_count": 66,
   "id": "1d43201f",
   "metadata": {},
   "outputs": [
    {
     "data": {
      "text/html": [
       "<div>\n",
       "<style scoped>\n",
       "    .dataframe tbody tr th:only-of-type {\n",
       "        vertical-align: middle;\n",
       "    }\n",
       "\n",
       "    .dataframe tbody tr th {\n",
       "        vertical-align: top;\n",
       "    }\n",
       "\n",
       "    .dataframe thead th {\n",
       "        text-align: right;\n",
       "    }\n",
       "</style>\n",
       "<table border=\"1\" class=\"dataframe\">\n",
       "  <thead>\n",
       "    <tr style=\"text-align: right;\">\n",
       "      <th></th>\n",
       "      <th>family_status_id</th>\n",
       "      <th>family_status</th>\n",
       "    </tr>\n",
       "  </thead>\n",
       "  <tbody>\n",
       "    <tr>\n",
       "      <th>0</th>\n",
       "      <td>0</td>\n",
       "      <td>женат / замужем</td>\n",
       "    </tr>\n",
       "    <tr>\n",
       "      <th>1</th>\n",
       "      <td>0</td>\n",
       "      <td>женат / замужем</td>\n",
       "    </tr>\n",
       "    <tr>\n",
       "      <th>2</th>\n",
       "      <td>0</td>\n",
       "      <td>женат / замужем</td>\n",
       "    </tr>\n",
       "    <tr>\n",
       "      <th>3</th>\n",
       "      <td>0</td>\n",
       "      <td>женат / замужем</td>\n",
       "    </tr>\n",
       "    <tr>\n",
       "      <th>4</th>\n",
       "      <td>1</td>\n",
       "      <td>гражданский брак</td>\n",
       "    </tr>\n",
       "    <tr>\n",
       "      <th>...</th>\n",
       "      <td>...</td>\n",
       "      <td>...</td>\n",
       "    </tr>\n",
       "    <tr>\n",
       "      <th>21347</th>\n",
       "      <td>1</td>\n",
       "      <td>гражданский брак</td>\n",
       "    </tr>\n",
       "    <tr>\n",
       "      <th>21348</th>\n",
       "      <td>0</td>\n",
       "      <td>женат / замужем</td>\n",
       "    </tr>\n",
       "    <tr>\n",
       "      <th>21349</th>\n",
       "      <td>1</td>\n",
       "      <td>гражданский брак</td>\n",
       "    </tr>\n",
       "    <tr>\n",
       "      <th>21350</th>\n",
       "      <td>0</td>\n",
       "      <td>женат / замужем</td>\n",
       "    </tr>\n",
       "    <tr>\n",
       "      <th>21351</th>\n",
       "      <td>0</td>\n",
       "      <td>женат / замужем</td>\n",
       "    </tr>\n",
       "  </tbody>\n",
       "</table>\n",
       "<p>21352 rows × 2 columns</p>\n",
       "</div>"
      ],
      "text/plain": [
       "       family_status_id     family_status\n",
       "0                     0   женат / замужем\n",
       "1                     0   женат / замужем\n",
       "2                     0   женат / замужем\n",
       "3                     0   женат / замужем\n",
       "4                     1  гражданский брак\n",
       "...                 ...               ...\n",
       "21347                 1  гражданский брак\n",
       "21348                 0   женат / замужем\n",
       "21349                 1  гражданский брак\n",
       "21350                 0   женат / замужем\n",
       "21351                 0   женат / замужем\n",
       "\n",
       "[21352 rows x 2 columns]"
      ]
     },
     "execution_count": 66,
     "metadata": {},
     "output_type": "execute_result"
    },
    {
     "data": {
      "application/javascript": [
       "\n",
       "            setTimeout(function() {\n",
       "                var nbb_cell_id = 66;\n",
       "                var nbb_unformatted_code = \"df_2 = df[[\\\"family_status_id\\\", \\\"family_status\\\"]]\\ndf_2\";\n",
       "                var nbb_formatted_code = \"df_2 = df[[\\\"family_status_id\\\", \\\"family_status\\\"]]\\ndf_2\";\n",
       "                var nbb_cells = Jupyter.notebook.get_cells();\n",
       "                for (var i = 0; i < nbb_cells.length; ++i) {\n",
       "                    if (nbb_cells[i].input_prompt_number == nbb_cell_id) {\n",
       "                        if (nbb_cells[i].get_text() == nbb_unformatted_code) {\n",
       "                             nbb_cells[i].set_text(nbb_formatted_code);\n",
       "                        }\n",
       "                        break;\n",
       "                    }\n",
       "                }\n",
       "            }, 500);\n",
       "            "
      ],
      "text/plain": [
       "<IPython.core.display.Javascript object>"
      ]
     },
     "metadata": {},
     "output_type": "display_data"
    }
   ],
   "source": [
    "df_2 = df[[\"family_status_id\", \"family_status\"]]\n",
    "df_2"
   ]
  },
  {
   "cell_type": "markdown",
   "id": "c13b8e78",
   "metadata": {},
   "source": [
    "Remove duplicates in df_2."
   ]
  },
  {
   "cell_type": "code",
   "execution_count": 67,
   "id": "2c5d3d8c",
   "metadata": {},
   "outputs": [
    {
     "data": {
      "text/plain": [
       "21347"
      ]
     },
     "execution_count": 67,
     "metadata": {},
     "output_type": "execute_result"
    },
    {
     "data": {
      "application/javascript": [
       "\n",
       "            setTimeout(function() {\n",
       "                var nbb_cell_id = 67;\n",
       "                var nbb_unformatted_code = \"df_2.duplicated().sum()\";\n",
       "                var nbb_formatted_code = \"df_2.duplicated().sum()\";\n",
       "                var nbb_cells = Jupyter.notebook.get_cells();\n",
       "                for (var i = 0; i < nbb_cells.length; ++i) {\n",
       "                    if (nbb_cells[i].input_prompt_number == nbb_cell_id) {\n",
       "                        if (nbb_cells[i].get_text() == nbb_unformatted_code) {\n",
       "                             nbb_cells[i].set_text(nbb_formatted_code);\n",
       "                        }\n",
       "                        break;\n",
       "                    }\n",
       "                }\n",
       "            }, 500);\n",
       "            "
      ],
      "text/plain": [
       "<IPython.core.display.Javascript object>"
      ]
     },
     "metadata": {},
     "output_type": "display_data"
    }
   ],
   "source": [
    "df_2.duplicated().sum()"
   ]
  },
  {
   "cell_type": "code",
   "execution_count": 68,
   "id": "22292333",
   "metadata": {},
   "outputs": [
    {
     "data": {
      "text/html": [
       "<div>\n",
       "<style scoped>\n",
       "    .dataframe tbody tr th:only-of-type {\n",
       "        vertical-align: middle;\n",
       "    }\n",
       "\n",
       "    .dataframe tbody tr th {\n",
       "        vertical-align: top;\n",
       "    }\n",
       "\n",
       "    .dataframe thead th {\n",
       "        text-align: right;\n",
       "    }\n",
       "</style>\n",
       "<table border=\"1\" class=\"dataframe\">\n",
       "  <thead>\n",
       "    <tr style=\"text-align: right;\">\n",
       "      <th></th>\n",
       "      <th>family_status_id</th>\n",
       "      <th>family_status</th>\n",
       "    </tr>\n",
       "  </thead>\n",
       "  <tbody>\n",
       "    <tr>\n",
       "      <th>0</th>\n",
       "      <td>0</td>\n",
       "      <td>женат / замужем</td>\n",
       "    </tr>\n",
       "    <tr>\n",
       "      <th>1</th>\n",
       "      <td>1</td>\n",
       "      <td>гражданский брак</td>\n",
       "    </tr>\n",
       "    <tr>\n",
       "      <th>2</th>\n",
       "      <td>2</td>\n",
       "      <td>вдовец / вдова</td>\n",
       "    </tr>\n",
       "    <tr>\n",
       "      <th>3</th>\n",
       "      <td>3</td>\n",
       "      <td>в разводе</td>\n",
       "    </tr>\n",
       "    <tr>\n",
       "      <th>4</th>\n",
       "      <td>4</td>\n",
       "      <td>не женат / не замужем</td>\n",
       "    </tr>\n",
       "  </tbody>\n",
       "</table>\n",
       "</div>"
      ],
      "text/plain": [
       "   family_status_id          family_status\n",
       "0                 0        женат / замужем\n",
       "1                 1       гражданский брак\n",
       "2                 2         вдовец / вдова\n",
       "3                 3              в разводе\n",
       "4                 4  не женат / не замужем"
      ]
     },
     "execution_count": 68,
     "metadata": {},
     "output_type": "execute_result"
    },
    {
     "data": {
      "application/javascript": [
       "\n",
       "            setTimeout(function() {\n",
       "                var nbb_cell_id = 68;\n",
       "                var nbb_unformatted_code = \"df_2 = df_2.drop_duplicates().reset_index(drop=True)\\ndf_2\";\n",
       "                var nbb_formatted_code = \"df_2 = df_2.drop_duplicates().reset_index(drop=True)\\ndf_2\";\n",
       "                var nbb_cells = Jupyter.notebook.get_cells();\n",
       "                for (var i = 0; i < nbb_cells.length; ++i) {\n",
       "                    if (nbb_cells[i].input_prompt_number == nbb_cell_id) {\n",
       "                        if (nbb_cells[i].get_text() == nbb_unformatted_code) {\n",
       "                             nbb_cells[i].set_text(nbb_formatted_code);\n",
       "                        }\n",
       "                        break;\n",
       "                    }\n",
       "                }\n",
       "            }, 500);\n",
       "            "
      ],
      "text/plain": [
       "<IPython.core.display.Javascript object>"
      ]
     },
     "metadata": {},
     "output_type": "display_data"
    }
   ],
   "source": [
    "df_2 = df_2.drop_duplicates().reset_index(drop=True)\n",
    "df_2"
   ]
  },
  {
   "cell_type": "markdown",
   "id": "23bda520",
   "metadata": {},
   "source": [
    "Remove the `education` and `family_status` columns from the original dataframe."
   ]
  },
  {
   "cell_type": "code",
   "execution_count": 69,
   "id": "786a66da",
   "metadata": {},
   "outputs": [
    {
     "data": {
      "text/html": [
       "<div>\n",
       "<style scoped>\n",
       "    .dataframe tbody tr th:only-of-type {\n",
       "        vertical-align: middle;\n",
       "    }\n",
       "\n",
       "    .dataframe tbody tr th {\n",
       "        vertical-align: top;\n",
       "    }\n",
       "\n",
       "    .dataframe thead th {\n",
       "        text-align: right;\n",
       "    }\n",
       "</style>\n",
       "<table border=\"1\" class=\"dataframe\">\n",
       "  <thead>\n",
       "    <tr style=\"text-align: right;\">\n",
       "      <th></th>\n",
       "      <th>children</th>\n",
       "      <th>days_employed</th>\n",
       "      <th>dob_years</th>\n",
       "      <th>education_id</th>\n",
       "      <th>family_status_id</th>\n",
       "      <th>gender</th>\n",
       "      <th>income_type</th>\n",
       "      <th>debt</th>\n",
       "      <th>total_income</th>\n",
       "      <th>purpose</th>\n",
       "    </tr>\n",
       "  </thead>\n",
       "  <tbody>\n",
       "    <tr>\n",
       "      <th>0</th>\n",
       "      <td>1</td>\n",
       "      <td>8437.673028</td>\n",
       "      <td>42</td>\n",
       "      <td>0</td>\n",
       "      <td>0</td>\n",
       "      <td>f</td>\n",
       "      <td>сотрудник</td>\n",
       "      <td>0</td>\n",
       "      <td>253875</td>\n",
       "      <td>покупка жилья</td>\n",
       "    </tr>\n",
       "    <tr>\n",
       "      <th>1</th>\n",
       "      <td>1</td>\n",
       "      <td>4024.803754</td>\n",
       "      <td>36</td>\n",
       "      <td>1</td>\n",
       "      <td>0</td>\n",
       "      <td>f</td>\n",
       "      <td>сотрудник</td>\n",
       "      <td>0</td>\n",
       "      <td>112080</td>\n",
       "      <td>приобретение автомобиля</td>\n",
       "    </tr>\n",
       "    <tr>\n",
       "      <th>2</th>\n",
       "      <td>0</td>\n",
       "      <td>5623.422610</td>\n",
       "      <td>33</td>\n",
       "      <td>1</td>\n",
       "      <td>0</td>\n",
       "      <td>m</td>\n",
       "      <td>сотрудник</td>\n",
       "      <td>0</td>\n",
       "      <td>145885</td>\n",
       "      <td>покупка жилья</td>\n",
       "    </tr>\n",
       "    <tr>\n",
       "      <th>3</th>\n",
       "      <td>3</td>\n",
       "      <td>4124.747207</td>\n",
       "      <td>32</td>\n",
       "      <td>1</td>\n",
       "      <td>0</td>\n",
       "      <td>m</td>\n",
       "      <td>сотрудник</td>\n",
       "      <td>0</td>\n",
       "      <td>267628</td>\n",
       "      <td>дополнительное образование</td>\n",
       "    </tr>\n",
       "    <tr>\n",
       "      <th>4</th>\n",
       "      <td>0</td>\n",
       "      <td>340266.072047</td>\n",
       "      <td>53</td>\n",
       "      <td>1</td>\n",
       "      <td>1</td>\n",
       "      <td>f</td>\n",
       "      <td>пенсионер</td>\n",
       "      <td>0</td>\n",
       "      <td>158616</td>\n",
       "      <td>сыграть свадьбу</td>\n",
       "    </tr>\n",
       "    <tr>\n",
       "      <th>...</th>\n",
       "      <td>...</td>\n",
       "      <td>...</td>\n",
       "      <td>...</td>\n",
       "      <td>...</td>\n",
       "      <td>...</td>\n",
       "      <td>...</td>\n",
       "      <td>...</td>\n",
       "      <td>...</td>\n",
       "      <td>...</td>\n",
       "      <td>...</td>\n",
       "    </tr>\n",
       "    <tr>\n",
       "      <th>21347</th>\n",
       "      <td>1</td>\n",
       "      <td>4529.316663</td>\n",
       "      <td>43</td>\n",
       "      <td>1</td>\n",
       "      <td>1</td>\n",
       "      <td>f</td>\n",
       "      <td>компаньон</td>\n",
       "      <td>0</td>\n",
       "      <td>224791</td>\n",
       "      <td>операции с жильем</td>\n",
       "    </tr>\n",
       "    <tr>\n",
       "      <th>21348</th>\n",
       "      <td>0</td>\n",
       "      <td>343937.404131</td>\n",
       "      <td>67</td>\n",
       "      <td>1</td>\n",
       "      <td>0</td>\n",
       "      <td>f</td>\n",
       "      <td>пенсионер</td>\n",
       "      <td>0</td>\n",
       "      <td>155999</td>\n",
       "      <td>сделка с автомобилем</td>\n",
       "    </tr>\n",
       "    <tr>\n",
       "      <th>21349</th>\n",
       "      <td>1</td>\n",
       "      <td>2113.346888</td>\n",
       "      <td>38</td>\n",
       "      <td>1</td>\n",
       "      <td>1</td>\n",
       "      <td>m</td>\n",
       "      <td>сотрудник</td>\n",
       "      <td>1</td>\n",
       "      <td>89672</td>\n",
       "      <td>недвижимость</td>\n",
       "    </tr>\n",
       "    <tr>\n",
       "      <th>21350</th>\n",
       "      <td>3</td>\n",
       "      <td>3112.481705</td>\n",
       "      <td>38</td>\n",
       "      <td>1</td>\n",
       "      <td>0</td>\n",
       "      <td>m</td>\n",
       "      <td>сотрудник</td>\n",
       "      <td>1</td>\n",
       "      <td>244093</td>\n",
       "      <td>на покупку своего автомобиля</td>\n",
       "    </tr>\n",
       "    <tr>\n",
       "      <th>21351</th>\n",
       "      <td>2</td>\n",
       "      <td>1984.507589</td>\n",
       "      <td>40</td>\n",
       "      <td>1</td>\n",
       "      <td>0</td>\n",
       "      <td>f</td>\n",
       "      <td>сотрудник</td>\n",
       "      <td>0</td>\n",
       "      <td>82047</td>\n",
       "      <td>на покупку автомобиля</td>\n",
       "    </tr>\n",
       "  </tbody>\n",
       "</table>\n",
       "<p>21352 rows × 10 columns</p>\n",
       "</div>"
      ],
      "text/plain": [
       "       children  days_employed  dob_years  education_id  family_status_id  \\\n",
       "0             1    8437.673028         42             0                 0   \n",
       "1             1    4024.803754         36             1                 0   \n",
       "2             0    5623.422610         33             1                 0   \n",
       "3             3    4124.747207         32             1                 0   \n",
       "4             0  340266.072047         53             1                 1   \n",
       "...         ...            ...        ...           ...               ...   \n",
       "21347         1    4529.316663         43             1                 1   \n",
       "21348         0  343937.404131         67             1                 0   \n",
       "21349         1    2113.346888         38             1                 1   \n",
       "21350         3    3112.481705         38             1                 0   \n",
       "21351         2    1984.507589         40             1                 0   \n",
       "\n",
       "      gender income_type  debt  total_income                       purpose  \n",
       "0          f   сотрудник     0        253875                 покупка жилья  \n",
       "1          f   сотрудник     0        112080       приобретение автомобиля  \n",
       "2          m   сотрудник     0        145885                 покупка жилья  \n",
       "3          m   сотрудник     0        267628    дополнительное образование  \n",
       "4          f   пенсионер     0        158616               сыграть свадьбу  \n",
       "...      ...         ...   ...           ...                           ...  \n",
       "21347      f   компаньон     0        224791             операции с жильем  \n",
       "21348      f   пенсионер     0        155999          сделка с автомобилем  \n",
       "21349      m   сотрудник     1         89672                  недвижимость  \n",
       "21350      m   сотрудник     1        244093  на покупку своего автомобиля  \n",
       "21351      f   сотрудник     0         82047         на покупку автомобиля  \n",
       "\n",
       "[21352 rows x 10 columns]"
      ]
     },
     "execution_count": 69,
     "metadata": {},
     "output_type": "execute_result"
    },
    {
     "data": {
      "application/javascript": [
       "\n",
       "            setTimeout(function() {\n",
       "                var nbb_cell_id = 69;\n",
       "                var nbb_unformatted_code = \"df.drop([\\\"education\\\", \\\"family_status\\\"], axis=1, inplace=True)\\ndf\";\n",
       "                var nbb_formatted_code = \"df.drop([\\\"education\\\", \\\"family_status\\\"], axis=1, inplace=True)\\ndf\";\n",
       "                var nbb_cells = Jupyter.notebook.get_cells();\n",
       "                for (var i = 0; i < nbb_cells.length; ++i) {\n",
       "                    if (nbb_cells[i].input_prompt_number == nbb_cell_id) {\n",
       "                        if (nbb_cells[i].get_text() == nbb_unformatted_code) {\n",
       "                             nbb_cells[i].set_text(nbb_formatted_code);\n",
       "                        }\n",
       "                        break;\n",
       "                    }\n",
       "                }\n",
       "            }, 500);\n",
       "            "
      ],
      "text/plain": [
       "<IPython.core.display.Javascript object>"
      ]
     },
     "metadata": {},
     "output_type": "display_data"
    }
   ],
   "source": [
    "df.drop([\"education\", \"family_status\"], axis=1, inplace=True)\n",
    "df"
   ]
  },
  {
   "cell_type": "markdown",
   "id": "cd36c02c",
   "metadata": {},
   "source": [
    "### Step 2.6. Categorization of income."
   ]
  },
  {
   "cell_type": "markdown",
   "id": "bcc4e195",
   "metadata": {},
   "source": [
    "Based on the ranges below, let's create a column\n",
    "`total_income_category` with categories:\n",
    "- 0-30000 - 'E';\n",
    "- 30001-50000 - 'D';\n",
    "- 50001-200000 - 'C';\n",
    "- 200001-1000000 - 'B';\n",
    "- 1000001 and above - 'A'.\n",
    "\n",
    "For example, a borrower with an income of 25000 should be\n",
    "would be categorized as 'E' and a client earning 235,000, -'B'."
   ]
  },
  {
   "cell_type": "code",
   "execution_count": 70,
   "id": "59cfb7c3",
   "metadata": {},
   "outputs": [
    {
     "data": {
      "application/javascript": [
       "\n",
       "            setTimeout(function() {\n",
       "                var nbb_cell_id = 70;\n",
       "                var nbb_unformatted_code = \"def group_income(income):\\n    if income <= 30000:\\n        return \\\"E\\\"\\n    elif income >= 30001 and income <= 50000:\\n        return \\\"D\\\"\\n    elif income >= 50001 and income <= 200000:\\n        return \\\"C\\\"\\n    elif income >= 200001 and income <= 1000000:\\n        return \\\"B\\\"\\n    else:\\n        return \\\"A\\\"\";\n",
       "                var nbb_formatted_code = \"def group_income(income):\\n    if income <= 30000:\\n        return \\\"E\\\"\\n    elif income >= 30001 and income <= 50000:\\n        return \\\"D\\\"\\n    elif income >= 50001 and income <= 200000:\\n        return \\\"C\\\"\\n    elif income >= 200001 and income <= 1000000:\\n        return \\\"B\\\"\\n    else:\\n        return \\\"A\\\"\";\n",
       "                var nbb_cells = Jupyter.notebook.get_cells();\n",
       "                for (var i = 0; i < nbb_cells.length; ++i) {\n",
       "                    if (nbb_cells[i].input_prompt_number == nbb_cell_id) {\n",
       "                        if (nbb_cells[i].get_text() == nbb_unformatted_code) {\n",
       "                             nbb_cells[i].set_text(nbb_formatted_code);\n",
       "                        }\n",
       "                        break;\n",
       "                    }\n",
       "                }\n",
       "            }, 500);\n",
       "            "
      ],
      "text/plain": [
       "<IPython.core.display.Javascript object>"
      ]
     },
     "metadata": {},
     "output_type": "display_data"
    }
   ],
   "source": [
    "def group_income(income):\n",
    "    if income <= 30000:\n",
    "        return \"E\"\n",
    "    elif income >= 30001 and income <= 50000:\n",
    "        return \"D\"\n",
    "    elif income >= 50001 and income <= 200000:\n",
    "        return \"C\"\n",
    "    elif income >= 200001 and income <= 1000000:\n",
    "        return \"B\"\n",
    "    else:\n",
    "        return \"A\""
   ]
  },
  {
   "cell_type": "code",
   "execution_count": 71,
   "id": "ad3fe3b6",
   "metadata": {},
   "outputs": [
    {
     "data": {
      "application/javascript": [
       "\n",
       "            setTimeout(function() {\n",
       "                var nbb_cell_id = 71;\n",
       "                var nbb_unformatted_code = \"df[\\\"total_income_category\\\"] = df[\\\"total_income\\\"].apply(group_income)\";\n",
       "                var nbb_formatted_code = \"df[\\\"total_income_category\\\"] = df[\\\"total_income\\\"].apply(group_income)\";\n",
       "                var nbb_cells = Jupyter.notebook.get_cells();\n",
       "                for (var i = 0; i < nbb_cells.length; ++i) {\n",
       "                    if (nbb_cells[i].input_prompt_number == nbb_cell_id) {\n",
       "                        if (nbb_cells[i].get_text() == nbb_unformatted_code) {\n",
       "                             nbb_cells[i].set_text(nbb_formatted_code);\n",
       "                        }\n",
       "                        break;\n",
       "                    }\n",
       "                }\n",
       "            }, 500);\n",
       "            "
      ],
      "text/plain": [
       "<IPython.core.display.Javascript object>"
      ]
     },
     "metadata": {},
     "output_type": "display_data"
    }
   ],
   "source": [
    "df[\"total_income_category\"] = df[\"total_income\"].apply(group_income)"
   ]
  },
  {
   "cell_type": "code",
   "execution_count": 72,
   "id": "40777a9c",
   "metadata": {},
   "outputs": [
    {
     "data": {
      "text/html": [
       "<div>\n",
       "<style scoped>\n",
       "    .dataframe tbody tr th:only-of-type {\n",
       "        vertical-align: middle;\n",
       "    }\n",
       "\n",
       "    .dataframe tbody tr th {\n",
       "        vertical-align: top;\n",
       "    }\n",
       "\n",
       "    .dataframe thead th {\n",
       "        text-align: right;\n",
       "    }\n",
       "</style>\n",
       "<table border=\"1\" class=\"dataframe\">\n",
       "  <thead>\n",
       "    <tr style=\"text-align: right;\">\n",
       "      <th></th>\n",
       "      <th>children</th>\n",
       "      <th>days_employed</th>\n",
       "      <th>dob_years</th>\n",
       "      <th>education_id</th>\n",
       "      <th>family_status_id</th>\n",
       "      <th>gender</th>\n",
       "      <th>income_type</th>\n",
       "      <th>debt</th>\n",
       "      <th>total_income</th>\n",
       "      <th>purpose</th>\n",
       "      <th>total_income_category</th>\n",
       "    </tr>\n",
       "  </thead>\n",
       "  <tbody>\n",
       "    <tr>\n",
       "      <th>0</th>\n",
       "      <td>1</td>\n",
       "      <td>8437.673028</td>\n",
       "      <td>42</td>\n",
       "      <td>0</td>\n",
       "      <td>0</td>\n",
       "      <td>f</td>\n",
       "      <td>сотрудник</td>\n",
       "      <td>0</td>\n",
       "      <td>253875</td>\n",
       "      <td>покупка жилья</td>\n",
       "      <td>B</td>\n",
       "    </tr>\n",
       "    <tr>\n",
       "      <th>1</th>\n",
       "      <td>1</td>\n",
       "      <td>4024.803754</td>\n",
       "      <td>36</td>\n",
       "      <td>1</td>\n",
       "      <td>0</td>\n",
       "      <td>f</td>\n",
       "      <td>сотрудник</td>\n",
       "      <td>0</td>\n",
       "      <td>112080</td>\n",
       "      <td>приобретение автомобиля</td>\n",
       "      <td>C</td>\n",
       "    </tr>\n",
       "    <tr>\n",
       "      <th>2</th>\n",
       "      <td>0</td>\n",
       "      <td>5623.422610</td>\n",
       "      <td>33</td>\n",
       "      <td>1</td>\n",
       "      <td>0</td>\n",
       "      <td>m</td>\n",
       "      <td>сотрудник</td>\n",
       "      <td>0</td>\n",
       "      <td>145885</td>\n",
       "      <td>покупка жилья</td>\n",
       "      <td>C</td>\n",
       "    </tr>\n",
       "    <tr>\n",
       "      <th>3</th>\n",
       "      <td>3</td>\n",
       "      <td>4124.747207</td>\n",
       "      <td>32</td>\n",
       "      <td>1</td>\n",
       "      <td>0</td>\n",
       "      <td>m</td>\n",
       "      <td>сотрудник</td>\n",
       "      <td>0</td>\n",
       "      <td>267628</td>\n",
       "      <td>дополнительное образование</td>\n",
       "      <td>B</td>\n",
       "    </tr>\n",
       "    <tr>\n",
       "      <th>4</th>\n",
       "      <td>0</td>\n",
       "      <td>340266.072047</td>\n",
       "      <td>53</td>\n",
       "      <td>1</td>\n",
       "      <td>1</td>\n",
       "      <td>f</td>\n",
       "      <td>пенсионер</td>\n",
       "      <td>0</td>\n",
       "      <td>158616</td>\n",
       "      <td>сыграть свадьбу</td>\n",
       "      <td>C</td>\n",
       "    </tr>\n",
       "    <tr>\n",
       "      <th>...</th>\n",
       "      <td>...</td>\n",
       "      <td>...</td>\n",
       "      <td>...</td>\n",
       "      <td>...</td>\n",
       "      <td>...</td>\n",
       "      <td>...</td>\n",
       "      <td>...</td>\n",
       "      <td>...</td>\n",
       "      <td>...</td>\n",
       "      <td>...</td>\n",
       "      <td>...</td>\n",
       "    </tr>\n",
       "    <tr>\n",
       "      <th>21347</th>\n",
       "      <td>1</td>\n",
       "      <td>4529.316663</td>\n",
       "      <td>43</td>\n",
       "      <td>1</td>\n",
       "      <td>1</td>\n",
       "      <td>f</td>\n",
       "      <td>компаньон</td>\n",
       "      <td>0</td>\n",
       "      <td>224791</td>\n",
       "      <td>операции с жильем</td>\n",
       "      <td>B</td>\n",
       "    </tr>\n",
       "    <tr>\n",
       "      <th>21348</th>\n",
       "      <td>0</td>\n",
       "      <td>343937.404131</td>\n",
       "      <td>67</td>\n",
       "      <td>1</td>\n",
       "      <td>0</td>\n",
       "      <td>f</td>\n",
       "      <td>пенсионер</td>\n",
       "      <td>0</td>\n",
       "      <td>155999</td>\n",
       "      <td>сделка с автомобилем</td>\n",
       "      <td>C</td>\n",
       "    </tr>\n",
       "    <tr>\n",
       "      <th>21349</th>\n",
       "      <td>1</td>\n",
       "      <td>2113.346888</td>\n",
       "      <td>38</td>\n",
       "      <td>1</td>\n",
       "      <td>1</td>\n",
       "      <td>m</td>\n",
       "      <td>сотрудник</td>\n",
       "      <td>1</td>\n",
       "      <td>89672</td>\n",
       "      <td>недвижимость</td>\n",
       "      <td>C</td>\n",
       "    </tr>\n",
       "    <tr>\n",
       "      <th>21350</th>\n",
       "      <td>3</td>\n",
       "      <td>3112.481705</td>\n",
       "      <td>38</td>\n",
       "      <td>1</td>\n",
       "      <td>0</td>\n",
       "      <td>m</td>\n",
       "      <td>сотрудник</td>\n",
       "      <td>1</td>\n",
       "      <td>244093</td>\n",
       "      <td>на покупку своего автомобиля</td>\n",
       "      <td>B</td>\n",
       "    </tr>\n",
       "    <tr>\n",
       "      <th>21351</th>\n",
       "      <td>2</td>\n",
       "      <td>1984.507589</td>\n",
       "      <td>40</td>\n",
       "      <td>1</td>\n",
       "      <td>0</td>\n",
       "      <td>f</td>\n",
       "      <td>сотрудник</td>\n",
       "      <td>0</td>\n",
       "      <td>82047</td>\n",
       "      <td>на покупку автомобиля</td>\n",
       "      <td>C</td>\n",
       "    </tr>\n",
       "  </tbody>\n",
       "</table>\n",
       "<p>21352 rows × 11 columns</p>\n",
       "</div>"
      ],
      "text/plain": [
       "       children  days_employed  dob_years  education_id  family_status_id  \\\n",
       "0             1    8437.673028         42             0                 0   \n",
       "1             1    4024.803754         36             1                 0   \n",
       "2             0    5623.422610         33             1                 0   \n",
       "3             3    4124.747207         32             1                 0   \n",
       "4             0  340266.072047         53             1                 1   \n",
       "...         ...            ...        ...           ...               ...   \n",
       "21347         1    4529.316663         43             1                 1   \n",
       "21348         0  343937.404131         67             1                 0   \n",
       "21349         1    2113.346888         38             1                 1   \n",
       "21350         3    3112.481705         38             1                 0   \n",
       "21351         2    1984.507589         40             1                 0   \n",
       "\n",
       "      gender income_type  debt  total_income                       purpose  \\\n",
       "0          f   сотрудник     0        253875                 покупка жилья   \n",
       "1          f   сотрудник     0        112080       приобретение автомобиля   \n",
       "2          m   сотрудник     0        145885                 покупка жилья   \n",
       "3          m   сотрудник     0        267628    дополнительное образование   \n",
       "4          f   пенсионер     0        158616               сыграть свадьбу   \n",
       "...      ...         ...   ...           ...                           ...   \n",
       "21347      f   компаньон     0        224791             операции с жильем   \n",
       "21348      f   пенсионер     0        155999          сделка с автомобилем   \n",
       "21349      m   сотрудник     1         89672                  недвижимость   \n",
       "21350      m   сотрудник     1        244093  на покупку своего автомобиля   \n",
       "21351      f   сотрудник     0         82047         на покупку автомобиля   \n",
       "\n",
       "      total_income_category  \n",
       "0                         B  \n",
       "1                         C  \n",
       "2                         C  \n",
       "3                         B  \n",
       "4                         C  \n",
       "...                     ...  \n",
       "21347                     B  \n",
       "21348                     C  \n",
       "21349                     C  \n",
       "21350                     B  \n",
       "21351                     C  \n",
       "\n",
       "[21352 rows x 11 columns]"
      ]
     },
     "execution_count": 72,
     "metadata": {},
     "output_type": "execute_result"
    },
    {
     "data": {
      "application/javascript": [
       "\n",
       "            setTimeout(function() {\n",
       "                var nbb_cell_id = 72;\n",
       "                var nbb_unformatted_code = \"df\";\n",
       "                var nbb_formatted_code = \"df\";\n",
       "                var nbb_cells = Jupyter.notebook.get_cells();\n",
       "                for (var i = 0; i < nbb_cells.length; ++i) {\n",
       "                    if (nbb_cells[i].input_prompt_number == nbb_cell_id) {\n",
       "                        if (nbb_cells[i].get_text() == nbb_unformatted_code) {\n",
       "                             nbb_cells[i].set_text(nbb_formatted_code);\n",
       "                        }\n",
       "                        break;\n",
       "                    }\n",
       "                }\n",
       "            }, 500);\n",
       "            "
      ],
      "text/plain": [
       "<IPython.core.display.Javascript object>"
      ]
     },
     "metadata": {},
     "output_type": "display_data"
    }
   ],
   "source": [
    "df"
   ]
  },
  {
   "cell_type": "code",
   "execution_count": 73,
   "id": "918aba87",
   "metadata": {},
   "outputs": [
    {
     "data": {
      "text/plain": [
       "C    15943\n",
       "B     5014\n",
       "D      348\n",
       "A       25\n",
       "E       22\n",
       "Name: total_income_category, dtype: int64"
      ]
     },
     "execution_count": 73,
     "metadata": {},
     "output_type": "execute_result"
    },
    {
     "data": {
      "application/javascript": [
       "\n",
       "            setTimeout(function() {\n",
       "                var nbb_cell_id = 73;\n",
       "                var nbb_unformatted_code = \"df[\\\"total_income_category\\\"].value_counts(dropna=False)\";\n",
       "                var nbb_formatted_code = \"df[\\\"total_income_category\\\"].value_counts(dropna=False)\";\n",
       "                var nbb_cells = Jupyter.notebook.get_cells();\n",
       "                for (var i = 0; i < nbb_cells.length; ++i) {\n",
       "                    if (nbb_cells[i].input_prompt_number == nbb_cell_id) {\n",
       "                        if (nbb_cells[i].get_text() == nbb_unformatted_code) {\n",
       "                             nbb_cells[i].set_text(nbb_formatted_code);\n",
       "                        }\n",
       "                        break;\n",
       "                    }\n",
       "                }\n",
       "            }, 500);\n",
       "            "
      ],
      "text/plain": [
       "<IPython.core.display.Javascript object>"
      ]
     },
     "metadata": {},
     "output_type": "display_data"
    }
   ],
   "source": [
    "df[\"total_income_category\"].value_counts(dropna=False)"
   ]
  },
  {
   "cell_type": "code",
   "execution_count": 74,
   "id": "16683a4a",
   "metadata": {},
   "outputs": [
    {
     "data": {
      "text/plain": [
       "21352"
      ]
     },
     "execution_count": 74,
     "metadata": {},
     "output_type": "execute_result"
    },
    {
     "data": {
      "application/javascript": [
       "\n",
       "            setTimeout(function() {\n",
       "                var nbb_cell_id = 74;\n",
       "                var nbb_unformatted_code = \"df[\\\"total_income_category\\\"].count()\";\n",
       "                var nbb_formatted_code = \"df[\\\"total_income_category\\\"].count()\";\n",
       "                var nbb_cells = Jupyter.notebook.get_cells();\n",
       "                for (var i = 0; i < nbb_cells.length; ++i) {\n",
       "                    if (nbb_cells[i].input_prompt_number == nbb_cell_id) {\n",
       "                        if (nbb_cells[i].get_text() == nbb_unformatted_code) {\n",
       "                             nbb_cells[i].set_text(nbb_formatted_code);\n",
       "                        }\n",
       "                        break;\n",
       "                    }\n",
       "                }\n",
       "            }, 500);\n",
       "            "
      ],
      "text/plain": [
       "<IPython.core.display.Javascript object>"
      ]
     },
     "metadata": {},
     "output_type": "display_data"
    }
   ],
   "source": [
    "df[\"total_income_category\"].count()"
   ]
  },
  {
   "cell_type": "markdown",
   "id": "9fad0461",
   "metadata": {},
   "source": [
    "We see that the function worked correctly. Now in our dataframe each client of the bank belongs to a certain group depending on income."
   ]
  },
  {
   "cell_type": "markdown",
   "id": "7e968279",
   "metadata": {},
   "source": [
    "### Step 2.7. Categorization of credit objectives."
   ]
  },
  {
   "cell_type": "markdown",
   "id": "4193273a",
   "metadata": {},
   "source": [
    "Let's create a function that will form a new column `purpose_category` based on the data from the column purpose will form a new column `purpose_category`, which will include the following categories:\n",
    "- 'automobile transactions',\n",
    "- 'real estate transactions',\n",
    "- 'wedding',\n",
    "- 'education'."
   ]
  },
  {
   "cell_type": "markdown",
   "id": "763962c9",
   "metadata": {},
   "source": [
    "Let's look at the different values of the `purpose` column."
   ]
  },
  {
   "cell_type": "code",
   "execution_count": 75,
   "id": "399543cd",
   "metadata": {},
   "outputs": [
    {
     "data": {
      "text/plain": [
       "свадьба                                   786\n",
       "на проведение свадьбы                     764\n",
       "сыграть свадьбу                           760\n",
       "операции с недвижимостью                  672\n",
       "покупка коммерческой недвижимости         658\n",
       "покупка жилья для сдачи                   649\n",
       "операции с коммерческой недвижимостью     648\n",
       "операции с жильем                         646\n",
       "жилье                                     640\n",
       "покупка жилья                             640\n",
       "покупка жилья для семьи                   637\n",
       "строительство собственной недвижимости    633\n",
       "недвижимость                              629\n",
       "операции со своей недвижимостью           627\n",
       "строительство жилой недвижимости          621\n",
       "строительство недвижимости                619\n",
       "покупка своего жилья                      619\n",
       "покупка недвижимости                      617\n",
       "ремонт жилью                              605\n",
       "покупка жилой недвижимости                603\n",
       "на покупку своего автомобиля              502\n",
       "заняться высшим образованием              493\n",
       "автомобиль                                490\n",
       "сделка с подержанным автомобилем          484\n",
       "на покупку подержанного автомобиля        478\n",
       "автомобили                                476\n",
       "свой автомобиль                           475\n",
       "на покупку автомобиля                     466\n",
       "приобретение автомобиля                   459\n",
       "дополнительное образование                458\n",
       "сделка с автомобилем                      454\n",
       "высшее образование                        449\n",
       "образование                               444\n",
       "получение дополнительного образования     444\n",
       "получение образования                     441\n",
       "профильное образование                    435\n",
       "получение высшего образования             424\n",
       "заняться образованием                     407\n",
       "Name: purpose, dtype: int64"
      ]
     },
     "execution_count": 75,
     "metadata": {},
     "output_type": "execute_result"
    },
    {
     "data": {
      "application/javascript": [
       "\n",
       "            setTimeout(function() {\n",
       "                var nbb_cell_id = 75;\n",
       "                var nbb_unformatted_code = \"df[\\\"purpose\\\"].value_counts()\";\n",
       "                var nbb_formatted_code = \"df[\\\"purpose\\\"].value_counts()\";\n",
       "                var nbb_cells = Jupyter.notebook.get_cells();\n",
       "                for (var i = 0; i < nbb_cells.length; ++i) {\n",
       "                    if (nbb_cells[i].input_prompt_number == nbb_cell_id) {\n",
       "                        if (nbb_cells[i].get_text() == nbb_unformatted_code) {\n",
       "                             nbb_cells[i].set_text(nbb_formatted_code);\n",
       "                        }\n",
       "                        break;\n",
       "                    }\n",
       "                }\n",
       "            }, 500);\n",
       "            "
      ],
      "text/plain": [
       "<IPython.core.display.Javascript object>"
      ]
     },
     "metadata": {},
     "output_type": "display_data"
    }
   ],
   "source": [
    "df[\"purpose\"].value_counts()"
   ]
  },
  {
   "cell_type": "code",
   "execution_count": 76,
   "id": "66ec15d4",
   "metadata": {},
   "outputs": [
    {
     "data": {
      "application/javascript": [
       "\n",
       "            setTimeout(function() {\n",
       "                var nbb_cell_id = 76;\n",
       "                var nbb_unformatted_code = \"def group_purpose(purpose):\\n    if \\\"\\u0430\\u0432\\u0442\\u043e\\\" in purpose:\\n        return \\\"\\u043e\\u043f\\u0435\\u0440\\u0430\\u0446\\u0438\\u0438 \\u0441 \\u0430\\u0432\\u0442\\u043e\\u043c\\u043e\\u0431\\u0438\\u043b\\u0435\\u043c\\\"\\n    elif \\\"\\u043e\\u0431\\u0440\\u0430\\u0437\\\" in purpose:\\n        return \\\"\\u043f\\u043e\\u043b\\u0443\\u0447\\u0435\\u043d\\u0438\\u0435 \\u043e\\u0431\\u0440\\u0430\\u0437\\u043e\\u0432\\u0430\\u043d\\u0438\\u044f\\\"\\n    elif \\\"\\u0441\\u0432\\u0430\\u0434\\u044c\\\" in purpose:\\n        return \\\"\\u043f\\u0440\\u043e\\u0432\\u0435\\u0434\\u0435\\u043d\\u0438\\u0435 \\u0441\\u0432\\u0430\\u0434\\u044c\\u0431\\u044b\\\"\\n    else:\\n        return \\\"\\u043e\\u043f\\u0435\\u0440\\u0430\\u0446\\u0438\\u0438 \\u0441 \\u043d\\u0435\\u0434\\u0432\\u0438\\u0436\\u0438\\u043c\\u043e\\u0441\\u0442\\u044c\\u044e\\\"\";\n",
       "                var nbb_formatted_code = \"def group_purpose(purpose):\\n    if \\\"\\u0430\\u0432\\u0442\\u043e\\\" in purpose:\\n        return \\\"\\u043e\\u043f\\u0435\\u0440\\u0430\\u0446\\u0438\\u0438 \\u0441 \\u0430\\u0432\\u0442\\u043e\\u043c\\u043e\\u0431\\u0438\\u043b\\u0435\\u043c\\\"\\n    elif \\\"\\u043e\\u0431\\u0440\\u0430\\u0437\\\" in purpose:\\n        return \\\"\\u043f\\u043e\\u043b\\u0443\\u0447\\u0435\\u043d\\u0438\\u0435 \\u043e\\u0431\\u0440\\u0430\\u0437\\u043e\\u0432\\u0430\\u043d\\u0438\\u044f\\\"\\n    elif \\\"\\u0441\\u0432\\u0430\\u0434\\u044c\\\" in purpose:\\n        return \\\"\\u043f\\u0440\\u043e\\u0432\\u0435\\u0434\\u0435\\u043d\\u0438\\u0435 \\u0441\\u0432\\u0430\\u0434\\u044c\\u0431\\u044b\\\"\\n    else:\\n        return \\\"\\u043e\\u043f\\u0435\\u0440\\u0430\\u0446\\u0438\\u0438 \\u0441 \\u043d\\u0435\\u0434\\u0432\\u0438\\u0436\\u0438\\u043c\\u043e\\u0441\\u0442\\u044c\\u044e\\\"\";\n",
       "                var nbb_cells = Jupyter.notebook.get_cells();\n",
       "                for (var i = 0; i < nbb_cells.length; ++i) {\n",
       "                    if (nbb_cells[i].input_prompt_number == nbb_cell_id) {\n",
       "                        if (nbb_cells[i].get_text() == nbb_unformatted_code) {\n",
       "                             nbb_cells[i].set_text(nbb_formatted_code);\n",
       "                        }\n",
       "                        break;\n",
       "                    }\n",
       "                }\n",
       "            }, 500);\n",
       "            "
      ],
      "text/plain": [
       "<IPython.core.display.Javascript object>"
      ]
     },
     "metadata": {},
     "output_type": "display_data"
    }
   ],
   "source": [
    "def group_purpose(purpose):\n",
    "    if \"авто\" in purpose:\n",
    "        return \"операции с автомобилем\"\n",
    "    elif \"образ\" in purpose:\n",
    "        return \"получение образования\"\n",
    "    elif \"свадь\" in purpose:\n",
    "        return \"проведение свадьбы\"\n",
    "    else:\n",
    "        return \"операции с недвижимостью\""
   ]
  },
  {
   "cell_type": "code",
   "execution_count": 77,
   "id": "7180720b",
   "metadata": {},
   "outputs": [
    {
     "data": {
      "application/javascript": [
       "\n",
       "            setTimeout(function() {\n",
       "                var nbb_cell_id = 77;\n",
       "                var nbb_unformatted_code = \"df[\\\"purpose_category\\\"] = df[\\\"purpose\\\"].apply(group_purpose)\";\n",
       "                var nbb_formatted_code = \"df[\\\"purpose_category\\\"] = df[\\\"purpose\\\"].apply(group_purpose)\";\n",
       "                var nbb_cells = Jupyter.notebook.get_cells();\n",
       "                for (var i = 0; i < nbb_cells.length; ++i) {\n",
       "                    if (nbb_cells[i].input_prompt_number == nbb_cell_id) {\n",
       "                        if (nbb_cells[i].get_text() == nbb_unformatted_code) {\n",
       "                             nbb_cells[i].set_text(nbb_formatted_code);\n",
       "                        }\n",
       "                        break;\n",
       "                    }\n",
       "                }\n",
       "            }, 500);\n",
       "            "
      ],
      "text/plain": [
       "<IPython.core.display.Javascript object>"
      ]
     },
     "metadata": {},
     "output_type": "display_data"
    }
   ],
   "source": [
    "df[\"purpose_category\"] = df[\"purpose\"].apply(group_purpose)"
   ]
  },
  {
   "cell_type": "code",
   "execution_count": 78,
   "id": "bbc9be9e",
   "metadata": {},
   "outputs": [
    {
     "data": {
      "text/html": [
       "<div>\n",
       "<style scoped>\n",
       "    .dataframe tbody tr th:only-of-type {\n",
       "        vertical-align: middle;\n",
       "    }\n",
       "\n",
       "    .dataframe tbody tr th {\n",
       "        vertical-align: top;\n",
       "    }\n",
       "\n",
       "    .dataframe thead th {\n",
       "        text-align: right;\n",
       "    }\n",
       "</style>\n",
       "<table border=\"1\" class=\"dataframe\">\n",
       "  <thead>\n",
       "    <tr style=\"text-align: right;\">\n",
       "      <th></th>\n",
       "      <th>children</th>\n",
       "      <th>days_employed</th>\n",
       "      <th>dob_years</th>\n",
       "      <th>education_id</th>\n",
       "      <th>family_status_id</th>\n",
       "      <th>gender</th>\n",
       "      <th>income_type</th>\n",
       "      <th>debt</th>\n",
       "      <th>total_income</th>\n",
       "      <th>purpose</th>\n",
       "      <th>total_income_category</th>\n",
       "      <th>purpose_category</th>\n",
       "    </tr>\n",
       "  </thead>\n",
       "  <tbody>\n",
       "    <tr>\n",
       "      <th>0</th>\n",
       "      <td>1</td>\n",
       "      <td>8437.673028</td>\n",
       "      <td>42</td>\n",
       "      <td>0</td>\n",
       "      <td>0</td>\n",
       "      <td>f</td>\n",
       "      <td>сотрудник</td>\n",
       "      <td>0</td>\n",
       "      <td>253875</td>\n",
       "      <td>покупка жилья</td>\n",
       "      <td>B</td>\n",
       "      <td>операции с недвижимостью</td>\n",
       "    </tr>\n",
       "    <tr>\n",
       "      <th>1</th>\n",
       "      <td>1</td>\n",
       "      <td>4024.803754</td>\n",
       "      <td>36</td>\n",
       "      <td>1</td>\n",
       "      <td>0</td>\n",
       "      <td>f</td>\n",
       "      <td>сотрудник</td>\n",
       "      <td>0</td>\n",
       "      <td>112080</td>\n",
       "      <td>приобретение автомобиля</td>\n",
       "      <td>C</td>\n",
       "      <td>операции с автомобилем</td>\n",
       "    </tr>\n",
       "    <tr>\n",
       "      <th>2</th>\n",
       "      <td>0</td>\n",
       "      <td>5623.422610</td>\n",
       "      <td>33</td>\n",
       "      <td>1</td>\n",
       "      <td>0</td>\n",
       "      <td>m</td>\n",
       "      <td>сотрудник</td>\n",
       "      <td>0</td>\n",
       "      <td>145885</td>\n",
       "      <td>покупка жилья</td>\n",
       "      <td>C</td>\n",
       "      <td>операции с недвижимостью</td>\n",
       "    </tr>\n",
       "    <tr>\n",
       "      <th>3</th>\n",
       "      <td>3</td>\n",
       "      <td>4124.747207</td>\n",
       "      <td>32</td>\n",
       "      <td>1</td>\n",
       "      <td>0</td>\n",
       "      <td>m</td>\n",
       "      <td>сотрудник</td>\n",
       "      <td>0</td>\n",
       "      <td>267628</td>\n",
       "      <td>дополнительное образование</td>\n",
       "      <td>B</td>\n",
       "      <td>получение образования</td>\n",
       "    </tr>\n",
       "    <tr>\n",
       "      <th>4</th>\n",
       "      <td>0</td>\n",
       "      <td>340266.072047</td>\n",
       "      <td>53</td>\n",
       "      <td>1</td>\n",
       "      <td>1</td>\n",
       "      <td>f</td>\n",
       "      <td>пенсионер</td>\n",
       "      <td>0</td>\n",
       "      <td>158616</td>\n",
       "      <td>сыграть свадьбу</td>\n",
       "      <td>C</td>\n",
       "      <td>проведение свадьбы</td>\n",
       "    </tr>\n",
       "    <tr>\n",
       "      <th>...</th>\n",
       "      <td>...</td>\n",
       "      <td>...</td>\n",
       "      <td>...</td>\n",
       "      <td>...</td>\n",
       "      <td>...</td>\n",
       "      <td>...</td>\n",
       "      <td>...</td>\n",
       "      <td>...</td>\n",
       "      <td>...</td>\n",
       "      <td>...</td>\n",
       "      <td>...</td>\n",
       "      <td>...</td>\n",
       "    </tr>\n",
       "    <tr>\n",
       "      <th>21347</th>\n",
       "      <td>1</td>\n",
       "      <td>4529.316663</td>\n",
       "      <td>43</td>\n",
       "      <td>1</td>\n",
       "      <td>1</td>\n",
       "      <td>f</td>\n",
       "      <td>компаньон</td>\n",
       "      <td>0</td>\n",
       "      <td>224791</td>\n",
       "      <td>операции с жильем</td>\n",
       "      <td>B</td>\n",
       "      <td>операции с недвижимостью</td>\n",
       "    </tr>\n",
       "    <tr>\n",
       "      <th>21348</th>\n",
       "      <td>0</td>\n",
       "      <td>343937.404131</td>\n",
       "      <td>67</td>\n",
       "      <td>1</td>\n",
       "      <td>0</td>\n",
       "      <td>f</td>\n",
       "      <td>пенсионер</td>\n",
       "      <td>0</td>\n",
       "      <td>155999</td>\n",
       "      <td>сделка с автомобилем</td>\n",
       "      <td>C</td>\n",
       "      <td>операции с автомобилем</td>\n",
       "    </tr>\n",
       "    <tr>\n",
       "      <th>21349</th>\n",
       "      <td>1</td>\n",
       "      <td>2113.346888</td>\n",
       "      <td>38</td>\n",
       "      <td>1</td>\n",
       "      <td>1</td>\n",
       "      <td>m</td>\n",
       "      <td>сотрудник</td>\n",
       "      <td>1</td>\n",
       "      <td>89672</td>\n",
       "      <td>недвижимость</td>\n",
       "      <td>C</td>\n",
       "      <td>операции с недвижимостью</td>\n",
       "    </tr>\n",
       "    <tr>\n",
       "      <th>21350</th>\n",
       "      <td>3</td>\n",
       "      <td>3112.481705</td>\n",
       "      <td>38</td>\n",
       "      <td>1</td>\n",
       "      <td>0</td>\n",
       "      <td>m</td>\n",
       "      <td>сотрудник</td>\n",
       "      <td>1</td>\n",
       "      <td>244093</td>\n",
       "      <td>на покупку своего автомобиля</td>\n",
       "      <td>B</td>\n",
       "      <td>операции с автомобилем</td>\n",
       "    </tr>\n",
       "    <tr>\n",
       "      <th>21351</th>\n",
       "      <td>2</td>\n",
       "      <td>1984.507589</td>\n",
       "      <td>40</td>\n",
       "      <td>1</td>\n",
       "      <td>0</td>\n",
       "      <td>f</td>\n",
       "      <td>сотрудник</td>\n",
       "      <td>0</td>\n",
       "      <td>82047</td>\n",
       "      <td>на покупку автомобиля</td>\n",
       "      <td>C</td>\n",
       "      <td>операции с автомобилем</td>\n",
       "    </tr>\n",
       "  </tbody>\n",
       "</table>\n",
       "<p>21352 rows × 12 columns</p>\n",
       "</div>"
      ],
      "text/plain": [
       "       children  days_employed  dob_years  education_id  family_status_id  \\\n",
       "0             1    8437.673028         42             0                 0   \n",
       "1             1    4024.803754         36             1                 0   \n",
       "2             0    5623.422610         33             1                 0   \n",
       "3             3    4124.747207         32             1                 0   \n",
       "4             0  340266.072047         53             1                 1   \n",
       "...         ...            ...        ...           ...               ...   \n",
       "21347         1    4529.316663         43             1                 1   \n",
       "21348         0  343937.404131         67             1                 0   \n",
       "21349         1    2113.346888         38             1                 1   \n",
       "21350         3    3112.481705         38             1                 0   \n",
       "21351         2    1984.507589         40             1                 0   \n",
       "\n",
       "      gender income_type  debt  total_income                       purpose  \\\n",
       "0          f   сотрудник     0        253875                 покупка жилья   \n",
       "1          f   сотрудник     0        112080       приобретение автомобиля   \n",
       "2          m   сотрудник     0        145885                 покупка жилья   \n",
       "3          m   сотрудник     0        267628    дополнительное образование   \n",
       "4          f   пенсионер     0        158616               сыграть свадьбу   \n",
       "...      ...         ...   ...           ...                           ...   \n",
       "21347      f   компаньон     0        224791             операции с жильем   \n",
       "21348      f   пенсионер     0        155999          сделка с автомобилем   \n",
       "21349      m   сотрудник     1         89672                  недвижимость   \n",
       "21350      m   сотрудник     1        244093  на покупку своего автомобиля   \n",
       "21351      f   сотрудник     0         82047         на покупку автомобиля   \n",
       "\n",
       "      total_income_category          purpose_category  \n",
       "0                         B  операции с недвижимостью  \n",
       "1                         C    операции с автомобилем  \n",
       "2                         C  операции с недвижимостью  \n",
       "3                         B     получение образования  \n",
       "4                         C        проведение свадьбы  \n",
       "...                     ...                       ...  \n",
       "21347                     B  операции с недвижимостью  \n",
       "21348                     C    операции с автомобилем  \n",
       "21349                     C  операции с недвижимостью  \n",
       "21350                     B    операции с автомобилем  \n",
       "21351                     C    операции с автомобилем  \n",
       "\n",
       "[21352 rows x 12 columns]"
      ]
     },
     "execution_count": 78,
     "metadata": {},
     "output_type": "execute_result"
    },
    {
     "data": {
      "application/javascript": [
       "\n",
       "            setTimeout(function() {\n",
       "                var nbb_cell_id = 78;\n",
       "                var nbb_unformatted_code = \"df\";\n",
       "                var nbb_formatted_code = \"df\";\n",
       "                var nbb_cells = Jupyter.notebook.get_cells();\n",
       "                for (var i = 0; i < nbb_cells.length; ++i) {\n",
       "                    if (nbb_cells[i].input_prompt_number == nbb_cell_id) {\n",
       "                        if (nbb_cells[i].get_text() == nbb_unformatted_code) {\n",
       "                             nbb_cells[i].set_text(nbb_formatted_code);\n",
       "                        }\n",
       "                        break;\n",
       "                    }\n",
       "                }\n",
       "            }, 500);\n",
       "            "
      ],
      "text/plain": [
       "<IPython.core.display.Javascript object>"
      ]
     },
     "metadata": {},
     "output_type": "display_data"
    }
   ],
   "source": [
    "df"
   ]
  },
  {
   "cell_type": "code",
   "execution_count": 79,
   "id": "ddc6b189",
   "metadata": {},
   "outputs": [
    {
     "data": {
      "text/plain": [
       "операции с недвижимостью    10763\n",
       "операции с автомобилем       4284\n",
       "получение образования        3995\n",
       "проведение свадьбы           2310\n",
       "Name: purpose_category, dtype: int64"
      ]
     },
     "execution_count": 79,
     "metadata": {},
     "output_type": "execute_result"
    },
    {
     "data": {
      "application/javascript": [
       "\n",
       "            setTimeout(function() {\n",
       "                var nbb_cell_id = 79;\n",
       "                var nbb_unformatted_code = \"df[\\\"purpose_category\\\"].value_counts(dropna=False)\";\n",
       "                var nbb_formatted_code = \"df[\\\"purpose_category\\\"].value_counts(dropna=False)\";\n",
       "                var nbb_cells = Jupyter.notebook.get_cells();\n",
       "                for (var i = 0; i < nbb_cells.length; ++i) {\n",
       "                    if (nbb_cells[i].input_prompt_number == nbb_cell_id) {\n",
       "                        if (nbb_cells[i].get_text() == nbb_unformatted_code) {\n",
       "                             nbb_cells[i].set_text(nbb_formatted_code);\n",
       "                        }\n",
       "                        break;\n",
       "                    }\n",
       "                }\n",
       "            }, 500);\n",
       "            "
      ],
      "text/plain": [
       "<IPython.core.display.Javascript object>"
      ]
     },
     "metadata": {},
     "output_type": "display_data"
    }
   ],
   "source": [
    "df[\"purpose_category\"].value_counts(dropna=False)"
   ]
  },
  {
   "cell_type": "code",
   "execution_count": 80,
   "id": "3801c0fd",
   "metadata": {},
   "outputs": [
    {
     "data": {
      "text/plain": [
       "21352"
      ]
     },
     "execution_count": 80,
     "metadata": {},
     "output_type": "execute_result"
    },
    {
     "data": {
      "application/javascript": [
       "\n",
       "            setTimeout(function() {\n",
       "                var nbb_cell_id = 80;\n",
       "                var nbb_unformatted_code = \"df[\\\"purpose_category\\\"].count()\";\n",
       "                var nbb_formatted_code = \"df[\\\"purpose_category\\\"].count()\";\n",
       "                var nbb_cells = Jupyter.notebook.get_cells();\n",
       "                for (var i = 0; i < nbb_cells.length; ++i) {\n",
       "                    if (nbb_cells[i].input_prompt_number == nbb_cell_id) {\n",
       "                        if (nbb_cells[i].get_text() == nbb_unformatted_code) {\n",
       "                             nbb_cells[i].set_text(nbb_formatted_code);\n",
       "                        }\n",
       "                        break;\n",
       "                    }\n",
       "                }\n",
       "            }, 500);\n",
       "            "
      ],
      "text/plain": [
       "<IPython.core.display.Javascript object>"
      ]
     },
     "metadata": {},
     "output_type": "display_data"
    }
   ],
   "source": [
    "df[\"purpose_category\"].count()"
   ]
  },
  {
   "cell_type": "markdown",
   "id": "f66115d6",
   "metadata": {},
   "source": [
    "We see that the function worked correctly. Now in our dataframe each client of the bank belongs to a certain group depending on the purpose of the loan."
   ]
  },
  {
   "cell_type": "markdown",
   "id": "8a39f8e0",
   "metadata": {},
   "source": [
    "### Answering valuable questions."
   ]
  },
  {
   "cell_type": "markdown",
   "id": "47426dac",
   "metadata": {},
   "source": [
    "##### Is there a correlation between the number of children and paying back the loan on time?"
   ]
  },
  {
   "cell_type": "code",
   "execution_count": 81,
   "id": "733f2bb4",
   "metadata": {},
   "outputs": [
    {
     "data": {
      "text/plain": [
       "array([ 1,  0,  3,  2,  4, 20,  5])"
      ]
     },
     "execution_count": 81,
     "metadata": {},
     "output_type": "execute_result"
    },
    {
     "data": {
      "application/javascript": [
       "\n",
       "            setTimeout(function() {\n",
       "                var nbb_cell_id = 81;\n",
       "                var nbb_unformatted_code = \"df[\\\"children\\\"].unique()\";\n",
       "                var nbb_formatted_code = \"df[\\\"children\\\"].unique()\";\n",
       "                var nbb_cells = Jupyter.notebook.get_cells();\n",
       "                for (var i = 0; i < nbb_cells.length; ++i) {\n",
       "                    if (nbb_cells[i].input_prompt_number == nbb_cell_id) {\n",
       "                        if (nbb_cells[i].get_text() == nbb_unformatted_code) {\n",
       "                             nbb_cells[i].set_text(nbb_formatted_code);\n",
       "                        }\n",
       "                        break;\n",
       "                    }\n",
       "                }\n",
       "            }, 500);\n",
       "            "
      ],
      "text/plain": [
       "<IPython.core.display.Javascript object>"
      ]
     },
     "metadata": {},
     "output_type": "display_data"
    }
   ],
   "source": [
    "df[\"children\"].unique()"
   ]
  },
  {
   "cell_type": "code",
   "execution_count": 82,
   "id": "7b4da856",
   "metadata": {
    "scrolled": true
   },
   "outputs": [
    {
     "data": {
      "text/html": [
       "<div>\n",
       "<style scoped>\n",
       "    .dataframe tbody tr th:only-of-type {\n",
       "        vertical-align: middle;\n",
       "    }\n",
       "\n",
       "    .dataframe tbody tr th {\n",
       "        vertical-align: top;\n",
       "    }\n",
       "\n",
       "    .dataframe thead tr th {\n",
       "        text-align: left;\n",
       "    }\n",
       "\n",
       "    .dataframe thead tr:last-of-type th {\n",
       "        text-align: right;\n",
       "    }\n",
       "</style>\n",
       "<table border=\"1\" class=\"dataframe\">\n",
       "  <thead>\n",
       "    <tr>\n",
       "      <th></th>\n",
       "      <th>count</th>\n",
       "      <th>mean</th>\n",
       "    </tr>\n",
       "    <tr>\n",
       "      <th></th>\n",
       "      <th>debt</th>\n",
       "      <th>debt</th>\n",
       "    </tr>\n",
       "    <tr>\n",
       "      <th>children</th>\n",
       "      <th></th>\n",
       "      <th></th>\n",
       "    </tr>\n",
       "  </thead>\n",
       "  <tbody>\n",
       "    <tr>\n",
       "      <th>0</th>\n",
       "      <td>14021</td>\n",
       "      <td>0.075458</td>\n",
       "    </tr>\n",
       "    <tr>\n",
       "      <th>1</th>\n",
       "      <td>4839</td>\n",
       "      <td>0.091341</td>\n",
       "    </tr>\n",
       "    <tr>\n",
       "      <th>2</th>\n",
       "      <td>2039</td>\n",
       "      <td>0.095145</td>\n",
       "    </tr>\n",
       "    <tr>\n",
       "      <th>3</th>\n",
       "      <td>328</td>\n",
       "      <td>0.082317</td>\n",
       "    </tr>\n",
       "    <tr>\n",
       "      <th>4</th>\n",
       "      <td>41</td>\n",
       "      <td>0.097561</td>\n",
       "    </tr>\n",
       "    <tr>\n",
       "      <th>5</th>\n",
       "      <td>9</td>\n",
       "      <td>0.000000</td>\n",
       "    </tr>\n",
       "    <tr>\n",
       "      <th>20</th>\n",
       "      <td>75</td>\n",
       "      <td>0.106667</td>\n",
       "    </tr>\n",
       "  </tbody>\n",
       "</table>\n",
       "</div>"
      ],
      "text/plain": [
       "          count      mean\n",
       "           debt      debt\n",
       "children                 \n",
       "0         14021  0.075458\n",
       "1          4839  0.091341\n",
       "2          2039  0.095145\n",
       "3           328  0.082317\n",
       "4            41  0.097561\n",
       "5             9  0.000000\n",
       "20           75  0.106667"
      ]
     },
     "execution_count": 82,
     "metadata": {},
     "output_type": "execute_result"
    },
    {
     "data": {
      "application/javascript": [
       "\n",
       "            setTimeout(function() {\n",
       "                var nbb_cell_id = 82;\n",
       "                var nbb_unformatted_code = \"pd.pivot_table(df, index=\\\"children\\\", values=\\\"debt\\\", aggfunc=[\\\"count\\\", \\\"mean\\\"])\";\n",
       "                var nbb_formatted_code = \"pd.pivot_table(df, index=\\\"children\\\", values=\\\"debt\\\", aggfunc=[\\\"count\\\", \\\"mean\\\"])\";\n",
       "                var nbb_cells = Jupyter.notebook.get_cells();\n",
       "                for (var i = 0; i < nbb_cells.length; ++i) {\n",
       "                    if (nbb_cells[i].input_prompt_number == nbb_cell_id) {\n",
       "                        if (nbb_cells[i].get_text() == nbb_unformatted_code) {\n",
       "                             nbb_cells[i].set_text(nbb_formatted_code);\n",
       "                        }\n",
       "                        break;\n",
       "                    }\n",
       "                }\n",
       "            }, 500);\n",
       "            "
      ],
      "text/plain": [
       "<IPython.core.display.Javascript object>"
      ]
     },
     "metadata": {},
     "output_type": "display_data"
    }
   ],
   "source": [
    "pd.pivot_table(df, index=\"children\", values=\"debt\", aggfunc=[\"count\", \"mean\"])"
   ]
  },
  {
   "cell_type": "markdown",
   "id": "98b44cb8",
   "metadata": {},
   "source": [
    "Break down the data so that there are a comparable number of people in each age group."
   ]
  },
  {
   "cell_type": "code",
   "execution_count": 83,
   "id": "438c89da",
   "metadata": {},
   "outputs": [
    {
     "data": {
      "application/javascript": [
       "\n",
       "            setTimeout(function() {\n",
       "                var nbb_cell_id = 83;\n",
       "                var nbb_unformatted_code = \"df[\\\"children_group1\\\"] = pd.cut(df[\\\"children\\\"], [-float(\\\"inf\\\"), 0.9, 1.9, float(\\\"inf\\\")])\";\n",
       "                var nbb_formatted_code = \"df[\\\"children_group1\\\"] = pd.cut(df[\\\"children\\\"], [-float(\\\"inf\\\"), 0.9, 1.9, float(\\\"inf\\\")])\";\n",
       "                var nbb_cells = Jupyter.notebook.get_cells();\n",
       "                for (var i = 0; i < nbb_cells.length; ++i) {\n",
       "                    if (nbb_cells[i].input_prompt_number == nbb_cell_id) {\n",
       "                        if (nbb_cells[i].get_text() == nbb_unformatted_code) {\n",
       "                             nbb_cells[i].set_text(nbb_formatted_code);\n",
       "                        }\n",
       "                        break;\n",
       "                    }\n",
       "                }\n",
       "            }, 500);\n",
       "            "
      ],
      "text/plain": [
       "<IPython.core.display.Javascript object>"
      ]
     },
     "metadata": {},
     "output_type": "display_data"
    }
   ],
   "source": [
    "df[\"children_group1\"] = pd.cut(df[\"children\"], [-float(\"inf\"), 0.9, 1.9, float(\"inf\")])"
   ]
  },
  {
   "cell_type": "code",
   "execution_count": 84,
   "id": "c4a18037",
   "metadata": {},
   "outputs": [
    {
     "data": {
      "text/html": [
       "<div>\n",
       "<style scoped>\n",
       "    .dataframe tbody tr th:only-of-type {\n",
       "        vertical-align: middle;\n",
       "    }\n",
       "\n",
       "    .dataframe tbody tr th {\n",
       "        vertical-align: top;\n",
       "    }\n",
       "\n",
       "    .dataframe thead th {\n",
       "        text-align: right;\n",
       "    }\n",
       "</style>\n",
       "<table border=\"1\" class=\"dataframe\">\n",
       "  <thead>\n",
       "    <tr style=\"text-align: right;\">\n",
       "      <th></th>\n",
       "      <th>count</th>\n",
       "      <th>mean</th>\n",
       "    </tr>\n",
       "    <tr>\n",
       "      <th>children_group1</th>\n",
       "      <th></th>\n",
       "      <th></th>\n",
       "    </tr>\n",
       "  </thead>\n",
       "  <tbody>\n",
       "    <tr>\n",
       "      <th>(-inf, 0.9]</th>\n",
       "      <td>14021</td>\n",
       "      <td>0.075458</td>\n",
       "    </tr>\n",
       "    <tr>\n",
       "      <th>(0.9, 1.9]</th>\n",
       "      <td>4839</td>\n",
       "      <td>0.091341</td>\n",
       "    </tr>\n",
       "    <tr>\n",
       "      <th>(1.9, inf]</th>\n",
       "      <td>2492</td>\n",
       "      <td>0.093499</td>\n",
       "    </tr>\n",
       "  </tbody>\n",
       "</table>\n",
       "</div>"
      ],
      "text/plain": [
       "                 count      mean\n",
       "children_group1                 \n",
       "(-inf, 0.9]      14021  0.075458\n",
       "(0.9, 1.9]        4839  0.091341\n",
       "(1.9, inf]        2492  0.093499"
      ]
     },
     "execution_count": 84,
     "metadata": {},
     "output_type": "execute_result"
    },
    {
     "data": {
      "application/javascript": [
       "\n",
       "            setTimeout(function() {\n",
       "                var nbb_cell_id = 84;\n",
       "                var nbb_unformatted_code = \"df.groupby(\\\"children_group1\\\")[\\\"debt\\\"].agg([\\\"count\\\", \\\"mean\\\"])\";\n",
       "                var nbb_formatted_code = \"df.groupby(\\\"children_group1\\\")[\\\"debt\\\"].agg([\\\"count\\\", \\\"mean\\\"])\";\n",
       "                var nbb_cells = Jupyter.notebook.get_cells();\n",
       "                for (var i = 0; i < nbb_cells.length; ++i) {\n",
       "                    if (nbb_cells[i].input_prompt_number == nbb_cell_id) {\n",
       "                        if (nbb_cells[i].get_text() == nbb_unformatted_code) {\n",
       "                             nbb_cells[i].set_text(nbb_formatted_code);\n",
       "                        }\n",
       "                        break;\n",
       "                    }\n",
       "                }\n",
       "            }, 500);\n",
       "            "
      ],
      "text/plain": [
       "<IPython.core.display.Javascript object>"
      ]
     },
     "metadata": {},
     "output_type": "display_data"
    }
   ],
   "source": [
    "df.groupby(\"children_group1\")[\"debt\"].agg([\"count\", \"mean\"])"
   ]
  },
  {
   "cell_type": "markdown",
   "id": "f1d6c4ab",
   "metadata": {},
   "source": [
    "##### Answer 1:"
   ]
  },
  {
   "cell_type": "markdown",
   "id": "8e9bed30",
   "metadata": {},
   "source": [
    "There is a correlation between the number of children and loan repayment on time. The more children, the higher the risk that the loan will not be repaid on time. The most reliable borrowers will be people who have no children, the least reliable - those who have more than 1 child."
   ]
  },
  {
   "cell_type": "markdown",
   "id": "9baf18d0",
   "metadata": {},
   "source": [
    "##### Is there a correlation between marital status and loan repayment on time?"
   ]
  },
  {
   "cell_type": "markdown",
   "id": "906d6edc",
   "metadata": {},
   "source": [
    "There are 5 types of marital status in total, which are summarized in the \"dictionary\" table df_2:"
   ]
  },
  {
   "cell_type": "code",
   "execution_count": 85,
   "id": "a7e1302d",
   "metadata": {},
   "outputs": [
    {
     "data": {
      "text/html": [
       "<div>\n",
       "<style scoped>\n",
       "    .dataframe tbody tr th:only-of-type {\n",
       "        vertical-align: middle;\n",
       "    }\n",
       "\n",
       "    .dataframe tbody tr th {\n",
       "        vertical-align: top;\n",
       "    }\n",
       "\n",
       "    .dataframe thead th {\n",
       "        text-align: right;\n",
       "    }\n",
       "</style>\n",
       "<table border=\"1\" class=\"dataframe\">\n",
       "  <thead>\n",
       "    <tr style=\"text-align: right;\">\n",
       "      <th></th>\n",
       "      <th>family_status_id</th>\n",
       "      <th>family_status</th>\n",
       "    </tr>\n",
       "  </thead>\n",
       "  <tbody>\n",
       "    <tr>\n",
       "      <th>0</th>\n",
       "      <td>0</td>\n",
       "      <td>женат / замужем</td>\n",
       "    </tr>\n",
       "    <tr>\n",
       "      <th>1</th>\n",
       "      <td>1</td>\n",
       "      <td>гражданский брак</td>\n",
       "    </tr>\n",
       "    <tr>\n",
       "      <th>2</th>\n",
       "      <td>2</td>\n",
       "      <td>вдовец / вдова</td>\n",
       "    </tr>\n",
       "    <tr>\n",
       "      <th>3</th>\n",
       "      <td>3</td>\n",
       "      <td>в разводе</td>\n",
       "    </tr>\n",
       "    <tr>\n",
       "      <th>4</th>\n",
       "      <td>4</td>\n",
       "      <td>не женат / не замужем</td>\n",
       "    </tr>\n",
       "  </tbody>\n",
       "</table>\n",
       "</div>"
      ],
      "text/plain": [
       "   family_status_id          family_status\n",
       "0                 0        женат / замужем\n",
       "1                 1       гражданский брак\n",
       "2                 2         вдовец / вдова\n",
       "3                 3              в разводе\n",
       "4                 4  не женат / не замужем"
      ]
     },
     "execution_count": 85,
     "metadata": {},
     "output_type": "execute_result"
    },
    {
     "data": {
      "application/javascript": [
       "\n",
       "            setTimeout(function() {\n",
       "                var nbb_cell_id = 85;\n",
       "                var nbb_unformatted_code = \"df_2\";\n",
       "                var nbb_formatted_code = \"df_2\";\n",
       "                var nbb_cells = Jupyter.notebook.get_cells();\n",
       "                for (var i = 0; i < nbb_cells.length; ++i) {\n",
       "                    if (nbb_cells[i].input_prompt_number == nbb_cell_id) {\n",
       "                        if (nbb_cells[i].get_text() == nbb_unformatted_code) {\n",
       "                             nbb_cells[i].set_text(nbb_formatted_code);\n",
       "                        }\n",
       "                        break;\n",
       "                    }\n",
       "                }\n",
       "            }, 500);\n",
       "            "
      ],
      "text/plain": [
       "<IPython.core.display.Javascript object>"
      ]
     },
     "metadata": {},
     "output_type": "display_data"
    }
   ],
   "source": [
    "df_2"
   ]
  },
  {
   "cell_type": "code",
   "execution_count": 86,
   "id": "f204c26e",
   "metadata": {},
   "outputs": [
    {
     "data": {
      "text/html": [
       "<div>\n",
       "<style scoped>\n",
       "    .dataframe tbody tr th:only-of-type {\n",
       "        vertical-align: middle;\n",
       "    }\n",
       "\n",
       "    .dataframe tbody tr th {\n",
       "        vertical-align: top;\n",
       "    }\n",
       "\n",
       "    .dataframe thead th {\n",
       "        text-align: right;\n",
       "    }\n",
       "</style>\n",
       "<table border=\"1\" class=\"dataframe\">\n",
       "  <thead>\n",
       "    <tr style=\"text-align: right;\">\n",
       "      <th></th>\n",
       "      <th>count</th>\n",
       "      <th>mean</th>\n",
       "    </tr>\n",
       "    <tr>\n",
       "      <th>family_status_id</th>\n",
       "      <th></th>\n",
       "      <th></th>\n",
       "    </tr>\n",
       "  </thead>\n",
       "  <tbody>\n",
       "    <tr>\n",
       "      <th>4</th>\n",
       "      <td>2794</td>\n",
       "      <td>0.097709</td>\n",
       "    </tr>\n",
       "    <tr>\n",
       "      <th>1</th>\n",
       "      <td>4129</td>\n",
       "      <td>0.093485</td>\n",
       "    </tr>\n",
       "    <tr>\n",
       "      <th>0</th>\n",
       "      <td>12290</td>\n",
       "      <td>0.075427</td>\n",
       "    </tr>\n",
       "    <tr>\n",
       "      <th>3</th>\n",
       "      <td>1185</td>\n",
       "      <td>0.071730</td>\n",
       "    </tr>\n",
       "    <tr>\n",
       "      <th>2</th>\n",
       "      <td>954</td>\n",
       "      <td>0.064990</td>\n",
       "    </tr>\n",
       "  </tbody>\n",
       "</table>\n",
       "</div>"
      ],
      "text/plain": [
       "                  count      mean\n",
       "family_status_id                 \n",
       "4                  2794  0.097709\n",
       "1                  4129  0.093485\n",
       "0                 12290  0.075427\n",
       "3                  1185  0.071730\n",
       "2                   954  0.064990"
      ]
     },
     "execution_count": 86,
     "metadata": {},
     "output_type": "execute_result"
    },
    {
     "data": {
      "application/javascript": [
       "\n",
       "            setTimeout(function() {\n",
       "                var nbb_cell_id = 86;\n",
       "                var nbb_unformatted_code = \"df.groupby(\\\"family_status_id\\\")[\\\"debt\\\"].agg([\\\"count\\\", \\\"mean\\\"]).sort_values(\\n    \\\"mean\\\", ascending=False\\n)\";\n",
       "                var nbb_formatted_code = \"df.groupby(\\\"family_status_id\\\")[\\\"debt\\\"].agg([\\\"count\\\", \\\"mean\\\"]).sort_values(\\n    \\\"mean\\\", ascending=False\\n)\";\n",
       "                var nbb_cells = Jupyter.notebook.get_cells();\n",
       "                for (var i = 0; i < nbb_cells.length; ++i) {\n",
       "                    if (nbb_cells[i].input_prompt_number == nbb_cell_id) {\n",
       "                        if (nbb_cells[i].get_text() == nbb_unformatted_code) {\n",
       "                             nbb_cells[i].set_text(nbb_formatted_code);\n",
       "                        }\n",
       "                        break;\n",
       "                    }\n",
       "                }\n",
       "            }, 500);\n",
       "            "
      ],
      "text/plain": [
       "<IPython.core.display.Javascript object>"
      ]
     },
     "metadata": {},
     "output_type": "display_data"
    }
   ],
   "source": [
    "df.groupby(\"family_status_id\")[\"debt\"].agg([\"count\", \"mean\"]).sort_values(\n",
    "    \"mean\", ascending=False\n",
    ")"
   ]
  },
  {
   "cell_type": "markdown",
   "id": "138825a6",
   "metadata": {},
   "source": [
    "##### Answer 2:"
   ]
  },
  {
   "cell_type": "markdown",
   "id": "f69c5f7f",
   "metadata": {},
   "source": [
    "We get that people who were not married were the most likely to default on their payments, and widows and widowers were the least likely to default."
   ]
  },
  {
   "cell_type": "markdown",
   "id": "1f63a31c",
   "metadata": {},
   "source": [
    "##### Is there a correlation between income level and loan repayment on time?"
   ]
  },
  {
   "cell_type": "code",
   "execution_count": 87,
   "id": "113c50ae",
   "metadata": {},
   "outputs": [
    {
     "data": {
      "text/html": [
       "<div>\n",
       "<style scoped>\n",
       "    .dataframe tbody tr th:only-of-type {\n",
       "        vertical-align: middle;\n",
       "    }\n",
       "\n",
       "    .dataframe tbody tr th {\n",
       "        vertical-align: top;\n",
       "    }\n",
       "\n",
       "    .dataframe thead th {\n",
       "        text-align: right;\n",
       "    }\n",
       "</style>\n",
       "<table border=\"1\" class=\"dataframe\">\n",
       "  <thead>\n",
       "    <tr style=\"text-align: right;\">\n",
       "      <th></th>\n",
       "      <th>count</th>\n",
       "      <th>mean</th>\n",
       "    </tr>\n",
       "    <tr>\n",
       "      <th>total_income_category</th>\n",
       "      <th></th>\n",
       "      <th></th>\n",
       "    </tr>\n",
       "  </thead>\n",
       "  <tbody>\n",
       "    <tr>\n",
       "      <th>A</th>\n",
       "      <td>25</td>\n",
       "      <td>0.080000</td>\n",
       "    </tr>\n",
       "    <tr>\n",
       "      <th>B</th>\n",
       "      <td>5014</td>\n",
       "      <td>0.070802</td>\n",
       "    </tr>\n",
       "    <tr>\n",
       "      <th>C</th>\n",
       "      <td>15943</td>\n",
       "      <td>0.084865</td>\n",
       "    </tr>\n",
       "    <tr>\n",
       "      <th>D</th>\n",
       "      <td>348</td>\n",
       "      <td>0.060345</td>\n",
       "    </tr>\n",
       "    <tr>\n",
       "      <th>E</th>\n",
       "      <td>22</td>\n",
       "      <td>0.090909</td>\n",
       "    </tr>\n",
       "  </tbody>\n",
       "</table>\n",
       "</div>"
      ],
      "text/plain": [
       "                       count      mean\n",
       "total_income_category                 \n",
       "A                         25  0.080000\n",
       "B                       5014  0.070802\n",
       "C                      15943  0.084865\n",
       "D                        348  0.060345\n",
       "E                         22  0.090909"
      ]
     },
     "execution_count": 87,
     "metadata": {},
     "output_type": "execute_result"
    },
    {
     "data": {
      "application/javascript": [
       "\n",
       "            setTimeout(function() {\n",
       "                var nbb_cell_id = 87;\n",
       "                var nbb_unformatted_code = \"df.groupby(\\\"total_income_category\\\")[\\\"debt\\\"].agg([\\\"count\\\", \\\"mean\\\"])\";\n",
       "                var nbb_formatted_code = \"df.groupby(\\\"total_income_category\\\")[\\\"debt\\\"].agg([\\\"count\\\", \\\"mean\\\"])\";\n",
       "                var nbb_cells = Jupyter.notebook.get_cells();\n",
       "                for (var i = 0; i < nbb_cells.length; ++i) {\n",
       "                    if (nbb_cells[i].input_prompt_number == nbb_cell_id) {\n",
       "                        if (nbb_cells[i].get_text() == nbb_unformatted_code) {\n",
       "                             nbb_cells[i].set_text(nbb_formatted_code);\n",
       "                        }\n",
       "                        break;\n",
       "                    }\n",
       "                }\n",
       "            }, 500);\n",
       "            "
      ],
      "text/plain": [
       "<IPython.core.display.Javascript object>"
      ]
     },
     "metadata": {},
     "output_type": "display_data"
    }
   ],
   "source": [
    "df.groupby(\"total_income_category\")[\"debt\"].agg([\"count\", \"mean\"])"
   ]
  },
  {
   "cell_type": "markdown",
   "id": "1631c8ad",
   "metadata": {},
   "source": [
    "##### Answer 3:"
   ]
  },
  {
   "cell_type": "markdown",
   "id": "6cb35c4f",
   "metadata": {},
   "source": [
    "This table shows that the probability of loan repayment at maturity does not depend on the borrower's income level. The amount of data in categories B and C is sufficient to conclude that the most reliable borrowers are from group B, and the least reliable are from group C."
   ]
  },
  {
   "cell_type": "markdown",
   "id": "fe779ebd",
   "metadata": {},
   "source": [
    "##### How do the different purposes of a loan affect its repayment on time?"
   ]
  },
  {
   "cell_type": "code",
   "execution_count": 88,
   "id": "77ab4db7",
   "metadata": {},
   "outputs": [
    {
     "data": {
      "text/html": [
       "<div>\n",
       "<style scoped>\n",
       "    .dataframe tbody tr th:only-of-type {\n",
       "        vertical-align: middle;\n",
       "    }\n",
       "\n",
       "    .dataframe tbody tr th {\n",
       "        vertical-align: top;\n",
       "    }\n",
       "\n",
       "    .dataframe thead th {\n",
       "        text-align: right;\n",
       "    }\n",
       "</style>\n",
       "<table border=\"1\" class=\"dataframe\">\n",
       "  <thead>\n",
       "    <tr style=\"text-align: right;\">\n",
       "      <th></th>\n",
       "      <th>count</th>\n",
       "      <th>mean</th>\n",
       "    </tr>\n",
       "    <tr>\n",
       "      <th>purpose_category</th>\n",
       "      <th></th>\n",
       "      <th></th>\n",
       "    </tr>\n",
       "  </thead>\n",
       "  <tbody>\n",
       "    <tr>\n",
       "      <th>операции с автомобилем</th>\n",
       "      <td>4284</td>\n",
       "      <td>0.093371</td>\n",
       "    </tr>\n",
       "    <tr>\n",
       "      <th>операции с недвижимостью</th>\n",
       "      <td>10763</td>\n",
       "      <td>0.072378</td>\n",
       "    </tr>\n",
       "    <tr>\n",
       "      <th>получение образования</th>\n",
       "      <td>3995</td>\n",
       "      <td>0.092616</td>\n",
       "    </tr>\n",
       "    <tr>\n",
       "      <th>проведение свадьбы</th>\n",
       "      <td>2310</td>\n",
       "      <td>0.079654</td>\n",
       "    </tr>\n",
       "  </tbody>\n",
       "</table>\n",
       "</div>"
      ],
      "text/plain": [
       "                          count      mean\n",
       "purpose_category                         \n",
       "операции с автомобилем     4284  0.093371\n",
       "операции с недвижимостью  10763  0.072378\n",
       "получение образования      3995  0.092616\n",
       "проведение свадьбы         2310  0.079654"
      ]
     },
     "execution_count": 88,
     "metadata": {},
     "output_type": "execute_result"
    },
    {
     "data": {
      "application/javascript": [
       "\n",
       "            setTimeout(function() {\n",
       "                var nbb_cell_id = 88;\n",
       "                var nbb_unformatted_code = \"df.groupby(\\\"purpose_category\\\")[\\\"debt\\\"].agg([\\\"count\\\", \\\"mean\\\"])\";\n",
       "                var nbb_formatted_code = \"df.groupby(\\\"purpose_category\\\")[\\\"debt\\\"].agg([\\\"count\\\", \\\"mean\\\"])\";\n",
       "                var nbb_cells = Jupyter.notebook.get_cells();\n",
       "                for (var i = 0; i < nbb_cells.length; ++i) {\n",
       "                    if (nbb_cells[i].input_prompt_number == nbb_cell_id) {\n",
       "                        if (nbb_cells[i].get_text() == nbb_unformatted_code) {\n",
       "                             nbb_cells[i].set_text(nbb_formatted_code);\n",
       "                        }\n",
       "                        break;\n",
       "                    }\n",
       "                }\n",
       "            }, 500);\n",
       "            "
      ],
      "text/plain": [
       "<IPython.core.display.Javascript object>"
      ]
     },
     "metadata": {},
     "output_type": "display_data"
    }
   ],
   "source": [
    "df.groupby(\"purpose_category\")[\"debt\"].agg([\"count\", \"mean\"])"
   ]
  },
  {
   "cell_type": "markdown",
   "id": "318ca9f2",
   "metadata": {},
   "source": [
    "##### Answer 4:"
   ]
  },
  {
   "cell_type": "markdown",
   "id": "585d1e06",
   "metadata": {},
   "source": [
    "We see that the probability of repaying a loan taken for real estate transactions and weddings at maturity is on average higher than in the case of car transactions and education."
   ]
  },
  {
   "cell_type": "markdown",
   "id": "490684d4",
   "metadata": {},
   "source": [
    "## Overall conclusion:"
   ]
  },
  {
   "cell_type": "markdown",
   "id": "0307c6c5",
   "metadata": {},
   "source": [
    "As a result of the conducted research, the dependence of the fact of loan repayment on time on the following parameters was obtained:\n",
    "1. Marital status,\n",
    "2. Number of children of the client,\n",
    "3. The purpose of the loan.\n",
    "\n",
    "There is no direct correlation between the level of income and the probability of repayment of the loan on time."
   ]
  },
  {
   "cell_type": "markdown",
   "id": "5e8c261e",
   "metadata": {},
   "source": [
    "This result was obtained from a preprocessed dataframe. As a result of data preprocessing, negative values in the `children` and `days_employed` columns were replaced with absolute values, gaps in the `days_employed` and `total_income` columns were filled with median values, data on customers with zero age were removed, and only two types of values were left in the `gender` column: M and F. Also, explicit duplicates were removed, and then implicit duplicates were removed after the string data were lower-cased."
   ]
  }
 ],
 "metadata": {
  "ExecuteTimeLog": [
   {
    "duration": 358,
    "start_time": "2022-04-16T15:34:48.927Z"
   },
   {
    "duration": 83,
    "start_time": "2022-04-16T15:55:28.264Z"
   },
   {
    "duration": 50321,
    "start_time": "2022-04-16T15:57:17.642Z"
   },
   {
    "duration": 33185,
    "start_time": "2022-04-16T15:58:20.691Z"
   },
   {
    "duration": 108,
    "start_time": "2022-04-16T15:59:06.769Z"
   },
   {
    "duration": 639,
    "start_time": "2022-04-16T16:03:36.081Z"
   },
   {
    "duration": 199,
    "start_time": "2022-04-16T16:03:37.475Z"
   },
   {
    "duration": 19,
    "start_time": "2022-04-16T16:04:57.372Z"
   },
   {
    "duration": 19,
    "start_time": "2022-04-16T16:12:50.522Z"
   },
   {
    "duration": 11,
    "start_time": "2022-04-16T16:13:11.051Z"
   },
   {
    "duration": 12,
    "start_time": "2022-04-16T16:13:18.225Z"
   },
   {
    "duration": 10,
    "start_time": "2022-04-16T16:13:26.053Z"
   },
   {
    "duration": 12,
    "start_time": "2022-04-16T16:15:20.468Z"
   },
   {
    "duration": 5,
    "start_time": "2022-04-16T16:15:47.927Z"
   },
   {
    "duration": 5,
    "start_time": "2022-04-16T16:16:08.960Z"
   },
   {
    "duration": 13,
    "start_time": "2022-04-16T16:31:59.434Z"
   },
   {
    "duration": 13,
    "start_time": "2022-04-16T16:32:29.483Z"
   },
   {
    "duration": 6,
    "start_time": "2022-04-16T16:41:16.210Z"
   },
   {
    "duration": 20,
    "start_time": "2022-04-16T16:41:35.936Z"
   },
   {
    "duration": 4,
    "start_time": "2022-04-16T16:41:53.969Z"
   },
   {
    "duration": 6,
    "start_time": "2022-04-16T16:42:52.177Z"
   },
   {
    "duration": 15,
    "start_time": "2022-04-16T16:43:59.002Z"
   },
   {
    "duration": 14,
    "start_time": "2022-04-16T16:44:13.253Z"
   },
   {
    "duration": 64,
    "start_time": "2022-04-16T16:46:03.471Z"
   },
   {
    "duration": 6,
    "start_time": "2022-04-16T16:46:11.074Z"
   },
   {
    "duration": 89,
    "start_time": "2022-04-16T17:00:58.829Z"
   },
   {
    "duration": 5,
    "start_time": "2022-04-16T17:01:16.671Z"
   },
   {
    "duration": 5,
    "start_time": "2022-04-16T17:01:37.214Z"
   },
   {
    "duration": 5,
    "start_time": "2022-04-16T17:01:52.751Z"
   },
   {
    "duration": 27,
    "start_time": "2022-04-16T17:04:53.591Z"
   },
   {
    "duration": 12,
    "start_time": "2022-04-16T17:05:00.394Z"
   },
   {
    "duration": 10,
    "start_time": "2022-04-16T17:05:19.286Z"
   },
   {
    "duration": 4,
    "start_time": "2022-04-16T17:16:31.815Z"
   },
   {
    "duration": 47,
    "start_time": "2022-04-16T19:28:48.736Z"
   },
   {
    "duration": 400,
    "start_time": "2022-04-16T19:29:20.990Z"
   },
   {
    "duration": 2,
    "start_time": "2022-04-16T19:29:26.137Z"
   },
   {
    "duration": 59,
    "start_time": "2022-04-16T19:29:26.627Z"
   },
   {
    "duration": 20,
    "start_time": "2022-04-16T19:29:27.381Z"
   },
   {
    "duration": 4,
    "start_time": "2022-04-16T19:29:28.044Z"
   },
   {
    "duration": 10,
    "start_time": "2022-04-16T19:29:29.739Z"
   },
   {
    "duration": 13,
    "start_time": "2022-04-16T19:29:31.168Z"
   },
   {
    "duration": 4,
    "start_time": "2022-04-16T19:29:32.577Z"
   },
   {
    "duration": 5,
    "start_time": "2022-04-16T19:29:33.101Z"
   },
   {
    "duration": 11,
    "start_time": "2022-04-16T19:29:34.277Z"
   },
   {
    "duration": 5,
    "start_time": "2022-04-16T19:29:35.071Z"
   },
   {
    "duration": 11,
    "start_time": "2022-04-16T19:29:35.946Z"
   },
   {
    "duration": 5,
    "start_time": "2022-04-16T19:30:01.838Z"
   },
   {
    "duration": 5,
    "start_time": "2022-04-16T19:30:14.297Z"
   },
   {
    "duration": 6,
    "start_time": "2022-04-16T19:39:22.408Z"
   },
   {
    "duration": 27,
    "start_time": "2022-04-16T19:42:25.832Z"
   },
   {
    "duration": 22,
    "start_time": "2022-04-16T19:42:29.949Z"
   },
   {
    "duration": 6,
    "start_time": "2022-04-16T19:46:21.695Z"
   },
   {
    "duration": 5,
    "start_time": "2022-04-16T19:46:32.559Z"
   },
   {
    "duration": 81,
    "start_time": "2022-04-16T19:56:17.237Z"
   },
   {
    "duration": 5,
    "start_time": "2022-04-16T19:56:31.350Z"
   },
   {
    "duration": 6,
    "start_time": "2022-04-16T19:58:53.934Z"
   },
   {
    "duration": 5,
    "start_time": "2022-04-16T19:59:40.061Z"
   },
   {
    "duration": 8,
    "start_time": "2022-04-16T19:59:54.532Z"
   },
   {
    "duration": 5,
    "start_time": "2022-04-16T20:00:32.917Z"
   },
   {
    "duration": 13,
    "start_time": "2022-04-16T20:01:30.661Z"
   },
   {
    "duration": 6,
    "start_time": "2022-04-16T20:02:05.439Z"
   },
   {
    "duration": 13,
    "start_time": "2022-04-16T20:02:14.501Z"
   },
   {
    "duration": 9,
    "start_time": "2022-04-16T20:03:39.226Z"
   },
   {
    "duration": 5,
    "start_time": "2022-04-16T20:04:17.276Z"
   },
   {
    "duration": 5,
    "start_time": "2022-04-16T20:05:01.088Z"
   },
   {
    "duration": 4,
    "start_time": "2022-04-16T20:09:28.119Z"
   },
   {
    "duration": 4,
    "start_time": "2022-04-16T20:09:54.438Z"
   },
   {
    "duration": 4,
    "start_time": "2022-04-16T20:10:16.566Z"
   },
   {
    "duration": 4,
    "start_time": "2022-04-16T20:10:41.523Z"
   },
   {
    "duration": 4,
    "start_time": "2022-04-16T20:10:50.561Z"
   },
   {
    "duration": 10,
    "start_time": "2022-04-16T20:11:46.408Z"
   },
   {
    "duration": 11,
    "start_time": "2022-04-16T20:13:10.758Z"
   },
   {
    "duration": 12,
    "start_time": "2022-04-16T20:13:14.425Z"
   },
   {
    "duration": 11,
    "start_time": "2022-04-16T20:13:30.253Z"
   },
   {
    "duration": 2,
    "start_time": "2022-04-16T20:14:10.106Z"
   },
   {
    "duration": 64,
    "start_time": "2022-04-16T20:14:10.110Z"
   },
   {
    "duration": 12,
    "start_time": "2022-04-16T20:14:10.176Z"
   },
   {
    "duration": 6,
    "start_time": "2022-04-16T20:14:10.190Z"
   },
   {
    "duration": 11,
    "start_time": "2022-04-16T20:14:10.197Z"
   },
   {
    "duration": 7,
    "start_time": "2022-04-16T20:14:33.429Z"
   },
   {
    "duration": 6,
    "start_time": "2022-04-16T20:16:30.962Z"
   },
   {
    "duration": 5,
    "start_time": "2022-04-16T20:17:24.708Z"
   },
   {
    "duration": 2,
    "start_time": "2022-04-16T20:17:58.359Z"
   },
   {
    "duration": 58,
    "start_time": "2022-04-16T20:17:58.363Z"
   },
   {
    "duration": 14,
    "start_time": "2022-04-16T20:17:58.423Z"
   },
   {
    "duration": 5,
    "start_time": "2022-04-16T20:17:58.439Z"
   },
   {
    "duration": 32,
    "start_time": "2022-04-16T20:17:58.445Z"
   },
   {
    "duration": 13,
    "start_time": "2022-04-16T20:17:58.479Z"
   },
   {
    "duration": 5,
    "start_time": "2022-04-16T20:17:58.494Z"
   },
   {
    "duration": 5,
    "start_time": "2022-04-16T20:17:58.501Z"
   },
   {
    "duration": 10,
    "start_time": "2022-04-16T20:17:58.510Z"
   },
   {
    "duration": 4,
    "start_time": "2022-04-16T20:17:58.522Z"
   },
   {
    "duration": 52,
    "start_time": "2022-04-16T20:17:58.528Z"
   },
   {
    "duration": 4,
    "start_time": "2022-04-16T20:17:58.582Z"
   },
   {
    "duration": 5,
    "start_time": "2022-04-16T20:17:58.587Z"
   },
   {
    "duration": 4,
    "start_time": "2022-04-16T20:17:58.594Z"
   },
   {
    "duration": 4,
    "start_time": "2022-04-16T20:17:58.600Z"
   },
   {
    "duration": 5,
    "start_time": "2022-04-16T20:17:58.605Z"
   },
   {
    "duration": 7,
    "start_time": "2022-04-16T20:17:58.611Z"
   },
   {
    "duration": 6,
    "start_time": "2022-04-16T20:17:58.620Z"
   },
   {
    "duration": 5,
    "start_time": "2022-04-16T20:17:58.628Z"
   },
   {
    "duration": 38,
    "start_time": "2022-04-16T20:17:58.635Z"
   },
   {
    "duration": 4,
    "start_time": "2022-04-16T20:17:58.675Z"
   },
   {
    "duration": 6,
    "start_time": "2022-04-16T20:17:58.680Z"
   },
   {
    "duration": 7,
    "start_time": "2022-04-16T20:17:58.688Z"
   },
   {
    "duration": 6,
    "start_time": "2022-04-16T20:18:07.261Z"
   },
   {
    "duration": 7,
    "start_time": "2022-04-16T20:18:07.996Z"
   },
   {
    "duration": 11,
    "start_time": "2022-04-16T20:26:10.721Z"
   },
   {
    "duration": 3,
    "start_time": "2022-04-16T20:36:19.220Z"
   },
   {
    "duration": 11,
    "start_time": "2022-04-16T20:41:13.064Z"
   },
   {
    "duration": 9,
    "start_time": "2022-04-16T20:41:20.717Z"
   },
   {
    "duration": 9,
    "start_time": "2022-04-16T20:41:29.063Z"
   },
   {
    "duration": 4,
    "start_time": "2022-04-16T20:41:32.561Z"
   },
   {
    "duration": 4,
    "start_time": "2022-04-16T20:41:37.057Z"
   },
   {
    "duration": 9,
    "start_time": "2022-04-16T20:42:25.693Z"
   },
   {
    "duration": 6,
    "start_time": "2022-04-16T20:42:56.449Z"
   },
   {
    "duration": 350,
    "start_time": "2022-04-16T20:43:13.887Z"
   },
   {
    "duration": 7,
    "start_time": "2022-04-16T20:52:28.967Z"
   },
   {
    "duration": 5,
    "start_time": "2022-04-16T20:52:40.137Z"
   },
   {
    "duration": 6,
    "start_time": "2022-04-16T20:52:45.825Z"
   },
   {
    "duration": 3,
    "start_time": "2022-04-16T20:54:22.262Z"
   },
   {
    "duration": 4,
    "start_time": "2022-04-16T20:54:40.834Z"
   },
   {
    "duration": 7,
    "start_time": "2022-04-16T20:57:19.497Z"
   },
   {
    "duration": 10,
    "start_time": "2022-04-16T20:57:26.369Z"
   },
   {
    "duration": 5,
    "start_time": "2022-04-16T21:01:09.971Z"
   },
   {
    "duration": 10,
    "start_time": "2022-04-16T21:01:11.822Z"
   },
   {
    "duration": 1287,
    "start_time": "2022-04-16T21:03:21.130Z"
   },
   {
    "duration": 9,
    "start_time": "2022-04-16T21:03:35.172Z"
   },
   {
    "duration": 9,
    "start_time": "2022-04-16T21:03:47.149Z"
   },
   {
    "duration": 15,
    "start_time": "2022-04-16T21:03:58.911Z"
   },
   {
    "duration": 19,
    "start_time": "2022-04-16T21:07:16.899Z"
   },
   {
    "duration": 12,
    "start_time": "2022-04-16T21:07:27.932Z"
   },
   {
    "duration": 17,
    "start_time": "2022-04-16T21:07:45.613Z"
   },
   {
    "duration": 16,
    "start_time": "2022-04-16T21:08:02.039Z"
   },
   {
    "duration": 12,
    "start_time": "2022-04-16T21:08:48.265Z"
   },
   {
    "duration": 9,
    "start_time": "2022-04-16T21:10:56.316Z"
   },
   {
    "duration": 9,
    "start_time": "2022-04-16T21:11:02.500Z"
   },
   {
    "duration": 11,
    "start_time": "2022-04-16T21:27:08.132Z"
   },
   {
    "duration": 72,
    "start_time": "2022-04-17T06:33:00.060Z"
   },
   {
    "duration": 582,
    "start_time": "2022-04-17T06:33:07.965Z"
   },
   {
    "duration": 80,
    "start_time": "2022-04-17T06:33:08.550Z"
   },
   {
    "duration": 20,
    "start_time": "2022-04-17T06:33:08.632Z"
   },
   {
    "duration": 4,
    "start_time": "2022-04-17T06:33:08.653Z"
   },
   {
    "duration": 12,
    "start_time": "2022-04-17T06:33:08.659Z"
   },
   {
    "duration": 12,
    "start_time": "2022-04-17T06:33:08.673Z"
   },
   {
    "duration": 5,
    "start_time": "2022-04-17T06:33:08.686Z"
   },
   {
    "duration": 5,
    "start_time": "2022-04-17T06:33:08.722Z"
   },
   {
    "duration": 11,
    "start_time": "2022-04-17T06:33:08.729Z"
   },
   {
    "duration": 4,
    "start_time": "2022-04-17T06:33:08.742Z"
   },
   {
    "duration": 11,
    "start_time": "2022-04-17T06:33:08.747Z"
   },
   {
    "duration": 6,
    "start_time": "2022-04-17T06:33:08.760Z"
   },
   {
    "duration": 5,
    "start_time": "2022-04-17T06:33:08.767Z"
   },
   {
    "duration": 7,
    "start_time": "2022-04-17T06:33:08.774Z"
   },
   {
    "duration": 42,
    "start_time": "2022-04-17T06:33:08.782Z"
   },
   {
    "duration": 4,
    "start_time": "2022-04-17T06:33:08.825Z"
   },
   {
    "duration": 3,
    "start_time": "2022-04-17T06:33:11.474Z"
   },
   {
    "duration": 4,
    "start_time": "2022-04-17T06:33:12.208Z"
   },
   {
    "duration": 29,
    "start_time": "2022-04-17T06:40:26.799Z"
   },
   {
    "duration": 3,
    "start_time": "2022-04-17T06:40:39.553Z"
   },
   {
    "duration": 81,
    "start_time": "2022-04-17T06:40:39.558Z"
   },
   {
    "duration": 14,
    "start_time": "2022-04-17T06:40:39.641Z"
   },
   {
    "duration": 19,
    "start_time": "2022-04-17T06:40:39.656Z"
   },
   {
    "duration": 26,
    "start_time": "2022-04-17T06:40:39.678Z"
   },
   {
    "duration": 22,
    "start_time": "2022-04-17T06:40:39.705Z"
   },
   {
    "duration": 16,
    "start_time": "2022-04-17T06:40:39.729Z"
   },
   {
    "duration": 20,
    "start_time": "2022-04-17T06:40:39.747Z"
   },
   {
    "duration": 19,
    "start_time": "2022-04-17T06:40:39.769Z"
   },
   {
    "duration": 5,
    "start_time": "2022-04-17T06:40:39.790Z"
   },
   {
    "duration": 26,
    "start_time": "2022-04-17T06:40:39.797Z"
   },
   {
    "duration": 5,
    "start_time": "2022-04-17T06:40:39.825Z"
   },
   {
    "duration": 21,
    "start_time": "2022-04-17T06:40:39.834Z"
   },
   {
    "duration": 26,
    "start_time": "2022-04-17T06:40:39.857Z"
   },
   {
    "duration": 30,
    "start_time": "2022-04-17T06:40:39.885Z"
   },
   {
    "duration": 12,
    "start_time": "2022-04-17T06:40:39.917Z"
   },
   {
    "duration": 21,
    "start_time": "2022-04-17T06:40:39.931Z"
   },
   {
    "duration": 24,
    "start_time": "2022-04-17T06:40:39.954Z"
   },
   {
    "duration": 8,
    "start_time": "2022-04-17T06:40:39.979Z"
   },
   {
    "duration": 24,
    "start_time": "2022-04-17T06:40:39.989Z"
   },
   {
    "duration": 13,
    "start_time": "2022-04-17T06:40:40.015Z"
   },
   {
    "duration": 31,
    "start_time": "2022-04-17T06:40:40.030Z"
   },
   {
    "duration": 21,
    "start_time": "2022-04-17T06:40:40.063Z"
   },
   {
    "duration": 15,
    "start_time": "2022-04-17T06:40:40.085Z"
   },
   {
    "duration": 25,
    "start_time": "2022-04-17T06:40:40.102Z"
   },
   {
    "duration": 31,
    "start_time": "2022-04-17T06:40:40.129Z"
   },
   {
    "duration": 20,
    "start_time": "2022-04-17T06:40:40.162Z"
   },
   {
    "duration": 39,
    "start_time": "2022-04-17T06:40:40.183Z"
   },
   {
    "duration": 26,
    "start_time": "2022-04-17T06:40:40.224Z"
   },
   {
    "duration": 12,
    "start_time": "2022-04-17T06:40:44.106Z"
   },
   {
    "duration": 165,
    "start_time": "2022-04-17T06:41:18.879Z"
   },
   {
    "duration": 9,
    "start_time": "2022-04-17T06:41:21.507Z"
   },
   {
    "duration": 14,
    "start_time": "2022-04-17T06:41:47.945Z"
   },
   {
    "duration": 5,
    "start_time": "2022-04-17T06:42:57.775Z"
   },
   {
    "duration": 6,
    "start_time": "2022-04-17T06:43:10.325Z"
   },
   {
    "duration": 5,
    "start_time": "2022-04-17T06:43:32.227Z"
   },
   {
    "duration": 7,
    "start_time": "2022-04-17T06:48:12.441Z"
   },
   {
    "duration": 5,
    "start_time": "2022-04-17T06:49:10.919Z"
   },
   {
    "duration": 1961,
    "start_time": "2022-04-17T06:49:28.763Z"
   },
   {
    "duration": 3,
    "start_time": "2022-04-17T06:50:01.088Z"
   },
   {
    "duration": 88,
    "start_time": "2022-04-17T06:50:01.093Z"
   },
   {
    "duration": 13,
    "start_time": "2022-04-17T06:50:01.182Z"
   },
   {
    "duration": 20,
    "start_time": "2022-04-17T06:50:01.197Z"
   },
   {
    "duration": 14,
    "start_time": "2022-04-17T06:50:01.218Z"
   },
   {
    "duration": 15,
    "start_time": "2022-04-17T06:50:01.233Z"
   },
   {
    "duration": 4,
    "start_time": "2022-04-17T06:50:01.250Z"
   },
   {
    "duration": 20,
    "start_time": "2022-04-17T06:50:01.255Z"
   },
   {
    "duration": 34,
    "start_time": "2022-04-17T06:50:01.278Z"
   },
   {
    "duration": 4,
    "start_time": "2022-04-17T06:50:01.314Z"
   },
   {
    "duration": 13,
    "start_time": "2022-04-17T06:50:01.319Z"
   },
   {
    "duration": 5,
    "start_time": "2022-04-17T06:50:01.333Z"
   },
   {
    "duration": 8,
    "start_time": "2022-04-17T06:50:01.339Z"
   },
   {
    "duration": 16,
    "start_time": "2022-04-17T06:50:01.348Z"
   },
   {
    "duration": 18,
    "start_time": "2022-04-17T06:50:01.366Z"
   },
   {
    "duration": 24,
    "start_time": "2022-04-17T06:50:01.386Z"
   },
   {
    "duration": 20,
    "start_time": "2022-04-17T06:50:01.411Z"
   },
   {
    "duration": 23,
    "start_time": "2022-04-17T06:50:01.432Z"
   },
   {
    "duration": 23,
    "start_time": "2022-04-17T06:50:01.457Z"
   },
   {
    "duration": 25,
    "start_time": "2022-04-17T06:50:01.482Z"
   },
   {
    "duration": 21,
    "start_time": "2022-04-17T06:50:01.508Z"
   },
   {
    "duration": 27,
    "start_time": "2022-04-17T06:50:01.531Z"
   },
   {
    "duration": 23,
    "start_time": "2022-04-17T06:50:01.559Z"
   },
   {
    "duration": 28,
    "start_time": "2022-04-17T06:50:01.585Z"
   },
   {
    "duration": 28,
    "start_time": "2022-04-17T06:50:01.615Z"
   },
   {
    "duration": 33,
    "start_time": "2022-04-17T06:50:01.646Z"
   },
   {
    "duration": 28,
    "start_time": "2022-04-17T06:50:01.681Z"
   },
   {
    "duration": 52,
    "start_time": "2022-04-17T06:50:01.712Z"
   },
   {
    "duration": 47,
    "start_time": "2022-04-17T06:50:01.766Z"
   },
   {
    "duration": 8,
    "start_time": "2022-04-17T06:50:04.477Z"
   },
   {
    "duration": 7,
    "start_time": "2022-04-17T06:50:08.438Z"
   },
   {
    "duration": 8,
    "start_time": "2022-04-17T06:50:12.335Z"
   },
   {
    "duration": 10,
    "start_time": "2022-04-17T06:50:56.559Z"
   },
   {
    "duration": 21,
    "start_time": "2022-04-17T06:58:25.691Z"
   },
   {
    "duration": 34,
    "start_time": "2022-04-17T07:05:34.626Z"
   },
   {
    "duration": 14,
    "start_time": "2022-04-17T07:06:18.651Z"
   },
   {
    "duration": 8,
    "start_time": "2022-04-17T07:15:41.190Z"
   },
   {
    "duration": 9,
    "start_time": "2022-04-17T07:15:58.541Z"
   },
   {
    "duration": 7,
    "start_time": "2022-04-17T07:16:04.087Z"
   },
   {
    "duration": 6,
    "start_time": "2022-04-17T07:16:17.940Z"
   },
   {
    "duration": 4,
    "start_time": "2022-04-17T07:19:10.558Z"
   },
   {
    "duration": 5,
    "start_time": "2022-04-17T07:19:18.611Z"
   },
   {
    "duration": 5,
    "start_time": "2022-04-17T07:22:03.674Z"
   },
   {
    "duration": 9,
    "start_time": "2022-04-17T07:22:41.026Z"
   },
   {
    "duration": 5,
    "start_time": "2022-04-17T07:22:43.699Z"
   },
   {
    "duration": 5,
    "start_time": "2022-04-17T07:23:05.548Z"
   },
   {
    "duration": 11,
    "start_time": "2022-04-17T07:23:50.218Z"
   },
   {
    "duration": 4,
    "start_time": "2022-04-17T07:25:16.919Z"
   },
   {
    "duration": 3,
    "start_time": "2022-04-17T07:25:17.537Z"
   },
   {
    "duration": 4,
    "start_time": "2022-04-17T07:25:18.478Z"
   },
   {
    "duration": 5,
    "start_time": "2022-04-17T07:25:19.054Z"
   },
   {
    "duration": 6,
    "start_time": "2022-04-17T07:26:25.671Z"
   },
   {
    "duration": 2,
    "start_time": "2022-04-17T07:27:06.736Z"
   },
   {
    "duration": 66,
    "start_time": "2022-04-17T07:27:06.740Z"
   },
   {
    "duration": 12,
    "start_time": "2022-04-17T07:27:06.807Z"
   },
   {
    "duration": 3,
    "start_time": "2022-04-17T07:27:06.823Z"
   },
   {
    "duration": 12,
    "start_time": "2022-04-17T07:27:06.828Z"
   },
   {
    "duration": 15,
    "start_time": "2022-04-17T07:27:06.841Z"
   },
   {
    "duration": 5,
    "start_time": "2022-04-17T07:27:06.857Z"
   },
   {
    "duration": 6,
    "start_time": "2022-04-17T07:27:06.864Z"
   },
   {
    "duration": 56,
    "start_time": "2022-04-17T07:27:06.872Z"
   },
   {
    "duration": 5,
    "start_time": "2022-04-17T07:27:06.931Z"
   },
   {
    "duration": 12,
    "start_time": "2022-04-17T07:27:06.937Z"
   },
   {
    "duration": 4,
    "start_time": "2022-04-17T07:27:06.951Z"
   },
   {
    "duration": 9,
    "start_time": "2022-04-17T07:27:06.956Z"
   },
   {
    "duration": 8,
    "start_time": "2022-04-17T07:27:06.967Z"
   },
   {
    "duration": 7,
    "start_time": "2022-04-17T07:27:06.976Z"
   },
   {
    "duration": 11,
    "start_time": "2022-04-17T07:27:06.984Z"
   },
   {
    "duration": 29,
    "start_time": "2022-04-17T07:27:06.997Z"
   },
   {
    "duration": 9,
    "start_time": "2022-04-17T07:27:07.028Z"
   },
   {
    "duration": 10,
    "start_time": "2022-04-17T07:27:07.038Z"
   },
   {
    "duration": 10,
    "start_time": "2022-04-17T07:27:07.050Z"
   },
   {
    "duration": 7,
    "start_time": "2022-04-17T07:27:07.062Z"
   },
   {
    "duration": 8,
    "start_time": "2022-04-17T07:27:07.071Z"
   },
   {
    "duration": 12,
    "start_time": "2022-04-17T07:27:07.081Z"
   },
   {
    "duration": 29,
    "start_time": "2022-04-17T07:27:07.095Z"
   },
   {
    "duration": 8,
    "start_time": "2022-04-17T07:27:07.125Z"
   },
   {
    "duration": 16,
    "start_time": "2022-04-17T07:27:07.135Z"
   },
   {
    "duration": 9,
    "start_time": "2022-04-17T07:27:07.153Z"
   },
   {
    "duration": 12,
    "start_time": "2022-04-17T07:27:07.165Z"
   },
   {
    "duration": 18,
    "start_time": "2022-04-17T07:27:07.178Z"
   },
   {
    "duration": 29,
    "start_time": "2022-04-17T07:27:07.198Z"
   },
   {
    "duration": 6,
    "start_time": "2022-04-17T07:27:07.228Z"
   },
   {
    "duration": 9,
    "start_time": "2022-04-17T07:27:07.236Z"
   },
   {
    "duration": 13,
    "start_time": "2022-04-17T07:27:07.247Z"
   },
   {
    "duration": 15,
    "start_time": "2022-04-17T07:27:07.262Z"
   },
   {
    "duration": 56,
    "start_time": "2022-04-17T07:27:07.279Z"
   },
   {
    "duration": 8,
    "start_time": "2022-04-17T07:27:07.337Z"
   },
   {
    "duration": 8,
    "start_time": "2022-04-17T07:27:07.347Z"
   },
   {
    "duration": 5,
    "start_time": "2022-04-17T07:27:07.357Z"
   },
   {
    "duration": 5,
    "start_time": "2022-04-17T07:27:10.698Z"
   },
   {
    "duration": 3,
    "start_time": "2022-04-17T07:27:11.522Z"
   },
   {
    "duration": 8,
    "start_time": "2022-04-17T07:27:38.193Z"
   },
   {
    "duration": 29,
    "start_time": "2022-04-17T07:28:15.388Z"
   },
   {
    "duration": 5,
    "start_time": "2022-04-17T07:29:16.753Z"
   },
   {
    "duration": 7,
    "start_time": "2022-04-17T07:29:24.761Z"
   },
   {
    "duration": 2,
    "start_time": "2022-04-17T07:29:51.066Z"
   },
   {
    "duration": 111,
    "start_time": "2022-04-17T07:29:51.070Z"
   },
   {
    "duration": 13,
    "start_time": "2022-04-17T07:29:51.182Z"
   },
   {
    "duration": 6,
    "start_time": "2022-04-17T07:29:51.196Z"
   },
   {
    "duration": 16,
    "start_time": "2022-04-17T07:29:51.204Z"
   },
   {
    "duration": 12,
    "start_time": "2022-04-17T07:29:51.221Z"
   },
   {
    "duration": 10,
    "start_time": "2022-04-17T07:29:51.235Z"
   },
   {
    "duration": 7,
    "start_time": "2022-04-17T07:29:51.247Z"
   },
   {
    "duration": 14,
    "start_time": "2022-04-17T07:29:51.255Z"
   },
   {
    "duration": 4,
    "start_time": "2022-04-17T07:29:51.271Z"
   },
   {
    "duration": 15,
    "start_time": "2022-04-17T07:29:51.276Z"
   },
   {
    "duration": 4,
    "start_time": "2022-04-17T07:29:51.292Z"
   },
   {
    "duration": 25,
    "start_time": "2022-04-17T07:29:51.298Z"
   },
   {
    "duration": 4,
    "start_time": "2022-04-17T07:29:51.326Z"
   },
   {
    "duration": 7,
    "start_time": "2022-04-17T07:29:51.331Z"
   },
   {
    "duration": 7,
    "start_time": "2022-04-17T07:29:51.340Z"
   },
   {
    "duration": 9,
    "start_time": "2022-04-17T07:29:51.349Z"
   },
   {
    "duration": 11,
    "start_time": "2022-04-17T07:29:51.359Z"
   },
   {
    "duration": 11,
    "start_time": "2022-04-17T07:29:51.371Z"
   },
   {
    "duration": 7,
    "start_time": "2022-04-17T07:29:51.384Z"
   },
   {
    "duration": 8,
    "start_time": "2022-04-17T07:29:51.392Z"
   },
   {
    "duration": 27,
    "start_time": "2022-04-17T07:29:51.401Z"
   },
   {
    "duration": 10,
    "start_time": "2022-04-17T07:29:51.429Z"
   },
   {
    "duration": 9,
    "start_time": "2022-04-17T07:29:51.441Z"
   },
   {
    "duration": 9,
    "start_time": "2022-04-17T07:29:51.452Z"
   },
   {
    "duration": 18,
    "start_time": "2022-04-17T07:29:51.462Z"
   },
   {
    "duration": 10,
    "start_time": "2022-04-17T07:29:51.482Z"
   },
   {
    "duration": 13,
    "start_time": "2022-04-17T07:29:51.493Z"
   },
   {
    "duration": 21,
    "start_time": "2022-04-17T07:29:51.508Z"
   },
   {
    "duration": 10,
    "start_time": "2022-04-17T07:29:51.530Z"
   },
   {
    "duration": 13,
    "start_time": "2022-04-17T07:29:51.541Z"
   },
   {
    "duration": 10,
    "start_time": "2022-04-17T07:29:51.555Z"
   },
   {
    "duration": 11,
    "start_time": "2022-04-17T07:29:51.566Z"
   },
   {
    "duration": 15,
    "start_time": "2022-04-17T07:29:51.579Z"
   },
   {
    "duration": 45,
    "start_time": "2022-04-17T07:29:51.596Z"
   },
   {
    "duration": 9,
    "start_time": "2022-04-17T07:29:51.643Z"
   },
   {
    "duration": 7,
    "start_time": "2022-04-17T07:29:51.654Z"
   },
   {
    "duration": 5,
    "start_time": "2022-04-17T07:29:51.662Z"
   },
   {
    "duration": 4,
    "start_time": "2022-04-17T07:29:53.119Z"
   },
   {
    "duration": 4,
    "start_time": "2022-04-17T07:29:56.312Z"
   },
   {
    "duration": 19,
    "start_time": "2022-04-17T07:30:16.971Z"
   },
   {
    "duration": 11,
    "start_time": "2022-04-17T07:30:23.602Z"
   },
   {
    "duration": 7,
    "start_time": "2022-04-17T07:31:08.955Z"
   },
   {
    "duration": 5,
    "start_time": "2022-04-17T07:32:31.022Z"
   },
   {
    "duration": 7,
    "start_time": "2022-04-17T07:32:31.534Z"
   },
   {
    "duration": 12,
    "start_time": "2022-04-17T07:35:43.660Z"
   },
   {
    "duration": 3,
    "start_time": "2022-04-17T07:36:00.962Z"
   },
   {
    "duration": 101,
    "start_time": "2022-04-17T07:36:00.967Z"
   },
   {
    "duration": 13,
    "start_time": "2022-04-17T07:36:01.070Z"
   },
   {
    "duration": 12,
    "start_time": "2022-04-17T07:36:01.085Z"
   },
   {
    "duration": 31,
    "start_time": "2022-04-17T07:36:01.099Z"
   },
   {
    "duration": 40,
    "start_time": "2022-04-17T07:36:01.132Z"
   },
   {
    "duration": 4,
    "start_time": "2022-04-17T07:36:01.174Z"
   },
   {
    "duration": 18,
    "start_time": "2022-04-17T07:36:01.180Z"
   },
   {
    "duration": 18,
    "start_time": "2022-04-17T07:36:01.199Z"
   },
   {
    "duration": 4,
    "start_time": "2022-04-17T07:36:01.219Z"
   },
   {
    "duration": 29,
    "start_time": "2022-04-17T07:36:01.225Z"
   },
   {
    "duration": 8,
    "start_time": "2022-04-17T07:36:01.256Z"
   },
   {
    "duration": 13,
    "start_time": "2022-04-17T07:36:01.265Z"
   },
   {
    "duration": 7,
    "start_time": "2022-04-17T07:36:01.282Z"
   },
   {
    "duration": 16,
    "start_time": "2022-04-17T07:36:01.290Z"
   },
   {
    "duration": 16,
    "start_time": "2022-04-17T07:36:01.308Z"
   },
   {
    "duration": 14,
    "start_time": "2022-04-17T07:36:01.325Z"
   },
   {
    "duration": 26,
    "start_time": "2022-04-17T07:36:01.341Z"
   },
   {
    "duration": 12,
    "start_time": "2022-04-17T07:36:01.368Z"
   },
   {
    "duration": 15,
    "start_time": "2022-04-17T07:36:01.381Z"
   },
   {
    "duration": 8,
    "start_time": "2022-04-17T07:36:01.398Z"
   },
   {
    "duration": 10,
    "start_time": "2022-04-17T07:36:01.407Z"
   },
   {
    "duration": 14,
    "start_time": "2022-04-17T07:36:01.418Z"
   },
   {
    "duration": 17,
    "start_time": "2022-04-17T07:36:01.433Z"
   },
   {
    "duration": 11,
    "start_time": "2022-04-17T07:36:01.451Z"
   },
   {
    "duration": 19,
    "start_time": "2022-04-17T07:36:01.463Z"
   },
   {
    "duration": 15,
    "start_time": "2022-04-17T07:36:01.483Z"
   },
   {
    "duration": 23,
    "start_time": "2022-04-17T07:36:01.500Z"
   },
   {
    "duration": 9,
    "start_time": "2022-04-17T07:36:06.073Z"
   },
   {
    "duration": 13,
    "start_time": "2022-04-17T07:36:07.940Z"
   },
   {
    "duration": 12,
    "start_time": "2022-04-17T07:36:21.112Z"
   },
   {
    "duration": 11,
    "start_time": "2022-04-17T07:37:07.187Z"
   },
   {
    "duration": 3,
    "start_time": "2022-04-17T07:37:26.792Z"
   },
   {
    "duration": 60,
    "start_time": "2022-04-17T07:37:26.797Z"
   },
   {
    "duration": 12,
    "start_time": "2022-04-17T07:37:26.859Z"
   },
   {
    "duration": 10,
    "start_time": "2022-04-17T07:37:26.873Z"
   },
   {
    "duration": 11,
    "start_time": "2022-04-17T07:37:26.885Z"
   },
   {
    "duration": 30,
    "start_time": "2022-04-17T07:37:26.898Z"
   },
   {
    "duration": 5,
    "start_time": "2022-04-17T07:37:26.930Z"
   },
   {
    "duration": 5,
    "start_time": "2022-04-17T07:37:26.937Z"
   },
   {
    "duration": 11,
    "start_time": "2022-04-17T07:37:26.943Z"
   },
   {
    "duration": 5,
    "start_time": "2022-04-17T07:37:26.955Z"
   },
   {
    "duration": 13,
    "start_time": "2022-04-17T07:37:26.961Z"
   },
   {
    "duration": 7,
    "start_time": "2022-04-17T07:37:26.976Z"
   },
   {
    "duration": 39,
    "start_time": "2022-04-17T07:37:26.984Z"
   },
   {
    "duration": 7,
    "start_time": "2022-04-17T07:37:27.026Z"
   },
   {
    "duration": 6,
    "start_time": "2022-04-17T07:37:27.035Z"
   },
   {
    "duration": 7,
    "start_time": "2022-04-17T07:37:27.043Z"
   },
   {
    "duration": 9,
    "start_time": "2022-04-17T07:37:27.051Z"
   },
   {
    "duration": 9,
    "start_time": "2022-04-17T07:37:27.062Z"
   },
   {
    "duration": 8,
    "start_time": "2022-04-17T07:37:27.072Z"
   },
   {
    "duration": 8,
    "start_time": "2022-04-17T07:37:27.082Z"
   },
   {
    "duration": 8,
    "start_time": "2022-04-17T07:37:27.092Z"
   },
   {
    "duration": 8,
    "start_time": "2022-04-17T07:37:27.102Z"
   },
   {
    "duration": 5,
    "start_time": "2022-04-17T07:37:27.123Z"
   },
   {
    "duration": 7,
    "start_time": "2022-04-17T07:37:27.130Z"
   },
   {
    "duration": 11,
    "start_time": "2022-04-17T07:37:27.138Z"
   },
   {
    "duration": 14,
    "start_time": "2022-04-17T07:37:27.150Z"
   },
   {
    "duration": 7,
    "start_time": "2022-04-17T07:37:27.165Z"
   },
   {
    "duration": 13,
    "start_time": "2022-04-17T07:37:27.173Z"
   },
   {
    "duration": 16,
    "start_time": "2022-04-17T07:37:27.187Z"
   },
   {
    "duration": 6,
    "start_time": "2022-04-17T07:37:27.222Z"
   },
   {
    "duration": 5,
    "start_time": "2022-04-17T07:37:27.229Z"
   },
   {
    "duration": 10,
    "start_time": "2022-04-17T07:37:27.236Z"
   },
   {
    "duration": 11,
    "start_time": "2022-04-17T07:37:27.248Z"
   },
   {
    "duration": 13,
    "start_time": "2022-04-17T07:37:27.261Z"
   },
   {
    "duration": 74,
    "start_time": "2022-04-17T07:37:27.276Z"
   },
   {
    "duration": 9,
    "start_time": "2022-04-17T07:37:27.352Z"
   },
   {
    "duration": 5,
    "start_time": "2022-04-17T07:37:27.363Z"
   },
   {
    "duration": 7,
    "start_time": "2022-04-17T07:37:27.370Z"
   },
   {
    "duration": 7,
    "start_time": "2022-04-17T07:37:27.378Z"
   },
   {
    "duration": 10,
    "start_time": "2022-04-17T07:37:27.387Z"
   },
   {
    "duration": 25,
    "start_time": "2022-04-17T07:37:27.400Z"
   },
   {
    "duration": 11,
    "start_time": "2022-04-17T07:37:27.427Z"
   },
   {
    "duration": 11,
    "start_time": "2022-04-17T07:37:29.773Z"
   },
   {
    "duration": 5,
    "start_time": "2022-04-17T07:40:00.419Z"
   },
   {
    "duration": 6,
    "start_time": "2022-04-17T07:41:32.742Z"
   },
   {
    "duration": 6,
    "start_time": "2022-04-17T07:43:00.166Z"
   },
   {
    "duration": 6,
    "start_time": "2022-04-17T07:43:17.819Z"
   },
   {
    "duration": 5,
    "start_time": "2022-04-17T07:47:51.525Z"
   },
   {
    "duration": 16,
    "start_time": "2022-04-17T07:48:17.272Z"
   },
   {
    "duration": 18,
    "start_time": "2022-04-17T07:48:30.674Z"
   },
   {
    "duration": 16,
    "start_time": "2022-04-17T07:48:41.346Z"
   },
   {
    "duration": 21,
    "start_time": "2022-04-17T07:55:05.948Z"
   },
   {
    "duration": 18,
    "start_time": "2022-04-17T07:55:36.351Z"
   },
   {
    "duration": 51,
    "start_time": "2022-04-17T07:56:10.877Z"
   },
   {
    "duration": 17,
    "start_time": "2022-04-17T07:56:31.019Z"
   },
   {
    "duration": 17,
    "start_time": "2022-04-17T07:56:47.709Z"
   },
   {
    "duration": 25,
    "start_time": "2022-04-17T07:57:38.704Z"
   },
   {
    "duration": 26,
    "start_time": "2022-04-17T07:58:37.444Z"
   },
   {
    "duration": 616,
    "start_time": "2022-04-18T07:39:44.495Z"
   },
   {
    "duration": 6276,
    "start_time": "2022-04-18T07:42:18.293Z"
   },
   {
    "duration": 245,
    "start_time": "2022-04-18T07:42:37.450Z"
   },
   {
    "duration": 554,
    "start_time": "2022-04-18T07:42:41.318Z"
   },
   {
    "duration": 142,
    "start_time": "2022-04-18T07:42:42.129Z"
   },
   {
    "duration": 111,
    "start_time": "2022-04-18T07:42:45.003Z"
   },
   {
    "duration": 97,
    "start_time": "2022-04-18T07:42:50.977Z"
   },
   {
    "duration": 93,
    "start_time": "2022-04-18T07:42:53.579Z"
   },
   {
    "duration": 98,
    "start_time": "2022-04-18T07:42:58.294Z"
   },
   {
    "duration": 92,
    "start_time": "2022-04-18T07:43:01.978Z"
   },
   {
    "duration": 85,
    "start_time": "2022-04-18T07:43:03.071Z"
   },
   {
    "duration": 108,
    "start_time": "2022-04-18T07:43:07.797Z"
   },
   {
    "duration": 3416,
    "start_time": "2022-04-18T07:43:26.763Z"
   },
   {
    "duration": 87,
    "start_time": "2022-04-18T07:43:30.181Z"
   },
   {
    "duration": 89,
    "start_time": "2022-04-18T07:43:30.270Z"
   },
   {
    "duration": 152,
    "start_time": "2022-04-18T07:43:30.361Z"
   },
   {
    "duration": 94,
    "start_time": "2022-04-18T07:43:30.515Z"
   },
   {
    "duration": 119,
    "start_time": "2022-04-18T07:43:30.610Z"
   },
   {
    "duration": 93,
    "start_time": "2022-04-18T07:43:30.730Z"
   },
   {
    "duration": 97,
    "start_time": "2022-04-18T07:43:30.825Z"
   },
   {
    "duration": 82,
    "start_time": "2022-04-18T07:43:30.924Z"
   },
   {
    "duration": 113,
    "start_time": "2022-04-18T07:43:31.009Z"
   },
   {
    "duration": 108,
    "start_time": "2022-04-18T07:43:31.123Z"
   },
   {
    "duration": 81,
    "start_time": "2022-04-18T07:43:31.232Z"
   },
   {
    "duration": 93,
    "start_time": "2022-04-18T07:43:31.315Z"
   },
   {
    "duration": 82,
    "start_time": "2022-04-18T07:43:31.410Z"
   },
   {
    "duration": 84,
    "start_time": "2022-04-18T07:43:31.494Z"
   },
   {
    "duration": 94,
    "start_time": "2022-04-18T07:43:31.580Z"
   },
   {
    "duration": 90,
    "start_time": "2022-04-18T07:43:31.676Z"
   },
   {
    "duration": 92,
    "start_time": "2022-04-18T07:43:31.768Z"
   },
   {
    "duration": 89,
    "start_time": "2022-04-18T07:43:31.862Z"
   },
   {
    "duration": 89,
    "start_time": "2022-04-18T07:43:31.954Z"
   },
   {
    "duration": 101,
    "start_time": "2022-04-18T07:43:32.045Z"
   },
   {
    "duration": 85,
    "start_time": "2022-04-18T07:43:32.148Z"
   },
   {
    "duration": 94,
    "start_time": "2022-04-18T07:43:32.234Z"
   },
   {
    "duration": 108,
    "start_time": "2022-04-18T07:43:32.330Z"
   },
   {
    "duration": 82,
    "start_time": "2022-04-18T07:43:32.440Z"
   },
   {
    "duration": 86,
    "start_time": "2022-04-18T07:43:32.525Z"
   },
   {
    "duration": 94,
    "start_time": "2022-04-18T07:43:32.613Z"
   },
   {
    "duration": 90,
    "start_time": "2022-04-18T07:43:32.710Z"
   },
   {
    "duration": 12,
    "start_time": "2022-04-18T07:43:32.802Z"
   },
   {
    "duration": 114,
    "start_time": "2022-04-18T07:43:32.815Z"
   },
   {
    "duration": 94,
    "start_time": "2022-04-18T07:43:32.931Z"
   },
   {
    "duration": 83,
    "start_time": "2022-04-18T07:43:33.027Z"
   },
   {
    "duration": 95,
    "start_time": "2022-04-18T07:43:33.111Z"
   },
   {
    "duration": 89,
    "start_time": "2022-04-18T07:43:33.208Z"
   },
   {
    "duration": 96,
    "start_time": "2022-04-18T07:43:33.299Z"
   },
   {
    "duration": 103,
    "start_time": "2022-04-18T07:43:33.397Z"
   },
   {
    "duration": 136,
    "start_time": "2022-04-18T07:43:33.502Z"
   },
   {
    "duration": 134,
    "start_time": "2022-04-18T07:43:33.640Z"
   },
   {
    "duration": 163,
    "start_time": "2022-04-18T07:43:33.776Z"
   },
   {
    "duration": 99,
    "start_time": "2022-04-18T07:43:33.941Z"
   },
   {
    "duration": 80,
    "start_time": "2022-04-18T07:43:34.042Z"
   },
   {
    "duration": 83,
    "start_time": "2022-04-18T07:43:34.124Z"
   },
   {
    "duration": 97,
    "start_time": "2022-04-18T07:43:34.209Z"
   },
   {
    "duration": 97,
    "start_time": "2022-04-18T07:43:34.308Z"
   },
   {
    "duration": 102,
    "start_time": "2022-04-18T07:43:34.407Z"
   },
   {
    "duration": 101,
    "start_time": "2022-04-18T07:43:34.510Z"
   },
   {
    "duration": 91,
    "start_time": "2022-04-18T07:43:34.613Z"
   },
   {
    "duration": 97,
    "start_time": "2022-04-18T07:43:34.705Z"
   },
   {
    "duration": 87,
    "start_time": "2022-04-18T07:43:34.804Z"
   },
   {
    "duration": 96,
    "start_time": "2022-04-18T07:43:34.893Z"
   },
   {
    "duration": 98,
    "start_time": "2022-04-18T07:43:34.991Z"
   },
   {
    "duration": 94,
    "start_time": "2022-04-18T07:43:35.091Z"
   },
   {
    "duration": 105,
    "start_time": "2022-04-18T07:43:35.187Z"
   },
   {
    "duration": 100,
    "start_time": "2022-04-18T07:43:35.294Z"
   },
   {
    "duration": 100,
    "start_time": "2022-04-18T07:48:23.647Z"
   },
   {
    "duration": 92,
    "start_time": "2022-04-18T08:06:48.631Z"
   },
   {
    "duration": 97,
    "start_time": "2022-04-18T08:07:54.412Z"
   },
   {
    "duration": 89,
    "start_time": "2022-04-18T08:08:14.527Z"
   },
   {
    "duration": 84,
    "start_time": "2022-04-18T08:08:14.618Z"
   },
   {
    "duration": 133,
    "start_time": "2022-04-18T08:08:14.704Z"
   },
   {
    "duration": 88,
    "start_time": "2022-04-18T08:08:14.839Z"
   },
   {
    "duration": 91,
    "start_time": "2022-04-18T08:08:14.928Z"
   },
   {
    "duration": 89,
    "start_time": "2022-04-18T08:08:15.020Z"
   },
   {
    "duration": 101,
    "start_time": "2022-04-18T08:08:15.111Z"
   },
   {
    "duration": 86,
    "start_time": "2022-04-18T08:08:15.213Z"
   },
   {
    "duration": 83,
    "start_time": "2022-04-18T08:08:15.301Z"
   },
   {
    "duration": 99,
    "start_time": "2022-04-18T08:08:15.388Z"
   },
   {
    "duration": 86,
    "start_time": "2022-04-18T08:08:15.489Z"
   },
   {
    "duration": 102,
    "start_time": "2022-04-18T08:08:15.577Z"
   },
   {
    "duration": 86,
    "start_time": "2022-04-18T08:08:15.680Z"
   },
   {
    "duration": 86,
    "start_time": "2022-04-18T08:08:15.768Z"
   },
   {
    "duration": 93,
    "start_time": "2022-04-18T08:08:15.856Z"
   },
   {
    "duration": 85,
    "start_time": "2022-04-18T08:08:15.951Z"
   },
   {
    "duration": 93,
    "start_time": "2022-04-18T08:08:16.037Z"
   },
   {
    "duration": 82,
    "start_time": "2022-04-18T08:08:16.132Z"
   },
   {
    "duration": 82,
    "start_time": "2022-04-18T08:08:16.216Z"
   },
   {
    "duration": 96,
    "start_time": "2022-04-18T08:08:16.300Z"
   },
   {
    "duration": 89,
    "start_time": "2022-04-18T08:08:16.398Z"
   },
   {
    "duration": 89,
    "start_time": "2022-04-18T08:08:16.489Z"
   },
   {
    "duration": 82,
    "start_time": "2022-04-18T08:08:16.580Z"
   },
   {
    "duration": 84,
    "start_time": "2022-04-18T08:08:16.664Z"
   },
   {
    "duration": 114,
    "start_time": "2022-04-18T08:08:16.749Z"
   },
   {
    "duration": 86,
    "start_time": "2022-04-18T08:08:16.865Z"
   },
   {
    "duration": 97,
    "start_time": "2022-04-18T08:08:16.952Z"
   },
   {
    "duration": 9,
    "start_time": "2022-04-18T08:08:17.052Z"
   },
   {
    "duration": 85,
    "start_time": "2022-04-18T08:08:17.063Z"
   },
   {
    "duration": 91,
    "start_time": "2022-04-18T08:08:21.269Z"
   },
   {
    "duration": 100,
    "start_time": "2022-04-18T08:08:22.051Z"
   },
   {
    "duration": 90,
    "start_time": "2022-04-18T08:08:23.969Z"
   },
   {
    "duration": 837,
    "start_time": "2022-04-18T12:36:33.292Z"
   },
   {
    "duration": 0,
    "start_time": "2022-04-18T12:36:34.132Z"
   },
   {
    "duration": 0,
    "start_time": "2022-04-18T12:36:34.134Z"
   },
   {
    "duration": 0,
    "start_time": "2022-04-18T12:36:34.135Z"
   },
   {
    "duration": 0,
    "start_time": "2022-04-18T12:36:34.136Z"
   },
   {
    "duration": 0,
    "start_time": "2022-04-18T12:36:34.137Z"
   },
   {
    "duration": 0,
    "start_time": "2022-04-18T12:36:34.139Z"
   },
   {
    "duration": 0,
    "start_time": "2022-04-18T12:36:34.140Z"
   },
   {
    "duration": 0,
    "start_time": "2022-04-18T12:36:34.141Z"
   },
   {
    "duration": 0,
    "start_time": "2022-04-18T12:36:34.143Z"
   },
   {
    "duration": 0,
    "start_time": "2022-04-18T12:36:34.144Z"
   },
   {
    "duration": 0,
    "start_time": "2022-04-18T12:36:34.145Z"
   },
   {
    "duration": 0,
    "start_time": "2022-04-18T12:36:34.146Z"
   },
   {
    "duration": 0,
    "start_time": "2022-04-18T12:36:34.147Z"
   },
   {
    "duration": 0,
    "start_time": "2022-04-18T12:36:34.148Z"
   },
   {
    "duration": 0,
    "start_time": "2022-04-18T12:36:34.149Z"
   },
   {
    "duration": 0,
    "start_time": "2022-04-18T12:36:34.150Z"
   },
   {
    "duration": 0,
    "start_time": "2022-04-18T12:36:34.152Z"
   },
   {
    "duration": 0,
    "start_time": "2022-04-18T12:36:34.153Z"
   },
   {
    "duration": 0,
    "start_time": "2022-04-18T12:36:34.154Z"
   },
   {
    "duration": 0,
    "start_time": "2022-04-18T12:36:34.154Z"
   },
   {
    "duration": 0,
    "start_time": "2022-04-18T12:36:34.155Z"
   },
   {
    "duration": 0,
    "start_time": "2022-04-18T12:36:34.156Z"
   },
   {
    "duration": 0,
    "start_time": "2022-04-18T12:36:34.158Z"
   },
   {
    "duration": 0,
    "start_time": "2022-04-18T12:36:34.159Z"
   },
   {
    "duration": 0,
    "start_time": "2022-04-18T12:36:34.161Z"
   },
   {
    "duration": 0,
    "start_time": "2022-04-18T12:36:34.162Z"
   },
   {
    "duration": 0,
    "start_time": "2022-04-18T12:36:34.163Z"
   },
   {
    "duration": 0,
    "start_time": "2022-04-18T12:36:34.165Z"
   },
   {
    "duration": 0,
    "start_time": "2022-04-18T12:36:34.166Z"
   },
   {
    "duration": 0,
    "start_time": "2022-04-18T12:36:34.223Z"
   },
   {
    "duration": 0,
    "start_time": "2022-04-18T12:36:34.224Z"
   },
   {
    "duration": 0,
    "start_time": "2022-04-18T12:36:34.226Z"
   },
   {
    "duration": 0,
    "start_time": "2022-04-18T12:36:34.228Z"
   },
   {
    "duration": 0,
    "start_time": "2022-04-18T12:36:34.229Z"
   },
   {
    "duration": 0,
    "start_time": "2022-04-18T12:36:34.230Z"
   },
   {
    "duration": 0,
    "start_time": "2022-04-18T12:36:34.232Z"
   },
   {
    "duration": 0,
    "start_time": "2022-04-18T12:36:34.233Z"
   },
   {
    "duration": 0,
    "start_time": "2022-04-18T12:36:34.235Z"
   },
   {
    "duration": 0,
    "start_time": "2022-04-18T12:36:34.236Z"
   },
   {
    "duration": 0,
    "start_time": "2022-04-18T12:36:34.237Z"
   },
   {
    "duration": 0,
    "start_time": "2022-04-18T12:36:34.239Z"
   },
   {
    "duration": 0,
    "start_time": "2022-04-18T12:36:34.240Z"
   },
   {
    "duration": 0,
    "start_time": "2022-04-18T12:36:34.241Z"
   },
   {
    "duration": 0,
    "start_time": "2022-04-18T12:36:34.243Z"
   },
   {
    "duration": 0,
    "start_time": "2022-04-18T12:36:34.244Z"
   },
   {
    "duration": 0,
    "start_time": "2022-04-18T12:36:34.246Z"
   },
   {
    "duration": 0,
    "start_time": "2022-04-18T12:36:34.247Z"
   },
   {
    "duration": 0,
    "start_time": "2022-04-18T12:36:34.249Z"
   },
   {
    "duration": 0,
    "start_time": "2022-04-18T12:36:34.250Z"
   },
   {
    "duration": 0,
    "start_time": "2022-04-18T12:36:34.252Z"
   },
   {
    "duration": 5817,
    "start_time": "2022-04-18T12:37:33.051Z"
   },
   {
    "duration": 2456,
    "start_time": "2022-04-18T12:37:44.898Z"
   },
   {
    "duration": 189,
    "start_time": "2022-04-18T12:37:47.356Z"
   },
   {
    "duration": 534,
    "start_time": "2022-04-18T12:37:47.547Z"
   },
   {
    "duration": 148,
    "start_time": "2022-04-18T12:37:48.084Z"
   },
   {
    "duration": 102,
    "start_time": "2022-04-18T12:37:48.234Z"
   },
   {
    "duration": 108,
    "start_time": "2022-04-18T12:37:48.338Z"
   },
   {
    "duration": 96,
    "start_time": "2022-04-18T12:37:48.448Z"
   },
   {
    "duration": 107,
    "start_time": "2022-04-18T12:37:48.546Z"
   },
   {
    "duration": 89,
    "start_time": "2022-04-18T12:37:48.655Z"
   },
   {
    "duration": 88,
    "start_time": "2022-04-18T12:37:48.747Z"
   },
   {
    "duration": 99,
    "start_time": "2022-04-18T12:37:48.837Z"
   },
   {
    "duration": 83,
    "start_time": "2022-04-18T12:37:48.938Z"
   },
   {
    "duration": 110,
    "start_time": "2022-04-18T12:37:49.023Z"
   },
   {
    "duration": 98,
    "start_time": "2022-04-18T12:37:49.135Z"
   },
   {
    "duration": 88,
    "start_time": "2022-04-18T12:37:49.235Z"
   },
   {
    "duration": 92,
    "start_time": "2022-04-18T12:37:49.325Z"
   },
   {
    "duration": 94,
    "start_time": "2022-04-18T12:37:49.418Z"
   },
   {
    "duration": 93,
    "start_time": "2022-04-18T12:37:49.514Z"
   },
   {
    "duration": 85,
    "start_time": "2022-04-18T12:37:49.609Z"
   },
   {
    "duration": 88,
    "start_time": "2022-04-18T12:37:49.696Z"
   },
   {
    "duration": 91,
    "start_time": "2022-04-18T12:37:49.786Z"
   },
   {
    "duration": 85,
    "start_time": "2022-04-18T12:37:49.879Z"
   },
   {
    "duration": 89,
    "start_time": "2022-04-18T12:37:49.965Z"
   },
   {
    "duration": 103,
    "start_time": "2022-04-18T12:37:50.056Z"
   },
   {
    "duration": 96,
    "start_time": "2022-04-18T12:37:50.161Z"
   },
   {
    "duration": 100,
    "start_time": "2022-04-18T12:37:50.259Z"
   },
   {
    "duration": 104,
    "start_time": "2022-04-18T12:37:50.361Z"
   },
   {
    "duration": 105,
    "start_time": "2022-04-18T12:37:50.469Z"
   },
   {
    "duration": 102,
    "start_time": "2022-04-18T12:37:50.576Z"
   },
   {
    "duration": 88,
    "start_time": "2022-04-18T12:37:50.680Z"
   },
   {
    "duration": 93,
    "start_time": "2022-04-18T12:37:50.770Z"
   },
   {
    "duration": 94,
    "start_time": "2022-04-18T12:37:50.865Z"
   },
   {
    "duration": 141,
    "start_time": "2022-04-18T12:37:50.960Z"
   },
   {
    "duration": 105,
    "start_time": "2022-04-18T12:37:51.102Z"
   },
   {
    "duration": 103,
    "start_time": "2022-04-18T12:37:51.209Z"
   },
   {
    "duration": 97,
    "start_time": "2022-04-18T12:37:51.313Z"
   },
   {
    "duration": 88,
    "start_time": "2022-04-18T12:37:51.412Z"
   },
   {
    "duration": 93,
    "start_time": "2022-04-18T12:37:51.502Z"
   },
   {
    "duration": 81,
    "start_time": "2022-04-18T12:37:51.597Z"
   },
   {
    "duration": 86,
    "start_time": "2022-04-18T12:37:51.680Z"
   },
   {
    "duration": 125,
    "start_time": "2022-04-18T12:37:51.768Z"
   },
   {
    "duration": 110,
    "start_time": "2022-04-18T12:37:51.894Z"
   },
   {
    "duration": 103,
    "start_time": "2022-04-18T12:37:52.007Z"
   },
   {
    "duration": 96,
    "start_time": "2022-04-18T12:37:52.112Z"
   },
   {
    "duration": 126,
    "start_time": "2022-04-18T12:37:52.210Z"
   },
   {
    "duration": 103,
    "start_time": "2022-04-18T12:37:52.338Z"
   },
   {
    "duration": 84,
    "start_time": "2022-04-18T12:37:52.442Z"
   },
   {
    "duration": 91,
    "start_time": "2022-04-18T12:37:52.528Z"
   },
   {
    "duration": 90,
    "start_time": "2022-04-18T12:37:52.621Z"
   },
   {
    "duration": 99,
    "start_time": "2022-04-18T12:37:52.712Z"
   },
   {
    "duration": 104,
    "start_time": "2022-04-18T12:37:52.812Z"
   },
   {
    "duration": 92,
    "start_time": "2022-04-18T12:37:52.918Z"
   },
   {
    "duration": 1028,
    "start_time": "2022-04-18T12:38:24.406Z"
   },
   {
    "duration": 202,
    "start_time": "2022-04-18T12:40:03.926Z"
   },
   {
    "duration": 101,
    "start_time": "2022-04-18T12:44:17.995Z"
   },
   {
    "duration": 134,
    "start_time": "2022-04-18T12:56:49.035Z"
   },
   {
    "duration": 117,
    "start_time": "2022-04-18T12:57:03.180Z"
   },
   {
    "duration": 104,
    "start_time": "2022-04-18T12:58:11.646Z"
   },
   {
    "duration": 97,
    "start_time": "2022-04-18T12:59:33.181Z"
   },
   {
    "duration": 86,
    "start_time": "2022-04-18T12:59:39.347Z"
   },
   {
    "duration": 115,
    "start_time": "2022-04-18T13:02:40.569Z"
   },
   {
    "duration": 85,
    "start_time": "2022-04-18T13:02:48.329Z"
   },
   {
    "duration": 118,
    "start_time": "2022-04-18T13:02:55.313Z"
   },
   {
    "duration": 83,
    "start_time": "2022-04-18T13:05:59.046Z"
   },
   {
    "duration": 85,
    "start_time": "2022-04-18T13:06:20.951Z"
   },
   {
    "duration": 94,
    "start_time": "2022-04-18T13:08:19.092Z"
   },
   {
    "duration": 93,
    "start_time": "2022-04-18T13:08:42.552Z"
   },
   {
    "duration": 91,
    "start_time": "2022-04-18T13:09:42.102Z"
   },
   {
    "duration": 112,
    "start_time": "2022-04-18T13:12:43.868Z"
   },
   {
    "duration": 143,
    "start_time": "2022-04-18T13:16:36.307Z"
   },
   {
    "duration": 96,
    "start_time": "2022-04-18T13:16:53.224Z"
   },
   {
    "duration": 142,
    "start_time": "2022-04-18T13:16:59.848Z"
   },
   {
    "duration": 95,
    "start_time": "2022-04-18T13:17:00.579Z"
   },
   {
    "duration": 186,
    "start_time": "2022-04-18T13:18:52.826Z"
   },
   {
    "duration": 88,
    "start_time": "2022-04-18T13:22:11.982Z"
   },
   {
    "duration": 105,
    "start_time": "2022-04-18T13:22:33.319Z"
   },
   {
    "duration": 88,
    "start_time": "2022-04-18T13:22:56.696Z"
   },
   {
    "duration": 91,
    "start_time": "2022-04-18T13:24:54.785Z"
   },
   {
    "duration": 105,
    "start_time": "2022-04-18T13:25:05.753Z"
   },
   {
    "duration": 2674,
    "start_time": "2022-04-18T13:25:32.041Z"
   },
   {
    "duration": 90,
    "start_time": "2022-04-18T13:25:34.718Z"
   },
   {
    "duration": 95,
    "start_time": "2022-04-18T13:25:34.809Z"
   },
   {
    "duration": 150,
    "start_time": "2022-04-18T13:25:34.906Z"
   },
   {
    "duration": 98,
    "start_time": "2022-04-18T13:25:35.058Z"
   },
   {
    "duration": 100,
    "start_time": "2022-04-18T13:25:35.157Z"
   },
   {
    "duration": 95,
    "start_time": "2022-04-18T13:25:35.258Z"
   },
   {
    "duration": 102,
    "start_time": "2022-04-18T13:25:35.354Z"
   },
   {
    "duration": 83,
    "start_time": "2022-04-18T13:25:35.457Z"
   },
   {
    "duration": 83,
    "start_time": "2022-04-18T13:25:35.542Z"
   },
   {
    "duration": 103,
    "start_time": "2022-04-18T13:25:35.627Z"
   },
   {
    "duration": 89,
    "start_time": "2022-04-18T13:25:35.732Z"
   },
   {
    "duration": 98,
    "start_time": "2022-04-18T13:25:35.823Z"
   },
   {
    "duration": 86,
    "start_time": "2022-04-18T13:25:35.924Z"
   },
   {
    "duration": 84,
    "start_time": "2022-04-18T13:25:36.011Z"
   },
   {
    "duration": 100,
    "start_time": "2022-04-18T13:25:36.097Z"
   },
   {
    "duration": 85,
    "start_time": "2022-04-18T13:25:36.199Z"
   },
   {
    "duration": 90,
    "start_time": "2022-04-18T13:25:36.286Z"
   },
   {
    "duration": 86,
    "start_time": "2022-04-18T13:25:36.377Z"
   },
   {
    "duration": 86,
    "start_time": "2022-04-18T13:25:36.465Z"
   },
   {
    "duration": 102,
    "start_time": "2022-04-18T13:25:36.552Z"
   },
   {
    "duration": 108,
    "start_time": "2022-04-18T13:25:36.655Z"
   },
   {
    "duration": 107,
    "start_time": "2022-04-18T13:25:36.765Z"
   },
   {
    "duration": 85,
    "start_time": "2022-04-18T13:25:36.874Z"
   },
   {
    "duration": 97,
    "start_time": "2022-04-18T13:25:36.960Z"
   },
   {
    "duration": 114,
    "start_time": "2022-04-18T13:25:37.059Z"
   },
   {
    "duration": 91,
    "start_time": "2022-04-18T13:25:37.175Z"
   },
   {
    "duration": 120,
    "start_time": "2022-04-18T13:25:37.268Z"
   },
   {
    "duration": 97,
    "start_time": "2022-04-18T13:25:37.389Z"
   },
   {
    "duration": 95,
    "start_time": "2022-04-18T13:25:37.488Z"
   },
   {
    "duration": 99,
    "start_time": "2022-04-18T13:25:37.584Z"
   },
   {
    "duration": 89,
    "start_time": "2022-04-18T13:25:37.684Z"
   },
   {
    "duration": 229,
    "start_time": "2022-04-18T13:25:37.775Z"
   },
   {
    "duration": 103,
    "start_time": "2022-04-18T13:25:38.006Z"
   },
   {
    "duration": 105,
    "start_time": "2022-04-18T13:25:38.111Z"
   },
   {
    "duration": 98,
    "start_time": "2022-04-18T13:25:38.218Z"
   },
   {
    "duration": 89,
    "start_time": "2022-04-18T13:25:38.317Z"
   },
   {
    "duration": 97,
    "start_time": "2022-04-18T13:25:38.408Z"
   },
   {
    "duration": 113,
    "start_time": "2022-04-18T13:25:38.507Z"
   },
   {
    "duration": 122,
    "start_time": "2022-04-18T13:25:38.622Z"
   },
   {
    "duration": 94,
    "start_time": "2022-04-18T13:25:38.748Z"
   },
   {
    "duration": 96,
    "start_time": "2022-04-18T13:25:38.843Z"
   },
   {
    "duration": 91,
    "start_time": "2022-04-18T13:25:38.941Z"
   },
   {
    "duration": 107,
    "start_time": "2022-04-18T13:25:39.033Z"
   },
   {
    "duration": 105,
    "start_time": "2022-04-18T13:25:39.141Z"
   },
   {
    "duration": 87,
    "start_time": "2022-04-18T13:25:39.247Z"
   },
   {
    "duration": 97,
    "start_time": "2022-04-18T13:25:39.336Z"
   },
   {
    "duration": 96,
    "start_time": "2022-04-18T13:25:39.435Z"
   },
   {
    "duration": 96,
    "start_time": "2022-04-18T13:25:39.532Z"
   },
   {
    "duration": 100,
    "start_time": "2022-04-18T13:25:39.630Z"
   },
   {
    "duration": 98,
    "start_time": "2022-04-18T13:25:39.732Z"
   },
   {
    "duration": 97,
    "start_time": "2022-04-18T13:25:39.832Z"
   },
   {
    "duration": 98,
    "start_time": "2022-04-18T13:25:39.931Z"
   },
   {
    "duration": 83,
    "start_time": "2022-04-18T13:25:40.031Z"
   },
   {
    "duration": 96,
    "start_time": "2022-04-18T13:25:40.116Z"
   },
   {
    "duration": 146,
    "start_time": "2022-04-18T13:25:40.214Z"
   },
   {
    "duration": 160,
    "start_time": "2022-04-18T13:25:40.362Z"
   },
   {
    "duration": 107,
    "start_time": "2022-04-18T13:26:00.328Z"
   },
   {
    "duration": 96,
    "start_time": "2022-04-18T13:26:02.103Z"
   },
   {
    "duration": 107,
    "start_time": "2022-04-18T13:31:38.206Z"
   },
   {
    "duration": 642,
    "start_time": "2022-04-18T13:37:16.000Z"
   },
   {
    "duration": 295,
    "start_time": "2022-04-18T13:37:20.657Z"
   },
   {
    "duration": 109,
    "start_time": "2022-04-18T13:37:37.953Z"
   },
   {
    "duration": 123,
    "start_time": "2022-04-18T13:38:40.864Z"
   },
   {
    "duration": 129,
    "start_time": "2022-04-18T13:39:00.691Z"
   },
   {
    "duration": 128,
    "start_time": "2022-04-18T13:39:18.617Z"
   },
   {
    "duration": 190,
    "start_time": "2022-04-18T13:41:37.750Z"
   },
   {
    "duration": 108,
    "start_time": "2022-04-18T13:42:17.367Z"
   },
   {
    "duration": 107,
    "start_time": "2022-04-18T13:42:50.047Z"
   },
   {
    "duration": 2879,
    "start_time": "2022-04-18T13:47:34.730Z"
   },
   {
    "duration": 112,
    "start_time": "2022-04-18T13:48:03.038Z"
   },
   {
    "duration": 109,
    "start_time": "2022-04-18T13:48:18.036Z"
   },
   {
    "duration": 98,
    "start_time": "2022-04-18T13:49:23.604Z"
   },
   {
    "duration": 115,
    "start_time": "2022-04-18T13:53:03.081Z"
   },
   {
    "duration": 110,
    "start_time": "2022-04-18T13:53:26.906Z"
   },
   {
    "duration": 10,
    "start_time": "2022-04-18T14:02:12.477Z"
   },
   {
    "duration": 98,
    "start_time": "2022-04-18T14:03:30.140Z"
   },
   {
    "duration": 96,
    "start_time": "2022-04-18T14:03:35.286Z"
   },
   {
    "duration": 91,
    "start_time": "2022-04-18T14:04:59.732Z"
   },
   {
    "duration": 100,
    "start_time": "2022-04-18T14:05:16.785Z"
   },
   {
    "duration": 92,
    "start_time": "2022-04-18T14:05:22.266Z"
   },
   {
    "duration": 95,
    "start_time": "2022-04-18T14:06:20.555Z"
   },
   {
    "duration": 8,
    "start_time": "2022-04-18T14:07:44.440Z"
   },
   {
    "duration": 99,
    "start_time": "2022-04-18T14:07:45.116Z"
   },
   {
    "duration": 105,
    "start_time": "2022-04-18T14:07:51.293Z"
   },
   {
    "duration": 90,
    "start_time": "2022-04-18T14:07:58.700Z"
   },
   {
    "duration": 114,
    "start_time": "2022-04-18T14:08:02.355Z"
   },
   {
    "duration": 124,
    "start_time": "2022-04-18T14:13:05.168Z"
   },
   {
    "duration": 9,
    "start_time": "2022-04-18T14:23:20.616Z"
   },
   {
    "duration": 99,
    "start_time": "2022-04-18T14:24:06.708Z"
   },
   {
    "duration": 101,
    "start_time": "2022-04-18T14:24:13.935Z"
   },
   {
    "duration": 7,
    "start_time": "2022-04-18T14:26:59.732Z"
   },
   {
    "duration": 106,
    "start_time": "2022-04-18T14:27:00.144Z"
   },
   {
    "duration": 104,
    "start_time": "2022-04-18T14:27:01.237Z"
   },
   {
    "duration": 109,
    "start_time": "2022-04-18T14:44:38.410Z"
   },
   {
    "duration": 99,
    "start_time": "2022-04-18T14:44:54.456Z"
   },
   {
    "duration": 3129,
    "start_time": "2022-04-18T14:45:01.642Z"
   },
   {
    "duration": 93,
    "start_time": "2022-04-18T14:45:04.773Z"
   },
   {
    "duration": 81,
    "start_time": "2022-04-18T14:45:04.867Z"
   },
   {
    "duration": 535,
    "start_time": "2022-04-18T14:45:04.951Z"
   },
   {
    "duration": 101,
    "start_time": "2022-04-18T14:45:05.488Z"
   },
   {
    "duration": 88,
    "start_time": "2022-04-18T14:45:05.591Z"
   },
   {
    "duration": 118,
    "start_time": "2022-04-18T14:45:05.682Z"
   },
   {
    "duration": 159,
    "start_time": "2022-04-18T14:45:05.802Z"
   },
   {
    "duration": 125,
    "start_time": "2022-04-18T14:45:05.963Z"
   },
   {
    "duration": 92,
    "start_time": "2022-04-18T14:45:06.092Z"
   },
   {
    "duration": 109,
    "start_time": "2022-04-18T14:45:06.186Z"
   },
   {
    "duration": 106,
    "start_time": "2022-04-18T14:45:06.296Z"
   },
   {
    "duration": 107,
    "start_time": "2022-04-18T14:45:06.405Z"
   },
   {
    "duration": 90,
    "start_time": "2022-04-18T14:45:06.514Z"
   },
   {
    "duration": 89,
    "start_time": "2022-04-18T14:45:06.605Z"
   },
   {
    "duration": 95,
    "start_time": "2022-04-18T14:45:06.696Z"
   },
   {
    "duration": 91,
    "start_time": "2022-04-18T14:45:06.793Z"
   },
   {
    "duration": 90,
    "start_time": "2022-04-18T14:45:06.887Z"
   },
   {
    "duration": 100,
    "start_time": "2022-04-18T14:45:06.979Z"
   },
   {
    "duration": 94,
    "start_time": "2022-04-18T14:45:07.081Z"
   },
   {
    "duration": 124,
    "start_time": "2022-04-18T14:45:07.178Z"
   },
   {
    "duration": 95,
    "start_time": "2022-04-18T14:45:07.304Z"
   },
   {
    "duration": 98,
    "start_time": "2022-04-18T14:45:07.400Z"
   },
   {
    "duration": 116,
    "start_time": "2022-04-18T14:45:07.500Z"
   },
   {
    "duration": 94,
    "start_time": "2022-04-18T14:45:07.618Z"
   },
   {
    "duration": 97,
    "start_time": "2022-04-18T14:45:07.714Z"
   },
   {
    "duration": 98,
    "start_time": "2022-04-18T14:45:07.812Z"
   },
   {
    "duration": 108,
    "start_time": "2022-04-18T14:45:07.914Z"
   },
   {
    "duration": 131,
    "start_time": "2022-04-18T14:45:08.024Z"
   },
   {
    "duration": 102,
    "start_time": "2022-04-18T14:45:08.157Z"
   },
   {
    "duration": 113,
    "start_time": "2022-04-18T14:45:08.261Z"
   },
   {
    "duration": 165,
    "start_time": "2022-04-18T14:45:08.376Z"
   },
   {
    "duration": 125,
    "start_time": "2022-04-18T14:45:08.543Z"
   },
   {
    "duration": 98,
    "start_time": "2022-04-18T14:45:08.670Z"
   },
   {
    "duration": 116,
    "start_time": "2022-04-18T14:45:08.769Z"
   },
   {
    "duration": 96,
    "start_time": "2022-04-18T14:45:08.888Z"
   },
   {
    "duration": 96,
    "start_time": "2022-04-18T14:45:08.987Z"
   },
   {
    "duration": 107,
    "start_time": "2022-04-18T14:45:09.085Z"
   },
   {
    "duration": 107,
    "start_time": "2022-04-18T14:45:09.194Z"
   },
   {
    "duration": 94,
    "start_time": "2022-04-18T14:45:09.304Z"
   },
   {
    "duration": 99,
    "start_time": "2022-04-18T14:45:09.400Z"
   },
   {
    "duration": 86,
    "start_time": "2022-04-18T14:45:09.501Z"
   },
   {
    "duration": 92,
    "start_time": "2022-04-18T14:45:09.589Z"
   },
   {
    "duration": 95,
    "start_time": "2022-04-18T14:45:09.682Z"
   },
   {
    "duration": 87,
    "start_time": "2022-04-18T14:45:09.779Z"
   },
   {
    "duration": 89,
    "start_time": "2022-04-18T14:45:09.868Z"
   },
   {
    "duration": 91,
    "start_time": "2022-04-18T14:45:09.959Z"
   },
   {
    "duration": 98,
    "start_time": "2022-04-18T14:45:10.051Z"
   },
   {
    "duration": 99,
    "start_time": "2022-04-18T14:45:10.150Z"
   },
   {
    "duration": 113,
    "start_time": "2022-04-18T14:45:10.251Z"
   },
   {
    "duration": 123,
    "start_time": "2022-04-18T14:45:10.367Z"
   },
   {
    "duration": 120,
    "start_time": "2022-04-18T14:45:10.492Z"
   },
   {
    "duration": 134,
    "start_time": "2022-04-18T14:45:10.613Z"
   },
   {
    "duration": 95,
    "start_time": "2022-04-18T14:45:10.749Z"
   },
   {
    "duration": 108,
    "start_time": "2022-04-18T14:45:10.847Z"
   },
   {
    "duration": 178,
    "start_time": "2022-04-18T14:45:10.958Z"
   },
   {
    "duration": 96,
    "start_time": "2022-04-18T14:45:11.139Z"
   },
   {
    "duration": 107,
    "start_time": "2022-04-18T14:45:11.237Z"
   },
   {
    "duration": 112,
    "start_time": "2022-04-18T14:45:11.346Z"
   },
   {
    "duration": 151,
    "start_time": "2022-04-18T14:45:11.461Z"
   },
   {
    "duration": 128,
    "start_time": "2022-04-18T14:45:11.614Z"
   },
   {
    "duration": 105,
    "start_time": "2022-04-18T14:45:11.743Z"
   },
   {
    "duration": 103,
    "start_time": "2022-04-18T14:45:11.850Z"
   },
   {
    "duration": 97,
    "start_time": "2022-04-18T14:45:11.954Z"
   },
   {
    "duration": 94,
    "start_time": "2022-04-18T14:45:12.053Z"
   },
   {
    "duration": 83,
    "start_time": "2022-04-18T14:46:14.111Z"
   },
   {
    "duration": 102,
    "start_time": "2022-04-18T14:46:51.348Z"
   },
   {
    "duration": 142,
    "start_time": "2022-04-18T14:49:17.112Z"
   },
   {
    "duration": 186,
    "start_time": "2022-04-18T14:49:25.127Z"
   },
   {
    "duration": 164,
    "start_time": "2022-04-18T14:58:45.451Z"
   },
   {
    "duration": 131,
    "start_time": "2022-04-18T15:01:11.308Z"
   },
   {
    "duration": 120,
    "start_time": "2022-04-18T15:02:49.324Z"
   },
   {
    "duration": 2904,
    "start_time": "2022-04-18T15:14:39.009Z"
   },
   {
    "duration": 90,
    "start_time": "2022-04-18T15:14:54.917Z"
   },
   {
    "duration": 99,
    "start_time": "2022-04-18T15:15:18.585Z"
   },
   {
    "duration": 131,
    "start_time": "2022-04-18T15:15:32.703Z"
   },
   {
    "duration": 98,
    "start_time": "2022-04-18T15:16:55.398Z"
   },
   {
    "duration": 1631,
    "start_time": "2022-04-18T15:16:57.992Z"
   },
   {
    "duration": 134,
    "start_time": "2022-04-18T15:17:11.242Z"
   },
   {
    "duration": 116,
    "start_time": "2022-04-18T15:17:43.983Z"
   },
   {
    "duration": 95,
    "start_time": "2022-04-18T15:24:14.453Z"
   },
   {
    "duration": 88,
    "start_time": "2022-04-18T15:26:47.561Z"
   },
   {
    "duration": 125,
    "start_time": "2022-04-18T15:27:13.415Z"
   },
   {
    "duration": 93,
    "start_time": "2022-04-18T15:34:25.318Z"
   },
   {
    "duration": 108,
    "start_time": "2022-04-18T15:35:25.435Z"
   },
   {
    "duration": 129,
    "start_time": "2022-04-18T15:35:42.931Z"
   },
   {
    "duration": 137,
    "start_time": "2022-04-18T15:35:43.652Z"
   },
   {
    "duration": 0,
    "start_time": "2022-04-18T17:38:39.917Z"
   },
   {
    "duration": 0,
    "start_time": "2022-04-18T17:38:39.919Z"
   },
   {
    "duration": 0,
    "start_time": "2022-04-18T17:38:39.922Z"
   },
   {
    "duration": 358,
    "start_time": "2022-04-18T17:39:24.628Z"
   },
   {
    "duration": 388,
    "start_time": "2022-04-18T17:39:29.303Z"
   },
   {
    "duration": 3,
    "start_time": "2022-04-18T17:39:43.424Z"
   },
   {
    "duration": 78,
    "start_time": "2022-04-18T17:39:43.429Z"
   },
   {
    "duration": 21,
    "start_time": "2022-04-18T17:39:43.509Z"
   },
   {
    "duration": 4,
    "start_time": "2022-04-18T17:39:43.532Z"
   },
   {
    "duration": 51,
    "start_time": "2022-04-18T17:39:43.538Z"
   },
   {
    "duration": 16,
    "start_time": "2022-04-18T17:39:43.591Z"
   },
   {
    "duration": 5,
    "start_time": "2022-04-18T17:39:43.608Z"
   },
   {
    "duration": 7,
    "start_time": "2022-04-18T17:39:43.614Z"
   },
   {
    "duration": 13,
    "start_time": "2022-04-18T17:39:43.623Z"
   },
   {
    "duration": 36,
    "start_time": "2022-04-18T17:39:43.638Z"
   },
   {
    "duration": 14,
    "start_time": "2022-04-18T17:39:43.677Z"
   },
   {
    "duration": 10,
    "start_time": "2022-04-18T17:39:43.693Z"
   },
   {
    "duration": 17,
    "start_time": "2022-04-18T17:39:43.705Z"
   },
   {
    "duration": 11,
    "start_time": "2022-04-18T17:39:43.724Z"
   },
   {
    "duration": 7,
    "start_time": "2022-04-18T17:39:43.737Z"
   },
   {
    "duration": 9,
    "start_time": "2022-04-18T17:39:43.746Z"
   },
   {
    "duration": 8,
    "start_time": "2022-04-18T17:39:43.757Z"
   },
   {
    "duration": 31,
    "start_time": "2022-04-18T17:39:43.775Z"
   },
   {
    "duration": 10,
    "start_time": "2022-04-18T17:39:43.807Z"
   },
   {
    "duration": 6,
    "start_time": "2022-04-18T17:39:43.819Z"
   },
   {
    "duration": 7,
    "start_time": "2022-04-18T17:39:43.827Z"
   },
   {
    "duration": 8,
    "start_time": "2022-04-18T17:39:43.835Z"
   },
   {
    "duration": 7,
    "start_time": "2022-04-18T17:39:43.845Z"
   },
   {
    "duration": 6,
    "start_time": "2022-04-18T17:39:43.856Z"
   },
   {
    "duration": 13,
    "start_time": "2022-04-18T17:39:43.864Z"
   },
   {
    "duration": 26,
    "start_time": "2022-04-18T17:39:43.880Z"
   },
   {
    "duration": 26,
    "start_time": "2022-04-18T17:39:43.908Z"
   },
   {
    "duration": 7,
    "start_time": "2022-04-18T17:39:43.936Z"
   },
   {
    "duration": 9,
    "start_time": "2022-04-18T17:39:43.945Z"
   },
   {
    "duration": 7,
    "start_time": "2022-04-18T17:39:43.973Z"
   },
   {
    "duration": 21,
    "start_time": "2022-04-18T17:39:43.982Z"
   },
   {
    "duration": 17,
    "start_time": "2022-04-18T17:39:44.005Z"
   },
   {
    "duration": 22,
    "start_time": "2022-04-18T17:39:44.024Z"
   },
   {
    "duration": 38,
    "start_time": "2022-04-18T17:39:44.047Z"
   },
   {
    "duration": 12,
    "start_time": "2022-04-18T17:39:44.087Z"
   },
   {
    "duration": 5,
    "start_time": "2022-04-18T17:39:44.102Z"
   },
   {
    "duration": 5,
    "start_time": "2022-04-18T17:39:44.109Z"
   },
   {
    "duration": 9,
    "start_time": "2022-04-18T17:39:44.116Z"
   },
   {
    "duration": 6,
    "start_time": "2022-04-18T17:39:44.127Z"
   },
   {
    "duration": 7,
    "start_time": "2022-04-18T17:39:44.135Z"
   },
   {
    "duration": 42,
    "start_time": "2022-04-18T17:39:44.144Z"
   },
   {
    "duration": 15,
    "start_time": "2022-04-18T17:39:44.187Z"
   },
   {
    "duration": 8,
    "start_time": "2022-04-18T17:39:44.204Z"
   },
   {
    "duration": 7,
    "start_time": "2022-04-18T17:39:44.214Z"
   },
   {
    "duration": 7,
    "start_time": "2022-04-18T17:39:44.222Z"
   },
   {
    "duration": 6,
    "start_time": "2022-04-18T17:39:44.230Z"
   },
   {
    "duration": 37,
    "start_time": "2022-04-18T17:39:44.238Z"
   },
   {
    "duration": 24,
    "start_time": "2022-04-18T17:39:44.277Z"
   },
   {
    "duration": 20,
    "start_time": "2022-04-18T17:39:44.302Z"
   },
   {
    "duration": 19,
    "start_time": "2022-04-18T17:39:44.324Z"
   },
   {
    "duration": 43,
    "start_time": "2022-04-18T17:39:44.345Z"
   },
   {
    "duration": 12,
    "start_time": "2022-04-18T17:39:44.390Z"
   },
   {
    "duration": 17,
    "start_time": "2022-04-18T17:39:44.404Z"
   },
   {
    "duration": 97,
    "start_time": "2022-04-18T17:39:44.423Z"
   },
   {
    "duration": 14,
    "start_time": "2022-04-18T17:39:44.522Z"
   },
   {
    "duration": 20,
    "start_time": "2022-04-18T17:39:44.537Z"
   },
   {
    "duration": 38,
    "start_time": "2022-04-18T17:39:44.559Z"
   },
   {
    "duration": 39,
    "start_time": "2022-04-18T17:39:44.599Z"
   },
   {
    "duration": 50,
    "start_time": "2022-04-18T17:39:44.640Z"
   },
   {
    "duration": 25,
    "start_time": "2022-04-18T17:39:44.692Z"
   },
   {
    "duration": 21,
    "start_time": "2022-04-18T17:39:44.719Z"
   },
   {
    "duration": 49,
    "start_time": "2022-04-18T17:39:44.742Z"
   },
   {
    "duration": 14,
    "start_time": "2022-04-18T17:39:44.794Z"
   },
   {
    "duration": 9,
    "start_time": "2022-04-18T17:39:44.810Z"
   },
   {
    "duration": 10,
    "start_time": "2022-04-18T17:39:44.820Z"
   },
   {
    "duration": 51,
    "start_time": "2022-04-18T17:39:44.831Z"
   },
   {
    "duration": 15,
    "start_time": "2022-04-18T17:39:44.884Z"
   },
   {
    "duration": 13,
    "start_time": "2022-04-18T17:39:44.901Z"
   },
   {
    "duration": 30,
    "start_time": "2022-04-18T17:39:44.921Z"
   },
   {
    "duration": 27,
    "start_time": "2022-04-18T17:39:44.952Z"
   },
   {
    "duration": 42,
    "start_time": "2022-04-18T17:39:44.981Z"
   },
   {
    "duration": 27,
    "start_time": "2022-04-18T17:39:45.026Z"
   },
   {
    "duration": 22,
    "start_time": "2022-04-18T17:39:45.056Z"
   },
   {
    "duration": 23,
    "start_time": "2022-04-18T17:39:45.080Z"
   },
   {
    "duration": 16,
    "start_time": "2022-04-18T17:39:45.105Z"
   },
   {
    "duration": 22,
    "start_time": "2022-04-18T17:39:45.122Z"
   },
   {
    "duration": 6,
    "start_time": "2022-04-18T17:39:45.146Z"
   },
   {
    "duration": 29,
    "start_time": "2022-04-18T17:39:45.153Z"
   },
   {
    "duration": 10,
    "start_time": "2022-04-18T17:39:45.184Z"
   },
   {
    "duration": 19,
    "start_time": "2022-04-18T17:39:45.195Z"
   },
   {
    "duration": 10,
    "start_time": "2022-04-18T17:42:34.494Z"
   },
   {
    "duration": 9,
    "start_time": "2022-04-18T17:42:38.014Z"
   },
   {
    "duration": 97,
    "start_time": "2022-04-18T17:45:30.621Z"
   },
   {
    "duration": 12,
    "start_time": "2022-04-18T17:45:36.286Z"
   },
   {
    "duration": 11,
    "start_time": "2022-04-18T17:51:57.490Z"
   },
   {
    "duration": 12,
    "start_time": "2022-04-18T17:52:16.290Z"
   },
   {
    "duration": 100,
    "start_time": "2022-04-18T17:58:02.789Z"
   },
   {
    "duration": 27,
    "start_time": "2022-04-18T18:00:42.659Z"
   },
   {
    "duration": 9,
    "start_time": "2022-04-18T18:02:02.234Z"
   },
   {
    "duration": 13,
    "start_time": "2022-04-18T18:02:48.365Z"
   },
   {
    "duration": 24,
    "start_time": "2022-04-18T18:09:51.423Z"
   },
   {
    "duration": 11,
    "start_time": "2022-04-18T18:10:22.691Z"
   },
   {
    "duration": 13,
    "start_time": "2022-04-18T18:25:18.350Z"
   },
   {
    "duration": 26353,
    "start_time": "2022-04-18T18:35:06.463Z"
   },
   {
    "duration": 202,
    "start_time": "2022-04-18T18:35:32.819Z"
   },
   {
    "duration": 48,
    "start_time": "2022-04-18T18:35:33.023Z"
   },
   {
    "duration": 123,
    "start_time": "2022-04-18T18:35:33.075Z"
   },
   {
    "duration": 53,
    "start_time": "2022-04-18T18:35:33.199Z"
   },
   {
    "duration": 52,
    "start_time": "2022-04-18T18:35:33.254Z"
   },
   {
    "duration": 82,
    "start_time": "2022-04-18T18:35:33.308Z"
   },
   {
    "duration": 80,
    "start_time": "2022-04-18T18:35:33.391Z"
   },
   {
    "duration": 62,
    "start_time": "2022-04-18T18:35:33.473Z"
   },
   {
    "duration": 61,
    "start_time": "2022-04-18T18:35:33.537Z"
   },
   {
    "duration": 7621,
    "start_time": "2022-04-18T18:46:27.188Z"
   },
   {
    "duration": 46,
    "start_time": "2022-04-18T18:46:34.811Z"
   },
   {
    "duration": 40,
    "start_time": "2022-04-18T18:46:34.859Z"
   },
   {
    "duration": 105,
    "start_time": "2022-04-18T18:46:34.901Z"
   },
   {
    "duration": 59,
    "start_time": "2022-04-18T18:46:35.009Z"
   },
   {
    "duration": 84,
    "start_time": "2022-04-18T18:46:35.070Z"
   },
   {
    "duration": 64,
    "start_time": "2022-04-18T18:46:35.155Z"
   },
   {
    "duration": 73,
    "start_time": "2022-04-18T18:46:35.221Z"
   },
   {
    "duration": 50,
    "start_time": "2022-04-18T18:46:35.295Z"
   },
   {
    "duration": 46,
    "start_time": "2022-04-18T18:46:35.346Z"
   },
   {
    "duration": 58,
    "start_time": "2022-04-18T18:46:35.393Z"
   },
   {
    "duration": 45,
    "start_time": "2022-04-18T18:46:35.454Z"
   },
   {
    "duration": 51,
    "start_time": "2022-04-18T18:46:41.934Z"
   },
   {
    "duration": 950,
    "start_time": "2022-04-18T18:46:44.385Z"
   },
   {
    "duration": 54,
    "start_time": "2022-04-18T18:48:08.309Z"
   },
   {
    "duration": 57,
    "start_time": "2022-04-18T18:48:44.553Z"
   },
   {
    "duration": 2788,
    "start_time": "2022-04-18T18:49:53.348Z"
   },
   {
    "duration": 51,
    "start_time": "2022-04-18T18:49:56.138Z"
   },
   {
    "duration": 44,
    "start_time": "2022-04-18T18:49:56.192Z"
   },
   {
    "duration": 92,
    "start_time": "2022-04-18T18:49:56.239Z"
   },
   {
    "duration": 57,
    "start_time": "2022-04-18T18:49:56.333Z"
   },
   {
    "duration": 49,
    "start_time": "2022-04-18T18:49:56.392Z"
   },
   {
    "duration": 53,
    "start_time": "2022-04-18T18:49:56.443Z"
   },
   {
    "duration": 97,
    "start_time": "2022-04-18T18:49:56.499Z"
   },
   {
    "duration": 66,
    "start_time": "2022-04-18T18:49:56.599Z"
   },
   {
    "duration": 54,
    "start_time": "2022-04-18T18:49:56.669Z"
   },
   {
    "duration": 61,
    "start_time": "2022-04-18T18:49:56.724Z"
   },
   {
    "duration": 52,
    "start_time": "2022-04-18T18:49:56.787Z"
   },
   {
    "duration": 55,
    "start_time": "2022-04-18T18:49:56.841Z"
   },
   {
    "duration": 46,
    "start_time": "2022-04-18T18:49:56.898Z"
   },
   {
    "duration": 49,
    "start_time": "2022-04-18T18:49:56.946Z"
   },
   {
    "duration": 50,
    "start_time": "2022-04-18T18:49:56.997Z"
   },
   {
    "duration": 47,
    "start_time": "2022-04-18T18:49:57.049Z"
   },
   {
    "duration": 64,
    "start_time": "2022-04-18T18:49:57.098Z"
   },
   {
    "duration": 52,
    "start_time": "2022-04-18T18:49:57.163Z"
   },
   {
    "duration": 46,
    "start_time": "2022-04-18T18:49:57.217Z"
   },
   {
    "duration": 45,
    "start_time": "2022-04-18T18:49:57.265Z"
   },
   {
    "duration": 54,
    "start_time": "2022-04-18T18:49:57.313Z"
   },
   {
    "duration": 51,
    "start_time": "2022-04-18T18:49:57.369Z"
   },
   {
    "duration": 82,
    "start_time": "2022-04-18T18:49:57.422Z"
   },
   {
    "duration": 109,
    "start_time": "2022-04-18T18:49:57.506Z"
   },
   {
    "duration": 84,
    "start_time": "2022-04-18T18:49:57.617Z"
   },
   {
    "duration": 50,
    "start_time": "2022-04-18T18:49:57.703Z"
   },
   {
    "duration": 46,
    "start_time": "2022-04-18T18:49:57.758Z"
   },
   {
    "duration": 50,
    "start_time": "2022-04-18T18:49:57.806Z"
   },
   {
    "duration": 56,
    "start_time": "2022-04-18T18:49:57.857Z"
   },
   {
    "duration": 67,
    "start_time": "2022-04-18T18:49:57.916Z"
   },
   {
    "duration": 71,
    "start_time": "2022-04-18T18:49:57.985Z"
   },
   {
    "duration": 52,
    "start_time": "2022-04-18T18:49:58.057Z"
   },
   {
    "duration": 45,
    "start_time": "2022-04-18T18:49:58.110Z"
   },
   {
    "duration": 46,
    "start_time": "2022-04-18T18:49:58.157Z"
   },
   {
    "duration": 44,
    "start_time": "2022-04-18T18:49:58.204Z"
   },
   {
    "duration": 48,
    "start_time": "2022-04-18T18:49:58.250Z"
   },
   {
    "duration": 48,
    "start_time": "2022-04-18T18:49:58.300Z"
   },
   {
    "duration": 50,
    "start_time": "2022-04-18T18:49:58.349Z"
   },
   {
    "duration": 51,
    "start_time": "2022-04-18T18:49:58.401Z"
   },
   {
    "duration": 45,
    "start_time": "2022-04-18T18:49:58.455Z"
   },
   {
    "duration": 48,
    "start_time": "2022-04-18T18:49:58.502Z"
   },
   {
    "duration": 48,
    "start_time": "2022-04-18T18:49:58.552Z"
   },
   {
    "duration": 52,
    "start_time": "2022-04-18T18:49:58.602Z"
   },
   {
    "duration": 42,
    "start_time": "2022-04-18T18:49:58.656Z"
   },
   {
    "duration": 68,
    "start_time": "2022-04-18T18:49:58.700Z"
   },
   {
    "duration": 59,
    "start_time": "2022-04-18T18:49:58.770Z"
   },
   {
    "duration": 61,
    "start_time": "2022-04-18T18:49:58.831Z"
   },
   {
    "duration": 59,
    "start_time": "2022-04-18T18:49:58.894Z"
   },
   {
    "duration": 50,
    "start_time": "2022-04-18T18:49:58.955Z"
   },
   {
    "duration": 54,
    "start_time": "2022-04-18T18:49:59.007Z"
   },
   {
    "duration": 53,
    "start_time": "2022-04-18T18:49:59.064Z"
   },
   {
    "duration": 90,
    "start_time": "2022-04-18T18:49:59.119Z"
   },
   {
    "duration": 62,
    "start_time": "2022-04-18T18:49:59.211Z"
   },
   {
    "duration": 56,
    "start_time": "2022-04-18T18:49:59.275Z"
   },
   {
    "duration": 67,
    "start_time": "2022-04-18T18:49:59.333Z"
   },
   {
    "duration": 90,
    "start_time": "2022-04-18T18:49:59.402Z"
   },
   {
    "duration": 67,
    "start_time": "2022-04-18T18:49:59.494Z"
   },
   {
    "duration": 69,
    "start_time": "2022-04-18T18:49:59.563Z"
   },
   {
    "duration": 66,
    "start_time": "2022-04-18T18:49:59.634Z"
   },
   {
    "duration": 61,
    "start_time": "2022-04-18T18:49:59.702Z"
   },
   {
    "duration": 55,
    "start_time": "2022-04-18T18:49:59.765Z"
   },
   {
    "duration": 48,
    "start_time": "2022-04-18T18:49:59.822Z"
   },
   {
    "duration": 53,
    "start_time": "2022-04-18T18:49:59.872Z"
   },
   {
    "duration": 51,
    "start_time": "2022-04-18T18:49:59.927Z"
   },
   {
    "duration": 58,
    "start_time": "2022-04-18T18:49:59.980Z"
   },
   {
    "duration": 71,
    "start_time": "2022-04-18T18:50:00.040Z"
   },
   {
    "duration": 72,
    "start_time": "2022-04-18T18:50:00.113Z"
   },
   {
    "duration": 10,
    "start_time": "2022-04-18T18:50:00.187Z"
   },
   {
    "duration": 84,
    "start_time": "2022-04-18T18:50:00.199Z"
   },
   {
    "duration": 74,
    "start_time": "2022-04-18T18:50:00.285Z"
   },
   {
    "duration": 54,
    "start_time": "2022-04-18T18:50:00.361Z"
   },
   {
    "duration": 8,
    "start_time": "2022-04-18T18:50:00.417Z"
   },
   {
    "duration": 72,
    "start_time": "2022-04-18T18:50:00.427Z"
   },
   {
    "duration": 71,
    "start_time": "2022-04-18T18:50:00.501Z"
   },
   {
    "duration": 56,
    "start_time": "2022-04-18T18:50:00.574Z"
   },
   {
    "duration": 81,
    "start_time": "2022-04-18T18:50:00.632Z"
   },
   {
    "duration": 56,
    "start_time": "2022-04-18T18:50:00.715Z"
   },
   {
    "duration": 67,
    "start_time": "2022-04-18T18:50:00.773Z"
   },
   {
    "duration": 57,
    "start_time": "2022-04-18T18:50:00.843Z"
   },
   {
    "duration": 69,
    "start_time": "2022-04-18T18:50:00.902Z"
   },
   {
    "duration": 61,
    "start_time": "2022-04-18T18:50:00.978Z"
   },
   {
    "duration": 72,
    "start_time": "2022-04-18T18:50:01.041Z"
   },
   {
    "duration": 9377,
    "start_time": "2022-04-27T07:33:59.282Z"
   },
   {
    "duration": 239,
    "start_time": "2022-04-27T07:34:08.662Z"
   },
   {
    "duration": 621,
    "start_time": "2022-04-27T07:34:08.903Z"
   },
   {
    "duration": 189,
    "start_time": "2022-04-27T07:34:09.527Z"
   },
   {
    "duration": 203,
    "start_time": "2022-04-27T07:34:09.718Z"
   },
   {
    "duration": 126,
    "start_time": "2022-04-27T07:34:09.925Z"
   },
   {
    "duration": 132,
    "start_time": "2022-04-27T07:34:10.054Z"
   },
   {
    "duration": 120,
    "start_time": "2022-04-27T07:34:10.189Z"
   },
   {
    "duration": 112,
    "start_time": "2022-04-27T07:34:10.312Z"
   },
   {
    "duration": 103,
    "start_time": "2022-04-27T07:34:10.430Z"
   },
   {
    "duration": 118,
    "start_time": "2022-04-27T07:34:10.536Z"
   },
   {
    "duration": 132,
    "start_time": "2022-04-27T07:34:10.657Z"
   },
   {
    "duration": 101,
    "start_time": "2022-04-27T07:34:10.791Z"
   },
   {
    "duration": 113,
    "start_time": "2022-04-27T07:34:10.895Z"
   },
   {
    "duration": 109,
    "start_time": "2022-04-27T07:34:11.011Z"
   },
   {
    "duration": 102,
    "start_time": "2022-04-27T07:34:11.123Z"
   },
   {
    "duration": 122,
    "start_time": "2022-04-27T07:34:11.228Z"
   },
   {
    "duration": 108,
    "start_time": "2022-04-27T07:34:11.352Z"
   },
   {
    "duration": 124,
    "start_time": "2022-04-27T07:34:11.463Z"
   },
   {
    "duration": 125,
    "start_time": "2022-04-27T07:34:11.590Z"
   },
   {
    "duration": 152,
    "start_time": "2022-04-27T07:34:11.718Z"
   },
   {
    "duration": 107,
    "start_time": "2022-04-27T07:34:11.873Z"
   },
   {
    "duration": 99,
    "start_time": "2022-04-27T07:34:11.982Z"
   },
   {
    "duration": 109,
    "start_time": "2022-04-27T07:34:12.083Z"
   },
   {
    "duration": 117,
    "start_time": "2022-04-27T07:34:12.194Z"
   },
   {
    "duration": 120,
    "start_time": "2022-04-27T07:34:12.313Z"
   },
   {
    "duration": 107,
    "start_time": "2022-04-27T07:34:12.435Z"
   },
   {
    "duration": 102,
    "start_time": "2022-04-27T07:34:12.551Z"
   },
   {
    "duration": 114,
    "start_time": "2022-04-27T07:34:12.656Z"
   },
   {
    "duration": 107,
    "start_time": "2022-04-27T07:34:12.773Z"
   },
   {
    "duration": 128,
    "start_time": "2022-04-27T07:34:12.882Z"
   },
   {
    "duration": 134,
    "start_time": "2022-04-27T07:34:13.012Z"
   },
   {
    "duration": 107,
    "start_time": "2022-04-27T07:34:13.148Z"
   },
   {
    "duration": 112,
    "start_time": "2022-04-27T07:34:13.257Z"
   },
   {
    "duration": 101,
    "start_time": "2022-04-27T07:34:13.371Z"
   },
   {
    "duration": 100,
    "start_time": "2022-04-27T07:34:13.474Z"
   },
   {
    "duration": 122,
    "start_time": "2022-04-27T07:34:13.577Z"
   },
   {
    "duration": 105,
    "start_time": "2022-04-27T07:34:13.701Z"
   },
   {
    "duration": 120,
    "start_time": "2022-04-27T07:34:13.808Z"
   },
   {
    "duration": 132,
    "start_time": "2022-04-27T07:34:13.931Z"
   },
   {
    "duration": 123,
    "start_time": "2022-04-27T07:34:14.066Z"
   },
   {
    "duration": 120,
    "start_time": "2022-04-27T07:34:14.192Z"
   },
   {
    "duration": 102,
    "start_time": "2022-04-27T07:34:14.315Z"
   },
   {
    "duration": 101,
    "start_time": "2022-04-27T07:34:14.420Z"
   },
   {
    "duration": 112,
    "start_time": "2022-04-27T07:34:14.523Z"
   },
   {
    "duration": 121,
    "start_time": "2022-04-27T07:34:14.637Z"
   },
   {
    "duration": 137,
    "start_time": "2022-04-27T07:34:14.760Z"
   },
   {
    "duration": 128,
    "start_time": "2022-04-27T07:34:14.900Z"
   },
   {
    "duration": 131,
    "start_time": "2022-04-27T07:34:15.030Z"
   },
   {
    "duration": 125,
    "start_time": "2022-04-27T07:34:15.164Z"
   },
   {
    "duration": 108,
    "start_time": "2022-04-27T07:34:15.292Z"
   },
   {
    "duration": 129,
    "start_time": "2022-04-27T07:34:15.402Z"
   },
   {
    "duration": 166,
    "start_time": "2022-04-27T07:34:15.533Z"
   },
   {
    "duration": 153,
    "start_time": "2022-04-27T07:34:15.701Z"
   },
   {
    "duration": 139,
    "start_time": "2022-04-27T07:34:15.856Z"
   },
   {
    "duration": 129,
    "start_time": "2022-04-27T07:34:15.998Z"
   },
   {
    "duration": 160,
    "start_time": "2022-04-27T07:34:16.130Z"
   },
   {
    "duration": 131,
    "start_time": "2022-04-27T07:34:16.292Z"
   },
   {
    "duration": 129,
    "start_time": "2022-04-27T07:34:16.425Z"
   },
   {
    "duration": 139,
    "start_time": "2022-04-27T07:34:16.556Z"
   },
   {
    "duration": 132,
    "start_time": "2022-04-27T07:34:16.697Z"
   },
   {
    "duration": 125,
    "start_time": "2022-04-27T07:34:16.832Z"
   },
   {
    "duration": 108,
    "start_time": "2022-04-27T07:34:16.959Z"
   },
   {
    "duration": 110,
    "start_time": "2022-04-27T07:34:17.069Z"
   },
   {
    "duration": 117,
    "start_time": "2022-04-27T07:34:17.181Z"
   },
   {
    "duration": 102,
    "start_time": "2022-04-27T07:34:17.300Z"
   },
   {
    "duration": 119,
    "start_time": "2022-04-27T07:34:17.404Z"
   },
   {
    "duration": 120,
    "start_time": "2022-04-27T07:34:17.525Z"
   },
   {
    "duration": 10,
    "start_time": "2022-04-27T07:34:17.647Z"
   },
   {
    "duration": 118,
    "start_time": "2022-04-27T07:34:17.659Z"
   },
   {
    "duration": 161,
    "start_time": "2022-04-27T07:34:17.780Z"
   },
   {
    "duration": 131,
    "start_time": "2022-04-27T07:34:17.944Z"
   },
   {
    "duration": 10,
    "start_time": "2022-04-27T07:34:18.078Z"
   },
   {
    "duration": 154,
    "start_time": "2022-04-27T07:34:18.090Z"
   },
   {
    "duration": 147,
    "start_time": "2022-04-27T07:34:18.246Z"
   },
   {
    "duration": 118,
    "start_time": "2022-04-27T07:34:18.395Z"
   },
   {
    "duration": 180,
    "start_time": "2022-04-27T07:34:18.516Z"
   },
   {
    "duration": 117,
    "start_time": "2022-04-27T07:34:18.698Z"
   },
   {
    "duration": 120,
    "start_time": "2022-04-27T07:34:18.817Z"
   },
   {
    "duration": 118,
    "start_time": "2022-04-27T07:34:18.939Z"
   },
   {
    "duration": 119,
    "start_time": "2022-04-27T07:34:19.059Z"
   },
   {
    "duration": 118,
    "start_time": "2022-04-27T07:34:19.186Z"
   },
   {
    "duration": 148,
    "start_time": "2022-04-27T07:34:19.306Z"
   },
   {
    "duration": 43,
    "start_time": "2022-04-30T20:21:22.273Z"
   },
   {
    "duration": 37346,
    "start_time": "2022-04-30T20:21:27.324Z"
   },
   {
    "duration": 245,
    "start_time": "2022-04-30T20:22:04.672Z"
   },
   {
    "duration": 0,
    "start_time": "2022-04-30T20:22:04.919Z"
   },
   {
    "duration": 0,
    "start_time": "2022-04-30T20:22:04.920Z"
   },
   {
    "duration": 0,
    "start_time": "2022-04-30T20:22:04.921Z"
   },
   {
    "duration": 0,
    "start_time": "2022-04-30T20:22:04.922Z"
   },
   {
    "duration": 233,
    "start_time": "2022-04-30T20:22:10.268Z"
   },
   {
    "duration": 7249,
    "start_time": "2022-04-30T20:23:12.324Z"
   },
   {
    "duration": 107,
    "start_time": "2022-04-30T20:23:19.575Z"
   },
   {
    "duration": 447,
    "start_time": "2022-04-30T20:23:19.684Z"
   },
   {
    "duration": 118,
    "start_time": "2022-04-30T20:23:20.133Z"
   },
   {
    "duration": 61,
    "start_time": "2022-04-30T20:23:34.591Z"
   },
   {
    "duration": 45,
    "start_time": "2022-04-30T20:23:36.003Z"
   },
   {
    "duration": 61,
    "start_time": "2022-04-30T20:23:39.902Z"
   },
   {
    "duration": 54,
    "start_time": "2022-04-30T20:27:53.769Z"
   },
   {
    "duration": 48,
    "start_time": "2022-04-30T20:28:05.430Z"
   },
   {
    "duration": 42,
    "start_time": "2022-04-30T20:28:06.256Z"
   },
   {
    "duration": 53,
    "start_time": "2022-04-30T20:28:09.277Z"
   },
   {
    "duration": 56,
    "start_time": "2022-04-30T20:36:52.064Z"
   },
   {
    "duration": 57,
    "start_time": "2022-04-30T20:37:06.309Z"
   },
   {
    "duration": 52,
    "start_time": "2022-04-30T20:37:14.995Z"
   },
   {
    "duration": 44,
    "start_time": "2022-04-30T20:37:15.832Z"
   },
   {
    "duration": 52,
    "start_time": "2022-04-30T20:37:31.460Z"
   },
   {
    "duration": 71,
    "start_time": "2022-04-30T20:37:35.325Z"
   },
   {
    "duration": 51,
    "start_time": "2022-04-30T20:40:54.866Z"
   },
   {
    "duration": 48,
    "start_time": "2022-04-30T20:41:40.864Z"
   },
   {
    "duration": 212,
    "start_time": "2022-04-30T20:49:51.461Z"
   },
   {
    "duration": 584,
    "start_time": "2022-04-30T20:50:01.738Z"
   },
   {
    "duration": 190,
    "start_time": "2022-04-30T20:50:26.834Z"
   },
   {
    "duration": 62,
    "start_time": "2022-04-30T20:51:57.225Z"
   },
   {
    "duration": 48,
    "start_time": "2022-04-30T20:52:07.663Z"
   },
   {
    "duration": 141,
    "start_time": "2022-04-30T20:52:24.215Z"
   },
   {
    "duration": 65,
    "start_time": "2022-04-30T20:52:33.512Z"
   },
   {
    "duration": 78,
    "start_time": "2022-04-30T20:52:36.386Z"
   },
   {
    "duration": 59,
    "start_time": "2022-04-30T20:52:47.963Z"
   },
   {
    "duration": 50,
    "start_time": "2022-04-30T20:53:39.831Z"
   },
   {
    "duration": 53,
    "start_time": "2022-04-30T20:53:45.910Z"
   },
   {
    "duration": 46,
    "start_time": "2022-04-30T20:53:47.619Z"
   },
   {
    "duration": 65,
    "start_time": "2022-04-30T20:53:49.002Z"
   },
   {
    "duration": 51,
    "start_time": "2022-04-30T20:53:55.111Z"
   },
   {
    "duration": 96,
    "start_time": "2022-04-30T20:54:03.482Z"
   },
   {
    "duration": 51,
    "start_time": "2022-04-30T20:54:12.584Z"
   },
   {
    "duration": 43,
    "start_time": "2022-04-30T20:54:13.564Z"
   },
   {
    "duration": 59,
    "start_time": "2022-04-30T20:54:19.417Z"
   },
   {
    "duration": 68,
    "start_time": "2022-04-30T20:54:20.264Z"
   },
   {
    "duration": 51,
    "start_time": "2022-04-30T20:54:24.805Z"
   },
   {
    "duration": 49,
    "start_time": "2022-04-30T20:54:25.579Z"
   },
   {
    "duration": 62,
    "start_time": "2022-04-30T20:56:49.770Z"
   },
   {
    "duration": 52,
    "start_time": "2022-04-30T20:57:20.374Z"
   },
   {
    "duration": 46,
    "start_time": "2022-04-30T20:57:29.718Z"
   },
   {
    "duration": 58,
    "start_time": "2022-04-30T20:57:44.134Z"
   },
   {
    "duration": 7371,
    "start_time": "2022-04-30T20:57:54.589Z"
   },
   {
    "duration": 52,
    "start_time": "2022-04-30T20:58:01.962Z"
   },
   {
    "duration": 44,
    "start_time": "2022-04-30T20:58:02.016Z"
   },
   {
    "duration": 101,
    "start_time": "2022-04-30T20:58:02.063Z"
   },
   {
    "duration": 55,
    "start_time": "2022-04-30T20:58:02.166Z"
   },
   {
    "duration": 49,
    "start_time": "2022-04-30T20:58:02.223Z"
   },
   {
    "duration": 55,
    "start_time": "2022-04-30T20:58:02.275Z"
   },
   {
    "duration": 55,
    "start_time": "2022-04-30T20:58:02.332Z"
   },
   {
    "duration": 50,
    "start_time": "2022-04-30T20:58:02.389Z"
   },
   {
    "duration": 42,
    "start_time": "2022-04-30T20:58:02.442Z"
   },
   {
    "duration": 44,
    "start_time": "2022-04-30T20:58:06.680Z"
   },
   {
    "duration": 44,
    "start_time": "2022-04-30T20:58:07.283Z"
   },
   {
    "duration": 83,
    "start_time": "2022-04-30T20:58:13.520Z"
   },
   {
    "duration": 52,
    "start_time": "2022-04-30T20:58:15.461Z"
   },
   {
    "duration": 43,
    "start_time": "2022-04-30T20:58:17.675Z"
   },
   {
    "duration": 66,
    "start_time": "2022-04-30T20:58:18.148Z"
   },
   {
    "duration": 47,
    "start_time": "2022-04-30T20:58:21.298Z"
   },
   {
    "duration": 48,
    "start_time": "2022-04-30T20:58:21.728Z"
   },
   {
    "duration": 42,
    "start_time": "2022-04-30T20:58:22.282Z"
   },
   {
    "duration": 40,
    "start_time": "2022-04-30T20:58:22.690Z"
   },
   {
    "duration": 50,
    "start_time": "2022-04-30T20:58:24.766Z"
   },
   {
    "duration": 56,
    "start_time": "2022-04-30T20:58:25.242Z"
   },
   {
    "duration": 44,
    "start_time": "2022-04-30T20:58:26.660Z"
   },
   {
    "duration": 45,
    "start_time": "2022-04-30T20:58:27.052Z"
   },
   {
    "duration": 57,
    "start_time": "2022-04-30T20:58:29.332Z"
   },
   {
    "duration": 57,
    "start_time": "2022-04-30T20:58:29.833Z"
   },
   {
    "duration": 57,
    "start_time": "2022-04-30T20:58:31.971Z"
   },
   {
    "duration": 57,
    "start_time": "2022-04-30T20:58:32.447Z"
   },
   {
    "duration": 59,
    "start_time": "2022-04-30T21:01:12.236Z"
   },
   {
    "duration": 163,
    "start_time": "2022-04-30T21:01:14.548Z"
   },
   {
    "duration": 60,
    "start_time": "2022-04-30T21:02:59.875Z"
   },
   {
    "duration": 2043,
    "start_time": "2022-04-30T21:05:01.714Z"
   },
   {
    "duration": 47,
    "start_time": "2022-04-30T21:05:11.566Z"
   },
   {
    "duration": 46,
    "start_time": "2022-04-30T21:09:02.431Z"
   },
   {
    "duration": 52,
    "start_time": "2022-04-30T21:09:21.092Z"
   },
   {
    "duration": 61,
    "start_time": "2022-04-30T21:13:39.915Z"
   },
   {
    "duration": 4897,
    "start_time": "2022-05-01T07:15:09.778Z"
   },
   {
    "duration": 122,
    "start_time": "2022-05-01T07:15:14.676Z"
   },
   {
    "duration": 525,
    "start_time": "2022-05-01T07:15:14.800Z"
   },
   {
    "duration": 107,
    "start_time": "2022-05-01T07:15:15.327Z"
   },
   {
    "duration": 73,
    "start_time": "2022-05-01T07:15:15.435Z"
   },
   {
    "duration": 55,
    "start_time": "2022-05-01T07:15:15.510Z"
   },
   {
    "duration": 66,
    "start_time": "2022-05-01T07:15:15.567Z"
   },
   {
    "duration": 68,
    "start_time": "2022-05-01T07:15:15.634Z"
   },
   {
    "duration": 52,
    "start_time": "2022-05-01T07:15:15.704Z"
   },
   {
    "duration": 74,
    "start_time": "2022-05-01T07:15:15.758Z"
   },
   {
    "duration": 75,
    "start_time": "2022-05-01T07:15:15.834Z"
   },
   {
    "duration": 121,
    "start_time": "2022-05-01T07:15:15.910Z"
   },
   {
    "duration": 61,
    "start_time": "2022-05-01T07:15:16.033Z"
   },
   {
    "duration": 57,
    "start_time": "2022-05-01T07:15:16.095Z"
   },
   {
    "duration": 58,
    "start_time": "2022-05-01T07:15:16.153Z"
   },
   {
    "duration": 60,
    "start_time": "2022-05-01T07:15:16.213Z"
   },
   {
    "duration": 52,
    "start_time": "2022-05-01T07:15:16.274Z"
   },
   {
    "duration": 61,
    "start_time": "2022-05-01T07:15:16.327Z"
   },
   {
    "duration": 61,
    "start_time": "2022-05-01T07:15:16.390Z"
   },
   {
    "duration": 59,
    "start_time": "2022-05-01T07:15:16.453Z"
   },
   {
    "duration": 66,
    "start_time": "2022-05-01T07:15:16.513Z"
   },
   {
    "duration": 55,
    "start_time": "2022-05-01T07:15:16.580Z"
   },
   {
    "duration": 60,
    "start_time": "2022-05-01T07:15:16.636Z"
   },
   {
    "duration": 55,
    "start_time": "2022-05-01T07:15:16.698Z"
   },
   {
    "duration": 62,
    "start_time": "2022-05-01T07:15:16.755Z"
   },
   {
    "duration": 59,
    "start_time": "2022-05-01T07:15:16.819Z"
   },
   {
    "duration": 56,
    "start_time": "2022-05-01T07:15:16.880Z"
   },
   {
    "duration": 56,
    "start_time": "2022-05-01T07:15:16.939Z"
   },
   {
    "duration": 62,
    "start_time": "2022-05-01T07:15:16.996Z"
   },
   {
    "duration": 71,
    "start_time": "2022-05-01T07:15:17.060Z"
   },
   {
    "duration": 53,
    "start_time": "2022-05-01T07:15:17.134Z"
   },
   {
    "duration": 59,
    "start_time": "2022-05-01T07:15:17.189Z"
   },
   {
    "duration": 59,
    "start_time": "2022-05-01T07:15:17.249Z"
   },
   {
    "duration": 65,
    "start_time": "2022-05-01T07:15:17.310Z"
   },
   {
    "duration": 60,
    "start_time": "2022-05-01T07:15:17.377Z"
   },
   {
    "duration": 55,
    "start_time": "2022-05-01T07:15:17.438Z"
   },
   {
    "duration": 54,
    "start_time": "2022-05-01T07:15:17.495Z"
   },
   {
    "duration": 76,
    "start_time": "2022-05-01T07:15:22.245Z"
   },
   {
    "duration": 56,
    "start_time": "2022-05-01T07:15:23.935Z"
   },
   {
    "duration": 64,
    "start_time": "2022-05-01T07:19:16.423Z"
   },
   {
    "duration": 71,
    "start_time": "2022-05-01T07:22:24.709Z"
   },
   {
    "duration": 56,
    "start_time": "2022-05-01T07:22:37.239Z"
   },
   {
    "duration": 62,
    "start_time": "2022-05-01T07:28:10.563Z"
   },
   {
    "duration": 57,
    "start_time": "2022-05-01T07:28:49.488Z"
   },
   {
    "duration": 74,
    "start_time": "2022-05-01T07:34:08.934Z"
   },
   {
    "duration": 97,
    "start_time": "2022-05-01T07:34:09.602Z"
   },
   {
    "duration": 67,
    "start_time": "2022-05-01T07:34:15.113Z"
   },
   {
    "duration": 70,
    "start_time": "2022-05-01T07:34:17.700Z"
   },
   {
    "duration": 74,
    "start_time": "2022-05-01T07:34:18.387Z"
   },
   {
    "duration": 63,
    "start_time": "2022-05-01T07:34:22.201Z"
   },
   {
    "duration": 59,
    "start_time": "2022-05-01T07:34:26.724Z"
   },
   {
    "duration": 58,
    "start_time": "2022-05-01T07:34:27.521Z"
   },
   {
    "duration": 132,
    "start_time": "2022-05-01T07:34:32.137Z"
   },
   {
    "duration": 66,
    "start_time": "2022-05-01T07:34:32.605Z"
   },
   {
    "duration": 77,
    "start_time": "2022-05-01T07:34:34.535Z"
   },
   {
    "duration": 79,
    "start_time": "2022-05-01T07:34:35.070Z"
   },
   {
    "duration": 107,
    "start_time": "2022-05-01T07:34:37.417Z"
   },
   {
    "duration": 90,
    "start_time": "2022-05-01T07:34:41.638Z"
   },
   {
    "duration": 74,
    "start_time": "2022-05-01T07:34:44.592Z"
   },
   {
    "duration": 72,
    "start_time": "2022-05-01T07:34:45.150Z"
   },
   {
    "duration": 81,
    "start_time": "2022-05-01T07:34:45.753Z"
   },
   {
    "duration": 73,
    "start_time": "2022-05-01T07:35:34.439Z"
   },
   {
    "duration": 55,
    "start_time": "2022-05-01T07:35:46.974Z"
   },
   {
    "duration": 61,
    "start_time": "2022-05-01T07:39:26.056Z"
   },
   {
    "duration": 108,
    "start_time": "2022-05-01T07:39:40.837Z"
   },
   {
    "duration": 67,
    "start_time": "2022-05-01T07:39:54.064Z"
   },
   {
    "duration": 68,
    "start_time": "2022-05-01T07:46:08.834Z"
   },
   {
    "duration": 75,
    "start_time": "2022-05-01T07:46:11.074Z"
   },
   {
    "duration": 71,
    "start_time": "2022-05-01T07:46:12.072Z"
   },
   {
    "duration": 78,
    "start_time": "2022-05-01T07:46:13.113Z"
   },
   {
    "duration": 80,
    "start_time": "2022-05-01T07:46:16.360Z"
   },
   {
    "duration": 68,
    "start_time": "2022-05-01T07:46:18.053Z"
   },
   {
    "duration": 80,
    "start_time": "2022-05-01T07:46:19.387Z"
   },
   {
    "duration": 6,
    "start_time": "2022-05-01T07:46:26.162Z"
   },
   {
    "duration": 68,
    "start_time": "2022-05-01T07:46:28.780Z"
   },
   {
    "duration": 66,
    "start_time": "2022-05-01T07:46:29.338Z"
   },
   {
    "duration": 58,
    "start_time": "2022-05-01T07:50:42.084Z"
   },
   {
    "duration": 59,
    "start_time": "2022-05-01T07:51:09.140Z"
   },
   {
    "duration": 78,
    "start_time": "2022-05-01T07:51:18.580Z"
   },
   {
    "duration": 65,
    "start_time": "2022-05-01T07:52:24.871Z"
   },
   {
    "duration": 106,
    "start_time": "2022-05-01T07:52:43.136Z"
   },
   {
    "duration": 59,
    "start_time": "2022-05-01T07:55:23.225Z"
   },
   {
    "duration": 6,
    "start_time": "2022-05-01T07:55:25.781Z"
   },
   {
    "duration": 64,
    "start_time": "2022-05-01T07:55:26.420Z"
   },
   {
    "duration": 88,
    "start_time": "2022-05-01T07:55:27.615Z"
   },
   {
    "duration": 60,
    "start_time": "2022-05-01T07:56:52.977Z"
   },
   {
    "duration": 55,
    "start_time": "2022-05-01T07:57:31.501Z"
   },
   {
    "duration": 267,
    "start_time": "2022-05-01T07:58:23.688Z"
   },
   {
    "duration": 266,
    "start_time": "2022-05-01T07:58:30.368Z"
   },
   {
    "duration": 263,
    "start_time": "2022-05-01T07:58:33.977Z"
   },
   {
    "duration": 245,
    "start_time": "2022-05-01T07:58:38.549Z"
   },
   {
    "duration": 253,
    "start_time": "2022-05-01T07:58:45.246Z"
   },
   {
    "duration": 252,
    "start_time": "2022-05-01T07:58:50.324Z"
   },
   {
    "duration": 79,
    "start_time": "2022-05-01T07:59:35.182Z"
   },
   {
    "duration": 89,
    "start_time": "2022-05-01T07:59:36.120Z"
   },
   {
    "duration": 62,
    "start_time": "2022-05-01T07:59:42.935Z"
   },
   {
    "duration": 80,
    "start_time": "2022-05-01T07:59:43.901Z"
   },
   {
    "duration": 57,
    "start_time": "2022-05-01T08:03:13.399Z"
   },
   {
    "duration": 90,
    "start_time": "2022-05-01T08:03:14.208Z"
   },
   {
    "duration": 68,
    "start_time": "2022-05-01T08:07:32.080Z"
   },
   {
    "duration": 5901,
    "start_time": "2022-05-01T16:03:30.374Z"
   },
   {
    "duration": 153,
    "start_time": "2022-05-01T16:03:36.277Z"
   },
   {
    "duration": 476,
    "start_time": "2022-05-01T16:03:36.432Z"
   },
   {
    "duration": 149,
    "start_time": "2022-05-01T16:03:36.909Z"
   },
   {
    "duration": 120,
    "start_time": "2022-05-01T16:03:37.060Z"
   },
   {
    "duration": 104,
    "start_time": "2022-05-01T16:03:37.182Z"
   },
   {
    "duration": 110,
    "start_time": "2022-05-01T16:03:37.288Z"
   },
   {
    "duration": 107,
    "start_time": "2022-05-01T16:03:37.400Z"
   },
   {
    "duration": 91,
    "start_time": "2022-05-01T16:03:37.509Z"
   },
   {
    "duration": 137,
    "start_time": "2022-05-01T16:03:37.602Z"
   },
   {
    "duration": 172,
    "start_time": "2022-05-01T16:03:37.741Z"
   },
   {
    "duration": 99,
    "start_time": "2022-05-01T16:03:37.915Z"
   },
   {
    "duration": 110,
    "start_time": "2022-05-01T16:03:38.016Z"
   },
   {
    "duration": 100,
    "start_time": "2022-05-01T16:03:38.130Z"
   },
   {
    "duration": 107,
    "start_time": "2022-05-01T16:03:38.232Z"
   },
   {
    "duration": 103,
    "start_time": "2022-05-01T16:03:38.340Z"
   },
   {
    "duration": 100,
    "start_time": "2022-05-01T16:03:38.444Z"
   },
   {
    "duration": 125,
    "start_time": "2022-05-01T16:03:38.545Z"
   },
   {
    "duration": 127,
    "start_time": "2022-05-01T16:03:38.671Z"
   },
   {
    "duration": 104,
    "start_time": "2022-05-01T16:03:38.799Z"
   },
   {
    "duration": 98,
    "start_time": "2022-05-01T16:03:38.905Z"
   },
   {
    "duration": 97,
    "start_time": "2022-05-01T16:03:39.004Z"
   },
   {
    "duration": 105,
    "start_time": "2022-05-01T16:03:39.102Z"
   },
   {
    "duration": 96,
    "start_time": "2022-05-01T16:03:39.209Z"
   },
   {
    "duration": 102,
    "start_time": "2022-05-01T16:03:39.306Z"
   },
   {
    "duration": 89,
    "start_time": "2022-05-01T16:03:39.410Z"
   },
   {
    "duration": 95,
    "start_time": "2022-05-01T16:03:39.501Z"
   },
   {
    "duration": 107,
    "start_time": "2022-05-01T16:03:39.598Z"
   },
   {
    "duration": 100,
    "start_time": "2022-05-01T16:03:39.707Z"
   },
   {
    "duration": 152,
    "start_time": "2022-05-01T16:03:39.809Z"
   },
   {
    "duration": 119,
    "start_time": "2022-05-01T16:03:39.962Z"
   },
   {
    "duration": 131,
    "start_time": "2022-05-01T16:03:40.082Z"
   },
   {
    "duration": 157,
    "start_time": "2022-05-01T16:03:40.214Z"
   },
   {
    "duration": 99,
    "start_time": "2022-05-01T16:03:40.374Z"
   },
   {
    "duration": 209,
    "start_time": "2022-05-01T16:03:40.475Z"
   },
   {
    "duration": 96,
    "start_time": "2022-05-01T16:03:40.686Z"
   },
   {
    "duration": 96,
    "start_time": "2022-05-01T16:03:40.783Z"
   },
   {
    "duration": 107,
    "start_time": "2022-05-01T16:03:40.881Z"
   },
   {
    "duration": 99,
    "start_time": "2022-05-01T16:03:40.989Z"
   },
   {
    "duration": 113,
    "start_time": "2022-05-01T16:03:41.089Z"
   },
   {
    "duration": 127,
    "start_time": "2022-05-01T16:03:41.207Z"
   },
   {
    "duration": 112,
    "start_time": "2022-05-01T16:03:41.335Z"
   },
   {
    "duration": 113,
    "start_time": "2022-05-01T16:03:41.448Z"
   },
   {
    "duration": 107,
    "start_time": "2022-05-01T16:03:41.563Z"
   },
   {
    "duration": 121,
    "start_time": "2022-05-01T16:03:41.671Z"
   },
   {
    "duration": 107,
    "start_time": "2022-05-01T16:03:41.794Z"
   },
   {
    "duration": 106,
    "start_time": "2022-05-01T16:03:41.903Z"
   },
   {
    "duration": 108,
    "start_time": "2022-05-01T16:03:42.011Z"
   },
   {
    "duration": 100,
    "start_time": "2022-05-01T16:03:42.121Z"
   },
   {
    "duration": 148,
    "start_time": "2022-05-01T16:03:42.223Z"
   },
   {
    "duration": 105,
    "start_time": "2022-05-01T16:03:42.372Z"
   },
   {
    "duration": 108,
    "start_time": "2022-05-01T16:03:42.478Z"
   },
   {
    "duration": 115,
    "start_time": "2022-05-01T16:03:42.588Z"
   },
   {
    "duration": 127,
    "start_time": "2022-05-01T16:03:42.705Z"
   },
   {
    "duration": 128,
    "start_time": "2022-05-01T16:03:42.834Z"
   },
   {
    "duration": 116,
    "start_time": "2022-05-01T16:03:42.964Z"
   },
   {
    "duration": 105,
    "start_time": "2022-05-01T16:03:43.082Z"
   },
   {
    "duration": 123,
    "start_time": "2022-05-01T16:03:43.189Z"
   },
   {
    "duration": 103,
    "start_time": "2022-05-01T16:03:43.313Z"
   },
   {
    "duration": 99,
    "start_time": "2022-05-01T16:03:43.418Z"
   },
   {
    "duration": 94,
    "start_time": "2022-05-01T16:03:43.519Z"
   },
   {
    "duration": 98,
    "start_time": "2022-05-01T16:03:43.615Z"
   },
   {
    "duration": 115,
    "start_time": "2022-05-01T16:03:43.714Z"
   },
   {
    "duration": 98,
    "start_time": "2022-05-01T16:03:43.831Z"
   },
   {
    "duration": 113,
    "start_time": "2022-05-01T16:03:43.931Z"
   },
   {
    "duration": 110,
    "start_time": "2022-05-01T16:03:44.046Z"
   },
   {
    "duration": 108,
    "start_time": "2022-05-01T16:03:44.158Z"
   },
   {
    "duration": 107,
    "start_time": "2022-05-01T16:03:44.268Z"
   },
   {
    "duration": 121,
    "start_time": "2022-05-01T16:03:44.376Z"
   },
   {
    "duration": 7,
    "start_time": "2022-05-01T16:03:44.498Z"
   },
   {
    "duration": 104,
    "start_time": "2022-05-01T16:03:44.506Z"
   },
   {
    "duration": 108,
    "start_time": "2022-05-01T16:03:44.612Z"
   },
   {
    "duration": 152,
    "start_time": "2022-05-01T16:03:44.722Z"
   },
   {
    "duration": 96,
    "start_time": "2022-05-01T16:03:44.875Z"
   },
   {
    "duration": 110,
    "start_time": "2022-05-01T16:03:44.973Z"
   },
   {
    "duration": 6,
    "start_time": "2022-05-01T16:03:45.085Z"
   },
   {
    "duration": 116,
    "start_time": "2022-05-01T16:03:45.093Z"
   },
   {
    "duration": 112,
    "start_time": "2022-05-01T16:03:45.211Z"
   },
   {
    "duration": 107,
    "start_time": "2022-05-01T16:03:45.324Z"
   },
   {
    "duration": 99,
    "start_time": "2022-05-01T16:03:45.432Z"
   },
   {
    "duration": 105,
    "start_time": "2022-05-01T16:03:45.532Z"
   },
   {
    "duration": 113,
    "start_time": "2022-05-01T16:03:45.638Z"
   },
   {
    "duration": 105,
    "start_time": "2022-05-01T16:03:45.752Z"
   },
   {
    "duration": 287,
    "start_time": "2022-05-01T16:03:45.859Z"
   },
   {
    "duration": 102,
    "start_time": "2022-05-01T16:03:46.148Z"
   },
   {
    "duration": 116,
    "start_time": "2022-05-01T16:03:46.252Z"
   },
   {
    "duration": 100,
    "start_time": "2022-05-01T16:03:46.370Z"
   },
   {
    "duration": 102,
    "start_time": "2022-05-01T16:03:46.471Z"
   },
   {
    "duration": 2226,
    "start_time": "2022-05-01T16:05:07.704Z"
   },
   {
    "duration": 160,
    "start_time": "2022-05-01T16:05:09.932Z"
   },
   {
    "duration": 520,
    "start_time": "2022-05-01T16:05:10.094Z"
   },
   {
    "duration": 160,
    "start_time": "2022-05-01T16:05:10.616Z"
   },
   {
    "duration": 108,
    "start_time": "2022-05-01T16:05:10.780Z"
   },
   {
    "duration": 108,
    "start_time": "2022-05-01T16:05:10.890Z"
   },
   {
    "duration": 152,
    "start_time": "2022-05-01T16:05:11.000Z"
   },
   {
    "duration": 106,
    "start_time": "2022-05-01T16:05:11.154Z"
   },
   {
    "duration": 103,
    "start_time": "2022-05-01T16:05:11.262Z"
   },
   {
    "duration": 94,
    "start_time": "2022-05-01T16:05:11.367Z"
   },
   {
    "duration": 109,
    "start_time": "2022-05-01T16:05:11.463Z"
   },
   {
    "duration": 100,
    "start_time": "2022-05-01T16:05:11.574Z"
   },
   {
    "duration": 104,
    "start_time": "2022-05-01T16:05:11.676Z"
   },
   {
    "duration": 110,
    "start_time": "2022-05-01T16:05:11.783Z"
   },
   {
    "duration": 93,
    "start_time": "2022-05-01T16:05:11.895Z"
   },
   {
    "duration": 108,
    "start_time": "2022-05-01T16:05:11.989Z"
   },
   {
    "duration": 98,
    "start_time": "2022-05-01T16:05:12.098Z"
   },
   {
    "duration": 94,
    "start_time": "2022-05-01T16:05:12.198Z"
   },
   {
    "duration": 116,
    "start_time": "2022-05-01T16:05:12.293Z"
   },
   {
    "duration": 99,
    "start_time": "2022-05-01T16:05:12.410Z"
   },
   {
    "duration": 108,
    "start_time": "2022-05-01T16:05:12.511Z"
   },
   {
    "duration": 101,
    "start_time": "2022-05-01T16:05:12.620Z"
   },
   {
    "duration": 96,
    "start_time": "2022-05-01T16:05:12.723Z"
   },
   {
    "duration": 99,
    "start_time": "2022-05-01T16:05:12.821Z"
   },
   {
    "duration": 89,
    "start_time": "2022-05-01T16:05:12.921Z"
   },
   {
    "duration": 102,
    "start_time": "2022-05-01T16:05:13.011Z"
   },
   {
    "duration": 100,
    "start_time": "2022-05-01T16:05:13.115Z"
   },
   {
    "duration": 98,
    "start_time": "2022-05-01T16:05:13.216Z"
   },
   {
    "duration": 107,
    "start_time": "2022-05-01T16:05:13.316Z"
   },
   {
    "duration": 105,
    "start_time": "2022-05-01T16:05:13.424Z"
   },
   {
    "duration": 107,
    "start_time": "2022-05-01T16:05:13.530Z"
   },
   {
    "duration": 94,
    "start_time": "2022-05-01T16:05:13.639Z"
   },
   {
    "duration": 94,
    "start_time": "2022-05-01T16:05:13.735Z"
   },
   {
    "duration": 102,
    "start_time": "2022-05-01T16:05:13.831Z"
   },
   {
    "duration": 93,
    "start_time": "2022-05-01T16:05:13.935Z"
   },
   {
    "duration": 102,
    "start_time": "2022-05-01T16:05:14.030Z"
   },
   {
    "duration": 96,
    "start_time": "2022-05-01T16:05:14.133Z"
   },
   {
    "duration": 103,
    "start_time": "2022-05-01T16:05:14.230Z"
   },
   {
    "duration": 101,
    "start_time": "2022-05-01T16:05:14.334Z"
   },
   {
    "duration": 96,
    "start_time": "2022-05-01T16:05:14.436Z"
   },
   {
    "duration": 123,
    "start_time": "2022-05-01T16:05:14.537Z"
   },
   {
    "duration": 119,
    "start_time": "2022-05-01T16:05:14.661Z"
   },
   {
    "duration": 121,
    "start_time": "2022-05-01T16:05:14.781Z"
   },
   {
    "duration": 114,
    "start_time": "2022-05-01T16:05:14.903Z"
   },
   {
    "duration": 113,
    "start_time": "2022-05-01T16:05:15.018Z"
   },
   {
    "duration": 119,
    "start_time": "2022-05-01T16:05:15.133Z"
   },
   {
    "duration": 105,
    "start_time": "2022-05-01T16:05:15.253Z"
   },
   {
    "duration": 92,
    "start_time": "2022-05-01T16:05:15.359Z"
   },
   {
    "duration": 152,
    "start_time": "2022-05-01T16:05:15.452Z"
   },
   {
    "duration": 146,
    "start_time": "2022-05-01T16:05:15.607Z"
   },
   {
    "duration": 116,
    "start_time": "2022-05-01T16:05:15.754Z"
   },
   {
    "duration": 110,
    "start_time": "2022-05-01T16:05:15.872Z"
   },
   {
    "duration": 122,
    "start_time": "2022-05-01T16:05:15.983Z"
   },
   {
    "duration": 139,
    "start_time": "2022-05-01T16:05:16.106Z"
   },
   {
    "duration": 113,
    "start_time": "2022-05-01T16:05:16.246Z"
   },
   {
    "duration": 121,
    "start_time": "2022-05-01T16:05:16.361Z"
   },
   {
    "duration": 110,
    "start_time": "2022-05-01T16:05:16.484Z"
   },
   {
    "duration": 107,
    "start_time": "2022-05-01T16:05:16.596Z"
   },
   {
    "duration": 110,
    "start_time": "2022-05-01T16:05:16.705Z"
   },
   {
    "duration": 98,
    "start_time": "2022-05-01T16:05:16.816Z"
   },
   {
    "duration": 106,
    "start_time": "2022-05-01T16:05:16.915Z"
   },
   {
    "duration": 92,
    "start_time": "2022-05-01T16:05:17.022Z"
   },
   {
    "duration": 130,
    "start_time": "2022-05-01T16:05:17.116Z"
   },
   {
    "duration": 109,
    "start_time": "2022-05-01T16:05:17.248Z"
   },
   {
    "duration": 106,
    "start_time": "2022-05-01T16:05:17.358Z"
   },
   {
    "duration": 108,
    "start_time": "2022-05-01T16:05:17.466Z"
   },
   {
    "duration": 103,
    "start_time": "2022-05-01T16:05:17.576Z"
   },
   {
    "duration": 107,
    "start_time": "2022-05-01T16:05:17.681Z"
   },
   {
    "duration": 125,
    "start_time": "2022-05-01T16:05:17.790Z"
   },
   {
    "duration": 7,
    "start_time": "2022-05-01T16:05:17.916Z"
   },
   {
    "duration": 109,
    "start_time": "2022-05-01T16:05:17.924Z"
   },
   {
    "duration": 117,
    "start_time": "2022-05-01T16:05:18.034Z"
   },
   {
    "duration": 99,
    "start_time": "2022-05-01T16:05:18.152Z"
   },
   {
    "duration": 92,
    "start_time": "2022-05-01T16:05:18.252Z"
   },
   {
    "duration": 105,
    "start_time": "2022-05-01T16:05:18.345Z"
   },
   {
    "duration": 6,
    "start_time": "2022-05-01T16:05:18.451Z"
   },
   {
    "duration": 109,
    "start_time": "2022-05-01T16:05:18.458Z"
   },
   {
    "duration": 117,
    "start_time": "2022-05-01T16:05:18.569Z"
   },
   {
    "duration": 98,
    "start_time": "2022-05-01T16:05:18.687Z"
   },
   {
    "duration": 95,
    "start_time": "2022-05-01T16:05:18.786Z"
   },
   {
    "duration": 103,
    "start_time": "2022-05-01T16:05:18.883Z"
   },
   {
    "duration": 110,
    "start_time": "2022-05-01T16:05:18.987Z"
   },
   {
    "duration": 105,
    "start_time": "2022-05-01T16:05:19.099Z"
   },
   {
    "duration": 342,
    "start_time": "2022-05-01T16:05:19.206Z"
   },
   {
    "duration": 110,
    "start_time": "2022-05-01T16:05:19.550Z"
   },
   {
    "duration": 121,
    "start_time": "2022-05-01T16:05:19.663Z"
   },
   {
    "duration": 125,
    "start_time": "2022-05-01T16:05:19.785Z"
   },
   {
    "duration": 122,
    "start_time": "2022-05-01T16:05:19.912Z"
   }
  ],
  "kernelspec": {
   "display_name": "Python 3 (ipykernel)",
   "language": "python",
   "name": "python3"
  },
  "language_info": {
   "codemirror_mode": {
    "name": "ipython",
    "version": 3
   },
   "file_extension": ".py",
   "mimetype": "text/x-python",
   "name": "python",
   "nbconvert_exporter": "python",
   "pygments_lexer": "ipython3",
   "version": "3.9.7"
  },
  "toc": {
   "base_numbering": 1,
   "nav_menu": {},
   "number_sections": true,
   "sideBar": true,
   "skip_h1_title": true,
   "title_cell": "Table of Contents",
   "title_sidebar": "Contents",
   "toc_cell": false,
   "toc_position": {},
   "toc_section_display": true,
   "toc_window_display": false
  }
 },
 "nbformat": 4,
 "nbformat_minor": 5
}
