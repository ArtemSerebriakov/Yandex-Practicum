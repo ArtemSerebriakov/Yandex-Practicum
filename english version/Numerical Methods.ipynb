{
 "cells": [
  {
   "cell_type": "markdown",
   "metadata": {},
   "source": [
    "# Determining the value of cars"
   ]
  },
  {
   "cell_type": "markdown",
   "metadata": {},
   "source": [
    "The service for the sale of used cars \"Not beaten, not painted\" is developing an application to attract new customers. In it, we can quickly find out the market value of your car. We have historical data to work with: technical specifications, equipment and prices of cars. We need to build a model to determine the value. \n",
    "\n",
    "The customer is interested in:\n",
    "\n",
    "- quality of prediction;\n",
    "- speed of prediction;\n",
    "- training time."
   ]
  },
  {
   "cell_type": "markdown",
   "metadata": {},
   "source": [
    "Work plan:\n",
    "1. Study the general information from dataframes.\n",
    "2. Perform preprocessing of the data.\n",
    "3. Conduct coding of categorical features.\n",
    "4. Carry out scaling of quantitative traits.\n",
    "5. Train various models, including gradient bousting models, and find the hyperparameter values at which the minimum value of the RMSE metric is achieved.\n",
    "6. Measure time of training models and getting predictions with them.\n",
    "7. Verify the quality of the best models on a test sample.\n",
    "8. Determine the model recommended for the customer."
   ]
  },
  {
   "cell_type": "markdown",
   "metadata": {},
   "source": [
    "<a id=\"0\"></a> <br>\n",
    "# Table of Contents  \n",
    "1. [Data preparation](#1)     \n",
    "2. [Model training](#2)\n",
    "3. [Model Analysis](#3)"
   ]
  },
  {
   "cell_type": "markdown",
   "metadata": {},
   "source": [
    "<a id=\"1\"></a>\n",
    "## Data preparation\n",
    "[Back to the top](#0)"
   ]
  },
  {
   "cell_type": "code",
   "execution_count": 1,
   "metadata": {},
   "outputs": [],
   "source": [
    "# pip install nb_black"
   ]
  },
  {
   "cell_type": "code",
   "execution_count": 2,
   "metadata": {},
   "outputs": [],
   "source": [
    "#! pip install catboost"
   ]
  },
  {
   "cell_type": "code",
   "execution_count": 3,
   "metadata": {},
   "outputs": [],
   "source": [
    "#! pip install lightgbm"
   ]
  },
  {
   "cell_type": "code",
   "execution_count": 13,
   "metadata": {},
   "outputs": [
    {
     "data": {
      "application/javascript": [
       "\n",
       "            setTimeout(function() {\n",
       "                var nbb_cell_id = 13;\n",
       "                var nbb_unformatted_code = \"#%load_ext nb_black\";\n",
       "                var nbb_formatted_code = \"#%load_ext nb_black\";\n",
       "                var nbb_cells = Jupyter.notebook.get_cells();\n",
       "                for (var i = 0; i < nbb_cells.length; ++i) {\n",
       "                    if (nbb_cells[i].input_prompt_number == nbb_cell_id) {\n",
       "                        if (nbb_cells[i].get_text() == nbb_unformatted_code) {\n",
       "                             nbb_cells[i].set_text(nbb_formatted_code);\n",
       "                        }\n",
       "                        break;\n",
       "                    }\n",
       "                }\n",
       "            }, 500);\n",
       "            "
      ],
      "text/plain": [
       "<IPython.core.display.Javascript object>"
      ]
     },
     "metadata": {},
     "output_type": "display_data"
    }
   ],
   "source": [
    "#%load_ext nb_black"
   ]
  },
  {
   "cell_type": "code",
   "execution_count": 1,
   "metadata": {},
   "outputs": [],
   "source": [
    "import pandas as pd\n",
    "\n",
    "import numpy as np\n",
    "\n",
    "from sklearn.metrics import mean_absolute_error\n",
    "from sklearn.metrics import mean_squared_error\n",
    "from sklearn.preprocessing import StandardScaler\n",
    "from sklearn.preprocessing import OrdinalEncoder\n",
    "from sklearn.preprocessing import OneHotEncoder\n",
    "from sklearn.linear_model import LinearRegression\n",
    "from sklearn.model_selection import train_test_split\n",
    "from sklearn.model_selection import cross_val_score\n",
    "from sklearn.model_selection import GridSearchCV\n",
    "from sklearn.tree import DecisionTreeRegressor\n",
    "from sklearn.ensemble import RandomForestRegressor\n",
    "\n",
    "from catboost import CatBoostRegressor\n",
    "\n",
    "import lightgbm as lgb\n",
    "\n",
    "import statistics"
   ]
  },
  {
   "cell_type": "markdown",
   "metadata": {},
   "source": [
    "Explore the data."
   ]
  },
  {
   "cell_type": "code",
   "execution_count": 6,
   "metadata": {},
   "outputs": [
    {
     "data": {
      "text/html": [
       "<div>\n",
       "<style scoped>\n",
       "    .dataframe tbody tr th:only-of-type {\n",
       "        vertical-align: middle;\n",
       "    }\n",
       "\n",
       "    .dataframe tbody tr th {\n",
       "        vertical-align: top;\n",
       "    }\n",
       "\n",
       "    .dataframe thead th {\n",
       "        text-align: right;\n",
       "    }\n",
       "</style>\n",
       "<table border=\"1\" class=\"dataframe\">\n",
       "  <thead>\n",
       "    <tr style=\"text-align: right;\">\n",
       "      <th></th>\n",
       "      <th>DateCrawled</th>\n",
       "      <th>Price</th>\n",
       "      <th>VehicleType</th>\n",
       "      <th>RegistrationYear</th>\n",
       "      <th>Gearbox</th>\n",
       "      <th>Power</th>\n",
       "      <th>Model</th>\n",
       "      <th>Kilometer</th>\n",
       "      <th>RegistrationMonth</th>\n",
       "      <th>FuelType</th>\n",
       "      <th>Brand</th>\n",
       "      <th>Repaired</th>\n",
       "      <th>DateCreated</th>\n",
       "      <th>NumberOfPictures</th>\n",
       "      <th>PostalCode</th>\n",
       "      <th>LastSeen</th>\n",
       "    </tr>\n",
       "  </thead>\n",
       "  <tbody>\n",
       "    <tr>\n",
       "      <th>0</th>\n",
       "      <td>2016-03-24 11:52:17</td>\n",
       "      <td>480</td>\n",
       "      <td>NaN</td>\n",
       "      <td>1993</td>\n",
       "      <td>manual</td>\n",
       "      <td>0</td>\n",
       "      <td>golf</td>\n",
       "      <td>150000</td>\n",
       "      <td>0</td>\n",
       "      <td>petrol</td>\n",
       "      <td>volkswagen</td>\n",
       "      <td>NaN</td>\n",
       "      <td>2016-03-24 00:00:00</td>\n",
       "      <td>0</td>\n",
       "      <td>70435</td>\n",
       "      <td>2016-04-07 03:16:57</td>\n",
       "    </tr>\n",
       "    <tr>\n",
       "      <th>1</th>\n",
       "      <td>2016-03-24 10:58:45</td>\n",
       "      <td>18300</td>\n",
       "      <td>coupe</td>\n",
       "      <td>2011</td>\n",
       "      <td>manual</td>\n",
       "      <td>190</td>\n",
       "      <td>NaN</td>\n",
       "      <td>125000</td>\n",
       "      <td>5</td>\n",
       "      <td>gasoline</td>\n",
       "      <td>audi</td>\n",
       "      <td>yes</td>\n",
       "      <td>2016-03-24 00:00:00</td>\n",
       "      <td>0</td>\n",
       "      <td>66954</td>\n",
       "      <td>2016-04-07 01:46:50</td>\n",
       "    </tr>\n",
       "    <tr>\n",
       "      <th>2</th>\n",
       "      <td>2016-03-14 12:52:21</td>\n",
       "      <td>9800</td>\n",
       "      <td>suv</td>\n",
       "      <td>2004</td>\n",
       "      <td>auto</td>\n",
       "      <td>163</td>\n",
       "      <td>grand</td>\n",
       "      <td>125000</td>\n",
       "      <td>8</td>\n",
       "      <td>gasoline</td>\n",
       "      <td>jeep</td>\n",
       "      <td>NaN</td>\n",
       "      <td>2016-03-14 00:00:00</td>\n",
       "      <td>0</td>\n",
       "      <td>90480</td>\n",
       "      <td>2016-04-05 12:47:46</td>\n",
       "    </tr>\n",
       "    <tr>\n",
       "      <th>3</th>\n",
       "      <td>2016-03-17 16:54:04</td>\n",
       "      <td>1500</td>\n",
       "      <td>small</td>\n",
       "      <td>2001</td>\n",
       "      <td>manual</td>\n",
       "      <td>75</td>\n",
       "      <td>golf</td>\n",
       "      <td>150000</td>\n",
       "      <td>6</td>\n",
       "      <td>petrol</td>\n",
       "      <td>volkswagen</td>\n",
       "      <td>no</td>\n",
       "      <td>2016-03-17 00:00:00</td>\n",
       "      <td>0</td>\n",
       "      <td>91074</td>\n",
       "      <td>2016-03-17 17:40:17</td>\n",
       "    </tr>\n",
       "    <tr>\n",
       "      <th>4</th>\n",
       "      <td>2016-03-31 17:25:20</td>\n",
       "      <td>3600</td>\n",
       "      <td>small</td>\n",
       "      <td>2008</td>\n",
       "      <td>manual</td>\n",
       "      <td>69</td>\n",
       "      <td>fabia</td>\n",
       "      <td>90000</td>\n",
       "      <td>7</td>\n",
       "      <td>gasoline</td>\n",
       "      <td>skoda</td>\n",
       "      <td>no</td>\n",
       "      <td>2016-03-31 00:00:00</td>\n",
       "      <td>0</td>\n",
       "      <td>60437</td>\n",
       "      <td>2016-04-06 10:17:21</td>\n",
       "    </tr>\n",
       "    <tr>\n",
       "      <th>5</th>\n",
       "      <td>2016-04-04 17:36:23</td>\n",
       "      <td>650</td>\n",
       "      <td>sedan</td>\n",
       "      <td>1995</td>\n",
       "      <td>manual</td>\n",
       "      <td>102</td>\n",
       "      <td>3er</td>\n",
       "      <td>150000</td>\n",
       "      <td>10</td>\n",
       "      <td>petrol</td>\n",
       "      <td>bmw</td>\n",
       "      <td>yes</td>\n",
       "      <td>2016-04-04 00:00:00</td>\n",
       "      <td>0</td>\n",
       "      <td>33775</td>\n",
       "      <td>2016-04-06 19:17:07</td>\n",
       "    </tr>\n",
       "    <tr>\n",
       "      <th>6</th>\n",
       "      <td>2016-04-01 20:48:51</td>\n",
       "      <td>2200</td>\n",
       "      <td>convertible</td>\n",
       "      <td>2004</td>\n",
       "      <td>manual</td>\n",
       "      <td>109</td>\n",
       "      <td>2_reihe</td>\n",
       "      <td>150000</td>\n",
       "      <td>8</td>\n",
       "      <td>petrol</td>\n",
       "      <td>peugeot</td>\n",
       "      <td>no</td>\n",
       "      <td>2016-04-01 00:00:00</td>\n",
       "      <td>0</td>\n",
       "      <td>67112</td>\n",
       "      <td>2016-04-05 18:18:39</td>\n",
       "    </tr>\n",
       "    <tr>\n",
       "      <th>7</th>\n",
       "      <td>2016-03-21 18:54:38</td>\n",
       "      <td>0</td>\n",
       "      <td>sedan</td>\n",
       "      <td>1980</td>\n",
       "      <td>manual</td>\n",
       "      <td>50</td>\n",
       "      <td>other</td>\n",
       "      <td>40000</td>\n",
       "      <td>7</td>\n",
       "      <td>petrol</td>\n",
       "      <td>volkswagen</td>\n",
       "      <td>no</td>\n",
       "      <td>2016-03-21 00:00:00</td>\n",
       "      <td>0</td>\n",
       "      <td>19348</td>\n",
       "      <td>2016-03-25 16:47:58</td>\n",
       "    </tr>\n",
       "    <tr>\n",
       "      <th>8</th>\n",
       "      <td>2016-04-04 23:42:13</td>\n",
       "      <td>14500</td>\n",
       "      <td>bus</td>\n",
       "      <td>2014</td>\n",
       "      <td>manual</td>\n",
       "      <td>125</td>\n",
       "      <td>c_max</td>\n",
       "      <td>30000</td>\n",
       "      <td>8</td>\n",
       "      <td>petrol</td>\n",
       "      <td>ford</td>\n",
       "      <td>NaN</td>\n",
       "      <td>2016-04-04 00:00:00</td>\n",
       "      <td>0</td>\n",
       "      <td>94505</td>\n",
       "      <td>2016-04-04 23:42:13</td>\n",
       "    </tr>\n",
       "    <tr>\n",
       "      <th>9</th>\n",
       "      <td>2016-03-17 10:53:50</td>\n",
       "      <td>999</td>\n",
       "      <td>small</td>\n",
       "      <td>1998</td>\n",
       "      <td>manual</td>\n",
       "      <td>101</td>\n",
       "      <td>golf</td>\n",
       "      <td>150000</td>\n",
       "      <td>0</td>\n",
       "      <td>NaN</td>\n",
       "      <td>volkswagen</td>\n",
       "      <td>NaN</td>\n",
       "      <td>2016-03-17 00:00:00</td>\n",
       "      <td>0</td>\n",
       "      <td>27472</td>\n",
       "      <td>2016-03-31 17:17:06</td>\n",
       "    </tr>\n",
       "  </tbody>\n",
       "</table>\n",
       "</div>"
      ],
      "text/plain": [
       "           DateCrawled  Price  VehicleType  RegistrationYear Gearbox  Power  \\\n",
       "0  2016-03-24 11:52:17    480          NaN              1993  manual      0   \n",
       "1  2016-03-24 10:58:45  18300        coupe              2011  manual    190   \n",
       "2  2016-03-14 12:52:21   9800          suv              2004    auto    163   \n",
       "3  2016-03-17 16:54:04   1500        small              2001  manual     75   \n",
       "4  2016-03-31 17:25:20   3600        small              2008  manual     69   \n",
       "5  2016-04-04 17:36:23    650        sedan              1995  manual    102   \n",
       "6  2016-04-01 20:48:51   2200  convertible              2004  manual    109   \n",
       "7  2016-03-21 18:54:38      0        sedan              1980  manual     50   \n",
       "8  2016-04-04 23:42:13  14500          bus              2014  manual    125   \n",
       "9  2016-03-17 10:53:50    999        small              1998  manual    101   \n",
       "\n",
       "     Model  Kilometer  RegistrationMonth  FuelType       Brand Repaired  \\\n",
       "0     golf     150000                  0    petrol  volkswagen      NaN   \n",
       "1      NaN     125000                  5  gasoline        audi      yes   \n",
       "2    grand     125000                  8  gasoline        jeep      NaN   \n",
       "3     golf     150000                  6    petrol  volkswagen       no   \n",
       "4    fabia      90000                  7  gasoline       skoda       no   \n",
       "5      3er     150000                 10    petrol         bmw      yes   \n",
       "6  2_reihe     150000                  8    petrol     peugeot       no   \n",
       "7    other      40000                  7    petrol  volkswagen       no   \n",
       "8    c_max      30000                  8    petrol        ford      NaN   \n",
       "9     golf     150000                  0       NaN  volkswagen      NaN   \n",
       "\n",
       "           DateCreated  NumberOfPictures  PostalCode             LastSeen  \n",
       "0  2016-03-24 00:00:00                 0       70435  2016-04-07 03:16:57  \n",
       "1  2016-03-24 00:00:00                 0       66954  2016-04-07 01:46:50  \n",
       "2  2016-03-14 00:00:00                 0       90480  2016-04-05 12:47:46  \n",
       "3  2016-03-17 00:00:00                 0       91074  2016-03-17 17:40:17  \n",
       "4  2016-03-31 00:00:00                 0       60437  2016-04-06 10:17:21  \n",
       "5  2016-04-04 00:00:00                 0       33775  2016-04-06 19:17:07  \n",
       "6  2016-04-01 00:00:00                 0       67112  2016-04-05 18:18:39  \n",
       "7  2016-03-21 00:00:00                 0       19348  2016-03-25 16:47:58  \n",
       "8  2016-04-04 00:00:00                 0       94505  2016-04-04 23:42:13  \n",
       "9  2016-03-17 00:00:00                 0       27472  2016-03-31 17:17:06  "
      ]
     },
     "execution_count": 6,
     "metadata": {},
     "output_type": "execute_result"
    }
   ],
   "source": [
    "df = pd.read_csv(\"/datasets/autos.csv\", sep=\",\")\n",
    "df.head(10)"
   ]
  },
  {
   "cell_type": "markdown",
   "metadata": {},
   "source": [
    "It is noted that the dataframe contains attributes that do not affect the market value of the car: `DateCrawled`, `DateCreated`, `NumberOfPictures`, `PostalCode`, `LastSeen`. Since they are uninformative for further analysis, we will remove them."
   ]
  },
  {
   "cell_type": "code",
   "execution_count": 7,
   "metadata": {},
   "outputs": [],
   "source": [
    "df.drop(\n",
    "    [\"DateCrawled\", \"DateCreated\", \"NumberOfPictures\", \"PostalCode\", \"LastSeen\"],\n",
    "    axis=1,\n",
    "    inplace=True,\n",
    ")"
   ]
  },
  {
   "cell_type": "code",
   "execution_count": 8,
   "metadata": {},
   "outputs": [
    {
     "data": {
      "text/html": [
       "<div>\n",
       "<style scoped>\n",
       "    .dataframe tbody tr th:only-of-type {\n",
       "        vertical-align: middle;\n",
       "    }\n",
       "\n",
       "    .dataframe tbody tr th {\n",
       "        vertical-align: top;\n",
       "    }\n",
       "\n",
       "    .dataframe thead th {\n",
       "        text-align: right;\n",
       "    }\n",
       "</style>\n",
       "<table border=\"1\" class=\"dataframe\">\n",
       "  <thead>\n",
       "    <tr style=\"text-align: right;\">\n",
       "      <th></th>\n",
       "      <th>Price</th>\n",
       "      <th>VehicleType</th>\n",
       "      <th>RegistrationYear</th>\n",
       "      <th>Gearbox</th>\n",
       "      <th>Power</th>\n",
       "      <th>Model</th>\n",
       "      <th>Kilometer</th>\n",
       "      <th>RegistrationMonth</th>\n",
       "      <th>FuelType</th>\n",
       "      <th>Brand</th>\n",
       "      <th>Repaired</th>\n",
       "    </tr>\n",
       "  </thead>\n",
       "  <tbody>\n",
       "    <tr>\n",
       "      <th>0</th>\n",
       "      <td>480</td>\n",
       "      <td>NaN</td>\n",
       "      <td>1993</td>\n",
       "      <td>manual</td>\n",
       "      <td>0</td>\n",
       "      <td>golf</td>\n",
       "      <td>150000</td>\n",
       "      <td>0</td>\n",
       "      <td>petrol</td>\n",
       "      <td>volkswagen</td>\n",
       "      <td>NaN</td>\n",
       "    </tr>\n",
       "    <tr>\n",
       "      <th>1</th>\n",
       "      <td>18300</td>\n",
       "      <td>coupe</td>\n",
       "      <td>2011</td>\n",
       "      <td>manual</td>\n",
       "      <td>190</td>\n",
       "      <td>NaN</td>\n",
       "      <td>125000</td>\n",
       "      <td>5</td>\n",
       "      <td>gasoline</td>\n",
       "      <td>audi</td>\n",
       "      <td>yes</td>\n",
       "    </tr>\n",
       "    <tr>\n",
       "      <th>2</th>\n",
       "      <td>9800</td>\n",
       "      <td>suv</td>\n",
       "      <td>2004</td>\n",
       "      <td>auto</td>\n",
       "      <td>163</td>\n",
       "      <td>grand</td>\n",
       "      <td>125000</td>\n",
       "      <td>8</td>\n",
       "      <td>gasoline</td>\n",
       "      <td>jeep</td>\n",
       "      <td>NaN</td>\n",
       "    </tr>\n",
       "    <tr>\n",
       "      <th>3</th>\n",
       "      <td>1500</td>\n",
       "      <td>small</td>\n",
       "      <td>2001</td>\n",
       "      <td>manual</td>\n",
       "      <td>75</td>\n",
       "      <td>golf</td>\n",
       "      <td>150000</td>\n",
       "      <td>6</td>\n",
       "      <td>petrol</td>\n",
       "      <td>volkswagen</td>\n",
       "      <td>no</td>\n",
       "    </tr>\n",
       "    <tr>\n",
       "      <th>4</th>\n",
       "      <td>3600</td>\n",
       "      <td>small</td>\n",
       "      <td>2008</td>\n",
       "      <td>manual</td>\n",
       "      <td>69</td>\n",
       "      <td>fabia</td>\n",
       "      <td>90000</td>\n",
       "      <td>7</td>\n",
       "      <td>gasoline</td>\n",
       "      <td>skoda</td>\n",
       "      <td>no</td>\n",
       "    </tr>\n",
       "    <tr>\n",
       "      <th>5</th>\n",
       "      <td>650</td>\n",
       "      <td>sedan</td>\n",
       "      <td>1995</td>\n",
       "      <td>manual</td>\n",
       "      <td>102</td>\n",
       "      <td>3er</td>\n",
       "      <td>150000</td>\n",
       "      <td>10</td>\n",
       "      <td>petrol</td>\n",
       "      <td>bmw</td>\n",
       "      <td>yes</td>\n",
       "    </tr>\n",
       "    <tr>\n",
       "      <th>6</th>\n",
       "      <td>2200</td>\n",
       "      <td>convertible</td>\n",
       "      <td>2004</td>\n",
       "      <td>manual</td>\n",
       "      <td>109</td>\n",
       "      <td>2_reihe</td>\n",
       "      <td>150000</td>\n",
       "      <td>8</td>\n",
       "      <td>petrol</td>\n",
       "      <td>peugeot</td>\n",
       "      <td>no</td>\n",
       "    </tr>\n",
       "    <tr>\n",
       "      <th>7</th>\n",
       "      <td>0</td>\n",
       "      <td>sedan</td>\n",
       "      <td>1980</td>\n",
       "      <td>manual</td>\n",
       "      <td>50</td>\n",
       "      <td>other</td>\n",
       "      <td>40000</td>\n",
       "      <td>7</td>\n",
       "      <td>petrol</td>\n",
       "      <td>volkswagen</td>\n",
       "      <td>no</td>\n",
       "    </tr>\n",
       "    <tr>\n",
       "      <th>8</th>\n",
       "      <td>14500</td>\n",
       "      <td>bus</td>\n",
       "      <td>2014</td>\n",
       "      <td>manual</td>\n",
       "      <td>125</td>\n",
       "      <td>c_max</td>\n",
       "      <td>30000</td>\n",
       "      <td>8</td>\n",
       "      <td>petrol</td>\n",
       "      <td>ford</td>\n",
       "      <td>NaN</td>\n",
       "    </tr>\n",
       "    <tr>\n",
       "      <th>9</th>\n",
       "      <td>999</td>\n",
       "      <td>small</td>\n",
       "      <td>1998</td>\n",
       "      <td>manual</td>\n",
       "      <td>101</td>\n",
       "      <td>golf</td>\n",
       "      <td>150000</td>\n",
       "      <td>0</td>\n",
       "      <td>NaN</td>\n",
       "      <td>volkswagen</td>\n",
       "      <td>NaN</td>\n",
       "    </tr>\n",
       "  </tbody>\n",
       "</table>\n",
       "</div>"
      ],
      "text/plain": [
       "   Price  VehicleType  RegistrationYear Gearbox  Power    Model  Kilometer  \\\n",
       "0    480          NaN              1993  manual      0     golf     150000   \n",
       "1  18300        coupe              2011  manual    190      NaN     125000   \n",
       "2   9800          suv              2004    auto    163    grand     125000   \n",
       "3   1500        small              2001  manual     75     golf     150000   \n",
       "4   3600        small              2008  manual     69    fabia      90000   \n",
       "5    650        sedan              1995  manual    102      3er     150000   \n",
       "6   2200  convertible              2004  manual    109  2_reihe     150000   \n",
       "7      0        sedan              1980  manual     50    other      40000   \n",
       "8  14500          bus              2014  manual    125    c_max      30000   \n",
       "9    999        small              1998  manual    101     golf     150000   \n",
       "\n",
       "   RegistrationMonth  FuelType       Brand Repaired  \n",
       "0                  0    petrol  volkswagen      NaN  \n",
       "1                  5  gasoline        audi      yes  \n",
       "2                  8  gasoline        jeep      NaN  \n",
       "3                  6    petrol  volkswagen       no  \n",
       "4                  7  gasoline       skoda       no  \n",
       "5                 10    petrol         bmw      yes  \n",
       "6                  8    petrol     peugeot       no  \n",
       "7                  7    petrol  volkswagen       no  \n",
       "8                  8    petrol        ford      NaN  \n",
       "9                  0       NaN  volkswagen      NaN  "
      ]
     },
     "execution_count": 8,
     "metadata": {},
     "output_type": "execute_result"
    }
   ],
   "source": [
    "df.head(10)"
   ]
  },
  {
   "cell_type": "code",
   "execution_count": 9,
   "metadata": {},
   "outputs": [
    {
     "name": "stdout",
     "output_type": "stream",
     "text": [
      "<class 'pandas.core.frame.DataFrame'>\n",
      "RangeIndex: 354369 entries, 0 to 354368\n",
      "Data columns (total 11 columns):\n",
      " #   Column             Non-Null Count   Dtype \n",
      "---  ------             --------------   ----- \n",
      " 0   Price              354369 non-null  int64 \n",
      " 1   VehicleType        316879 non-null  object\n",
      " 2   RegistrationYear   354369 non-null  int64 \n",
      " 3   Gearbox            334536 non-null  object\n",
      " 4   Power              354369 non-null  int64 \n",
      " 5   Model              334664 non-null  object\n",
      " 6   Kilometer          354369 non-null  int64 \n",
      " 7   RegistrationMonth  354369 non-null  int64 \n",
      " 8   FuelType           321474 non-null  object\n",
      " 9   Brand              354369 non-null  object\n",
      " 10  Repaired           283215 non-null  object\n",
      "dtypes: int64(5), object(6)\n",
      "memory usage: 29.7+ MB\n"
     ]
    }
   ],
   "source": [
    "df.info()"
   ]
  },
  {
   "cell_type": "markdown",
   "metadata": {},
   "source": [
    "We see that the dataframe contains gaps in the columns `VehicleType`, `Gearbox`, `Model`, `FuelType`, `Repaired`."
   ]
  },
  {
   "cell_type": "code",
   "execution_count": 10,
   "metadata": {},
   "outputs": [
    {
     "data": {
      "text/plain": [
       "no     247161\n",
       "yes     36054\n",
       "Name: Repaired, dtype: int64"
      ]
     },
     "execution_count": 10,
     "metadata": {},
     "output_type": "execute_result"
    }
   ],
   "source": [
    "df[\"Repaired\"].value_counts()"
   ]
  },
  {
   "cell_type": "markdown",
   "metadata": {},
   "source": [
    "For missing values in the `Repaired` column, we will create a separate category \"Unknown\", meaning that it is unknown for this vehicle whether it has been repaired or not."
   ]
  },
  {
   "cell_type": "code",
   "execution_count": 11,
   "metadata": {},
   "outputs": [],
   "source": [
    "df[\"Repaired\"].fillna(\"Unknown\", inplace=True)"
   ]
  },
  {
   "cell_type": "code",
   "execution_count": 12,
   "metadata": {},
   "outputs": [
    {
     "data": {
      "text/plain": [
       "no         247161\n",
       "Unknown     71154\n",
       "yes         36054\n",
       "Name: Repaired, dtype: int64"
      ]
     },
     "execution_count": 12,
     "metadata": {},
     "output_type": "execute_result"
    }
   ],
   "source": [
    "df[\"Repaired\"].value_counts()"
   ]
  },
  {
   "cell_type": "code",
   "execution_count": 13,
   "metadata": {},
   "outputs": [
    {
     "data": {
      "text/plain": [
       "golf                  29232\n",
       "other                 24421\n",
       "3er                   19761\n",
       "polo                  13066\n",
       "corsa                 12570\n",
       "                      ...  \n",
       "serie_2                   8\n",
       "rangerover                4\n",
       "serie_3                   4\n",
       "serie_1                   2\n",
       "range_rover_evoque        2\n",
       "Name: Model, Length: 250, dtype: int64"
      ]
     },
     "execution_count": 13,
     "metadata": {},
     "output_type": "execute_result"
    }
   ],
   "source": [
    "df[\"Model\"].value_counts()"
   ]
  },
  {
   "cell_type": "markdown",
   "metadata": {},
   "source": [
    "Now let's fill in the omissions in the `Model` column. We will assume that if the car model is not specified, it means that the user did not find it in the standard list, so it belongs to the \"other\" type."
   ]
  },
  {
   "cell_type": "code",
   "execution_count": 14,
   "metadata": {},
   "outputs": [],
   "source": [
    "df[\"Model\"].fillna(\"other\", inplace=True)"
   ]
  },
  {
   "cell_type": "code",
   "execution_count": 15,
   "metadata": {},
   "outputs": [
    {
     "data": {
      "text/plain": [
       "other                 44126\n",
       "golf                  29232\n",
       "3er                   19761\n",
       "polo                  13066\n",
       "corsa                 12570\n",
       "                      ...  \n",
       "serie_2                   8\n",
       "rangerover                4\n",
       "serie_3                   4\n",
       "serie_1                   2\n",
       "range_rover_evoque        2\n",
       "Name: Model, Length: 250, dtype: int64"
      ]
     },
     "execution_count": 15,
     "metadata": {},
     "output_type": "execute_result"
    }
   ],
   "source": [
    "df[\"Model\"].value_counts()"
   ]
  },
  {
   "cell_type": "code",
   "execution_count": 16,
   "metadata": {},
   "outputs": [
    {
     "data": {
      "text/html": [
       "<div>\n",
       "<style scoped>\n",
       "    .dataframe tbody tr th:only-of-type {\n",
       "        vertical-align: middle;\n",
       "    }\n",
       "\n",
       "    .dataframe tbody tr th {\n",
       "        vertical-align: top;\n",
       "    }\n",
       "\n",
       "    .dataframe thead th {\n",
       "        text-align: right;\n",
       "    }\n",
       "</style>\n",
       "<table border=\"1\" class=\"dataframe\">\n",
       "  <thead>\n",
       "    <tr style=\"text-align: right;\">\n",
       "      <th></th>\n",
       "      <th>Price</th>\n",
       "      <th>VehicleType</th>\n",
       "      <th>RegistrationYear</th>\n",
       "      <th>Gearbox</th>\n",
       "      <th>Power</th>\n",
       "      <th>Model</th>\n",
       "      <th>Kilometer</th>\n",
       "      <th>RegistrationMonth</th>\n",
       "      <th>FuelType</th>\n",
       "      <th>Brand</th>\n",
       "      <th>Repaired</th>\n",
       "    </tr>\n",
       "  </thead>\n",
       "  <tbody>\n",
       "    <tr>\n",
       "      <th>0</th>\n",
       "      <td>480</td>\n",
       "      <td>NaN</td>\n",
       "      <td>1993</td>\n",
       "      <td>manual</td>\n",
       "      <td>0</td>\n",
       "      <td>golf</td>\n",
       "      <td>150000</td>\n",
       "      <td>0</td>\n",
       "      <td>petrol</td>\n",
       "      <td>volkswagen</td>\n",
       "      <td>Unknown</td>\n",
       "    </tr>\n",
       "    <tr>\n",
       "      <th>1</th>\n",
       "      <td>18300</td>\n",
       "      <td>coupe</td>\n",
       "      <td>2011</td>\n",
       "      <td>manual</td>\n",
       "      <td>190</td>\n",
       "      <td>other</td>\n",
       "      <td>125000</td>\n",
       "      <td>5</td>\n",
       "      <td>gasoline</td>\n",
       "      <td>audi</td>\n",
       "      <td>yes</td>\n",
       "    </tr>\n",
       "    <tr>\n",
       "      <th>2</th>\n",
       "      <td>9800</td>\n",
       "      <td>suv</td>\n",
       "      <td>2004</td>\n",
       "      <td>auto</td>\n",
       "      <td>163</td>\n",
       "      <td>grand</td>\n",
       "      <td>125000</td>\n",
       "      <td>8</td>\n",
       "      <td>gasoline</td>\n",
       "      <td>jeep</td>\n",
       "      <td>Unknown</td>\n",
       "    </tr>\n",
       "    <tr>\n",
       "      <th>3</th>\n",
       "      <td>1500</td>\n",
       "      <td>small</td>\n",
       "      <td>2001</td>\n",
       "      <td>manual</td>\n",
       "      <td>75</td>\n",
       "      <td>golf</td>\n",
       "      <td>150000</td>\n",
       "      <td>6</td>\n",
       "      <td>petrol</td>\n",
       "      <td>volkswagen</td>\n",
       "      <td>no</td>\n",
       "    </tr>\n",
       "    <tr>\n",
       "      <th>4</th>\n",
       "      <td>3600</td>\n",
       "      <td>small</td>\n",
       "      <td>2008</td>\n",
       "      <td>manual</td>\n",
       "      <td>69</td>\n",
       "      <td>fabia</td>\n",
       "      <td>90000</td>\n",
       "      <td>7</td>\n",
       "      <td>gasoline</td>\n",
       "      <td>skoda</td>\n",
       "      <td>no</td>\n",
       "    </tr>\n",
       "    <tr>\n",
       "      <th>5</th>\n",
       "      <td>650</td>\n",
       "      <td>sedan</td>\n",
       "      <td>1995</td>\n",
       "      <td>manual</td>\n",
       "      <td>102</td>\n",
       "      <td>3er</td>\n",
       "      <td>150000</td>\n",
       "      <td>10</td>\n",
       "      <td>petrol</td>\n",
       "      <td>bmw</td>\n",
       "      <td>yes</td>\n",
       "    </tr>\n",
       "    <tr>\n",
       "      <th>6</th>\n",
       "      <td>2200</td>\n",
       "      <td>convertible</td>\n",
       "      <td>2004</td>\n",
       "      <td>manual</td>\n",
       "      <td>109</td>\n",
       "      <td>2_reihe</td>\n",
       "      <td>150000</td>\n",
       "      <td>8</td>\n",
       "      <td>petrol</td>\n",
       "      <td>peugeot</td>\n",
       "      <td>no</td>\n",
       "    </tr>\n",
       "    <tr>\n",
       "      <th>7</th>\n",
       "      <td>0</td>\n",
       "      <td>sedan</td>\n",
       "      <td>1980</td>\n",
       "      <td>manual</td>\n",
       "      <td>50</td>\n",
       "      <td>other</td>\n",
       "      <td>40000</td>\n",
       "      <td>7</td>\n",
       "      <td>petrol</td>\n",
       "      <td>volkswagen</td>\n",
       "      <td>no</td>\n",
       "    </tr>\n",
       "    <tr>\n",
       "      <th>8</th>\n",
       "      <td>14500</td>\n",
       "      <td>bus</td>\n",
       "      <td>2014</td>\n",
       "      <td>manual</td>\n",
       "      <td>125</td>\n",
       "      <td>c_max</td>\n",
       "      <td>30000</td>\n",
       "      <td>8</td>\n",
       "      <td>petrol</td>\n",
       "      <td>ford</td>\n",
       "      <td>Unknown</td>\n",
       "    </tr>\n",
       "    <tr>\n",
       "      <th>9</th>\n",
       "      <td>999</td>\n",
       "      <td>small</td>\n",
       "      <td>1998</td>\n",
       "      <td>manual</td>\n",
       "      <td>101</td>\n",
       "      <td>golf</td>\n",
       "      <td>150000</td>\n",
       "      <td>0</td>\n",
       "      <td>NaN</td>\n",
       "      <td>volkswagen</td>\n",
       "      <td>Unknown</td>\n",
       "    </tr>\n",
       "  </tbody>\n",
       "</table>\n",
       "</div>"
      ],
      "text/plain": [
       "   Price  VehicleType  RegistrationYear Gearbox  Power    Model  Kilometer  \\\n",
       "0    480          NaN              1993  manual      0     golf     150000   \n",
       "1  18300        coupe              2011  manual    190    other     125000   \n",
       "2   9800          suv              2004    auto    163    grand     125000   \n",
       "3   1500        small              2001  manual     75     golf     150000   \n",
       "4   3600        small              2008  manual     69    fabia      90000   \n",
       "5    650        sedan              1995  manual    102      3er     150000   \n",
       "6   2200  convertible              2004  manual    109  2_reihe     150000   \n",
       "7      0        sedan              1980  manual     50    other      40000   \n",
       "8  14500          bus              2014  manual    125    c_max      30000   \n",
       "9    999        small              1998  manual    101     golf     150000   \n",
       "\n",
       "   RegistrationMonth  FuelType       Brand Repaired  \n",
       "0                  0    petrol  volkswagen  Unknown  \n",
       "1                  5  gasoline        audi      yes  \n",
       "2                  8  gasoline        jeep  Unknown  \n",
       "3                  6    petrol  volkswagen       no  \n",
       "4                  7  gasoline       skoda       no  \n",
       "5                 10    petrol         bmw      yes  \n",
       "6                  8    petrol     peugeot       no  \n",
       "7                  7    petrol  volkswagen       no  \n",
       "8                  8    petrol        ford  Unknown  \n",
       "9                  0       NaN  volkswagen  Unknown  "
      ]
     },
     "execution_count": 16,
     "metadata": {},
     "output_type": "execute_result"
    }
   ],
   "source": [
    "df.head(10)"
   ]
  },
  {
   "cell_type": "code",
   "execution_count": 17,
   "metadata": {},
   "outputs": [
    {
     "data": {
      "text/plain": [
       "manual    268251\n",
       "auto       66285\n",
       "Name: Gearbox, dtype: int64"
      ]
     },
     "execution_count": 17,
     "metadata": {},
     "output_type": "execute_result"
    }
   ],
   "source": [
    "df[\"Gearbox\"].value_counts()"
   ]
  },
  {
   "cell_type": "markdown",
   "metadata": {},
   "source": [
    "Since there are only two types of transmission, let's replace the omissions in this column with the most common type for that brand and model."
   ]
  },
  {
   "cell_type": "code",
   "execution_count": 18,
   "metadata": {},
   "outputs": [],
   "source": [
    "pt_g = df.pivot_table(\n",
    "    index=[\"Brand\", \"Model\"], values=[\"Gearbox\"], aggfunc=[pd.Series.mode]\n",
    ").reset_index()"
   ]
  },
  {
   "cell_type": "code",
   "execution_count": 19,
   "metadata": {},
   "outputs": [
    {
     "data": {
      "text/html": [
       "<div>\n",
       "<style scoped>\n",
       "    .dataframe tbody tr th:only-of-type {\n",
       "        vertical-align: middle;\n",
       "    }\n",
       "\n",
       "    .dataframe tbody tr th {\n",
       "        vertical-align: top;\n",
       "    }\n",
       "\n",
       "    .dataframe thead tr th {\n",
       "        text-align: left;\n",
       "    }\n",
       "</style>\n",
       "<table border=\"1\" class=\"dataframe\">\n",
       "  <thead>\n",
       "    <tr>\n",
       "      <th></th>\n",
       "      <th>Brand</th>\n",
       "      <th>Model</th>\n",
       "      <th>mode</th>\n",
       "    </tr>\n",
       "    <tr>\n",
       "      <th></th>\n",
       "      <th></th>\n",
       "      <th></th>\n",
       "      <th>Gearbox</th>\n",
       "    </tr>\n",
       "  </thead>\n",
       "  <tbody>\n",
       "    <tr>\n",
       "      <th>0</th>\n",
       "      <td>alfa_romeo</td>\n",
       "      <td>145</td>\n",
       "      <td>manual</td>\n",
       "    </tr>\n",
       "    <tr>\n",
       "      <th>1</th>\n",
       "      <td>alfa_romeo</td>\n",
       "      <td>147</td>\n",
       "      <td>manual</td>\n",
       "    </tr>\n",
       "    <tr>\n",
       "      <th>2</th>\n",
       "      <td>alfa_romeo</td>\n",
       "      <td>156</td>\n",
       "      <td>manual</td>\n",
       "    </tr>\n",
       "    <tr>\n",
       "      <th>3</th>\n",
       "      <td>alfa_romeo</td>\n",
       "      <td>159</td>\n",
       "      <td>manual</td>\n",
       "    </tr>\n",
       "    <tr>\n",
       "      <th>4</th>\n",
       "      <td>alfa_romeo</td>\n",
       "      <td>other</td>\n",
       "      <td>manual</td>\n",
       "    </tr>\n",
       "    <tr>\n",
       "      <th>...</th>\n",
       "      <td>...</td>\n",
       "      <td>...</td>\n",
       "      <td>...</td>\n",
       "    </tr>\n",
       "    <tr>\n",
       "      <th>293</th>\n",
       "      <td>volvo</td>\n",
       "      <td>v40</td>\n",
       "      <td>manual</td>\n",
       "    </tr>\n",
       "    <tr>\n",
       "      <th>294</th>\n",
       "      <td>volvo</td>\n",
       "      <td>v50</td>\n",
       "      <td>manual</td>\n",
       "    </tr>\n",
       "    <tr>\n",
       "      <th>295</th>\n",
       "      <td>volvo</td>\n",
       "      <td>v60</td>\n",
       "      <td>manual</td>\n",
       "    </tr>\n",
       "    <tr>\n",
       "      <th>296</th>\n",
       "      <td>volvo</td>\n",
       "      <td>v70</td>\n",
       "      <td>manual</td>\n",
       "    </tr>\n",
       "    <tr>\n",
       "      <th>297</th>\n",
       "      <td>volvo</td>\n",
       "      <td>xc_reihe</td>\n",
       "      <td>auto</td>\n",
       "    </tr>\n",
       "  </tbody>\n",
       "</table>\n",
       "<p>298 rows × 3 columns</p>\n",
       "</div>"
      ],
      "text/plain": [
       "          Brand     Model    mode\n",
       "                          Gearbox\n",
       "0    alfa_romeo       145  manual\n",
       "1    alfa_romeo       147  manual\n",
       "2    alfa_romeo       156  manual\n",
       "3    alfa_romeo       159  manual\n",
       "4    alfa_romeo     other  manual\n",
       "..          ...       ...     ...\n",
       "293       volvo       v40  manual\n",
       "294       volvo       v50  manual\n",
       "295       volvo       v60  manual\n",
       "296       volvo       v70  manual\n",
       "297       volvo  xc_reihe    auto\n",
       "\n",
       "[298 rows x 3 columns]"
      ]
     },
     "execution_count": 19,
     "metadata": {},
     "output_type": "execute_result"
    }
   ],
   "source": [
    "pt_g"
   ]
  },
  {
   "cell_type": "code",
   "execution_count": 20,
   "metadata": {},
   "outputs": [],
   "source": [
    "def func_g(row):\n",
    "    result = row[\"Gearbox\"]\n",
    "    mode = pt_g[\n",
    "        (pt_g[\"Brand\"] == row[\"Brand\"]) & (pt_g[\"Model\"] == row[\"Model\"])\n",
    "    ].values[0][2]\n",
    "    if (result != result) & (type(mode) == str):\n",
    "        return mode\n",
    "    else:\n",
    "        return result"
   ]
  },
  {
   "cell_type": "code",
   "execution_count": 21,
   "metadata": {},
   "outputs": [
    {
     "name": "stdout",
     "output_type": "stream",
     "text": [
      "CPU times: user 6min 38s, sys: 1.96 s, total: 6min 40s\n",
      "Wall time: 6min 40s\n"
     ]
    }
   ],
   "source": [
    "%%time\n",
    "df[\"Gearbox\"] = df.apply(lambda row: func_g(row), axis=1)"
   ]
  },
  {
   "cell_type": "code",
   "execution_count": 22,
   "metadata": {},
   "outputs": [
    {
     "data": {
      "text/plain": [
       "0"
      ]
     },
     "execution_count": 22,
     "metadata": {},
     "output_type": "execute_result"
    }
   ],
   "source": [
    "df[\"Gearbox\"].isna().sum()"
   ]
  },
  {
   "cell_type": "markdown",
   "metadata": {},
   "source": [
    "The replacement of omissions in the `Gearbox` column has been successful."
   ]
  },
  {
   "cell_type": "markdown",
   "metadata": {},
   "source": [
    "Replace the missing values in the `VehicleType` column with the most popular values for the `Brand`-`Model` combination."
   ]
  },
  {
   "cell_type": "code",
   "execution_count": 23,
   "metadata": {},
   "outputs": [
    {
     "data": {
      "text/plain": [
       "array([nan, 'coupe', 'suv', 'small', 'sedan', 'convertible', 'bus',\n",
       "       'wagon', 'other'], dtype=object)"
      ]
     },
     "execution_count": 23,
     "metadata": {},
     "output_type": "execute_result"
    }
   ],
   "source": [
    "df[\"VehicleType\"].unique()"
   ]
  },
  {
   "cell_type": "code",
   "execution_count": 24,
   "metadata": {},
   "outputs": [],
   "source": [
    "pt_v = df.pivot_table(\n",
    "    index=[\"Brand\", \"Model\"], values=[\"VehicleType\"], aggfunc=[pd.Series.mode]\n",
    ").reset_index()"
   ]
  },
  {
   "cell_type": "code",
   "execution_count": 25,
   "metadata": {},
   "outputs": [
    {
     "data": {
      "text/html": [
       "<div>\n",
       "<style scoped>\n",
       "    .dataframe tbody tr th:only-of-type {\n",
       "        vertical-align: middle;\n",
       "    }\n",
       "\n",
       "    .dataframe tbody tr th {\n",
       "        vertical-align: top;\n",
       "    }\n",
       "\n",
       "    .dataframe thead tr th {\n",
       "        text-align: left;\n",
       "    }\n",
       "</style>\n",
       "<table border=\"1\" class=\"dataframe\">\n",
       "  <thead>\n",
       "    <tr>\n",
       "      <th></th>\n",
       "      <th>Brand</th>\n",
       "      <th>Model</th>\n",
       "      <th>mode</th>\n",
       "    </tr>\n",
       "    <tr>\n",
       "      <th></th>\n",
       "      <th></th>\n",
       "      <th></th>\n",
       "      <th>VehicleType</th>\n",
       "    </tr>\n",
       "  </thead>\n",
       "  <tbody>\n",
       "    <tr>\n",
       "      <th>0</th>\n",
       "      <td>alfa_romeo</td>\n",
       "      <td>145</td>\n",
       "      <td>small</td>\n",
       "    </tr>\n",
       "    <tr>\n",
       "      <th>1</th>\n",
       "      <td>alfa_romeo</td>\n",
       "      <td>147</td>\n",
       "      <td>sedan</td>\n",
       "    </tr>\n",
       "    <tr>\n",
       "      <th>2</th>\n",
       "      <td>alfa_romeo</td>\n",
       "      <td>156</td>\n",
       "      <td>wagon</td>\n",
       "    </tr>\n",
       "    <tr>\n",
       "      <th>3</th>\n",
       "      <td>alfa_romeo</td>\n",
       "      <td>159</td>\n",
       "      <td>wagon</td>\n",
       "    </tr>\n",
       "    <tr>\n",
       "      <th>4</th>\n",
       "      <td>alfa_romeo</td>\n",
       "      <td>other</td>\n",
       "      <td>sedan</td>\n",
       "    </tr>\n",
       "    <tr>\n",
       "      <th>...</th>\n",
       "      <td>...</td>\n",
       "      <td>...</td>\n",
       "      <td>...</td>\n",
       "    </tr>\n",
       "    <tr>\n",
       "      <th>293</th>\n",
       "      <td>volvo</td>\n",
       "      <td>v40</td>\n",
       "      <td>wagon</td>\n",
       "    </tr>\n",
       "    <tr>\n",
       "      <th>294</th>\n",
       "      <td>volvo</td>\n",
       "      <td>v50</td>\n",
       "      <td>wagon</td>\n",
       "    </tr>\n",
       "    <tr>\n",
       "      <th>295</th>\n",
       "      <td>volvo</td>\n",
       "      <td>v60</td>\n",
       "      <td>wagon</td>\n",
       "    </tr>\n",
       "    <tr>\n",
       "      <th>296</th>\n",
       "      <td>volvo</td>\n",
       "      <td>v70</td>\n",
       "      <td>wagon</td>\n",
       "    </tr>\n",
       "    <tr>\n",
       "      <th>297</th>\n",
       "      <td>volvo</td>\n",
       "      <td>xc_reihe</td>\n",
       "      <td>suv</td>\n",
       "    </tr>\n",
       "  </tbody>\n",
       "</table>\n",
       "<p>298 rows × 3 columns</p>\n",
       "</div>"
      ],
      "text/plain": [
       "          Brand     Model        mode\n",
       "                          VehicleType\n",
       "0    alfa_romeo       145       small\n",
       "1    alfa_romeo       147       sedan\n",
       "2    alfa_romeo       156       wagon\n",
       "3    alfa_romeo       159       wagon\n",
       "4    alfa_romeo     other       sedan\n",
       "..          ...       ...         ...\n",
       "293       volvo       v40       wagon\n",
       "294       volvo       v50       wagon\n",
       "295       volvo       v60       wagon\n",
       "296       volvo       v70       wagon\n",
       "297       volvo  xc_reihe         suv\n",
       "\n",
       "[298 rows x 3 columns]"
      ]
     },
     "execution_count": 25,
     "metadata": {},
     "output_type": "execute_result"
    }
   ],
   "source": [
    "pt_v"
   ]
  },
  {
   "cell_type": "code",
   "execution_count": 26,
   "metadata": {},
   "outputs": [],
   "source": [
    "def func_v(row):\n",
    "    result = row[\"VehicleType\"]\n",
    "    mode = pt_v[\n",
    "        (pt_v[\"Brand\"] == row[\"Brand\"]) & (pt_v[\"Model\"] == row[\"Model\"])\n",
    "    ].values[0][2]\n",
    "    if (result != result) & (type(mode) == str):\n",
    "        return mode\n",
    "    else:\n",
    "        return result"
   ]
  },
  {
   "cell_type": "code",
   "execution_count": 27,
   "metadata": {},
   "outputs": [
    {
     "name": "stdout",
     "output_type": "stream",
     "text": [
      "CPU times: user 6min 57s, sys: 1.53 s, total: 6min 58s\n",
      "Wall time: 6min 59s\n"
     ]
    }
   ],
   "source": [
    "%%time\n",
    "df[\"VehicleType\"] = df.apply(lambda row: func_v(row), axis=1)"
   ]
  },
  {
   "cell_type": "code",
   "execution_count": 28,
   "metadata": {},
   "outputs": [
    {
     "data": {
      "text/plain": [
       "12"
      ]
     },
     "execution_count": 28,
     "metadata": {},
     "output_type": "execute_result"
    }
   ],
   "source": [
    "df[\"VehicleType\"].isna().sum()"
   ]
  },
  {
   "cell_type": "markdown",
   "metadata": {},
   "source": [
    "We see that there are some gaps in the `VehicleType` column, these are the objects for which the mod was an undefined value. There is not much such data, so we can ignore it."
   ]
  },
  {
   "cell_type": "code",
   "execution_count": 29,
   "metadata": {},
   "outputs": [],
   "source": [
    "df.dropna(subset=[\"VehicleType\"], inplace=True)"
   ]
  },
  {
   "cell_type": "code",
   "execution_count": 30,
   "metadata": {
    "scrolled": true
   },
   "outputs": [
    {
     "data": {
      "text/plain": [
       "0"
      ]
     },
     "execution_count": 30,
     "metadata": {},
     "output_type": "execute_result"
    }
   ],
   "source": [
    "df[\"VehicleType\"].isna().sum()"
   ]
  },
  {
   "cell_type": "markdown",
   "metadata": {},
   "source": [
    "As we can see, there are no more omissions in the `VehicleType` column."
   ]
  },
  {
   "cell_type": "code",
   "execution_count": 31,
   "metadata": {},
   "outputs": [
    {
     "data": {
      "text/plain": [
       "array(['petrol', 'gasoline', nan, 'lpg', 'other', 'hybrid', 'cng',\n",
       "       'electric'], dtype=object)"
      ]
     },
     "execution_count": 31,
     "metadata": {},
     "output_type": "execute_result"
    }
   ],
   "source": [
    "df[\"FuelType\"].unique()"
   ]
  },
  {
   "cell_type": "markdown",
   "metadata": {},
   "source": [
    "The omissions in the `FuelType` column can be replaced by the most common value of this characteristic for each `Brand`-`Power` combination, since usually the same automobile brand puts the same engine with a certain power rating on its models."
   ]
  },
  {
   "cell_type": "code",
   "execution_count": 32,
   "metadata": {},
   "outputs": [],
   "source": [
    "pt_f = df.pivot_table(\n",
    "    index=[\"Brand\", \"Power\"], values=[\"FuelType\"], aggfunc=[pd.Series.mode]\n",
    ").reset_index()"
   ]
  },
  {
   "cell_type": "code",
   "execution_count": 33,
   "metadata": {},
   "outputs": [
    {
     "data": {
      "text/html": [
       "<div>\n",
       "<style scoped>\n",
       "    .dataframe tbody tr th:only-of-type {\n",
       "        vertical-align: middle;\n",
       "    }\n",
       "\n",
       "    .dataframe tbody tr th {\n",
       "        vertical-align: top;\n",
       "    }\n",
       "\n",
       "    .dataframe thead tr th {\n",
       "        text-align: left;\n",
       "    }\n",
       "</style>\n",
       "<table border=\"1\" class=\"dataframe\">\n",
       "  <thead>\n",
       "    <tr>\n",
       "      <th></th>\n",
       "      <th>Brand</th>\n",
       "      <th>Power</th>\n",
       "      <th>mode</th>\n",
       "    </tr>\n",
       "    <tr>\n",
       "      <th></th>\n",
       "      <th></th>\n",
       "      <th></th>\n",
       "      <th>FuelType</th>\n",
       "    </tr>\n",
       "  </thead>\n",
       "  <tbody>\n",
       "    <tr>\n",
       "      <th>0</th>\n",
       "      <td>alfa_romeo</td>\n",
       "      <td>0</td>\n",
       "      <td>petrol</td>\n",
       "    </tr>\n",
       "    <tr>\n",
       "      <th>1</th>\n",
       "      <td>alfa_romeo</td>\n",
       "      <td>50</td>\n",
       "      <td>petrol</td>\n",
       "    </tr>\n",
       "    <tr>\n",
       "      <th>2</th>\n",
       "      <td>alfa_romeo</td>\n",
       "      <td>63</td>\n",
       "      <td>petrol</td>\n",
       "    </tr>\n",
       "    <tr>\n",
       "      <th>3</th>\n",
       "      <td>alfa_romeo</td>\n",
       "      <td>65</td>\n",
       "      <td>petrol</td>\n",
       "    </tr>\n",
       "    <tr>\n",
       "      <th>4</th>\n",
       "      <td>alfa_romeo</td>\n",
       "      <td>66</td>\n",
       "      <td>petrol</td>\n",
       "    </tr>\n",
       "    <tr>\n",
       "      <th>...</th>\n",
       "      <td>...</td>\n",
       "      <td>...</td>\n",
       "      <td>...</td>\n",
       "    </tr>\n",
       "    <tr>\n",
       "      <th>5425</th>\n",
       "      <td>volvo</td>\n",
       "      <td>300</td>\n",
       "      <td>petrol</td>\n",
       "    </tr>\n",
       "    <tr>\n",
       "      <th>5426</th>\n",
       "      <td>volvo</td>\n",
       "      <td>315</td>\n",
       "      <td>petrol</td>\n",
       "    </tr>\n",
       "    <tr>\n",
       "      <th>5427</th>\n",
       "      <td>volvo</td>\n",
       "      <td>1056</td>\n",
       "      <td>[]</td>\n",
       "    </tr>\n",
       "    <tr>\n",
       "      <th>5428</th>\n",
       "      <td>volvo</td>\n",
       "      <td>1162</td>\n",
       "      <td>petrol</td>\n",
       "    </tr>\n",
       "    <tr>\n",
       "      <th>5429</th>\n",
       "      <td>volvo</td>\n",
       "      <td>2792</td>\n",
       "      <td>lpg</td>\n",
       "    </tr>\n",
       "  </tbody>\n",
       "</table>\n",
       "<p>5430 rows × 3 columns</p>\n",
       "</div>"
      ],
      "text/plain": [
       "           Brand Power     mode\n",
       "                       FuelType\n",
       "0     alfa_romeo     0   petrol\n",
       "1     alfa_romeo    50   petrol\n",
       "2     alfa_romeo    63   petrol\n",
       "3     alfa_romeo    65   petrol\n",
       "4     alfa_romeo    66   petrol\n",
       "...          ...   ...      ...\n",
       "5425       volvo   300   petrol\n",
       "5426       volvo   315   petrol\n",
       "5427       volvo  1056       []\n",
       "5428       volvo  1162   petrol\n",
       "5429       volvo  2792      lpg\n",
       "\n",
       "[5430 rows x 3 columns]"
      ]
     },
     "execution_count": 33,
     "metadata": {},
     "output_type": "execute_result"
    }
   ],
   "source": [
    "pt_f"
   ]
  },
  {
   "cell_type": "code",
   "execution_count": 34,
   "metadata": {},
   "outputs": [],
   "source": [
    "def func_f(row):\n",
    "    result = row[\"FuelType\"]\n",
    "    mode = pt_f[\n",
    "        (pt_f[\"Brand\"] == row[\"Brand\"]) & (pt_f[\"Power\"] == row[\"Power\"])\n",
    "    ].values[0][2]\n",
    "    if (result != result) & (type(mode) == str):\n",
    "        return mode\n",
    "    else:\n",
    "        return result"
   ]
  },
  {
   "cell_type": "code",
   "execution_count": 35,
   "metadata": {},
   "outputs": [
    {
     "name": "stdout",
     "output_type": "stream",
     "text": [
      "CPU times: user 18min 20s, sys: 3.57 s, total: 18min 24s\n",
      "Wall time: 18min 25s\n"
     ]
    }
   ],
   "source": [
    "%%time\n",
    "df[\"FuelType\"] = df.apply(lambda row: func_f(row), axis=1)"
   ]
  },
  {
   "cell_type": "code",
   "execution_count": 36,
   "metadata": {},
   "outputs": [
    {
     "data": {
      "text/plain": [
       "324"
      ]
     },
     "execution_count": 36,
     "metadata": {},
     "output_type": "execute_result"
    }
   ],
   "source": [
    "df[\"FuelType\"].isna().sum()"
   ]
  },
  {
   "cell_type": "markdown",
   "metadata": {},
   "source": [
    "We got a result similar to the one we got when processing omissions in `Fueltype`, let's do the same as in that situation."
   ]
  },
  {
   "cell_type": "code",
   "execution_count": 37,
   "metadata": {},
   "outputs": [],
   "source": [
    "df.dropna(subset=[\"FuelType\"], inplace=True)"
   ]
  },
  {
   "cell_type": "code",
   "execution_count": 38,
   "metadata": {
    "scrolled": true
   },
   "outputs": [
    {
     "data": {
      "text/plain": [
       "0"
      ]
     },
     "execution_count": 38,
     "metadata": {},
     "output_type": "execute_result"
    }
   ],
   "source": [
    "df[\"FuelType\"].isna().sum()"
   ]
  },
  {
   "cell_type": "markdown",
   "metadata": {},
   "source": [
    "As we can see, we managed to get rid of the omissions in `FuelType`."
   ]
  },
  {
   "cell_type": "code",
   "execution_count": 39,
   "metadata": {},
   "outputs": [
    {
     "name": "stdout",
     "output_type": "stream",
     "text": [
      "<class 'pandas.core.frame.DataFrame'>\n",
      "Int64Index: 354033 entries, 0 to 354368\n",
      "Data columns (total 11 columns):\n",
      " #   Column             Non-Null Count   Dtype \n",
      "---  ------             --------------   ----- \n",
      " 0   Price              354033 non-null  int64 \n",
      " 1   VehicleType        354033 non-null  object\n",
      " 2   RegistrationYear   354033 non-null  int64 \n",
      " 3   Gearbox            354033 non-null  object\n",
      " 4   Power              354033 non-null  int64 \n",
      " 5   Model              354033 non-null  object\n",
      " 6   Kilometer          354033 non-null  int64 \n",
      " 7   RegistrationMonth  354033 non-null  int64 \n",
      " 8   FuelType           354033 non-null  object\n",
      " 9   Brand              354033 non-null  object\n",
      " 10  Repaired           354033 non-null  object\n",
      "dtypes: int64(5), object(6)\n",
      "memory usage: 32.4+ MB\n"
     ]
    }
   ],
   "source": [
    "df.info()"
   ]
  },
  {
   "cell_type": "markdown",
   "metadata": {},
   "source": [
    "There are no more omissions in the table, let's see if there are any abnormal values."
   ]
  },
  {
   "cell_type": "code",
   "execution_count": 40,
   "metadata": {},
   "outputs": [
    {
     "data": {
      "text/plain": [
       "0"
      ]
     },
     "execution_count": 40,
     "metadata": {},
     "output_type": "execute_result"
    }
   ],
   "source": [
    "df[df[\"Price\"] < 0][\"Price\"].count()"
   ]
  },
  {
   "cell_type": "code",
   "execution_count": 41,
   "metadata": {},
   "outputs": [
    {
     "data": {
      "text/plain": [
       "0.030336155104185202"
      ]
     },
     "execution_count": 41,
     "metadata": {},
     "output_type": "execute_result"
    }
   ],
   "source": [
    "df[df[\"Price\"] == 0][\"Price\"].count() / len(df)"
   ]
  },
  {
   "cell_type": "markdown",
   "metadata": {},
   "source": [
    "We see that 3% of objects in the `Price` column have zero values, which is an anomaly. Let's remove them."
   ]
  },
  {
   "cell_type": "code",
   "execution_count": 42,
   "metadata": {},
   "outputs": [],
   "source": [
    "df = df[df[\"Price\"] != 0]"
   ]
  },
  {
   "cell_type": "code",
   "execution_count": 43,
   "metadata": {},
   "outputs": [
    {
     "data": {
      "text/plain": [
       "0"
      ]
     },
     "execution_count": 43,
     "metadata": {},
     "output_type": "execute_result"
    }
   ],
   "source": [
    "df[df[\"Price\"] == 0][\"Price\"].count()"
   ]
  },
  {
   "cell_type": "code",
   "execution_count": 44,
   "metadata": {},
   "outputs": [],
   "source": [
    "df.to_csv(r\"df_processed_1.csv\", index=False, sep=\",\")"
   ]
  },
  {
   "cell_type": "code",
   "execution_count": 45,
   "metadata": {},
   "outputs": [
    {
     "data": {
      "text/html": [
       "<div>\n",
       "<style scoped>\n",
       "    .dataframe tbody tr th:only-of-type {\n",
       "        vertical-align: middle;\n",
       "    }\n",
       "\n",
       "    .dataframe tbody tr th {\n",
       "        vertical-align: top;\n",
       "    }\n",
       "\n",
       "    .dataframe thead th {\n",
       "        text-align: right;\n",
       "    }\n",
       "</style>\n",
       "<table border=\"1\" class=\"dataframe\">\n",
       "  <thead>\n",
       "    <tr style=\"text-align: right;\">\n",
       "      <th></th>\n",
       "      <th>Price</th>\n",
       "      <th>VehicleType</th>\n",
       "      <th>RegistrationYear</th>\n",
       "      <th>Gearbox</th>\n",
       "      <th>Power</th>\n",
       "      <th>Model</th>\n",
       "      <th>Kilometer</th>\n",
       "      <th>RegistrationMonth</th>\n",
       "      <th>FuelType</th>\n",
       "      <th>Brand</th>\n",
       "      <th>Repaired</th>\n",
       "    </tr>\n",
       "  </thead>\n",
       "  <tbody>\n",
       "    <tr>\n",
       "      <th>0</th>\n",
       "      <td>480</td>\n",
       "      <td>sedan</td>\n",
       "      <td>1993</td>\n",
       "      <td>manual</td>\n",
       "      <td>0</td>\n",
       "      <td>golf</td>\n",
       "      <td>150000</td>\n",
       "      <td>0</td>\n",
       "      <td>petrol</td>\n",
       "      <td>volkswagen</td>\n",
       "      <td>Unknown</td>\n",
       "    </tr>\n",
       "    <tr>\n",
       "      <th>1</th>\n",
       "      <td>18300</td>\n",
       "      <td>coupe</td>\n",
       "      <td>2011</td>\n",
       "      <td>manual</td>\n",
       "      <td>190</td>\n",
       "      <td>other</td>\n",
       "      <td>125000</td>\n",
       "      <td>5</td>\n",
       "      <td>gasoline</td>\n",
       "      <td>audi</td>\n",
       "      <td>yes</td>\n",
       "    </tr>\n",
       "    <tr>\n",
       "      <th>2</th>\n",
       "      <td>9800</td>\n",
       "      <td>suv</td>\n",
       "      <td>2004</td>\n",
       "      <td>auto</td>\n",
       "      <td>163</td>\n",
       "      <td>grand</td>\n",
       "      <td>125000</td>\n",
       "      <td>8</td>\n",
       "      <td>gasoline</td>\n",
       "      <td>jeep</td>\n",
       "      <td>Unknown</td>\n",
       "    </tr>\n",
       "    <tr>\n",
       "      <th>3</th>\n",
       "      <td>1500</td>\n",
       "      <td>small</td>\n",
       "      <td>2001</td>\n",
       "      <td>manual</td>\n",
       "      <td>75</td>\n",
       "      <td>golf</td>\n",
       "      <td>150000</td>\n",
       "      <td>6</td>\n",
       "      <td>petrol</td>\n",
       "      <td>volkswagen</td>\n",
       "      <td>no</td>\n",
       "    </tr>\n",
       "    <tr>\n",
       "      <th>4</th>\n",
       "      <td>3600</td>\n",
       "      <td>small</td>\n",
       "      <td>2008</td>\n",
       "      <td>manual</td>\n",
       "      <td>69</td>\n",
       "      <td>fabia</td>\n",
       "      <td>90000</td>\n",
       "      <td>7</td>\n",
       "      <td>gasoline</td>\n",
       "      <td>skoda</td>\n",
       "      <td>no</td>\n",
       "    </tr>\n",
       "    <tr>\n",
       "      <th>5</th>\n",
       "      <td>650</td>\n",
       "      <td>sedan</td>\n",
       "      <td>1995</td>\n",
       "      <td>manual</td>\n",
       "      <td>102</td>\n",
       "      <td>3er</td>\n",
       "      <td>150000</td>\n",
       "      <td>10</td>\n",
       "      <td>petrol</td>\n",
       "      <td>bmw</td>\n",
       "      <td>yes</td>\n",
       "    </tr>\n",
       "    <tr>\n",
       "      <th>6</th>\n",
       "      <td>2200</td>\n",
       "      <td>convertible</td>\n",
       "      <td>2004</td>\n",
       "      <td>manual</td>\n",
       "      <td>109</td>\n",
       "      <td>2_reihe</td>\n",
       "      <td>150000</td>\n",
       "      <td>8</td>\n",
       "      <td>petrol</td>\n",
       "      <td>peugeot</td>\n",
       "      <td>no</td>\n",
       "    </tr>\n",
       "    <tr>\n",
       "      <th>7</th>\n",
       "      <td>14500</td>\n",
       "      <td>bus</td>\n",
       "      <td>2014</td>\n",
       "      <td>manual</td>\n",
       "      <td>125</td>\n",
       "      <td>c_max</td>\n",
       "      <td>30000</td>\n",
       "      <td>8</td>\n",
       "      <td>petrol</td>\n",
       "      <td>ford</td>\n",
       "      <td>Unknown</td>\n",
       "    </tr>\n",
       "    <tr>\n",
       "      <th>8</th>\n",
       "      <td>999</td>\n",
       "      <td>small</td>\n",
       "      <td>1998</td>\n",
       "      <td>manual</td>\n",
       "      <td>101</td>\n",
       "      <td>golf</td>\n",
       "      <td>150000</td>\n",
       "      <td>0</td>\n",
       "      <td>petrol</td>\n",
       "      <td>volkswagen</td>\n",
       "      <td>Unknown</td>\n",
       "    </tr>\n",
       "    <tr>\n",
       "      <th>9</th>\n",
       "      <td>2000</td>\n",
       "      <td>sedan</td>\n",
       "      <td>2004</td>\n",
       "      <td>manual</td>\n",
       "      <td>105</td>\n",
       "      <td>3_reihe</td>\n",
       "      <td>150000</td>\n",
       "      <td>12</td>\n",
       "      <td>petrol</td>\n",
       "      <td>mazda</td>\n",
       "      <td>no</td>\n",
       "    </tr>\n",
       "  </tbody>\n",
       "</table>\n",
       "</div>"
      ],
      "text/plain": [
       "   Price  VehicleType  RegistrationYear Gearbox  Power    Model  Kilometer  \\\n",
       "0    480        sedan              1993  manual      0     golf     150000   \n",
       "1  18300        coupe              2011  manual    190    other     125000   \n",
       "2   9800          suv              2004    auto    163    grand     125000   \n",
       "3   1500        small              2001  manual     75     golf     150000   \n",
       "4   3600        small              2008  manual     69    fabia      90000   \n",
       "5    650        sedan              1995  manual    102      3er     150000   \n",
       "6   2200  convertible              2004  manual    109  2_reihe     150000   \n",
       "7  14500          bus              2014  manual    125    c_max      30000   \n",
       "8    999        small              1998  manual    101     golf     150000   \n",
       "9   2000        sedan              2004  manual    105  3_reihe     150000   \n",
       "\n",
       "   RegistrationMonth  FuelType       Brand Repaired  \n",
       "0                  0    petrol  volkswagen  Unknown  \n",
       "1                  5  gasoline        audi      yes  \n",
       "2                  8  gasoline        jeep  Unknown  \n",
       "3                  6    petrol  volkswagen       no  \n",
       "4                  7  gasoline       skoda       no  \n",
       "5                 10    petrol         bmw      yes  \n",
       "6                  8    petrol     peugeot       no  \n",
       "7                  8    petrol        ford  Unknown  \n",
       "8                  0    petrol  volkswagen  Unknown  \n",
       "9                 12    petrol       mazda       no  "
      ]
     },
     "execution_count": 45,
     "metadata": {},
     "output_type": "execute_result"
    }
   ],
   "source": [
    "df = pd.read_csv(\"df_processed_1.csv\", sep=\",\")\n",
    "df.head(10)"
   ]
  },
  {
   "cell_type": "markdown",
   "metadata": {},
   "source": [
    "Since the first automobile was created in 1885, it means that the values in `RegistrationYear` must be greater than this value, and they must not exceed the current year."
   ]
  },
  {
   "cell_type": "code",
   "execution_count": 46,
   "metadata": {},
   "outputs": [
    {
     "data": {
      "text/plain": [
       "0.0001427352145252015"
      ]
     },
     "execution_count": 46,
     "metadata": {},
     "output_type": "execute_result"
    }
   ],
   "source": [
    "df[df[\"RegistrationYear\"] < 1885][\"RegistrationYear\"].count() / len(df)"
   ]
  },
  {
   "cell_type": "code",
   "execution_count": 47,
   "metadata": {},
   "outputs": [
    {
     "data": {
      "text/plain": [
       "0.0002476019027477985"
      ]
     },
     "execution_count": 47,
     "metadata": {},
     "output_type": "execute_result"
    }
   ],
   "source": [
    "df[df[\"RegistrationYear\"] > 2022][\"RegistrationYear\"].count() / len(df)"
   ]
  },
  {
   "cell_type": "markdown",
   "metadata": {},
   "source": [
    "Such data is extremely scarce, so we can dispose of it."
   ]
  },
  {
   "cell_type": "code",
   "execution_count": 48,
   "metadata": {},
   "outputs": [],
   "source": [
    "df = df[(df[\"RegistrationYear\"] >= 1885) & (df[\"RegistrationYear\"] <= 2022)]"
   ]
  },
  {
   "cell_type": "code",
   "execution_count": 49,
   "metadata": {},
   "outputs": [
    {
     "data": {
      "text/plain": [
       "0"
      ]
     },
     "execution_count": 49,
     "metadata": {},
     "output_type": "execute_result"
    }
   ],
   "source": [
    "df[df[\"RegistrationYear\"] < 1885][\"RegistrationYear\"].count()"
   ]
  },
  {
   "cell_type": "code",
   "execution_count": 50,
   "metadata": {},
   "outputs": [
    {
     "data": {
      "text/plain": [
       "0"
      ]
     },
     "execution_count": 50,
     "metadata": {},
     "output_type": "execute_result"
    }
   ],
   "source": [
    "df[df[\"RegistrationYear\"] > 2022][\"RegistrationYear\"].count()"
   ]
  },
  {
   "cell_type": "markdown",
   "metadata": {},
   "source": [
    "The values in the `Power` column should be positive and not exceed the value of 4000 hp, which corresponds to the power of the world's largest truck, let's check if this is true."
   ]
  },
  {
   "cell_type": "code",
   "execution_count": 51,
   "metadata": {},
   "outputs": [
    {
     "data": {
      "text/plain": [
       "0"
      ]
     },
     "execution_count": 51,
     "metadata": {},
     "output_type": "execute_result"
    }
   ],
   "source": [
    "df[df[\"Power\"] < 0][\"Power\"].count()"
   ]
  },
  {
   "cell_type": "code",
   "execution_count": 52,
   "metadata": {},
   "outputs": [
    {
     "data": {
      "text/plain": [
       "36256"
      ]
     },
     "execution_count": 52,
     "metadata": {},
     "output_type": "execute_result"
    }
   ],
   "source": [
    "df[df[\"Power\"] == 0][\"Power\"].count()"
   ]
  },
  {
   "cell_type": "code",
   "execution_count": 53,
   "metadata": {},
   "outputs": [
    {
     "data": {
      "text/plain": [
       "66"
      ]
     },
     "execution_count": 53,
     "metadata": {},
     "output_type": "execute_result"
    }
   ],
   "source": [
    "df[df[\"Power\"] > 4000][\"Power\"].count()"
   ]
  },
  {
   "cell_type": "markdown",
   "metadata": {},
   "source": [
    "We see that abnormal values in `Power` are present, let's remove them."
   ]
  },
  {
   "cell_type": "code",
   "execution_count": 54,
   "metadata": {},
   "outputs": [],
   "source": [
    "df = df[(df[\"Power\"] > 0) & (df[\"Power\"] <= 4000)]"
   ]
  },
  {
   "cell_type": "code",
   "execution_count": 55,
   "metadata": {},
   "outputs": [
    {
     "data": {
      "text/plain": [
       "0"
      ]
     },
     "execution_count": 55,
     "metadata": {},
     "output_type": "execute_result"
    }
   ],
   "source": [
    "df[(df[\"Power\"] == 0) | (df[\"Power\"] > 4000)][\"Power\"].count()"
   ]
  },
  {
   "cell_type": "markdown",
   "metadata": {},
   "source": [
    "A vehicle's mileage cannot be negative."
   ]
  },
  {
   "cell_type": "code",
   "execution_count": 56,
   "metadata": {},
   "outputs": [
    {
     "data": {
      "text/plain": [
       "0"
      ]
     },
     "execution_count": 56,
     "metadata": {},
     "output_type": "execute_result"
    }
   ],
   "source": [
    "df[df[\"Kilometer\"] < 0][\"Kilometer\"].count()"
   ]
  },
  {
   "cell_type": "markdown",
   "metadata": {},
   "source": [
    "We see that no abnormal values are found in `Kilometer`."
   ]
  },
  {
   "cell_type": "code",
   "execution_count": 57,
   "metadata": {},
   "outputs": [
    {
     "data": {
      "text/plain": [
       "array([125000, 150000,  90000,  30000,  70000, 100000,  60000,   5000,\n",
       "        20000,  80000,  50000,  40000,  10000])"
      ]
     },
     "execution_count": 57,
     "metadata": {},
     "output_type": "execute_result"
    }
   ],
   "source": [
    "df[\"Kilometer\"].unique()"
   ]
  },
  {
   "cell_type": "markdown",
   "metadata": {},
   "source": [
    "We see that the `Kilometer` column accepts a limited number of values, hence it can be considered categorical."
   ]
  },
  {
   "cell_type": "markdown",
   "metadata": {},
   "source": [
    "The values in the `RegistrationMonth` column must take values from 1 to 12, let's check if this condition is met."
   ]
  },
  {
   "cell_type": "code",
   "execution_count": 58,
   "metadata": {},
   "outputs": [
    {
     "data": {
      "text/plain": [
       "0.06520074176191268"
      ]
     },
     "execution_count": 58,
     "metadata": {},
     "output_type": "execute_result"
    }
   ],
   "source": [
    "df[(df[\"RegistrationMonth\"] < 1) | (df[\"RegistrationMonth\"] > 12)][\n",
    "    \"RegistrationMonth\"\n",
    "].count() / len(df)"
   ]
  },
  {
   "cell_type": "markdown",
   "metadata": {},
   "source": [
    "We see that there are such values, let's remove them."
   ]
  },
  {
   "cell_type": "code",
   "execution_count": 59,
   "metadata": {},
   "outputs": [],
   "source": [
    "df = df[(df[\"RegistrationMonth\"] >= 1) & (df[\"RegistrationMonth\"] <= 12)]"
   ]
  },
  {
   "cell_type": "code",
   "execution_count": 60,
   "metadata": {},
   "outputs": [
    {
     "data": {
      "text/plain": [
       "0"
      ]
     },
     "execution_count": 60,
     "metadata": {},
     "output_type": "execute_result"
    }
   ],
   "source": [
    "df[(df[\"RegistrationMonth\"] < 1) | (df[\"RegistrationMonth\"] > 12)][\n",
    "    \"RegistrationMonth\"\n",
    "].count()"
   ]
  },
  {
   "cell_type": "code",
   "execution_count": 61,
   "metadata": {},
   "outputs": [
    {
     "name": "stdout",
     "output_type": "stream",
     "text": [
      "<class 'pandas.core.frame.DataFrame'>\n",
      "Int64Index: 286831 entries, 1 to 343292\n",
      "Data columns (total 11 columns):\n",
      " #   Column             Non-Null Count   Dtype \n",
      "---  ------             --------------   ----- \n",
      " 0   Price              286831 non-null  int64 \n",
      " 1   VehicleType        286831 non-null  object\n",
      " 2   RegistrationYear   286831 non-null  int64 \n",
      " 3   Gearbox            286831 non-null  object\n",
      " 4   Power              286831 non-null  int64 \n",
      " 5   Model              286831 non-null  object\n",
      " 6   Kilometer          286831 non-null  int64 \n",
      " 7   RegistrationMonth  286831 non-null  int64 \n",
      " 8   FuelType           286831 non-null  object\n",
      " 9   Brand              286831 non-null  object\n",
      " 10  Repaired           286831 non-null  object\n",
      "dtypes: int64(5), object(6)\n",
      "memory usage: 26.3+ MB\n"
     ]
    }
   ],
   "source": [
    "df.info()"
   ]
  },
  {
   "cell_type": "markdown",
   "metadata": {},
   "source": [
    "Check the dataframe for duplicates."
   ]
  },
  {
   "cell_type": "code",
   "execution_count": 62,
   "metadata": {},
   "outputs": [
    {
     "data": {
      "text/plain": [
       "0.08328249038632504"
      ]
     },
     "execution_count": 62,
     "metadata": {},
     "output_type": "execute_result"
    }
   ],
   "source": [
    "df.duplicated().mean()"
   ]
  },
  {
   "cell_type": "markdown",
   "metadata": {},
   "source": [
    "We see that there are 8% duplicates in the dataframe, let's delete them."
   ]
  },
  {
   "cell_type": "code",
   "execution_count": 63,
   "metadata": {},
   "outputs": [],
   "source": [
    "df = df.drop_duplicates().reset_index(drop=True)"
   ]
  },
  {
   "cell_type": "code",
   "execution_count": 64,
   "metadata": {},
   "outputs": [
    {
     "data": {
      "text/plain": [
       "0"
      ]
     },
     "execution_count": 64,
     "metadata": {},
     "output_type": "execute_result"
    }
   ],
   "source": [
    "df.duplicated().sum()"
   ]
  },
  {
   "cell_type": "code",
   "execution_count": 65,
   "metadata": {},
   "outputs": [
    {
     "data": {
      "text/html": [
       "<div>\n",
       "<style scoped>\n",
       "    .dataframe tbody tr th:only-of-type {\n",
       "        vertical-align: middle;\n",
       "    }\n",
       "\n",
       "    .dataframe tbody tr th {\n",
       "        vertical-align: top;\n",
       "    }\n",
       "\n",
       "    .dataframe thead th {\n",
       "        text-align: right;\n",
       "    }\n",
       "</style>\n",
       "<table border=\"1\" class=\"dataframe\">\n",
       "  <thead>\n",
       "    <tr style=\"text-align: right;\">\n",
       "      <th></th>\n",
       "      <th>Price</th>\n",
       "      <th>VehicleType</th>\n",
       "      <th>RegistrationYear</th>\n",
       "      <th>Gearbox</th>\n",
       "      <th>Power</th>\n",
       "      <th>Model</th>\n",
       "      <th>Kilometer</th>\n",
       "      <th>RegistrationMonth</th>\n",
       "      <th>FuelType</th>\n",
       "      <th>Brand</th>\n",
       "      <th>Repaired</th>\n",
       "    </tr>\n",
       "  </thead>\n",
       "  <tbody>\n",
       "    <tr>\n",
       "      <th>0</th>\n",
       "      <td>18300</td>\n",
       "      <td>coupe</td>\n",
       "      <td>2011</td>\n",
       "      <td>manual</td>\n",
       "      <td>190</td>\n",
       "      <td>other</td>\n",
       "      <td>125000</td>\n",
       "      <td>5</td>\n",
       "      <td>gasoline</td>\n",
       "      <td>audi</td>\n",
       "      <td>yes</td>\n",
       "    </tr>\n",
       "    <tr>\n",
       "      <th>1</th>\n",
       "      <td>9800</td>\n",
       "      <td>suv</td>\n",
       "      <td>2004</td>\n",
       "      <td>auto</td>\n",
       "      <td>163</td>\n",
       "      <td>grand</td>\n",
       "      <td>125000</td>\n",
       "      <td>8</td>\n",
       "      <td>gasoline</td>\n",
       "      <td>jeep</td>\n",
       "      <td>Unknown</td>\n",
       "    </tr>\n",
       "    <tr>\n",
       "      <th>2</th>\n",
       "      <td>1500</td>\n",
       "      <td>small</td>\n",
       "      <td>2001</td>\n",
       "      <td>manual</td>\n",
       "      <td>75</td>\n",
       "      <td>golf</td>\n",
       "      <td>150000</td>\n",
       "      <td>6</td>\n",
       "      <td>petrol</td>\n",
       "      <td>volkswagen</td>\n",
       "      <td>no</td>\n",
       "    </tr>\n",
       "    <tr>\n",
       "      <th>3</th>\n",
       "      <td>3600</td>\n",
       "      <td>small</td>\n",
       "      <td>2008</td>\n",
       "      <td>manual</td>\n",
       "      <td>69</td>\n",
       "      <td>fabia</td>\n",
       "      <td>90000</td>\n",
       "      <td>7</td>\n",
       "      <td>gasoline</td>\n",
       "      <td>skoda</td>\n",
       "      <td>no</td>\n",
       "    </tr>\n",
       "    <tr>\n",
       "      <th>4</th>\n",
       "      <td>650</td>\n",
       "      <td>sedan</td>\n",
       "      <td>1995</td>\n",
       "      <td>manual</td>\n",
       "      <td>102</td>\n",
       "      <td>3er</td>\n",
       "      <td>150000</td>\n",
       "      <td>10</td>\n",
       "      <td>petrol</td>\n",
       "      <td>bmw</td>\n",
       "      <td>yes</td>\n",
       "    </tr>\n",
       "    <tr>\n",
       "      <th>5</th>\n",
       "      <td>2200</td>\n",
       "      <td>convertible</td>\n",
       "      <td>2004</td>\n",
       "      <td>manual</td>\n",
       "      <td>109</td>\n",
       "      <td>2_reihe</td>\n",
       "      <td>150000</td>\n",
       "      <td>8</td>\n",
       "      <td>petrol</td>\n",
       "      <td>peugeot</td>\n",
       "      <td>no</td>\n",
       "    </tr>\n",
       "    <tr>\n",
       "      <th>6</th>\n",
       "      <td>14500</td>\n",
       "      <td>bus</td>\n",
       "      <td>2014</td>\n",
       "      <td>manual</td>\n",
       "      <td>125</td>\n",
       "      <td>c_max</td>\n",
       "      <td>30000</td>\n",
       "      <td>8</td>\n",
       "      <td>petrol</td>\n",
       "      <td>ford</td>\n",
       "      <td>Unknown</td>\n",
       "    </tr>\n",
       "    <tr>\n",
       "      <th>7</th>\n",
       "      <td>2000</td>\n",
       "      <td>sedan</td>\n",
       "      <td>2004</td>\n",
       "      <td>manual</td>\n",
       "      <td>105</td>\n",
       "      <td>3_reihe</td>\n",
       "      <td>150000</td>\n",
       "      <td>12</td>\n",
       "      <td>petrol</td>\n",
       "      <td>mazda</td>\n",
       "      <td>no</td>\n",
       "    </tr>\n",
       "    <tr>\n",
       "      <th>8</th>\n",
       "      <td>2799</td>\n",
       "      <td>wagon</td>\n",
       "      <td>2005</td>\n",
       "      <td>manual</td>\n",
       "      <td>140</td>\n",
       "      <td>passat</td>\n",
       "      <td>150000</td>\n",
       "      <td>12</td>\n",
       "      <td>gasoline</td>\n",
       "      <td>volkswagen</td>\n",
       "      <td>yes</td>\n",
       "    </tr>\n",
       "    <tr>\n",
       "      <th>9</th>\n",
       "      <td>999</td>\n",
       "      <td>wagon</td>\n",
       "      <td>1995</td>\n",
       "      <td>manual</td>\n",
       "      <td>115</td>\n",
       "      <td>passat</td>\n",
       "      <td>150000</td>\n",
       "      <td>11</td>\n",
       "      <td>petrol</td>\n",
       "      <td>volkswagen</td>\n",
       "      <td>Unknown</td>\n",
       "    </tr>\n",
       "  </tbody>\n",
       "</table>\n",
       "</div>"
      ],
      "text/plain": [
       "   Price  VehicleType  RegistrationYear Gearbox  Power    Model  Kilometer  \\\n",
       "0  18300        coupe              2011  manual    190    other     125000   \n",
       "1   9800          suv              2004    auto    163    grand     125000   \n",
       "2   1500        small              2001  manual     75     golf     150000   \n",
       "3   3600        small              2008  manual     69    fabia      90000   \n",
       "4    650        sedan              1995  manual    102      3er     150000   \n",
       "5   2200  convertible              2004  manual    109  2_reihe     150000   \n",
       "6  14500          bus              2014  manual    125    c_max      30000   \n",
       "7   2000        sedan              2004  manual    105  3_reihe     150000   \n",
       "8   2799        wagon              2005  manual    140   passat     150000   \n",
       "9    999        wagon              1995  manual    115   passat     150000   \n",
       "\n",
       "   RegistrationMonth  FuelType       Brand Repaired  \n",
       "0                  5  gasoline        audi      yes  \n",
       "1                  8  gasoline        jeep  Unknown  \n",
       "2                  6    petrol  volkswagen       no  \n",
       "3                  7  gasoline       skoda       no  \n",
       "4                 10    petrol         bmw      yes  \n",
       "5                  8    petrol     peugeot       no  \n",
       "6                  8    petrol        ford  Unknown  \n",
       "7                 12    petrol       mazda       no  \n",
       "8                 12  gasoline  volkswagen      yes  \n",
       "9                 11    petrol  volkswagen  Unknown  "
      ]
     },
     "execution_count": 65,
     "metadata": {},
     "output_type": "execute_result"
    }
   ],
   "source": [
    "df.head(10)"
   ]
  },
  {
   "cell_type": "code",
   "execution_count": 66,
   "metadata": {},
   "outputs": [
    {
     "name": "stdout",
     "output_type": "stream",
     "text": [
      "<class 'pandas.core.frame.DataFrame'>\n",
      "RangeIndex: 262943 entries, 0 to 262942\n",
      "Data columns (total 11 columns):\n",
      " #   Column             Non-Null Count   Dtype \n",
      "---  ------             --------------   ----- \n",
      " 0   Price              262943 non-null  int64 \n",
      " 1   VehicleType        262943 non-null  object\n",
      " 2   RegistrationYear   262943 non-null  int64 \n",
      " 3   Gearbox            262943 non-null  object\n",
      " 4   Power              262943 non-null  int64 \n",
      " 5   Model              262943 non-null  object\n",
      " 6   Kilometer          262943 non-null  int64 \n",
      " 7   RegistrationMonth  262943 non-null  int64 \n",
      " 8   FuelType           262943 non-null  object\n",
      " 9   Brand              262943 non-null  object\n",
      " 10  Repaired           262943 non-null  object\n",
      "dtypes: int64(5), object(6)\n",
      "memory usage: 22.1+ MB\n"
     ]
    }
   ],
   "source": [
    "df.info()"
   ]
  },
  {
   "cell_type": "code",
   "execution_count": 67,
   "metadata": {},
   "outputs": [],
   "source": [
    "#df.to_csv(r\"df_processed_2.csv\", index=False, sep=\",\")"
   ]
  },
  {
   "cell_type": "code",
   "execution_count": 3,
   "metadata": {},
   "outputs": [],
   "source": [
    "#df = pd.read_csv(\"df_processed_2.csv\", sep=\",\")\n",
    "# df.head(10)"
   ]
  },
  {
   "cell_type": "code",
   "execution_count": 185,
   "metadata": {},
   "outputs": [
    {
     "data": {
      "application/javascript": [
       "\n",
       "            setTimeout(function() {\n",
       "                var nbb_cell_id = 185;\n",
       "                var nbb_unformatted_code = \"#df.info()\";\n",
       "                var nbb_formatted_code = \"# df.info()\";\n",
       "                var nbb_cells = Jupyter.notebook.get_cells();\n",
       "                for (var i = 0; i < nbb_cells.length; ++i) {\n",
       "                    if (nbb_cells[i].input_prompt_number == nbb_cell_id) {\n",
       "                        if (nbb_cells[i].get_text() == nbb_unformatted_code) {\n",
       "                             nbb_cells[i].set_text(nbb_formatted_code);\n",
       "                        }\n",
       "                        break;\n",
       "                    }\n",
       "                }\n",
       "            }, 500);\n",
       "            "
      ],
      "text/plain": [
       "<IPython.core.display.Javascript object>"
      ]
     },
     "metadata": {},
     "output_type": "display_data"
    }
   ],
   "source": [
    "# df.info()"
   ]
  },
  {
   "cell_type": "markdown",
   "metadata": {},
   "source": [
    "Split the raw data into two samples: training(75%) and test(25%)."
   ]
  },
  {
   "cell_type": "code",
   "execution_count": 4,
   "metadata": {},
   "outputs": [],
   "source": [
    "RANDOM_STATE = 12345"
   ]
  },
  {
   "cell_type": "code",
   "execution_count": 5,
   "metadata": {},
   "outputs": [],
   "source": [
    "target = df[\"Price\"]\n",
    "features = df.drop(\"Price\", axis=1)\n",
    "(features_train, features_test, target_train, target_test,) = train_test_split(\n",
    "    features, target, test_size=0.25, random_state=RANDOM_STATE\n",
    ")"
   ]
  },
  {
   "cell_type": "code",
   "execution_count": 6,
   "metadata": {},
   "outputs": [
    {
     "data": {
      "text/plain": [
       "(197207, 10)"
      ]
     },
     "execution_count": 6,
     "metadata": {},
     "output_type": "execute_result"
    }
   ],
   "source": [
    "features_train.shape"
   ]
  },
  {
   "cell_type": "code",
   "execution_count": 7,
   "metadata": {},
   "outputs": [
    {
     "data": {
      "text/html": [
       "<div>\n",
       "<style scoped>\n",
       "    .dataframe tbody tr th:only-of-type {\n",
       "        vertical-align: middle;\n",
       "    }\n",
       "\n",
       "    .dataframe tbody tr th {\n",
       "        vertical-align: top;\n",
       "    }\n",
       "\n",
       "    .dataframe thead th {\n",
       "        text-align: right;\n",
       "    }\n",
       "</style>\n",
       "<table border=\"1\" class=\"dataframe\">\n",
       "  <thead>\n",
       "    <tr style=\"text-align: right;\">\n",
       "      <th></th>\n",
       "      <th>VehicleType</th>\n",
       "      <th>RegistrationYear</th>\n",
       "      <th>Gearbox</th>\n",
       "      <th>Power</th>\n",
       "      <th>Model</th>\n",
       "      <th>Kilometer</th>\n",
       "      <th>RegistrationMonth</th>\n",
       "      <th>FuelType</th>\n",
       "      <th>Brand</th>\n",
       "      <th>Repaired</th>\n",
       "    </tr>\n",
       "  </thead>\n",
       "  <tbody>\n",
       "    <tr>\n",
       "      <th>247352</th>\n",
       "      <td>wagon</td>\n",
       "      <td>2010</td>\n",
       "      <td>auto</td>\n",
       "      <td>184</td>\n",
       "      <td>3er</td>\n",
       "      <td>150000</td>\n",
       "      <td>5</td>\n",
       "      <td>gasoline</td>\n",
       "      <td>bmw</td>\n",
       "      <td>no</td>\n",
       "    </tr>\n",
       "    <tr>\n",
       "      <th>175733</th>\n",
       "      <td>small</td>\n",
       "      <td>2015</td>\n",
       "      <td>manual</td>\n",
       "      <td>95</td>\n",
       "      <td>one</td>\n",
       "      <td>40000</td>\n",
       "      <td>1</td>\n",
       "      <td>gasoline</td>\n",
       "      <td>mini</td>\n",
       "      <td>no</td>\n",
       "    </tr>\n",
       "    <tr>\n",
       "      <th>77294</th>\n",
       "      <td>wagon</td>\n",
       "      <td>2005</td>\n",
       "      <td>manual</td>\n",
       "      <td>150</td>\n",
       "      <td>a3</td>\n",
       "      <td>90000</td>\n",
       "      <td>12</td>\n",
       "      <td>petrol</td>\n",
       "      <td>audi</td>\n",
       "      <td>no</td>\n",
       "    </tr>\n",
       "    <tr>\n",
       "      <th>57049</th>\n",
       "      <td>small</td>\n",
       "      <td>2003</td>\n",
       "      <td>manual</td>\n",
       "      <td>110</td>\n",
       "      <td>cooper</td>\n",
       "      <td>150000</td>\n",
       "      <td>3</td>\n",
       "      <td>petrol</td>\n",
       "      <td>mini</td>\n",
       "      <td>no</td>\n",
       "    </tr>\n",
       "    <tr>\n",
       "      <th>39656</th>\n",
       "      <td>coupe</td>\n",
       "      <td>2009</td>\n",
       "      <td>manual</td>\n",
       "      <td>260</td>\n",
       "      <td>other</td>\n",
       "      <td>90000</td>\n",
       "      <td>4</td>\n",
       "      <td>petrol</td>\n",
       "      <td>alfa_romeo</td>\n",
       "      <td>no</td>\n",
       "    </tr>\n",
       "  </tbody>\n",
       "</table>\n",
       "</div>"
      ],
      "text/plain": [
       "       VehicleType  RegistrationYear Gearbox  Power   Model  Kilometer  \\\n",
       "247352       wagon              2010    auto    184     3er     150000   \n",
       "175733       small              2015  manual     95     one      40000   \n",
       "77294        wagon              2005  manual    150      a3      90000   \n",
       "57049        small              2003  manual    110  cooper     150000   \n",
       "39656        coupe              2009  manual    260   other      90000   \n",
       "\n",
       "        RegistrationMonth  FuelType       Brand Repaired  \n",
       "247352                  5  gasoline         bmw       no  \n",
       "175733                  1  gasoline        mini       no  \n",
       "77294                  12    petrol        audi       no  \n",
       "57049                   3    petrol        mini       no  \n",
       "39656                   4    petrol  alfa_romeo       no  "
      ]
     },
     "execution_count": 7,
     "metadata": {},
     "output_type": "execute_result"
    }
   ],
   "source": [
    "features_train.head()"
   ]
  },
  {
   "cell_type": "code",
   "execution_count": 8,
   "metadata": {},
   "outputs": [
    {
     "data": {
      "text/plain": [
       "(65736, 10)"
      ]
     },
     "execution_count": 8,
     "metadata": {},
     "output_type": "execute_result"
    }
   ],
   "source": [
    "features_test.shape"
   ]
  },
  {
   "cell_type": "markdown",
   "metadata": {},
   "source": [
    "We can see by the number of rows in each sample that the separation has been done correctly."
   ]
  },
  {
   "cell_type": "code",
   "execution_count": 9,
   "metadata": {},
   "outputs": [
    {
     "data": {
      "text/html": [
       "<div>\n",
       "<style scoped>\n",
       "    .dataframe tbody tr th:only-of-type {\n",
       "        vertical-align: middle;\n",
       "    }\n",
       "\n",
       "    .dataframe tbody tr th {\n",
       "        vertical-align: top;\n",
       "    }\n",
       "\n",
       "    .dataframe thead th {\n",
       "        text-align: right;\n",
       "    }\n",
       "</style>\n",
       "<table border=\"1\" class=\"dataframe\">\n",
       "  <thead>\n",
       "    <tr style=\"text-align: right;\">\n",
       "      <th></th>\n",
       "      <th>Price</th>\n",
       "      <th>VehicleType</th>\n",
       "      <th>RegistrationYear</th>\n",
       "      <th>Gearbox</th>\n",
       "      <th>Power</th>\n",
       "      <th>Model</th>\n",
       "      <th>Kilometer</th>\n",
       "      <th>RegistrationMonth</th>\n",
       "      <th>FuelType</th>\n",
       "      <th>Brand</th>\n",
       "      <th>Repaired</th>\n",
       "    </tr>\n",
       "  </thead>\n",
       "  <tbody>\n",
       "    <tr>\n",
       "      <th>0</th>\n",
       "      <td>18300</td>\n",
       "      <td>coupe</td>\n",
       "      <td>2011</td>\n",
       "      <td>manual</td>\n",
       "      <td>190</td>\n",
       "      <td>other</td>\n",
       "      <td>125000</td>\n",
       "      <td>5</td>\n",
       "      <td>gasoline</td>\n",
       "      <td>audi</td>\n",
       "      <td>yes</td>\n",
       "    </tr>\n",
       "    <tr>\n",
       "      <th>1</th>\n",
       "      <td>9800</td>\n",
       "      <td>suv</td>\n",
       "      <td>2004</td>\n",
       "      <td>auto</td>\n",
       "      <td>163</td>\n",
       "      <td>grand</td>\n",
       "      <td>125000</td>\n",
       "      <td>8</td>\n",
       "      <td>gasoline</td>\n",
       "      <td>jeep</td>\n",
       "      <td>Unknown</td>\n",
       "    </tr>\n",
       "    <tr>\n",
       "      <th>2</th>\n",
       "      <td>1500</td>\n",
       "      <td>small</td>\n",
       "      <td>2001</td>\n",
       "      <td>manual</td>\n",
       "      <td>75</td>\n",
       "      <td>golf</td>\n",
       "      <td>150000</td>\n",
       "      <td>6</td>\n",
       "      <td>petrol</td>\n",
       "      <td>volkswagen</td>\n",
       "      <td>no</td>\n",
       "    </tr>\n",
       "    <tr>\n",
       "      <th>3</th>\n",
       "      <td>3600</td>\n",
       "      <td>small</td>\n",
       "      <td>2008</td>\n",
       "      <td>manual</td>\n",
       "      <td>69</td>\n",
       "      <td>fabia</td>\n",
       "      <td>90000</td>\n",
       "      <td>7</td>\n",
       "      <td>gasoline</td>\n",
       "      <td>skoda</td>\n",
       "      <td>no</td>\n",
       "    </tr>\n",
       "    <tr>\n",
       "      <th>4</th>\n",
       "      <td>650</td>\n",
       "      <td>sedan</td>\n",
       "      <td>1995</td>\n",
       "      <td>manual</td>\n",
       "      <td>102</td>\n",
       "      <td>3er</td>\n",
       "      <td>150000</td>\n",
       "      <td>10</td>\n",
       "      <td>petrol</td>\n",
       "      <td>bmw</td>\n",
       "      <td>yes</td>\n",
       "    </tr>\n",
       "  </tbody>\n",
       "</table>\n",
       "</div>"
      ],
      "text/plain": [
       "   Price VehicleType  RegistrationYear Gearbox  Power  Model  Kilometer  \\\n",
       "0  18300       coupe              2011  manual    190  other     125000   \n",
       "1   9800         suv              2004    auto    163  grand     125000   \n",
       "2   1500       small              2001  manual     75   golf     150000   \n",
       "3   3600       small              2008  manual     69  fabia      90000   \n",
       "4    650       sedan              1995  manual    102    3er     150000   \n",
       "\n",
       "   RegistrationMonth  FuelType       Brand Repaired  \n",
       "0                  5  gasoline        audi      yes  \n",
       "1                  8  gasoline        jeep  Unknown  \n",
       "2                  6    petrol  volkswagen       no  \n",
       "3                  7  gasoline       skoda       no  \n",
       "4                 10    petrol         bmw      yes  "
      ]
     },
     "execution_count": 9,
     "metadata": {},
     "output_type": "execute_result"
    }
   ],
   "source": [
    "df.head()"
   ]
  },
  {
   "cell_type": "markdown",
   "metadata": {},
   "source": [
    "Let's highlight the categorical attributes."
   ]
  },
  {
   "cell_type": "code",
   "execution_count": 10,
   "metadata": {},
   "outputs": [],
   "source": [
    "categories = [\n",
    "    \"VehicleType\",\n",
    "    \"Gearbox\",\n",
    "    \"Kilometer\",\n",
    "    \"Model\",\n",
    "    \"FuelType\",\n",
    "    \"Brand\",\n",
    "    \"Repaired\",\n",
    "]"
   ]
  },
  {
   "cell_type": "markdown",
   "metadata": {},
   "source": [
    "Next, in order to convert the categorical features into numerical features we use one-hot encoding technique (OHE)."
   ]
  },
  {
   "cell_type": "markdown",
   "metadata": {},
   "source": [
    "Apply direct encoding to the entire dataframe."
   ]
  },
  {
   "cell_type": "code",
   "execution_count": 11,
   "metadata": {},
   "outputs": [],
   "source": [
    "ohe = OneHotEncoder(handle_unknown=\"ignore\")"
   ]
  },
  {
   "cell_type": "code",
   "execution_count": 14,
   "metadata": {},
   "outputs": [
    {
     "data": {
      "text/html": [
       "<div>\n",
       "<style scoped>\n",
       "    .dataframe tbody tr th:only-of-type {\n",
       "        vertical-align: middle;\n",
       "    }\n",
       "\n",
       "    .dataframe tbody tr th {\n",
       "        vertical-align: top;\n",
       "    }\n",
       "\n",
       "    .dataframe thead th {\n",
       "        text-align: right;\n",
       "    }\n",
       "</style>\n",
       "<table border=\"1\" class=\"dataframe\">\n",
       "  <thead>\n",
       "    <tr style=\"text-align: right;\">\n",
       "      <th></th>\n",
       "      <th>VehicleType</th>\n",
       "      <th>Gearbox</th>\n",
       "      <th>Kilometer</th>\n",
       "      <th>Model</th>\n",
       "      <th>FuelType</th>\n",
       "      <th>Brand</th>\n",
       "      <th>Repaired</th>\n",
       "    </tr>\n",
       "  </thead>\n",
       "  <tbody>\n",
       "    <tr>\n",
       "      <th>247352</th>\n",
       "      <td>wagon</td>\n",
       "      <td>auto</td>\n",
       "      <td>150000</td>\n",
       "      <td>3er</td>\n",
       "      <td>gasoline</td>\n",
       "      <td>bmw</td>\n",
       "      <td>no</td>\n",
       "    </tr>\n",
       "    <tr>\n",
       "      <th>175733</th>\n",
       "      <td>small</td>\n",
       "      <td>manual</td>\n",
       "      <td>40000</td>\n",
       "      <td>one</td>\n",
       "      <td>gasoline</td>\n",
       "      <td>mini</td>\n",
       "      <td>no</td>\n",
       "    </tr>\n",
       "    <tr>\n",
       "      <th>77294</th>\n",
       "      <td>wagon</td>\n",
       "      <td>manual</td>\n",
       "      <td>90000</td>\n",
       "      <td>a3</td>\n",
       "      <td>petrol</td>\n",
       "      <td>audi</td>\n",
       "      <td>no</td>\n",
       "    </tr>\n",
       "    <tr>\n",
       "      <th>57049</th>\n",
       "      <td>small</td>\n",
       "      <td>manual</td>\n",
       "      <td>150000</td>\n",
       "      <td>cooper</td>\n",
       "      <td>petrol</td>\n",
       "      <td>mini</td>\n",
       "      <td>no</td>\n",
       "    </tr>\n",
       "    <tr>\n",
       "      <th>39656</th>\n",
       "      <td>coupe</td>\n",
       "      <td>manual</td>\n",
       "      <td>90000</td>\n",
       "      <td>other</td>\n",
       "      <td>petrol</td>\n",
       "      <td>alfa_romeo</td>\n",
       "      <td>no</td>\n",
       "    </tr>\n",
       "    <tr>\n",
       "      <th>...</th>\n",
       "      <td>...</td>\n",
       "      <td>...</td>\n",
       "      <td>...</td>\n",
       "      <td>...</td>\n",
       "      <td>...</td>\n",
       "      <td>...</td>\n",
       "      <td>...</td>\n",
       "    </tr>\n",
       "    <tr>\n",
       "      <th>158838</th>\n",
       "      <td>sedan</td>\n",
       "      <td>manual</td>\n",
       "      <td>150000</td>\n",
       "      <td>bora</td>\n",
       "      <td>petrol</td>\n",
       "      <td>volkswagen</td>\n",
       "      <td>no</td>\n",
       "    </tr>\n",
       "    <tr>\n",
       "      <th>47873</th>\n",
       "      <td>convertible</td>\n",
       "      <td>manual</td>\n",
       "      <td>70000</td>\n",
       "      <td>mx_reihe</td>\n",
       "      <td>petrol</td>\n",
       "      <td>mazda</td>\n",
       "      <td>no</td>\n",
       "    </tr>\n",
       "    <tr>\n",
       "      <th>86398</th>\n",
       "      <td>sedan</td>\n",
       "      <td>manual</td>\n",
       "      <td>150000</td>\n",
       "      <td>a6</td>\n",
       "      <td>gasoline</td>\n",
       "      <td>audi</td>\n",
       "      <td>no</td>\n",
       "    </tr>\n",
       "    <tr>\n",
       "      <th>77285</th>\n",
       "      <td>sedan</td>\n",
       "      <td>auto</td>\n",
       "      <td>150000</td>\n",
       "      <td>other</td>\n",
       "      <td>petrol</td>\n",
       "      <td>bmw</td>\n",
       "      <td>no</td>\n",
       "    </tr>\n",
       "    <tr>\n",
       "      <th>217570</th>\n",
       "      <td>sedan</td>\n",
       "      <td>auto</td>\n",
       "      <td>70000</td>\n",
       "      <td>x_type</td>\n",
       "      <td>petrol</td>\n",
       "      <td>jaguar</td>\n",
       "      <td>no</td>\n",
       "    </tr>\n",
       "  </tbody>\n",
       "</table>\n",
       "<p>197207 rows × 7 columns</p>\n",
       "</div>"
      ],
      "text/plain": [
       "        VehicleType Gearbox  Kilometer     Model  FuelType       Brand  \\\n",
       "247352        wagon    auto     150000       3er  gasoline         bmw   \n",
       "175733        small  manual      40000       one  gasoline        mini   \n",
       "77294         wagon  manual      90000        a3    petrol        audi   \n",
       "57049         small  manual     150000    cooper    petrol        mini   \n",
       "39656         coupe  manual      90000     other    petrol  alfa_romeo   \n",
       "...             ...     ...        ...       ...       ...         ...   \n",
       "158838        sedan  manual     150000      bora    petrol  volkswagen   \n",
       "47873   convertible  manual      70000  mx_reihe    petrol       mazda   \n",
       "86398         sedan  manual     150000        a6  gasoline        audi   \n",
       "77285         sedan    auto     150000     other    petrol         bmw   \n",
       "217570        sedan    auto      70000    x_type    petrol      jaguar   \n",
       "\n",
       "       Repaired  \n",
       "247352       no  \n",
       "175733       no  \n",
       "77294        no  \n",
       "57049        no  \n",
       "39656        no  \n",
       "...         ...  \n",
       "158838       no  \n",
       "47873        no  \n",
       "86398        no  \n",
       "77285        no  \n",
       "217570       no  \n",
       "\n",
       "[197207 rows x 7 columns]"
      ]
     },
     "execution_count": 14,
     "metadata": {},
     "output_type": "execute_result"
    },
    {
     "data": {
      "application/javascript": [
       "\n",
       "            setTimeout(function() {\n",
       "                var nbb_cell_id = 14;\n",
       "                var nbb_unformatted_code = \"features_train[categories]\";\n",
       "                var nbb_formatted_code = \"features_train[categories]\";\n",
       "                var nbb_cells = Jupyter.notebook.get_cells();\n",
       "                for (var i = 0; i < nbb_cells.length; ++i) {\n",
       "                    if (nbb_cells[i].input_prompt_number == nbb_cell_id) {\n",
       "                        if (nbb_cells[i].get_text() == nbb_unformatted_code) {\n",
       "                             nbb_cells[i].set_text(nbb_formatted_code);\n",
       "                        }\n",
       "                        break;\n",
       "                    }\n",
       "                }\n",
       "            }, 500);\n",
       "            "
      ],
      "text/plain": [
       "<IPython.core.display.Javascript object>"
      ]
     },
     "metadata": {},
     "output_type": "display_data"
    }
   ],
   "source": [
    "features_train[categories]"
   ]
  },
  {
   "cell_type": "code",
   "execution_count": 15,
   "metadata": {},
   "outputs": [
    {
     "data": {
      "application/javascript": [
       "\n",
       "            setTimeout(function() {\n",
       "                var nbb_cell_id = 15;\n",
       "                var nbb_unformatted_code = \"result = ohe.fit_transform(features_train[categories])\";\n",
       "                var nbb_formatted_code = \"result = ohe.fit_transform(features_train[categories])\";\n",
       "                var nbb_cells = Jupyter.notebook.get_cells();\n",
       "                for (var i = 0; i < nbb_cells.length; ++i) {\n",
       "                    if (nbb_cells[i].input_prompt_number == nbb_cell_id) {\n",
       "                        if (nbb_cells[i].get_text() == nbb_unformatted_code) {\n",
       "                             nbb_cells[i].set_text(nbb_formatted_code);\n",
       "                        }\n",
       "                        break;\n",
       "                    }\n",
       "                }\n",
       "            }, 500);\n",
       "            "
      ],
      "text/plain": [
       "<IPython.core.display.Javascript object>"
      ]
     },
     "metadata": {},
     "output_type": "display_data"
    }
   ],
   "source": [
    "result = ohe.fit_transform(features_train[categories])"
   ]
  },
  {
   "cell_type": "code",
   "execution_count": 16,
   "metadata": {},
   "outputs": [
    {
     "data": {
      "application/javascript": [
       "\n",
       "            setTimeout(function() {\n",
       "                var nbb_cell_id = 16;\n",
       "                var nbb_unformatted_code = \"features_train_ohe = pd.DataFrame.sparse.from_spmatrix(result)\";\n",
       "                var nbb_formatted_code = \"features_train_ohe = pd.DataFrame.sparse.from_spmatrix(result)\";\n",
       "                var nbb_cells = Jupyter.notebook.get_cells();\n",
       "                for (var i = 0; i < nbb_cells.length; ++i) {\n",
       "                    if (nbb_cells[i].input_prompt_number == nbb_cell_id) {\n",
       "                        if (nbb_cells[i].get_text() == nbb_unformatted_code) {\n",
       "                             nbb_cells[i].set_text(nbb_formatted_code);\n",
       "                        }\n",
       "                        break;\n",
       "                    }\n",
       "                }\n",
       "            }, 500);\n",
       "            "
      ],
      "text/plain": [
       "<IPython.core.display.Javascript object>"
      ]
     },
     "metadata": {},
     "output_type": "display_data"
    }
   ],
   "source": [
    "features_train_ohe = pd.DataFrame.sparse.from_spmatrix(result)"
   ]
  },
  {
   "cell_type": "code",
   "execution_count": 17,
   "metadata": {},
   "outputs": [
    {
     "data": {
      "application/javascript": [
       "\n",
       "            setTimeout(function() {\n",
       "                var nbb_cell_id = 17;\n",
       "                var nbb_unformatted_code = \"features_train_ohe.columns = ohe.get_feature_names(features_train[categories].columns)\";\n",
       "                var nbb_formatted_code = \"features_train_ohe.columns = ohe.get_feature_names(features_train[categories].columns)\";\n",
       "                var nbb_cells = Jupyter.notebook.get_cells();\n",
       "                for (var i = 0; i < nbb_cells.length; ++i) {\n",
       "                    if (nbb_cells[i].input_prompt_number == nbb_cell_id) {\n",
       "                        if (nbb_cells[i].get_text() == nbb_unformatted_code) {\n",
       "                             nbb_cells[i].set_text(nbb_formatted_code);\n",
       "                        }\n",
       "                        break;\n",
       "                    }\n",
       "                }\n",
       "            }, 500);\n",
       "            "
      ],
      "text/plain": [
       "<IPython.core.display.Javascript object>"
      ]
     },
     "metadata": {},
     "output_type": "display_data"
    }
   ],
   "source": [
    "features_train_ohe.columns = ohe.get_feature_names(features_train[categories].columns)"
   ]
  },
  {
   "cell_type": "code",
   "execution_count": 18,
   "metadata": {},
   "outputs": [
    {
     "data": {
      "text/html": [
       "<div>\n",
       "<style scoped>\n",
       "    .dataframe tbody tr th:only-of-type {\n",
       "        vertical-align: middle;\n",
       "    }\n",
       "\n",
       "    .dataframe tbody tr th {\n",
       "        vertical-align: top;\n",
       "    }\n",
       "\n",
       "    .dataframe thead th {\n",
       "        text-align: right;\n",
       "    }\n",
       "</style>\n",
       "<table border=\"1\" class=\"dataframe\">\n",
       "  <thead>\n",
       "    <tr style=\"text-align: right;\">\n",
       "      <th></th>\n",
       "      <th>VehicleType_bus</th>\n",
       "      <th>VehicleType_convertible</th>\n",
       "      <th>VehicleType_coupe</th>\n",
       "      <th>VehicleType_other</th>\n",
       "      <th>VehicleType_sedan</th>\n",
       "      <th>VehicleType_small</th>\n",
       "      <th>VehicleType_suv</th>\n",
       "      <th>VehicleType_wagon</th>\n",
       "      <th>Gearbox_auto</th>\n",
       "      <th>Gearbox_manual</th>\n",
       "      <th>...</th>\n",
       "      <th>Brand_sonstige_autos</th>\n",
       "      <th>Brand_subaru</th>\n",
       "      <th>Brand_suzuki</th>\n",
       "      <th>Brand_toyota</th>\n",
       "      <th>Brand_trabant</th>\n",
       "      <th>Brand_volkswagen</th>\n",
       "      <th>Brand_volvo</th>\n",
       "      <th>Repaired_Unknown</th>\n",
       "      <th>Repaired_no</th>\n",
       "      <th>Repaired_yes</th>\n",
       "    </tr>\n",
       "  </thead>\n",
       "  <tbody>\n",
       "    <tr>\n",
       "      <th>0</th>\n",
       "      <td>0.0</td>\n",
       "      <td>0.0</td>\n",
       "      <td>0.0</td>\n",
       "      <td>0.0</td>\n",
       "      <td>0.0</td>\n",
       "      <td>0.0</td>\n",
       "      <td>0.0</td>\n",
       "      <td>1.0</td>\n",
       "      <td>1.0</td>\n",
       "      <td>0.0</td>\n",
       "      <td>...</td>\n",
       "      <td>0.0</td>\n",
       "      <td>0.0</td>\n",
       "      <td>0.0</td>\n",
       "      <td>0.0</td>\n",
       "      <td>0.0</td>\n",
       "      <td>0.0</td>\n",
       "      <td>0.0</td>\n",
       "      <td>0.0</td>\n",
       "      <td>1.0</td>\n",
       "      <td>0.0</td>\n",
       "    </tr>\n",
       "    <tr>\n",
       "      <th>1</th>\n",
       "      <td>0.0</td>\n",
       "      <td>0.0</td>\n",
       "      <td>0.0</td>\n",
       "      <td>0.0</td>\n",
       "      <td>0.0</td>\n",
       "      <td>1.0</td>\n",
       "      <td>0.0</td>\n",
       "      <td>0.0</td>\n",
       "      <td>0.0</td>\n",
       "      <td>1.0</td>\n",
       "      <td>...</td>\n",
       "      <td>0.0</td>\n",
       "      <td>0.0</td>\n",
       "      <td>0.0</td>\n",
       "      <td>0.0</td>\n",
       "      <td>0.0</td>\n",
       "      <td>0.0</td>\n",
       "      <td>0.0</td>\n",
       "      <td>0.0</td>\n",
       "      <td>1.0</td>\n",
       "      <td>0.0</td>\n",
       "    </tr>\n",
       "    <tr>\n",
       "      <th>2</th>\n",
       "      <td>0.0</td>\n",
       "      <td>0.0</td>\n",
       "      <td>0.0</td>\n",
       "      <td>0.0</td>\n",
       "      <td>0.0</td>\n",
       "      <td>0.0</td>\n",
       "      <td>0.0</td>\n",
       "      <td>1.0</td>\n",
       "      <td>0.0</td>\n",
       "      <td>1.0</td>\n",
       "      <td>...</td>\n",
       "      <td>0.0</td>\n",
       "      <td>0.0</td>\n",
       "      <td>0.0</td>\n",
       "      <td>0.0</td>\n",
       "      <td>0.0</td>\n",
       "      <td>0.0</td>\n",
       "      <td>0.0</td>\n",
       "      <td>0.0</td>\n",
       "      <td>1.0</td>\n",
       "      <td>0.0</td>\n",
       "    </tr>\n",
       "    <tr>\n",
       "      <th>3</th>\n",
       "      <td>0.0</td>\n",
       "      <td>0.0</td>\n",
       "      <td>0.0</td>\n",
       "      <td>0.0</td>\n",
       "      <td>0.0</td>\n",
       "      <td>1.0</td>\n",
       "      <td>0.0</td>\n",
       "      <td>0.0</td>\n",
       "      <td>0.0</td>\n",
       "      <td>1.0</td>\n",
       "      <td>...</td>\n",
       "      <td>0.0</td>\n",
       "      <td>0.0</td>\n",
       "      <td>0.0</td>\n",
       "      <td>0.0</td>\n",
       "      <td>0.0</td>\n",
       "      <td>0.0</td>\n",
       "      <td>0.0</td>\n",
       "      <td>0.0</td>\n",
       "      <td>1.0</td>\n",
       "      <td>0.0</td>\n",
       "    </tr>\n",
       "    <tr>\n",
       "      <th>4</th>\n",
       "      <td>0.0</td>\n",
       "      <td>0.0</td>\n",
       "      <td>1.0</td>\n",
       "      <td>0.0</td>\n",
       "      <td>0.0</td>\n",
       "      <td>0.0</td>\n",
       "      <td>0.0</td>\n",
       "      <td>0.0</td>\n",
       "      <td>0.0</td>\n",
       "      <td>1.0</td>\n",
       "      <td>...</td>\n",
       "      <td>0.0</td>\n",
       "      <td>0.0</td>\n",
       "      <td>0.0</td>\n",
       "      <td>0.0</td>\n",
       "      <td>0.0</td>\n",
       "      <td>0.0</td>\n",
       "      <td>0.0</td>\n",
       "      <td>0.0</td>\n",
       "      <td>1.0</td>\n",
       "      <td>0.0</td>\n",
       "    </tr>\n",
       "    <tr>\n",
       "      <th>...</th>\n",
       "      <td>...</td>\n",
       "      <td>...</td>\n",
       "      <td>...</td>\n",
       "      <td>...</td>\n",
       "      <td>...</td>\n",
       "      <td>...</td>\n",
       "      <td>...</td>\n",
       "      <td>...</td>\n",
       "      <td>...</td>\n",
       "      <td>...</td>\n",
       "      <td>...</td>\n",
       "      <td>...</td>\n",
       "      <td>...</td>\n",
       "      <td>...</td>\n",
       "      <td>...</td>\n",
       "      <td>...</td>\n",
       "      <td>...</td>\n",
       "      <td>...</td>\n",
       "      <td>...</td>\n",
       "      <td>...</td>\n",
       "      <td>...</td>\n",
       "    </tr>\n",
       "    <tr>\n",
       "      <th>197202</th>\n",
       "      <td>0.0</td>\n",
       "      <td>0.0</td>\n",
       "      <td>0.0</td>\n",
       "      <td>0.0</td>\n",
       "      <td>1.0</td>\n",
       "      <td>0.0</td>\n",
       "      <td>0.0</td>\n",
       "      <td>0.0</td>\n",
       "      <td>0.0</td>\n",
       "      <td>1.0</td>\n",
       "      <td>...</td>\n",
       "      <td>0.0</td>\n",
       "      <td>0.0</td>\n",
       "      <td>0.0</td>\n",
       "      <td>0.0</td>\n",
       "      <td>0.0</td>\n",
       "      <td>1.0</td>\n",
       "      <td>0.0</td>\n",
       "      <td>0.0</td>\n",
       "      <td>1.0</td>\n",
       "      <td>0.0</td>\n",
       "    </tr>\n",
       "    <tr>\n",
       "      <th>197203</th>\n",
       "      <td>0.0</td>\n",
       "      <td>1.0</td>\n",
       "      <td>0.0</td>\n",
       "      <td>0.0</td>\n",
       "      <td>0.0</td>\n",
       "      <td>0.0</td>\n",
       "      <td>0.0</td>\n",
       "      <td>0.0</td>\n",
       "      <td>0.0</td>\n",
       "      <td>1.0</td>\n",
       "      <td>...</td>\n",
       "      <td>0.0</td>\n",
       "      <td>0.0</td>\n",
       "      <td>0.0</td>\n",
       "      <td>0.0</td>\n",
       "      <td>0.0</td>\n",
       "      <td>0.0</td>\n",
       "      <td>0.0</td>\n",
       "      <td>0.0</td>\n",
       "      <td>1.0</td>\n",
       "      <td>0.0</td>\n",
       "    </tr>\n",
       "    <tr>\n",
       "      <th>197204</th>\n",
       "      <td>0.0</td>\n",
       "      <td>0.0</td>\n",
       "      <td>0.0</td>\n",
       "      <td>0.0</td>\n",
       "      <td>1.0</td>\n",
       "      <td>0.0</td>\n",
       "      <td>0.0</td>\n",
       "      <td>0.0</td>\n",
       "      <td>0.0</td>\n",
       "      <td>1.0</td>\n",
       "      <td>...</td>\n",
       "      <td>0.0</td>\n",
       "      <td>0.0</td>\n",
       "      <td>0.0</td>\n",
       "      <td>0.0</td>\n",
       "      <td>0.0</td>\n",
       "      <td>0.0</td>\n",
       "      <td>0.0</td>\n",
       "      <td>0.0</td>\n",
       "      <td>1.0</td>\n",
       "      <td>0.0</td>\n",
       "    </tr>\n",
       "    <tr>\n",
       "      <th>197205</th>\n",
       "      <td>0.0</td>\n",
       "      <td>0.0</td>\n",
       "      <td>0.0</td>\n",
       "      <td>0.0</td>\n",
       "      <td>1.0</td>\n",
       "      <td>0.0</td>\n",
       "      <td>0.0</td>\n",
       "      <td>0.0</td>\n",
       "      <td>1.0</td>\n",
       "      <td>0.0</td>\n",
       "      <td>...</td>\n",
       "      <td>0.0</td>\n",
       "      <td>0.0</td>\n",
       "      <td>0.0</td>\n",
       "      <td>0.0</td>\n",
       "      <td>0.0</td>\n",
       "      <td>0.0</td>\n",
       "      <td>0.0</td>\n",
       "      <td>0.0</td>\n",
       "      <td>1.0</td>\n",
       "      <td>0.0</td>\n",
       "    </tr>\n",
       "    <tr>\n",
       "      <th>197206</th>\n",
       "      <td>0.0</td>\n",
       "      <td>0.0</td>\n",
       "      <td>0.0</td>\n",
       "      <td>0.0</td>\n",
       "      <td>1.0</td>\n",
       "      <td>0.0</td>\n",
       "      <td>0.0</td>\n",
       "      <td>0.0</td>\n",
       "      <td>1.0</td>\n",
       "      <td>0.0</td>\n",
       "      <td>...</td>\n",
       "      <td>0.0</td>\n",
       "      <td>0.0</td>\n",
       "      <td>0.0</td>\n",
       "      <td>0.0</td>\n",
       "      <td>0.0</td>\n",
       "      <td>0.0</td>\n",
       "      <td>0.0</td>\n",
       "      <td>0.0</td>\n",
       "      <td>1.0</td>\n",
       "      <td>0.0</td>\n",
       "    </tr>\n",
       "  </tbody>\n",
       "</table>\n",
       "<p>197207 rows × 321 columns</p>\n",
       "</div>"
      ],
      "text/plain": [
       "        VehicleType_bus  VehicleType_convertible  VehicleType_coupe  \\\n",
       "0                   0.0                      0.0                0.0   \n",
       "1                   0.0                      0.0                0.0   \n",
       "2                   0.0                      0.0                0.0   \n",
       "3                   0.0                      0.0                0.0   \n",
       "4                   0.0                      0.0                1.0   \n",
       "...                 ...                      ...                ...   \n",
       "197202              0.0                      0.0                0.0   \n",
       "197203              0.0                      1.0                0.0   \n",
       "197204              0.0                      0.0                0.0   \n",
       "197205              0.0                      0.0                0.0   \n",
       "197206              0.0                      0.0                0.0   \n",
       "\n",
       "        VehicleType_other  VehicleType_sedan  VehicleType_small  \\\n",
       "0                     0.0                0.0                0.0   \n",
       "1                     0.0                0.0                1.0   \n",
       "2                     0.0                0.0                0.0   \n",
       "3                     0.0                0.0                1.0   \n",
       "4                     0.0                0.0                0.0   \n",
       "...                   ...                ...                ...   \n",
       "197202                0.0                1.0                0.0   \n",
       "197203                0.0                0.0                0.0   \n",
       "197204                0.0                1.0                0.0   \n",
       "197205                0.0                1.0                0.0   \n",
       "197206                0.0                1.0                0.0   \n",
       "\n",
       "        VehicleType_suv  VehicleType_wagon  Gearbox_auto  Gearbox_manual  ...  \\\n",
       "0                   0.0                1.0           1.0             0.0  ...   \n",
       "1                   0.0                0.0           0.0             1.0  ...   \n",
       "2                   0.0                1.0           0.0             1.0  ...   \n",
       "3                   0.0                0.0           0.0             1.0  ...   \n",
       "4                   0.0                0.0           0.0             1.0  ...   \n",
       "...                 ...                ...           ...             ...  ...   \n",
       "197202              0.0                0.0           0.0             1.0  ...   \n",
       "197203              0.0                0.0           0.0             1.0  ...   \n",
       "197204              0.0                0.0           0.0             1.0  ...   \n",
       "197205              0.0                0.0           1.0             0.0  ...   \n",
       "197206              0.0                0.0           1.0             0.0  ...   \n",
       "\n",
       "        Brand_sonstige_autos  Brand_subaru  Brand_suzuki  Brand_toyota  \\\n",
       "0                        0.0           0.0           0.0           0.0   \n",
       "1                        0.0           0.0           0.0           0.0   \n",
       "2                        0.0           0.0           0.0           0.0   \n",
       "3                        0.0           0.0           0.0           0.0   \n",
       "4                        0.0           0.0           0.0           0.0   \n",
       "...                      ...           ...           ...           ...   \n",
       "197202                   0.0           0.0           0.0           0.0   \n",
       "197203                   0.0           0.0           0.0           0.0   \n",
       "197204                   0.0           0.0           0.0           0.0   \n",
       "197205                   0.0           0.0           0.0           0.0   \n",
       "197206                   0.0           0.0           0.0           0.0   \n",
       "\n",
       "        Brand_trabant  Brand_volkswagen  Brand_volvo  Repaired_Unknown  \\\n",
       "0                 0.0               0.0          0.0               0.0   \n",
       "1                 0.0               0.0          0.0               0.0   \n",
       "2                 0.0               0.0          0.0               0.0   \n",
       "3                 0.0               0.0          0.0               0.0   \n",
       "4                 0.0               0.0          0.0               0.0   \n",
       "...               ...               ...          ...               ...   \n",
       "197202            0.0               1.0          0.0               0.0   \n",
       "197203            0.0               0.0          0.0               0.0   \n",
       "197204            0.0               0.0          0.0               0.0   \n",
       "197205            0.0               0.0          0.0               0.0   \n",
       "197206            0.0               0.0          0.0               0.0   \n",
       "\n",
       "        Repaired_no  Repaired_yes  \n",
       "0               1.0           0.0  \n",
       "1               1.0           0.0  \n",
       "2               1.0           0.0  \n",
       "3               1.0           0.0  \n",
       "4               1.0           0.0  \n",
       "...             ...           ...  \n",
       "197202          1.0           0.0  \n",
       "197203          1.0           0.0  \n",
       "197204          1.0           0.0  \n",
       "197205          1.0           0.0  \n",
       "197206          1.0           0.0  \n",
       "\n",
       "[197207 rows x 321 columns]"
      ]
     },
     "execution_count": 18,
     "metadata": {},
     "output_type": "execute_result"
    },
    {
     "data": {
      "application/javascript": [
       "\n",
       "            setTimeout(function() {\n",
       "                var nbb_cell_id = 18;\n",
       "                var nbb_unformatted_code = \"features_train_ohe\";\n",
       "                var nbb_formatted_code = \"features_train_ohe\";\n",
       "                var nbb_cells = Jupyter.notebook.get_cells();\n",
       "                for (var i = 0; i < nbb_cells.length; ++i) {\n",
       "                    if (nbb_cells[i].input_prompt_number == nbb_cell_id) {\n",
       "                        if (nbb_cells[i].get_text() == nbb_unformatted_code) {\n",
       "                             nbb_cells[i].set_text(nbb_formatted_code);\n",
       "                        }\n",
       "                        break;\n",
       "                    }\n",
       "                }\n",
       "            }, 500);\n",
       "            "
      ],
      "text/plain": [
       "<IPython.core.display.Javascript object>"
      ]
     },
     "metadata": {},
     "output_type": "display_data"
    }
   ],
   "source": [
    "features_train_ohe"
   ]
  },
  {
   "cell_type": "code",
   "execution_count": 19,
   "metadata": {},
   "outputs": [
    {
     "data": {
      "application/javascript": [
       "\n",
       "            setTimeout(function() {\n",
       "                var nbb_cell_id = 19;\n",
       "                var nbb_unformatted_code = \"result = ohe.transform(features_test[categories])\";\n",
       "                var nbb_formatted_code = \"result = ohe.transform(features_test[categories])\";\n",
       "                var nbb_cells = Jupyter.notebook.get_cells();\n",
       "                for (var i = 0; i < nbb_cells.length; ++i) {\n",
       "                    if (nbb_cells[i].input_prompt_number == nbb_cell_id) {\n",
       "                        if (nbb_cells[i].get_text() == nbb_unformatted_code) {\n",
       "                             nbb_cells[i].set_text(nbb_formatted_code);\n",
       "                        }\n",
       "                        break;\n",
       "                    }\n",
       "                }\n",
       "            }, 500);\n",
       "            "
      ],
      "text/plain": [
       "<IPython.core.display.Javascript object>"
      ]
     },
     "metadata": {},
     "output_type": "display_data"
    }
   ],
   "source": [
    "result = ohe.transform(features_test[categories])"
   ]
  },
  {
   "cell_type": "code",
   "execution_count": 20,
   "metadata": {},
   "outputs": [
    {
     "data": {
      "application/javascript": [
       "\n",
       "            setTimeout(function() {\n",
       "                var nbb_cell_id = 20;\n",
       "                var nbb_unformatted_code = \"features_test_ohe = pd.DataFrame.sparse.from_spmatrix(result)\";\n",
       "                var nbb_formatted_code = \"features_test_ohe = pd.DataFrame.sparse.from_spmatrix(result)\";\n",
       "                var nbb_cells = Jupyter.notebook.get_cells();\n",
       "                for (var i = 0; i < nbb_cells.length; ++i) {\n",
       "                    if (nbb_cells[i].input_prompt_number == nbb_cell_id) {\n",
       "                        if (nbb_cells[i].get_text() == nbb_unformatted_code) {\n",
       "                             nbb_cells[i].set_text(nbb_formatted_code);\n",
       "                        }\n",
       "                        break;\n",
       "                    }\n",
       "                }\n",
       "            }, 500);\n",
       "            "
      ],
      "text/plain": [
       "<IPython.core.display.Javascript object>"
      ]
     },
     "metadata": {},
     "output_type": "display_data"
    }
   ],
   "source": [
    "features_test_ohe = pd.DataFrame.sparse.from_spmatrix(result)"
   ]
  },
  {
   "cell_type": "code",
   "execution_count": 21,
   "metadata": {},
   "outputs": [
    {
     "data": {
      "application/javascript": [
       "\n",
       "            setTimeout(function() {\n",
       "                var nbb_cell_id = 21;\n",
       "                var nbb_unformatted_code = \"features_test_ohe.columns = ohe.get_feature_names(features_test[categories].columns)\";\n",
       "                var nbb_formatted_code = \"features_test_ohe.columns = ohe.get_feature_names(features_test[categories].columns)\";\n",
       "                var nbb_cells = Jupyter.notebook.get_cells();\n",
       "                for (var i = 0; i < nbb_cells.length; ++i) {\n",
       "                    if (nbb_cells[i].input_prompt_number == nbb_cell_id) {\n",
       "                        if (nbb_cells[i].get_text() == nbb_unformatted_code) {\n",
       "                             nbb_cells[i].set_text(nbb_formatted_code);\n",
       "                        }\n",
       "                        break;\n",
       "                    }\n",
       "                }\n",
       "            }, 500);\n",
       "            "
      ],
      "text/plain": [
       "<IPython.core.display.Javascript object>"
      ]
     },
     "metadata": {},
     "output_type": "display_data"
    }
   ],
   "source": [
    "features_test_ohe.columns = ohe.get_feature_names(features_test[categories].columns)"
   ]
  },
  {
   "cell_type": "code",
   "execution_count": 22,
   "metadata": {},
   "outputs": [
    {
     "data": {
      "text/html": [
       "<div>\n",
       "<style scoped>\n",
       "    .dataframe tbody tr th:only-of-type {\n",
       "        vertical-align: middle;\n",
       "    }\n",
       "\n",
       "    .dataframe tbody tr th {\n",
       "        vertical-align: top;\n",
       "    }\n",
       "\n",
       "    .dataframe thead th {\n",
       "        text-align: right;\n",
       "    }\n",
       "</style>\n",
       "<table border=\"1\" class=\"dataframe\">\n",
       "  <thead>\n",
       "    <tr style=\"text-align: right;\">\n",
       "      <th></th>\n",
       "      <th>VehicleType_bus</th>\n",
       "      <th>VehicleType_convertible</th>\n",
       "      <th>VehicleType_coupe</th>\n",
       "      <th>VehicleType_other</th>\n",
       "      <th>VehicleType_sedan</th>\n",
       "      <th>VehicleType_small</th>\n",
       "      <th>VehicleType_suv</th>\n",
       "      <th>VehicleType_wagon</th>\n",
       "      <th>Gearbox_auto</th>\n",
       "      <th>Gearbox_manual</th>\n",
       "      <th>...</th>\n",
       "      <th>Brand_sonstige_autos</th>\n",
       "      <th>Brand_subaru</th>\n",
       "      <th>Brand_suzuki</th>\n",
       "      <th>Brand_toyota</th>\n",
       "      <th>Brand_trabant</th>\n",
       "      <th>Brand_volkswagen</th>\n",
       "      <th>Brand_volvo</th>\n",
       "      <th>Repaired_Unknown</th>\n",
       "      <th>Repaired_no</th>\n",
       "      <th>Repaired_yes</th>\n",
       "    </tr>\n",
       "  </thead>\n",
       "  <tbody>\n",
       "    <tr>\n",
       "      <th>0</th>\n",
       "      <td>0.0</td>\n",
       "      <td>0.0</td>\n",
       "      <td>0.0</td>\n",
       "      <td>0.0</td>\n",
       "      <td>1.0</td>\n",
       "      <td>0.0</td>\n",
       "      <td>0.0</td>\n",
       "      <td>0.0</td>\n",
       "      <td>0.0</td>\n",
       "      <td>1.0</td>\n",
       "      <td>...</td>\n",
       "      <td>0.0</td>\n",
       "      <td>0.0</td>\n",
       "      <td>0.0</td>\n",
       "      <td>0.0</td>\n",
       "      <td>0.0</td>\n",
       "      <td>0.0</td>\n",
       "      <td>0.0</td>\n",
       "      <td>0.0</td>\n",
       "      <td>0.0</td>\n",
       "      <td>1.0</td>\n",
       "    </tr>\n",
       "    <tr>\n",
       "      <th>1</th>\n",
       "      <td>0.0</td>\n",
       "      <td>0.0</td>\n",
       "      <td>0.0</td>\n",
       "      <td>0.0</td>\n",
       "      <td>0.0</td>\n",
       "      <td>0.0</td>\n",
       "      <td>0.0</td>\n",
       "      <td>1.0</td>\n",
       "      <td>1.0</td>\n",
       "      <td>0.0</td>\n",
       "      <td>...</td>\n",
       "      <td>0.0</td>\n",
       "      <td>0.0</td>\n",
       "      <td>0.0</td>\n",
       "      <td>0.0</td>\n",
       "      <td>0.0</td>\n",
       "      <td>0.0</td>\n",
       "      <td>0.0</td>\n",
       "      <td>0.0</td>\n",
       "      <td>1.0</td>\n",
       "      <td>0.0</td>\n",
       "    </tr>\n",
       "    <tr>\n",
       "      <th>2</th>\n",
       "      <td>0.0</td>\n",
       "      <td>0.0</td>\n",
       "      <td>0.0</td>\n",
       "      <td>0.0</td>\n",
       "      <td>1.0</td>\n",
       "      <td>0.0</td>\n",
       "      <td>0.0</td>\n",
       "      <td>0.0</td>\n",
       "      <td>0.0</td>\n",
       "      <td>1.0</td>\n",
       "      <td>...</td>\n",
       "      <td>0.0</td>\n",
       "      <td>0.0</td>\n",
       "      <td>0.0</td>\n",
       "      <td>0.0</td>\n",
       "      <td>0.0</td>\n",
       "      <td>1.0</td>\n",
       "      <td>0.0</td>\n",
       "      <td>0.0</td>\n",
       "      <td>1.0</td>\n",
       "      <td>0.0</td>\n",
       "    </tr>\n",
       "    <tr>\n",
       "      <th>3</th>\n",
       "      <td>1.0</td>\n",
       "      <td>0.0</td>\n",
       "      <td>0.0</td>\n",
       "      <td>0.0</td>\n",
       "      <td>0.0</td>\n",
       "      <td>0.0</td>\n",
       "      <td>0.0</td>\n",
       "      <td>0.0</td>\n",
       "      <td>0.0</td>\n",
       "      <td>1.0</td>\n",
       "      <td>...</td>\n",
       "      <td>0.0</td>\n",
       "      <td>0.0</td>\n",
       "      <td>0.0</td>\n",
       "      <td>0.0</td>\n",
       "      <td>0.0</td>\n",
       "      <td>1.0</td>\n",
       "      <td>0.0</td>\n",
       "      <td>0.0</td>\n",
       "      <td>1.0</td>\n",
       "      <td>0.0</td>\n",
       "    </tr>\n",
       "    <tr>\n",
       "      <th>4</th>\n",
       "      <td>1.0</td>\n",
       "      <td>0.0</td>\n",
       "      <td>0.0</td>\n",
       "      <td>0.0</td>\n",
       "      <td>0.0</td>\n",
       "      <td>0.0</td>\n",
       "      <td>0.0</td>\n",
       "      <td>0.0</td>\n",
       "      <td>0.0</td>\n",
       "      <td>1.0</td>\n",
       "      <td>...</td>\n",
       "      <td>0.0</td>\n",
       "      <td>0.0</td>\n",
       "      <td>0.0</td>\n",
       "      <td>0.0</td>\n",
       "      <td>0.0</td>\n",
       "      <td>0.0</td>\n",
       "      <td>0.0</td>\n",
       "      <td>0.0</td>\n",
       "      <td>1.0</td>\n",
       "      <td>0.0</td>\n",
       "    </tr>\n",
       "    <tr>\n",
       "      <th>...</th>\n",
       "      <td>...</td>\n",
       "      <td>...</td>\n",
       "      <td>...</td>\n",
       "      <td>...</td>\n",
       "      <td>...</td>\n",
       "      <td>...</td>\n",
       "      <td>...</td>\n",
       "      <td>...</td>\n",
       "      <td>...</td>\n",
       "      <td>...</td>\n",
       "      <td>...</td>\n",
       "      <td>...</td>\n",
       "      <td>...</td>\n",
       "      <td>...</td>\n",
       "      <td>...</td>\n",
       "      <td>...</td>\n",
       "      <td>...</td>\n",
       "      <td>...</td>\n",
       "      <td>...</td>\n",
       "      <td>...</td>\n",
       "      <td>...</td>\n",
       "    </tr>\n",
       "    <tr>\n",
       "      <th>65731</th>\n",
       "      <td>0.0</td>\n",
       "      <td>0.0</td>\n",
       "      <td>0.0</td>\n",
       "      <td>0.0</td>\n",
       "      <td>0.0</td>\n",
       "      <td>0.0</td>\n",
       "      <td>1.0</td>\n",
       "      <td>0.0</td>\n",
       "      <td>0.0</td>\n",
       "      <td>1.0</td>\n",
       "      <td>...</td>\n",
       "      <td>0.0</td>\n",
       "      <td>0.0</td>\n",
       "      <td>0.0</td>\n",
       "      <td>0.0</td>\n",
       "      <td>0.0</td>\n",
       "      <td>0.0</td>\n",
       "      <td>0.0</td>\n",
       "      <td>0.0</td>\n",
       "      <td>1.0</td>\n",
       "      <td>0.0</td>\n",
       "    </tr>\n",
       "    <tr>\n",
       "      <th>65732</th>\n",
       "      <td>0.0</td>\n",
       "      <td>0.0</td>\n",
       "      <td>0.0</td>\n",
       "      <td>0.0</td>\n",
       "      <td>0.0</td>\n",
       "      <td>0.0</td>\n",
       "      <td>0.0</td>\n",
       "      <td>1.0</td>\n",
       "      <td>0.0</td>\n",
       "      <td>1.0</td>\n",
       "      <td>...</td>\n",
       "      <td>0.0</td>\n",
       "      <td>0.0</td>\n",
       "      <td>0.0</td>\n",
       "      <td>0.0</td>\n",
       "      <td>0.0</td>\n",
       "      <td>0.0</td>\n",
       "      <td>0.0</td>\n",
       "      <td>0.0</td>\n",
       "      <td>1.0</td>\n",
       "      <td>0.0</td>\n",
       "    </tr>\n",
       "    <tr>\n",
       "      <th>65733</th>\n",
       "      <td>0.0</td>\n",
       "      <td>0.0</td>\n",
       "      <td>0.0</td>\n",
       "      <td>0.0</td>\n",
       "      <td>0.0</td>\n",
       "      <td>1.0</td>\n",
       "      <td>0.0</td>\n",
       "      <td>0.0</td>\n",
       "      <td>0.0</td>\n",
       "      <td>1.0</td>\n",
       "      <td>...</td>\n",
       "      <td>0.0</td>\n",
       "      <td>0.0</td>\n",
       "      <td>0.0</td>\n",
       "      <td>0.0</td>\n",
       "      <td>0.0</td>\n",
       "      <td>0.0</td>\n",
       "      <td>0.0</td>\n",
       "      <td>0.0</td>\n",
       "      <td>1.0</td>\n",
       "      <td>0.0</td>\n",
       "    </tr>\n",
       "    <tr>\n",
       "      <th>65734</th>\n",
       "      <td>1.0</td>\n",
       "      <td>0.0</td>\n",
       "      <td>0.0</td>\n",
       "      <td>0.0</td>\n",
       "      <td>0.0</td>\n",
       "      <td>0.0</td>\n",
       "      <td>0.0</td>\n",
       "      <td>0.0</td>\n",
       "      <td>0.0</td>\n",
       "      <td>1.0</td>\n",
       "      <td>...</td>\n",
       "      <td>0.0</td>\n",
       "      <td>0.0</td>\n",
       "      <td>0.0</td>\n",
       "      <td>0.0</td>\n",
       "      <td>0.0</td>\n",
       "      <td>0.0</td>\n",
       "      <td>0.0</td>\n",
       "      <td>1.0</td>\n",
       "      <td>0.0</td>\n",
       "      <td>0.0</td>\n",
       "    </tr>\n",
       "    <tr>\n",
       "      <th>65735</th>\n",
       "      <td>0.0</td>\n",
       "      <td>0.0</td>\n",
       "      <td>0.0</td>\n",
       "      <td>0.0</td>\n",
       "      <td>0.0</td>\n",
       "      <td>1.0</td>\n",
       "      <td>0.0</td>\n",
       "      <td>0.0</td>\n",
       "      <td>0.0</td>\n",
       "      <td>1.0</td>\n",
       "      <td>...</td>\n",
       "      <td>0.0</td>\n",
       "      <td>0.0</td>\n",
       "      <td>0.0</td>\n",
       "      <td>0.0</td>\n",
       "      <td>0.0</td>\n",
       "      <td>0.0</td>\n",
       "      <td>0.0</td>\n",
       "      <td>0.0</td>\n",
       "      <td>1.0</td>\n",
       "      <td>0.0</td>\n",
       "    </tr>\n",
       "  </tbody>\n",
       "</table>\n",
       "<p>65736 rows × 321 columns</p>\n",
       "</div>"
      ],
      "text/plain": [
       "       VehicleType_bus  VehicleType_convertible  VehicleType_coupe  \\\n",
       "0                  0.0                      0.0                0.0   \n",
       "1                  0.0                      0.0                0.0   \n",
       "2                  0.0                      0.0                0.0   \n",
       "3                  1.0                      0.0                0.0   \n",
       "4                  1.0                      0.0                0.0   \n",
       "...                ...                      ...                ...   \n",
       "65731              0.0                      0.0                0.0   \n",
       "65732              0.0                      0.0                0.0   \n",
       "65733              0.0                      0.0                0.0   \n",
       "65734              1.0                      0.0                0.0   \n",
       "65735              0.0                      0.0                0.0   \n",
       "\n",
       "       VehicleType_other  VehicleType_sedan  VehicleType_small  \\\n",
       "0                    0.0                1.0                0.0   \n",
       "1                    0.0                0.0                0.0   \n",
       "2                    0.0                1.0                0.0   \n",
       "3                    0.0                0.0                0.0   \n",
       "4                    0.0                0.0                0.0   \n",
       "...                  ...                ...                ...   \n",
       "65731                0.0                0.0                0.0   \n",
       "65732                0.0                0.0                0.0   \n",
       "65733                0.0                0.0                1.0   \n",
       "65734                0.0                0.0                0.0   \n",
       "65735                0.0                0.0                1.0   \n",
       "\n",
       "       VehicleType_suv  VehicleType_wagon  Gearbox_auto  Gearbox_manual  ...  \\\n",
       "0                  0.0                0.0           0.0             1.0  ...   \n",
       "1                  0.0                1.0           1.0             0.0  ...   \n",
       "2                  0.0                0.0           0.0             1.0  ...   \n",
       "3                  0.0                0.0           0.0             1.0  ...   \n",
       "4                  0.0                0.0           0.0             1.0  ...   \n",
       "...                ...                ...           ...             ...  ...   \n",
       "65731              1.0                0.0           0.0             1.0  ...   \n",
       "65732              0.0                1.0           0.0             1.0  ...   \n",
       "65733              0.0                0.0           0.0             1.0  ...   \n",
       "65734              0.0                0.0           0.0             1.0  ...   \n",
       "65735              0.0                0.0           0.0             1.0  ...   \n",
       "\n",
       "       Brand_sonstige_autos  Brand_subaru  Brand_suzuki  Brand_toyota  \\\n",
       "0                       0.0           0.0           0.0           0.0   \n",
       "1                       0.0           0.0           0.0           0.0   \n",
       "2                       0.0           0.0           0.0           0.0   \n",
       "3                       0.0           0.0           0.0           0.0   \n",
       "4                       0.0           0.0           0.0           0.0   \n",
       "...                     ...           ...           ...           ...   \n",
       "65731                   0.0           0.0           0.0           0.0   \n",
       "65732                   0.0           0.0           0.0           0.0   \n",
       "65733                   0.0           0.0           0.0           0.0   \n",
       "65734                   0.0           0.0           0.0           0.0   \n",
       "65735                   0.0           0.0           0.0           0.0   \n",
       "\n",
       "       Brand_trabant  Brand_volkswagen  Brand_volvo  Repaired_Unknown  \\\n",
       "0                0.0               0.0          0.0               0.0   \n",
       "1                0.0               0.0          0.0               0.0   \n",
       "2                0.0               1.0          0.0               0.0   \n",
       "3                0.0               1.0          0.0               0.0   \n",
       "4                0.0               0.0          0.0               0.0   \n",
       "...              ...               ...          ...               ...   \n",
       "65731            0.0               0.0          0.0               0.0   \n",
       "65732            0.0               0.0          0.0               0.0   \n",
       "65733            0.0               0.0          0.0               0.0   \n",
       "65734            0.0               0.0          0.0               1.0   \n",
       "65735            0.0               0.0          0.0               0.0   \n",
       "\n",
       "       Repaired_no  Repaired_yes  \n",
       "0              0.0           1.0  \n",
       "1              1.0           0.0  \n",
       "2              1.0           0.0  \n",
       "3              1.0           0.0  \n",
       "4              1.0           0.0  \n",
       "...            ...           ...  \n",
       "65731          1.0           0.0  \n",
       "65732          1.0           0.0  \n",
       "65733          1.0           0.0  \n",
       "65734          0.0           0.0  \n",
       "65735          1.0           0.0  \n",
       "\n",
       "[65736 rows x 321 columns]"
      ]
     },
     "execution_count": 22,
     "metadata": {},
     "output_type": "execute_result"
    },
    {
     "data": {
      "application/javascript": [
       "\n",
       "            setTimeout(function() {\n",
       "                var nbb_cell_id = 22;\n",
       "                var nbb_unformatted_code = \"features_test_ohe\";\n",
       "                var nbb_formatted_code = \"features_test_ohe\";\n",
       "                var nbb_cells = Jupyter.notebook.get_cells();\n",
       "                for (var i = 0; i < nbb_cells.length; ++i) {\n",
       "                    if (nbb_cells[i].input_prompt_number == nbb_cell_id) {\n",
       "                        if (nbb_cells[i].get_text() == nbb_unformatted_code) {\n",
       "                             nbb_cells[i].set_text(nbb_formatted_code);\n",
       "                        }\n",
       "                        break;\n",
       "                    }\n",
       "                }\n",
       "            }, 500);\n",
       "            "
      ],
      "text/plain": [
       "<IPython.core.display.Javascript object>"
      ]
     },
     "metadata": {},
     "output_type": "display_data"
    }
   ],
   "source": [
    "features_test_ohe"
   ]
  },
  {
   "cell_type": "markdown",
   "metadata": {},
   "source": [
    "Apply ordinal coding to the original dataframe as well."
   ]
  },
  {
   "cell_type": "code",
   "execution_count": 23,
   "metadata": {},
   "outputs": [
    {
     "data": {
      "application/javascript": [
       "\n",
       "            setTimeout(function() {\n",
       "                var nbb_cell_id = 23;\n",
       "                var nbb_unformatted_code = \"encoder = OrdinalEncoder(handle_unknown=\\\"use_encoded_value\\\", unknown_value=np.nan)\";\n",
       "                var nbb_formatted_code = \"encoder = OrdinalEncoder(handle_unknown=\\\"use_encoded_value\\\", unknown_value=np.nan)\";\n",
       "                var nbb_cells = Jupyter.notebook.get_cells();\n",
       "                for (var i = 0; i < nbb_cells.length; ++i) {\n",
       "                    if (nbb_cells[i].input_prompt_number == nbb_cell_id) {\n",
       "                        if (nbb_cells[i].get_text() == nbb_unformatted_code) {\n",
       "                             nbb_cells[i].set_text(nbb_formatted_code);\n",
       "                        }\n",
       "                        break;\n",
       "                    }\n",
       "                }\n",
       "            }, 500);\n",
       "            "
      ],
      "text/plain": [
       "<IPython.core.display.Javascript object>"
      ]
     },
     "metadata": {},
     "output_type": "display_data"
    }
   ],
   "source": [
    "encoder = OrdinalEncoder(handle_unknown=\"use_encoded_value\", unknown_value=np.nan)"
   ]
  },
  {
   "cell_type": "code",
   "execution_count": 24,
   "metadata": {},
   "outputs": [
    {
     "data": {
      "application/javascript": [
       "\n",
       "            setTimeout(function() {\n",
       "                var nbb_cell_id = 24;\n",
       "                var nbb_unformatted_code = \"features_train_ordinal = pd.DataFrame(\\n    encoder.fit_transform(features_train[categories]),\\n    columns=features_train[categories].columns,\\n)\";\n",
       "                var nbb_formatted_code = \"features_train_ordinal = pd.DataFrame(\\n    encoder.fit_transform(features_train[categories]),\\n    columns=features_train[categories].columns,\\n)\";\n",
       "                var nbb_cells = Jupyter.notebook.get_cells();\n",
       "                for (var i = 0; i < nbb_cells.length; ++i) {\n",
       "                    if (nbb_cells[i].input_prompt_number == nbb_cell_id) {\n",
       "                        if (nbb_cells[i].get_text() == nbb_unformatted_code) {\n",
       "                             nbb_cells[i].set_text(nbb_formatted_code);\n",
       "                        }\n",
       "                        break;\n",
       "                    }\n",
       "                }\n",
       "            }, 500);\n",
       "            "
      ],
      "text/plain": [
       "<IPython.core.display.Javascript object>"
      ]
     },
     "metadata": {},
     "output_type": "display_data"
    }
   ],
   "source": [
    "features_train_ordinal = pd.DataFrame(\n",
    "    encoder.fit_transform(features_train[categories]),\n",
    "    columns=features_train[categories].columns,\n",
    ")"
   ]
  },
  {
   "cell_type": "code",
   "execution_count": 25,
   "metadata": {},
   "outputs": [
    {
     "data": {
      "application/javascript": [
       "\n",
       "            setTimeout(function() {\n",
       "                var nbb_cell_id = 25;\n",
       "                var nbb_unformatted_code = \"features_test_ordinal = pd.DataFrame(\\n    encoder.transform(features_test[categories]),\\n    columns=features_test[categories].columns,\\n)\";\n",
       "                var nbb_formatted_code = \"features_test_ordinal = pd.DataFrame(\\n    encoder.transform(features_test[categories]),\\n    columns=features_test[categories].columns,\\n)\";\n",
       "                var nbb_cells = Jupyter.notebook.get_cells();\n",
       "                for (var i = 0; i < nbb_cells.length; ++i) {\n",
       "                    if (nbb_cells[i].input_prompt_number == nbb_cell_id) {\n",
       "                        if (nbb_cells[i].get_text() == nbb_unformatted_code) {\n",
       "                             nbb_cells[i].set_text(nbb_formatted_code);\n",
       "                        }\n",
       "                        break;\n",
       "                    }\n",
       "                }\n",
       "            }, 500);\n",
       "            "
      ],
      "text/plain": [
       "<IPython.core.display.Javascript object>"
      ]
     },
     "metadata": {},
     "output_type": "display_data"
    }
   ],
   "source": [
    "features_test_ordinal = pd.DataFrame(\n",
    "    encoder.transform(features_test[categories]),\n",
    "    columns=features_test[categories].columns,\n",
    ")"
   ]
  },
  {
   "cell_type": "code",
   "execution_count": 26,
   "metadata": {},
   "outputs": [
    {
     "data": {
      "text/html": [
       "<div>\n",
       "<style scoped>\n",
       "    .dataframe tbody tr th:only-of-type {\n",
       "        vertical-align: middle;\n",
       "    }\n",
       "\n",
       "    .dataframe tbody tr th {\n",
       "        vertical-align: top;\n",
       "    }\n",
       "\n",
       "    .dataframe thead th {\n",
       "        text-align: right;\n",
       "    }\n",
       "</style>\n",
       "<table border=\"1\" class=\"dataframe\">\n",
       "  <thead>\n",
       "    <tr style=\"text-align: right;\">\n",
       "      <th></th>\n",
       "      <th>VehicleType</th>\n",
       "      <th>Gearbox</th>\n",
       "      <th>Kilometer</th>\n",
       "      <th>Model</th>\n",
       "      <th>FuelType</th>\n",
       "      <th>Brand</th>\n",
       "      <th>Repaired</th>\n",
       "    </tr>\n",
       "  </thead>\n",
       "  <tbody>\n",
       "    <tr>\n",
       "      <th>0</th>\n",
       "      <td>7.0</td>\n",
       "      <td>0.0</td>\n",
       "      <td>12.0</td>\n",
       "      <td>11.0</td>\n",
       "      <td>2.0</td>\n",
       "      <td>2.0</td>\n",
       "      <td>1.0</td>\n",
       "    </tr>\n",
       "    <tr>\n",
       "      <th>1</th>\n",
       "      <td>5.0</td>\n",
       "      <td>1.0</td>\n",
       "      <td>4.0</td>\n",
       "      <td>165.0</td>\n",
       "      <td>2.0</td>\n",
       "      <td>21.0</td>\n",
       "      <td>1.0</td>\n",
       "    </tr>\n",
       "    <tr>\n",
       "      <th>2</th>\n",
       "      <td>7.0</td>\n",
       "      <td>1.0</td>\n",
       "      <td>9.0</td>\n",
       "      <td>28.0</td>\n",
       "      <td>6.0</td>\n",
       "      <td>1.0</td>\n",
       "      <td>1.0</td>\n",
       "    </tr>\n",
       "    <tr>\n",
       "      <th>3</th>\n",
       "      <td>5.0</td>\n",
       "      <td>1.0</td>\n",
       "      <td>12.0</td>\n",
       "      <td>80.0</td>\n",
       "      <td>6.0</td>\n",
       "      <td>21.0</td>\n",
       "      <td>1.0</td>\n",
       "    </tr>\n",
       "    <tr>\n",
       "      <th>4</th>\n",
       "      <td>2.0</td>\n",
       "      <td>1.0</td>\n",
       "      <td>9.0</td>\n",
       "      <td>166.0</td>\n",
       "      <td>6.0</td>\n",
       "      <td>0.0</td>\n",
       "      <td>1.0</td>\n",
       "    </tr>\n",
       "    <tr>\n",
       "      <th>...</th>\n",
       "      <td>...</td>\n",
       "      <td>...</td>\n",
       "      <td>...</td>\n",
       "      <td>...</td>\n",
       "      <td>...</td>\n",
       "      <td>...</td>\n",
       "      <td>...</td>\n",
       "    </tr>\n",
       "    <tr>\n",
       "      <th>197202</th>\n",
       "      <td>4.0</td>\n",
       "      <td>1.0</td>\n",
       "      <td>12.0</td>\n",
       "      <td>51.0</td>\n",
       "      <td>6.0</td>\n",
       "      <td>38.0</td>\n",
       "      <td>1.0</td>\n",
       "    </tr>\n",
       "    <tr>\n",
       "      <th>197203</th>\n",
       "      <td>1.0</td>\n",
       "      <td>1.0</td>\n",
       "      <td>7.0</td>\n",
       "      <td>158.0</td>\n",
       "      <td>6.0</td>\n",
       "      <td>19.0</td>\n",
       "      <td>1.0</td>\n",
       "    </tr>\n",
       "    <tr>\n",
       "      <th>197204</th>\n",
       "      <td>4.0</td>\n",
       "      <td>1.0</td>\n",
       "      <td>12.0</td>\n",
       "      <td>31.0</td>\n",
       "      <td>2.0</td>\n",
       "      <td>1.0</td>\n",
       "      <td>1.0</td>\n",
       "    </tr>\n",
       "    <tr>\n",
       "      <th>197205</th>\n",
       "      <td>4.0</td>\n",
       "      <td>0.0</td>\n",
       "      <td>12.0</td>\n",
       "      <td>166.0</td>\n",
       "      <td>6.0</td>\n",
       "      <td>2.0</td>\n",
       "      <td>1.0</td>\n",
       "    </tr>\n",
       "    <tr>\n",
       "      <th>197206</th>\n",
       "      <td>4.0</td>\n",
       "      <td>0.0</td>\n",
       "      <td>7.0</td>\n",
       "      <td>241.0</td>\n",
       "      <td>6.0</td>\n",
       "      <td>13.0</td>\n",
       "      <td>1.0</td>\n",
       "    </tr>\n",
       "  </tbody>\n",
       "</table>\n",
       "<p>197207 rows × 7 columns</p>\n",
       "</div>"
      ],
      "text/plain": [
       "        VehicleType  Gearbox  Kilometer  Model  FuelType  Brand  Repaired\n",
       "0               7.0      0.0       12.0   11.0       2.0    2.0       1.0\n",
       "1               5.0      1.0        4.0  165.0       2.0   21.0       1.0\n",
       "2               7.0      1.0        9.0   28.0       6.0    1.0       1.0\n",
       "3               5.0      1.0       12.0   80.0       6.0   21.0       1.0\n",
       "4               2.0      1.0        9.0  166.0       6.0    0.0       1.0\n",
       "...             ...      ...        ...    ...       ...    ...       ...\n",
       "197202          4.0      1.0       12.0   51.0       6.0   38.0       1.0\n",
       "197203          1.0      1.0        7.0  158.0       6.0   19.0       1.0\n",
       "197204          4.0      1.0       12.0   31.0       2.0    1.0       1.0\n",
       "197205          4.0      0.0       12.0  166.0       6.0    2.0       1.0\n",
       "197206          4.0      0.0        7.0  241.0       6.0   13.0       1.0\n",
       "\n",
       "[197207 rows x 7 columns]"
      ]
     },
     "execution_count": 26,
     "metadata": {},
     "output_type": "execute_result"
    },
    {
     "data": {
      "application/javascript": [
       "\n",
       "            setTimeout(function() {\n",
       "                var nbb_cell_id = 26;\n",
       "                var nbb_unformatted_code = \"features_train_ordinal\";\n",
       "                var nbb_formatted_code = \"features_train_ordinal\";\n",
       "                var nbb_cells = Jupyter.notebook.get_cells();\n",
       "                for (var i = 0; i < nbb_cells.length; ++i) {\n",
       "                    if (nbb_cells[i].input_prompt_number == nbb_cell_id) {\n",
       "                        if (nbb_cells[i].get_text() == nbb_unformatted_code) {\n",
       "                             nbb_cells[i].set_text(nbb_formatted_code);\n",
       "                        }\n",
       "                        break;\n",
       "                    }\n",
       "                }\n",
       "            }, 500);\n",
       "            "
      ],
      "text/plain": [
       "<IPython.core.display.Javascript object>"
      ]
     },
     "metadata": {},
     "output_type": "display_data"
    }
   ],
   "source": [
    "features_train_ordinal"
   ]
  },
  {
   "cell_type": "code",
   "execution_count": 27,
   "metadata": {},
   "outputs": [
    {
     "data": {
      "text/html": [
       "<div>\n",
       "<style scoped>\n",
       "    .dataframe tbody tr th:only-of-type {\n",
       "        vertical-align: middle;\n",
       "    }\n",
       "\n",
       "    .dataframe tbody tr th {\n",
       "        vertical-align: top;\n",
       "    }\n",
       "\n",
       "    .dataframe thead th {\n",
       "        text-align: right;\n",
       "    }\n",
       "</style>\n",
       "<table border=\"1\" class=\"dataframe\">\n",
       "  <thead>\n",
       "    <tr style=\"text-align: right;\">\n",
       "      <th></th>\n",
       "      <th>VehicleType</th>\n",
       "      <th>Gearbox</th>\n",
       "      <th>Kilometer</th>\n",
       "      <th>Model</th>\n",
       "      <th>FuelType</th>\n",
       "      <th>Brand</th>\n",
       "      <th>Repaired</th>\n",
       "    </tr>\n",
       "  </thead>\n",
       "  <tbody>\n",
       "    <tr>\n",
       "      <th>0</th>\n",
       "      <td>4.0</td>\n",
       "      <td>1.0</td>\n",
       "      <td>12.0</td>\n",
       "      <td>95.0</td>\n",
       "      <td>6.0</td>\n",
       "      <td>20.0</td>\n",
       "      <td>2.0</td>\n",
       "    </tr>\n",
       "    <tr>\n",
       "      <th>1</th>\n",
       "      <td>7.0</td>\n",
       "      <td>0.0</td>\n",
       "      <td>12.0</td>\n",
       "      <td>203.0</td>\n",
       "      <td>2.0</td>\n",
       "      <td>24.0</td>\n",
       "      <td>1.0</td>\n",
       "    </tr>\n",
       "    <tr>\n",
       "      <th>2</th>\n",
       "      <td>4.0</td>\n",
       "      <td>1.0</td>\n",
       "      <td>12.0</td>\n",
       "      <td>116.0</td>\n",
       "      <td>2.0</td>\n",
       "      <td>38.0</td>\n",
       "      <td>1.0</td>\n",
       "    </tr>\n",
       "    <tr>\n",
       "      <th>3</th>\n",
       "      <td>0.0</td>\n",
       "      <td>1.0</td>\n",
       "      <td>12.0</td>\n",
       "      <td>222.0</td>\n",
       "      <td>2.0</td>\n",
       "      <td>38.0</td>\n",
       "      <td>1.0</td>\n",
       "    </tr>\n",
       "    <tr>\n",
       "      <th>4</th>\n",
       "      <td>0.0</td>\n",
       "      <td>1.0</td>\n",
       "      <td>12.0</td>\n",
       "      <td>211.0</td>\n",
       "      <td>2.0</td>\n",
       "      <td>20.0</td>\n",
       "      <td>1.0</td>\n",
       "    </tr>\n",
       "    <tr>\n",
       "      <th>...</th>\n",
       "      <td>...</td>\n",
       "      <td>...</td>\n",
       "      <td>...</td>\n",
       "      <td>...</td>\n",
       "      <td>...</td>\n",
       "      <td>...</td>\n",
       "      <td>...</td>\n",
       "    </tr>\n",
       "    <tr>\n",
       "      <th>65731</th>\n",
       "      <td>6.0</td>\n",
       "      <td>1.0</td>\n",
       "      <td>12.0</td>\n",
       "      <td>168.0</td>\n",
       "      <td>2.0</td>\n",
       "      <td>22.0</td>\n",
       "      <td>1.0</td>\n",
       "    </tr>\n",
       "    <tr>\n",
       "      <th>65732</th>\n",
       "      <td>7.0</td>\n",
       "      <td>1.0</td>\n",
       "      <td>12.0</td>\n",
       "      <td>31.0</td>\n",
       "      <td>2.0</td>\n",
       "      <td>1.0</td>\n",
       "      <td>1.0</td>\n",
       "    </tr>\n",
       "    <tr>\n",
       "      <th>65733</th>\n",
       "      <td>5.0</td>\n",
       "      <td>1.0</td>\n",
       "      <td>6.0</td>\n",
       "      <td>106.0</td>\n",
       "      <td>6.0</td>\n",
       "      <td>32.0</td>\n",
       "      <td>1.0</td>\n",
       "    </tr>\n",
       "    <tr>\n",
       "      <th>65734</th>\n",
       "      <td>0.0</td>\n",
       "      <td>1.0</td>\n",
       "      <td>12.0</td>\n",
       "      <td>166.0</td>\n",
       "      <td>2.0</td>\n",
       "      <td>27.0</td>\n",
       "      <td>0.0</td>\n",
       "    </tr>\n",
       "    <tr>\n",
       "      <th>65735</th>\n",
       "      <td>5.0</td>\n",
       "      <td>1.0</td>\n",
       "      <td>6.0</td>\n",
       "      <td>176.0</td>\n",
       "      <td>6.0</td>\n",
       "      <td>9.0</td>\n",
       "      <td>1.0</td>\n",
       "    </tr>\n",
       "  </tbody>\n",
       "</table>\n",
       "<p>65736 rows × 7 columns</p>\n",
       "</div>"
      ],
      "text/plain": [
       "       VehicleType  Gearbox  Kilometer  Model  FuelType  Brand  Repaired\n",
       "0              4.0      1.0       12.0   95.0       6.0   20.0       2.0\n",
       "1              7.0      0.0       12.0  203.0       2.0   24.0       1.0\n",
       "2              4.0      1.0       12.0  116.0       2.0   38.0       1.0\n",
       "3              0.0      1.0       12.0  222.0       2.0   38.0       1.0\n",
       "4              0.0      1.0       12.0  211.0       2.0   20.0       1.0\n",
       "...            ...      ...        ...    ...       ...    ...       ...\n",
       "65731          6.0      1.0       12.0  168.0       2.0   22.0       1.0\n",
       "65732          7.0      1.0       12.0   31.0       2.0    1.0       1.0\n",
       "65733          5.0      1.0        6.0  106.0       6.0   32.0       1.0\n",
       "65734          0.0      1.0       12.0  166.0       2.0   27.0       0.0\n",
       "65735          5.0      1.0        6.0  176.0       6.0    9.0       1.0\n",
       "\n",
       "[65736 rows x 7 columns]"
      ]
     },
     "execution_count": 27,
     "metadata": {},
     "output_type": "execute_result"
    },
    {
     "data": {
      "application/javascript": [
       "\n",
       "            setTimeout(function() {\n",
       "                var nbb_cell_id = 27;\n",
       "                var nbb_unformatted_code = \"features_test_ordinal\";\n",
       "                var nbb_formatted_code = \"features_test_ordinal\";\n",
       "                var nbb_cells = Jupyter.notebook.get_cells();\n",
       "                for (var i = 0; i < nbb_cells.length; ++i) {\n",
       "                    if (nbb_cells[i].input_prompt_number == nbb_cell_id) {\n",
       "                        if (nbb_cells[i].get_text() == nbb_unformatted_code) {\n",
       "                             nbb_cells[i].set_text(nbb_formatted_code);\n",
       "                        }\n",
       "                        break;\n",
       "                    }\n",
       "                }\n",
       "            }, 500);\n",
       "            "
      ],
      "text/plain": [
       "<IPython.core.display.Javascript object>"
      ]
     },
     "metadata": {},
     "output_type": "display_data"
    }
   ],
   "source": [
    "features_test_ordinal"
   ]
  },
  {
   "cell_type": "markdown",
   "metadata": {},
   "source": [
    "Scale the quantitative attributes: `RegistrationYear`, `Power`, `RegistrationMonth`."
   ]
  },
  {
   "cell_type": "code",
   "execution_count": 28,
   "metadata": {},
   "outputs": [
    {
     "data": {
      "application/javascript": [
       "\n",
       "            setTimeout(function() {\n",
       "                var nbb_cell_id = 28;\n",
       "                var nbb_unformatted_code = \"numeric = [\\\"RegistrationYear\\\", \\\"Power\\\", \\\"RegistrationMonth\\\"]\\nscaler = StandardScaler()\\nscaler.fit(features_train[numeric])\\npd.options.mode.chained_assignment = None\\nfeatures_train[numeric] = scaler.transform(features_train[numeric])\\nfeatures_test[numeric] = scaler.transform(features_test[numeric])\";\n",
       "                var nbb_formatted_code = \"numeric = [\\\"RegistrationYear\\\", \\\"Power\\\", \\\"RegistrationMonth\\\"]\\nscaler = StandardScaler()\\nscaler.fit(features_train[numeric])\\npd.options.mode.chained_assignment = None\\nfeatures_train[numeric] = scaler.transform(features_train[numeric])\\nfeatures_test[numeric] = scaler.transform(features_test[numeric])\";\n",
       "                var nbb_cells = Jupyter.notebook.get_cells();\n",
       "                for (var i = 0; i < nbb_cells.length; ++i) {\n",
       "                    if (nbb_cells[i].input_prompt_number == nbb_cell_id) {\n",
       "                        if (nbb_cells[i].get_text() == nbb_unformatted_code) {\n",
       "                             nbb_cells[i].set_text(nbb_formatted_code);\n",
       "                        }\n",
       "                        break;\n",
       "                    }\n",
       "                }\n",
       "            }, 500);\n",
       "            "
      ],
      "text/plain": [
       "<IPython.core.display.Javascript object>"
      ]
     },
     "metadata": {},
     "output_type": "display_data"
    }
   ],
   "source": [
    "numeric = [\"RegistrationYear\", \"Power\", \"RegistrationMonth\"]\n",
    "scaler = StandardScaler()\n",
    "scaler.fit(features_train[numeric])\n",
    "pd.options.mode.chained_assignment = None\n",
    "features_train[numeric] = scaler.transform(features_train[numeric])\n",
    "features_test[numeric] = scaler.transform(features_test[numeric])"
   ]
  },
  {
   "cell_type": "code",
   "execution_count": 29,
   "metadata": {},
   "outputs": [
    {
     "data": {
      "text/html": [
       "<div>\n",
       "<style scoped>\n",
       "    .dataframe tbody tr th:only-of-type {\n",
       "        vertical-align: middle;\n",
       "    }\n",
       "\n",
       "    .dataframe tbody tr th {\n",
       "        vertical-align: top;\n",
       "    }\n",
       "\n",
       "    .dataframe thead th {\n",
       "        text-align: right;\n",
       "    }\n",
       "</style>\n",
       "<table border=\"1\" class=\"dataframe\">\n",
       "  <thead>\n",
       "    <tr style=\"text-align: right;\">\n",
       "      <th></th>\n",
       "      <th>RegistrationYear</th>\n",
       "      <th>Power</th>\n",
       "      <th>RegistrationMonth</th>\n",
       "    </tr>\n",
       "  </thead>\n",
       "  <tbody>\n",
       "    <tr>\n",
       "      <th>247352</th>\n",
       "      <td>0.969484</td>\n",
       "      <td>0.947190</td>\n",
       "      <td>-0.407586</td>\n",
       "    </tr>\n",
       "    <tr>\n",
       "      <th>175733</th>\n",
       "      <td>1.700201</td>\n",
       "      <td>-0.406657</td>\n",
       "      <td>-1.603028</td>\n",
       "    </tr>\n",
       "    <tr>\n",
       "      <th>77294</th>\n",
       "      <td>0.238767</td>\n",
       "      <td>0.429990</td>\n",
       "      <td>1.684437</td>\n",
       "    </tr>\n",
       "    <tr>\n",
       "      <th>57049</th>\n",
       "      <td>-0.053520</td>\n",
       "      <td>-0.178480</td>\n",
       "      <td>-1.005307</td>\n",
       "    </tr>\n",
       "    <tr>\n",
       "      <th>39656</th>\n",
       "      <td>0.823341</td>\n",
       "      <td>2.103284</td>\n",
       "      <td>-0.706446</td>\n",
       "    </tr>\n",
       "    <tr>\n",
       "      <th>...</th>\n",
       "      <td>...</td>\n",
       "      <td>...</td>\n",
       "      <td>...</td>\n",
       "    </tr>\n",
       "    <tr>\n",
       "      <th>158838</th>\n",
       "      <td>-0.784237</td>\n",
       "      <td>-0.315386</td>\n",
       "      <td>1.385576</td>\n",
       "    </tr>\n",
       "    <tr>\n",
       "      <th>47873</th>\n",
       "      <td>0.238767</td>\n",
       "      <td>-0.178480</td>\n",
       "      <td>0.787856</td>\n",
       "    </tr>\n",
       "    <tr>\n",
       "      <th>86398</th>\n",
       "      <td>1.115627</td>\n",
       "      <td>1.038461</td>\n",
       "      <td>-0.108726</td>\n",
       "    </tr>\n",
       "    <tr>\n",
       "      <th>77285</th>\n",
       "      <td>-1.222667</td>\n",
       "      <td>1.144943</td>\n",
       "      <td>1.385576</td>\n",
       "    </tr>\n",
       "    <tr>\n",
       "      <th>217570</th>\n",
       "      <td>0.092624</td>\n",
       "      <td>1.646931</td>\n",
       "      <td>1.385576</td>\n",
       "    </tr>\n",
       "  </tbody>\n",
       "</table>\n",
       "<p>197207 rows × 3 columns</p>\n",
       "</div>"
      ],
      "text/plain": [
       "        RegistrationYear     Power  RegistrationMonth\n",
       "247352          0.969484  0.947190          -0.407586\n",
       "175733          1.700201 -0.406657          -1.603028\n",
       "77294           0.238767  0.429990           1.684437\n",
       "57049          -0.053520 -0.178480          -1.005307\n",
       "39656           0.823341  2.103284          -0.706446\n",
       "...                  ...       ...                ...\n",
       "158838         -0.784237 -0.315386           1.385576\n",
       "47873           0.238767 -0.178480           0.787856\n",
       "86398           1.115627  1.038461          -0.108726\n",
       "77285          -1.222667  1.144943           1.385576\n",
       "217570          0.092624  1.646931           1.385576\n",
       "\n",
       "[197207 rows x 3 columns]"
      ]
     },
     "execution_count": 29,
     "metadata": {},
     "output_type": "execute_result"
    },
    {
     "data": {
      "application/javascript": [
       "\n",
       "            setTimeout(function() {\n",
       "                var nbb_cell_id = 29;\n",
       "                var nbb_unformatted_code = \"features_train[numeric]\";\n",
       "                var nbb_formatted_code = \"features_train[numeric]\";\n",
       "                var nbb_cells = Jupyter.notebook.get_cells();\n",
       "                for (var i = 0; i < nbb_cells.length; ++i) {\n",
       "                    if (nbb_cells[i].input_prompt_number == nbb_cell_id) {\n",
       "                        if (nbb_cells[i].get_text() == nbb_unformatted_code) {\n",
       "                             nbb_cells[i].set_text(nbb_formatted_code);\n",
       "                        }\n",
       "                        break;\n",
       "                    }\n",
       "                }\n",
       "            }, 500);\n",
       "            "
      ],
      "text/plain": [
       "<IPython.core.display.Javascript object>"
      ]
     },
     "metadata": {},
     "output_type": "display_data"
    }
   ],
   "source": [
    "features_train[numeric]"
   ]
  },
  {
   "cell_type": "code",
   "execution_count": 30,
   "metadata": {},
   "outputs": [
    {
     "data": {
      "text/html": [
       "<div>\n",
       "<style scoped>\n",
       "    .dataframe tbody tr th:only-of-type {\n",
       "        vertical-align: middle;\n",
       "    }\n",
       "\n",
       "    .dataframe tbody tr th {\n",
       "        vertical-align: top;\n",
       "    }\n",
       "\n",
       "    .dataframe thead th {\n",
       "        text-align: right;\n",
       "    }\n",
       "</style>\n",
       "<table border=\"1\" class=\"dataframe\">\n",
       "  <thead>\n",
       "    <tr style=\"text-align: right;\">\n",
       "      <th></th>\n",
       "      <th>RegistrationYear</th>\n",
       "      <th>Power</th>\n",
       "      <th>RegistrationMonth</th>\n",
       "    </tr>\n",
       "  </thead>\n",
       "  <tbody>\n",
       "    <tr>\n",
       "      <th>248581</th>\n",
       "      <td>-1.661097</td>\n",
       "      <td>-0.193692</td>\n",
       "      <td>1.684437</td>\n",
       "    </tr>\n",
       "    <tr>\n",
       "      <th>21953</th>\n",
       "      <td>0.092624</td>\n",
       "      <td>0.840708</td>\n",
       "      <td>0.488995</td>\n",
       "    </tr>\n",
       "    <tr>\n",
       "      <th>49337</th>\n",
       "      <td>-0.345807</td>\n",
       "      <td>-0.087210</td>\n",
       "      <td>-1.304167</td>\n",
       "    </tr>\n",
       "    <tr>\n",
       "      <th>77635</th>\n",
       "      <td>-0.638093</td>\n",
       "      <td>-0.817374</td>\n",
       "      <td>1.684437</td>\n",
       "    </tr>\n",
       "    <tr>\n",
       "      <th>209391</th>\n",
       "      <td>-0.784237</td>\n",
       "      <td>-0.300174</td>\n",
       "      <td>-0.108726</td>\n",
       "    </tr>\n",
       "    <tr>\n",
       "      <th>...</th>\n",
       "      <td>...</td>\n",
       "      <td>...</td>\n",
       "      <td>...</td>\n",
       "    </tr>\n",
       "    <tr>\n",
       "      <th>120420</th>\n",
       "      <td>-1.222667</td>\n",
       "      <td>0.049696</td>\n",
       "      <td>1.086716</td>\n",
       "    </tr>\n",
       "    <tr>\n",
       "      <th>128766</th>\n",
       "      <td>0.677197</td>\n",
       "      <td>0.871131</td>\n",
       "      <td>-1.603028</td>\n",
       "    </tr>\n",
       "    <tr>\n",
       "      <th>179950</th>\n",
       "      <td>0.531054</td>\n",
       "      <td>-0.923856</td>\n",
       "      <td>0.190135</td>\n",
       "    </tr>\n",
       "    <tr>\n",
       "      <th>50017</th>\n",
       "      <td>-0.199663</td>\n",
       "      <td>-0.482715</td>\n",
       "      <td>-1.005307</td>\n",
       "    </tr>\n",
       "    <tr>\n",
       "      <th>252938</th>\n",
       "      <td>0.969484</td>\n",
       "      <td>-0.863009</td>\n",
       "      <td>0.190135</td>\n",
       "    </tr>\n",
       "  </tbody>\n",
       "</table>\n",
       "<p>65736 rows × 3 columns</p>\n",
       "</div>"
      ],
      "text/plain": [
       "        RegistrationYear     Power  RegistrationMonth\n",
       "248581         -1.661097 -0.193692           1.684437\n",
       "21953           0.092624  0.840708           0.488995\n",
       "49337          -0.345807 -0.087210          -1.304167\n",
       "77635          -0.638093 -0.817374           1.684437\n",
       "209391         -0.784237 -0.300174          -0.108726\n",
       "...                  ...       ...                ...\n",
       "120420         -1.222667  0.049696           1.086716\n",
       "128766          0.677197  0.871131          -1.603028\n",
       "179950          0.531054 -0.923856           0.190135\n",
       "50017          -0.199663 -0.482715          -1.005307\n",
       "252938          0.969484 -0.863009           0.190135\n",
       "\n",
       "[65736 rows x 3 columns]"
      ]
     },
     "execution_count": 30,
     "metadata": {},
     "output_type": "execute_result"
    },
    {
     "data": {
      "application/javascript": [
       "\n",
       "            setTimeout(function() {\n",
       "                var nbb_cell_id = 30;\n",
       "                var nbb_unformatted_code = \"features_test[numeric]\";\n",
       "                var nbb_formatted_code = \"features_test[numeric]\";\n",
       "                var nbb_cells = Jupyter.notebook.get_cells();\n",
       "                for (var i = 0; i < nbb_cells.length; ++i) {\n",
       "                    if (nbb_cells[i].input_prompt_number == nbb_cell_id) {\n",
       "                        if (nbb_cells[i].get_text() == nbb_unformatted_code) {\n",
       "                             nbb_cells[i].set_text(nbb_formatted_code);\n",
       "                        }\n",
       "                        break;\n",
       "                    }\n",
       "                }\n",
       "            }, 500);\n",
       "            "
      ],
      "text/plain": [
       "<IPython.core.display.Javascript object>"
      ]
     },
     "metadata": {},
     "output_type": "display_data"
    }
   ],
   "source": [
    "features_test[numeric]"
   ]
  },
  {
   "cell_type": "markdown",
   "metadata": {},
   "source": [
    "We can see that the scaling was successful."
   ]
  },
  {
   "cell_type": "markdown",
   "metadata": {},
   "source": [
    "We get the final dataframes of the categorical and quantitative features processed by the two techniques for the training and test sample."
   ]
  },
  {
   "cell_type": "code",
   "execution_count": 31,
   "metadata": {},
   "outputs": [
    {
     "data": {
      "application/javascript": [
       "\n",
       "            setTimeout(function() {\n",
       "                var nbb_cell_id = 31;\n",
       "                var nbb_unformatted_code = \"features_train_num = features_train[numeric].reset_index(drop=True)\";\n",
       "                var nbb_formatted_code = \"features_train_num = features_train[numeric].reset_index(drop=True)\";\n",
       "                var nbb_cells = Jupyter.notebook.get_cells();\n",
       "                for (var i = 0; i < nbb_cells.length; ++i) {\n",
       "                    if (nbb_cells[i].input_prompt_number == nbb_cell_id) {\n",
       "                        if (nbb_cells[i].get_text() == nbb_unformatted_code) {\n",
       "                             nbb_cells[i].set_text(nbb_formatted_code);\n",
       "                        }\n",
       "                        break;\n",
       "                    }\n",
       "                }\n",
       "            }, 500);\n",
       "            "
      ],
      "text/plain": [
       "<IPython.core.display.Javascript object>"
      ]
     },
     "metadata": {},
     "output_type": "display_data"
    }
   ],
   "source": [
    "features_train_num = features_train[numeric].reset_index(drop=True)"
   ]
  },
  {
   "cell_type": "code",
   "execution_count": 32,
   "metadata": {},
   "outputs": [
    {
     "data": {
      "text/html": [
       "<div>\n",
       "<style scoped>\n",
       "    .dataframe tbody tr th:only-of-type {\n",
       "        vertical-align: middle;\n",
       "    }\n",
       "\n",
       "    .dataframe tbody tr th {\n",
       "        vertical-align: top;\n",
       "    }\n",
       "\n",
       "    .dataframe thead th {\n",
       "        text-align: right;\n",
       "    }\n",
       "</style>\n",
       "<table border=\"1\" class=\"dataframe\">\n",
       "  <thead>\n",
       "    <tr style=\"text-align: right;\">\n",
       "      <th></th>\n",
       "      <th>RegistrationYear</th>\n",
       "      <th>Power</th>\n",
       "      <th>RegistrationMonth</th>\n",
       "    </tr>\n",
       "  </thead>\n",
       "  <tbody>\n",
       "    <tr>\n",
       "      <th>0</th>\n",
       "      <td>0.969484</td>\n",
       "      <td>0.947190</td>\n",
       "      <td>-0.407586</td>\n",
       "    </tr>\n",
       "    <tr>\n",
       "      <th>1</th>\n",
       "      <td>1.700201</td>\n",
       "      <td>-0.406657</td>\n",
       "      <td>-1.603028</td>\n",
       "    </tr>\n",
       "    <tr>\n",
       "      <th>2</th>\n",
       "      <td>0.238767</td>\n",
       "      <td>0.429990</td>\n",
       "      <td>1.684437</td>\n",
       "    </tr>\n",
       "    <tr>\n",
       "      <th>3</th>\n",
       "      <td>-0.053520</td>\n",
       "      <td>-0.178480</td>\n",
       "      <td>-1.005307</td>\n",
       "    </tr>\n",
       "    <tr>\n",
       "      <th>4</th>\n",
       "      <td>0.823341</td>\n",
       "      <td>2.103284</td>\n",
       "      <td>-0.706446</td>\n",
       "    </tr>\n",
       "    <tr>\n",
       "      <th>...</th>\n",
       "      <td>...</td>\n",
       "      <td>...</td>\n",
       "      <td>...</td>\n",
       "    </tr>\n",
       "    <tr>\n",
       "      <th>197202</th>\n",
       "      <td>-0.784237</td>\n",
       "      <td>-0.315386</td>\n",
       "      <td>1.385576</td>\n",
       "    </tr>\n",
       "    <tr>\n",
       "      <th>197203</th>\n",
       "      <td>0.238767</td>\n",
       "      <td>-0.178480</td>\n",
       "      <td>0.787856</td>\n",
       "    </tr>\n",
       "    <tr>\n",
       "      <th>197204</th>\n",
       "      <td>1.115627</td>\n",
       "      <td>1.038461</td>\n",
       "      <td>-0.108726</td>\n",
       "    </tr>\n",
       "    <tr>\n",
       "      <th>197205</th>\n",
       "      <td>-1.222667</td>\n",
       "      <td>1.144943</td>\n",
       "      <td>1.385576</td>\n",
       "    </tr>\n",
       "    <tr>\n",
       "      <th>197206</th>\n",
       "      <td>0.092624</td>\n",
       "      <td>1.646931</td>\n",
       "      <td>1.385576</td>\n",
       "    </tr>\n",
       "  </tbody>\n",
       "</table>\n",
       "<p>197207 rows × 3 columns</p>\n",
       "</div>"
      ],
      "text/plain": [
       "        RegistrationYear     Power  RegistrationMonth\n",
       "0               0.969484  0.947190          -0.407586\n",
       "1               1.700201 -0.406657          -1.603028\n",
       "2               0.238767  0.429990           1.684437\n",
       "3              -0.053520 -0.178480          -1.005307\n",
       "4               0.823341  2.103284          -0.706446\n",
       "...                  ...       ...                ...\n",
       "197202         -0.784237 -0.315386           1.385576\n",
       "197203          0.238767 -0.178480           0.787856\n",
       "197204          1.115627  1.038461          -0.108726\n",
       "197205         -1.222667  1.144943           1.385576\n",
       "197206          0.092624  1.646931           1.385576\n",
       "\n",
       "[197207 rows x 3 columns]"
      ]
     },
     "execution_count": 32,
     "metadata": {},
     "output_type": "execute_result"
    },
    {
     "data": {
      "application/javascript": [
       "\n",
       "            setTimeout(function() {\n",
       "                var nbb_cell_id = 32;\n",
       "                var nbb_unformatted_code = \"features_train_num\";\n",
       "                var nbb_formatted_code = \"features_train_num\";\n",
       "                var nbb_cells = Jupyter.notebook.get_cells();\n",
       "                for (var i = 0; i < nbb_cells.length; ++i) {\n",
       "                    if (nbb_cells[i].input_prompt_number == nbb_cell_id) {\n",
       "                        if (nbb_cells[i].get_text() == nbb_unformatted_code) {\n",
       "                             nbb_cells[i].set_text(nbb_formatted_code);\n",
       "                        }\n",
       "                        break;\n",
       "                    }\n",
       "                }\n",
       "            }, 500);\n",
       "            "
      ],
      "text/plain": [
       "<IPython.core.display.Javascript object>"
      ]
     },
     "metadata": {},
     "output_type": "display_data"
    }
   ],
   "source": [
    "features_train_num"
   ]
  },
  {
   "cell_type": "code",
   "execution_count": 33,
   "metadata": {},
   "outputs": [
    {
     "data": {
      "application/javascript": [
       "\n",
       "            setTimeout(function() {\n",
       "                var nbb_cell_id = 33;\n",
       "                var nbb_unformatted_code = \"features_train_ohe_conc = pd.concat([features_train_ohe, features_train_num], axis=1)\";\n",
       "                var nbb_formatted_code = \"features_train_ohe_conc = pd.concat([features_train_ohe, features_train_num], axis=1)\";\n",
       "                var nbb_cells = Jupyter.notebook.get_cells();\n",
       "                for (var i = 0; i < nbb_cells.length; ++i) {\n",
       "                    if (nbb_cells[i].input_prompt_number == nbb_cell_id) {\n",
       "                        if (nbb_cells[i].get_text() == nbb_unformatted_code) {\n",
       "                             nbb_cells[i].set_text(nbb_formatted_code);\n",
       "                        }\n",
       "                        break;\n",
       "                    }\n",
       "                }\n",
       "            }, 500);\n",
       "            "
      ],
      "text/plain": [
       "<IPython.core.display.Javascript object>"
      ]
     },
     "metadata": {},
     "output_type": "display_data"
    }
   ],
   "source": [
    "features_train_ohe_conc = pd.concat([features_train_ohe, features_train_num], axis=1)"
   ]
  },
  {
   "cell_type": "code",
   "execution_count": 34,
   "metadata": {
    "scrolled": true
   },
   "outputs": [
    {
     "data": {
      "text/html": [
       "<div>\n",
       "<style scoped>\n",
       "    .dataframe tbody tr th:only-of-type {\n",
       "        vertical-align: middle;\n",
       "    }\n",
       "\n",
       "    .dataframe tbody tr th {\n",
       "        vertical-align: top;\n",
       "    }\n",
       "\n",
       "    .dataframe thead th {\n",
       "        text-align: right;\n",
       "    }\n",
       "</style>\n",
       "<table border=\"1\" class=\"dataframe\">\n",
       "  <thead>\n",
       "    <tr style=\"text-align: right;\">\n",
       "      <th></th>\n",
       "      <th>VehicleType_bus</th>\n",
       "      <th>VehicleType_convertible</th>\n",
       "      <th>VehicleType_coupe</th>\n",
       "      <th>VehicleType_other</th>\n",
       "      <th>VehicleType_sedan</th>\n",
       "      <th>VehicleType_small</th>\n",
       "      <th>VehicleType_suv</th>\n",
       "      <th>VehicleType_wagon</th>\n",
       "      <th>Gearbox_auto</th>\n",
       "      <th>Gearbox_manual</th>\n",
       "      <th>...</th>\n",
       "      <th>Brand_toyota</th>\n",
       "      <th>Brand_trabant</th>\n",
       "      <th>Brand_volkswagen</th>\n",
       "      <th>Brand_volvo</th>\n",
       "      <th>Repaired_Unknown</th>\n",
       "      <th>Repaired_no</th>\n",
       "      <th>Repaired_yes</th>\n",
       "      <th>RegistrationYear</th>\n",
       "      <th>Power</th>\n",
       "      <th>RegistrationMonth</th>\n",
       "    </tr>\n",
       "  </thead>\n",
       "  <tbody>\n",
       "    <tr>\n",
       "      <th>0</th>\n",
       "      <td>0.0</td>\n",
       "      <td>0.0</td>\n",
       "      <td>0.0</td>\n",
       "      <td>0.0</td>\n",
       "      <td>0.0</td>\n",
       "      <td>0.0</td>\n",
       "      <td>0.0</td>\n",
       "      <td>1.0</td>\n",
       "      <td>1.0</td>\n",
       "      <td>0.0</td>\n",
       "      <td>...</td>\n",
       "      <td>0.0</td>\n",
       "      <td>0.0</td>\n",
       "      <td>0.0</td>\n",
       "      <td>0.0</td>\n",
       "      <td>0.0</td>\n",
       "      <td>1.0</td>\n",
       "      <td>0.0</td>\n",
       "      <td>0.969484</td>\n",
       "      <td>0.947190</td>\n",
       "      <td>-0.407586</td>\n",
       "    </tr>\n",
       "    <tr>\n",
       "      <th>1</th>\n",
       "      <td>0.0</td>\n",
       "      <td>0.0</td>\n",
       "      <td>0.0</td>\n",
       "      <td>0.0</td>\n",
       "      <td>0.0</td>\n",
       "      <td>1.0</td>\n",
       "      <td>0.0</td>\n",
       "      <td>0.0</td>\n",
       "      <td>0.0</td>\n",
       "      <td>1.0</td>\n",
       "      <td>...</td>\n",
       "      <td>0.0</td>\n",
       "      <td>0.0</td>\n",
       "      <td>0.0</td>\n",
       "      <td>0.0</td>\n",
       "      <td>0.0</td>\n",
       "      <td>1.0</td>\n",
       "      <td>0.0</td>\n",
       "      <td>1.700201</td>\n",
       "      <td>-0.406657</td>\n",
       "      <td>-1.603028</td>\n",
       "    </tr>\n",
       "    <tr>\n",
       "      <th>2</th>\n",
       "      <td>0.0</td>\n",
       "      <td>0.0</td>\n",
       "      <td>0.0</td>\n",
       "      <td>0.0</td>\n",
       "      <td>0.0</td>\n",
       "      <td>0.0</td>\n",
       "      <td>0.0</td>\n",
       "      <td>1.0</td>\n",
       "      <td>0.0</td>\n",
       "      <td>1.0</td>\n",
       "      <td>...</td>\n",
       "      <td>0.0</td>\n",
       "      <td>0.0</td>\n",
       "      <td>0.0</td>\n",
       "      <td>0.0</td>\n",
       "      <td>0.0</td>\n",
       "      <td>1.0</td>\n",
       "      <td>0.0</td>\n",
       "      <td>0.238767</td>\n",
       "      <td>0.429990</td>\n",
       "      <td>1.684437</td>\n",
       "    </tr>\n",
       "    <tr>\n",
       "      <th>3</th>\n",
       "      <td>0.0</td>\n",
       "      <td>0.0</td>\n",
       "      <td>0.0</td>\n",
       "      <td>0.0</td>\n",
       "      <td>0.0</td>\n",
       "      <td>1.0</td>\n",
       "      <td>0.0</td>\n",
       "      <td>0.0</td>\n",
       "      <td>0.0</td>\n",
       "      <td>1.0</td>\n",
       "      <td>...</td>\n",
       "      <td>0.0</td>\n",
       "      <td>0.0</td>\n",
       "      <td>0.0</td>\n",
       "      <td>0.0</td>\n",
       "      <td>0.0</td>\n",
       "      <td>1.0</td>\n",
       "      <td>0.0</td>\n",
       "      <td>-0.053520</td>\n",
       "      <td>-0.178480</td>\n",
       "      <td>-1.005307</td>\n",
       "    </tr>\n",
       "    <tr>\n",
       "      <th>4</th>\n",
       "      <td>0.0</td>\n",
       "      <td>0.0</td>\n",
       "      <td>1.0</td>\n",
       "      <td>0.0</td>\n",
       "      <td>0.0</td>\n",
       "      <td>0.0</td>\n",
       "      <td>0.0</td>\n",
       "      <td>0.0</td>\n",
       "      <td>0.0</td>\n",
       "      <td>1.0</td>\n",
       "      <td>...</td>\n",
       "      <td>0.0</td>\n",
       "      <td>0.0</td>\n",
       "      <td>0.0</td>\n",
       "      <td>0.0</td>\n",
       "      <td>0.0</td>\n",
       "      <td>1.0</td>\n",
       "      <td>0.0</td>\n",
       "      <td>0.823341</td>\n",
       "      <td>2.103284</td>\n",
       "      <td>-0.706446</td>\n",
       "    </tr>\n",
       "    <tr>\n",
       "      <th>...</th>\n",
       "      <td>...</td>\n",
       "      <td>...</td>\n",
       "      <td>...</td>\n",
       "      <td>...</td>\n",
       "      <td>...</td>\n",
       "      <td>...</td>\n",
       "      <td>...</td>\n",
       "      <td>...</td>\n",
       "      <td>...</td>\n",
       "      <td>...</td>\n",
       "      <td>...</td>\n",
       "      <td>...</td>\n",
       "      <td>...</td>\n",
       "      <td>...</td>\n",
       "      <td>...</td>\n",
       "      <td>...</td>\n",
       "      <td>...</td>\n",
       "      <td>...</td>\n",
       "      <td>...</td>\n",
       "      <td>...</td>\n",
       "      <td>...</td>\n",
       "    </tr>\n",
       "    <tr>\n",
       "      <th>197202</th>\n",
       "      <td>0.0</td>\n",
       "      <td>0.0</td>\n",
       "      <td>0.0</td>\n",
       "      <td>0.0</td>\n",
       "      <td>1.0</td>\n",
       "      <td>0.0</td>\n",
       "      <td>0.0</td>\n",
       "      <td>0.0</td>\n",
       "      <td>0.0</td>\n",
       "      <td>1.0</td>\n",
       "      <td>...</td>\n",
       "      <td>0.0</td>\n",
       "      <td>0.0</td>\n",
       "      <td>1.0</td>\n",
       "      <td>0.0</td>\n",
       "      <td>0.0</td>\n",
       "      <td>1.0</td>\n",
       "      <td>0.0</td>\n",
       "      <td>-0.784237</td>\n",
       "      <td>-0.315386</td>\n",
       "      <td>1.385576</td>\n",
       "    </tr>\n",
       "    <tr>\n",
       "      <th>197203</th>\n",
       "      <td>0.0</td>\n",
       "      <td>1.0</td>\n",
       "      <td>0.0</td>\n",
       "      <td>0.0</td>\n",
       "      <td>0.0</td>\n",
       "      <td>0.0</td>\n",
       "      <td>0.0</td>\n",
       "      <td>0.0</td>\n",
       "      <td>0.0</td>\n",
       "      <td>1.0</td>\n",
       "      <td>...</td>\n",
       "      <td>0.0</td>\n",
       "      <td>0.0</td>\n",
       "      <td>0.0</td>\n",
       "      <td>0.0</td>\n",
       "      <td>0.0</td>\n",
       "      <td>1.0</td>\n",
       "      <td>0.0</td>\n",
       "      <td>0.238767</td>\n",
       "      <td>-0.178480</td>\n",
       "      <td>0.787856</td>\n",
       "    </tr>\n",
       "    <tr>\n",
       "      <th>197204</th>\n",
       "      <td>0.0</td>\n",
       "      <td>0.0</td>\n",
       "      <td>0.0</td>\n",
       "      <td>0.0</td>\n",
       "      <td>1.0</td>\n",
       "      <td>0.0</td>\n",
       "      <td>0.0</td>\n",
       "      <td>0.0</td>\n",
       "      <td>0.0</td>\n",
       "      <td>1.0</td>\n",
       "      <td>...</td>\n",
       "      <td>0.0</td>\n",
       "      <td>0.0</td>\n",
       "      <td>0.0</td>\n",
       "      <td>0.0</td>\n",
       "      <td>0.0</td>\n",
       "      <td>1.0</td>\n",
       "      <td>0.0</td>\n",
       "      <td>1.115627</td>\n",
       "      <td>1.038461</td>\n",
       "      <td>-0.108726</td>\n",
       "    </tr>\n",
       "    <tr>\n",
       "      <th>197205</th>\n",
       "      <td>0.0</td>\n",
       "      <td>0.0</td>\n",
       "      <td>0.0</td>\n",
       "      <td>0.0</td>\n",
       "      <td>1.0</td>\n",
       "      <td>0.0</td>\n",
       "      <td>0.0</td>\n",
       "      <td>0.0</td>\n",
       "      <td>1.0</td>\n",
       "      <td>0.0</td>\n",
       "      <td>...</td>\n",
       "      <td>0.0</td>\n",
       "      <td>0.0</td>\n",
       "      <td>0.0</td>\n",
       "      <td>0.0</td>\n",
       "      <td>0.0</td>\n",
       "      <td>1.0</td>\n",
       "      <td>0.0</td>\n",
       "      <td>-1.222667</td>\n",
       "      <td>1.144943</td>\n",
       "      <td>1.385576</td>\n",
       "    </tr>\n",
       "    <tr>\n",
       "      <th>197206</th>\n",
       "      <td>0.0</td>\n",
       "      <td>0.0</td>\n",
       "      <td>0.0</td>\n",
       "      <td>0.0</td>\n",
       "      <td>1.0</td>\n",
       "      <td>0.0</td>\n",
       "      <td>0.0</td>\n",
       "      <td>0.0</td>\n",
       "      <td>1.0</td>\n",
       "      <td>0.0</td>\n",
       "      <td>...</td>\n",
       "      <td>0.0</td>\n",
       "      <td>0.0</td>\n",
       "      <td>0.0</td>\n",
       "      <td>0.0</td>\n",
       "      <td>0.0</td>\n",
       "      <td>1.0</td>\n",
       "      <td>0.0</td>\n",
       "      <td>0.092624</td>\n",
       "      <td>1.646931</td>\n",
       "      <td>1.385576</td>\n",
       "    </tr>\n",
       "  </tbody>\n",
       "</table>\n",
       "<p>197207 rows × 324 columns</p>\n",
       "</div>"
      ],
      "text/plain": [
       "        VehicleType_bus  VehicleType_convertible  VehicleType_coupe  \\\n",
       "0                   0.0                      0.0                0.0   \n",
       "1                   0.0                      0.0                0.0   \n",
       "2                   0.0                      0.0                0.0   \n",
       "3                   0.0                      0.0                0.0   \n",
       "4                   0.0                      0.0                1.0   \n",
       "...                 ...                      ...                ...   \n",
       "197202              0.0                      0.0                0.0   \n",
       "197203              0.0                      1.0                0.0   \n",
       "197204              0.0                      0.0                0.0   \n",
       "197205              0.0                      0.0                0.0   \n",
       "197206              0.0                      0.0                0.0   \n",
       "\n",
       "        VehicleType_other  VehicleType_sedan  VehicleType_small  \\\n",
       "0                     0.0                0.0                0.0   \n",
       "1                     0.0                0.0                1.0   \n",
       "2                     0.0                0.0                0.0   \n",
       "3                     0.0                0.0                1.0   \n",
       "4                     0.0                0.0                0.0   \n",
       "...                   ...                ...                ...   \n",
       "197202                0.0                1.0                0.0   \n",
       "197203                0.0                0.0                0.0   \n",
       "197204                0.0                1.0                0.0   \n",
       "197205                0.0                1.0                0.0   \n",
       "197206                0.0                1.0                0.0   \n",
       "\n",
       "        VehicleType_suv  VehicleType_wagon  Gearbox_auto  Gearbox_manual  ...  \\\n",
       "0                   0.0                1.0           1.0             0.0  ...   \n",
       "1                   0.0                0.0           0.0             1.0  ...   \n",
       "2                   0.0                1.0           0.0             1.0  ...   \n",
       "3                   0.0                0.0           0.0             1.0  ...   \n",
       "4                   0.0                0.0           0.0             1.0  ...   \n",
       "...                 ...                ...           ...             ...  ...   \n",
       "197202              0.0                0.0           0.0             1.0  ...   \n",
       "197203              0.0                0.0           0.0             1.0  ...   \n",
       "197204              0.0                0.0           0.0             1.0  ...   \n",
       "197205              0.0                0.0           1.0             0.0  ...   \n",
       "197206              0.0                0.0           1.0             0.0  ...   \n",
       "\n",
       "        Brand_toyota  Brand_trabant  Brand_volkswagen  Brand_volvo  \\\n",
       "0                0.0            0.0               0.0          0.0   \n",
       "1                0.0            0.0               0.0          0.0   \n",
       "2                0.0            0.0               0.0          0.0   \n",
       "3                0.0            0.0               0.0          0.0   \n",
       "4                0.0            0.0               0.0          0.0   \n",
       "...              ...            ...               ...          ...   \n",
       "197202           0.0            0.0               1.0          0.0   \n",
       "197203           0.0            0.0               0.0          0.0   \n",
       "197204           0.0            0.0               0.0          0.0   \n",
       "197205           0.0            0.0               0.0          0.0   \n",
       "197206           0.0            0.0               0.0          0.0   \n",
       "\n",
       "        Repaired_Unknown  Repaired_no  Repaired_yes  RegistrationYear  \\\n",
       "0                    0.0          1.0           0.0          0.969484   \n",
       "1                    0.0          1.0           0.0          1.700201   \n",
       "2                    0.0          1.0           0.0          0.238767   \n",
       "3                    0.0          1.0           0.0         -0.053520   \n",
       "4                    0.0          1.0           0.0          0.823341   \n",
       "...                  ...          ...           ...               ...   \n",
       "197202               0.0          1.0           0.0         -0.784237   \n",
       "197203               0.0          1.0           0.0          0.238767   \n",
       "197204               0.0          1.0           0.0          1.115627   \n",
       "197205               0.0          1.0           0.0         -1.222667   \n",
       "197206               0.0          1.0           0.0          0.092624   \n",
       "\n",
       "           Power  RegistrationMonth  \n",
       "0       0.947190          -0.407586  \n",
       "1      -0.406657          -1.603028  \n",
       "2       0.429990           1.684437  \n",
       "3      -0.178480          -1.005307  \n",
       "4       2.103284          -0.706446  \n",
       "...          ...                ...  \n",
       "197202 -0.315386           1.385576  \n",
       "197203 -0.178480           0.787856  \n",
       "197204  1.038461          -0.108726  \n",
       "197205  1.144943           1.385576  \n",
       "197206  1.646931           1.385576  \n",
       "\n",
       "[197207 rows x 324 columns]"
      ]
     },
     "execution_count": 34,
     "metadata": {},
     "output_type": "execute_result"
    },
    {
     "data": {
      "application/javascript": [
       "\n",
       "            setTimeout(function() {\n",
       "                var nbb_cell_id = 34;\n",
       "                var nbb_unformatted_code = \"features_train_ohe_conc\";\n",
       "                var nbb_formatted_code = \"features_train_ohe_conc\";\n",
       "                var nbb_cells = Jupyter.notebook.get_cells();\n",
       "                for (var i = 0; i < nbb_cells.length; ++i) {\n",
       "                    if (nbb_cells[i].input_prompt_number == nbb_cell_id) {\n",
       "                        if (nbb_cells[i].get_text() == nbb_unformatted_code) {\n",
       "                             nbb_cells[i].set_text(nbb_formatted_code);\n",
       "                        }\n",
       "                        break;\n",
       "                    }\n",
       "                }\n",
       "            }, 500);\n",
       "            "
      ],
      "text/plain": [
       "<IPython.core.display.Javascript object>"
      ]
     },
     "metadata": {},
     "output_type": "display_data"
    }
   ],
   "source": [
    "features_train_ohe_conc"
   ]
  },
  {
   "cell_type": "code",
   "execution_count": 35,
   "metadata": {},
   "outputs": [
    {
     "data": {
      "application/javascript": [
       "\n",
       "            setTimeout(function() {\n",
       "                var nbb_cell_id = 35;\n",
       "                var nbb_unformatted_code = \"features_train_ordinal_conc = pd.concat(\\n    [features_train_ordinal, features_train_num], axis=1\\n)\";\n",
       "                var nbb_formatted_code = \"features_train_ordinal_conc = pd.concat(\\n    [features_train_ordinal, features_train_num], axis=1\\n)\";\n",
       "                var nbb_cells = Jupyter.notebook.get_cells();\n",
       "                for (var i = 0; i < nbb_cells.length; ++i) {\n",
       "                    if (nbb_cells[i].input_prompt_number == nbb_cell_id) {\n",
       "                        if (nbb_cells[i].get_text() == nbb_unformatted_code) {\n",
       "                             nbb_cells[i].set_text(nbb_formatted_code);\n",
       "                        }\n",
       "                        break;\n",
       "                    }\n",
       "                }\n",
       "            }, 500);\n",
       "            "
      ],
      "text/plain": [
       "<IPython.core.display.Javascript object>"
      ]
     },
     "metadata": {},
     "output_type": "display_data"
    }
   ],
   "source": [
    "features_train_ordinal_conc = pd.concat(\n",
    "    [features_train_ordinal, features_train_num], axis=1\n",
    ")"
   ]
  },
  {
   "cell_type": "code",
   "execution_count": 36,
   "metadata": {},
   "outputs": [
    {
     "data": {
      "text/html": [
       "<div>\n",
       "<style scoped>\n",
       "    .dataframe tbody tr th:only-of-type {\n",
       "        vertical-align: middle;\n",
       "    }\n",
       "\n",
       "    .dataframe tbody tr th {\n",
       "        vertical-align: top;\n",
       "    }\n",
       "\n",
       "    .dataframe thead th {\n",
       "        text-align: right;\n",
       "    }\n",
       "</style>\n",
       "<table border=\"1\" class=\"dataframe\">\n",
       "  <thead>\n",
       "    <tr style=\"text-align: right;\">\n",
       "      <th></th>\n",
       "      <th>VehicleType</th>\n",
       "      <th>Gearbox</th>\n",
       "      <th>Kilometer</th>\n",
       "      <th>Model</th>\n",
       "      <th>FuelType</th>\n",
       "      <th>Brand</th>\n",
       "      <th>Repaired</th>\n",
       "      <th>RegistrationYear</th>\n",
       "      <th>Power</th>\n",
       "      <th>RegistrationMonth</th>\n",
       "    </tr>\n",
       "  </thead>\n",
       "  <tbody>\n",
       "    <tr>\n",
       "      <th>0</th>\n",
       "      <td>7.0</td>\n",
       "      <td>0.0</td>\n",
       "      <td>12.0</td>\n",
       "      <td>11.0</td>\n",
       "      <td>2.0</td>\n",
       "      <td>2.0</td>\n",
       "      <td>1.0</td>\n",
       "      <td>0.969484</td>\n",
       "      <td>0.947190</td>\n",
       "      <td>-0.407586</td>\n",
       "    </tr>\n",
       "    <tr>\n",
       "      <th>1</th>\n",
       "      <td>5.0</td>\n",
       "      <td>1.0</td>\n",
       "      <td>4.0</td>\n",
       "      <td>165.0</td>\n",
       "      <td>2.0</td>\n",
       "      <td>21.0</td>\n",
       "      <td>1.0</td>\n",
       "      <td>1.700201</td>\n",
       "      <td>-0.406657</td>\n",
       "      <td>-1.603028</td>\n",
       "    </tr>\n",
       "    <tr>\n",
       "      <th>2</th>\n",
       "      <td>7.0</td>\n",
       "      <td>1.0</td>\n",
       "      <td>9.0</td>\n",
       "      <td>28.0</td>\n",
       "      <td>6.0</td>\n",
       "      <td>1.0</td>\n",
       "      <td>1.0</td>\n",
       "      <td>0.238767</td>\n",
       "      <td>0.429990</td>\n",
       "      <td>1.684437</td>\n",
       "    </tr>\n",
       "    <tr>\n",
       "      <th>3</th>\n",
       "      <td>5.0</td>\n",
       "      <td>1.0</td>\n",
       "      <td>12.0</td>\n",
       "      <td>80.0</td>\n",
       "      <td>6.0</td>\n",
       "      <td>21.0</td>\n",
       "      <td>1.0</td>\n",
       "      <td>-0.053520</td>\n",
       "      <td>-0.178480</td>\n",
       "      <td>-1.005307</td>\n",
       "    </tr>\n",
       "    <tr>\n",
       "      <th>4</th>\n",
       "      <td>2.0</td>\n",
       "      <td>1.0</td>\n",
       "      <td>9.0</td>\n",
       "      <td>166.0</td>\n",
       "      <td>6.0</td>\n",
       "      <td>0.0</td>\n",
       "      <td>1.0</td>\n",
       "      <td>0.823341</td>\n",
       "      <td>2.103284</td>\n",
       "      <td>-0.706446</td>\n",
       "    </tr>\n",
       "    <tr>\n",
       "      <th>...</th>\n",
       "      <td>...</td>\n",
       "      <td>...</td>\n",
       "      <td>...</td>\n",
       "      <td>...</td>\n",
       "      <td>...</td>\n",
       "      <td>...</td>\n",
       "      <td>...</td>\n",
       "      <td>...</td>\n",
       "      <td>...</td>\n",
       "      <td>...</td>\n",
       "    </tr>\n",
       "    <tr>\n",
       "      <th>197202</th>\n",
       "      <td>4.0</td>\n",
       "      <td>1.0</td>\n",
       "      <td>12.0</td>\n",
       "      <td>51.0</td>\n",
       "      <td>6.0</td>\n",
       "      <td>38.0</td>\n",
       "      <td>1.0</td>\n",
       "      <td>-0.784237</td>\n",
       "      <td>-0.315386</td>\n",
       "      <td>1.385576</td>\n",
       "    </tr>\n",
       "    <tr>\n",
       "      <th>197203</th>\n",
       "      <td>1.0</td>\n",
       "      <td>1.0</td>\n",
       "      <td>7.0</td>\n",
       "      <td>158.0</td>\n",
       "      <td>6.0</td>\n",
       "      <td>19.0</td>\n",
       "      <td>1.0</td>\n",
       "      <td>0.238767</td>\n",
       "      <td>-0.178480</td>\n",
       "      <td>0.787856</td>\n",
       "    </tr>\n",
       "    <tr>\n",
       "      <th>197204</th>\n",
       "      <td>4.0</td>\n",
       "      <td>1.0</td>\n",
       "      <td>12.0</td>\n",
       "      <td>31.0</td>\n",
       "      <td>2.0</td>\n",
       "      <td>1.0</td>\n",
       "      <td>1.0</td>\n",
       "      <td>1.115627</td>\n",
       "      <td>1.038461</td>\n",
       "      <td>-0.108726</td>\n",
       "    </tr>\n",
       "    <tr>\n",
       "      <th>197205</th>\n",
       "      <td>4.0</td>\n",
       "      <td>0.0</td>\n",
       "      <td>12.0</td>\n",
       "      <td>166.0</td>\n",
       "      <td>6.0</td>\n",
       "      <td>2.0</td>\n",
       "      <td>1.0</td>\n",
       "      <td>-1.222667</td>\n",
       "      <td>1.144943</td>\n",
       "      <td>1.385576</td>\n",
       "    </tr>\n",
       "    <tr>\n",
       "      <th>197206</th>\n",
       "      <td>4.0</td>\n",
       "      <td>0.0</td>\n",
       "      <td>7.0</td>\n",
       "      <td>241.0</td>\n",
       "      <td>6.0</td>\n",
       "      <td>13.0</td>\n",
       "      <td>1.0</td>\n",
       "      <td>0.092624</td>\n",
       "      <td>1.646931</td>\n",
       "      <td>1.385576</td>\n",
       "    </tr>\n",
       "  </tbody>\n",
       "</table>\n",
       "<p>197207 rows × 10 columns</p>\n",
       "</div>"
      ],
      "text/plain": [
       "        VehicleType  Gearbox  Kilometer  Model  FuelType  Brand  Repaired  \\\n",
       "0               7.0      0.0       12.0   11.0       2.0    2.0       1.0   \n",
       "1               5.0      1.0        4.0  165.0       2.0   21.0       1.0   \n",
       "2               7.0      1.0        9.0   28.0       6.0    1.0       1.0   \n",
       "3               5.0      1.0       12.0   80.0       6.0   21.0       1.0   \n",
       "4               2.0      1.0        9.0  166.0       6.0    0.0       1.0   \n",
       "...             ...      ...        ...    ...       ...    ...       ...   \n",
       "197202          4.0      1.0       12.0   51.0       6.0   38.0       1.0   \n",
       "197203          1.0      1.0        7.0  158.0       6.0   19.0       1.0   \n",
       "197204          4.0      1.0       12.0   31.0       2.0    1.0       1.0   \n",
       "197205          4.0      0.0       12.0  166.0       6.0    2.0       1.0   \n",
       "197206          4.0      0.0        7.0  241.0       6.0   13.0       1.0   \n",
       "\n",
       "        RegistrationYear     Power  RegistrationMonth  \n",
       "0               0.969484  0.947190          -0.407586  \n",
       "1               1.700201 -0.406657          -1.603028  \n",
       "2               0.238767  0.429990           1.684437  \n",
       "3              -0.053520 -0.178480          -1.005307  \n",
       "4               0.823341  2.103284          -0.706446  \n",
       "...                  ...       ...                ...  \n",
       "197202         -0.784237 -0.315386           1.385576  \n",
       "197203          0.238767 -0.178480           0.787856  \n",
       "197204          1.115627  1.038461          -0.108726  \n",
       "197205         -1.222667  1.144943           1.385576  \n",
       "197206          0.092624  1.646931           1.385576  \n",
       "\n",
       "[197207 rows x 10 columns]"
      ]
     },
     "execution_count": 36,
     "metadata": {},
     "output_type": "execute_result"
    },
    {
     "data": {
      "application/javascript": [
       "\n",
       "            setTimeout(function() {\n",
       "                var nbb_cell_id = 36;\n",
       "                var nbb_unformatted_code = \"features_train_ordinal_conc\";\n",
       "                var nbb_formatted_code = \"features_train_ordinal_conc\";\n",
       "                var nbb_cells = Jupyter.notebook.get_cells();\n",
       "                for (var i = 0; i < nbb_cells.length; ++i) {\n",
       "                    if (nbb_cells[i].input_prompt_number == nbb_cell_id) {\n",
       "                        if (nbb_cells[i].get_text() == nbb_unformatted_code) {\n",
       "                             nbb_cells[i].set_text(nbb_formatted_code);\n",
       "                        }\n",
       "                        break;\n",
       "                    }\n",
       "                }\n",
       "            }, 500);\n",
       "            "
      ],
      "text/plain": [
       "<IPython.core.display.Javascript object>"
      ]
     },
     "metadata": {},
     "output_type": "display_data"
    }
   ],
   "source": [
    "features_train_ordinal_conc"
   ]
  },
  {
   "cell_type": "code",
   "execution_count": 37,
   "metadata": {},
   "outputs": [
    {
     "data": {
      "application/javascript": [
       "\n",
       "            setTimeout(function() {\n",
       "                var nbb_cell_id = 37;\n",
       "                var nbb_unformatted_code = \"features_test_num = features_test[numeric].reset_index(drop=True)\";\n",
       "                var nbb_formatted_code = \"features_test_num = features_test[numeric].reset_index(drop=True)\";\n",
       "                var nbb_cells = Jupyter.notebook.get_cells();\n",
       "                for (var i = 0; i < nbb_cells.length; ++i) {\n",
       "                    if (nbb_cells[i].input_prompt_number == nbb_cell_id) {\n",
       "                        if (nbb_cells[i].get_text() == nbb_unformatted_code) {\n",
       "                             nbb_cells[i].set_text(nbb_formatted_code);\n",
       "                        }\n",
       "                        break;\n",
       "                    }\n",
       "                }\n",
       "            }, 500);\n",
       "            "
      ],
      "text/plain": [
       "<IPython.core.display.Javascript object>"
      ]
     },
     "metadata": {},
     "output_type": "display_data"
    }
   ],
   "source": [
    "features_test_num = features_test[numeric].reset_index(drop=True)"
   ]
  },
  {
   "cell_type": "code",
   "execution_count": 38,
   "metadata": {},
   "outputs": [
    {
     "data": {
      "text/html": [
       "<div>\n",
       "<style scoped>\n",
       "    .dataframe tbody tr th:only-of-type {\n",
       "        vertical-align: middle;\n",
       "    }\n",
       "\n",
       "    .dataframe tbody tr th {\n",
       "        vertical-align: top;\n",
       "    }\n",
       "\n",
       "    .dataframe thead th {\n",
       "        text-align: right;\n",
       "    }\n",
       "</style>\n",
       "<table border=\"1\" class=\"dataframe\">\n",
       "  <thead>\n",
       "    <tr style=\"text-align: right;\">\n",
       "      <th></th>\n",
       "      <th>RegistrationYear</th>\n",
       "      <th>Power</th>\n",
       "      <th>RegistrationMonth</th>\n",
       "    </tr>\n",
       "  </thead>\n",
       "  <tbody>\n",
       "    <tr>\n",
       "      <th>0</th>\n",
       "      <td>-1.661097</td>\n",
       "      <td>-0.193692</td>\n",
       "      <td>1.684437</td>\n",
       "    </tr>\n",
       "    <tr>\n",
       "      <th>1</th>\n",
       "      <td>0.092624</td>\n",
       "      <td>0.840708</td>\n",
       "      <td>0.488995</td>\n",
       "    </tr>\n",
       "    <tr>\n",
       "      <th>2</th>\n",
       "      <td>-0.345807</td>\n",
       "      <td>-0.087210</td>\n",
       "      <td>-1.304167</td>\n",
       "    </tr>\n",
       "    <tr>\n",
       "      <th>3</th>\n",
       "      <td>-0.638093</td>\n",
       "      <td>-0.817374</td>\n",
       "      <td>1.684437</td>\n",
       "    </tr>\n",
       "    <tr>\n",
       "      <th>4</th>\n",
       "      <td>-0.784237</td>\n",
       "      <td>-0.300174</td>\n",
       "      <td>-0.108726</td>\n",
       "    </tr>\n",
       "    <tr>\n",
       "      <th>...</th>\n",
       "      <td>...</td>\n",
       "      <td>...</td>\n",
       "      <td>...</td>\n",
       "    </tr>\n",
       "    <tr>\n",
       "      <th>65731</th>\n",
       "      <td>-1.222667</td>\n",
       "      <td>0.049696</td>\n",
       "      <td>1.086716</td>\n",
       "    </tr>\n",
       "    <tr>\n",
       "      <th>65732</th>\n",
       "      <td>0.677197</td>\n",
       "      <td>0.871131</td>\n",
       "      <td>-1.603028</td>\n",
       "    </tr>\n",
       "    <tr>\n",
       "      <th>65733</th>\n",
       "      <td>0.531054</td>\n",
       "      <td>-0.923856</td>\n",
       "      <td>0.190135</td>\n",
       "    </tr>\n",
       "    <tr>\n",
       "      <th>65734</th>\n",
       "      <td>-0.199663</td>\n",
       "      <td>-0.482715</td>\n",
       "      <td>-1.005307</td>\n",
       "    </tr>\n",
       "    <tr>\n",
       "      <th>65735</th>\n",
       "      <td>0.969484</td>\n",
       "      <td>-0.863009</td>\n",
       "      <td>0.190135</td>\n",
       "    </tr>\n",
       "  </tbody>\n",
       "</table>\n",
       "<p>65736 rows × 3 columns</p>\n",
       "</div>"
      ],
      "text/plain": [
       "       RegistrationYear     Power  RegistrationMonth\n",
       "0             -1.661097 -0.193692           1.684437\n",
       "1              0.092624  0.840708           0.488995\n",
       "2             -0.345807 -0.087210          -1.304167\n",
       "3             -0.638093 -0.817374           1.684437\n",
       "4             -0.784237 -0.300174          -0.108726\n",
       "...                 ...       ...                ...\n",
       "65731         -1.222667  0.049696           1.086716\n",
       "65732          0.677197  0.871131          -1.603028\n",
       "65733          0.531054 -0.923856           0.190135\n",
       "65734         -0.199663 -0.482715          -1.005307\n",
       "65735          0.969484 -0.863009           0.190135\n",
       "\n",
       "[65736 rows x 3 columns]"
      ]
     },
     "execution_count": 38,
     "metadata": {},
     "output_type": "execute_result"
    },
    {
     "data": {
      "application/javascript": [
       "\n",
       "            setTimeout(function() {\n",
       "                var nbb_cell_id = 38;\n",
       "                var nbb_unformatted_code = \"features_test_num\";\n",
       "                var nbb_formatted_code = \"features_test_num\";\n",
       "                var nbb_cells = Jupyter.notebook.get_cells();\n",
       "                for (var i = 0; i < nbb_cells.length; ++i) {\n",
       "                    if (nbb_cells[i].input_prompt_number == nbb_cell_id) {\n",
       "                        if (nbb_cells[i].get_text() == nbb_unformatted_code) {\n",
       "                             nbb_cells[i].set_text(nbb_formatted_code);\n",
       "                        }\n",
       "                        break;\n",
       "                    }\n",
       "                }\n",
       "            }, 500);\n",
       "            "
      ],
      "text/plain": [
       "<IPython.core.display.Javascript object>"
      ]
     },
     "metadata": {},
     "output_type": "display_data"
    }
   ],
   "source": [
    "features_test_num"
   ]
  },
  {
   "cell_type": "code",
   "execution_count": 39,
   "metadata": {},
   "outputs": [
    {
     "data": {
      "application/javascript": [
       "\n",
       "            setTimeout(function() {\n",
       "                var nbb_cell_id = 39;\n",
       "                var nbb_unformatted_code = \"features_test_ohe_conc = pd.concat([features_test_ohe, features_test_num], axis=1)\";\n",
       "                var nbb_formatted_code = \"features_test_ohe_conc = pd.concat([features_test_ohe, features_test_num], axis=1)\";\n",
       "                var nbb_cells = Jupyter.notebook.get_cells();\n",
       "                for (var i = 0; i < nbb_cells.length; ++i) {\n",
       "                    if (nbb_cells[i].input_prompt_number == nbb_cell_id) {\n",
       "                        if (nbb_cells[i].get_text() == nbb_unformatted_code) {\n",
       "                             nbb_cells[i].set_text(nbb_formatted_code);\n",
       "                        }\n",
       "                        break;\n",
       "                    }\n",
       "                }\n",
       "            }, 500);\n",
       "            "
      ],
      "text/plain": [
       "<IPython.core.display.Javascript object>"
      ]
     },
     "metadata": {},
     "output_type": "display_data"
    }
   ],
   "source": [
    "features_test_ohe_conc = pd.concat([features_test_ohe, features_test_num], axis=1)"
   ]
  },
  {
   "cell_type": "code",
   "execution_count": 40,
   "metadata": {},
   "outputs": [
    {
     "data": {
      "text/html": [
       "<div>\n",
       "<style scoped>\n",
       "    .dataframe tbody tr th:only-of-type {\n",
       "        vertical-align: middle;\n",
       "    }\n",
       "\n",
       "    .dataframe tbody tr th {\n",
       "        vertical-align: top;\n",
       "    }\n",
       "\n",
       "    .dataframe thead th {\n",
       "        text-align: right;\n",
       "    }\n",
       "</style>\n",
       "<table border=\"1\" class=\"dataframe\">\n",
       "  <thead>\n",
       "    <tr style=\"text-align: right;\">\n",
       "      <th></th>\n",
       "      <th>VehicleType_bus</th>\n",
       "      <th>VehicleType_convertible</th>\n",
       "      <th>VehicleType_coupe</th>\n",
       "      <th>VehicleType_other</th>\n",
       "      <th>VehicleType_sedan</th>\n",
       "      <th>VehicleType_small</th>\n",
       "      <th>VehicleType_suv</th>\n",
       "      <th>VehicleType_wagon</th>\n",
       "      <th>Gearbox_auto</th>\n",
       "      <th>Gearbox_manual</th>\n",
       "      <th>...</th>\n",
       "      <th>Brand_toyota</th>\n",
       "      <th>Brand_trabant</th>\n",
       "      <th>Brand_volkswagen</th>\n",
       "      <th>Brand_volvo</th>\n",
       "      <th>Repaired_Unknown</th>\n",
       "      <th>Repaired_no</th>\n",
       "      <th>Repaired_yes</th>\n",
       "      <th>RegistrationYear</th>\n",
       "      <th>Power</th>\n",
       "      <th>RegistrationMonth</th>\n",
       "    </tr>\n",
       "  </thead>\n",
       "  <tbody>\n",
       "    <tr>\n",
       "      <th>0</th>\n",
       "      <td>0.0</td>\n",
       "      <td>0.0</td>\n",
       "      <td>0.0</td>\n",
       "      <td>0.0</td>\n",
       "      <td>1.0</td>\n",
       "      <td>0.0</td>\n",
       "      <td>0.0</td>\n",
       "      <td>0.0</td>\n",
       "      <td>0.0</td>\n",
       "      <td>1.0</td>\n",
       "      <td>...</td>\n",
       "      <td>0.0</td>\n",
       "      <td>0.0</td>\n",
       "      <td>0.0</td>\n",
       "      <td>0.0</td>\n",
       "      <td>0.0</td>\n",
       "      <td>0.0</td>\n",
       "      <td>1.0</td>\n",
       "      <td>-1.661097</td>\n",
       "      <td>-0.193692</td>\n",
       "      <td>1.684437</td>\n",
       "    </tr>\n",
       "    <tr>\n",
       "      <th>1</th>\n",
       "      <td>0.0</td>\n",
       "      <td>0.0</td>\n",
       "      <td>0.0</td>\n",
       "      <td>0.0</td>\n",
       "      <td>0.0</td>\n",
       "      <td>0.0</td>\n",
       "      <td>0.0</td>\n",
       "      <td>1.0</td>\n",
       "      <td>1.0</td>\n",
       "      <td>0.0</td>\n",
       "      <td>...</td>\n",
       "      <td>0.0</td>\n",
       "      <td>0.0</td>\n",
       "      <td>0.0</td>\n",
       "      <td>0.0</td>\n",
       "      <td>0.0</td>\n",
       "      <td>1.0</td>\n",
       "      <td>0.0</td>\n",
       "      <td>0.092624</td>\n",
       "      <td>0.840708</td>\n",
       "      <td>0.488995</td>\n",
       "    </tr>\n",
       "    <tr>\n",
       "      <th>2</th>\n",
       "      <td>0.0</td>\n",
       "      <td>0.0</td>\n",
       "      <td>0.0</td>\n",
       "      <td>0.0</td>\n",
       "      <td>1.0</td>\n",
       "      <td>0.0</td>\n",
       "      <td>0.0</td>\n",
       "      <td>0.0</td>\n",
       "      <td>0.0</td>\n",
       "      <td>1.0</td>\n",
       "      <td>...</td>\n",
       "      <td>0.0</td>\n",
       "      <td>0.0</td>\n",
       "      <td>1.0</td>\n",
       "      <td>0.0</td>\n",
       "      <td>0.0</td>\n",
       "      <td>1.0</td>\n",
       "      <td>0.0</td>\n",
       "      <td>-0.345807</td>\n",
       "      <td>-0.087210</td>\n",
       "      <td>-1.304167</td>\n",
       "    </tr>\n",
       "    <tr>\n",
       "      <th>3</th>\n",
       "      <td>1.0</td>\n",
       "      <td>0.0</td>\n",
       "      <td>0.0</td>\n",
       "      <td>0.0</td>\n",
       "      <td>0.0</td>\n",
       "      <td>0.0</td>\n",
       "      <td>0.0</td>\n",
       "      <td>0.0</td>\n",
       "      <td>0.0</td>\n",
       "      <td>1.0</td>\n",
       "      <td>...</td>\n",
       "      <td>0.0</td>\n",
       "      <td>0.0</td>\n",
       "      <td>1.0</td>\n",
       "      <td>0.0</td>\n",
       "      <td>0.0</td>\n",
       "      <td>1.0</td>\n",
       "      <td>0.0</td>\n",
       "      <td>-0.638093</td>\n",
       "      <td>-0.817374</td>\n",
       "      <td>1.684437</td>\n",
       "    </tr>\n",
       "    <tr>\n",
       "      <th>4</th>\n",
       "      <td>1.0</td>\n",
       "      <td>0.0</td>\n",
       "      <td>0.0</td>\n",
       "      <td>0.0</td>\n",
       "      <td>0.0</td>\n",
       "      <td>0.0</td>\n",
       "      <td>0.0</td>\n",
       "      <td>0.0</td>\n",
       "      <td>0.0</td>\n",
       "      <td>1.0</td>\n",
       "      <td>...</td>\n",
       "      <td>0.0</td>\n",
       "      <td>0.0</td>\n",
       "      <td>0.0</td>\n",
       "      <td>0.0</td>\n",
       "      <td>0.0</td>\n",
       "      <td>1.0</td>\n",
       "      <td>0.0</td>\n",
       "      <td>-0.784237</td>\n",
       "      <td>-0.300174</td>\n",
       "      <td>-0.108726</td>\n",
       "    </tr>\n",
       "    <tr>\n",
       "      <th>...</th>\n",
       "      <td>...</td>\n",
       "      <td>...</td>\n",
       "      <td>...</td>\n",
       "      <td>...</td>\n",
       "      <td>...</td>\n",
       "      <td>...</td>\n",
       "      <td>...</td>\n",
       "      <td>...</td>\n",
       "      <td>...</td>\n",
       "      <td>...</td>\n",
       "      <td>...</td>\n",
       "      <td>...</td>\n",
       "      <td>...</td>\n",
       "      <td>...</td>\n",
       "      <td>...</td>\n",
       "      <td>...</td>\n",
       "      <td>...</td>\n",
       "      <td>...</td>\n",
       "      <td>...</td>\n",
       "      <td>...</td>\n",
       "      <td>...</td>\n",
       "    </tr>\n",
       "    <tr>\n",
       "      <th>65731</th>\n",
       "      <td>0.0</td>\n",
       "      <td>0.0</td>\n",
       "      <td>0.0</td>\n",
       "      <td>0.0</td>\n",
       "      <td>0.0</td>\n",
       "      <td>0.0</td>\n",
       "      <td>1.0</td>\n",
       "      <td>0.0</td>\n",
       "      <td>0.0</td>\n",
       "      <td>1.0</td>\n",
       "      <td>...</td>\n",
       "      <td>0.0</td>\n",
       "      <td>0.0</td>\n",
       "      <td>0.0</td>\n",
       "      <td>0.0</td>\n",
       "      <td>0.0</td>\n",
       "      <td>1.0</td>\n",
       "      <td>0.0</td>\n",
       "      <td>-1.222667</td>\n",
       "      <td>0.049696</td>\n",
       "      <td>1.086716</td>\n",
       "    </tr>\n",
       "    <tr>\n",
       "      <th>65732</th>\n",
       "      <td>0.0</td>\n",
       "      <td>0.0</td>\n",
       "      <td>0.0</td>\n",
       "      <td>0.0</td>\n",
       "      <td>0.0</td>\n",
       "      <td>0.0</td>\n",
       "      <td>0.0</td>\n",
       "      <td>1.0</td>\n",
       "      <td>0.0</td>\n",
       "      <td>1.0</td>\n",
       "      <td>...</td>\n",
       "      <td>0.0</td>\n",
       "      <td>0.0</td>\n",
       "      <td>0.0</td>\n",
       "      <td>0.0</td>\n",
       "      <td>0.0</td>\n",
       "      <td>1.0</td>\n",
       "      <td>0.0</td>\n",
       "      <td>0.677197</td>\n",
       "      <td>0.871131</td>\n",
       "      <td>-1.603028</td>\n",
       "    </tr>\n",
       "    <tr>\n",
       "      <th>65733</th>\n",
       "      <td>0.0</td>\n",
       "      <td>0.0</td>\n",
       "      <td>0.0</td>\n",
       "      <td>0.0</td>\n",
       "      <td>0.0</td>\n",
       "      <td>1.0</td>\n",
       "      <td>0.0</td>\n",
       "      <td>0.0</td>\n",
       "      <td>0.0</td>\n",
       "      <td>1.0</td>\n",
       "      <td>...</td>\n",
       "      <td>0.0</td>\n",
       "      <td>0.0</td>\n",
       "      <td>0.0</td>\n",
       "      <td>0.0</td>\n",
       "      <td>0.0</td>\n",
       "      <td>1.0</td>\n",
       "      <td>0.0</td>\n",
       "      <td>0.531054</td>\n",
       "      <td>-0.923856</td>\n",
       "      <td>0.190135</td>\n",
       "    </tr>\n",
       "    <tr>\n",
       "      <th>65734</th>\n",
       "      <td>1.0</td>\n",
       "      <td>0.0</td>\n",
       "      <td>0.0</td>\n",
       "      <td>0.0</td>\n",
       "      <td>0.0</td>\n",
       "      <td>0.0</td>\n",
       "      <td>0.0</td>\n",
       "      <td>0.0</td>\n",
       "      <td>0.0</td>\n",
       "      <td>1.0</td>\n",
       "      <td>...</td>\n",
       "      <td>0.0</td>\n",
       "      <td>0.0</td>\n",
       "      <td>0.0</td>\n",
       "      <td>0.0</td>\n",
       "      <td>1.0</td>\n",
       "      <td>0.0</td>\n",
       "      <td>0.0</td>\n",
       "      <td>-0.199663</td>\n",
       "      <td>-0.482715</td>\n",
       "      <td>-1.005307</td>\n",
       "    </tr>\n",
       "    <tr>\n",
       "      <th>65735</th>\n",
       "      <td>0.0</td>\n",
       "      <td>0.0</td>\n",
       "      <td>0.0</td>\n",
       "      <td>0.0</td>\n",
       "      <td>0.0</td>\n",
       "      <td>1.0</td>\n",
       "      <td>0.0</td>\n",
       "      <td>0.0</td>\n",
       "      <td>0.0</td>\n",
       "      <td>1.0</td>\n",
       "      <td>...</td>\n",
       "      <td>0.0</td>\n",
       "      <td>0.0</td>\n",
       "      <td>0.0</td>\n",
       "      <td>0.0</td>\n",
       "      <td>0.0</td>\n",
       "      <td>1.0</td>\n",
       "      <td>0.0</td>\n",
       "      <td>0.969484</td>\n",
       "      <td>-0.863009</td>\n",
       "      <td>0.190135</td>\n",
       "    </tr>\n",
       "  </tbody>\n",
       "</table>\n",
       "<p>65736 rows × 324 columns</p>\n",
       "</div>"
      ],
      "text/plain": [
       "       VehicleType_bus  VehicleType_convertible  VehicleType_coupe  \\\n",
       "0                  0.0                      0.0                0.0   \n",
       "1                  0.0                      0.0                0.0   \n",
       "2                  0.0                      0.0                0.0   \n",
       "3                  1.0                      0.0                0.0   \n",
       "4                  1.0                      0.0                0.0   \n",
       "...                ...                      ...                ...   \n",
       "65731              0.0                      0.0                0.0   \n",
       "65732              0.0                      0.0                0.0   \n",
       "65733              0.0                      0.0                0.0   \n",
       "65734              1.0                      0.0                0.0   \n",
       "65735              0.0                      0.0                0.0   \n",
       "\n",
       "       VehicleType_other  VehicleType_sedan  VehicleType_small  \\\n",
       "0                    0.0                1.0                0.0   \n",
       "1                    0.0                0.0                0.0   \n",
       "2                    0.0                1.0                0.0   \n",
       "3                    0.0                0.0                0.0   \n",
       "4                    0.0                0.0                0.0   \n",
       "...                  ...                ...                ...   \n",
       "65731                0.0                0.0                0.0   \n",
       "65732                0.0                0.0                0.0   \n",
       "65733                0.0                0.0                1.0   \n",
       "65734                0.0                0.0                0.0   \n",
       "65735                0.0                0.0                1.0   \n",
       "\n",
       "       VehicleType_suv  VehicleType_wagon  Gearbox_auto  Gearbox_manual  ...  \\\n",
       "0                  0.0                0.0           0.0             1.0  ...   \n",
       "1                  0.0                1.0           1.0             0.0  ...   \n",
       "2                  0.0                0.0           0.0             1.0  ...   \n",
       "3                  0.0                0.0           0.0             1.0  ...   \n",
       "4                  0.0                0.0           0.0             1.0  ...   \n",
       "...                ...                ...           ...             ...  ...   \n",
       "65731              1.0                0.0           0.0             1.0  ...   \n",
       "65732              0.0                1.0           0.0             1.0  ...   \n",
       "65733              0.0                0.0           0.0             1.0  ...   \n",
       "65734              0.0                0.0           0.0             1.0  ...   \n",
       "65735              0.0                0.0           0.0             1.0  ...   \n",
       "\n",
       "       Brand_toyota  Brand_trabant  Brand_volkswagen  Brand_volvo  \\\n",
       "0               0.0            0.0               0.0          0.0   \n",
       "1               0.0            0.0               0.0          0.0   \n",
       "2               0.0            0.0               1.0          0.0   \n",
       "3               0.0            0.0               1.0          0.0   \n",
       "4               0.0            0.0               0.0          0.0   \n",
       "...             ...            ...               ...          ...   \n",
       "65731           0.0            0.0               0.0          0.0   \n",
       "65732           0.0            0.0               0.0          0.0   \n",
       "65733           0.0            0.0               0.0          0.0   \n",
       "65734           0.0            0.0               0.0          0.0   \n",
       "65735           0.0            0.0               0.0          0.0   \n",
       "\n",
       "       Repaired_Unknown  Repaired_no  Repaired_yes  RegistrationYear  \\\n",
       "0                   0.0          0.0           1.0         -1.661097   \n",
       "1                   0.0          1.0           0.0          0.092624   \n",
       "2                   0.0          1.0           0.0         -0.345807   \n",
       "3                   0.0          1.0           0.0         -0.638093   \n",
       "4                   0.0          1.0           0.0         -0.784237   \n",
       "...                 ...          ...           ...               ...   \n",
       "65731               0.0          1.0           0.0         -1.222667   \n",
       "65732               0.0          1.0           0.0          0.677197   \n",
       "65733               0.0          1.0           0.0          0.531054   \n",
       "65734               1.0          0.0           0.0         -0.199663   \n",
       "65735               0.0          1.0           0.0          0.969484   \n",
       "\n",
       "          Power  RegistrationMonth  \n",
       "0     -0.193692           1.684437  \n",
       "1      0.840708           0.488995  \n",
       "2     -0.087210          -1.304167  \n",
       "3     -0.817374           1.684437  \n",
       "4     -0.300174          -0.108726  \n",
       "...         ...                ...  \n",
       "65731  0.049696           1.086716  \n",
       "65732  0.871131          -1.603028  \n",
       "65733 -0.923856           0.190135  \n",
       "65734 -0.482715          -1.005307  \n",
       "65735 -0.863009           0.190135  \n",
       "\n",
       "[65736 rows x 324 columns]"
      ]
     },
     "execution_count": 40,
     "metadata": {},
     "output_type": "execute_result"
    },
    {
     "data": {
      "application/javascript": [
       "\n",
       "            setTimeout(function() {\n",
       "                var nbb_cell_id = 40;\n",
       "                var nbb_unformatted_code = \"features_test_ohe_conc\";\n",
       "                var nbb_formatted_code = \"features_test_ohe_conc\";\n",
       "                var nbb_cells = Jupyter.notebook.get_cells();\n",
       "                for (var i = 0; i < nbb_cells.length; ++i) {\n",
       "                    if (nbb_cells[i].input_prompt_number == nbb_cell_id) {\n",
       "                        if (nbb_cells[i].get_text() == nbb_unformatted_code) {\n",
       "                             nbb_cells[i].set_text(nbb_formatted_code);\n",
       "                        }\n",
       "                        break;\n",
       "                    }\n",
       "                }\n",
       "            }, 500);\n",
       "            "
      ],
      "text/plain": [
       "<IPython.core.display.Javascript object>"
      ]
     },
     "metadata": {},
     "output_type": "display_data"
    }
   ],
   "source": [
    "features_test_ohe_conc"
   ]
  },
  {
   "cell_type": "code",
   "execution_count": 41,
   "metadata": {},
   "outputs": [
    {
     "data": {
      "application/javascript": [
       "\n",
       "            setTimeout(function() {\n",
       "                var nbb_cell_id = 41;\n",
       "                var nbb_unformatted_code = \"features_test_ordinal_conc = pd.concat(\\n    [features_test_ordinal, features_test_num], axis=1\\n)\";\n",
       "                var nbb_formatted_code = \"features_test_ordinal_conc = pd.concat(\\n    [features_test_ordinal, features_test_num], axis=1\\n)\";\n",
       "                var nbb_cells = Jupyter.notebook.get_cells();\n",
       "                for (var i = 0; i < nbb_cells.length; ++i) {\n",
       "                    if (nbb_cells[i].input_prompt_number == nbb_cell_id) {\n",
       "                        if (nbb_cells[i].get_text() == nbb_unformatted_code) {\n",
       "                             nbb_cells[i].set_text(nbb_formatted_code);\n",
       "                        }\n",
       "                        break;\n",
       "                    }\n",
       "                }\n",
       "            }, 500);\n",
       "            "
      ],
      "text/plain": [
       "<IPython.core.display.Javascript object>"
      ]
     },
     "metadata": {},
     "output_type": "display_data"
    }
   ],
   "source": [
    "features_test_ordinal_conc = pd.concat(\n",
    "    [features_test_ordinal, features_test_num], axis=1\n",
    ")"
   ]
  },
  {
   "cell_type": "code",
   "execution_count": 42,
   "metadata": {},
   "outputs": [
    {
     "data": {
      "text/html": [
       "<div>\n",
       "<style scoped>\n",
       "    .dataframe tbody tr th:only-of-type {\n",
       "        vertical-align: middle;\n",
       "    }\n",
       "\n",
       "    .dataframe tbody tr th {\n",
       "        vertical-align: top;\n",
       "    }\n",
       "\n",
       "    .dataframe thead th {\n",
       "        text-align: right;\n",
       "    }\n",
       "</style>\n",
       "<table border=\"1\" class=\"dataframe\">\n",
       "  <thead>\n",
       "    <tr style=\"text-align: right;\">\n",
       "      <th></th>\n",
       "      <th>VehicleType</th>\n",
       "      <th>Gearbox</th>\n",
       "      <th>Kilometer</th>\n",
       "      <th>Model</th>\n",
       "      <th>FuelType</th>\n",
       "      <th>Brand</th>\n",
       "      <th>Repaired</th>\n",
       "      <th>RegistrationYear</th>\n",
       "      <th>Power</th>\n",
       "      <th>RegistrationMonth</th>\n",
       "    </tr>\n",
       "  </thead>\n",
       "  <tbody>\n",
       "    <tr>\n",
       "      <th>0</th>\n",
       "      <td>4.0</td>\n",
       "      <td>1.0</td>\n",
       "      <td>12.0</td>\n",
       "      <td>95.0</td>\n",
       "      <td>6.0</td>\n",
       "      <td>20.0</td>\n",
       "      <td>2.0</td>\n",
       "      <td>-1.661097</td>\n",
       "      <td>-0.193692</td>\n",
       "      <td>1.684437</td>\n",
       "    </tr>\n",
       "    <tr>\n",
       "      <th>1</th>\n",
       "      <td>7.0</td>\n",
       "      <td>0.0</td>\n",
       "      <td>12.0</td>\n",
       "      <td>203.0</td>\n",
       "      <td>2.0</td>\n",
       "      <td>24.0</td>\n",
       "      <td>1.0</td>\n",
       "      <td>0.092624</td>\n",
       "      <td>0.840708</td>\n",
       "      <td>0.488995</td>\n",
       "    </tr>\n",
       "    <tr>\n",
       "      <th>2</th>\n",
       "      <td>4.0</td>\n",
       "      <td>1.0</td>\n",
       "      <td>12.0</td>\n",
       "      <td>116.0</td>\n",
       "      <td>2.0</td>\n",
       "      <td>38.0</td>\n",
       "      <td>1.0</td>\n",
       "      <td>-0.345807</td>\n",
       "      <td>-0.087210</td>\n",
       "      <td>-1.304167</td>\n",
       "    </tr>\n",
       "    <tr>\n",
       "      <th>3</th>\n",
       "      <td>0.0</td>\n",
       "      <td>1.0</td>\n",
       "      <td>12.0</td>\n",
       "      <td>222.0</td>\n",
       "      <td>2.0</td>\n",
       "      <td>38.0</td>\n",
       "      <td>1.0</td>\n",
       "      <td>-0.638093</td>\n",
       "      <td>-0.817374</td>\n",
       "      <td>1.684437</td>\n",
       "    </tr>\n",
       "    <tr>\n",
       "      <th>4</th>\n",
       "      <td>0.0</td>\n",
       "      <td>1.0</td>\n",
       "      <td>12.0</td>\n",
       "      <td>211.0</td>\n",
       "      <td>2.0</td>\n",
       "      <td>20.0</td>\n",
       "      <td>1.0</td>\n",
       "      <td>-0.784237</td>\n",
       "      <td>-0.300174</td>\n",
       "      <td>-0.108726</td>\n",
       "    </tr>\n",
       "    <tr>\n",
       "      <th>...</th>\n",
       "      <td>...</td>\n",
       "      <td>...</td>\n",
       "      <td>...</td>\n",
       "      <td>...</td>\n",
       "      <td>...</td>\n",
       "      <td>...</td>\n",
       "      <td>...</td>\n",
       "      <td>...</td>\n",
       "      <td>...</td>\n",
       "      <td>...</td>\n",
       "    </tr>\n",
       "    <tr>\n",
       "      <th>65731</th>\n",
       "      <td>6.0</td>\n",
       "      <td>1.0</td>\n",
       "      <td>12.0</td>\n",
       "      <td>168.0</td>\n",
       "      <td>2.0</td>\n",
       "      <td>22.0</td>\n",
       "      <td>1.0</td>\n",
       "      <td>-1.222667</td>\n",
       "      <td>0.049696</td>\n",
       "      <td>1.086716</td>\n",
       "    </tr>\n",
       "    <tr>\n",
       "      <th>65732</th>\n",
       "      <td>7.0</td>\n",
       "      <td>1.0</td>\n",
       "      <td>12.0</td>\n",
       "      <td>31.0</td>\n",
       "      <td>2.0</td>\n",
       "      <td>1.0</td>\n",
       "      <td>1.0</td>\n",
       "      <td>0.677197</td>\n",
       "      <td>0.871131</td>\n",
       "      <td>-1.603028</td>\n",
       "    </tr>\n",
       "    <tr>\n",
       "      <th>65733</th>\n",
       "      <td>5.0</td>\n",
       "      <td>1.0</td>\n",
       "      <td>6.0</td>\n",
       "      <td>106.0</td>\n",
       "      <td>6.0</td>\n",
       "      <td>32.0</td>\n",
       "      <td>1.0</td>\n",
       "      <td>0.531054</td>\n",
       "      <td>-0.923856</td>\n",
       "      <td>0.190135</td>\n",
       "    </tr>\n",
       "    <tr>\n",
       "      <th>65734</th>\n",
       "      <td>0.0</td>\n",
       "      <td>1.0</td>\n",
       "      <td>12.0</td>\n",
       "      <td>166.0</td>\n",
       "      <td>2.0</td>\n",
       "      <td>27.0</td>\n",
       "      <td>0.0</td>\n",
       "      <td>-0.199663</td>\n",
       "      <td>-0.482715</td>\n",
       "      <td>-1.005307</td>\n",
       "    </tr>\n",
       "    <tr>\n",
       "      <th>65735</th>\n",
       "      <td>5.0</td>\n",
       "      <td>1.0</td>\n",
       "      <td>6.0</td>\n",
       "      <td>176.0</td>\n",
       "      <td>6.0</td>\n",
       "      <td>9.0</td>\n",
       "      <td>1.0</td>\n",
       "      <td>0.969484</td>\n",
       "      <td>-0.863009</td>\n",
       "      <td>0.190135</td>\n",
       "    </tr>\n",
       "  </tbody>\n",
       "</table>\n",
       "<p>65736 rows × 10 columns</p>\n",
       "</div>"
      ],
      "text/plain": [
       "       VehicleType  Gearbox  Kilometer  Model  FuelType  Brand  Repaired  \\\n",
       "0              4.0      1.0       12.0   95.0       6.0   20.0       2.0   \n",
       "1              7.0      0.0       12.0  203.0       2.0   24.0       1.0   \n",
       "2              4.0      1.0       12.0  116.0       2.0   38.0       1.0   \n",
       "3              0.0      1.0       12.0  222.0       2.0   38.0       1.0   \n",
       "4              0.0      1.0       12.0  211.0       2.0   20.0       1.0   \n",
       "...            ...      ...        ...    ...       ...    ...       ...   \n",
       "65731          6.0      1.0       12.0  168.0       2.0   22.0       1.0   \n",
       "65732          7.0      1.0       12.0   31.0       2.0    1.0       1.0   \n",
       "65733          5.0      1.0        6.0  106.0       6.0   32.0       1.0   \n",
       "65734          0.0      1.0       12.0  166.0       2.0   27.0       0.0   \n",
       "65735          5.0      1.0        6.0  176.0       6.0    9.0       1.0   \n",
       "\n",
       "       RegistrationYear     Power  RegistrationMonth  \n",
       "0             -1.661097 -0.193692           1.684437  \n",
       "1              0.092624  0.840708           0.488995  \n",
       "2             -0.345807 -0.087210          -1.304167  \n",
       "3             -0.638093 -0.817374           1.684437  \n",
       "4             -0.784237 -0.300174          -0.108726  \n",
       "...                 ...       ...                ...  \n",
       "65731         -1.222667  0.049696           1.086716  \n",
       "65732          0.677197  0.871131          -1.603028  \n",
       "65733          0.531054 -0.923856           0.190135  \n",
       "65734         -0.199663 -0.482715          -1.005307  \n",
       "65735          0.969484 -0.863009           0.190135  \n",
       "\n",
       "[65736 rows x 10 columns]"
      ]
     },
     "execution_count": 42,
     "metadata": {},
     "output_type": "execute_result"
    },
    {
     "data": {
      "application/javascript": [
       "\n",
       "            setTimeout(function() {\n",
       "                var nbb_cell_id = 42;\n",
       "                var nbb_unformatted_code = \"features_test_ordinal_conc\";\n",
       "                var nbb_formatted_code = \"features_test_ordinal_conc\";\n",
       "                var nbb_cells = Jupyter.notebook.get_cells();\n",
       "                for (var i = 0; i < nbb_cells.length; ++i) {\n",
       "                    if (nbb_cells[i].input_prompt_number == nbb_cell_id) {\n",
       "                        if (nbb_cells[i].get_text() == nbb_unformatted_code) {\n",
       "                             nbb_cells[i].set_text(nbb_formatted_code);\n",
       "                        }\n",
       "                        break;\n",
       "                    }\n",
       "                }\n",
       "            }, 500);\n",
       "            "
      ],
      "text/plain": [
       "<IPython.core.display.Javascript object>"
      ]
     },
     "metadata": {},
     "output_type": "display_data"
    }
   ],
   "source": [
    "features_test_ordinal_conc"
   ]
  },
  {
   "cell_type": "markdown",
   "metadata": {},
   "source": [
    "<a id=\"2\"></a>\n",
    "## Model training\n",
    "[Back to the top](#0)"
   ]
  },
  {
   "cell_type": "markdown",
   "metadata": {},
   "source": [
    "Build several models to predict the values of the target attribute `Price`."
   ]
  },
  {
   "cell_type": "markdown",
   "metadata": {},
   "source": [
    "Examine the linear regression model."
   ]
  },
  {
   "cell_type": "code",
   "execution_count": 43,
   "metadata": {},
   "outputs": [
    {
     "name": "stdout",
     "output_type": "stream",
     "text": [
      "RMSE модели линейной регрессии на обучающей выборке: 2756.9609355248654\n",
      "Wall time: 30.7 s\n"
     ]
    },
    {
     "data": {
      "application/javascript": [
       "\n",
       "            setTimeout(function() {\n",
       "                var nbb_cell_id = 43;\n",
       "                var nbb_unformatted_code = \"%%time\\nmodel = LinearRegression()\\nscores = cross_val_score(\\n    model, features_train_ohe_conc, target_train, scoring='neg_mean_squared_error', cv=5, n_jobs=-1\\n)\\nprint(\\\"RMSE \\u043c\\u043e\\u0434\\u0435\\u043b\\u0438 \\u043b\\u0438\\u043d\\u0435\\u0439\\u043d\\u043e\\u0439 \\u0440\\u0435\\u0433\\u0440\\u0435\\u0441\\u0441\\u0438\\u0438 \\u043d\\u0430 \\u043e\\u0431\\u0443\\u0447\\u0430\\u044e\\u0449\\u0435\\u0439 \\u0432\\u044b\\u0431\\u043e\\u0440\\u043a\\u0435:\\\", (scores * (-1)).min() ** 0.5)\";\n",
       "                var nbb_formatted_code = \"%%time\\nmodel = LinearRegression()\\nscores = cross_val_score(\\n    model, features_train_ohe_conc, target_train, scoring='neg_mean_squared_error', cv=5, n_jobs=-1\\n)\\nprint(\\\"RMSE \\u043c\\u043e\\u0434\\u0435\\u043b\\u0438 \\u043b\\u0438\\u043d\\u0435\\u0439\\u043d\\u043e\\u0439 \\u0440\\u0435\\u0433\\u0440\\u0435\\u0441\\u0441\\u0438\\u0438 \\u043d\\u0430 \\u043e\\u0431\\u0443\\u0447\\u0430\\u044e\\u0449\\u0435\\u0439 \\u0432\\u044b\\u0431\\u043e\\u0440\\u043a\\u0435:\\\", (scores * (-1)).min() ** 0.5)\";\n",
       "                var nbb_cells = Jupyter.notebook.get_cells();\n",
       "                for (var i = 0; i < nbb_cells.length; ++i) {\n",
       "                    if (nbb_cells[i].input_prompt_number == nbb_cell_id) {\n",
       "                        if (nbb_cells[i].get_text() == nbb_unformatted_code) {\n",
       "                             nbb_cells[i].set_text(nbb_formatted_code);\n",
       "                        }\n",
       "                        break;\n",
       "                    }\n",
       "                }\n",
       "            }, 500);\n",
       "            "
      ],
      "text/plain": [
       "<IPython.core.display.Javascript object>"
      ]
     },
     "metadata": {},
     "output_type": "display_data"
    }
   ],
   "source": [
    "%%time\n",
    "model = LinearRegression()\n",
    "scores = cross_val_score(\n",
    "    model, features_train_ohe_conc, target_train, scoring='neg_mean_squared_error', cv=5, n_jobs=-1\n",
    ")\n",
    "print(\"RMSE модели линейной регрессии на обучающей выборке:\", (scores * (-1)).min() ** 0.5)"
   ]
  },
  {
   "cell_type": "markdown",
   "metadata": {},
   "source": [
    "Measure the prediction time of this model."
   ]
  },
  {
   "cell_type": "code",
   "execution_count": 47,
   "metadata": {},
   "outputs": [
    {
     "name": "stderr",
     "output_type": "stream",
     "text": [
      "C:\\Users\\Sereb\\anaconda3\\lib\\site-packages\\sklearn\\utils\\validation.py:572: UserWarning: pandas.DataFrame with sparse columns found.It will be converted to a dense numpy array.\n",
      "  warnings.warn(\n",
      "C:\\Users\\Sereb\\anaconda3\\lib\\site-packages\\sklearn\\utils\\validation.py:572: UserWarning: pandas.DataFrame with sparse columns found.It will be converted to a dense numpy array.\n",
      "  warnings.warn(\n"
     ]
    },
    {
     "name": "stdout",
     "output_type": "stream",
     "text": [
      "Wall time: 4.98 s\n"
     ]
    },
    {
     "data": {
      "text/plain": [
       "array([ 8830., 13406.,  8446., ...,  8060.,  4058.,  9634.])"
      ]
     },
     "execution_count": 47,
     "metadata": {},
     "output_type": "execute_result"
    },
    {
     "data": {
      "application/javascript": [
       "\n",
       "            setTimeout(function() {\n",
       "                var nbb_cell_id = 47;\n",
       "                var nbb_unformatted_code = \"%%time\\nmodel.fit(features_train_ohe_conc, target_train)\\nmodel.predict(features_train_ohe_conc)\";\n",
       "                var nbb_formatted_code = \"%%time\\nmodel.fit(features_train_ohe_conc, target_train)\\nmodel.predict(features_train_ohe_conc)\";\n",
       "                var nbb_cells = Jupyter.notebook.get_cells();\n",
       "                for (var i = 0; i < nbb_cells.length; ++i) {\n",
       "                    if (nbb_cells[i].input_prompt_number == nbb_cell_id) {\n",
       "                        if (nbb_cells[i].get_text() == nbb_unformatted_code) {\n",
       "                             nbb_cells[i].set_text(nbb_formatted_code);\n",
       "                        }\n",
       "                        break;\n",
       "                    }\n",
       "                }\n",
       "            }, 500);\n",
       "            "
      ],
      "text/plain": [
       "<IPython.core.display.Javascript object>"
      ]
     },
     "metadata": {},
     "output_type": "display_data"
    }
   ],
   "source": [
    "%%time\n",
    "model.fit(features_train_ohe_conc, target_train)\n",
    "model.predict(features_train_ohe_conc)"
   ]
  },
  {
   "cell_type": "markdown",
   "metadata": {},
   "source": [
    "Now, let's have a look at the decision tree."
   ]
  },
  {
   "cell_type": "code",
   "execution_count": 48,
   "metadata": {},
   "outputs": [
    {
     "name": "stdout",
     "output_type": "stream",
     "text": [
      "Wall time: 9.12 s\n"
     ]
    },
    {
     "data": {
      "text/plain": [
       "{'max_depth': 9}"
      ]
     },
     "execution_count": 48,
     "metadata": {},
     "output_type": "execute_result"
    },
    {
     "data": {
      "application/javascript": [
       "\n",
       "            setTimeout(function() {\n",
       "                var nbb_cell_id = 48;\n",
       "                var nbb_unformatted_code = \"%%time\\nmodel = DecisionTreeRegressor(random_state=RANDOM_STATE)\\nparameters = {\\\"max_depth\\\": range(1, 10, 1)}\\ngrid_tr = GridSearchCV(model, parameters, cv=5, scoring='neg_mean_squared_error', n_jobs=-1)\\ngrid_tr.fit(features_train_ordinal_conc, target_train)\\ngrid_tr.best_params_\";\n",
       "                var nbb_formatted_code = \"%%time\\nmodel = DecisionTreeRegressor(random_state=RANDOM_STATE)\\nparameters = {\\\"max_depth\\\": range(1, 10, 1)}\\ngrid_tr = GridSearchCV(model, parameters, cv=5, scoring='neg_mean_squared_error', n_jobs=-1)\\ngrid_tr.fit(features_train_ordinal_conc, target_train)\\ngrid_tr.best_params_\";\n",
       "                var nbb_cells = Jupyter.notebook.get_cells();\n",
       "                for (var i = 0; i < nbb_cells.length; ++i) {\n",
       "                    if (nbb_cells[i].input_prompt_number == nbb_cell_id) {\n",
       "                        if (nbb_cells[i].get_text() == nbb_unformatted_code) {\n",
       "                             nbb_cells[i].set_text(nbb_formatted_code);\n",
       "                        }\n",
       "                        break;\n",
       "                    }\n",
       "                }\n",
       "            }, 500);\n",
       "            "
      ],
      "text/plain": [
       "<IPython.core.display.Javascript object>"
      ]
     },
     "metadata": {},
     "output_type": "display_data"
    }
   ],
   "source": [
    "%%time\n",
    "model = DecisionTreeRegressor(random_state=RANDOM_STATE)\n",
    "parameters = {\"max_depth\": range(1, 10, 1)}\n",
    "grid_tr = GridSearchCV(model, parameters, cv=5, scoring='neg_mean_squared_error', n_jobs=-1)\n",
    "grid_tr.fit(features_train_ordinal_conc, target_train)\n",
    "grid_tr.best_params_"
   ]
  },
  {
   "cell_type": "markdown",
   "metadata": {},
   "source": [
    "Measure the prediction time of this model."
   ]
  },
  {
   "cell_type": "code",
   "execution_count": 50,
   "metadata": {},
   "outputs": [
    {
     "name": "stdout",
     "output_type": "stream",
     "text": [
      "Wall time: 24 ms\n"
     ]
    },
    {
     "data": {
      "text/plain": [
       "array([14592.08035714, 11176.725     ,  7349.83571429, ...,\n",
       "       14592.08035714,  2676.62312572,  9427.95381883])"
      ]
     },
     "execution_count": 50,
     "metadata": {},
     "output_type": "execute_result"
    },
    {
     "data": {
      "application/javascript": [
       "\n",
       "            setTimeout(function() {\n",
       "                var nbb_cell_id = 50;\n",
       "                var nbb_unformatted_code = \"%%time\\ngrid_tr.predict(features_train_ordinal_conc)\";\n",
       "                var nbb_formatted_code = \"%%time\\ngrid_tr.predict(features_train_ordinal_conc)\";\n",
       "                var nbb_cells = Jupyter.notebook.get_cells();\n",
       "                for (var i = 0; i < nbb_cells.length; ++i) {\n",
       "                    if (nbb_cells[i].input_prompt_number == nbb_cell_id) {\n",
       "                        if (nbb_cells[i].get_text() == nbb_unformatted_code) {\n",
       "                             nbb_cells[i].set_text(nbb_formatted_code);\n",
       "                        }\n",
       "                        break;\n",
       "                    }\n",
       "                }\n",
       "            }, 500);\n",
       "            "
      ],
      "text/plain": [
       "<IPython.core.display.Javascript object>"
      ]
     },
     "metadata": {},
     "output_type": "display_data"
    }
   ],
   "source": [
    "%%time\n",
    "grid_tr.predict(features_train_ordinal_conc)"
   ]
  },
  {
   "cell_type": "code",
   "execution_count": 51,
   "metadata": {},
   "outputs": [
    {
     "name": "stdout",
     "output_type": "stream",
     "text": [
      "RMSE модели дерева решений на обучающей выборке: 2079.2150932912805\n"
     ]
    },
    {
     "data": {
      "application/javascript": [
       "\n",
       "            setTimeout(function() {\n",
       "                var nbb_cell_id = 51;\n",
       "                var nbb_unformatted_code = \"print(\\n    \\\"RMSE \\u043c\\u043e\\u0434\\u0435\\u043b\\u0438 \\u0434\\u0435\\u0440\\u0435\\u0432\\u0430 \\u0440\\u0435\\u0448\\u0435\\u043d\\u0438\\u0439 \\u043d\\u0430 \\u043e\\u0431\\u0443\\u0447\\u0430\\u044e\\u0449\\u0435\\u0439 \\u0432\\u044b\\u0431\\u043e\\u0440\\u043a\\u0435:\\\",\\n    ((grid_tr.best_score_ * (-1)) ** 0.5),\\n)\";\n",
       "                var nbb_formatted_code = \"print(\\n    \\\"RMSE \\u043c\\u043e\\u0434\\u0435\\u043b\\u0438 \\u0434\\u0435\\u0440\\u0435\\u0432\\u0430 \\u0440\\u0435\\u0448\\u0435\\u043d\\u0438\\u0439 \\u043d\\u0430 \\u043e\\u0431\\u0443\\u0447\\u0430\\u044e\\u0449\\u0435\\u0439 \\u0432\\u044b\\u0431\\u043e\\u0440\\u043a\\u0435:\\\",\\n    ((grid_tr.best_score_ * (-1)) ** 0.5),\\n)\";\n",
       "                var nbb_cells = Jupyter.notebook.get_cells();\n",
       "                for (var i = 0; i < nbb_cells.length; ++i) {\n",
       "                    if (nbb_cells[i].input_prompt_number == nbb_cell_id) {\n",
       "                        if (nbb_cells[i].get_text() == nbb_unformatted_code) {\n",
       "                             nbb_cells[i].set_text(nbb_formatted_code);\n",
       "                        }\n",
       "                        break;\n",
       "                    }\n",
       "                }\n",
       "            }, 500);\n",
       "            "
      ],
      "text/plain": [
       "<IPython.core.display.Javascript object>"
      ]
     },
     "metadata": {},
     "output_type": "display_data"
    }
   ],
   "source": [
    "print(\n",
    "    \"RMSE модели дерева решений на обучающей выборке:\",\n",
    "    ((grid_tr.best_score_ * (-1)) ** 0.5),\n",
    ")"
   ]
  },
  {
   "cell_type": "markdown",
   "metadata": {},
   "source": [
    "Build now a model of the random forest."
   ]
  },
  {
   "cell_type": "code",
   "execution_count": 54,
   "metadata": {},
   "outputs": [
    {
     "name": "stdout",
     "output_type": "stream",
     "text": [
      "Wall time: 47min 51s\n"
     ]
    },
    {
     "data": {
      "text/plain": [
       "{'n_estimators': 200}"
      ]
     },
     "execution_count": 54,
     "metadata": {},
     "output_type": "execute_result"
    },
    {
     "data": {
      "application/javascript": [
       "\n",
       "            setTimeout(function() {\n",
       "                var nbb_cell_id = 54;\n",
       "                var nbb_unformatted_code = \"%%time\\nmodel = RandomForestRegressor(random_state=RANDOM_STATE)\\nparameters = {\\\"n_estimators\\\": range(100, 201, 20)}\\ngrid = GridSearchCV(model, parameters, cv=5, scoring='neg_mean_squared_error')\\ngrid.fit(features_train_ordinal_conc, target_train)\\ngrid.best_params_\";\n",
       "                var nbb_formatted_code = \"%%time\\nmodel = RandomForestRegressor(random_state=RANDOM_STATE)\\nparameters = {\\\"n_estimators\\\": range(100, 201, 20)}\\ngrid = GridSearchCV(model, parameters, cv=5, scoring='neg_mean_squared_error')\\ngrid.fit(features_train_ordinal_conc, target_train)\\ngrid.best_params_\";\n",
       "                var nbb_cells = Jupyter.notebook.get_cells();\n",
       "                for (var i = 0; i < nbb_cells.length; ++i) {\n",
       "                    if (nbb_cells[i].input_prompt_number == nbb_cell_id) {\n",
       "                        if (nbb_cells[i].get_text() == nbb_unformatted_code) {\n",
       "                             nbb_cells[i].set_text(nbb_formatted_code);\n",
       "                        }\n",
       "                        break;\n",
       "                    }\n",
       "                }\n",
       "            }, 500);\n",
       "            "
      ],
      "text/plain": [
       "<IPython.core.display.Javascript object>"
      ]
     },
     "metadata": {},
     "output_type": "display_data"
    }
   ],
   "source": [
    "%%time\n",
    "model = RandomForestRegressor(random_state=RANDOM_STATE)\n",
    "parameters = {\"n_estimators\": range(100, 201, 20)}\n",
    "grid = GridSearchCV(model, parameters, cv=5, scoring='neg_mean_squared_error')\n",
    "grid.fit(features_train_ordinal_conc, target_train)\n",
    "grid.best_params_"
   ]
  },
  {
   "cell_type": "markdown",
   "metadata": {},
   "source": [
    "Measure the prediction time of this model."
   ]
  },
  {
   "cell_type": "code",
   "execution_count": 55,
   "metadata": {},
   "outputs": [
    {
     "name": "stdout",
     "output_type": "stream",
     "text": [
      "Wall time: 20.8 s\n"
     ]
    },
    {
     "data": {
      "text/plain": [
       "array([15629.88470238, 15379.865     ,  8717.9795    , ...,\n",
       "       15858.5       ,  2638.323     ,  6857.99      ])"
      ]
     },
     "execution_count": 55,
     "metadata": {},
     "output_type": "execute_result"
    },
    {
     "data": {
      "application/javascript": [
       "\n",
       "            setTimeout(function() {\n",
       "                var nbb_cell_id = 55;\n",
       "                var nbb_unformatted_code = \"%%time\\ngrid.predict(features_train_ordinal_conc)\";\n",
       "                var nbb_formatted_code = \"%%time\\ngrid.predict(features_train_ordinal_conc)\";\n",
       "                var nbb_cells = Jupyter.notebook.get_cells();\n",
       "                for (var i = 0; i < nbb_cells.length; ++i) {\n",
       "                    if (nbb_cells[i].input_prompt_number == nbb_cell_id) {\n",
       "                        if (nbb_cells[i].get_text() == nbb_unformatted_code) {\n",
       "                             nbb_cells[i].set_text(nbb_formatted_code);\n",
       "                        }\n",
       "                        break;\n",
       "                    }\n",
       "                }\n",
       "            }, 500);\n",
       "            "
      ],
      "text/plain": [
       "<IPython.core.display.Javascript object>"
      ]
     },
     "metadata": {},
     "output_type": "display_data"
    }
   ],
   "source": [
    "%%time\n",
    "grid.predict(features_train_ordinal_conc)"
   ]
  },
  {
   "cell_type": "code",
   "execution_count": 56,
   "metadata": {},
   "outputs": [
    {
     "name": "stdout",
     "output_type": "stream",
     "text": [
      "RMSE модели случайного леса на обучающей выборке: 1703.3717127153698\n"
     ]
    },
    {
     "data": {
      "application/javascript": [
       "\n",
       "            setTimeout(function() {\n",
       "                var nbb_cell_id = 56;\n",
       "                var nbb_unformatted_code = \"print(\\n    \\\"RMSE \\u043c\\u043e\\u0434\\u0435\\u043b\\u0438 \\u0441\\u043b\\u0443\\u0447\\u0430\\u0439\\u043d\\u043e\\u0433\\u043e \\u043b\\u0435\\u0441\\u0430 \\u043d\\u0430 \\u043e\\u0431\\u0443\\u0447\\u0430\\u044e\\u0449\\u0435\\u0439 \\u0432\\u044b\\u0431\\u043e\\u0440\\u043a\\u0435:\\\",\\n    ((grid.best_score_ * (-1)) ** 0.5),\\n)\";\n",
       "                var nbb_formatted_code = \"print(\\n    \\\"RMSE \\u043c\\u043e\\u0434\\u0435\\u043b\\u0438 \\u0441\\u043b\\u0443\\u0447\\u0430\\u0439\\u043d\\u043e\\u0433\\u043e \\u043b\\u0435\\u0441\\u0430 \\u043d\\u0430 \\u043e\\u0431\\u0443\\u0447\\u0430\\u044e\\u0449\\u0435\\u0439 \\u0432\\u044b\\u0431\\u043e\\u0440\\u043a\\u0435:\\\",\\n    ((grid.best_score_ * (-1)) ** 0.5),\\n)\";\n",
       "                var nbb_cells = Jupyter.notebook.get_cells();\n",
       "                for (var i = 0; i < nbb_cells.length; ++i) {\n",
       "                    if (nbb_cells[i].input_prompt_number == nbb_cell_id) {\n",
       "                        if (nbb_cells[i].get_text() == nbb_unformatted_code) {\n",
       "                             nbb_cells[i].set_text(nbb_formatted_code);\n",
       "                        }\n",
       "                        break;\n",
       "                    }\n",
       "                }\n",
       "            }, 500);\n",
       "            "
      ],
      "text/plain": [
       "<IPython.core.display.Javascript object>"
      ]
     },
     "metadata": {},
     "output_type": "display_data"
    }
   ],
   "source": [
    "print(\n",
    "    \"RMSE модели случайного леса на обучающей выборке:\",\n",
    "    ((grid.best_score_ * (-1)) ** 0.5),\n",
    ")"
   ]
  },
  {
   "cell_type": "markdown",
   "metadata": {},
   "source": [
    "Next, let's build gradient bousting models using the CatBoost and LightGBM libraries."
   ]
  },
  {
   "cell_type": "markdown",
   "metadata": {},
   "source": [
    "Next, for CatBoostRegressor, highlight the categorical attributes."
   ]
  },
  {
   "cell_type": "code",
   "execution_count": 57,
   "metadata": {},
   "outputs": [
    {
     "data": {
      "application/javascript": [
       "\n",
       "            setTimeout(function() {\n",
       "                var nbb_cell_id = 57;\n",
       "                var nbb_unformatted_code = \"cat_features = [\\\"VehicleType\\\", \\\"Gearbox\\\", \\\"Model\\\", \\\"FuelType\\\", \\\"Brand\\\", \\\"Repaired\\\"]\";\n",
       "                var nbb_formatted_code = \"cat_features = [\\\"VehicleType\\\", \\\"Gearbox\\\", \\\"Model\\\", \\\"FuelType\\\", \\\"Brand\\\", \\\"Repaired\\\"]\";\n",
       "                var nbb_cells = Jupyter.notebook.get_cells();\n",
       "                for (var i = 0; i < nbb_cells.length; ++i) {\n",
       "                    if (nbb_cells[i].input_prompt_number == nbb_cell_id) {\n",
       "                        if (nbb_cells[i].get_text() == nbb_unformatted_code) {\n",
       "                             nbb_cells[i].set_text(nbb_formatted_code);\n",
       "                        }\n",
       "                        break;\n",
       "                    }\n",
       "                }\n",
       "            }, 500);\n",
       "            "
      ],
      "text/plain": [
       "<IPython.core.display.Javascript object>"
      ]
     },
     "metadata": {},
     "output_type": "display_data"
    }
   ],
   "source": [
    "cat_features = [\"VehicleType\", \"Gearbox\", \"Model\", \"FuelType\", \"Brand\", \"Repaired\"]"
   ]
  },
  {
   "cell_type": "markdown",
   "metadata": {},
   "source": [
    "Split the original dataframe into training and test sample and perform scaling of quantitative features."
   ]
  },
  {
   "cell_type": "code",
   "execution_count": 58,
   "metadata": {},
   "outputs": [
    {
     "data": {
      "application/javascript": [
       "\n",
       "            setTimeout(function() {\n",
       "                var nbb_cell_id = 58;\n",
       "                var nbb_unformatted_code = \"target = df[\\\"Price\\\"]\\nfeatures = df.drop(\\\"Price\\\", axis=1)\\n(features_train, features_test, target_train, target_test) = train_test_split(\\n    features, target, test_size=0.25, random_state=RANDOM_STATE\\n)\";\n",
       "                var nbb_formatted_code = \"target = df[\\\"Price\\\"]\\nfeatures = df.drop(\\\"Price\\\", axis=1)\\n(features_train, features_test, target_train, target_test) = train_test_split(\\n    features, target, test_size=0.25, random_state=RANDOM_STATE\\n)\";\n",
       "                var nbb_cells = Jupyter.notebook.get_cells();\n",
       "                for (var i = 0; i < nbb_cells.length; ++i) {\n",
       "                    if (nbb_cells[i].input_prompt_number == nbb_cell_id) {\n",
       "                        if (nbb_cells[i].get_text() == nbb_unformatted_code) {\n",
       "                             nbb_cells[i].set_text(nbb_formatted_code);\n",
       "                        }\n",
       "                        break;\n",
       "                    }\n",
       "                }\n",
       "            }, 500);\n",
       "            "
      ],
      "text/plain": [
       "<IPython.core.display.Javascript object>"
      ]
     },
     "metadata": {},
     "output_type": "display_data"
    }
   ],
   "source": [
    "target = df[\"Price\"]\n",
    "features = df.drop(\"Price\", axis=1)\n",
    "(features_train, features_test, target_train, target_test) = train_test_split(\n",
    "    features, target, test_size=0.25, random_state=RANDOM_STATE\n",
    ")"
   ]
  },
  {
   "cell_type": "code",
   "execution_count": 59,
   "metadata": {},
   "outputs": [
    {
     "data": {
      "application/javascript": [
       "\n",
       "            setTimeout(function() {\n",
       "                var nbb_cell_id = 59;\n",
       "                var nbb_unformatted_code = \"numeric = [\\\"RegistrationYear\\\", \\\"Power\\\", \\\"RegistrationMonth\\\"]\\nscaler = StandardScaler()\\nscaler.fit(features_train[numeric])\\npd.options.mode.chained_assignment = None\\nfeatures_train[numeric] = scaler.transform(features_train[numeric])\\nfeatures_test[numeric] = scaler.transform(features_test[numeric])\";\n",
       "                var nbb_formatted_code = \"numeric = [\\\"RegistrationYear\\\", \\\"Power\\\", \\\"RegistrationMonth\\\"]\\nscaler = StandardScaler()\\nscaler.fit(features_train[numeric])\\npd.options.mode.chained_assignment = None\\nfeatures_train[numeric] = scaler.transform(features_train[numeric])\\nfeatures_test[numeric] = scaler.transform(features_test[numeric])\";\n",
       "                var nbb_cells = Jupyter.notebook.get_cells();\n",
       "                for (var i = 0; i < nbb_cells.length; ++i) {\n",
       "                    if (nbb_cells[i].input_prompt_number == nbb_cell_id) {\n",
       "                        if (nbb_cells[i].get_text() == nbb_unformatted_code) {\n",
       "                             nbb_cells[i].set_text(nbb_formatted_code);\n",
       "                        }\n",
       "                        break;\n",
       "                    }\n",
       "                }\n",
       "            }, 500);\n",
       "            "
      ],
      "text/plain": [
       "<IPython.core.display.Javascript object>"
      ]
     },
     "metadata": {},
     "output_type": "display_data"
    }
   ],
   "source": [
    "numeric = [\"RegistrationYear\", \"Power\", \"RegistrationMonth\"]\n",
    "scaler = StandardScaler()\n",
    "scaler.fit(features_train[numeric])\n",
    "pd.options.mode.chained_assignment = None\n",
    "features_train[numeric] = scaler.transform(features_train[numeric])\n",
    "features_test[numeric] = scaler.transform(features_test[numeric])"
   ]
  },
  {
   "cell_type": "code",
   "execution_count": 60,
   "metadata": {},
   "outputs": [
    {
     "data": {
      "text/plain": [
       "(197207, 10)"
      ]
     },
     "execution_count": 60,
     "metadata": {},
     "output_type": "execute_result"
    },
    {
     "data": {
      "application/javascript": [
       "\n",
       "            setTimeout(function() {\n",
       "                var nbb_cell_id = 60;\n",
       "                var nbb_unformatted_code = \"features_train.shape\";\n",
       "                var nbb_formatted_code = \"features_train.shape\";\n",
       "                var nbb_cells = Jupyter.notebook.get_cells();\n",
       "                for (var i = 0; i < nbb_cells.length; ++i) {\n",
       "                    if (nbb_cells[i].input_prompt_number == nbb_cell_id) {\n",
       "                        if (nbb_cells[i].get_text() == nbb_unformatted_code) {\n",
       "                             nbb_cells[i].set_text(nbb_formatted_code);\n",
       "                        }\n",
       "                        break;\n",
       "                    }\n",
       "                }\n",
       "            }, 500);\n",
       "            "
      ],
      "text/plain": [
       "<IPython.core.display.Javascript object>"
      ]
     },
     "metadata": {},
     "output_type": "display_data"
    }
   ],
   "source": [
    "features_train.shape"
   ]
  },
  {
   "cell_type": "code",
   "execution_count": 61,
   "metadata": {},
   "outputs": [
    {
     "data": {
      "text/plain": [
       "(65736, 10)"
      ]
     },
     "execution_count": 61,
     "metadata": {},
     "output_type": "execute_result"
    },
    {
     "data": {
      "application/javascript": [
       "\n",
       "            setTimeout(function() {\n",
       "                var nbb_cell_id = 61;\n",
       "                var nbb_unformatted_code = \"features_test.shape\";\n",
       "                var nbb_formatted_code = \"features_test.shape\";\n",
       "                var nbb_cells = Jupyter.notebook.get_cells();\n",
       "                for (var i = 0; i < nbb_cells.length; ++i) {\n",
       "                    if (nbb_cells[i].input_prompt_number == nbb_cell_id) {\n",
       "                        if (nbb_cells[i].get_text() == nbb_unformatted_code) {\n",
       "                             nbb_cells[i].set_text(nbb_formatted_code);\n",
       "                        }\n",
       "                        break;\n",
       "                    }\n",
       "                }\n",
       "            }, 500);\n",
       "            "
      ],
      "text/plain": [
       "<IPython.core.display.Javascript object>"
      ]
     },
     "metadata": {},
     "output_type": "display_data"
    }
   ],
   "source": [
    "features_test.shape"
   ]
  },
  {
   "cell_type": "markdown",
   "metadata": {},
   "source": [
    "We can see by the number of rows in each set that the separation has been done correctly."
   ]
  },
  {
   "cell_type": "code",
   "execution_count": 62,
   "metadata": {
    "scrolled": true
   },
   "outputs": [
    {
     "name": "stdout",
     "output_type": "stream",
     "text": [
      "0:\tlearn: 4308.3140084\ttotal: 293ms\tremaining: 29s\n",
      "10:\tlearn: 2559.4940553\ttotal: 2.08s\tremaining: 16.9s\n",
      "20:\tlearn: 2013.9793540\ttotal: 3.68s\tremaining: 13.9s\n",
      "30:\tlearn: 1838.2438524\ttotal: 5.5s\tremaining: 12.2s\n",
      "40:\tlearn: 1777.1925050\ttotal: 7.12s\tremaining: 10.2s\n",
      "50:\tlearn: 1742.1182339\ttotal: 10.3s\tremaining: 9.88s\n",
      "60:\tlearn: 1715.1789536\ttotal: 13s\tremaining: 8.32s\n",
      "70:\tlearn: 1695.0640522\ttotal: 14.3s\tremaining: 5.85s\n",
      "80:\tlearn: 1677.8745056\ttotal: 15.5s\tremaining: 3.64s\n",
      "90:\tlearn: 1664.6556765\ttotal: 16.7s\tremaining: 1.65s\n",
      "99:\tlearn: 1652.2184566\ttotal: 17.8s\tremaining: 0us\n",
      "Wall time: 11min 3s\n"
     ]
    },
    {
     "data": {
      "text/plain": [
       "{'depth': 10, 'iterations': 100, 'learning_rate': 0.1}"
      ]
     },
     "execution_count": 62,
     "metadata": {},
     "output_type": "execute_result"
    },
    {
     "data": {
      "application/javascript": [
       "\n",
       "            setTimeout(function() {\n",
       "                var nbb_cell_id = 62;\n",
       "                var nbb_unformatted_code = \"%%time\\nmodel = CatBoostRegressor(loss_function=\\\"RMSE\\\")\\nparameters = {'depth' : [6,8,10],\\n              'learning_rate' : [0.01, 0.05, 0.1],\\n              'iterations'    : [30, 50, 100]\\n              }\\ngrid = GridSearchCV(model, param_grid = parameters, cv = 5, scoring='neg_mean_squared_error', n_jobs=-1)\\ngrid.fit(features_train, target_train, cat_features=cat_features, verbose = 10)\\ngrid.best_params_\";\n",
       "                var nbb_formatted_code = \"%%time\\nmodel = CatBoostRegressor(loss_function=\\\"RMSE\\\")\\nparameters = {'depth' : [6,8,10],\\n              'learning_rate' : [0.01, 0.05, 0.1],\\n              'iterations'    : [30, 50, 100]\\n              }\\ngrid = GridSearchCV(model, param_grid = parameters, cv = 5, scoring='neg_mean_squared_error', n_jobs=-1)\\ngrid.fit(features_train, target_train, cat_features=cat_features, verbose = 10)\\ngrid.best_params_\";\n",
       "                var nbb_cells = Jupyter.notebook.get_cells();\n",
       "                for (var i = 0; i < nbb_cells.length; ++i) {\n",
       "                    if (nbb_cells[i].input_prompt_number == nbb_cell_id) {\n",
       "                        if (nbb_cells[i].get_text() == nbb_unformatted_code) {\n",
       "                             nbb_cells[i].set_text(nbb_formatted_code);\n",
       "                        }\n",
       "                        break;\n",
       "                    }\n",
       "                }\n",
       "            }, 500);\n",
       "            "
      ],
      "text/plain": [
       "<IPython.core.display.Javascript object>"
      ]
     },
     "metadata": {},
     "output_type": "display_data"
    }
   ],
   "source": [
    "%%time\n",
    "model = CatBoostRegressor(loss_function=\"RMSE\")\n",
    "parameters = {'depth' : [6,8,10],\n",
    "              'learning_rate' : [0.01, 0.05, 0.1],\n",
    "              'iterations'    : [30, 50, 100]\n",
    "              }\n",
    "grid = GridSearchCV(model, param_grid = parameters, cv = 5, scoring='neg_mean_squared_error', n_jobs=-1)\n",
    "grid.fit(features_train, target_train, cat_features=cat_features, verbose = 10)\n",
    "grid.best_params_"
   ]
  },
  {
   "cell_type": "markdown",
   "metadata": {},
   "source": [
    "Measure the prediction time of this model."
   ]
  },
  {
   "cell_type": "code",
   "execution_count": 63,
   "metadata": {},
   "outputs": [
    {
     "name": "stdout",
     "output_type": "stream",
     "text": [
      "Wall time: 441 ms\n"
     ]
    },
    {
     "data": {
      "text/plain": [
       "array([14192.20669873, 14958.15878516,  8302.77024462, ...,\n",
       "       14917.39431931,  3165.05128718,  9962.16771783])"
      ]
     },
     "execution_count": 63,
     "metadata": {},
     "output_type": "execute_result"
    },
    {
     "data": {
      "application/javascript": [
       "\n",
       "            setTimeout(function() {\n",
       "                var nbb_cell_id = 63;\n",
       "                var nbb_unformatted_code = \"%%time\\ngrid.predict(features_train)\";\n",
       "                var nbb_formatted_code = \"%%time\\ngrid.predict(features_train)\";\n",
       "                var nbb_cells = Jupyter.notebook.get_cells();\n",
       "                for (var i = 0; i < nbb_cells.length; ++i) {\n",
       "                    if (nbb_cells[i].input_prompt_number == nbb_cell_id) {\n",
       "                        if (nbb_cells[i].get_text() == nbb_unformatted_code) {\n",
       "                             nbb_cells[i].set_text(nbb_formatted_code);\n",
       "                        }\n",
       "                        break;\n",
       "                    }\n",
       "                }\n",
       "            }, 500);\n",
       "            "
      ],
      "text/plain": [
       "<IPython.core.display.Javascript object>"
      ]
     },
     "metadata": {},
     "output_type": "display_data"
    }
   ],
   "source": [
    "%%time\n",
    "grid.predict(features_train)"
   ]
  },
  {
   "cell_type": "code",
   "execution_count": 64,
   "metadata": {},
   "outputs": [
    {
     "name": "stdout",
     "output_type": "stream",
     "text": [
      "RMSE модели CatBoostRegressor на обучающей выборке: 1700.7659216849222\n"
     ]
    },
    {
     "data": {
      "application/javascript": [
       "\n",
       "            setTimeout(function() {\n",
       "                var nbb_cell_id = 64;\n",
       "                var nbb_unformatted_code = \"print(\\n    \\\"RMSE \\u043c\\u043e\\u0434\\u0435\\u043b\\u0438 CatBoostRegressor \\u043d\\u0430 \\u043e\\u0431\\u0443\\u0447\\u0430\\u044e\\u0449\\u0435\\u0439 \\u0432\\u044b\\u0431\\u043e\\u0440\\u043a\\u0435:\\\",\\n    ((grid.best_score_ * (-1)) ** 0.5),\\n)\";\n",
       "                var nbb_formatted_code = \"print(\\n    \\\"RMSE \\u043c\\u043e\\u0434\\u0435\\u043b\\u0438 CatBoostRegressor \\u043d\\u0430 \\u043e\\u0431\\u0443\\u0447\\u0430\\u044e\\u0449\\u0435\\u0439 \\u0432\\u044b\\u0431\\u043e\\u0440\\u043a\\u0435:\\\",\\n    ((grid.best_score_ * (-1)) ** 0.5),\\n)\";\n",
       "                var nbb_cells = Jupyter.notebook.get_cells();\n",
       "                for (var i = 0; i < nbb_cells.length; ++i) {\n",
       "                    if (nbb_cells[i].input_prompt_number == nbb_cell_id) {\n",
       "                        if (nbb_cells[i].get_text() == nbb_unformatted_code) {\n",
       "                             nbb_cells[i].set_text(nbb_formatted_code);\n",
       "                        }\n",
       "                        break;\n",
       "                    }\n",
       "                }\n",
       "            }, 500);\n",
       "            "
      ],
      "text/plain": [
       "<IPython.core.display.Javascript object>"
      ]
     },
     "metadata": {},
     "output_type": "display_data"
    }
   ],
   "source": [
    "print(\n",
    "    \"RMSE модели CatBoostRegressor на обучающей выборке:\",\n",
    "    ((grid.best_score_ * (-1)) ** 0.5),\n",
    ")"
   ]
  },
  {
   "cell_type": "code",
   "execution_count": 65,
   "metadata": {},
   "outputs": [
    {
     "name": "stdout",
     "output_type": "stream",
     "text": [
      "Wall time: 1min 22s\n"
     ]
    },
    {
     "data": {
      "text/plain": [
       "{'learning_rate': 0.1, 'max_depth': 10, 'n_estimators': 100}"
      ]
     },
     "execution_count": 65,
     "metadata": {},
     "output_type": "execute_result"
    },
    {
     "data": {
      "application/javascript": [
       "\n",
       "            setTimeout(function() {\n",
       "                var nbb_cell_id = 65;\n",
       "                var nbb_unformatted_code = \"%%time\\nmodel = lgb.LGBMRegressor(verbosity= -1)\\nparameters = {'max_depth' : [6,8,10],\\n              'learning_rate' : [0.01, 0.05, 0.1],\\n              'n_estimators'    : [30, 50, 100]\\n              }\\ngrid = GridSearchCV(model, param_grid = parameters, cv = 5, scoring='neg_mean_squared_error', n_jobs=-1)\\ngrid.fit(features_train_ordinal_conc, target_train)\\ngrid.best_params_\";\n",
       "                var nbb_formatted_code = \"%%time\\nmodel = lgb.LGBMRegressor(verbosity= -1)\\nparameters = {'max_depth' : [6,8,10],\\n              'learning_rate' : [0.01, 0.05, 0.1],\\n              'n_estimators'    : [30, 50, 100]\\n              }\\ngrid = GridSearchCV(model, param_grid = parameters, cv = 5, scoring='neg_mean_squared_error', n_jobs=-1)\\ngrid.fit(features_train_ordinal_conc, target_train)\\ngrid.best_params_\";\n",
       "                var nbb_cells = Jupyter.notebook.get_cells();\n",
       "                for (var i = 0; i < nbb_cells.length; ++i) {\n",
       "                    if (nbb_cells[i].input_prompt_number == nbb_cell_id) {\n",
       "                        if (nbb_cells[i].get_text() == nbb_unformatted_code) {\n",
       "                             nbb_cells[i].set_text(nbb_formatted_code);\n",
       "                        }\n",
       "                        break;\n",
       "                    }\n",
       "                }\n",
       "            }, 500);\n",
       "            "
      ],
      "text/plain": [
       "<IPython.core.display.Javascript object>"
      ]
     },
     "metadata": {},
     "output_type": "display_data"
    }
   ],
   "source": [
    "%%time\n",
    "model = lgb.LGBMRegressor(verbosity= -1)\n",
    "parameters = {'max_depth' : [6,8,10],\n",
    "              'learning_rate' : [0.01, 0.05, 0.1],\n",
    "              'n_estimators'    : [30, 50, 100]\n",
    "              }\n",
    "grid = GridSearchCV(model, param_grid = parameters, cv = 5, scoring='neg_mean_squared_error', n_jobs=-1)\n",
    "grid.fit(features_train_ordinal_conc, target_train)\n",
    "grid.best_params_"
   ]
  },
  {
   "cell_type": "markdown",
   "metadata": {},
   "source": [
    "Measure the prediction time of this model."
   ]
  },
  {
   "cell_type": "code",
   "execution_count": 66,
   "metadata": {},
   "outputs": [
    {
     "name": "stdout",
     "output_type": "stream",
     "text": [
      "Wall time: 326 ms\n"
     ]
    },
    {
     "data": {
      "text/plain": [
       "array([14298.22184318, 14264.17614359,  8351.45145639, ...,\n",
       "       15174.47445939,  3203.92428506,  9800.24087688])"
      ]
     },
     "execution_count": 66,
     "metadata": {},
     "output_type": "execute_result"
    },
    {
     "data": {
      "application/javascript": [
       "\n",
       "            setTimeout(function() {\n",
       "                var nbb_cell_id = 66;\n",
       "                var nbb_unformatted_code = \"%%time\\ngrid.predict(features_train_ordinal_conc)\";\n",
       "                var nbb_formatted_code = \"%%time\\ngrid.predict(features_train_ordinal_conc)\";\n",
       "                var nbb_cells = Jupyter.notebook.get_cells();\n",
       "                for (var i = 0; i < nbb_cells.length; ++i) {\n",
       "                    if (nbb_cells[i].input_prompt_number == nbb_cell_id) {\n",
       "                        if (nbb_cells[i].get_text() == nbb_unformatted_code) {\n",
       "                             nbb_cells[i].set_text(nbb_formatted_code);\n",
       "                        }\n",
       "                        break;\n",
       "                    }\n",
       "                }\n",
       "            }, 500);\n",
       "            "
      ],
      "text/plain": [
       "<IPython.core.display.Javascript object>"
      ]
     },
     "metadata": {},
     "output_type": "display_data"
    }
   ],
   "source": [
    "%%time\n",
    "grid.predict(features_train_ordinal_conc)"
   ]
  },
  {
   "cell_type": "code",
   "execution_count": 67,
   "metadata": {},
   "outputs": [
    {
     "name": "stdout",
     "output_type": "stream",
     "text": [
      "RMSE модели LGBMRegressor на обучающей выборке: 1720.937715036067\n"
     ]
    },
    {
     "data": {
      "application/javascript": [
       "\n",
       "            setTimeout(function() {\n",
       "                var nbb_cell_id = 67;\n",
       "                var nbb_unformatted_code = \"print(\\n    \\\"RMSE \\u043c\\u043e\\u0434\\u0435\\u043b\\u0438 LGBMRegressor \\u043d\\u0430 \\u043e\\u0431\\u0443\\u0447\\u0430\\u044e\\u0449\\u0435\\u0439 \\u0432\\u044b\\u0431\\u043e\\u0440\\u043a\\u0435:\\\",\\n    ((grid.best_score_ * (-1)) ** 0.5),\\n)\";\n",
       "                var nbb_formatted_code = \"print(\\n    \\\"RMSE \\u043c\\u043e\\u0434\\u0435\\u043b\\u0438 LGBMRegressor \\u043d\\u0430 \\u043e\\u0431\\u0443\\u0447\\u0430\\u044e\\u0449\\u0435\\u0439 \\u0432\\u044b\\u0431\\u043e\\u0440\\u043a\\u0435:\\\",\\n    ((grid.best_score_ * (-1)) ** 0.5),\\n)\";\n",
       "                var nbb_cells = Jupyter.notebook.get_cells();\n",
       "                for (var i = 0; i < nbb_cells.length; ++i) {\n",
       "                    if (nbb_cells[i].input_prompt_number == nbb_cell_id) {\n",
       "                        if (nbb_cells[i].get_text() == nbb_unformatted_code) {\n",
       "                             nbb_cells[i].set_text(nbb_formatted_code);\n",
       "                        }\n",
       "                        break;\n",
       "                    }\n",
       "                }\n",
       "            }, 500);\n",
       "            "
      ],
      "text/plain": [
       "<IPython.core.display.Javascript object>"
      ]
     },
     "metadata": {},
     "output_type": "display_data"
    }
   ],
   "source": [
    "print(\n",
    "    \"RMSE модели LGBMRegressor на обучающей выборке:\",\n",
    "    ((grid.best_score_ * (-1)) ** 0.5),\n",
    ")"
   ]
  },
  {
   "cell_type": "markdown",
   "metadata": {},
   "source": [
    "<a id=\"3\"></a>\n",
    "## Model Analysis\n",
    "[Back to the top](#0)"
   ]
  },
  {
   "cell_type": "markdown",
   "metadata": {},
   "source": [
    "From the obtained values of RMSE metric for different models it follows that the best result was shown by CatBoostRegressor gradient bousting model. At the same time, another model of gradient bousting LGBMRegressor showed a similar quality value with significantly shorter prediction time, therefore, the optimal decision will be to choose this model."
   ]
  },
  {
   "cell_type": "markdown",
   "metadata": {},
   "source": [
    "Check the quality of the LGBMRegressor model on a test sample."
   ]
  },
  {
   "cell_type": "code",
   "execution_count": 181,
   "metadata": {},
   "outputs": [
    {
     "name": "stdout",
     "output_type": "stream",
     "text": [
      "Wall time: 1.01 s\n"
     ]
    },
    {
     "data": {
      "text/plain": [
       "LGBMRegressor(max_depth=10)"
      ]
     },
     "execution_count": 181,
     "metadata": {},
     "output_type": "execute_result"
    },
    {
     "data": {
      "application/javascript": [
       "\n",
       "            setTimeout(function() {\n",
       "                var nbb_cell_id = 181;\n",
       "                var nbb_unformatted_code = \"%%time\\nmodel = lgb.LGBMRegressor(max_depth=10, learning_rate=0.1, n_estimators=100)\\nmodel.fit(features_train_ordinal_conc, target_train)\";\n",
       "                var nbb_formatted_code = \"%%time\\nmodel = lgb.LGBMRegressor(max_depth=10, learning_rate=0.1, n_estimators=100)\\nmodel.fit(features_train_ordinal_conc, target_train)\";\n",
       "                var nbb_cells = Jupyter.notebook.get_cells();\n",
       "                for (var i = 0; i < nbb_cells.length; ++i) {\n",
       "                    if (nbb_cells[i].input_prompt_number == nbb_cell_id) {\n",
       "                        if (nbb_cells[i].get_text() == nbb_unformatted_code) {\n",
       "                             nbb_cells[i].set_text(nbb_formatted_code);\n",
       "                        }\n",
       "                        break;\n",
       "                    }\n",
       "                }\n",
       "            }, 500);\n",
       "            "
      ],
      "text/plain": [
       "<IPython.core.display.Javascript object>"
      ]
     },
     "metadata": {},
     "output_type": "display_data"
    }
   ],
   "source": [
    "%%time\n",
    "model = lgb.LGBMRegressor(max_depth=10, learning_rate=0.1, n_estimators=100)\n",
    "model.fit(features_train_ordinal_conc, target_train)"
   ]
  },
  {
   "cell_type": "code",
   "execution_count": 182,
   "metadata": {},
   "outputs": [
    {
     "name": "stdout",
     "output_type": "stream",
     "text": [
      "Wall time: 132 ms\n"
     ]
    },
    {
     "data": {
      "application/javascript": [
       "\n",
       "            setTimeout(function() {\n",
       "                var nbb_cell_id = 182;\n",
       "                var nbb_unformatted_code = \"%%time\\npred = model.predict(features_test_ordinal_conc)\";\n",
       "                var nbb_formatted_code = \"%%time\\npred = model.predict(features_test_ordinal_conc)\";\n",
       "                var nbb_cells = Jupyter.notebook.get_cells();\n",
       "                for (var i = 0; i < nbb_cells.length; ++i) {\n",
       "                    if (nbb_cells[i].input_prompt_number == nbb_cell_id) {\n",
       "                        if (nbb_cells[i].get_text() == nbb_unformatted_code) {\n",
       "                             nbb_cells[i].set_text(nbb_formatted_code);\n",
       "                        }\n",
       "                        break;\n",
       "                    }\n",
       "                }\n",
       "            }, 500);\n",
       "            "
      ],
      "text/plain": [
       "<IPython.core.display.Javascript object>"
      ]
     },
     "metadata": {},
     "output_type": "display_data"
    }
   ],
   "source": [
    "%%time\n",
    "pred = model.predict(features_test_ordinal_conc)"
   ]
  },
  {
   "cell_type": "code",
   "execution_count": 183,
   "metadata": {},
   "outputs": [
    {
     "name": "stdout",
     "output_type": "stream",
     "text": [
      "RMSE модели LGBMRegressor на тестовой выборке: 1711.2873632337144\n"
     ]
    },
    {
     "data": {
      "application/javascript": [
       "\n",
       "            setTimeout(function() {\n",
       "                var nbb_cell_id = 183;\n",
       "                var nbb_unformatted_code = \"print(\\n    \\\"RMSE \\u043c\\u043e\\u0434\\u0435\\u043b\\u0438 LGBMRegressor \\u043d\\u0430 \\u0442\\u0435\\u0441\\u0442\\u043e\\u0432\\u043e\\u0439 \\u0432\\u044b\\u0431\\u043e\\u0440\\u043a\\u0435:\\\",\\n    (mean_squared_error(pred, target_test) ** 0.5),\\n)\";\n",
       "                var nbb_formatted_code = \"print(\\n    \\\"RMSE \\u043c\\u043e\\u0434\\u0435\\u043b\\u0438 LGBMRegressor \\u043d\\u0430 \\u0442\\u0435\\u0441\\u0442\\u043e\\u0432\\u043e\\u0439 \\u0432\\u044b\\u0431\\u043e\\u0440\\u043a\\u0435:\\\",\\n    (mean_squared_error(pred, target_test) ** 0.5),\\n)\";\n",
       "                var nbb_cells = Jupyter.notebook.get_cells();\n",
       "                for (var i = 0; i < nbb_cells.length; ++i) {\n",
       "                    if (nbb_cells[i].input_prompt_number == nbb_cell_id) {\n",
       "                        if (nbb_cells[i].get_text() == nbb_unformatted_code) {\n",
       "                             nbb_cells[i].set_text(nbb_formatted_code);\n",
       "                        }\n",
       "                        break;\n",
       "                    }\n",
       "                }\n",
       "            }, 500);\n",
       "            "
      ],
      "text/plain": [
       "<IPython.core.display.Javascript object>"
      ]
     },
     "metadata": {},
     "output_type": "display_data"
    }
   ],
   "source": [
    "print(\n",
    "    \"RMSE модели LGBMRegressor на тестовой выборке:\",\n",
    "    (mean_squared_error(pred, target_test) ** 0.5),\n",
    ")"
   ]
  },
  {
   "cell_type": "markdown",
   "metadata": {},
   "source": [
    "We see that no overtraining is observed for the LGBMRegressor gradient bousting model. The LGBM library model shows good quality both on the training and test data, and at the same time it has a rather small time to build a prediction, so it should be recommended to the customer."
   ]
  }
 ],
 "metadata": {
  "ExecuteTimeLog": [
   {
    "duration": 4,
    "start_time": "2022-12-07T10:01:50.048Z"
   },
   {
    "duration": 7,
    "start_time": "2022-12-07T10:01:50.054Z"
   },
   {
    "duration": 8,
    "start_time": "2022-12-07T10:01:50.063Z"
   },
   {
    "duration": 307,
    "start_time": "2022-12-07T10:01:50.074Z"
   },
   {
    "duration": 0,
    "start_time": "2022-12-07T10:01:50.385Z"
   },
   {
    "duration": 0,
    "start_time": "2022-12-07T10:01:50.386Z"
   },
   {
    "duration": 0,
    "start_time": "2022-12-07T10:01:50.387Z"
   },
   {
    "duration": 0,
    "start_time": "2022-12-07T10:01:50.387Z"
   },
   {
    "duration": 0,
    "start_time": "2022-12-07T10:01:50.389Z"
   },
   {
    "duration": 0,
    "start_time": "2022-12-07T10:01:50.390Z"
   },
   {
    "duration": 0,
    "start_time": "2022-12-07T10:01:50.391Z"
   },
   {
    "duration": 0,
    "start_time": "2022-12-07T10:01:50.392Z"
   },
   {
    "duration": 0,
    "start_time": "2022-12-07T10:01:50.393Z"
   },
   {
    "duration": 0,
    "start_time": "2022-12-07T10:01:50.394Z"
   },
   {
    "duration": 0,
    "start_time": "2022-12-07T10:01:50.395Z"
   },
   {
    "duration": 0,
    "start_time": "2022-12-07T10:01:50.396Z"
   },
   {
    "duration": 0,
    "start_time": "2022-12-07T10:01:50.397Z"
   },
   {
    "duration": 0,
    "start_time": "2022-12-07T10:01:50.398Z"
   },
   {
    "duration": 0,
    "start_time": "2022-12-07T10:01:50.398Z"
   },
   {
    "duration": 0,
    "start_time": "2022-12-07T10:01:50.399Z"
   },
   {
    "duration": 0,
    "start_time": "2022-12-07T10:01:50.400Z"
   },
   {
    "duration": 0,
    "start_time": "2022-12-07T10:01:50.401Z"
   },
   {
    "duration": 0,
    "start_time": "2022-12-07T10:01:50.402Z"
   },
   {
    "duration": 0,
    "start_time": "2022-12-07T10:01:50.404Z"
   },
   {
    "duration": 0,
    "start_time": "2022-12-07T10:01:50.405Z"
   },
   {
    "duration": 0,
    "start_time": "2022-12-07T10:01:50.406Z"
   },
   {
    "duration": 0,
    "start_time": "2022-12-07T10:01:50.407Z"
   },
   {
    "duration": 0,
    "start_time": "2022-12-07T10:01:50.408Z"
   },
   {
    "duration": 0,
    "start_time": "2022-12-07T10:01:50.410Z"
   },
   {
    "duration": 0,
    "start_time": "2022-12-07T10:01:50.411Z"
   },
   {
    "duration": 0,
    "start_time": "2022-12-07T10:01:50.412Z"
   },
   {
    "duration": 0,
    "start_time": "2022-12-07T10:01:50.413Z"
   },
   {
    "duration": 0,
    "start_time": "2022-12-07T10:01:50.415Z"
   },
   {
    "duration": 0,
    "start_time": "2022-12-07T10:01:50.416Z"
   },
   {
    "duration": 0,
    "start_time": "2022-12-07T10:01:50.417Z"
   },
   {
    "duration": 0,
    "start_time": "2022-12-07T10:01:50.418Z"
   },
   {
    "duration": 0,
    "start_time": "2022-12-07T10:01:50.419Z"
   },
   {
    "duration": 0,
    "start_time": "2022-12-07T10:01:50.420Z"
   },
   {
    "duration": 0,
    "start_time": "2022-12-07T10:01:50.421Z"
   },
   {
    "duration": 0,
    "start_time": "2022-12-07T10:01:50.479Z"
   },
   {
    "duration": 0,
    "start_time": "2022-12-07T10:01:50.480Z"
   },
   {
    "duration": 0,
    "start_time": "2022-12-07T10:01:50.481Z"
   },
   {
    "duration": 0,
    "start_time": "2022-12-07T10:01:50.482Z"
   },
   {
    "duration": 0,
    "start_time": "2022-12-07T10:01:50.483Z"
   },
   {
    "duration": 0,
    "start_time": "2022-12-07T10:01:50.484Z"
   },
   {
    "duration": 0,
    "start_time": "2022-12-07T10:01:50.485Z"
   },
   {
    "duration": 0,
    "start_time": "2022-12-07T10:01:50.486Z"
   },
   {
    "duration": 0,
    "start_time": "2022-12-07T10:01:50.487Z"
   },
   {
    "duration": 0,
    "start_time": "2022-12-07T10:01:50.488Z"
   },
   {
    "duration": 0,
    "start_time": "2022-12-07T10:01:50.489Z"
   },
   {
    "duration": 0,
    "start_time": "2022-12-07T10:01:50.491Z"
   },
   {
    "duration": 0,
    "start_time": "2022-12-07T10:01:50.492Z"
   },
   {
    "duration": 0,
    "start_time": "2022-12-07T10:01:50.493Z"
   },
   {
    "duration": 0,
    "start_time": "2022-12-07T10:01:50.494Z"
   },
   {
    "duration": 0,
    "start_time": "2022-12-07T10:01:50.495Z"
   },
   {
    "duration": 0,
    "start_time": "2022-12-07T10:01:50.496Z"
   },
   {
    "duration": 0,
    "start_time": "2022-12-07T10:01:50.497Z"
   },
   {
    "duration": 0,
    "start_time": "2022-12-07T10:01:50.498Z"
   },
   {
    "duration": 0,
    "start_time": "2022-12-07T10:01:50.499Z"
   },
   {
    "duration": 0,
    "start_time": "2022-12-07T10:01:50.500Z"
   },
   {
    "duration": 0,
    "start_time": "2022-12-07T10:01:50.501Z"
   },
   {
    "duration": 0,
    "start_time": "2022-12-07T10:01:50.502Z"
   },
   {
    "duration": 0,
    "start_time": "2022-12-07T10:01:50.503Z"
   },
   {
    "duration": 0,
    "start_time": "2022-12-07T10:01:50.504Z"
   },
   {
    "duration": 0,
    "start_time": "2022-12-07T10:01:50.505Z"
   },
   {
    "duration": 0,
    "start_time": "2022-12-07T10:01:50.505Z"
   },
   {
    "duration": 0,
    "start_time": "2022-12-07T10:01:50.506Z"
   },
   {
    "duration": 0,
    "start_time": "2022-12-07T10:01:50.507Z"
   },
   {
    "duration": 0,
    "start_time": "2022-12-07T10:01:50.508Z"
   },
   {
    "duration": 0,
    "start_time": "2022-12-07T10:01:50.509Z"
   },
   {
    "duration": 0,
    "start_time": "2022-12-07T10:01:50.510Z"
   },
   {
    "duration": 0,
    "start_time": "2022-12-07T10:01:50.511Z"
   },
   {
    "duration": 0,
    "start_time": "2022-12-07T10:01:50.512Z"
   },
   {
    "duration": 0,
    "start_time": "2022-12-07T10:01:50.513Z"
   },
   {
    "duration": 0,
    "start_time": "2022-12-07T10:01:50.577Z"
   },
   {
    "duration": 0,
    "start_time": "2022-12-07T10:01:50.578Z"
   },
   {
    "duration": 0,
    "start_time": "2022-12-07T10:01:50.579Z"
   },
   {
    "duration": 0,
    "start_time": "2022-12-07T10:01:50.580Z"
   },
   {
    "duration": 0,
    "start_time": "2022-12-07T10:01:50.581Z"
   },
   {
    "duration": 0,
    "start_time": "2022-12-07T10:01:50.582Z"
   },
   {
    "duration": 0,
    "start_time": "2022-12-07T10:01:50.583Z"
   },
   {
    "duration": 0,
    "start_time": "2022-12-07T10:01:50.585Z"
   },
   {
    "duration": 0,
    "start_time": "2022-12-07T10:01:50.586Z"
   },
   {
    "duration": 0,
    "start_time": "2022-12-07T10:01:50.587Z"
   },
   {
    "duration": 0,
    "start_time": "2022-12-07T10:01:50.588Z"
   },
   {
    "duration": 0,
    "start_time": "2022-12-07T10:01:50.589Z"
   },
   {
    "duration": 0,
    "start_time": "2022-12-07T10:01:50.590Z"
   },
   {
    "duration": 0,
    "start_time": "2022-12-07T10:01:50.591Z"
   },
   {
    "duration": 0,
    "start_time": "2022-12-07T10:01:50.592Z"
   },
   {
    "duration": 0,
    "start_time": "2022-12-07T10:01:50.593Z"
   },
   {
    "duration": 0,
    "start_time": "2022-12-07T10:01:50.594Z"
   },
   {
    "duration": 0,
    "start_time": "2022-12-07T10:01:50.595Z"
   },
   {
    "duration": 0,
    "start_time": "2022-12-07T10:01:50.596Z"
   },
   {
    "duration": 0,
    "start_time": "2022-12-07T10:01:50.597Z"
   },
   {
    "duration": 0,
    "start_time": "2022-12-07T10:01:50.598Z"
   },
   {
    "duration": 4,
    "start_time": "2022-12-07T10:02:29.543Z"
   },
   {
    "duration": 9,
    "start_time": "2022-12-07T10:02:29.548Z"
   },
   {
    "duration": 7,
    "start_time": "2022-12-07T10:02:29.559Z"
   },
   {
    "duration": 5,
    "start_time": "2022-12-07T10:02:29.568Z"
   },
   {
    "duration": 1363,
    "start_time": "2022-12-07T10:02:29.574Z"
   },
   {
    "duration": 2352,
    "start_time": "2022-12-07T10:02:30.938Z"
   },
   {
    "duration": 25,
    "start_time": "2022-12-07T10:02:33.291Z"
   },
   {
    "duration": 11,
    "start_time": "2022-12-07T10:02:33.318Z"
   },
   {
    "duration": 96,
    "start_time": "2022-12-07T10:02:33.331Z"
   },
   {
    "duration": 29,
    "start_time": "2022-12-07T10:02:33.429Z"
   },
   {
    "duration": 28,
    "start_time": "2022-12-07T10:02:33.460Z"
   },
   {
    "duration": 34,
    "start_time": "2022-12-07T10:02:33.490Z"
   },
   {
    "duration": 42,
    "start_time": "2022-12-07T10:02:33.526Z"
   },
   {
    "duration": 22,
    "start_time": "2022-12-07T10:02:33.570Z"
   },
   {
    "duration": 37,
    "start_time": "2022-12-07T10:02:33.593Z"
   },
   {
    "duration": 16,
    "start_time": "2022-12-07T10:02:33.631Z"
   },
   {
    "duration": 37,
    "start_time": "2022-12-07T10:02:33.648Z"
   },
   {
    "duration": 150,
    "start_time": "2022-12-07T10:02:33.687Z"
   },
   {
    "duration": 11,
    "start_time": "2022-12-07T10:02:33.838Z"
   },
   {
    "duration": 7,
    "start_time": "2022-12-07T10:02:33.850Z"
   },
   {
    "duration": 393984,
    "start_time": "2022-12-07T10:02:33.859Z"
   },
   {
    "duration": 16,
    "start_time": "2022-12-07T10:09:07.844Z"
   },
   {
    "duration": 30,
    "start_time": "2022-12-07T10:09:07.862Z"
   },
   {
    "duration": 129,
    "start_time": "2022-12-07T10:09:07.895Z"
   },
   {
    "duration": 11,
    "start_time": "2022-12-07T10:09:08.026Z"
   },
   {
    "duration": 6,
    "start_time": "2022-12-07T10:09:08.039Z"
   },
   {
    "duration": 390015,
    "start_time": "2022-12-07T10:09:08.046Z"
   },
   {
    "duration": 21,
    "start_time": "2022-12-07T10:15:38.063Z"
   },
   {
    "duration": 52,
    "start_time": "2022-12-07T10:15:38.085Z"
   },
   {
    "duration": 16,
    "start_time": "2022-12-07T10:15:38.138Z"
   },
   {
    "duration": 35,
    "start_time": "2022-12-07T10:15:38.155Z"
   },
   {
    "duration": 631,
    "start_time": "2022-12-07T10:15:38.191Z"
   },
   {
    "duration": 12,
    "start_time": "2022-12-07T10:15:38.824Z"
   },
   {
    "duration": 5,
    "start_time": "2022-12-07T10:15:38.838Z"
   },
   {
    "duration": 1023728,
    "start_time": "2022-12-07T10:15:38.844Z"
   },
   {
    "duration": 17,
    "start_time": "2022-12-07T10:32:42.574Z"
   },
   {
    "duration": 54,
    "start_time": "2022-12-07T10:32:42.592Z"
   },
   {
    "duration": 31,
    "start_time": "2022-12-07T10:32:42.648Z"
   },
   {
    "duration": 80,
    "start_time": "2022-12-07T10:32:42.680Z"
   },
   {
    "duration": 19,
    "start_time": "2022-12-07T10:32:42.761Z"
   },
   {
    "duration": 17,
    "start_time": "2022-12-07T10:32:42.782Z"
   },
   {
    "duration": 26,
    "start_time": "2022-12-07T10:32:42.800Z"
   },
   {
    "duration": 8,
    "start_time": "2022-12-07T10:32:42.829Z"
   },
   {
    "duration": 21,
    "start_time": "2022-12-07T10:32:42.839Z"
   },
   {
    "duration": 51,
    "start_time": "2022-12-07T10:32:42.862Z"
   },
   {
    "duration": 6,
    "start_time": "2022-12-07T10:32:42.915Z"
   },
   {
    "duration": 8,
    "start_time": "2022-12-07T10:32:42.923Z"
   },
   {
    "duration": 15,
    "start_time": "2022-12-07T10:32:42.933Z"
   },
   {
    "duration": 5,
    "start_time": "2022-12-07T10:32:42.950Z"
   },
   {
    "duration": 34,
    "start_time": "2022-12-07T10:32:42.956Z"
   },
   {
    "duration": 6,
    "start_time": "2022-12-07T10:32:42.992Z"
   },
   {
    "duration": 8,
    "start_time": "2022-12-07T10:32:42.999Z"
   },
   {
    "duration": 14,
    "start_time": "2022-12-07T10:32:43.009Z"
   },
   {
    "duration": 27,
    "start_time": "2022-12-07T10:32:43.025Z"
   },
   {
    "duration": 8,
    "start_time": "2022-12-07T10:32:43.078Z"
   },
   {
    "duration": 92,
    "start_time": "2022-12-07T10:32:43.088Z"
   },
   {
    "duration": 118,
    "start_time": "2022-12-07T10:32:43.181Z"
   },
   {
    "duration": 151,
    "start_time": "2022-12-07T10:32:43.301Z"
   },
   {
    "duration": 119,
    "start_time": "2022-12-07T10:32:43.454Z"
   },
   {
    "duration": 10,
    "start_time": "2022-12-07T10:32:43.577Z"
   },
   {
    "duration": 63,
    "start_time": "2022-12-07T10:32:43.589Z"
   },
   {
    "duration": 2,
    "start_time": "2022-12-07T10:32:43.654Z"
   },
   {
    "duration": 10,
    "start_time": "2022-12-07T10:32:43.657Z"
   },
   {
    "duration": 2,
    "start_time": "2022-12-07T10:32:43.678Z"
   },
   {
    "duration": 557,
    "start_time": "2022-12-07T10:32:43.681Z"
   },
   {
    "duration": 13,
    "start_time": "2022-12-07T10:32:44.240Z"
   },
   {
    "duration": 4,
    "start_time": "2022-12-07T10:32:44.254Z"
   },
   {
    "duration": 404,
    "start_time": "2022-12-07T10:32:44.259Z"
   },
   {
    "duration": 155,
    "start_time": "2022-12-07T10:32:44.667Z"
   },
   {
    "duration": 3,
    "start_time": "2022-12-07T10:32:44.824Z"
   },
   {
    "duration": 9,
    "start_time": "2022-12-07T10:32:44.829Z"
   },
   {
    "duration": 522,
    "start_time": "2022-12-07T10:32:44.839Z"
   },
   {
    "duration": 16,
    "start_time": "2022-12-07T10:32:45.363Z"
   },
   {
    "duration": 49,
    "start_time": "2022-12-07T10:32:45.380Z"
   },
   {
    "duration": 69,
    "start_time": "2022-12-07T10:32:45.431Z"
   },
   {
    "duration": 3,
    "start_time": "2022-12-07T10:32:45.502Z"
   },
   {
    "duration": 23,
    "start_time": "2022-12-07T10:32:45.507Z"
   },
   {
    "duration": 71551,
    "start_time": "2022-12-07T10:32:45.532Z"
   },
   {
    "duration": 82110,
    "start_time": "2022-12-07T10:33:57.086Z"
   },
   {
    "duration": 4,
    "start_time": "2022-12-07T10:35:19.197Z"
   },
   {
    "duration": 52,
    "start_time": "2022-12-07T10:35:19.202Z"
   },
   {
    "duration": 8,
    "start_time": "2022-12-08T17:43:30.233Z"
   },
   {
    "duration": 47,
    "start_time": "2022-12-08T17:43:30.243Z"
   },
   {
    "duration": 22,
    "start_time": "2022-12-08T17:43:30.291Z"
   },
   {
    "duration": 26,
    "start_time": "2022-12-08T17:43:30.316Z"
   },
   {
    "duration": 1119,
    "start_time": "2022-12-08T17:43:30.343Z"
   },
   {
    "duration": 781,
    "start_time": "2022-12-08T17:43:31.464Z"
   },
   {
    "duration": 39,
    "start_time": "2022-12-08T17:43:32.247Z"
   },
   {
    "duration": 20,
    "start_time": "2022-12-08T17:43:32.288Z"
   },
   {
    "duration": 184,
    "start_time": "2022-12-08T17:43:32.309Z"
   },
   {
    "duration": 49,
    "start_time": "2022-12-08T17:43:32.496Z"
   },
   {
    "duration": 34,
    "start_time": "2022-12-08T17:43:32.546Z"
   },
   {
    "duration": 59,
    "start_time": "2022-12-08T17:43:32.581Z"
   },
   {
    "duration": 74,
    "start_time": "2022-12-08T17:43:32.642Z"
   },
   {
    "duration": 31,
    "start_time": "2022-12-08T17:43:32.718Z"
   },
   {
    "duration": 72,
    "start_time": "2022-12-08T17:43:32.751Z"
   },
   {
    "duration": 52,
    "start_time": "2022-12-08T17:43:32.825Z"
   },
   {
    "duration": 46,
    "start_time": "2022-12-08T17:43:32.879Z"
   },
   {
    "duration": 172,
    "start_time": "2022-12-08T17:43:32.927Z"
   },
   {
    "duration": 11,
    "start_time": "2022-12-08T17:43:33.101Z"
   },
   {
    "duration": 46,
    "start_time": "2022-12-08T17:43:33.113Z"
   },
   {
    "duration": 400797,
    "start_time": "2022-12-08T17:43:33.161Z"
   },
   {
    "duration": 25,
    "start_time": "2022-12-08T17:50:13.959Z"
   },
   {
    "duration": 36,
    "start_time": "2022-12-08T17:50:13.985Z"
   },
   {
    "duration": 192,
    "start_time": "2022-12-08T17:50:14.023Z"
   },
   {
    "duration": 13,
    "start_time": "2022-12-08T17:50:14.217Z"
   },
   {
    "duration": 11,
    "start_time": "2022-12-08T17:50:14.232Z"
   },
   {
    "duration": 419402,
    "start_time": "2022-12-08T17:50:14.245Z"
   },
   {
    "duration": 16,
    "start_time": "2022-12-08T17:57:13.651Z"
   },
   {
    "duration": 52,
    "start_time": "2022-12-08T17:57:13.685Z"
   },
   {
    "duration": 19,
    "start_time": "2022-12-08T17:57:13.739Z"
   },
   {
    "duration": 26,
    "start_time": "2022-12-08T17:57:13.760Z"
   },
   {
    "duration": 739,
    "start_time": "2022-12-08T17:57:13.788Z"
   },
   {
    "duration": 11,
    "start_time": "2022-12-08T17:57:14.529Z"
   },
   {
    "duration": 6,
    "start_time": "2022-12-08T17:57:14.542Z"
   },
   {
    "duration": 1105952,
    "start_time": "2022-12-08T17:57:14.550Z"
   },
   {
    "duration": 28,
    "start_time": "2022-12-08T18:15:40.504Z"
   },
   {
    "duration": 73,
    "start_time": "2022-12-08T18:15:40.534Z"
   },
   {
    "duration": 18,
    "start_time": "2022-12-08T18:15:40.609Z"
   },
   {
    "duration": 113,
    "start_time": "2022-12-08T18:15:40.629Z"
   },
   {
    "duration": 6,
    "start_time": "2022-12-08T18:15:40.744Z"
   },
   {
    "duration": 27,
    "start_time": "2022-12-08T18:15:40.751Z"
   },
   {
    "duration": 28,
    "start_time": "2022-12-08T18:15:40.780Z"
   },
   {
    "duration": 5,
    "start_time": "2022-12-08T18:15:40.810Z"
   },
   {
    "duration": 1905,
    "start_time": "2022-12-08T18:15:40.817Z"
   },
   {
    "duration": 733,
    "start_time": "2022-12-08T18:15:42.724Z"
   },
   {
    "duration": 5,
    "start_time": "2022-12-08T18:15:43.458Z"
   },
   {
    "duration": 15,
    "start_time": "2022-12-08T18:15:43.465Z"
   },
   {
    "duration": 26,
    "start_time": "2022-12-08T18:15:43.482Z"
   },
   {
    "duration": 5,
    "start_time": "2022-12-08T18:15:43.510Z"
   },
   {
    "duration": 17,
    "start_time": "2022-12-08T18:15:43.516Z"
   },
   {
    "duration": 5,
    "start_time": "2022-12-08T18:15:43.535Z"
   },
   {
    "duration": 12,
    "start_time": "2022-12-08T18:15:43.541Z"
   },
   {
    "duration": 8,
    "start_time": "2022-12-08T18:15:43.577Z"
   },
   {
    "duration": 34,
    "start_time": "2022-12-08T18:15:43.587Z"
   },
   {
    "duration": 5,
    "start_time": "2022-12-08T18:15:43.623Z"
   },
   {
    "duration": 8,
    "start_time": "2022-12-08T18:15:43.630Z"
   },
   {
    "duration": 6,
    "start_time": "2022-12-08T18:15:43.639Z"
   },
   {
    "duration": 12,
    "start_time": "2022-12-08T18:15:43.646Z"
   },
   {
    "duration": 19,
    "start_time": "2022-12-08T18:15:43.678Z"
   },
   {
    "duration": 6,
    "start_time": "2022-12-08T18:15:43.699Z"
   },
   {
    "duration": 90,
    "start_time": "2022-12-08T18:15:43.706Z"
   },
   {
    "duration": 134,
    "start_time": "2022-12-08T18:15:43.798Z"
   },
   {
    "duration": 211,
    "start_time": "2022-12-08T18:15:43.934Z"
   },
   {
    "duration": 148,
    "start_time": "2022-12-08T18:15:44.146Z"
   },
   {
    "duration": 11,
    "start_time": "2022-12-08T18:15:44.296Z"
   },
   {
    "duration": 87,
    "start_time": "2022-12-08T18:15:44.309Z"
   },
   {
    "duration": 4,
    "start_time": "2022-12-08T18:15:44.397Z"
   },
   {
    "duration": 6,
    "start_time": "2022-12-08T18:15:44.402Z"
   },
   {
    "duration": 73,
    "start_time": "2022-12-08T18:15:44.409Z"
   },
   {
    "duration": 2,
    "start_time": "2022-12-08T18:15:44.485Z"
   },
   {
    "duration": 92,
    "start_time": "2022-12-08T18:15:44.490Z"
   },
   {
    "duration": 8,
    "start_time": "2022-12-08T18:15:44.584Z"
   },
   {
    "duration": 10,
    "start_time": "2022-12-08T18:15:44.598Z"
   },
   {
    "duration": 20,
    "start_time": "2022-12-08T18:15:44.610Z"
   },
   {
    "duration": 9,
    "start_time": "2022-12-08T18:15:44.632Z"
   },
   {
    "duration": 35,
    "start_time": "2022-12-08T18:15:44.643Z"
   },
   {
    "duration": 40,
    "start_time": "2022-12-08T18:15:44.680Z"
   },
   {
    "duration": 416,
    "start_time": "2022-12-08T18:15:44.722Z"
   },
   {
    "duration": 150,
    "start_time": "2022-12-08T18:15:45.140Z"
   },
   {
    "duration": 0,
    "start_time": "2022-12-08T18:15:45.343Z"
   },
   {
    "duration": 0,
    "start_time": "2022-12-08T18:15:45.345Z"
   },
   {
    "duration": 0,
    "start_time": "2022-12-08T18:15:45.346Z"
   },
   {
    "duration": 0,
    "start_time": "2022-12-08T18:15:45.346Z"
   },
   {
    "duration": 0,
    "start_time": "2022-12-08T18:15:45.347Z"
   },
   {
    "duration": 0,
    "start_time": "2022-12-08T18:15:45.348Z"
   },
   {
    "duration": 0,
    "start_time": "2022-12-08T18:15:45.349Z"
   },
   {
    "duration": 0,
    "start_time": "2022-12-08T18:15:45.350Z"
   },
   {
    "duration": 0,
    "start_time": "2022-12-08T18:15:45.351Z"
   },
   {
    "duration": 0,
    "start_time": "2022-12-08T18:15:45.352Z"
   },
   {
    "duration": 0,
    "start_time": "2022-12-08T18:15:45.353Z"
   },
   {
    "duration": 0,
    "start_time": "2022-12-08T18:15:45.354Z"
   },
   {
    "duration": 0,
    "start_time": "2022-12-08T18:15:45.355Z"
   },
   {
    "duration": 0,
    "start_time": "2022-12-08T18:15:45.356Z"
   },
   {
    "duration": 0,
    "start_time": "2022-12-08T18:15:45.378Z"
   },
   {
    "duration": 0,
    "start_time": "2022-12-08T18:15:45.379Z"
   },
   {
    "duration": 0,
    "start_time": "2022-12-08T18:15:45.381Z"
   },
   {
    "duration": 0,
    "start_time": "2022-12-08T18:15:45.382Z"
   },
   {
    "duration": 0,
    "start_time": "2022-12-08T18:15:45.383Z"
   },
   {
    "duration": 0,
    "start_time": "2022-12-08T18:15:45.385Z"
   },
   {
    "duration": 0,
    "start_time": "2022-12-08T18:15:45.386Z"
   },
   {
    "duration": 0,
    "start_time": "2022-12-08T18:15:45.387Z"
   },
   {
    "duration": 0,
    "start_time": "2022-12-08T18:15:45.388Z"
   },
   {
    "duration": 0,
    "start_time": "2022-12-08T18:15:45.389Z"
   },
   {
    "duration": 0,
    "start_time": "2022-12-08T18:15:45.391Z"
   },
   {
    "duration": 0,
    "start_time": "2022-12-08T18:15:45.392Z"
   },
   {
    "duration": 78,
    "start_time": "2022-12-10T19:11:37.042Z"
   }
  ],
  "kernelspec": {
   "display_name": "Python 3 (ipykernel)",
   "language": "python",
   "name": "python3"
  },
  "language_info": {
   "codemirror_mode": {
    "name": "ipython",
    "version": 3
   },
   "file_extension": ".py",
   "mimetype": "text/x-python",
   "name": "python",
   "nbconvert_exporter": "python",
   "pygments_lexer": "ipython3",
   "version": "3.9.7"
  },
  "toc": {
   "base_numbering": 1,
   "nav_menu": {},
   "number_sections": true,
   "sideBar": true,
   "skip_h1_title": true,
   "title_cell": "Table of Contents",
   "title_sidebar": "Contents",
   "toc_cell": false,
   "toc_position": {},
   "toc_section_display": true,
   "toc_window_display": false
  }
 },
 "nbformat": 4,
 "nbformat_minor": 2
}
