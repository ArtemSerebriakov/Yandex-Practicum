{
 "cells": [
  {
   "cell_type": "markdown",
   "metadata": {},
   "source": [
    "<div class=\"alert alert-success\"; style=\"border-left: 7px solid green\">\n",
    "<h3>✔ Комментарий ревьюера V.2</h3>\n",
    "    \n",
    "Оставил несколько комментариев. Ты зря решил сократить актуальный период всего до двух лет, т.к. данные за 2016 год неполные и это не позволяет динамику увидеть. Удачи в следующих спринтах :)\n",
    "</div>    \n"
   ]
  },
  {
   "cell_type": "markdown",
   "metadata": {},
   "source": [
    "<h2> Комментарий ревьюера</h2>\n",
    "    \n",
    "Привет! Меня зовут Алексей Тюрин, я буду делать ревью твоей работы. Давай будем общаться на «ты».\n",
    "\n",
    "У тебя хорошая, аккуратная работа 👍. В ней всё здорово, есть пара совсем небольших неточностей, которые быстро исправляются. Можешь посмотерть остальные комментарии и задать вопросы, если будут :)\n",
    "\n",
    "---\n",
    "Комментарии делятся на 3 группы:\n",
    "    \n",
    "Зелёным цветом отмечены комментарии, либо подчёркивающие удачные решения, либо содержащие какую-то дополнительную информацию или советы, они формально не требуют правки, но правки приветствуются. Выделены они так:\n",
    "\n",
    "<div class=\"alert alert-success\"; style=\"border-left: 7px solid green\">\n",
    "<h3>✔ Комментарий ревьюера</h3>\n",
    "    \n",
    "Тут текст    \n",
    "</div>    \n",
    "\n",
    "Жёлтым цветом выделены правки, которые желательны:\n",
    "\n",
    "<div class=\"alert alert-warning\"; style=\"border-left: 7px solid yellow\" >\n",
    "<h3>!! Комментарий ревьюера</h3>\n",
    "    \n",
    "Тут текст    \n",
    "</div>    \n",
    "\n",
    "Красным выделены правки, которые обязательны\n",
    "    \n",
    "<div class=\"alert alert-danger\"; style=\"border-left: 7px solid red\">\n",
    "<h3>👀 Комментарий ревьюера</h3>\n",
    "    \n",
    "Тут текст    \n",
    "</div>    \n",
    "    \n",
    "Давай работать над проектом в диалоге: если ты **что-то меняешь** в проекте по моим рекомендациям — **пиши об этом**. Выбери для своих комментариев какой-то заметный цвет, так мне будет легче отследить изменения. Пожалуйста, **не перемещай, не изменяй и не удаляй мои комментарии**. Всё это поможет выполнить повторную проверку твоего проекта оперативнее. Если оставляешь комментарии на какой-то итерации ревью, пиши что-то вроде `комментарий студента V.{номер итерации}`\n",
    "</div>\n",
    "\n",
    "Цвет можно сделать, например, так\n",
    "\n",
    "<div class = \"alert alert-info\" style=\"border-left: 7px solid blue\">\n",
    "<h3>Комментарий студента</h3>\n",
    "Ревьюер душнила :)\n",
    "</div>\n",
    "\n",
    "Или так:\n",
    "    \n",
    "<div class=\"alert alert-info\" style=\"background:#ffdbf1;color:#2e00ab;border-left:7px solid #2e00ab\">\n",
    "<h3>Комментарий студента </h3>\n",
    "    ...\n",
    "</div>"
   ]
  },
  {
   "cell_type": "markdown",
   "metadata": {},
   "source": [
    "# Исследование критериев успешности игр"
   ]
  },
  {
   "cell_type": "markdown",
   "metadata": {},
   "source": [
    "Вы работаете в интернет-магазине «Стримчик», который продаёт по всему миру компьютерные игры. Из открытых источников доступны исторические данные о продажах игр, оценки пользователей и экспертов, жанры и платформы (например, Xbox или PlayStation). Вам нужно выявить определяющие успешность игры закономерности. Это позволит сделать ставку на потенциально популярный продукт и спланировать рекламные кампании.\n",
    "Перед вами данные до 2016 года. Представим, что сейчас декабрь 2016 г., и вы планируете кампанию на 2017-й. Нужно отработать принцип работы с данными. Неважно, прогнозируете ли вы продажи на 2017 год по данным 2016-го или же 2027-й — по данным 2026 года.\n",
    "В наборе данных попадается аббревиатура ESRB (Entertainment Software Rating Board) — это ассоциация, определяющая возрастной рейтинг компьютерных игр. ESRB оценивает игровой контент и присваивает ему подходящую возрастную категорию, например, «Для взрослых», «Для детей младшего возраста» или «Для подростков»."
   ]
  },
  {
   "cell_type": "markdown",
   "metadata": {},
   "source": [
    "План работы:\n",
    "1. Изучить общую информацию из датафрейма.\n",
    "2. Рассмотреть типы данных в каждом столбце.\n",
    "3. Найти и изучить пропущенные значения в столбцах.\n",
    "4. Проверить наличие дубликатов.\n",
    "5. Найти и обработать аномалии.\n",
    "6. Посчитать суммарные продажи во всех регионах и записать их в отдельный столбец.\n",
    "7. Проанализировать, сколько игр выпускалось в разные годы.\n",
    "8. Проанализировать, как менялись продажи по платформам.\n",
    "9. Выбрать актуальный период для дальнейшего исследования и прогноза.\n",
    "10. Найти несколько потенциально прибыльных платформ.\n",
    "11. Определить, как влияют на продажи внутри одной популярной платформы отзывы пользователей и критиков и соотнести выводы с продажами игр на других платформах.\n",
    "12. Исследовать общее распределение игр по жанрам.\n",
    "13. Составьте портрет пользователя каждого региона.\n",
    "14. Сравнить средние пользовательские рейтинги платформ Xbox One и PC.\n",
    "15. Средние пользовательские рейтинги жанров Action и Sports."
   ]
  },
  {
   "cell_type": "markdown",
   "metadata": {},
   "source": [
    "<div class=\"alert alert-success\"; style=\"border-left: 7px solid green\">\n",
    "<h3>✔ Комментарий ревьюера</h3>\n",
    "    \n",
    "План работы можно сопроводить гиперссылками на соответствующие разделы</div>    "
   ]
  },
  {
   "cell_type": "markdown",
   "metadata": {},
   "source": [
    "## Изучение данных из файла"
   ]
  },
  {
   "cell_type": "code",
   "execution_count": 66,
   "metadata": {},
   "outputs": [],
   "source": [
    "# pip install nb_black"
   ]
  },
  {
   "cell_type": "code",
   "execution_count": 67,
   "metadata": {},
   "outputs": [],
   "source": [
    "#%load_ext nb_black"
   ]
  },
  {
   "cell_type": "code",
   "execution_count": 68,
   "metadata": {},
   "outputs": [],
   "source": [
    "import pandas as pd"
   ]
  },
  {
   "cell_type": "markdown",
   "metadata": {},
   "source": [
    "<div class=\"alert alert-success\"; style=\"border-left: 7px solid green\">\n",
    "<h3>✔ Комментарий ревьюера</h3>\n",
    "    \n",
    "Это не единственная библиотека, используемая в проекте. Чтобы сразу было понятно, какие у проекта зависимости, стоит все импорты собирать в самом начале работы\n",
    "</div>    "
   ]
  },
  {
   "cell_type": "code",
   "execution_count": 69,
   "metadata": {},
   "outputs": [],
   "source": [
    "df = pd.read_csv(\"/datasets/games.csv\", sep=\",\")"
   ]
  },
  {
   "cell_type": "code",
   "execution_count": 70,
   "metadata": {},
   "outputs": [
    {
     "data": {
      "text/html": [
       "<div>\n",
       "<style scoped>\n",
       "    .dataframe tbody tr th:only-of-type {\n",
       "        vertical-align: middle;\n",
       "    }\n",
       "\n",
       "    .dataframe tbody tr th {\n",
       "        vertical-align: top;\n",
       "    }\n",
       "\n",
       "    .dataframe thead th {\n",
       "        text-align: right;\n",
       "    }\n",
       "</style>\n",
       "<table border=\"1\" class=\"dataframe\">\n",
       "  <thead>\n",
       "    <tr style=\"text-align: right;\">\n",
       "      <th></th>\n",
       "      <th>Name</th>\n",
       "      <th>Platform</th>\n",
       "      <th>Year_of_Release</th>\n",
       "      <th>Genre</th>\n",
       "      <th>NA_sales</th>\n",
       "      <th>EU_sales</th>\n",
       "      <th>JP_sales</th>\n",
       "      <th>Other_sales</th>\n",
       "      <th>Critic_Score</th>\n",
       "      <th>User_Score</th>\n",
       "      <th>Rating</th>\n",
       "    </tr>\n",
       "  </thead>\n",
       "  <tbody>\n",
       "    <tr>\n",
       "      <th>0</th>\n",
       "      <td>Wii Sports</td>\n",
       "      <td>Wii</td>\n",
       "      <td>2006.0</td>\n",
       "      <td>Sports</td>\n",
       "      <td>41.36</td>\n",
       "      <td>28.96</td>\n",
       "      <td>3.77</td>\n",
       "      <td>8.45</td>\n",
       "      <td>76.0</td>\n",
       "      <td>8</td>\n",
       "      <td>E</td>\n",
       "    </tr>\n",
       "    <tr>\n",
       "      <th>1</th>\n",
       "      <td>Super Mario Bros.</td>\n",
       "      <td>NES</td>\n",
       "      <td>1985.0</td>\n",
       "      <td>Platform</td>\n",
       "      <td>29.08</td>\n",
       "      <td>3.58</td>\n",
       "      <td>6.81</td>\n",
       "      <td>0.77</td>\n",
       "      <td>NaN</td>\n",
       "      <td>NaN</td>\n",
       "      <td>NaN</td>\n",
       "    </tr>\n",
       "    <tr>\n",
       "      <th>2</th>\n",
       "      <td>Mario Kart Wii</td>\n",
       "      <td>Wii</td>\n",
       "      <td>2008.0</td>\n",
       "      <td>Racing</td>\n",
       "      <td>15.68</td>\n",
       "      <td>12.76</td>\n",
       "      <td>3.79</td>\n",
       "      <td>3.29</td>\n",
       "      <td>82.0</td>\n",
       "      <td>8.3</td>\n",
       "      <td>E</td>\n",
       "    </tr>\n",
       "    <tr>\n",
       "      <th>3</th>\n",
       "      <td>Wii Sports Resort</td>\n",
       "      <td>Wii</td>\n",
       "      <td>2009.0</td>\n",
       "      <td>Sports</td>\n",
       "      <td>15.61</td>\n",
       "      <td>10.93</td>\n",
       "      <td>3.28</td>\n",
       "      <td>2.95</td>\n",
       "      <td>80.0</td>\n",
       "      <td>8</td>\n",
       "      <td>E</td>\n",
       "    </tr>\n",
       "    <tr>\n",
       "      <th>4</th>\n",
       "      <td>Pokemon Red/Pokemon Blue</td>\n",
       "      <td>GB</td>\n",
       "      <td>1996.0</td>\n",
       "      <td>Role-Playing</td>\n",
       "      <td>11.27</td>\n",
       "      <td>8.89</td>\n",
       "      <td>10.22</td>\n",
       "      <td>1.00</td>\n",
       "      <td>NaN</td>\n",
       "      <td>NaN</td>\n",
       "      <td>NaN</td>\n",
       "    </tr>\n",
       "    <tr>\n",
       "      <th>5</th>\n",
       "      <td>Tetris</td>\n",
       "      <td>GB</td>\n",
       "      <td>1989.0</td>\n",
       "      <td>Puzzle</td>\n",
       "      <td>23.20</td>\n",
       "      <td>2.26</td>\n",
       "      <td>4.22</td>\n",
       "      <td>0.58</td>\n",
       "      <td>NaN</td>\n",
       "      <td>NaN</td>\n",
       "      <td>NaN</td>\n",
       "    </tr>\n",
       "    <tr>\n",
       "      <th>6</th>\n",
       "      <td>New Super Mario Bros.</td>\n",
       "      <td>DS</td>\n",
       "      <td>2006.0</td>\n",
       "      <td>Platform</td>\n",
       "      <td>11.28</td>\n",
       "      <td>9.14</td>\n",
       "      <td>6.50</td>\n",
       "      <td>2.88</td>\n",
       "      <td>89.0</td>\n",
       "      <td>8.5</td>\n",
       "      <td>E</td>\n",
       "    </tr>\n",
       "    <tr>\n",
       "      <th>7</th>\n",
       "      <td>Wii Play</td>\n",
       "      <td>Wii</td>\n",
       "      <td>2006.0</td>\n",
       "      <td>Misc</td>\n",
       "      <td>13.96</td>\n",
       "      <td>9.18</td>\n",
       "      <td>2.93</td>\n",
       "      <td>2.84</td>\n",
       "      <td>58.0</td>\n",
       "      <td>6.6</td>\n",
       "      <td>E</td>\n",
       "    </tr>\n",
       "    <tr>\n",
       "      <th>8</th>\n",
       "      <td>New Super Mario Bros. Wii</td>\n",
       "      <td>Wii</td>\n",
       "      <td>2009.0</td>\n",
       "      <td>Platform</td>\n",
       "      <td>14.44</td>\n",
       "      <td>6.94</td>\n",
       "      <td>4.70</td>\n",
       "      <td>2.24</td>\n",
       "      <td>87.0</td>\n",
       "      <td>8.4</td>\n",
       "      <td>E</td>\n",
       "    </tr>\n",
       "    <tr>\n",
       "      <th>9</th>\n",
       "      <td>Duck Hunt</td>\n",
       "      <td>NES</td>\n",
       "      <td>1984.0</td>\n",
       "      <td>Shooter</td>\n",
       "      <td>26.93</td>\n",
       "      <td>0.63</td>\n",
       "      <td>0.28</td>\n",
       "      <td>0.47</td>\n",
       "      <td>NaN</td>\n",
       "      <td>NaN</td>\n",
       "      <td>NaN</td>\n",
       "    </tr>\n",
       "  </tbody>\n",
       "</table>\n",
       "</div>"
      ],
      "text/plain": [
       "                        Name Platform  Year_of_Release         Genre  \\\n",
       "0                 Wii Sports      Wii           2006.0        Sports   \n",
       "1          Super Mario Bros.      NES           1985.0      Platform   \n",
       "2             Mario Kart Wii      Wii           2008.0        Racing   \n",
       "3          Wii Sports Resort      Wii           2009.0        Sports   \n",
       "4   Pokemon Red/Pokemon Blue       GB           1996.0  Role-Playing   \n",
       "5                     Tetris       GB           1989.0        Puzzle   \n",
       "6      New Super Mario Bros.       DS           2006.0      Platform   \n",
       "7                   Wii Play      Wii           2006.0          Misc   \n",
       "8  New Super Mario Bros. Wii      Wii           2009.0      Platform   \n",
       "9                  Duck Hunt      NES           1984.0       Shooter   \n",
       "\n",
       "   NA_sales  EU_sales  JP_sales  Other_sales  Critic_Score User_Score Rating  \n",
       "0     41.36     28.96      3.77         8.45          76.0          8      E  \n",
       "1     29.08      3.58      6.81         0.77           NaN        NaN    NaN  \n",
       "2     15.68     12.76      3.79         3.29          82.0        8.3      E  \n",
       "3     15.61     10.93      3.28         2.95          80.0          8      E  \n",
       "4     11.27      8.89     10.22         1.00           NaN        NaN    NaN  \n",
       "5     23.20      2.26      4.22         0.58           NaN        NaN    NaN  \n",
       "6     11.28      9.14      6.50         2.88          89.0        8.5      E  \n",
       "7     13.96      9.18      2.93         2.84          58.0        6.6      E  \n",
       "8     14.44      6.94      4.70         2.24          87.0        8.4      E  \n",
       "9     26.93      0.63      0.28         0.47           NaN        NaN    NaN  "
      ]
     },
     "execution_count": 70,
     "metadata": {},
     "output_type": "execute_result"
    }
   ],
   "source": [
    "df.head(10)"
   ]
  },
  {
   "cell_type": "markdown",
   "metadata": {},
   "source": [
    "Приведем названия столбцов к нижнему регистру."
   ]
  },
  {
   "cell_type": "code",
   "execution_count": 71,
   "metadata": {},
   "outputs": [],
   "source": [
    "df.columns = map(str.lower, df.columns)"
   ]
  },
  {
   "cell_type": "markdown",
   "metadata": {},
   "source": [
    "<div class=\"alert alert-success\"; style=\"border-left: 7px solid green\">\n",
    "<h3>✔ Комментарий ревьюера</h3>\n",
    "    \n",
    "Хороший способ 👍</div>    "
   ]
  },
  {
   "cell_type": "code",
   "execution_count": 72,
   "metadata": {},
   "outputs": [
    {
     "data": {
      "text/html": [
       "<div>\n",
       "<style scoped>\n",
       "    .dataframe tbody tr th:only-of-type {\n",
       "        vertical-align: middle;\n",
       "    }\n",
       "\n",
       "    .dataframe tbody tr th {\n",
       "        vertical-align: top;\n",
       "    }\n",
       "\n",
       "    .dataframe thead th {\n",
       "        text-align: right;\n",
       "    }\n",
       "</style>\n",
       "<table border=\"1\" class=\"dataframe\">\n",
       "  <thead>\n",
       "    <tr style=\"text-align: right;\">\n",
       "      <th></th>\n",
       "      <th>name</th>\n",
       "      <th>platform</th>\n",
       "      <th>year_of_release</th>\n",
       "      <th>genre</th>\n",
       "      <th>na_sales</th>\n",
       "      <th>eu_sales</th>\n",
       "      <th>jp_sales</th>\n",
       "      <th>other_sales</th>\n",
       "      <th>critic_score</th>\n",
       "      <th>user_score</th>\n",
       "      <th>rating</th>\n",
       "    </tr>\n",
       "  </thead>\n",
       "  <tbody>\n",
       "    <tr>\n",
       "      <th>0</th>\n",
       "      <td>Wii Sports</td>\n",
       "      <td>Wii</td>\n",
       "      <td>2006.0</td>\n",
       "      <td>Sports</td>\n",
       "      <td>41.36</td>\n",
       "      <td>28.96</td>\n",
       "      <td>3.77</td>\n",
       "      <td>8.45</td>\n",
       "      <td>76.0</td>\n",
       "      <td>8</td>\n",
       "      <td>E</td>\n",
       "    </tr>\n",
       "    <tr>\n",
       "      <th>1</th>\n",
       "      <td>Super Mario Bros.</td>\n",
       "      <td>NES</td>\n",
       "      <td>1985.0</td>\n",
       "      <td>Platform</td>\n",
       "      <td>29.08</td>\n",
       "      <td>3.58</td>\n",
       "      <td>6.81</td>\n",
       "      <td>0.77</td>\n",
       "      <td>NaN</td>\n",
       "      <td>NaN</td>\n",
       "      <td>NaN</td>\n",
       "    </tr>\n",
       "    <tr>\n",
       "      <th>2</th>\n",
       "      <td>Mario Kart Wii</td>\n",
       "      <td>Wii</td>\n",
       "      <td>2008.0</td>\n",
       "      <td>Racing</td>\n",
       "      <td>15.68</td>\n",
       "      <td>12.76</td>\n",
       "      <td>3.79</td>\n",
       "      <td>3.29</td>\n",
       "      <td>82.0</td>\n",
       "      <td>8.3</td>\n",
       "      <td>E</td>\n",
       "    </tr>\n",
       "    <tr>\n",
       "      <th>3</th>\n",
       "      <td>Wii Sports Resort</td>\n",
       "      <td>Wii</td>\n",
       "      <td>2009.0</td>\n",
       "      <td>Sports</td>\n",
       "      <td>15.61</td>\n",
       "      <td>10.93</td>\n",
       "      <td>3.28</td>\n",
       "      <td>2.95</td>\n",
       "      <td>80.0</td>\n",
       "      <td>8</td>\n",
       "      <td>E</td>\n",
       "    </tr>\n",
       "    <tr>\n",
       "      <th>4</th>\n",
       "      <td>Pokemon Red/Pokemon Blue</td>\n",
       "      <td>GB</td>\n",
       "      <td>1996.0</td>\n",
       "      <td>Role-Playing</td>\n",
       "      <td>11.27</td>\n",
       "      <td>8.89</td>\n",
       "      <td>10.22</td>\n",
       "      <td>1.00</td>\n",
       "      <td>NaN</td>\n",
       "      <td>NaN</td>\n",
       "      <td>NaN</td>\n",
       "    </tr>\n",
       "    <tr>\n",
       "      <th>5</th>\n",
       "      <td>Tetris</td>\n",
       "      <td>GB</td>\n",
       "      <td>1989.0</td>\n",
       "      <td>Puzzle</td>\n",
       "      <td>23.20</td>\n",
       "      <td>2.26</td>\n",
       "      <td>4.22</td>\n",
       "      <td>0.58</td>\n",
       "      <td>NaN</td>\n",
       "      <td>NaN</td>\n",
       "      <td>NaN</td>\n",
       "    </tr>\n",
       "    <tr>\n",
       "      <th>6</th>\n",
       "      <td>New Super Mario Bros.</td>\n",
       "      <td>DS</td>\n",
       "      <td>2006.0</td>\n",
       "      <td>Platform</td>\n",
       "      <td>11.28</td>\n",
       "      <td>9.14</td>\n",
       "      <td>6.50</td>\n",
       "      <td>2.88</td>\n",
       "      <td>89.0</td>\n",
       "      <td>8.5</td>\n",
       "      <td>E</td>\n",
       "    </tr>\n",
       "    <tr>\n",
       "      <th>7</th>\n",
       "      <td>Wii Play</td>\n",
       "      <td>Wii</td>\n",
       "      <td>2006.0</td>\n",
       "      <td>Misc</td>\n",
       "      <td>13.96</td>\n",
       "      <td>9.18</td>\n",
       "      <td>2.93</td>\n",
       "      <td>2.84</td>\n",
       "      <td>58.0</td>\n",
       "      <td>6.6</td>\n",
       "      <td>E</td>\n",
       "    </tr>\n",
       "    <tr>\n",
       "      <th>8</th>\n",
       "      <td>New Super Mario Bros. Wii</td>\n",
       "      <td>Wii</td>\n",
       "      <td>2009.0</td>\n",
       "      <td>Platform</td>\n",
       "      <td>14.44</td>\n",
       "      <td>6.94</td>\n",
       "      <td>4.70</td>\n",
       "      <td>2.24</td>\n",
       "      <td>87.0</td>\n",
       "      <td>8.4</td>\n",
       "      <td>E</td>\n",
       "    </tr>\n",
       "    <tr>\n",
       "      <th>9</th>\n",
       "      <td>Duck Hunt</td>\n",
       "      <td>NES</td>\n",
       "      <td>1984.0</td>\n",
       "      <td>Shooter</td>\n",
       "      <td>26.93</td>\n",
       "      <td>0.63</td>\n",
       "      <td>0.28</td>\n",
       "      <td>0.47</td>\n",
       "      <td>NaN</td>\n",
       "      <td>NaN</td>\n",
       "      <td>NaN</td>\n",
       "    </tr>\n",
       "  </tbody>\n",
       "</table>\n",
       "</div>"
      ],
      "text/plain": [
       "                        name platform  year_of_release         genre  \\\n",
       "0                 Wii Sports      Wii           2006.0        Sports   \n",
       "1          Super Mario Bros.      NES           1985.0      Platform   \n",
       "2             Mario Kart Wii      Wii           2008.0        Racing   \n",
       "3          Wii Sports Resort      Wii           2009.0        Sports   \n",
       "4   Pokemon Red/Pokemon Blue       GB           1996.0  Role-Playing   \n",
       "5                     Tetris       GB           1989.0        Puzzle   \n",
       "6      New Super Mario Bros.       DS           2006.0      Platform   \n",
       "7                   Wii Play      Wii           2006.0          Misc   \n",
       "8  New Super Mario Bros. Wii      Wii           2009.0      Platform   \n",
       "9                  Duck Hunt      NES           1984.0       Shooter   \n",
       "\n",
       "   na_sales  eu_sales  jp_sales  other_sales  critic_score user_score rating  \n",
       "0     41.36     28.96      3.77         8.45          76.0          8      E  \n",
       "1     29.08      3.58      6.81         0.77           NaN        NaN    NaN  \n",
       "2     15.68     12.76      3.79         3.29          82.0        8.3      E  \n",
       "3     15.61     10.93      3.28         2.95          80.0          8      E  \n",
       "4     11.27      8.89     10.22         1.00           NaN        NaN    NaN  \n",
       "5     23.20      2.26      4.22         0.58           NaN        NaN    NaN  \n",
       "6     11.28      9.14      6.50         2.88          89.0        8.5      E  \n",
       "7     13.96      9.18      2.93         2.84          58.0        6.6      E  \n",
       "8     14.44      6.94      4.70         2.24          87.0        8.4      E  \n",
       "9     26.93      0.63      0.28         0.47           NaN        NaN    NaN  "
      ]
     },
     "execution_count": 72,
     "metadata": {},
     "output_type": "execute_result"
    }
   ],
   "source": [
    "df.head(10)"
   ]
  },
  {
   "cell_type": "code",
   "execution_count": 73,
   "metadata": {},
   "outputs": [
    {
     "name": "stdout",
     "output_type": "stream",
     "text": [
      "<class 'pandas.core.frame.DataFrame'>\n",
      "RangeIndex: 16715 entries, 0 to 16714\n",
      "Data columns (total 11 columns):\n",
      " #   Column           Non-Null Count  Dtype  \n",
      "---  ------           --------------  -----  \n",
      " 0   name             16713 non-null  object \n",
      " 1   platform         16715 non-null  object \n",
      " 2   year_of_release  16446 non-null  float64\n",
      " 3   genre            16713 non-null  object \n",
      " 4   na_sales         16715 non-null  float64\n",
      " 5   eu_sales         16715 non-null  float64\n",
      " 6   jp_sales         16715 non-null  float64\n",
      " 7   other_sales      16715 non-null  float64\n",
      " 8   critic_score     8137 non-null   float64\n",
      " 9   user_score       10014 non-null  object \n",
      " 10  rating           9949 non-null   object \n",
      "dtypes: float64(6), object(5)\n",
      "memory usage: 1.4+ MB\n"
     ]
    }
   ],
   "source": [
    "df.info()"
   ]
  },
  {
   "cell_type": "code",
   "execution_count": 74,
   "metadata": {},
   "outputs": [
    {
     "data": {
      "text/plain": [
       "(16715, 11)"
      ]
     },
     "execution_count": 74,
     "metadata": {},
     "output_type": "execute_result"
    }
   ],
   "source": [
    "df.shape"
   ]
  },
  {
   "cell_type": "markdown",
   "metadata": {},
   "source": [
    "Из полученной информации видно, что пропущены значения в столбцах `name`, `year_of_release`, `genre`, `critic_score`, `user_score`, `rating`."
   ]
  },
  {
   "cell_type": "markdown",
   "metadata": {},
   "source": [
    "Ниже представлена информация о количестве пропусков в столбцах датафрейма в процентном соотношении."
   ]
  },
  {
   "cell_type": "code",
   "execution_count": 75,
   "metadata": {
    "scrolled": true
   },
   "outputs": [
    {
     "data": {
      "text/html": [
       "<div>\n",
       "<style scoped>\n",
       "    .dataframe tbody tr th:only-of-type {\n",
       "        vertical-align: middle;\n",
       "    }\n",
       "\n",
       "    .dataframe tbody tr th {\n",
       "        vertical-align: top;\n",
       "    }\n",
       "\n",
       "    .dataframe thead th {\n",
       "        text-align: right;\n",
       "    }\n",
       "</style>\n",
       "<table border=\"1\" class=\"dataframe\">\n",
       "  <thead>\n",
       "    <tr style=\"text-align: right;\">\n",
       "      <th></th>\n",
       "      <th>0</th>\n",
       "    </tr>\n",
       "  </thead>\n",
       "  <tbody>\n",
       "    <tr>\n",
       "      <th>name</th>\n",
       "      <td>0.011965</td>\n",
       "    </tr>\n",
       "    <tr>\n",
       "      <th>platform</th>\n",
       "      <td>0.000000</td>\n",
       "    </tr>\n",
       "    <tr>\n",
       "      <th>year_of_release</th>\n",
       "      <td>1.609333</td>\n",
       "    </tr>\n",
       "    <tr>\n",
       "      <th>genre</th>\n",
       "      <td>0.011965</td>\n",
       "    </tr>\n",
       "    <tr>\n",
       "      <th>na_sales</th>\n",
       "      <td>0.000000</td>\n",
       "    </tr>\n",
       "    <tr>\n",
       "      <th>eu_sales</th>\n",
       "      <td>0.000000</td>\n",
       "    </tr>\n",
       "    <tr>\n",
       "      <th>jp_sales</th>\n",
       "      <td>0.000000</td>\n",
       "    </tr>\n",
       "    <tr>\n",
       "      <th>other_sales</th>\n",
       "      <td>0.000000</td>\n",
       "    </tr>\n",
       "    <tr>\n",
       "      <th>critic_score</th>\n",
       "      <td>51.319174</td>\n",
       "    </tr>\n",
       "    <tr>\n",
       "      <th>user_score</th>\n",
       "      <td>40.089740</td>\n",
       "    </tr>\n",
       "    <tr>\n",
       "      <th>rating</th>\n",
       "      <td>40.478612</td>\n",
       "    </tr>\n",
       "  </tbody>\n",
       "</table>\n",
       "</div>"
      ],
      "text/plain": [
       "                         0\n",
       "name              0.011965\n",
       "platform          0.000000\n",
       "year_of_release   1.609333\n",
       "genre             0.011965\n",
       "na_sales          0.000000\n",
       "eu_sales          0.000000\n",
       "jp_sales          0.000000\n",
       "other_sales       0.000000\n",
       "critic_score     51.319174\n",
       "user_score       40.089740\n",
       "rating           40.478612"
      ]
     },
     "execution_count": 75,
     "metadata": {},
     "output_type": "execute_result"
    }
   ],
   "source": [
    "(df.isna().mean() * 100).to_frame()"
   ]
  },
  {
   "cell_type": "code",
   "execution_count": 76,
   "metadata": {},
   "outputs": [],
   "source": [
    "def pass_value_barh(df, title):\n",
    "    (\n",
    "        (df.isna().mean() * 100)\n",
    "        .to_frame()\n",
    "        .rename(columns={0: \"space\"})\n",
    "        .query(\"space > 0\")\n",
    "        .sort_values(by=\"space\", ascending=True)\n",
    "        .plot(kind=\"barh\", figsize=(19, 6), rot=-5, legend=False, fontsize=16)\n",
    "        .set_title(\n",
    "            title + \"\\n\", fontsize=22, color=\"SteelBlue\"\n",
    "        )\n",
    "    )"
   ]
  },
  {
   "cell_type": "markdown",
   "metadata": {},
   "source": [
    "<div class=\"alert alert-success\"; style=\"border-left: 7px solid green\">\n",
    "<h3>✔ Комментарий ревьюера</h3>\n",
    "    \n",
    "Из таких функций концептуально стоит возвращать объекты для графика, чтобы после вызова функции можно было бы график отредактировать. Дополнительно можно преедавать аргументы для `.plot` через `**kwargs`\n",
    "</div>    "
   ]
  },
  {
   "cell_type": "code",
   "execution_count": 77,
   "metadata": {},
   "outputs": [
    {
     "data": {
      "image/png": "[encoded data removed]",
      "text/plain": [
       "<Figure size 1368x432 with 1 Axes>"
      ]
     },
     "metadata": {
      "needs_background": "light"
     },
     "output_type": "display_data"
    }
   ],
   "source": [
    "pass_value_barh(df, \"Гистограмма для столбцов таблицы\")"
   ]
  },
  {
   "cell_type": "markdown",
   "metadata": {},
   "source": [
    "## Предобработка данных"
   ]
  },
  {
   "cell_type": "markdown",
   "metadata": {},
   "source": [
    "### Заполнение пропусков"
   ]
  },
  {
   "cell_type": "markdown",
   "metadata": {},
   "source": [
    "Определим тип пропущенных значений"
   ]
  },
  {
   "cell_type": "code",
   "execution_count": 78,
   "metadata": {},
   "outputs": [
    {
     "data": {
      "text/html": [
       "<div>\n",
       "<style scoped>\n",
       "    .dataframe tbody tr th:only-of-type {\n",
       "        vertical-align: middle;\n",
       "    }\n",
       "\n",
       "    .dataframe tbody tr th {\n",
       "        vertical-align: top;\n",
       "    }\n",
       "\n",
       "    .dataframe thead th {\n",
       "        text-align: right;\n",
       "    }\n",
       "</style>\n",
       "<table border=\"1\" class=\"dataframe\">\n",
       "  <thead>\n",
       "    <tr style=\"text-align: right;\">\n",
       "      <th></th>\n",
       "      <th>name</th>\n",
       "      <th>platform</th>\n",
       "      <th>year_of_release</th>\n",
       "      <th>genre</th>\n",
       "      <th>na_sales</th>\n",
       "      <th>eu_sales</th>\n",
       "      <th>jp_sales</th>\n",
       "      <th>other_sales</th>\n",
       "      <th>critic_score</th>\n",
       "      <th>user_score</th>\n",
       "      <th>rating</th>\n",
       "    </tr>\n",
       "  </thead>\n",
       "  <tbody>\n",
       "    <tr>\n",
       "      <th>1</th>\n",
       "      <td>Super Mario Bros.</td>\n",
       "      <td>NES</td>\n",
       "      <td>1985.0</td>\n",
       "      <td>Platform</td>\n",
       "      <td>29.08</td>\n",
       "      <td>3.58</td>\n",
       "      <td>6.81</td>\n",
       "      <td>0.77</td>\n",
       "      <td>NaN</td>\n",
       "      <td>NaN</td>\n",
       "      <td>NaN</td>\n",
       "    </tr>\n",
       "    <tr>\n",
       "      <th>4</th>\n",
       "      <td>Pokemon Red/Pokemon Blue</td>\n",
       "      <td>GB</td>\n",
       "      <td>1996.0</td>\n",
       "      <td>Role-Playing</td>\n",
       "      <td>11.27</td>\n",
       "      <td>8.89</td>\n",
       "      <td>10.22</td>\n",
       "      <td>1.00</td>\n",
       "      <td>NaN</td>\n",
       "      <td>NaN</td>\n",
       "      <td>NaN</td>\n",
       "    </tr>\n",
       "    <tr>\n",
       "      <th>5</th>\n",
       "      <td>Tetris</td>\n",
       "      <td>GB</td>\n",
       "      <td>1989.0</td>\n",
       "      <td>Puzzle</td>\n",
       "      <td>23.20</td>\n",
       "      <td>2.26</td>\n",
       "      <td>4.22</td>\n",
       "      <td>0.58</td>\n",
       "      <td>NaN</td>\n",
       "      <td>NaN</td>\n",
       "      <td>NaN</td>\n",
       "    </tr>\n",
       "    <tr>\n",
       "      <th>9</th>\n",
       "      <td>Duck Hunt</td>\n",
       "      <td>NES</td>\n",
       "      <td>1984.0</td>\n",
       "      <td>Shooter</td>\n",
       "      <td>26.93</td>\n",
       "      <td>0.63</td>\n",
       "      <td>0.28</td>\n",
       "      <td>0.47</td>\n",
       "      <td>NaN</td>\n",
       "      <td>NaN</td>\n",
       "      <td>NaN</td>\n",
       "    </tr>\n",
       "    <tr>\n",
       "      <th>10</th>\n",
       "      <td>Nintendogs</td>\n",
       "      <td>DS</td>\n",
       "      <td>2005.0</td>\n",
       "      <td>Simulation</td>\n",
       "      <td>9.05</td>\n",
       "      <td>10.95</td>\n",
       "      <td>1.93</td>\n",
       "      <td>2.74</td>\n",
       "      <td>NaN</td>\n",
       "      <td>NaN</td>\n",
       "      <td>NaN</td>\n",
       "    </tr>\n",
       "  </tbody>\n",
       "</table>\n",
       "</div>"
      ],
      "text/plain": [
       "                        name platform  year_of_release         genre  \\\n",
       "1          Super Mario Bros.      NES           1985.0      Platform   \n",
       "4   Pokemon Red/Pokemon Blue       GB           1996.0  Role-Playing   \n",
       "5                     Tetris       GB           1989.0        Puzzle   \n",
       "9                  Duck Hunt      NES           1984.0       Shooter   \n",
       "10                Nintendogs       DS           2005.0    Simulation   \n",
       "\n",
       "    na_sales  eu_sales  jp_sales  other_sales  critic_score user_score rating  \n",
       "1      29.08      3.58      6.81         0.77           NaN        NaN    NaN  \n",
       "4      11.27      8.89     10.22         1.00           NaN        NaN    NaN  \n",
       "5      23.20      2.26      4.22         0.58           NaN        NaN    NaN  \n",
       "9      26.93      0.63      0.28         0.47           NaN        NaN    NaN  \n",
       "10      9.05     10.95      1.93         2.74           NaN        NaN    NaN  "
      ]
     },
     "execution_count": 78,
     "metadata": {},
     "output_type": "execute_result"
    }
   ],
   "source": [
    "df[df[\"critic_score\"].isna()].head()"
   ]
  },
  {
   "cell_type": "code",
   "execution_count": 79,
   "metadata": {},
   "outputs": [
    {
     "data": {
      "text/html": [
       "<div>\n",
       "<style scoped>\n",
       "    .dataframe tbody tr th:only-of-type {\n",
       "        vertical-align: middle;\n",
       "    }\n",
       "\n",
       "    .dataframe tbody tr th {\n",
       "        vertical-align: top;\n",
       "    }\n",
       "\n",
       "    .dataframe thead th {\n",
       "        text-align: right;\n",
       "    }\n",
       "</style>\n",
       "<table border=\"1\" class=\"dataframe\">\n",
       "  <thead>\n",
       "    <tr style=\"text-align: right;\">\n",
       "      <th></th>\n",
       "      <th>name</th>\n",
       "      <th>platform</th>\n",
       "      <th>year_of_release</th>\n",
       "      <th>genre</th>\n",
       "      <th>na_sales</th>\n",
       "      <th>eu_sales</th>\n",
       "      <th>jp_sales</th>\n",
       "      <th>other_sales</th>\n",
       "      <th>critic_score</th>\n",
       "      <th>user_score</th>\n",
       "      <th>rating</th>\n",
       "    </tr>\n",
       "  </thead>\n",
       "  <tbody>\n",
       "    <tr>\n",
       "      <th>1</th>\n",
       "      <td>Super Mario Bros.</td>\n",
       "      <td>NES</td>\n",
       "      <td>1985.0</td>\n",
       "      <td>Platform</td>\n",
       "      <td>29.08</td>\n",
       "      <td>3.58</td>\n",
       "      <td>6.81</td>\n",
       "      <td>0.77</td>\n",
       "      <td>NaN</td>\n",
       "      <td>NaN</td>\n",
       "      <td>NaN</td>\n",
       "    </tr>\n",
       "    <tr>\n",
       "      <th>4</th>\n",
       "      <td>Pokemon Red/Pokemon Blue</td>\n",
       "      <td>GB</td>\n",
       "      <td>1996.0</td>\n",
       "      <td>Role-Playing</td>\n",
       "      <td>11.27</td>\n",
       "      <td>8.89</td>\n",
       "      <td>10.22</td>\n",
       "      <td>1.00</td>\n",
       "      <td>NaN</td>\n",
       "      <td>NaN</td>\n",
       "      <td>NaN</td>\n",
       "    </tr>\n",
       "    <tr>\n",
       "      <th>5</th>\n",
       "      <td>Tetris</td>\n",
       "      <td>GB</td>\n",
       "      <td>1989.0</td>\n",
       "      <td>Puzzle</td>\n",
       "      <td>23.20</td>\n",
       "      <td>2.26</td>\n",
       "      <td>4.22</td>\n",
       "      <td>0.58</td>\n",
       "      <td>NaN</td>\n",
       "      <td>NaN</td>\n",
       "      <td>NaN</td>\n",
       "    </tr>\n",
       "    <tr>\n",
       "      <th>9</th>\n",
       "      <td>Duck Hunt</td>\n",
       "      <td>NES</td>\n",
       "      <td>1984.0</td>\n",
       "      <td>Shooter</td>\n",
       "      <td>26.93</td>\n",
       "      <td>0.63</td>\n",
       "      <td>0.28</td>\n",
       "      <td>0.47</td>\n",
       "      <td>NaN</td>\n",
       "      <td>NaN</td>\n",
       "      <td>NaN</td>\n",
       "    </tr>\n",
       "    <tr>\n",
       "      <th>10</th>\n",
       "      <td>Nintendogs</td>\n",
       "      <td>DS</td>\n",
       "      <td>2005.0</td>\n",
       "      <td>Simulation</td>\n",
       "      <td>9.05</td>\n",
       "      <td>10.95</td>\n",
       "      <td>1.93</td>\n",
       "      <td>2.74</td>\n",
       "      <td>NaN</td>\n",
       "      <td>NaN</td>\n",
       "      <td>NaN</td>\n",
       "    </tr>\n",
       "  </tbody>\n",
       "</table>\n",
       "</div>"
      ],
      "text/plain": [
       "                        name platform  year_of_release         genre  \\\n",
       "1          Super Mario Bros.      NES           1985.0      Platform   \n",
       "4   Pokemon Red/Pokemon Blue       GB           1996.0  Role-Playing   \n",
       "5                     Tetris       GB           1989.0        Puzzle   \n",
       "9                  Duck Hunt      NES           1984.0       Shooter   \n",
       "10                Nintendogs       DS           2005.0    Simulation   \n",
       "\n",
       "    na_sales  eu_sales  jp_sales  other_sales  critic_score user_score rating  \n",
       "1      29.08      3.58      6.81         0.77           NaN        NaN    NaN  \n",
       "4      11.27      8.89     10.22         1.00           NaN        NaN    NaN  \n",
       "5      23.20      2.26      4.22         0.58           NaN        NaN    NaN  \n",
       "9      26.93      0.63      0.28         0.47           NaN        NaN    NaN  \n",
       "10      9.05     10.95      1.93         2.74           NaN        NaN    NaN  "
      ]
     },
     "execution_count": 79,
     "metadata": {},
     "output_type": "execute_result"
    }
   ],
   "source": [
    "df[df[\"rating\"].isna()].head()"
   ]
  },
  {
   "cell_type": "code",
   "execution_count": 80,
   "metadata": {},
   "outputs": [
    {
     "data": {
      "text/html": [
       "<div>\n",
       "<style scoped>\n",
       "    .dataframe tbody tr th:only-of-type {\n",
       "        vertical-align: middle;\n",
       "    }\n",
       "\n",
       "    .dataframe tbody tr th {\n",
       "        vertical-align: top;\n",
       "    }\n",
       "\n",
       "    .dataframe thead th {\n",
       "        text-align: right;\n",
       "    }\n",
       "</style>\n",
       "<table border=\"1\" class=\"dataframe\">\n",
       "  <thead>\n",
       "    <tr style=\"text-align: right;\">\n",
       "      <th></th>\n",
       "      <th>name</th>\n",
       "      <th>platform</th>\n",
       "      <th>year_of_release</th>\n",
       "      <th>genre</th>\n",
       "      <th>na_sales</th>\n",
       "      <th>eu_sales</th>\n",
       "      <th>jp_sales</th>\n",
       "      <th>other_sales</th>\n",
       "      <th>critic_score</th>\n",
       "      <th>user_score</th>\n",
       "      <th>rating</th>\n",
       "    </tr>\n",
       "  </thead>\n",
       "  <tbody>\n",
       "    <tr>\n",
       "      <th>1</th>\n",
       "      <td>Super Mario Bros.</td>\n",
       "      <td>NES</td>\n",
       "      <td>1985.0</td>\n",
       "      <td>Platform</td>\n",
       "      <td>29.08</td>\n",
       "      <td>3.58</td>\n",
       "      <td>6.81</td>\n",
       "      <td>0.77</td>\n",
       "      <td>NaN</td>\n",
       "      <td>NaN</td>\n",
       "      <td>NaN</td>\n",
       "    </tr>\n",
       "    <tr>\n",
       "      <th>4</th>\n",
       "      <td>Pokemon Red/Pokemon Blue</td>\n",
       "      <td>GB</td>\n",
       "      <td>1996.0</td>\n",
       "      <td>Role-Playing</td>\n",
       "      <td>11.27</td>\n",
       "      <td>8.89</td>\n",
       "      <td>10.22</td>\n",
       "      <td>1.00</td>\n",
       "      <td>NaN</td>\n",
       "      <td>NaN</td>\n",
       "      <td>NaN</td>\n",
       "    </tr>\n",
       "    <tr>\n",
       "      <th>5</th>\n",
       "      <td>Tetris</td>\n",
       "      <td>GB</td>\n",
       "      <td>1989.0</td>\n",
       "      <td>Puzzle</td>\n",
       "      <td>23.20</td>\n",
       "      <td>2.26</td>\n",
       "      <td>4.22</td>\n",
       "      <td>0.58</td>\n",
       "      <td>NaN</td>\n",
       "      <td>NaN</td>\n",
       "      <td>NaN</td>\n",
       "    </tr>\n",
       "    <tr>\n",
       "      <th>9</th>\n",
       "      <td>Duck Hunt</td>\n",
       "      <td>NES</td>\n",
       "      <td>1984.0</td>\n",
       "      <td>Shooter</td>\n",
       "      <td>26.93</td>\n",
       "      <td>0.63</td>\n",
       "      <td>0.28</td>\n",
       "      <td>0.47</td>\n",
       "      <td>NaN</td>\n",
       "      <td>NaN</td>\n",
       "      <td>NaN</td>\n",
       "    </tr>\n",
       "    <tr>\n",
       "      <th>10</th>\n",
       "      <td>Nintendogs</td>\n",
       "      <td>DS</td>\n",
       "      <td>2005.0</td>\n",
       "      <td>Simulation</td>\n",
       "      <td>9.05</td>\n",
       "      <td>10.95</td>\n",
       "      <td>1.93</td>\n",
       "      <td>2.74</td>\n",
       "      <td>NaN</td>\n",
       "      <td>NaN</td>\n",
       "      <td>NaN</td>\n",
       "    </tr>\n",
       "  </tbody>\n",
       "</table>\n",
       "</div>"
      ],
      "text/plain": [
       "                        name platform  year_of_release         genre  \\\n",
       "1          Super Mario Bros.      NES           1985.0      Platform   \n",
       "4   Pokemon Red/Pokemon Blue       GB           1996.0  Role-Playing   \n",
       "5                     Tetris       GB           1989.0        Puzzle   \n",
       "9                  Duck Hunt      NES           1984.0       Shooter   \n",
       "10                Nintendogs       DS           2005.0    Simulation   \n",
       "\n",
       "    na_sales  eu_sales  jp_sales  other_sales  critic_score user_score rating  \n",
       "1      29.08      3.58      6.81         0.77           NaN        NaN    NaN  \n",
       "4      11.27      8.89     10.22         1.00           NaN        NaN    NaN  \n",
       "5      23.20      2.26      4.22         0.58           NaN        NaN    NaN  \n",
       "9      26.93      0.63      0.28         0.47           NaN        NaN    NaN  \n",
       "10      9.05     10.95      1.93         2.74           NaN        NaN    NaN  "
      ]
     },
     "execution_count": 80,
     "metadata": {},
     "output_type": "execute_result"
    }
   ],
   "source": [
    "df[df[\"user_score\"].isna()].head()"
   ]
  },
  {
   "cell_type": "code",
   "execution_count": 81,
   "metadata": {},
   "outputs": [
    {
     "data": {
      "text/html": [
       "<div>\n",
       "<style scoped>\n",
       "    .dataframe tbody tr th:only-of-type {\n",
       "        vertical-align: middle;\n",
       "    }\n",
       "\n",
       "    .dataframe tbody tr th {\n",
       "        vertical-align: top;\n",
       "    }\n",
       "\n",
       "    .dataframe thead th {\n",
       "        text-align: right;\n",
       "    }\n",
       "</style>\n",
       "<table border=\"1\" class=\"dataframe\">\n",
       "  <thead>\n",
       "    <tr style=\"text-align: right;\">\n",
       "      <th></th>\n",
       "      <th>name</th>\n",
       "      <th>platform</th>\n",
       "      <th>year_of_release</th>\n",
       "      <th>genre</th>\n",
       "      <th>na_sales</th>\n",
       "      <th>eu_sales</th>\n",
       "      <th>jp_sales</th>\n",
       "      <th>other_sales</th>\n",
       "      <th>critic_score</th>\n",
       "      <th>user_score</th>\n",
       "      <th>rating</th>\n",
       "    </tr>\n",
       "  </thead>\n",
       "  <tbody>\n",
       "    <tr>\n",
       "      <th>183</th>\n",
       "      <td>Madden NFL 2004</td>\n",
       "      <td>PS2</td>\n",
       "      <td>NaN</td>\n",
       "      <td>Sports</td>\n",
       "      <td>4.26</td>\n",
       "      <td>0.26</td>\n",
       "      <td>0.01</td>\n",
       "      <td>0.71</td>\n",
       "      <td>94.0</td>\n",
       "      <td>8.5</td>\n",
       "      <td>E</td>\n",
       "    </tr>\n",
       "    <tr>\n",
       "      <th>377</th>\n",
       "      <td>FIFA Soccer 2004</td>\n",
       "      <td>PS2</td>\n",
       "      <td>NaN</td>\n",
       "      <td>Sports</td>\n",
       "      <td>0.59</td>\n",
       "      <td>2.36</td>\n",
       "      <td>0.04</td>\n",
       "      <td>0.51</td>\n",
       "      <td>84.0</td>\n",
       "      <td>6.4</td>\n",
       "      <td>E</td>\n",
       "    </tr>\n",
       "    <tr>\n",
       "      <th>456</th>\n",
       "      <td>LEGO Batman: The Videogame</td>\n",
       "      <td>Wii</td>\n",
       "      <td>NaN</td>\n",
       "      <td>Action</td>\n",
       "      <td>1.80</td>\n",
       "      <td>0.97</td>\n",
       "      <td>0.00</td>\n",
       "      <td>0.29</td>\n",
       "      <td>74.0</td>\n",
       "      <td>7.9</td>\n",
       "      <td>E10+</td>\n",
       "    </tr>\n",
       "    <tr>\n",
       "      <th>475</th>\n",
       "      <td>wwe Smackdown vs. Raw 2006</td>\n",
       "      <td>PS2</td>\n",
       "      <td>NaN</td>\n",
       "      <td>Fighting</td>\n",
       "      <td>1.57</td>\n",
       "      <td>1.02</td>\n",
       "      <td>0.00</td>\n",
       "      <td>0.41</td>\n",
       "      <td>NaN</td>\n",
       "      <td>NaN</td>\n",
       "      <td>NaN</td>\n",
       "    </tr>\n",
       "    <tr>\n",
       "      <th>609</th>\n",
       "      <td>Space Invaders</td>\n",
       "      <td>2600</td>\n",
       "      <td>NaN</td>\n",
       "      <td>Shooter</td>\n",
       "      <td>2.36</td>\n",
       "      <td>0.14</td>\n",
       "      <td>0.00</td>\n",
       "      <td>0.03</td>\n",
       "      <td>NaN</td>\n",
       "      <td>NaN</td>\n",
       "      <td>NaN</td>\n",
       "    </tr>\n",
       "  </tbody>\n",
       "</table>\n",
       "</div>"
      ],
      "text/plain": [
       "                           name platform  year_of_release     genre  na_sales  \\\n",
       "183             Madden NFL 2004      PS2              NaN    Sports      4.26   \n",
       "377            FIFA Soccer 2004      PS2              NaN    Sports      0.59   \n",
       "456  LEGO Batman: The Videogame      Wii              NaN    Action      1.80   \n",
       "475  wwe Smackdown vs. Raw 2006      PS2              NaN  Fighting      1.57   \n",
       "609              Space Invaders     2600              NaN   Shooter      2.36   \n",
       "\n",
       "     eu_sales  jp_sales  other_sales  critic_score user_score rating  \n",
       "183      0.26      0.01         0.71          94.0        8.5      E  \n",
       "377      2.36      0.04         0.51          84.0        6.4      E  \n",
       "456      0.97      0.00         0.29          74.0        7.9   E10+  \n",
       "475      1.02      0.00         0.41           NaN        NaN    NaN  \n",
       "609      0.14      0.00         0.03           NaN        NaN    NaN  "
      ]
     },
     "execution_count": 81,
     "metadata": {},
     "output_type": "execute_result"
    }
   ],
   "source": [
    "df[df[\"year_of_release\"].isna()].head()"
   ]
  },
  {
   "cell_type": "code",
   "execution_count": 82,
   "metadata": {},
   "outputs": [
    {
     "data": {
      "text/html": [
       "<div>\n",
       "<style scoped>\n",
       "    .dataframe tbody tr th:only-of-type {\n",
       "        vertical-align: middle;\n",
       "    }\n",
       "\n",
       "    .dataframe tbody tr th {\n",
       "        vertical-align: top;\n",
       "    }\n",
       "\n",
       "    .dataframe thead th {\n",
       "        text-align: right;\n",
       "    }\n",
       "</style>\n",
       "<table border=\"1\" class=\"dataframe\">\n",
       "  <thead>\n",
       "    <tr style=\"text-align: right;\">\n",
       "      <th></th>\n",
       "      <th>name</th>\n",
       "      <th>platform</th>\n",
       "      <th>year_of_release</th>\n",
       "      <th>genre</th>\n",
       "      <th>na_sales</th>\n",
       "      <th>eu_sales</th>\n",
       "      <th>jp_sales</th>\n",
       "      <th>other_sales</th>\n",
       "      <th>critic_score</th>\n",
       "      <th>user_score</th>\n",
       "      <th>rating</th>\n",
       "    </tr>\n",
       "  </thead>\n",
       "  <tbody>\n",
       "    <tr>\n",
       "      <th>659</th>\n",
       "      <td>NaN</td>\n",
       "      <td>GEN</td>\n",
       "      <td>1993.0</td>\n",
       "      <td>NaN</td>\n",
       "      <td>1.78</td>\n",
       "      <td>0.53</td>\n",
       "      <td>0.00</td>\n",
       "      <td>0.08</td>\n",
       "      <td>NaN</td>\n",
       "      <td>NaN</td>\n",
       "      <td>NaN</td>\n",
       "    </tr>\n",
       "    <tr>\n",
       "      <th>14244</th>\n",
       "      <td>NaN</td>\n",
       "      <td>GEN</td>\n",
       "      <td>1993.0</td>\n",
       "      <td>NaN</td>\n",
       "      <td>0.00</td>\n",
       "      <td>0.00</td>\n",
       "      <td>0.03</td>\n",
       "      <td>0.00</td>\n",
       "      <td>NaN</td>\n",
       "      <td>NaN</td>\n",
       "      <td>NaN</td>\n",
       "    </tr>\n",
       "  </tbody>\n",
       "</table>\n",
       "</div>"
      ],
      "text/plain": [
       "      name platform  year_of_release genre  na_sales  eu_sales  jp_sales  \\\n",
       "659    NaN      GEN           1993.0   NaN      1.78      0.53      0.00   \n",
       "14244  NaN      GEN           1993.0   NaN      0.00      0.00      0.03   \n",
       "\n",
       "       other_sales  critic_score user_score rating  \n",
       "659           0.08           NaN        NaN    NaN  \n",
       "14244         0.00           NaN        NaN    NaN  "
      ]
     },
     "execution_count": 82,
     "metadata": {},
     "output_type": "execute_result"
    }
   ],
   "source": [
    "df[df[\"genre\"].isna()].head()"
   ]
  },
  {
   "cell_type": "code",
   "execution_count": 83,
   "metadata": {},
   "outputs": [
    {
     "data": {
      "text/html": [
       "<div>\n",
       "<style scoped>\n",
       "    .dataframe tbody tr th:only-of-type {\n",
       "        vertical-align: middle;\n",
       "    }\n",
       "\n",
       "    .dataframe tbody tr th {\n",
       "        vertical-align: top;\n",
       "    }\n",
       "\n",
       "    .dataframe thead th {\n",
       "        text-align: right;\n",
       "    }\n",
       "</style>\n",
       "<table border=\"1\" class=\"dataframe\">\n",
       "  <thead>\n",
       "    <tr style=\"text-align: right;\">\n",
       "      <th></th>\n",
       "      <th>name</th>\n",
       "      <th>platform</th>\n",
       "      <th>year_of_release</th>\n",
       "      <th>genre</th>\n",
       "      <th>na_sales</th>\n",
       "      <th>eu_sales</th>\n",
       "      <th>jp_sales</th>\n",
       "      <th>other_sales</th>\n",
       "      <th>critic_score</th>\n",
       "      <th>user_score</th>\n",
       "      <th>rating</th>\n",
       "    </tr>\n",
       "  </thead>\n",
       "  <tbody>\n",
       "    <tr>\n",
       "      <th>659</th>\n",
       "      <td>NaN</td>\n",
       "      <td>GEN</td>\n",
       "      <td>1993.0</td>\n",
       "      <td>NaN</td>\n",
       "      <td>1.78</td>\n",
       "      <td>0.53</td>\n",
       "      <td>0.00</td>\n",
       "      <td>0.08</td>\n",
       "      <td>NaN</td>\n",
       "      <td>NaN</td>\n",
       "      <td>NaN</td>\n",
       "    </tr>\n",
       "    <tr>\n",
       "      <th>14244</th>\n",
       "      <td>NaN</td>\n",
       "      <td>GEN</td>\n",
       "      <td>1993.0</td>\n",
       "      <td>NaN</td>\n",
       "      <td>0.00</td>\n",
       "      <td>0.00</td>\n",
       "      <td>0.03</td>\n",
       "      <td>0.00</td>\n",
       "      <td>NaN</td>\n",
       "      <td>NaN</td>\n",
       "      <td>NaN</td>\n",
       "    </tr>\n",
       "  </tbody>\n",
       "</table>\n",
       "</div>"
      ],
      "text/plain": [
       "      name platform  year_of_release genre  na_sales  eu_sales  jp_sales  \\\n",
       "659    NaN      GEN           1993.0   NaN      1.78      0.53      0.00   \n",
       "14244  NaN      GEN           1993.0   NaN      0.00      0.00      0.03   \n",
       "\n",
       "       other_sales  critic_score user_score rating  \n",
       "659           0.08           NaN        NaN    NaN  \n",
       "14244         0.00           NaN        NaN    NaN  "
      ]
     },
     "execution_count": 83,
     "metadata": {},
     "output_type": "execute_result"
    }
   ],
   "source": [
    "df[df[\"name\"].isna()].head()"
   ]
  },
  {
   "cell_type": "markdown",
   "metadata": {},
   "source": [
    "Получаем, что в рассматриваемых столбцах содержатся пропущенные данные типа `NaN`."
   ]
  },
  {
   "cell_type": "markdown",
   "metadata": {},
   "source": [
    "<div class=\"alert alert-success\"; style=\"border-left: 7px solid green\">\n",
    "<h3>✔ Комментарий ревьюера</h3>\n",
    "    \n",
    "Так ты конечно распределение пропусков не увидишь.\n",
    "\n",
    "В этом смысле полезно было бы посмотреть как пропуски распределены относительно других столбцов: регионов и платформ. Чтобы сгруппировать по региону, он должен быть столбцом. Это можно осуществить так: https://www.statology.org/pandas-wide-to-long/#:~:text=2021%20by%20Zach-,Pandas%3A%20How%20to%20Reshape%20DataFrame%20from%20Wide%20to%20Long,and%20col2%2C%20col3%2C%20etc.\n",
    "    \n",
    "Останется сгруппировать данные по столбцу с регионом, убрать нулевые продажи для каждого региона и посмотерть на долю пропусков для каждого    \n",
    "</div>    "
   ]
  },
  {
   "cell_type": "code",
   "execution_count": 84,
   "metadata": {},
   "outputs": [],
   "source": [
    "df_long = pd.melt(df, id_vars='name', value_vars=['na_sales', 'eu_sales', 'jp_sales'],\n",
    "             var_name='metric')"
   ]
  },
  {
   "cell_type": "code",
   "execution_count": 85,
   "metadata": {},
   "outputs": [
    {
     "data": {
      "text/html": [
       "<div>\n",
       "<style scoped>\n",
       "    .dataframe tbody tr th:only-of-type {\n",
       "        vertical-align: middle;\n",
       "    }\n",
       "\n",
       "    .dataframe tbody tr th {\n",
       "        vertical-align: top;\n",
       "    }\n",
       "\n",
       "    .dataframe thead th {\n",
       "        text-align: right;\n",
       "    }\n",
       "</style>\n",
       "<table border=\"1\" class=\"dataframe\">\n",
       "  <thead>\n",
       "    <tr style=\"text-align: right;\">\n",
       "      <th></th>\n",
       "      <th>name</th>\n",
       "      <th>metric</th>\n",
       "      <th>value</th>\n",
       "    </tr>\n",
       "  </thead>\n",
       "  <tbody>\n",
       "    <tr>\n",
       "      <th>0</th>\n",
       "      <td>Wii Sports</td>\n",
       "      <td>na_sales</td>\n",
       "      <td>41.36</td>\n",
       "    </tr>\n",
       "    <tr>\n",
       "      <th>1</th>\n",
       "      <td>Super Mario Bros.</td>\n",
       "      <td>na_sales</td>\n",
       "      <td>29.08</td>\n",
       "    </tr>\n",
       "    <tr>\n",
       "      <th>2</th>\n",
       "      <td>Mario Kart Wii</td>\n",
       "      <td>na_sales</td>\n",
       "      <td>15.68</td>\n",
       "    </tr>\n",
       "    <tr>\n",
       "      <th>3</th>\n",
       "      <td>Wii Sports Resort</td>\n",
       "      <td>na_sales</td>\n",
       "      <td>15.61</td>\n",
       "    </tr>\n",
       "    <tr>\n",
       "      <th>4</th>\n",
       "      <td>Pokemon Red/Pokemon Blue</td>\n",
       "      <td>na_sales</td>\n",
       "      <td>11.27</td>\n",
       "    </tr>\n",
       "    <tr>\n",
       "      <th>...</th>\n",
       "      <td>...</td>\n",
       "      <td>...</td>\n",
       "      <td>...</td>\n",
       "    </tr>\n",
       "    <tr>\n",
       "      <th>50140</th>\n",
       "      <td>Samurai Warriors: Sanada Maru</td>\n",
       "      <td>jp_sales</td>\n",
       "      <td>0.01</td>\n",
       "    </tr>\n",
       "    <tr>\n",
       "      <th>50141</th>\n",
       "      <td>LMA Manager 2007</td>\n",
       "      <td>jp_sales</td>\n",
       "      <td>0.00</td>\n",
       "    </tr>\n",
       "    <tr>\n",
       "      <th>50142</th>\n",
       "      <td>Haitaka no Psychedelica</td>\n",
       "      <td>jp_sales</td>\n",
       "      <td>0.01</td>\n",
       "    </tr>\n",
       "    <tr>\n",
       "      <th>50143</th>\n",
       "      <td>Spirits &amp; Spells</td>\n",
       "      <td>jp_sales</td>\n",
       "      <td>0.00</td>\n",
       "    </tr>\n",
       "    <tr>\n",
       "      <th>50144</th>\n",
       "      <td>Winning Post 8 2016</td>\n",
       "      <td>jp_sales</td>\n",
       "      <td>0.01</td>\n",
       "    </tr>\n",
       "  </tbody>\n",
       "</table>\n",
       "<p>50145 rows × 3 columns</p>\n",
       "</div>"
      ],
      "text/plain": [
       "                                name    metric  value\n",
       "0                         Wii Sports  na_sales  41.36\n",
       "1                  Super Mario Bros.  na_sales  29.08\n",
       "2                     Mario Kart Wii  na_sales  15.68\n",
       "3                  Wii Sports Resort  na_sales  15.61\n",
       "4           Pokemon Red/Pokemon Blue  na_sales  11.27\n",
       "...                              ...       ...    ...\n",
       "50140  Samurai Warriors: Sanada Maru  jp_sales   0.01\n",
       "50141               LMA Manager 2007  jp_sales   0.00\n",
       "50142        Haitaka no Psychedelica  jp_sales   0.01\n",
       "50143               Spirits & Spells  jp_sales   0.00\n",
       "50144            Winning Post 8 2016  jp_sales   0.01\n",
       "\n",
       "[50145 rows x 3 columns]"
      ]
     },
     "execution_count": 85,
     "metadata": {},
     "output_type": "execute_result"
    }
   ],
   "source": [
    "df_long"
   ]
  },
  {
   "cell_type": "markdown",
   "metadata": {},
   "source": [
    "<div class=\"alert alert-info\">\n",
    "Попробовал сделать по примеру по ссылке, но не понимаю, как теперь понять распределение пропусков по столбцам, ведь теперь у нас все значения столбцов в одном столбце `value`, или нам нужно просто общее количество пропусков во всех столбцах по регионам? Не понимаю, какой вывод нужно получить и поэтому не понимаю, какое распределение пропусков нужно показать.\n",
    "</div>"
   ]
  },
  {
   "cell_type": "markdown",
   "metadata": {},
   "source": [
    "<div class=\"alert alert-success\"; style=\"border-left: 7px solid green\">\n",
    "<h3>✔ Комментарий ревьюера V.2</h3>\n",
    "    \n",
    "Пропуски в столбцах с `user_score, critic_score, rating`, поэтому смотреть на распределение нужно для этих столбцов:\n",
    "</div>    \n"
   ]
  },
  {
   "cell_type": "code",
   "execution_count": 86,
   "metadata": {},
   "outputs": [
    {
     "data": {
      "text/html": [
       "<div>\n",
       "<style scoped>\n",
       "    .dataframe tbody tr th:only-of-type {\n",
       "        vertical-align: middle;\n",
       "    }\n",
       "\n",
       "    .dataframe tbody tr th {\n",
       "        vertical-align: top;\n",
       "    }\n",
       "\n",
       "    .dataframe thead th {\n",
       "        text-align: right;\n",
       "    }\n",
       "</style>\n",
       "<table border=\"1\" class=\"dataframe\">\n",
       "  <thead>\n",
       "    <tr style=\"text-align: right;\">\n",
       "      <th></th>\n",
       "      <th>rating</th>\n",
       "    </tr>\n",
       "    <tr>\n",
       "      <th>region</th>\n",
       "      <th></th>\n",
       "    </tr>\n",
       "  </thead>\n",
       "  <tbody>\n",
       "    <tr>\n",
       "      <th>eu_sales</th>\n",
       "      <td>0.279299</td>\n",
       "    </tr>\n",
       "    <tr>\n",
       "      <th>jp_sales</th>\n",
       "      <td>0.644735</td>\n",
       "    </tr>\n",
       "    <tr>\n",
       "      <th>na_sales</th>\n",
       "      <td>0.248546</td>\n",
       "    </tr>\n",
       "    <tr>\n",
       "      <th>other_sales</th>\n",
       "      <td>0.252324</td>\n",
       "    </tr>\n",
       "  </tbody>\n",
       "</table>\n",
       "</div>"
      ],
      "text/plain": [
       "               rating\n",
       "region               \n",
       "eu_sales     0.279299\n",
       "jp_sales     0.644735\n",
       "na_sales     0.248546\n",
       "other_sales  0.252324"
      ]
     },
     "execution_count": 86,
     "metadata": {},
     "output_type": "execute_result"
    }
   ],
   "source": [
    "# код ревьюера\n",
    "\n",
    "demo = pd.melt(df, id_vars='rating', value_vars=['na_sales', 'eu_sales', 'jp_sales','other_sales'],\n",
    "             var_name='region')[lambda x : x['value'] > 0]\n",
    "\n",
    "demo.groupby('region').agg({'rating' : lambda x : x.isna().mean()})"
   ]
  },
  {
   "cell_type": "markdown",
   "metadata": {},
   "source": [
    "<div class=\"alert alert-success\"; style=\"border-left: 7px solid green\">\n",
    "<h3>✔ Комментарий ревьюера V.2</h3>\n",
    "    \n",
    "Видно, что в Японии пропусков больше. Аналогично и с другими столбцами</div>    \n"
   ]
  },
  {
   "cell_type": "markdown",
   "metadata": {},
   "source": [
    "Пропуски в столбце `critic_score` означают, что критики не дали оценку компьютерным играм, поэтому стоит их оставить."
   ]
  },
  {
   "cell_type": "code",
   "execution_count": 87,
   "metadata": {},
   "outputs": [
    {
     "data": {
      "text/plain": [
       "rating\n",
       "E       3990\n",
       "T       2961\n",
       "M       1563\n",
       "E10+    1420\n",
       "EC         8\n",
       "K-A        3\n",
       "RP         3\n",
       "AO         1\n",
       "dtype: int64"
      ]
     },
     "execution_count": 87,
     "metadata": {},
     "output_type": "execute_result"
    }
   ],
   "source": [
    "df[~df[\"rating\"].isna()].value_counts(\"rating\")"
   ]
  },
  {
   "cell_type": "markdown",
   "metadata": {},
   "source": [
    "Для пропусков в столбце `rating` создадим отдельную категорию \"Unknown\", говорящую, что для таких игр возрастное ограничение не определено."
   ]
  },
  {
   "cell_type": "code",
   "execution_count": 88,
   "metadata": {},
   "outputs": [],
   "source": [
    "df[\"rating\"].fillna(\"Unknown\", inplace = True)"
   ]
  },
  {
   "cell_type": "markdown",
   "metadata": {},
   "source": [
    "<div class=\"alert alert-success\"; style=\"border-left: 7px solid green\">\n",
    "<h3>✔ Комментарий ревьюера</h3>\n",
    "    \n",
    "Хорошая замена, там можно будет увидеть распределение продаж для игр без рейтингов по регионам. А почему `fillna()` не делать?\n",
    "</div>    "
   ]
  },
  {
   "cell_type": "markdown",
   "metadata": {},
   "source": [
    "<div class=\"alert alert-info\">\n",
    "Использовал fillna().\n",
    "</div>"
   ]
  },
  {
   "cell_type": "code",
   "execution_count": 89,
   "metadata": {},
   "outputs": [
    {
     "data": {
      "text/plain": [
       "0"
      ]
     },
     "execution_count": 89,
     "metadata": {},
     "output_type": "execute_result"
    }
   ],
   "source": [
    "df[\"rating\"].isna().sum()"
   ]
  },
  {
   "cell_type": "code",
   "execution_count": 90,
   "metadata": {},
   "outputs": [
    {
     "data": {
      "text/plain": [
       "rating\n",
       "Unknown    6766\n",
       "E          3990\n",
       "T          2961\n",
       "M          1563\n",
       "E10+       1420\n",
       "EC            8\n",
       "K-A           3\n",
       "RP            3\n",
       "AO            1\n",
       "dtype: int64"
      ]
     },
     "execution_count": 90,
     "metadata": {},
     "output_type": "execute_result"
    }
   ],
   "source": [
    "df.value_counts(\"rating\")"
   ]
  },
  {
   "cell_type": "code",
   "execution_count": 91,
   "metadata": {},
   "outputs": [
    {
     "data": {
      "text/plain": [
       "user_score\n",
       "tbd    2424\n",
       "7.8     324\n",
       "8       290\n",
       "8.2     282\n",
       "8.3     254\n",
       "       ... \n",
       "1.5       2\n",
       "1.9       2\n",
       "0.2       2\n",
       "9.7       1\n",
       "0         1\n",
       "Length: 96, dtype: int64"
      ]
     },
     "execution_count": 91,
     "metadata": {},
     "output_type": "execute_result"
    }
   ],
   "source": [
    "df.value_counts(\"user_score\")"
   ]
  },
  {
   "cell_type": "markdown",
   "metadata": {},
   "source": [
    "Значение \"tbd\" в столбце `user_score` означает, что оценка пользователями данной игре еще не дана, поэтому будем считать, что это пропуски. "
   ]
  },
  {
   "cell_type": "code",
   "execution_count": 92,
   "metadata": {},
   "outputs": [
    {
     "data": {
      "text/plain": [
       "6701"
      ]
     },
     "execution_count": 92,
     "metadata": {},
     "output_type": "execute_result"
    }
   ],
   "source": [
    "df[\"user_score\"].isna().sum()"
   ]
  },
  {
   "cell_type": "code",
   "execution_count": 93,
   "metadata": {},
   "outputs": [],
   "source": [
    "import numpy as np"
   ]
  },
  {
   "cell_type": "code",
   "execution_count": 94,
   "metadata": {},
   "outputs": [],
   "source": [
    "df['user_score'] = pd.to_numeric(df['user_score'], errors='coerce')"
   ]
  },
  {
   "cell_type": "markdown",
   "metadata": {},
   "source": [
    "<div class=\"alert alert-success\"; style=\"border-left: 7px solid green\">\n",
    "<h3>✔ Комментарий ревьюера</h3>\n",
    "    \n",
    "С токи зрения когда такое можно сделать как `df['user_score'] = pd.to_numeric(df['user_score'], errors='coerce')` -- так всё, что не является числом, заменится на пропуск и приведётся нужный тип</div>    "
   ]
  },
  {
   "cell_type": "markdown",
   "metadata": {},
   "source": [
    "<div class=\"alert alert-info\">\n",
    "Спасибо за подсказку, так действительно удобнее.\n",
    "</div>"
   ]
  },
  {
   "cell_type": "code",
   "execution_count": 95,
   "metadata": {},
   "outputs": [
    {
     "data": {
      "text/plain": [
       "9125"
      ]
     },
     "execution_count": 95,
     "metadata": {},
     "output_type": "execute_result"
    }
   ],
   "source": [
    "df[\"user_score\"].isna().sum()"
   ]
  },
  {
   "cell_type": "markdown",
   "metadata": {},
   "source": [
    "Пропуски в столбце `user_score` говорят, о том, что определенным играм пользователи не поставили оценку, эту информацию важно сохранить."
   ]
  },
  {
   "cell_type": "markdown",
   "metadata": {},
   "source": [
    "Пропуски в столбах `year_of_release`, `genre`, `name` составляют менее 2% от датафрейма, поэтому можно их удалить."
   ]
  },
  {
   "cell_type": "code",
   "execution_count": 96,
   "metadata": {},
   "outputs": [],
   "source": [
    "df.dropna(axis=0, subset=[\"year_of_release\", \"genre\", \"name\"], inplace=True)"
   ]
  },
  {
   "cell_type": "code",
   "execution_count": 97,
   "metadata": {},
   "outputs": [
    {
     "data": {
      "text/html": [
       "<div>\n",
       "<style scoped>\n",
       "    .dataframe tbody tr th:only-of-type {\n",
       "        vertical-align: middle;\n",
       "    }\n",
       "\n",
       "    .dataframe tbody tr th {\n",
       "        vertical-align: top;\n",
       "    }\n",
       "\n",
       "    .dataframe thead th {\n",
       "        text-align: right;\n",
       "    }\n",
       "</style>\n",
       "<table border=\"1\" class=\"dataframe\">\n",
       "  <thead>\n",
       "    <tr style=\"text-align: right;\">\n",
       "      <th></th>\n",
       "      <th>0</th>\n",
       "    </tr>\n",
       "  </thead>\n",
       "  <tbody>\n",
       "    <tr>\n",
       "      <th>name</th>\n",
       "      <td>0.000000</td>\n",
       "    </tr>\n",
       "    <tr>\n",
       "      <th>platform</th>\n",
       "      <td>0.000000</td>\n",
       "    </tr>\n",
       "    <tr>\n",
       "      <th>year_of_release</th>\n",
       "      <td>0.000000</td>\n",
       "    </tr>\n",
       "    <tr>\n",
       "      <th>genre</th>\n",
       "      <td>0.000000</td>\n",
       "    </tr>\n",
       "    <tr>\n",
       "      <th>na_sales</th>\n",
       "      <td>0.000000</td>\n",
       "    </tr>\n",
       "    <tr>\n",
       "      <th>eu_sales</th>\n",
       "      <td>0.000000</td>\n",
       "    </tr>\n",
       "    <tr>\n",
       "      <th>jp_sales</th>\n",
       "      <td>0.000000</td>\n",
       "    </tr>\n",
       "    <tr>\n",
       "      <th>other_sales</th>\n",
       "      <td>0.000000</td>\n",
       "    </tr>\n",
       "    <tr>\n",
       "      <th>critic_score</th>\n",
       "      <td>51.453418</td>\n",
       "    </tr>\n",
       "    <tr>\n",
       "      <th>user_score</th>\n",
       "      <td>54.615665</td>\n",
       "    </tr>\n",
       "    <tr>\n",
       "      <th>rating</th>\n",
       "      <td>0.000000</td>\n",
       "    </tr>\n",
       "  </tbody>\n",
       "</table>\n",
       "</div>"
      ],
      "text/plain": [
       "                         0\n",
       "name              0.000000\n",
       "platform          0.000000\n",
       "year_of_release   0.000000\n",
       "genre             0.000000\n",
       "na_sales          0.000000\n",
       "eu_sales          0.000000\n",
       "jp_sales          0.000000\n",
       "other_sales       0.000000\n",
       "critic_score     51.453418\n",
       "user_score       54.615665\n",
       "rating            0.000000"
      ]
     },
     "execution_count": 97,
     "metadata": {},
     "output_type": "execute_result"
    }
   ],
   "source": [
    "(df.isna().mean() * 100).to_frame()"
   ]
  },
  {
   "cell_type": "markdown",
   "metadata": {},
   "source": [
    "Все пропуски в датафрейме обработаны."
   ]
  },
  {
   "cell_type": "markdown",
   "metadata": {},
   "source": [
    "### Изменение типов данных"
   ]
  },
  {
   "cell_type": "code",
   "execution_count": 98,
   "metadata": {
    "scrolled": true
   },
   "outputs": [
    {
     "name": "stdout",
     "output_type": "stream",
     "text": [
      "<class 'pandas.core.frame.DataFrame'>\n",
      "Int64Index: 16444 entries, 0 to 16714\n",
      "Data columns (total 11 columns):\n",
      " #   Column           Non-Null Count  Dtype  \n",
      "---  ------           --------------  -----  \n",
      " 0   name             16444 non-null  object \n",
      " 1   platform         16444 non-null  object \n",
      " 2   year_of_release  16444 non-null  float64\n",
      " 3   genre            16444 non-null  object \n",
      " 4   na_sales         16444 non-null  float64\n",
      " 5   eu_sales         16444 non-null  float64\n",
      " 6   jp_sales         16444 non-null  float64\n",
      " 7   other_sales      16444 non-null  float64\n",
      " 8   critic_score     7983 non-null   float64\n",
      " 9   user_score       7463 non-null   float64\n",
      " 10  rating           16444 non-null  object \n",
      "dtypes: float64(7), object(4)\n",
      "memory usage: 1.5+ MB\n"
     ]
    }
   ],
   "source": [
    "df.info()"
   ]
  },
  {
   "cell_type": "code",
   "execution_count": 99,
   "metadata": {},
   "outputs": [
    {
     "data": {
      "text/html": [
       "<div>\n",
       "<style scoped>\n",
       "    .dataframe tbody tr th:only-of-type {\n",
       "        vertical-align: middle;\n",
       "    }\n",
       "\n",
       "    .dataframe tbody tr th {\n",
       "        vertical-align: top;\n",
       "    }\n",
       "\n",
       "    .dataframe thead th {\n",
       "        text-align: right;\n",
       "    }\n",
       "</style>\n",
       "<table border=\"1\" class=\"dataframe\">\n",
       "  <thead>\n",
       "    <tr style=\"text-align: right;\">\n",
       "      <th></th>\n",
       "      <th>name</th>\n",
       "      <th>platform</th>\n",
       "      <th>year_of_release</th>\n",
       "      <th>genre</th>\n",
       "      <th>na_sales</th>\n",
       "      <th>eu_sales</th>\n",
       "      <th>jp_sales</th>\n",
       "      <th>other_sales</th>\n",
       "      <th>critic_score</th>\n",
       "      <th>user_score</th>\n",
       "      <th>rating</th>\n",
       "    </tr>\n",
       "  </thead>\n",
       "  <tbody>\n",
       "    <tr>\n",
       "      <th>0</th>\n",
       "      <td>Wii Sports</td>\n",
       "      <td>Wii</td>\n",
       "      <td>2006.0</td>\n",
       "      <td>Sports</td>\n",
       "      <td>41.36</td>\n",
       "      <td>28.96</td>\n",
       "      <td>3.77</td>\n",
       "      <td>8.45</td>\n",
       "      <td>76.0</td>\n",
       "      <td>8.0</td>\n",
       "      <td>E</td>\n",
       "    </tr>\n",
       "    <tr>\n",
       "      <th>1</th>\n",
       "      <td>Super Mario Bros.</td>\n",
       "      <td>NES</td>\n",
       "      <td>1985.0</td>\n",
       "      <td>Platform</td>\n",
       "      <td>29.08</td>\n",
       "      <td>3.58</td>\n",
       "      <td>6.81</td>\n",
       "      <td>0.77</td>\n",
       "      <td>NaN</td>\n",
       "      <td>NaN</td>\n",
       "      <td>Unknown</td>\n",
       "    </tr>\n",
       "    <tr>\n",
       "      <th>2</th>\n",
       "      <td>Mario Kart Wii</td>\n",
       "      <td>Wii</td>\n",
       "      <td>2008.0</td>\n",
       "      <td>Racing</td>\n",
       "      <td>15.68</td>\n",
       "      <td>12.76</td>\n",
       "      <td>3.79</td>\n",
       "      <td>3.29</td>\n",
       "      <td>82.0</td>\n",
       "      <td>8.3</td>\n",
       "      <td>E</td>\n",
       "    </tr>\n",
       "    <tr>\n",
       "      <th>3</th>\n",
       "      <td>Wii Sports Resort</td>\n",
       "      <td>Wii</td>\n",
       "      <td>2009.0</td>\n",
       "      <td>Sports</td>\n",
       "      <td>15.61</td>\n",
       "      <td>10.93</td>\n",
       "      <td>3.28</td>\n",
       "      <td>2.95</td>\n",
       "      <td>80.0</td>\n",
       "      <td>8.0</td>\n",
       "      <td>E</td>\n",
       "    </tr>\n",
       "    <tr>\n",
       "      <th>4</th>\n",
       "      <td>Pokemon Red/Pokemon Blue</td>\n",
       "      <td>GB</td>\n",
       "      <td>1996.0</td>\n",
       "      <td>Role-Playing</td>\n",
       "      <td>11.27</td>\n",
       "      <td>8.89</td>\n",
       "      <td>10.22</td>\n",
       "      <td>1.00</td>\n",
       "      <td>NaN</td>\n",
       "      <td>NaN</td>\n",
       "      <td>Unknown</td>\n",
       "    </tr>\n",
       "    <tr>\n",
       "      <th>5</th>\n",
       "      <td>Tetris</td>\n",
       "      <td>GB</td>\n",
       "      <td>1989.0</td>\n",
       "      <td>Puzzle</td>\n",
       "      <td>23.20</td>\n",
       "      <td>2.26</td>\n",
       "      <td>4.22</td>\n",
       "      <td>0.58</td>\n",
       "      <td>NaN</td>\n",
       "      <td>NaN</td>\n",
       "      <td>Unknown</td>\n",
       "    </tr>\n",
       "    <tr>\n",
       "      <th>6</th>\n",
       "      <td>New Super Mario Bros.</td>\n",
       "      <td>DS</td>\n",
       "      <td>2006.0</td>\n",
       "      <td>Platform</td>\n",
       "      <td>11.28</td>\n",
       "      <td>9.14</td>\n",
       "      <td>6.50</td>\n",
       "      <td>2.88</td>\n",
       "      <td>89.0</td>\n",
       "      <td>8.5</td>\n",
       "      <td>E</td>\n",
       "    </tr>\n",
       "    <tr>\n",
       "      <th>7</th>\n",
       "      <td>Wii Play</td>\n",
       "      <td>Wii</td>\n",
       "      <td>2006.0</td>\n",
       "      <td>Misc</td>\n",
       "      <td>13.96</td>\n",
       "      <td>9.18</td>\n",
       "      <td>2.93</td>\n",
       "      <td>2.84</td>\n",
       "      <td>58.0</td>\n",
       "      <td>6.6</td>\n",
       "      <td>E</td>\n",
       "    </tr>\n",
       "    <tr>\n",
       "      <th>8</th>\n",
       "      <td>New Super Mario Bros. Wii</td>\n",
       "      <td>Wii</td>\n",
       "      <td>2009.0</td>\n",
       "      <td>Platform</td>\n",
       "      <td>14.44</td>\n",
       "      <td>6.94</td>\n",
       "      <td>4.70</td>\n",
       "      <td>2.24</td>\n",
       "      <td>87.0</td>\n",
       "      <td>8.4</td>\n",
       "      <td>E</td>\n",
       "    </tr>\n",
       "    <tr>\n",
       "      <th>9</th>\n",
       "      <td>Duck Hunt</td>\n",
       "      <td>NES</td>\n",
       "      <td>1984.0</td>\n",
       "      <td>Shooter</td>\n",
       "      <td>26.93</td>\n",
       "      <td>0.63</td>\n",
       "      <td>0.28</td>\n",
       "      <td>0.47</td>\n",
       "      <td>NaN</td>\n",
       "      <td>NaN</td>\n",
       "      <td>Unknown</td>\n",
       "    </tr>\n",
       "  </tbody>\n",
       "</table>\n",
       "</div>"
      ],
      "text/plain": [
       "                        name platform  year_of_release         genre  \\\n",
       "0                 Wii Sports      Wii           2006.0        Sports   \n",
       "1          Super Mario Bros.      NES           1985.0      Platform   \n",
       "2             Mario Kart Wii      Wii           2008.0        Racing   \n",
       "3          Wii Sports Resort      Wii           2009.0        Sports   \n",
       "4   Pokemon Red/Pokemon Blue       GB           1996.0  Role-Playing   \n",
       "5                     Tetris       GB           1989.0        Puzzle   \n",
       "6      New Super Mario Bros.       DS           2006.0      Platform   \n",
       "7                   Wii Play      Wii           2006.0          Misc   \n",
       "8  New Super Mario Bros. Wii      Wii           2009.0      Platform   \n",
       "9                  Duck Hunt      NES           1984.0       Shooter   \n",
       "\n",
       "   na_sales  eu_sales  jp_sales  other_sales  critic_score  user_score  \\\n",
       "0     41.36     28.96      3.77         8.45          76.0         8.0   \n",
       "1     29.08      3.58      6.81         0.77           NaN         NaN   \n",
       "2     15.68     12.76      3.79         3.29          82.0         8.3   \n",
       "3     15.61     10.93      3.28         2.95          80.0         8.0   \n",
       "4     11.27      8.89     10.22         1.00           NaN         NaN   \n",
       "5     23.20      2.26      4.22         0.58           NaN         NaN   \n",
       "6     11.28      9.14      6.50         2.88          89.0         8.5   \n",
       "7     13.96      9.18      2.93         2.84          58.0         6.6   \n",
       "8     14.44      6.94      4.70         2.24          87.0         8.4   \n",
       "9     26.93      0.63      0.28         0.47           NaN         NaN   \n",
       "\n",
       "    rating  \n",
       "0        E  \n",
       "1  Unknown  \n",
       "2        E  \n",
       "3        E  \n",
       "4  Unknown  \n",
       "5  Unknown  \n",
       "6        E  \n",
       "7        E  \n",
       "8        E  \n",
       "9  Unknown  "
      ]
     },
     "execution_count": 99,
     "metadata": {},
     "output_type": "execute_result"
    }
   ],
   "source": [
    "df.head(10)"
   ]
  },
  {
   "cell_type": "markdown",
   "metadata": {},
   "source": [
    "Изменим тип данных в столбце `year_of_release` на целочисленный."
   ]
  },
  {
   "cell_type": "code",
   "execution_count": 100,
   "metadata": {},
   "outputs": [],
   "source": [
    "df[\"year_of_release\"] = df[\"year_of_release\"].astype(\"int\")"
   ]
  },
  {
   "cell_type": "code",
   "execution_count": 101,
   "metadata": {
    "scrolled": true
   },
   "outputs": [
    {
     "name": "stdout",
     "output_type": "stream",
     "text": [
      "<class 'pandas.core.frame.DataFrame'>\n",
      "Int64Index: 16444 entries, 0 to 16714\n",
      "Data columns (total 11 columns):\n",
      " #   Column           Non-Null Count  Dtype  \n",
      "---  ------           --------------  -----  \n",
      " 0   name             16444 non-null  object \n",
      " 1   platform         16444 non-null  object \n",
      " 2   year_of_release  16444 non-null  int64  \n",
      " 3   genre            16444 non-null  object \n",
      " 4   na_sales         16444 non-null  float64\n",
      " 5   eu_sales         16444 non-null  float64\n",
      " 6   jp_sales         16444 non-null  float64\n",
      " 7   other_sales      16444 non-null  float64\n",
      " 8   critic_score     7983 non-null   float64\n",
      " 9   user_score       7463 non-null   float64\n",
      " 10  rating           16444 non-null  object \n",
      "dtypes: float64(6), int64(1), object(4)\n",
      "memory usage: 1.5+ MB\n"
     ]
    }
   ],
   "source": [
    "df.info()"
   ]
  },
  {
   "cell_type": "code",
   "execution_count": 102,
   "metadata": {},
   "outputs": [
    {
     "data": {
      "text/html": [
       "<div>\n",
       "<style scoped>\n",
       "    .dataframe tbody tr th:only-of-type {\n",
       "        vertical-align: middle;\n",
       "    }\n",
       "\n",
       "    .dataframe tbody tr th {\n",
       "        vertical-align: top;\n",
       "    }\n",
       "\n",
       "    .dataframe thead th {\n",
       "        text-align: right;\n",
       "    }\n",
       "</style>\n",
       "<table border=\"1\" class=\"dataframe\">\n",
       "  <thead>\n",
       "    <tr style=\"text-align: right;\">\n",
       "      <th></th>\n",
       "      <th>name</th>\n",
       "      <th>platform</th>\n",
       "      <th>year_of_release</th>\n",
       "      <th>genre</th>\n",
       "      <th>na_sales</th>\n",
       "      <th>eu_sales</th>\n",
       "      <th>jp_sales</th>\n",
       "      <th>other_sales</th>\n",
       "      <th>critic_score</th>\n",
       "      <th>user_score</th>\n",
       "      <th>rating</th>\n",
       "    </tr>\n",
       "  </thead>\n",
       "  <tbody>\n",
       "    <tr>\n",
       "      <th>0</th>\n",
       "      <td>Wii Sports</td>\n",
       "      <td>Wii</td>\n",
       "      <td>2006</td>\n",
       "      <td>Sports</td>\n",
       "      <td>41.36</td>\n",
       "      <td>28.96</td>\n",
       "      <td>3.77</td>\n",
       "      <td>8.45</td>\n",
       "      <td>76.0</td>\n",
       "      <td>8.0</td>\n",
       "      <td>E</td>\n",
       "    </tr>\n",
       "    <tr>\n",
       "      <th>1</th>\n",
       "      <td>Super Mario Bros.</td>\n",
       "      <td>NES</td>\n",
       "      <td>1985</td>\n",
       "      <td>Platform</td>\n",
       "      <td>29.08</td>\n",
       "      <td>3.58</td>\n",
       "      <td>6.81</td>\n",
       "      <td>0.77</td>\n",
       "      <td>NaN</td>\n",
       "      <td>NaN</td>\n",
       "      <td>Unknown</td>\n",
       "    </tr>\n",
       "    <tr>\n",
       "      <th>2</th>\n",
       "      <td>Mario Kart Wii</td>\n",
       "      <td>Wii</td>\n",
       "      <td>2008</td>\n",
       "      <td>Racing</td>\n",
       "      <td>15.68</td>\n",
       "      <td>12.76</td>\n",
       "      <td>3.79</td>\n",
       "      <td>3.29</td>\n",
       "      <td>82.0</td>\n",
       "      <td>8.3</td>\n",
       "      <td>E</td>\n",
       "    </tr>\n",
       "    <tr>\n",
       "      <th>3</th>\n",
       "      <td>Wii Sports Resort</td>\n",
       "      <td>Wii</td>\n",
       "      <td>2009</td>\n",
       "      <td>Sports</td>\n",
       "      <td>15.61</td>\n",
       "      <td>10.93</td>\n",
       "      <td>3.28</td>\n",
       "      <td>2.95</td>\n",
       "      <td>80.0</td>\n",
       "      <td>8.0</td>\n",
       "      <td>E</td>\n",
       "    </tr>\n",
       "    <tr>\n",
       "      <th>4</th>\n",
       "      <td>Pokemon Red/Pokemon Blue</td>\n",
       "      <td>GB</td>\n",
       "      <td>1996</td>\n",
       "      <td>Role-Playing</td>\n",
       "      <td>11.27</td>\n",
       "      <td>8.89</td>\n",
       "      <td>10.22</td>\n",
       "      <td>1.00</td>\n",
       "      <td>NaN</td>\n",
       "      <td>NaN</td>\n",
       "      <td>Unknown</td>\n",
       "    </tr>\n",
       "    <tr>\n",
       "      <th>5</th>\n",
       "      <td>Tetris</td>\n",
       "      <td>GB</td>\n",
       "      <td>1989</td>\n",
       "      <td>Puzzle</td>\n",
       "      <td>23.20</td>\n",
       "      <td>2.26</td>\n",
       "      <td>4.22</td>\n",
       "      <td>0.58</td>\n",
       "      <td>NaN</td>\n",
       "      <td>NaN</td>\n",
       "      <td>Unknown</td>\n",
       "    </tr>\n",
       "    <tr>\n",
       "      <th>6</th>\n",
       "      <td>New Super Mario Bros.</td>\n",
       "      <td>DS</td>\n",
       "      <td>2006</td>\n",
       "      <td>Platform</td>\n",
       "      <td>11.28</td>\n",
       "      <td>9.14</td>\n",
       "      <td>6.50</td>\n",
       "      <td>2.88</td>\n",
       "      <td>89.0</td>\n",
       "      <td>8.5</td>\n",
       "      <td>E</td>\n",
       "    </tr>\n",
       "    <tr>\n",
       "      <th>7</th>\n",
       "      <td>Wii Play</td>\n",
       "      <td>Wii</td>\n",
       "      <td>2006</td>\n",
       "      <td>Misc</td>\n",
       "      <td>13.96</td>\n",
       "      <td>9.18</td>\n",
       "      <td>2.93</td>\n",
       "      <td>2.84</td>\n",
       "      <td>58.0</td>\n",
       "      <td>6.6</td>\n",
       "      <td>E</td>\n",
       "    </tr>\n",
       "    <tr>\n",
       "      <th>8</th>\n",
       "      <td>New Super Mario Bros. Wii</td>\n",
       "      <td>Wii</td>\n",
       "      <td>2009</td>\n",
       "      <td>Platform</td>\n",
       "      <td>14.44</td>\n",
       "      <td>6.94</td>\n",
       "      <td>4.70</td>\n",
       "      <td>2.24</td>\n",
       "      <td>87.0</td>\n",
       "      <td>8.4</td>\n",
       "      <td>E</td>\n",
       "    </tr>\n",
       "    <tr>\n",
       "      <th>9</th>\n",
       "      <td>Duck Hunt</td>\n",
       "      <td>NES</td>\n",
       "      <td>1984</td>\n",
       "      <td>Shooter</td>\n",
       "      <td>26.93</td>\n",
       "      <td>0.63</td>\n",
       "      <td>0.28</td>\n",
       "      <td>0.47</td>\n",
       "      <td>NaN</td>\n",
       "      <td>NaN</td>\n",
       "      <td>Unknown</td>\n",
       "    </tr>\n",
       "  </tbody>\n",
       "</table>\n",
       "</div>"
      ],
      "text/plain": [
       "                        name platform  year_of_release         genre  \\\n",
       "0                 Wii Sports      Wii             2006        Sports   \n",
       "1          Super Mario Bros.      NES             1985      Platform   \n",
       "2             Mario Kart Wii      Wii             2008        Racing   \n",
       "3          Wii Sports Resort      Wii             2009        Sports   \n",
       "4   Pokemon Red/Pokemon Blue       GB             1996  Role-Playing   \n",
       "5                     Tetris       GB             1989        Puzzle   \n",
       "6      New Super Mario Bros.       DS             2006      Platform   \n",
       "7                   Wii Play      Wii             2006          Misc   \n",
       "8  New Super Mario Bros. Wii      Wii             2009      Platform   \n",
       "9                  Duck Hunt      NES             1984       Shooter   \n",
       "\n",
       "   na_sales  eu_sales  jp_sales  other_sales  critic_score  user_score  \\\n",
       "0     41.36     28.96      3.77         8.45          76.0         8.0   \n",
       "1     29.08      3.58      6.81         0.77           NaN         NaN   \n",
       "2     15.68     12.76      3.79         3.29          82.0         8.3   \n",
       "3     15.61     10.93      3.28         2.95          80.0         8.0   \n",
       "4     11.27      8.89     10.22         1.00           NaN         NaN   \n",
       "5     23.20      2.26      4.22         0.58           NaN         NaN   \n",
       "6     11.28      9.14      6.50         2.88          89.0         8.5   \n",
       "7     13.96      9.18      2.93         2.84          58.0         6.6   \n",
       "8     14.44      6.94      4.70         2.24          87.0         8.4   \n",
       "9     26.93      0.63      0.28         0.47           NaN         NaN   \n",
       "\n",
       "    rating  \n",
       "0        E  \n",
       "1  Unknown  \n",
       "2        E  \n",
       "3        E  \n",
       "4  Unknown  \n",
       "5  Unknown  \n",
       "6        E  \n",
       "7        E  \n",
       "8        E  \n",
       "9  Unknown  "
      ]
     },
     "execution_count": 102,
     "metadata": {},
     "output_type": "execute_result"
    }
   ],
   "source": [
    "df.head(10)"
   ]
  },
  {
   "cell_type": "markdown",
   "metadata": {},
   "source": [
    "## Расчёты и добавление результатов в таблицу"
   ]
  },
  {
   "cell_type": "code",
   "execution_count": 103,
   "metadata": {},
   "outputs": [
    {
     "data": {
      "text/html": [
       "<div>\n",
       "<style scoped>\n",
       "    .dataframe tbody tr th:only-of-type {\n",
       "        vertical-align: middle;\n",
       "    }\n",
       "\n",
       "    .dataframe tbody tr th {\n",
       "        vertical-align: top;\n",
       "    }\n",
       "\n",
       "    .dataframe thead th {\n",
       "        text-align: right;\n",
       "    }\n",
       "</style>\n",
       "<table border=\"1\" class=\"dataframe\">\n",
       "  <thead>\n",
       "    <tr style=\"text-align: right;\">\n",
       "      <th></th>\n",
       "      <th>name</th>\n",
       "      <th>platform</th>\n",
       "      <th>year_of_release</th>\n",
       "      <th>genre</th>\n",
       "      <th>na_sales</th>\n",
       "      <th>eu_sales</th>\n",
       "      <th>jp_sales</th>\n",
       "      <th>other_sales</th>\n",
       "      <th>critic_score</th>\n",
       "      <th>user_score</th>\n",
       "      <th>rating</th>\n",
       "    </tr>\n",
       "  </thead>\n",
       "  <tbody>\n",
       "    <tr>\n",
       "      <th>0</th>\n",
       "      <td>Wii Sports</td>\n",
       "      <td>Wii</td>\n",
       "      <td>2006</td>\n",
       "      <td>Sports</td>\n",
       "      <td>41.36</td>\n",
       "      <td>28.96</td>\n",
       "      <td>3.77</td>\n",
       "      <td>8.45</td>\n",
       "      <td>76.0</td>\n",
       "      <td>8.0</td>\n",
       "      <td>E</td>\n",
       "    </tr>\n",
       "    <tr>\n",
       "      <th>1</th>\n",
       "      <td>Super Mario Bros.</td>\n",
       "      <td>NES</td>\n",
       "      <td>1985</td>\n",
       "      <td>Platform</td>\n",
       "      <td>29.08</td>\n",
       "      <td>3.58</td>\n",
       "      <td>6.81</td>\n",
       "      <td>0.77</td>\n",
       "      <td>NaN</td>\n",
       "      <td>NaN</td>\n",
       "      <td>Unknown</td>\n",
       "    </tr>\n",
       "    <tr>\n",
       "      <th>2</th>\n",
       "      <td>Mario Kart Wii</td>\n",
       "      <td>Wii</td>\n",
       "      <td>2008</td>\n",
       "      <td>Racing</td>\n",
       "      <td>15.68</td>\n",
       "      <td>12.76</td>\n",
       "      <td>3.79</td>\n",
       "      <td>3.29</td>\n",
       "      <td>82.0</td>\n",
       "      <td>8.3</td>\n",
       "      <td>E</td>\n",
       "    </tr>\n",
       "    <tr>\n",
       "      <th>3</th>\n",
       "      <td>Wii Sports Resort</td>\n",
       "      <td>Wii</td>\n",
       "      <td>2009</td>\n",
       "      <td>Sports</td>\n",
       "      <td>15.61</td>\n",
       "      <td>10.93</td>\n",
       "      <td>3.28</td>\n",
       "      <td>2.95</td>\n",
       "      <td>80.0</td>\n",
       "      <td>8.0</td>\n",
       "      <td>E</td>\n",
       "    </tr>\n",
       "    <tr>\n",
       "      <th>4</th>\n",
       "      <td>Pokemon Red/Pokemon Blue</td>\n",
       "      <td>GB</td>\n",
       "      <td>1996</td>\n",
       "      <td>Role-Playing</td>\n",
       "      <td>11.27</td>\n",
       "      <td>8.89</td>\n",
       "      <td>10.22</td>\n",
       "      <td>1.00</td>\n",
       "      <td>NaN</td>\n",
       "      <td>NaN</td>\n",
       "      <td>Unknown</td>\n",
       "    </tr>\n",
       "    <tr>\n",
       "      <th>...</th>\n",
       "      <td>...</td>\n",
       "      <td>...</td>\n",
       "      <td>...</td>\n",
       "      <td>...</td>\n",
       "      <td>...</td>\n",
       "      <td>...</td>\n",
       "      <td>...</td>\n",
       "      <td>...</td>\n",
       "      <td>...</td>\n",
       "      <td>...</td>\n",
       "      <td>...</td>\n",
       "    </tr>\n",
       "    <tr>\n",
       "      <th>16710</th>\n",
       "      <td>Samurai Warriors: Sanada Maru</td>\n",
       "      <td>PS3</td>\n",
       "      <td>2016</td>\n",
       "      <td>Action</td>\n",
       "      <td>0.00</td>\n",
       "      <td>0.00</td>\n",
       "      <td>0.01</td>\n",
       "      <td>0.00</td>\n",
       "      <td>NaN</td>\n",
       "      <td>NaN</td>\n",
       "      <td>Unknown</td>\n",
       "    </tr>\n",
       "    <tr>\n",
       "      <th>16711</th>\n",
       "      <td>LMA Manager 2007</td>\n",
       "      <td>X360</td>\n",
       "      <td>2006</td>\n",
       "      <td>Sports</td>\n",
       "      <td>0.00</td>\n",
       "      <td>0.01</td>\n",
       "      <td>0.00</td>\n",
       "      <td>0.00</td>\n",
       "      <td>NaN</td>\n",
       "      <td>NaN</td>\n",
       "      <td>Unknown</td>\n",
       "    </tr>\n",
       "    <tr>\n",
       "      <th>16712</th>\n",
       "      <td>Haitaka no Psychedelica</td>\n",
       "      <td>PSV</td>\n",
       "      <td>2016</td>\n",
       "      <td>Adventure</td>\n",
       "      <td>0.00</td>\n",
       "      <td>0.00</td>\n",
       "      <td>0.01</td>\n",
       "      <td>0.00</td>\n",
       "      <td>NaN</td>\n",
       "      <td>NaN</td>\n",
       "      <td>Unknown</td>\n",
       "    </tr>\n",
       "    <tr>\n",
       "      <th>16713</th>\n",
       "      <td>Spirits &amp; Spells</td>\n",
       "      <td>GBA</td>\n",
       "      <td>2003</td>\n",
       "      <td>Platform</td>\n",
       "      <td>0.01</td>\n",
       "      <td>0.00</td>\n",
       "      <td>0.00</td>\n",
       "      <td>0.00</td>\n",
       "      <td>NaN</td>\n",
       "      <td>NaN</td>\n",
       "      <td>Unknown</td>\n",
       "    </tr>\n",
       "    <tr>\n",
       "      <th>16714</th>\n",
       "      <td>Winning Post 8 2016</td>\n",
       "      <td>PSV</td>\n",
       "      <td>2016</td>\n",
       "      <td>Simulation</td>\n",
       "      <td>0.00</td>\n",
       "      <td>0.00</td>\n",
       "      <td>0.01</td>\n",
       "      <td>0.00</td>\n",
       "      <td>NaN</td>\n",
       "      <td>NaN</td>\n",
       "      <td>Unknown</td>\n",
       "    </tr>\n",
       "  </tbody>\n",
       "</table>\n",
       "<p>16444 rows × 11 columns</p>\n",
       "</div>"
      ],
      "text/plain": [
       "                                name platform  year_of_release         genre  \\\n",
       "0                         Wii Sports      Wii             2006        Sports   \n",
       "1                  Super Mario Bros.      NES             1985      Platform   \n",
       "2                     Mario Kart Wii      Wii             2008        Racing   \n",
       "3                  Wii Sports Resort      Wii             2009        Sports   \n",
       "4           Pokemon Red/Pokemon Blue       GB             1996  Role-Playing   \n",
       "...                              ...      ...              ...           ...   \n",
       "16710  Samurai Warriors: Sanada Maru      PS3             2016        Action   \n",
       "16711               LMA Manager 2007     X360             2006        Sports   \n",
       "16712        Haitaka no Psychedelica      PSV             2016     Adventure   \n",
       "16713               Spirits & Spells      GBA             2003      Platform   \n",
       "16714            Winning Post 8 2016      PSV             2016    Simulation   \n",
       "\n",
       "       na_sales  eu_sales  jp_sales  other_sales  critic_score  user_score  \\\n",
       "0         41.36     28.96      3.77         8.45          76.0         8.0   \n",
       "1         29.08      3.58      6.81         0.77           NaN         NaN   \n",
       "2         15.68     12.76      3.79         3.29          82.0         8.3   \n",
       "3         15.61     10.93      3.28         2.95          80.0         8.0   \n",
       "4         11.27      8.89     10.22         1.00           NaN         NaN   \n",
       "...         ...       ...       ...          ...           ...         ...   \n",
       "16710      0.00      0.00      0.01         0.00           NaN         NaN   \n",
       "16711      0.00      0.01      0.00         0.00           NaN         NaN   \n",
       "16712      0.00      0.00      0.01         0.00           NaN         NaN   \n",
       "16713      0.01      0.00      0.00         0.00           NaN         NaN   \n",
       "16714      0.00      0.00      0.01         0.00           NaN         NaN   \n",
       "\n",
       "        rating  \n",
       "0            E  \n",
       "1      Unknown  \n",
       "2            E  \n",
       "3            E  \n",
       "4      Unknown  \n",
       "...        ...  \n",
       "16710  Unknown  \n",
       "16711  Unknown  \n",
       "16712  Unknown  \n",
       "16713  Unknown  \n",
       "16714  Unknown  \n",
       "\n",
       "[16444 rows x 11 columns]"
      ]
     },
     "execution_count": 103,
     "metadata": {},
     "output_type": "execute_result"
    }
   ],
   "source": [
    "df"
   ]
  },
  {
   "cell_type": "markdown",
   "metadata": {},
   "source": [
    "Посчитаем суммарные продажи каждой игры во всех регионах и запишем их в столбец `total_sales`."
   ]
  },
  {
   "cell_type": "code",
   "execution_count": 104,
   "metadata": {},
   "outputs": [],
   "source": [
    "df[\"total_sales\"] = df[\"na_sales\"] + df[\"eu_sales\"] + df[\"jp_sales\"] + df[\"other_sales\"]"
   ]
  },
  {
   "cell_type": "code",
   "execution_count": 105,
   "metadata": {},
   "outputs": [
    {
     "data": {
      "text/html": [
       "<div>\n",
       "<style scoped>\n",
       "    .dataframe tbody tr th:only-of-type {\n",
       "        vertical-align: middle;\n",
       "    }\n",
       "\n",
       "    .dataframe tbody tr th {\n",
       "        vertical-align: top;\n",
       "    }\n",
       "\n",
       "    .dataframe thead th {\n",
       "        text-align: right;\n",
       "    }\n",
       "</style>\n",
       "<table border=\"1\" class=\"dataframe\">\n",
       "  <thead>\n",
       "    <tr style=\"text-align: right;\">\n",
       "      <th></th>\n",
       "      <th>name</th>\n",
       "      <th>platform</th>\n",
       "      <th>year_of_release</th>\n",
       "      <th>genre</th>\n",
       "      <th>na_sales</th>\n",
       "      <th>eu_sales</th>\n",
       "      <th>jp_sales</th>\n",
       "      <th>other_sales</th>\n",
       "      <th>critic_score</th>\n",
       "      <th>user_score</th>\n",
       "      <th>rating</th>\n",
       "      <th>total_sales</th>\n",
       "    </tr>\n",
       "  </thead>\n",
       "  <tbody>\n",
       "    <tr>\n",
       "      <th>0</th>\n",
       "      <td>Wii Sports</td>\n",
       "      <td>Wii</td>\n",
       "      <td>2006</td>\n",
       "      <td>Sports</td>\n",
       "      <td>41.36</td>\n",
       "      <td>28.96</td>\n",
       "      <td>3.77</td>\n",
       "      <td>8.45</td>\n",
       "      <td>76.0</td>\n",
       "      <td>8.0</td>\n",
       "      <td>E</td>\n",
       "      <td>82.54</td>\n",
       "    </tr>\n",
       "    <tr>\n",
       "      <th>1</th>\n",
       "      <td>Super Mario Bros.</td>\n",
       "      <td>NES</td>\n",
       "      <td>1985</td>\n",
       "      <td>Platform</td>\n",
       "      <td>29.08</td>\n",
       "      <td>3.58</td>\n",
       "      <td>6.81</td>\n",
       "      <td>0.77</td>\n",
       "      <td>NaN</td>\n",
       "      <td>NaN</td>\n",
       "      <td>Unknown</td>\n",
       "      <td>40.24</td>\n",
       "    </tr>\n",
       "    <tr>\n",
       "      <th>2</th>\n",
       "      <td>Mario Kart Wii</td>\n",
       "      <td>Wii</td>\n",
       "      <td>2008</td>\n",
       "      <td>Racing</td>\n",
       "      <td>15.68</td>\n",
       "      <td>12.76</td>\n",
       "      <td>3.79</td>\n",
       "      <td>3.29</td>\n",
       "      <td>82.0</td>\n",
       "      <td>8.3</td>\n",
       "      <td>E</td>\n",
       "      <td>35.52</td>\n",
       "    </tr>\n",
       "    <tr>\n",
       "      <th>3</th>\n",
       "      <td>Wii Sports Resort</td>\n",
       "      <td>Wii</td>\n",
       "      <td>2009</td>\n",
       "      <td>Sports</td>\n",
       "      <td>15.61</td>\n",
       "      <td>10.93</td>\n",
       "      <td>3.28</td>\n",
       "      <td>2.95</td>\n",
       "      <td>80.0</td>\n",
       "      <td>8.0</td>\n",
       "      <td>E</td>\n",
       "      <td>32.77</td>\n",
       "    </tr>\n",
       "    <tr>\n",
       "      <th>4</th>\n",
       "      <td>Pokemon Red/Pokemon Blue</td>\n",
       "      <td>GB</td>\n",
       "      <td>1996</td>\n",
       "      <td>Role-Playing</td>\n",
       "      <td>11.27</td>\n",
       "      <td>8.89</td>\n",
       "      <td>10.22</td>\n",
       "      <td>1.00</td>\n",
       "      <td>NaN</td>\n",
       "      <td>NaN</td>\n",
       "      <td>Unknown</td>\n",
       "      <td>31.38</td>\n",
       "    </tr>\n",
       "    <tr>\n",
       "      <th>...</th>\n",
       "      <td>...</td>\n",
       "      <td>...</td>\n",
       "      <td>...</td>\n",
       "      <td>...</td>\n",
       "      <td>...</td>\n",
       "      <td>...</td>\n",
       "      <td>...</td>\n",
       "      <td>...</td>\n",
       "      <td>...</td>\n",
       "      <td>...</td>\n",
       "      <td>...</td>\n",
       "      <td>...</td>\n",
       "    </tr>\n",
       "    <tr>\n",
       "      <th>16710</th>\n",
       "      <td>Samurai Warriors: Sanada Maru</td>\n",
       "      <td>PS3</td>\n",
       "      <td>2016</td>\n",
       "      <td>Action</td>\n",
       "      <td>0.00</td>\n",
       "      <td>0.00</td>\n",
       "      <td>0.01</td>\n",
       "      <td>0.00</td>\n",
       "      <td>NaN</td>\n",
       "      <td>NaN</td>\n",
       "      <td>Unknown</td>\n",
       "      <td>0.01</td>\n",
       "    </tr>\n",
       "    <tr>\n",
       "      <th>16711</th>\n",
       "      <td>LMA Manager 2007</td>\n",
       "      <td>X360</td>\n",
       "      <td>2006</td>\n",
       "      <td>Sports</td>\n",
       "      <td>0.00</td>\n",
       "      <td>0.01</td>\n",
       "      <td>0.00</td>\n",
       "      <td>0.00</td>\n",
       "      <td>NaN</td>\n",
       "      <td>NaN</td>\n",
       "      <td>Unknown</td>\n",
       "      <td>0.01</td>\n",
       "    </tr>\n",
       "    <tr>\n",
       "      <th>16712</th>\n",
       "      <td>Haitaka no Psychedelica</td>\n",
       "      <td>PSV</td>\n",
       "      <td>2016</td>\n",
       "      <td>Adventure</td>\n",
       "      <td>0.00</td>\n",
       "      <td>0.00</td>\n",
       "      <td>0.01</td>\n",
       "      <td>0.00</td>\n",
       "      <td>NaN</td>\n",
       "      <td>NaN</td>\n",
       "      <td>Unknown</td>\n",
       "      <td>0.01</td>\n",
       "    </tr>\n",
       "    <tr>\n",
       "      <th>16713</th>\n",
       "      <td>Spirits &amp; Spells</td>\n",
       "      <td>GBA</td>\n",
       "      <td>2003</td>\n",
       "      <td>Platform</td>\n",
       "      <td>0.01</td>\n",
       "      <td>0.00</td>\n",
       "      <td>0.00</td>\n",
       "      <td>0.00</td>\n",
       "      <td>NaN</td>\n",
       "      <td>NaN</td>\n",
       "      <td>Unknown</td>\n",
       "      <td>0.01</td>\n",
       "    </tr>\n",
       "    <tr>\n",
       "      <th>16714</th>\n",
       "      <td>Winning Post 8 2016</td>\n",
       "      <td>PSV</td>\n",
       "      <td>2016</td>\n",
       "      <td>Simulation</td>\n",
       "      <td>0.00</td>\n",
       "      <td>0.00</td>\n",
       "      <td>0.01</td>\n",
       "      <td>0.00</td>\n",
       "      <td>NaN</td>\n",
       "      <td>NaN</td>\n",
       "      <td>Unknown</td>\n",
       "      <td>0.01</td>\n",
       "    </tr>\n",
       "  </tbody>\n",
       "</table>\n",
       "<p>16444 rows × 12 columns</p>\n",
       "</div>"
      ],
      "text/plain": [
       "                                name platform  year_of_release         genre  \\\n",
       "0                         Wii Sports      Wii             2006        Sports   \n",
       "1                  Super Mario Bros.      NES             1985      Platform   \n",
       "2                     Mario Kart Wii      Wii             2008        Racing   \n",
       "3                  Wii Sports Resort      Wii             2009        Sports   \n",
       "4           Pokemon Red/Pokemon Blue       GB             1996  Role-Playing   \n",
       "...                              ...      ...              ...           ...   \n",
       "16710  Samurai Warriors: Sanada Maru      PS3             2016        Action   \n",
       "16711               LMA Manager 2007     X360             2006        Sports   \n",
       "16712        Haitaka no Psychedelica      PSV             2016     Adventure   \n",
       "16713               Spirits & Spells      GBA             2003      Platform   \n",
       "16714            Winning Post 8 2016      PSV             2016    Simulation   \n",
       "\n",
       "       na_sales  eu_sales  jp_sales  other_sales  critic_score  user_score  \\\n",
       "0         41.36     28.96      3.77         8.45          76.0         8.0   \n",
       "1         29.08      3.58      6.81         0.77           NaN         NaN   \n",
       "2         15.68     12.76      3.79         3.29          82.0         8.3   \n",
       "3         15.61     10.93      3.28         2.95          80.0         8.0   \n",
       "4         11.27      8.89     10.22         1.00           NaN         NaN   \n",
       "...         ...       ...       ...          ...           ...         ...   \n",
       "16710      0.00      0.00      0.01         0.00           NaN         NaN   \n",
       "16711      0.00      0.01      0.00         0.00           NaN         NaN   \n",
       "16712      0.00      0.00      0.01         0.00           NaN         NaN   \n",
       "16713      0.01      0.00      0.00         0.00           NaN         NaN   \n",
       "16714      0.00      0.00      0.01         0.00           NaN         NaN   \n",
       "\n",
       "        rating  total_sales  \n",
       "0            E        82.54  \n",
       "1      Unknown        40.24  \n",
       "2            E        35.52  \n",
       "3            E        32.77  \n",
       "4      Unknown        31.38  \n",
       "...        ...          ...  \n",
       "16710  Unknown         0.01  \n",
       "16711  Unknown         0.01  \n",
       "16712  Unknown         0.01  \n",
       "16713  Unknown         0.01  \n",
       "16714  Unknown         0.01  \n",
       "\n",
       "[16444 rows x 12 columns]"
      ]
     },
     "execution_count": 105,
     "metadata": {},
     "output_type": "execute_result"
    }
   ],
   "source": [
    "df"
   ]
  },
  {
   "cell_type": "markdown",
   "metadata": {},
   "source": [
    "<div class=\"alert alert-success\"; style=\"border-left: 7px solid green\">\n",
    "<h3>✔ Комментарий ревьюера</h3>\n",
    "    \n",
    "👍</div>    "
   ]
  },
  {
   "cell_type": "markdown",
   "metadata": {},
   "source": [
    "## Исследовательский анализ данных"
   ]
  },
  {
   "cell_type": "markdown",
   "metadata": {},
   "source": [
    "Посмотрим, сколько игр выпускалось в разные годы."
   ]
  },
  {
   "cell_type": "code",
   "execution_count": 106,
   "metadata": {},
   "outputs": [],
   "source": [
    "df_years = df.pivot_table(\n",
    "    index=\"year_of_release\", values=\"total_sales\", aggfunc=\"count\"\n",
    ").sort_values(\"year_of_release\", ascending=True)"
   ]
  },
  {
   "cell_type": "markdown",
   "metadata": {},
   "source": [
    "<div class=\"alert alert-success\"; style=\"border-left: 7px solid green\">\n",
    "<h3>✔ Комментарий ревьюера</h3>\n",
    "    \n",
    "Стоит чуть информативнее называть переменные. И, согласно принятому стилю всё же должео быть `df_1`</div>    "
   ]
  },
  {
   "cell_type": "markdown",
   "metadata": {},
   "source": [
    "<div class=\"alert alert-info\">\n",
    "Далее сделал названия всех датафреймов информативнее.\n",
    "</div>"
   ]
  },
  {
   "cell_type": "markdown",
   "metadata": {},
   "source": [
    "<div class=\"alert alert-success\"; style=\"border-left: 7px solid green\">\n",
    "<h3>✔ Комментарий ревьюера V.2</h3>\n",
    "    \n",
    "👍</div>    \n"
   ]
  },
  {
   "cell_type": "code",
   "execution_count": 107,
   "metadata": {},
   "outputs": [
    {
     "data": {
      "text/html": [
       "<div>\n",
       "<style scoped>\n",
       "    .dataframe tbody tr th:only-of-type {\n",
       "        vertical-align: middle;\n",
       "    }\n",
       "\n",
       "    .dataframe tbody tr th {\n",
       "        vertical-align: top;\n",
       "    }\n",
       "\n",
       "    .dataframe thead th {\n",
       "        text-align: right;\n",
       "    }\n",
       "</style>\n",
       "<table border=\"1\" class=\"dataframe\">\n",
       "  <thead>\n",
       "    <tr style=\"text-align: right;\">\n",
       "      <th></th>\n",
       "      <th>total_sales</th>\n",
       "    </tr>\n",
       "    <tr>\n",
       "      <th>year_of_release</th>\n",
       "      <th></th>\n",
       "    </tr>\n",
       "  </thead>\n",
       "  <tbody>\n",
       "    <tr>\n",
       "      <th>1980</th>\n",
       "      <td>9</td>\n",
       "    </tr>\n",
       "    <tr>\n",
       "      <th>1981</th>\n",
       "      <td>46</td>\n",
       "    </tr>\n",
       "    <tr>\n",
       "      <th>1982</th>\n",
       "      <td>36</td>\n",
       "    </tr>\n",
       "    <tr>\n",
       "      <th>1983</th>\n",
       "      <td>17</td>\n",
       "    </tr>\n",
       "    <tr>\n",
       "      <th>1984</th>\n",
       "      <td>14</td>\n",
       "    </tr>\n",
       "    <tr>\n",
       "      <th>1985</th>\n",
       "      <td>14</td>\n",
       "    </tr>\n",
       "    <tr>\n",
       "      <th>1986</th>\n",
       "      <td>21</td>\n",
       "    </tr>\n",
       "    <tr>\n",
       "      <th>1987</th>\n",
       "      <td>16</td>\n",
       "    </tr>\n",
       "    <tr>\n",
       "      <th>1988</th>\n",
       "      <td>15</td>\n",
       "    </tr>\n",
       "    <tr>\n",
       "      <th>1989</th>\n",
       "      <td>17</td>\n",
       "    </tr>\n",
       "    <tr>\n",
       "      <th>1990</th>\n",
       "      <td>16</td>\n",
       "    </tr>\n",
       "    <tr>\n",
       "      <th>1991</th>\n",
       "      <td>41</td>\n",
       "    </tr>\n",
       "    <tr>\n",
       "      <th>1992</th>\n",
       "      <td>43</td>\n",
       "    </tr>\n",
       "    <tr>\n",
       "      <th>1993</th>\n",
       "      <td>60</td>\n",
       "    </tr>\n",
       "    <tr>\n",
       "      <th>1994</th>\n",
       "      <td>121</td>\n",
       "    </tr>\n",
       "    <tr>\n",
       "      <th>1995</th>\n",
       "      <td>219</td>\n",
       "    </tr>\n",
       "    <tr>\n",
       "      <th>1996</th>\n",
       "      <td>263</td>\n",
       "    </tr>\n",
       "    <tr>\n",
       "      <th>1997</th>\n",
       "      <td>289</td>\n",
       "    </tr>\n",
       "    <tr>\n",
       "      <th>1998</th>\n",
       "      <td>379</td>\n",
       "    </tr>\n",
       "    <tr>\n",
       "      <th>1999</th>\n",
       "      <td>338</td>\n",
       "    </tr>\n",
       "    <tr>\n",
       "      <th>2000</th>\n",
       "      <td>350</td>\n",
       "    </tr>\n",
       "    <tr>\n",
       "      <th>2001</th>\n",
       "      <td>482</td>\n",
       "    </tr>\n",
       "    <tr>\n",
       "      <th>2002</th>\n",
       "      <td>829</td>\n",
       "    </tr>\n",
       "    <tr>\n",
       "      <th>2003</th>\n",
       "      <td>775</td>\n",
       "    </tr>\n",
       "    <tr>\n",
       "      <th>2004</th>\n",
       "      <td>762</td>\n",
       "    </tr>\n",
       "    <tr>\n",
       "      <th>2005</th>\n",
       "      <td>939</td>\n",
       "    </tr>\n",
       "    <tr>\n",
       "      <th>2006</th>\n",
       "      <td>1006</td>\n",
       "    </tr>\n",
       "    <tr>\n",
       "      <th>2007</th>\n",
       "      <td>1197</td>\n",
       "    </tr>\n",
       "    <tr>\n",
       "      <th>2008</th>\n",
       "      <td>1427</td>\n",
       "    </tr>\n",
       "    <tr>\n",
       "      <th>2009</th>\n",
       "      <td>1426</td>\n",
       "    </tr>\n",
       "    <tr>\n",
       "      <th>2010</th>\n",
       "      <td>1255</td>\n",
       "    </tr>\n",
       "    <tr>\n",
       "      <th>2011</th>\n",
       "      <td>1136</td>\n",
       "    </tr>\n",
       "    <tr>\n",
       "      <th>2012</th>\n",
       "      <td>653</td>\n",
       "    </tr>\n",
       "    <tr>\n",
       "      <th>2013</th>\n",
       "      <td>544</td>\n",
       "    </tr>\n",
       "    <tr>\n",
       "      <th>2014</th>\n",
       "      <td>581</td>\n",
       "    </tr>\n",
       "    <tr>\n",
       "      <th>2015</th>\n",
       "      <td>606</td>\n",
       "    </tr>\n",
       "    <tr>\n",
       "      <th>2016</th>\n",
       "      <td>502</td>\n",
       "    </tr>\n",
       "  </tbody>\n",
       "</table>\n",
       "</div>"
      ],
      "text/plain": [
       "                 total_sales\n",
       "year_of_release             \n",
       "1980                       9\n",
       "1981                      46\n",
       "1982                      36\n",
       "1983                      17\n",
       "1984                      14\n",
       "1985                      14\n",
       "1986                      21\n",
       "1987                      16\n",
       "1988                      15\n",
       "1989                      17\n",
       "1990                      16\n",
       "1991                      41\n",
       "1992                      43\n",
       "1993                      60\n",
       "1994                     121\n",
       "1995                     219\n",
       "1996                     263\n",
       "1997                     289\n",
       "1998                     379\n",
       "1999                     338\n",
       "2000                     350\n",
       "2001                     482\n",
       "2002                     829\n",
       "2003                     775\n",
       "2004                     762\n",
       "2005                     939\n",
       "2006                    1006\n",
       "2007                    1197\n",
       "2008                    1427\n",
       "2009                    1426\n",
       "2010                    1255\n",
       "2011                    1136\n",
       "2012                     653\n",
       "2013                     544\n",
       "2014                     581\n",
       "2015                     606\n",
       "2016                     502"
      ]
     },
     "execution_count": 107,
     "metadata": {},
     "output_type": "execute_result"
    }
   ],
   "source": [
    "df_years"
   ]
  },
  {
   "cell_type": "markdown",
   "metadata": {},
   "source": [
    "<div class=\"alert alert-danger\"; style=\"border-left: 7px solid red\">\n",
    "<h3>👀 Комментарий ревьюера</h3>\n",
    "    \n",
    "Тут нужно на число игр смотреть, а не на суммы продаж, суммы могут зависеть от каких-то очень успешных игр в год:\n",
    "    \n",
    "> Посмотрите, сколько игр выпускалось в разные годы. Важны ли данные за все периоды?\n",
    "</div>   "
   ]
  },
  {
   "cell_type": "markdown",
   "metadata": {},
   "source": [
    "<div class=\"alert alert-success\"; style=\"border-left: 7px solid green\">\n",
    "<h3>✔ Комментарий ревьюера</h3>\n",
    "    \n",
    "Чтобы было лучше видно каждый отдельный год, можно сделать что-то такое:</div>    \n"
   ]
  },
  {
   "cell_type": "markdown",
   "metadata": {},
   "source": [
    "<div class=\"alert alert-info\">\n",
    "Исправил.\n",
    "</div>"
   ]
  },
  {
   "cell_type": "markdown",
   "metadata": {},
   "source": [
    "<div class=\"alert alert-success\"; style=\"border-left: 7px solid green\">\n",
    "<h3>✔ Комментарий ревьюера V.2</h3>\n",
    "    \n",
    "👍</div>    \n"
   ]
  },
  {
   "cell_type": "code",
   "execution_count": 108,
   "metadata": {},
   "outputs": [
    {
     "data": {
      "image/png": "[encoded data removed]",
      "text/plain": [
       "<Figure size 2850x900 with 1 Axes>"
      ]
     },
     "metadata": {
      "needs_background": "light"
     },
     "output_type": "display_data"
    }
   ],
   "source": [
    "# код ревьюера\n",
    "import matplotlib.pyplot as plt\n",
    "import matplotlib.ticker as ticker\n",
    "\n",
    "\n",
    "ax = df_years \\\n",
    "    .plot(figsize=(19, 6), rot=0, legend=False, fontsize=10)\n",
    "\n",
    "ax.set_title(\"График для объемов выпуска игр в разные годы\" + \"\\n\",\n",
    "            fontsize=22,\n",
    "            color=\"SteelBlue\")\n",
    "\n",
    "plt.gcf().set_dpi(150)\n",
    "ax.xaxis.set_major_locator(ticker.MultipleLocator(2))\n",
    "ax.xaxis.set_minor_locator(ticker.MultipleLocator(1))\n",
    "plt.grid()"
   ]
  },
  {
   "cell_type": "markdown",
   "metadata": {},
   "source": [
    "Из построенного графика видно, что после 2013 года объем выпуска игр стабилизировался и оставался далее примерно на одном уровне, поэтому для дальнейшего анализа важен именно этот отрезок времени."
   ]
  },
  {
   "cell_type": "markdown",
   "metadata": {},
   "source": [
    "<div class=\"alert alert-success\"; style=\"border-left: 7px solid green\">\n",
    "<h3>✔ Комментарий ревьюера V.2</h3>\n",
    "    \n",
    "Спад связан с тем, что за 2016 год данные неполные. Тут, как и в прошлый раз, основное изменение наблюдется после 2012 года</div>    \n"
   ]
  },
  {
   "cell_type": "markdown",
   "metadata": {},
   "source": [
    "Выберем пять платформ с наибольшими суммарными продажами."
   ]
  },
  {
   "cell_type": "code",
   "execution_count": 109,
   "metadata": {},
   "outputs": [],
   "source": [
    "df_platform = (\n",
    "    df.pivot_table(index=\"platform\", values=\"total_sales\", aggfunc=\"sum\")\n",
    "    .sort_values(\"total_sales\", ascending=False)\n",
    "    .head()\n",
    ")"
   ]
  },
  {
   "cell_type": "code",
   "execution_count": 110,
   "metadata": {
    "scrolled": true
   },
   "outputs": [
    {
     "data": {
      "text/html": [
       "<div>\n",
       "<style scoped>\n",
       "    .dataframe tbody tr th:only-of-type {\n",
       "        vertical-align: middle;\n",
       "    }\n",
       "\n",
       "    .dataframe tbody tr th {\n",
       "        vertical-align: top;\n",
       "    }\n",
       "\n",
       "    .dataframe thead th {\n",
       "        text-align: right;\n",
       "    }\n",
       "</style>\n",
       "<table border=\"1\" class=\"dataframe\">\n",
       "  <thead>\n",
       "    <tr style=\"text-align: right;\">\n",
       "      <th></th>\n",
       "      <th>total_sales</th>\n",
       "    </tr>\n",
       "    <tr>\n",
       "      <th>platform</th>\n",
       "      <th></th>\n",
       "    </tr>\n",
       "  </thead>\n",
       "  <tbody>\n",
       "    <tr>\n",
       "      <th>PS2</th>\n",
       "      <td>1233.56</td>\n",
       "    </tr>\n",
       "    <tr>\n",
       "      <th>X360</th>\n",
       "      <td>961.24</td>\n",
       "    </tr>\n",
       "    <tr>\n",
       "      <th>PS3</th>\n",
       "      <td>931.34</td>\n",
       "    </tr>\n",
       "    <tr>\n",
       "      <th>Wii</th>\n",
       "      <td>891.18</td>\n",
       "    </tr>\n",
       "    <tr>\n",
       "      <th>DS</th>\n",
       "      <td>802.78</td>\n",
       "    </tr>\n",
       "  </tbody>\n",
       "</table>\n",
       "</div>"
      ],
      "text/plain": [
       "          total_sales\n",
       "platform             \n",
       "PS2           1233.56\n",
       "X360           961.24\n",
       "PS3            931.34\n",
       "Wii            891.18\n",
       "DS             802.78"
      ]
     },
     "execution_count": 110,
     "metadata": {},
     "output_type": "execute_result"
    }
   ],
   "source": [
    "df_platform"
   ]
  },
  {
   "cell_type": "code",
   "execution_count": 111,
   "metadata": {},
   "outputs": [],
   "source": [
    "def pass_value(df, title, kind):\n",
    "    (\n",
    "        df.plot(\n",
    "            kind=kind, figsize=(19, 6), rot=0, legend=False, fontsize=10\n",
    "        ).set_title(\n",
    "            title + \"\\n\",\n",
    "            fontsize=22,\n",
    "            color=\"SteelBlue\",\n",
    "        )\n",
    "    )"
   ]
  },
  {
   "cell_type": "code",
   "execution_count": 112,
   "metadata": {},
   "outputs": [
    {
     "data": {
      "image/png": "[encoded data removed]",
      "text/plain": [
       "<Figure size 1368x432 with 1 Axes>"
      ]
     },
     "metadata": {
      "needs_background": "light"
     },
     "output_type": "display_data"
    }
   ],
   "source": [
    "pass_value(df_platform, \"Топ-5 платформ с наибольшими суммарными продажами\", \"bar\")"
   ]
  },
  {
   "cell_type": "markdown",
   "metadata": {},
   "source": [
    "Построим распределение продаж игр для данных платформ по годам."
   ]
  },
  {
   "cell_type": "code",
   "execution_count": 113,
   "metadata": {},
   "outputs": [],
   "source": [
    "top_platform_df = df.query('platform == [\"PS2\", \"X360\", \"PS3\", \"Wii\", \"DS\"]')"
   ]
  },
  {
   "cell_type": "code",
   "execution_count": 114,
   "metadata": {},
   "outputs": [
    {
     "data": {
      "text/html": [
       "<div>\n",
       "<style scoped>\n",
       "    .dataframe tbody tr th:only-of-type {\n",
       "        vertical-align: middle;\n",
       "    }\n",
       "\n",
       "    .dataframe tbody tr th {\n",
       "        vertical-align: top;\n",
       "    }\n",
       "\n",
       "    .dataframe thead th {\n",
       "        text-align: right;\n",
       "    }\n",
       "</style>\n",
       "<table border=\"1\" class=\"dataframe\">\n",
       "  <thead>\n",
       "    <tr style=\"text-align: right;\">\n",
       "      <th></th>\n",
       "      <th>name</th>\n",
       "      <th>platform</th>\n",
       "      <th>year_of_release</th>\n",
       "      <th>genre</th>\n",
       "      <th>na_sales</th>\n",
       "      <th>eu_sales</th>\n",
       "      <th>jp_sales</th>\n",
       "      <th>other_sales</th>\n",
       "      <th>critic_score</th>\n",
       "      <th>user_score</th>\n",
       "      <th>rating</th>\n",
       "      <th>total_sales</th>\n",
       "    </tr>\n",
       "  </thead>\n",
       "  <tbody>\n",
       "    <tr>\n",
       "      <th>0</th>\n",
       "      <td>Wii Sports</td>\n",
       "      <td>Wii</td>\n",
       "      <td>2006</td>\n",
       "      <td>Sports</td>\n",
       "      <td>41.36</td>\n",
       "      <td>28.96</td>\n",
       "      <td>3.77</td>\n",
       "      <td>8.45</td>\n",
       "      <td>76.0</td>\n",
       "      <td>8.0</td>\n",
       "      <td>E</td>\n",
       "      <td>82.54</td>\n",
       "    </tr>\n",
       "    <tr>\n",
       "      <th>2</th>\n",
       "      <td>Mario Kart Wii</td>\n",
       "      <td>Wii</td>\n",
       "      <td>2008</td>\n",
       "      <td>Racing</td>\n",
       "      <td>15.68</td>\n",
       "      <td>12.76</td>\n",
       "      <td>3.79</td>\n",
       "      <td>3.29</td>\n",
       "      <td>82.0</td>\n",
       "      <td>8.3</td>\n",
       "      <td>E</td>\n",
       "      <td>35.52</td>\n",
       "    </tr>\n",
       "    <tr>\n",
       "      <th>3</th>\n",
       "      <td>Wii Sports Resort</td>\n",
       "      <td>Wii</td>\n",
       "      <td>2009</td>\n",
       "      <td>Sports</td>\n",
       "      <td>15.61</td>\n",
       "      <td>10.93</td>\n",
       "      <td>3.28</td>\n",
       "      <td>2.95</td>\n",
       "      <td>80.0</td>\n",
       "      <td>8.0</td>\n",
       "      <td>E</td>\n",
       "      <td>32.77</td>\n",
       "    </tr>\n",
       "    <tr>\n",
       "      <th>6</th>\n",
       "      <td>New Super Mario Bros.</td>\n",
       "      <td>DS</td>\n",
       "      <td>2006</td>\n",
       "      <td>Platform</td>\n",
       "      <td>11.28</td>\n",
       "      <td>9.14</td>\n",
       "      <td>6.50</td>\n",
       "      <td>2.88</td>\n",
       "      <td>89.0</td>\n",
       "      <td>8.5</td>\n",
       "      <td>E</td>\n",
       "      <td>29.80</td>\n",
       "    </tr>\n",
       "    <tr>\n",
       "      <th>7</th>\n",
       "      <td>Wii Play</td>\n",
       "      <td>Wii</td>\n",
       "      <td>2006</td>\n",
       "      <td>Misc</td>\n",
       "      <td>13.96</td>\n",
       "      <td>9.18</td>\n",
       "      <td>2.93</td>\n",
       "      <td>2.84</td>\n",
       "      <td>58.0</td>\n",
       "      <td>6.6</td>\n",
       "      <td>E</td>\n",
       "      <td>28.91</td>\n",
       "    </tr>\n",
       "    <tr>\n",
       "      <th>...</th>\n",
       "      <td>...</td>\n",
       "      <td>...</td>\n",
       "      <td>...</td>\n",
       "      <td>...</td>\n",
       "      <td>...</td>\n",
       "      <td>...</td>\n",
       "      <td>...</td>\n",
       "      <td>...</td>\n",
       "      <td>...</td>\n",
       "      <td>...</td>\n",
       "      <td>...</td>\n",
       "      <td>...</td>\n",
       "    </tr>\n",
       "    <tr>\n",
       "      <th>16700</th>\n",
       "      <td>Mezase!! Tsuri Master DS</td>\n",
       "      <td>DS</td>\n",
       "      <td>2009</td>\n",
       "      <td>Sports</td>\n",
       "      <td>0.00</td>\n",
       "      <td>0.00</td>\n",
       "      <td>0.01</td>\n",
       "      <td>0.00</td>\n",
       "      <td>NaN</td>\n",
       "      <td>NaN</td>\n",
       "      <td>Unknown</td>\n",
       "      <td>0.01</td>\n",
       "    </tr>\n",
       "    <tr>\n",
       "      <th>16704</th>\n",
       "      <td>Plushees</td>\n",
       "      <td>DS</td>\n",
       "      <td>2008</td>\n",
       "      <td>Simulation</td>\n",
       "      <td>0.01</td>\n",
       "      <td>0.00</td>\n",
       "      <td>0.00</td>\n",
       "      <td>0.00</td>\n",
       "      <td>NaN</td>\n",
       "      <td>NaN</td>\n",
       "      <td>E</td>\n",
       "      <td>0.01</td>\n",
       "    </tr>\n",
       "    <tr>\n",
       "      <th>16709</th>\n",
       "      <td>SCORE International Baja 1000: The Official Game</td>\n",
       "      <td>PS2</td>\n",
       "      <td>2008</td>\n",
       "      <td>Racing</td>\n",
       "      <td>0.00</td>\n",
       "      <td>0.00</td>\n",
       "      <td>0.00</td>\n",
       "      <td>0.00</td>\n",
       "      <td>NaN</td>\n",
       "      <td>NaN</td>\n",
       "      <td>Unknown</td>\n",
       "      <td>0.00</td>\n",
       "    </tr>\n",
       "    <tr>\n",
       "      <th>16710</th>\n",
       "      <td>Samurai Warriors: Sanada Maru</td>\n",
       "      <td>PS3</td>\n",
       "      <td>2016</td>\n",
       "      <td>Action</td>\n",
       "      <td>0.00</td>\n",
       "      <td>0.00</td>\n",
       "      <td>0.01</td>\n",
       "      <td>0.00</td>\n",
       "      <td>NaN</td>\n",
       "      <td>NaN</td>\n",
       "      <td>Unknown</td>\n",
       "      <td>0.01</td>\n",
       "    </tr>\n",
       "    <tr>\n",
       "      <th>16711</th>\n",
       "      <td>LMA Manager 2007</td>\n",
       "      <td>X360</td>\n",
       "      <td>2006</td>\n",
       "      <td>Sports</td>\n",
       "      <td>0.00</td>\n",
       "      <td>0.01</td>\n",
       "      <td>0.00</td>\n",
       "      <td>0.00</td>\n",
       "      <td>NaN</td>\n",
       "      <td>NaN</td>\n",
       "      <td>Unknown</td>\n",
       "      <td>0.01</td>\n",
       "    </tr>\n",
       "  </tbody>\n",
       "</table>\n",
       "<p>8072 rows × 12 columns</p>\n",
       "</div>"
      ],
      "text/plain": [
       "                                                   name platform  \\\n",
       "0                                            Wii Sports      Wii   \n",
       "2                                        Mario Kart Wii      Wii   \n",
       "3                                     Wii Sports Resort      Wii   \n",
       "6                                 New Super Mario Bros.       DS   \n",
       "7                                              Wii Play      Wii   \n",
       "...                                                 ...      ...   \n",
       "16700                          Mezase!! Tsuri Master DS       DS   \n",
       "16704                                          Plushees       DS   \n",
       "16709  SCORE International Baja 1000: The Official Game      PS2   \n",
       "16710                     Samurai Warriors: Sanada Maru      PS3   \n",
       "16711                                  LMA Manager 2007     X360   \n",
       "\n",
       "       year_of_release       genre  na_sales  eu_sales  jp_sales  other_sales  \\\n",
       "0                 2006      Sports     41.36     28.96      3.77         8.45   \n",
       "2                 2008      Racing     15.68     12.76      3.79         3.29   \n",
       "3                 2009      Sports     15.61     10.93      3.28         2.95   \n",
       "6                 2006    Platform     11.28      9.14      6.50         2.88   \n",
       "7                 2006        Misc     13.96      9.18      2.93         2.84   \n",
       "...                ...         ...       ...       ...       ...          ...   \n",
       "16700             2009      Sports      0.00      0.00      0.01         0.00   \n",
       "16704             2008  Simulation      0.01      0.00      0.00         0.00   \n",
       "16709             2008      Racing      0.00      0.00      0.00         0.00   \n",
       "16710             2016      Action      0.00      0.00      0.01         0.00   \n",
       "16711             2006      Sports      0.00      0.01      0.00         0.00   \n",
       "\n",
       "       critic_score  user_score   rating  total_sales  \n",
       "0              76.0         8.0        E        82.54  \n",
       "2              82.0         8.3        E        35.52  \n",
       "3              80.0         8.0        E        32.77  \n",
       "6              89.0         8.5        E        29.80  \n",
       "7              58.0         6.6        E        28.91  \n",
       "...             ...         ...      ...          ...  \n",
       "16700           NaN         NaN  Unknown         0.01  \n",
       "16704           NaN         NaN        E         0.01  \n",
       "16709           NaN         NaN  Unknown         0.00  \n",
       "16710           NaN         NaN  Unknown         0.01  \n",
       "16711           NaN         NaN  Unknown         0.01  \n",
       "\n",
       "[8072 rows x 12 columns]"
      ]
     },
     "execution_count": 114,
     "metadata": {},
     "output_type": "execute_result"
    }
   ],
   "source": [
    "top_platform_df"
   ]
  },
  {
   "cell_type": "code",
   "execution_count": 115,
   "metadata": {},
   "outputs": [],
   "source": [
    "df_platform_distr = top_platform_df.pivot_table(\n",
    "    index=\"year_of_release\", columns=\"platform\", values=\"total_sales\", aggfunc=\"sum\"\n",
    ").sort_values(\"year_of_release\")"
   ]
  },
  {
   "cell_type": "code",
   "execution_count": 116,
   "metadata": {},
   "outputs": [
    {
     "data": {
      "text/html": [
       "<div>\n",
       "<style scoped>\n",
       "    .dataframe tbody tr th:only-of-type {\n",
       "        vertical-align: middle;\n",
       "    }\n",
       "\n",
       "    .dataframe tbody tr th {\n",
       "        vertical-align: top;\n",
       "    }\n",
       "\n",
       "    .dataframe thead th {\n",
       "        text-align: right;\n",
       "    }\n",
       "</style>\n",
       "<table border=\"1\" class=\"dataframe\">\n",
       "  <thead>\n",
       "    <tr style=\"text-align: right;\">\n",
       "      <th>platform</th>\n",
       "      <th>DS</th>\n",
       "      <th>PS2</th>\n",
       "      <th>PS3</th>\n",
       "      <th>Wii</th>\n",
       "      <th>X360</th>\n",
       "    </tr>\n",
       "    <tr>\n",
       "      <th>year_of_release</th>\n",
       "      <th></th>\n",
       "      <th></th>\n",
       "      <th></th>\n",
       "      <th></th>\n",
       "      <th></th>\n",
       "    </tr>\n",
       "  </thead>\n",
       "  <tbody>\n",
       "    <tr>\n",
       "      <th>1985</th>\n",
       "      <td>0.02</td>\n",
       "      <td>NaN</td>\n",
       "      <td>NaN</td>\n",
       "      <td>NaN</td>\n",
       "      <td>NaN</td>\n",
       "    </tr>\n",
       "    <tr>\n",
       "      <th>2000</th>\n",
       "      <td>NaN</td>\n",
       "      <td>39.17</td>\n",
       "      <td>NaN</td>\n",
       "      <td>NaN</td>\n",
       "      <td>NaN</td>\n",
       "    </tr>\n",
       "    <tr>\n",
       "      <th>2001</th>\n",
       "      <td>NaN</td>\n",
       "      <td>166.43</td>\n",
       "      <td>NaN</td>\n",
       "      <td>NaN</td>\n",
       "      <td>NaN</td>\n",
       "    </tr>\n",
       "    <tr>\n",
       "      <th>2002</th>\n",
       "      <td>NaN</td>\n",
       "      <td>205.38</td>\n",
       "      <td>NaN</td>\n",
       "      <td>NaN</td>\n",
       "      <td>NaN</td>\n",
       "    </tr>\n",
       "    <tr>\n",
       "      <th>2003</th>\n",
       "      <td>NaN</td>\n",
       "      <td>184.31</td>\n",
       "      <td>NaN</td>\n",
       "      <td>NaN</td>\n",
       "      <td>NaN</td>\n",
       "    </tr>\n",
       "    <tr>\n",
       "      <th>2004</th>\n",
       "      <td>17.27</td>\n",
       "      <td>211.81</td>\n",
       "      <td>NaN</td>\n",
       "      <td>NaN</td>\n",
       "      <td>NaN</td>\n",
       "    </tr>\n",
       "    <tr>\n",
       "      <th>2005</th>\n",
       "      <td>130.14</td>\n",
       "      <td>160.66</td>\n",
       "      <td>NaN</td>\n",
       "      <td>NaN</td>\n",
       "      <td>8.25</td>\n",
       "    </tr>\n",
       "    <tr>\n",
       "      <th>2006</th>\n",
       "      <td>119.81</td>\n",
       "      <td>103.42</td>\n",
       "      <td>20.96</td>\n",
       "      <td>137.15</td>\n",
       "      <td>51.62</td>\n",
       "    </tr>\n",
       "    <tr>\n",
       "      <th>2007</th>\n",
       "      <td>146.94</td>\n",
       "      <td>75.99</td>\n",
       "      <td>73.19</td>\n",
       "      <td>152.77</td>\n",
       "      <td>95.41</td>\n",
       "    </tr>\n",
       "    <tr>\n",
       "      <th>2008</th>\n",
       "      <td>145.31</td>\n",
       "      <td>53.90</td>\n",
       "      <td>118.52</td>\n",
       "      <td>171.32</td>\n",
       "      <td>135.26</td>\n",
       "    </tr>\n",
       "    <tr>\n",
       "      <th>2009</th>\n",
       "      <td>119.54</td>\n",
       "      <td>26.40</td>\n",
       "      <td>130.93</td>\n",
       "      <td>206.97</td>\n",
       "      <td>120.29</td>\n",
       "    </tr>\n",
       "    <tr>\n",
       "      <th>2010</th>\n",
       "      <td>85.02</td>\n",
       "      <td>5.64</td>\n",
       "      <td>142.17</td>\n",
       "      <td>127.95</td>\n",
       "      <td>170.03</td>\n",
       "    </tr>\n",
       "    <tr>\n",
       "      <th>2011</th>\n",
       "      <td>26.18</td>\n",
       "      <td>0.45</td>\n",
       "      <td>156.78</td>\n",
       "      <td>59.65</td>\n",
       "      <td>143.84</td>\n",
       "    </tr>\n",
       "    <tr>\n",
       "      <th>2012</th>\n",
       "      <td>11.01</td>\n",
       "      <td>NaN</td>\n",
       "      <td>107.36</td>\n",
       "      <td>21.71</td>\n",
       "      <td>99.74</td>\n",
       "    </tr>\n",
       "    <tr>\n",
       "      <th>2013</th>\n",
       "      <td>1.54</td>\n",
       "      <td>NaN</td>\n",
       "      <td>113.25</td>\n",
       "      <td>8.59</td>\n",
       "      <td>88.58</td>\n",
       "    </tr>\n",
       "    <tr>\n",
       "      <th>2014</th>\n",
       "      <td>NaN</td>\n",
       "      <td>NaN</td>\n",
       "      <td>47.76</td>\n",
       "      <td>3.75</td>\n",
       "      <td>34.74</td>\n",
       "    </tr>\n",
       "    <tr>\n",
       "      <th>2015</th>\n",
       "      <td>NaN</td>\n",
       "      <td>NaN</td>\n",
       "      <td>16.82</td>\n",
       "      <td>1.14</td>\n",
       "      <td>11.96</td>\n",
       "    </tr>\n",
       "    <tr>\n",
       "      <th>2016</th>\n",
       "      <td>NaN</td>\n",
       "      <td>NaN</td>\n",
       "      <td>3.60</td>\n",
       "      <td>0.18</td>\n",
       "      <td>1.52</td>\n",
       "    </tr>\n",
       "  </tbody>\n",
       "</table>\n",
       "</div>"
      ],
      "text/plain": [
       "platform             DS     PS2     PS3     Wii    X360\n",
       "year_of_release                                        \n",
       "1985               0.02     NaN     NaN     NaN     NaN\n",
       "2000                NaN   39.17     NaN     NaN     NaN\n",
       "2001                NaN  166.43     NaN     NaN     NaN\n",
       "2002                NaN  205.38     NaN     NaN     NaN\n",
       "2003                NaN  184.31     NaN     NaN     NaN\n",
       "2004              17.27  211.81     NaN     NaN     NaN\n",
       "2005             130.14  160.66     NaN     NaN    8.25\n",
       "2006             119.81  103.42   20.96  137.15   51.62\n",
       "2007             146.94   75.99   73.19  152.77   95.41\n",
       "2008             145.31   53.90  118.52  171.32  135.26\n",
       "2009             119.54   26.40  130.93  206.97  120.29\n",
       "2010              85.02    5.64  142.17  127.95  170.03\n",
       "2011              26.18    0.45  156.78   59.65  143.84\n",
       "2012              11.01     NaN  107.36   21.71   99.74\n",
       "2013               1.54     NaN  113.25    8.59   88.58\n",
       "2014                NaN     NaN   47.76    3.75   34.74\n",
       "2015                NaN     NaN   16.82    1.14   11.96\n",
       "2016                NaN     NaN    3.60    0.18    1.52"
      ]
     },
     "execution_count": 116,
     "metadata": {},
     "output_type": "execute_result"
    }
   ],
   "source": [
    "df_platform_distr"
   ]
  },
  {
   "cell_type": "markdown",
   "metadata": {},
   "source": [
    "<div class=\"alert alert-success\"; style=\"border-left: 7px solid green\">\n",
    "<h3>✔ Комментарий ревьюера</h3>\n",
    "    \n",
    "Можно без цикла сделать как-то так и оставить только целые года:\n",
    "</div>    \n"
   ]
  },
  {
   "cell_type": "markdown",
   "metadata": {},
   "source": [
    "<div class=\"alert alert-info\">\n",
    "Сделал.\n",
    "</div>"
   ]
  },
  {
   "cell_type": "code",
   "execution_count": 117,
   "metadata": {},
   "outputs": [
    {
     "data": {
      "text/plain": [
       "<AxesSubplot:xlabel='year_of_release'>"
      ]
     },
     "execution_count": 117,
     "metadata": {},
     "output_type": "execute_result"
    },
    {
     "data": {
      "image/png": "[encoded data removed]",
      "text/plain": [
       "<Figure size 1080x432 with 1 Axes>"
      ]
     },
     "metadata": {
      "needs_background": "light"
     },
     "output_type": "display_data"
    }
   ],
   "source": [
    "# код ревьюера\n",
    "\n",
    "df_platform_distr.plot(figsize=(15,6))"
   ]
  },
  {
   "cell_type": "code",
   "execution_count": 118,
   "metadata": {},
   "outputs": [
    {
     "data": {
      "text/plain": [
       "11.0"
      ]
     },
     "execution_count": 118,
     "metadata": {},
     "output_type": "execute_result"
    }
   ],
   "source": [
    "top_platform_df.groupby('platform').nunique()['year_of_release'].median()"
   ]
  },
  {
   "cell_type": "markdown",
   "metadata": {},
   "source": [
    "Из полученного графика следует, что в среднем платформы \"живут\" около 11 лет."
   ]
  },
  {
   "cell_type": "markdown",
   "metadata": {},
   "source": [
    "<div class=\"alert alert-success\"; style=\"border-left: 7px solid green\">\n",
    "<h3>✔ Комментарий ревьюера</h3>\n",
    "    \n",
    "В целом да. Можно посчитать для всех платформ сразу, сгруппировав по `platform`, взяв `nunique` по `year_of_release` и посчитав медиану\n",
    "</div>    \n"
   ]
  },
  {
   "cell_type": "markdown",
   "metadata": {},
   "source": [
    "<div class=\"alert alert-info\">\n",
    "Добавил.\n",
    "</div>"
   ]
  },
  {
   "cell_type": "markdown",
   "metadata": {},
   "source": [
    "На основе двух сделанных ранее выводов получаем, что для прогноза на 2017 год актуальным можно считать период, начиная с 2015 года."
   ]
  },
  {
   "cell_type": "code",
   "execution_count": 119,
   "metadata": {},
   "outputs": [],
   "source": [
    "df_copy = df.copy()"
   ]
  },
  {
   "cell_type": "markdown",
   "metadata": {},
   "source": [
    "<div class=\"alert alert-warning\"; style=\"border-left: 7px solid yellow\" >\n",
    "<h3>!! Комментарий ревьюера</h3>\n",
    "    \n",
    "Так ты не создаешь копию. `df_copy` ссылается на `df`. Чтобы получить копию, нужно сделать `df_copy = df.copy()`\n",
    "</div>    "
   ]
  },
  {
   "cell_type": "markdown",
   "metadata": {},
   "source": [
    "<div class=\"alert alert-info\">\n",
    "Исправил.\n",
    "</div>"
   ]
  },
  {
   "cell_type": "markdown",
   "metadata": {},
   "source": [
    "<div class=\"alert alert-success\"; style=\"border-left: 7px solid green\">\n",
    "<h3>✔ Комментарий ревьюера V.2</h3>\n",
    "    \n",
    "👍</div>    \n"
   ]
  },
  {
   "cell_type": "code",
   "execution_count": 120,
   "metadata": {},
   "outputs": [],
   "source": [
    "df = df[df[\"year_of_release\"] >= 2013]"
   ]
  },
  {
   "cell_type": "markdown",
   "metadata": {},
   "source": [
    "<div class=\"alert alert-success\"; style=\"border-left: 7px solid green\">\n",
    "<h3>✔ Комментарий ревьюера V.2</h3>\n",
    "    \n",
    "Ты зачем-то решил скорректировать период, 2 года это мало, учитывая, что за 2016 год данные неполные, это не позволяет увидеть динамику\n",
    "</div>    \n"
   ]
  },
  {
   "cell_type": "markdown",
   "metadata": {},
   "source": [
    "<div class=\"alert alert-success\"; style=\"border-left: 7px solid green\">\n",
    "<h3>✔ Комментарий ревьюера</h3>\n",
    "    \n",
    "Хороший выбор. Это примерно срок, за который продажи с пика падают до околонулевых значений с пика, поэтому большие продажи для неактуальных платформ в него не попадут в период\n",
    "</div>    \n"
   ]
  },
  {
   "cell_type": "code",
   "execution_count": 121,
   "metadata": {},
   "outputs": [
    {
     "data": {
      "text/html": [
       "<div>\n",
       "<style scoped>\n",
       "    .dataframe tbody tr th:only-of-type {\n",
       "        vertical-align: middle;\n",
       "    }\n",
       "\n",
       "    .dataframe tbody tr th {\n",
       "        vertical-align: top;\n",
       "    }\n",
       "\n",
       "    .dataframe thead th {\n",
       "        text-align: right;\n",
       "    }\n",
       "</style>\n",
       "<table border=\"1\" class=\"dataframe\">\n",
       "  <thead>\n",
       "    <tr style=\"text-align: right;\">\n",
       "      <th></th>\n",
       "      <th>name</th>\n",
       "      <th>platform</th>\n",
       "      <th>year_of_release</th>\n",
       "      <th>genre</th>\n",
       "      <th>na_sales</th>\n",
       "      <th>eu_sales</th>\n",
       "      <th>jp_sales</th>\n",
       "      <th>other_sales</th>\n",
       "      <th>critic_score</th>\n",
       "      <th>user_score</th>\n",
       "      <th>rating</th>\n",
       "      <th>total_sales</th>\n",
       "    </tr>\n",
       "  </thead>\n",
       "  <tbody>\n",
       "    <tr>\n",
       "      <th>16</th>\n",
       "      <td>Grand Theft Auto V</td>\n",
       "      <td>PS3</td>\n",
       "      <td>2013</td>\n",
       "      <td>Action</td>\n",
       "      <td>7.02</td>\n",
       "      <td>9.09</td>\n",
       "      <td>0.98</td>\n",
       "      <td>3.96</td>\n",
       "      <td>97.0</td>\n",
       "      <td>8.2</td>\n",
       "      <td>M</td>\n",
       "      <td>21.05</td>\n",
       "    </tr>\n",
       "    <tr>\n",
       "      <th>23</th>\n",
       "      <td>Grand Theft Auto V</td>\n",
       "      <td>X360</td>\n",
       "      <td>2013</td>\n",
       "      <td>Action</td>\n",
       "      <td>9.66</td>\n",
       "      <td>5.14</td>\n",
       "      <td>0.06</td>\n",
       "      <td>1.41</td>\n",
       "      <td>97.0</td>\n",
       "      <td>8.1</td>\n",
       "      <td>M</td>\n",
       "      <td>16.27</td>\n",
       "    </tr>\n",
       "    <tr>\n",
       "      <th>31</th>\n",
       "      <td>Call of Duty: Black Ops 3</td>\n",
       "      <td>PS4</td>\n",
       "      <td>2015</td>\n",
       "      <td>Shooter</td>\n",
       "      <td>6.03</td>\n",
       "      <td>5.86</td>\n",
       "      <td>0.36</td>\n",
       "      <td>2.38</td>\n",
       "      <td>NaN</td>\n",
       "      <td>NaN</td>\n",
       "      <td>Unknown</td>\n",
       "      <td>14.63</td>\n",
       "    </tr>\n",
       "    <tr>\n",
       "      <th>33</th>\n",
       "      <td>Pokemon X/Pokemon Y</td>\n",
       "      <td>3DS</td>\n",
       "      <td>2013</td>\n",
       "      <td>Role-Playing</td>\n",
       "      <td>5.28</td>\n",
       "      <td>4.19</td>\n",
       "      <td>4.35</td>\n",
       "      <td>0.78</td>\n",
       "      <td>NaN</td>\n",
       "      <td>NaN</td>\n",
       "      <td>Unknown</td>\n",
       "      <td>14.60</td>\n",
       "    </tr>\n",
       "    <tr>\n",
       "      <th>42</th>\n",
       "      <td>Grand Theft Auto V</td>\n",
       "      <td>PS4</td>\n",
       "      <td>2014</td>\n",
       "      <td>Action</td>\n",
       "      <td>3.96</td>\n",
       "      <td>6.31</td>\n",
       "      <td>0.38</td>\n",
       "      <td>1.97</td>\n",
       "      <td>97.0</td>\n",
       "      <td>8.3</td>\n",
       "      <td>M</td>\n",
       "      <td>12.62</td>\n",
       "    </tr>\n",
       "    <tr>\n",
       "      <th>...</th>\n",
       "      <td>...</td>\n",
       "      <td>...</td>\n",
       "      <td>...</td>\n",
       "      <td>...</td>\n",
       "      <td>...</td>\n",
       "      <td>...</td>\n",
       "      <td>...</td>\n",
       "      <td>...</td>\n",
       "      <td>...</td>\n",
       "      <td>...</td>\n",
       "      <td>...</td>\n",
       "      <td>...</td>\n",
       "    </tr>\n",
       "    <tr>\n",
       "      <th>16703</th>\n",
       "      <td>Strawberry Nauts</td>\n",
       "      <td>PSV</td>\n",
       "      <td>2016</td>\n",
       "      <td>Adventure</td>\n",
       "      <td>0.00</td>\n",
       "      <td>0.00</td>\n",
       "      <td>0.01</td>\n",
       "      <td>0.00</td>\n",
       "      <td>NaN</td>\n",
       "      <td>NaN</td>\n",
       "      <td>Unknown</td>\n",
       "      <td>0.01</td>\n",
       "    </tr>\n",
       "    <tr>\n",
       "      <th>16707</th>\n",
       "      <td>Aiyoku no Eustia</td>\n",
       "      <td>PSV</td>\n",
       "      <td>2014</td>\n",
       "      <td>Misc</td>\n",
       "      <td>0.00</td>\n",
       "      <td>0.00</td>\n",
       "      <td>0.01</td>\n",
       "      <td>0.00</td>\n",
       "      <td>NaN</td>\n",
       "      <td>NaN</td>\n",
       "      <td>Unknown</td>\n",
       "      <td>0.01</td>\n",
       "    </tr>\n",
       "    <tr>\n",
       "      <th>16710</th>\n",
       "      <td>Samurai Warriors: Sanada Maru</td>\n",
       "      <td>PS3</td>\n",
       "      <td>2016</td>\n",
       "      <td>Action</td>\n",
       "      <td>0.00</td>\n",
       "      <td>0.00</td>\n",
       "      <td>0.01</td>\n",
       "      <td>0.00</td>\n",
       "      <td>NaN</td>\n",
       "      <td>NaN</td>\n",
       "      <td>Unknown</td>\n",
       "      <td>0.01</td>\n",
       "    </tr>\n",
       "    <tr>\n",
       "      <th>16712</th>\n",
       "      <td>Haitaka no Psychedelica</td>\n",
       "      <td>PSV</td>\n",
       "      <td>2016</td>\n",
       "      <td>Adventure</td>\n",
       "      <td>0.00</td>\n",
       "      <td>0.00</td>\n",
       "      <td>0.01</td>\n",
       "      <td>0.00</td>\n",
       "      <td>NaN</td>\n",
       "      <td>NaN</td>\n",
       "      <td>Unknown</td>\n",
       "      <td>0.01</td>\n",
       "    </tr>\n",
       "    <tr>\n",
       "      <th>16714</th>\n",
       "      <td>Winning Post 8 2016</td>\n",
       "      <td>PSV</td>\n",
       "      <td>2016</td>\n",
       "      <td>Simulation</td>\n",
       "      <td>0.00</td>\n",
       "      <td>0.00</td>\n",
       "      <td>0.01</td>\n",
       "      <td>0.00</td>\n",
       "      <td>NaN</td>\n",
       "      <td>NaN</td>\n",
       "      <td>Unknown</td>\n",
       "      <td>0.01</td>\n",
       "    </tr>\n",
       "  </tbody>\n",
       "</table>\n",
       "<p>2233 rows × 12 columns</p>\n",
       "</div>"
      ],
      "text/plain": [
       "                                name platform  year_of_release         genre  \\\n",
       "16                Grand Theft Auto V      PS3             2013        Action   \n",
       "23                Grand Theft Auto V     X360             2013        Action   \n",
       "31         Call of Duty: Black Ops 3      PS4             2015       Shooter   \n",
       "33               Pokemon X/Pokemon Y      3DS             2013  Role-Playing   \n",
       "42                Grand Theft Auto V      PS4             2014        Action   \n",
       "...                              ...      ...              ...           ...   \n",
       "16703               Strawberry Nauts      PSV             2016     Adventure   \n",
       "16707               Aiyoku no Eustia      PSV             2014          Misc   \n",
       "16710  Samurai Warriors: Sanada Maru      PS3             2016        Action   \n",
       "16712        Haitaka no Psychedelica      PSV             2016     Adventure   \n",
       "16714            Winning Post 8 2016      PSV             2016    Simulation   \n",
       "\n",
       "       na_sales  eu_sales  jp_sales  other_sales  critic_score  user_score  \\\n",
       "16         7.02      9.09      0.98         3.96          97.0         8.2   \n",
       "23         9.66      5.14      0.06         1.41          97.0         8.1   \n",
       "31         6.03      5.86      0.36         2.38           NaN         NaN   \n",
       "33         5.28      4.19      4.35         0.78           NaN         NaN   \n",
       "42         3.96      6.31      0.38         1.97          97.0         8.3   \n",
       "...         ...       ...       ...          ...           ...         ...   \n",
       "16703      0.00      0.00      0.01         0.00           NaN         NaN   \n",
       "16707      0.00      0.00      0.01         0.00           NaN         NaN   \n",
       "16710      0.00      0.00      0.01         0.00           NaN         NaN   \n",
       "16712      0.00      0.00      0.01         0.00           NaN         NaN   \n",
       "16714      0.00      0.00      0.01         0.00           NaN         NaN   \n",
       "\n",
       "        rating  total_sales  \n",
       "16           M        21.05  \n",
       "23           M        16.27  \n",
       "31     Unknown        14.63  \n",
       "33     Unknown        14.60  \n",
       "42           M        12.62  \n",
       "...        ...          ...  \n",
       "16703  Unknown         0.01  \n",
       "16707  Unknown         0.01  \n",
       "16710  Unknown         0.01  \n",
       "16712  Unknown         0.01  \n",
       "16714  Unknown         0.01  \n",
       "\n",
       "[2233 rows x 12 columns]"
      ]
     },
     "execution_count": 121,
     "metadata": {},
     "output_type": "execute_result"
    }
   ],
   "source": [
    "df"
   ]
  },
  {
   "cell_type": "code",
   "execution_count": 122,
   "metadata": {},
   "outputs": [],
   "source": [
    "df4 = df.pivot_table(\n",
    "    index=\"year_of_release\", columns=\"platform\", values=\"total_sales\", aggfunc=\"sum\"\n",
    ").sort_values(\"year_of_release\")"
   ]
  },
  {
   "cell_type": "code",
   "execution_count": 123,
   "metadata": {},
   "outputs": [
    {
     "data": {
      "text/html": [
       "<div>\n",
       "<style scoped>\n",
       "    .dataframe tbody tr th:only-of-type {\n",
       "        vertical-align: middle;\n",
       "    }\n",
       "\n",
       "    .dataframe tbody tr th {\n",
       "        vertical-align: top;\n",
       "    }\n",
       "\n",
       "    .dataframe thead th {\n",
       "        text-align: right;\n",
       "    }\n",
       "</style>\n",
       "<table border=\"1\" class=\"dataframe\">\n",
       "  <thead>\n",
       "    <tr style=\"text-align: right;\">\n",
       "      <th>platform</th>\n",
       "      <th>3DS</th>\n",
       "      <th>DS</th>\n",
       "      <th>PC</th>\n",
       "      <th>PS3</th>\n",
       "      <th>PS4</th>\n",
       "      <th>PSP</th>\n",
       "      <th>PSV</th>\n",
       "      <th>Wii</th>\n",
       "      <th>WiiU</th>\n",
       "      <th>X360</th>\n",
       "      <th>XOne</th>\n",
       "    </tr>\n",
       "    <tr>\n",
       "      <th>year_of_release</th>\n",
       "      <th></th>\n",
       "      <th></th>\n",
       "      <th></th>\n",
       "      <th></th>\n",
       "      <th></th>\n",
       "      <th></th>\n",
       "      <th></th>\n",
       "      <th></th>\n",
       "      <th></th>\n",
       "      <th></th>\n",
       "      <th></th>\n",
       "    </tr>\n",
       "  </thead>\n",
       "  <tbody>\n",
       "    <tr>\n",
       "      <th>2013</th>\n",
       "      <td>56.57</td>\n",
       "      <td>1.54</td>\n",
       "      <td>12.38</td>\n",
       "      <td>113.25</td>\n",
       "      <td>25.99</td>\n",
       "      <td>3.14</td>\n",
       "      <td>10.59</td>\n",
       "      <td>8.59</td>\n",
       "      <td>21.65</td>\n",
       "      <td>88.58</td>\n",
       "      <td>18.96</td>\n",
       "    </tr>\n",
       "    <tr>\n",
       "      <th>2014</th>\n",
       "      <td>43.76</td>\n",
       "      <td>NaN</td>\n",
       "      <td>13.28</td>\n",
       "      <td>47.76</td>\n",
       "      <td>100.00</td>\n",
       "      <td>0.24</td>\n",
       "      <td>11.90</td>\n",
       "      <td>3.75</td>\n",
       "      <td>22.03</td>\n",
       "      <td>34.74</td>\n",
       "      <td>54.07</td>\n",
       "    </tr>\n",
       "    <tr>\n",
       "      <th>2015</th>\n",
       "      <td>27.78</td>\n",
       "      <td>NaN</td>\n",
       "      <td>8.52</td>\n",
       "      <td>16.82</td>\n",
       "      <td>118.90</td>\n",
       "      <td>0.12</td>\n",
       "      <td>6.25</td>\n",
       "      <td>1.14</td>\n",
       "      <td>16.35</td>\n",
       "      <td>11.96</td>\n",
       "      <td>60.14</td>\n",
       "    </tr>\n",
       "    <tr>\n",
       "      <th>2016</th>\n",
       "      <td>15.14</td>\n",
       "      <td>NaN</td>\n",
       "      <td>5.25</td>\n",
       "      <td>3.60</td>\n",
       "      <td>69.25</td>\n",
       "      <td>NaN</td>\n",
       "      <td>4.25</td>\n",
       "      <td>0.18</td>\n",
       "      <td>4.60</td>\n",
       "      <td>1.52</td>\n",
       "      <td>26.15</td>\n",
       "    </tr>\n",
       "  </tbody>\n",
       "</table>\n",
       "</div>"
      ],
      "text/plain": [
       "platform           3DS    DS     PC     PS3     PS4   PSP    PSV   Wii   WiiU  \\\n",
       "year_of_release                                                                 \n",
       "2013             56.57  1.54  12.38  113.25   25.99  3.14  10.59  8.59  21.65   \n",
       "2014             43.76   NaN  13.28   47.76  100.00  0.24  11.90  3.75  22.03   \n",
       "2015             27.78   NaN   8.52   16.82  118.90  0.12   6.25  1.14  16.35   \n",
       "2016             15.14   NaN   5.25    3.60   69.25   NaN   4.25  0.18   4.60   \n",
       "\n",
       "platform          X360   XOne  \n",
       "year_of_release                \n",
       "2013             88.58  18.96  \n",
       "2014             34.74  54.07  \n",
       "2015             11.96  60.14  \n",
       "2016              1.52  26.15  "
      ]
     },
     "execution_count": 123,
     "metadata": {},
     "output_type": "execute_result"
    }
   ],
   "source": [
    "df4"
   ]
  },
  {
   "cell_type": "code",
   "execution_count": 124,
   "metadata": {},
   "outputs": [
    {
     "data": {
      "image/png": "[encoded data removed]",
      "text/plain": [
       "<Figure size 720x432 with 1 Axes>"
      ]
     },
     "metadata": {
      "needs_background": "light"
     },
     "output_type": "display_data"
    }
   ],
   "source": [
    "df4.plot(figsize=(10, 6), cmap='tab20')\n",
    "plt.grid()\n",
    "plt.show()"
   ]
  },
  {
   "cell_type": "markdown",
   "metadata": {},
   "source": [
    "Из полученного графика видно, что в нашей модифицированной таблице еще остались платформы, которые исчезнут до 2017 года, то есть те, которые впервые появились до 2013 года и в 2016 году уже исчезли. Эти данные никак не помогут в прогнозировании, поэтому избавимся от них."
   ]
  },
  {
   "cell_type": "code",
   "execution_count": 125,
   "metadata": {},
   "outputs": [],
   "source": [
    "df4.drop(columns=[\"DS\", \"PSP\"], axis=1, inplace=True)"
   ]
  },
  {
   "cell_type": "code",
   "execution_count": 126,
   "metadata": {},
   "outputs": [],
   "source": [
    "df = df.query('platform != [\"DS\",\"PSP\"]')"
   ]
  },
  {
   "cell_type": "code",
   "execution_count": 127,
   "metadata": {},
   "outputs": [
    {
     "data": {
      "text/html": [
       "<div>\n",
       "<style scoped>\n",
       "    .dataframe tbody tr th:only-of-type {\n",
       "        vertical-align: middle;\n",
       "    }\n",
       "\n",
       "    .dataframe tbody tr th {\n",
       "        vertical-align: top;\n",
       "    }\n",
       "\n",
       "    .dataframe thead th {\n",
       "        text-align: right;\n",
       "    }\n",
       "</style>\n",
       "<table border=\"1\" class=\"dataframe\">\n",
       "  <thead>\n",
       "    <tr style=\"text-align: right;\">\n",
       "      <th>platform</th>\n",
       "      <th>3DS</th>\n",
       "      <th>PC</th>\n",
       "      <th>PS3</th>\n",
       "      <th>PS4</th>\n",
       "      <th>PSV</th>\n",
       "      <th>Wii</th>\n",
       "      <th>WiiU</th>\n",
       "      <th>X360</th>\n",
       "      <th>XOne</th>\n",
       "    </tr>\n",
       "    <tr>\n",
       "      <th>year_of_release</th>\n",
       "      <th></th>\n",
       "      <th></th>\n",
       "      <th></th>\n",
       "      <th></th>\n",
       "      <th></th>\n",
       "      <th></th>\n",
       "      <th></th>\n",
       "      <th></th>\n",
       "      <th></th>\n",
       "    </tr>\n",
       "  </thead>\n",
       "  <tbody>\n",
       "    <tr>\n",
       "      <th>2013</th>\n",
       "      <td>56.57</td>\n",
       "      <td>12.38</td>\n",
       "      <td>113.25</td>\n",
       "      <td>25.99</td>\n",
       "      <td>10.59</td>\n",
       "      <td>8.59</td>\n",
       "      <td>21.65</td>\n",
       "      <td>88.58</td>\n",
       "      <td>18.96</td>\n",
       "    </tr>\n",
       "    <tr>\n",
       "      <th>2014</th>\n",
       "      <td>43.76</td>\n",
       "      <td>13.28</td>\n",
       "      <td>47.76</td>\n",
       "      <td>100.00</td>\n",
       "      <td>11.90</td>\n",
       "      <td>3.75</td>\n",
       "      <td>22.03</td>\n",
       "      <td>34.74</td>\n",
       "      <td>54.07</td>\n",
       "    </tr>\n",
       "    <tr>\n",
       "      <th>2015</th>\n",
       "      <td>27.78</td>\n",
       "      <td>8.52</td>\n",
       "      <td>16.82</td>\n",
       "      <td>118.90</td>\n",
       "      <td>6.25</td>\n",
       "      <td>1.14</td>\n",
       "      <td>16.35</td>\n",
       "      <td>11.96</td>\n",
       "      <td>60.14</td>\n",
       "    </tr>\n",
       "    <tr>\n",
       "      <th>2016</th>\n",
       "      <td>15.14</td>\n",
       "      <td>5.25</td>\n",
       "      <td>3.60</td>\n",
       "      <td>69.25</td>\n",
       "      <td>4.25</td>\n",
       "      <td>0.18</td>\n",
       "      <td>4.60</td>\n",
       "      <td>1.52</td>\n",
       "      <td>26.15</td>\n",
       "    </tr>\n",
       "  </tbody>\n",
       "</table>\n",
       "</div>"
      ],
      "text/plain": [
       "platform           3DS     PC     PS3     PS4    PSV   Wii   WiiU   X360  \\\n",
       "year_of_release                                                            \n",
       "2013             56.57  12.38  113.25   25.99  10.59  8.59  21.65  88.58   \n",
       "2014             43.76  13.28   47.76  100.00  11.90  3.75  22.03  34.74   \n",
       "2015             27.78   8.52   16.82  118.90   6.25  1.14  16.35  11.96   \n",
       "2016             15.14   5.25    3.60   69.25   4.25  0.18   4.60   1.52   \n",
       "\n",
       "platform          XOne  \n",
       "year_of_release         \n",
       "2013             18.96  \n",
       "2014             54.07  \n",
       "2015             60.14  \n",
       "2016             26.15  "
      ]
     },
     "execution_count": 127,
     "metadata": {},
     "output_type": "execute_result"
    }
   ],
   "source": [
    "df4"
   ]
  },
  {
   "cell_type": "code",
   "execution_count": 129,
   "metadata": {},
   "outputs": [
    {
     "data": {
      "image/png": "[encoded data removed]",
      "text/plain": [
       "<Figure size 720x432 with 1 Axes>"
      ]
     },
     "metadata": {
      "needs_background": "light"
     },
     "output_type": "display_data"
    }
   ],
   "source": [
    "df4.plot(figsize=(10, 6), cmap='tab20')\n",
    "plt.grid()\n",
    "plt.show()"
   ]
  },
  {
   "cell_type": "markdown",
   "metadata": {},
   "source": [
    "<div class=\"alert alert-warning\"; style=\"border-left: 7px solid yellow\" >\n",
    "<h3>!! Комментарий ревьюера</h3>\n",
    "    \n",
    "Выше не всех не хватает цветов. Чтобы хватало, нужно указать, например, `cmap='tab20'` Можно также целые подписи сделать\n",
    "</div>    "
   ]
  },
  {
   "cell_type": "markdown",
   "metadata": {},
   "source": [
    "<div class=\"alert alert-info\">\n",
    "Вследствие предыдущих исправлений взял другой временной отрезок, здесь уже целые деления наверное не нужны.\n",
    "</div>"
   ]
  },
  {
   "cell_type": "markdown",
   "metadata": {},
   "source": [
    "<div class=\"alert alert-success\"; style=\"border-left: 7px solid green\">\n",
    "<h3>✔ Комментарий ревьюера V.2</h3>\n",
    "    \n",
    "Ну нецелые подписи как-то всё равно мешают, ведь точек для них у нас по факту нет :) \n",
    "</div>    \n"
   ]
  },
  {
   "cell_type": "markdown",
   "metadata": {},
   "source": [
    "Из полученных графиков следует, что в целом количество продаж компьютерных игр на всех платформах падает, наиболее прибыльными являются платформы \"PS4\", \"XOne\", \"3DS\", исследуем их."
   ]
  },
  {
   "cell_type": "markdown",
   "metadata": {},
   "source": [
    "<div class=\"alert alert-success\"; style=\"border-left: 7px solid green\">\n",
    "<h3>✔ Комментарий ревьюера</h3>\n",
    "    \n",
    "Если вспомнить, что данные за 2016 год неполные, то для XOne и PS4 продажи растут</div>   "
   ]
  },
  {
   "cell_type": "markdown",
   "metadata": {},
   "source": [
    "<div class=\"alert alert-info\">\n",
    "Не понял, почему продажи должны расти.\n",
    "</div>"
   ]
  },
  {
   "cell_type": "markdown",
   "metadata": {},
   "source": [
    "<div class=\"alert alert-success\"; style=\"border-left: 7px solid green\">\n",
    "<h3>✔ Комментарий ревьюера V.2</h3>\n",
    "    \n",
    "Потому что если рассмматривать даынне с 2012 года, и не учитывать 2016 неполный год, то продажи растут :)</div>    \n"
   ]
  },
  {
   "cell_type": "code",
   "execution_count": 130,
   "metadata": {},
   "outputs": [],
   "source": [
    "df_platform_top_sales = df_copy.query('platform == [\"PS4\", \"XOne\", \"3DS\"]')"
   ]
  },
  {
   "cell_type": "code",
   "execution_count": 131,
   "metadata": {},
   "outputs": [
    {
     "data": {
      "text/html": [
       "<div>\n",
       "<style scoped>\n",
       "    .dataframe tbody tr th:only-of-type {\n",
       "        vertical-align: middle;\n",
       "    }\n",
       "\n",
       "    .dataframe tbody tr th {\n",
       "        vertical-align: top;\n",
       "    }\n",
       "\n",
       "    .dataframe thead th {\n",
       "        text-align: right;\n",
       "    }\n",
       "</style>\n",
       "<table border=\"1\" class=\"dataframe\">\n",
       "  <thead>\n",
       "    <tr style=\"text-align: right;\">\n",
       "      <th></th>\n",
       "      <th>name</th>\n",
       "      <th>platform</th>\n",
       "      <th>year_of_release</th>\n",
       "      <th>genre</th>\n",
       "      <th>na_sales</th>\n",
       "      <th>eu_sales</th>\n",
       "      <th>jp_sales</th>\n",
       "      <th>other_sales</th>\n",
       "      <th>critic_score</th>\n",
       "      <th>user_score</th>\n",
       "      <th>rating</th>\n",
       "      <th>total_sales</th>\n",
       "    </tr>\n",
       "  </thead>\n",
       "  <tbody>\n",
       "    <tr>\n",
       "      <th>31</th>\n",
       "      <td>Call of Duty: Black Ops 3</td>\n",
       "      <td>PS4</td>\n",
       "      <td>2015</td>\n",
       "      <td>Shooter</td>\n",
       "      <td>6.03</td>\n",
       "      <td>5.86</td>\n",
       "      <td>0.36</td>\n",
       "      <td>2.38</td>\n",
       "      <td>NaN</td>\n",
       "      <td>NaN</td>\n",
       "      <td>Unknown</td>\n",
       "      <td>14.63</td>\n",
       "    </tr>\n",
       "    <tr>\n",
       "      <th>33</th>\n",
       "      <td>Pokemon X/Pokemon Y</td>\n",
       "      <td>3DS</td>\n",
       "      <td>2013</td>\n",
       "      <td>Role-Playing</td>\n",
       "      <td>5.28</td>\n",
       "      <td>4.19</td>\n",
       "      <td>4.35</td>\n",
       "      <td>0.78</td>\n",
       "      <td>NaN</td>\n",
       "      <td>NaN</td>\n",
       "      <td>Unknown</td>\n",
       "      <td>14.60</td>\n",
       "    </tr>\n",
       "    <tr>\n",
       "      <th>40</th>\n",
       "      <td>Mario Kart 7</td>\n",
       "      <td>3DS</td>\n",
       "      <td>2011</td>\n",
       "      <td>Racing</td>\n",
       "      <td>5.03</td>\n",
       "      <td>4.02</td>\n",
       "      <td>2.69</td>\n",
       "      <td>0.91</td>\n",
       "      <td>85.0</td>\n",
       "      <td>8.2</td>\n",
       "      <td>E</td>\n",
       "      <td>12.65</td>\n",
       "    </tr>\n",
       "    <tr>\n",
       "      <th>42</th>\n",
       "      <td>Grand Theft Auto V</td>\n",
       "      <td>PS4</td>\n",
       "      <td>2014</td>\n",
       "      <td>Action</td>\n",
       "      <td>3.96</td>\n",
       "      <td>6.31</td>\n",
       "      <td>0.38</td>\n",
       "      <td>1.97</td>\n",
       "      <td>97.0</td>\n",
       "      <td>8.3</td>\n",
       "      <td>M</td>\n",
       "      <td>12.62</td>\n",
       "    </tr>\n",
       "    <tr>\n",
       "      <th>47</th>\n",
       "      <td>Pokemon Omega Ruby/Pokemon Alpha Sapphire</td>\n",
       "      <td>3DS</td>\n",
       "      <td>2014</td>\n",
       "      <td>Role-Playing</td>\n",
       "      <td>4.35</td>\n",
       "      <td>3.49</td>\n",
       "      <td>3.10</td>\n",
       "      <td>0.74</td>\n",
       "      <td>NaN</td>\n",
       "      <td>NaN</td>\n",
       "      <td>Unknown</td>\n",
       "      <td>11.68</td>\n",
       "    </tr>\n",
       "    <tr>\n",
       "      <th>...</th>\n",
       "      <td>...</td>\n",
       "      <td>...</td>\n",
       "      <td>...</td>\n",
       "      <td>...</td>\n",
       "      <td>...</td>\n",
       "      <td>...</td>\n",
       "      <td>...</td>\n",
       "      <td>...</td>\n",
       "      <td>...</td>\n",
       "      <td>...</td>\n",
       "      <td>...</td>\n",
       "      <td>...</td>\n",
       "    </tr>\n",
       "    <tr>\n",
       "      <th>16660</th>\n",
       "      <td>Prison Architect</td>\n",
       "      <td>XOne</td>\n",
       "      <td>2016</td>\n",
       "      <td>Action</td>\n",
       "      <td>0.01</td>\n",
       "      <td>0.00</td>\n",
       "      <td>0.00</td>\n",
       "      <td>0.00</td>\n",
       "      <td>74.0</td>\n",
       "      <td>6.7</td>\n",
       "      <td>Unknown</td>\n",
       "      <td>0.01</td>\n",
       "    </tr>\n",
       "    <tr>\n",
       "      <th>16668</th>\n",
       "      <td>Fujiko F. Fujio Characters: Great Assembly! Sl...</td>\n",
       "      <td>3DS</td>\n",
       "      <td>2014</td>\n",
       "      <td>Action</td>\n",
       "      <td>0.00</td>\n",
       "      <td>0.00</td>\n",
       "      <td>0.01</td>\n",
       "      <td>0.00</td>\n",
       "      <td>NaN</td>\n",
       "      <td>NaN</td>\n",
       "      <td>Unknown</td>\n",
       "      <td>0.01</td>\n",
       "    </tr>\n",
       "    <tr>\n",
       "      <th>16672</th>\n",
       "      <td>Metal Gear Solid V: The Definitive Experience</td>\n",
       "      <td>XOne</td>\n",
       "      <td>2016</td>\n",
       "      <td>Action</td>\n",
       "      <td>0.01</td>\n",
       "      <td>0.00</td>\n",
       "      <td>0.00</td>\n",
       "      <td>0.00</td>\n",
       "      <td>NaN</td>\n",
       "      <td>NaN</td>\n",
       "      <td>M</td>\n",
       "      <td>0.01</td>\n",
       "    </tr>\n",
       "    <tr>\n",
       "      <th>16677</th>\n",
       "      <td>Aikatsu Stars! My Special Appeal</td>\n",
       "      <td>3DS</td>\n",
       "      <td>2016</td>\n",
       "      <td>Action</td>\n",
       "      <td>0.00</td>\n",
       "      <td>0.00</td>\n",
       "      <td>0.01</td>\n",
       "      <td>0.00</td>\n",
       "      <td>NaN</td>\n",
       "      <td>NaN</td>\n",
       "      <td>Unknown</td>\n",
       "      <td>0.01</td>\n",
       "    </tr>\n",
       "    <tr>\n",
       "      <th>16688</th>\n",
       "      <td>Outdoors Unleashed: Africa 3D</td>\n",
       "      <td>3DS</td>\n",
       "      <td>2011</td>\n",
       "      <td>Sports</td>\n",
       "      <td>0.01</td>\n",
       "      <td>0.00</td>\n",
       "      <td>0.00</td>\n",
       "      <td>0.00</td>\n",
       "      <td>NaN</td>\n",
       "      <td>NaN</td>\n",
       "      <td>T</td>\n",
       "      <td>0.01</td>\n",
       "    </tr>\n",
       "  </tbody>\n",
       "</table>\n",
       "<p>1151 rows × 12 columns</p>\n",
       "</div>"
      ],
      "text/plain": [
       "                                                    name platform  \\\n",
       "31                             Call of Duty: Black Ops 3      PS4   \n",
       "33                                   Pokemon X/Pokemon Y      3DS   \n",
       "40                                          Mario Kart 7      3DS   \n",
       "42                                    Grand Theft Auto V      PS4   \n",
       "47             Pokemon Omega Ruby/Pokemon Alpha Sapphire      3DS   \n",
       "...                                                  ...      ...   \n",
       "16660                                   Prison Architect     XOne   \n",
       "16668  Fujiko F. Fujio Characters: Great Assembly! Sl...      3DS   \n",
       "16672      Metal Gear Solid V: The Definitive Experience     XOne   \n",
       "16677                   Aikatsu Stars! My Special Appeal      3DS   \n",
       "16688                      Outdoors Unleashed: Africa 3D      3DS   \n",
       "\n",
       "       year_of_release         genre  na_sales  eu_sales  jp_sales  \\\n",
       "31                2015       Shooter      6.03      5.86      0.36   \n",
       "33                2013  Role-Playing      5.28      4.19      4.35   \n",
       "40                2011        Racing      5.03      4.02      2.69   \n",
       "42                2014        Action      3.96      6.31      0.38   \n",
       "47                2014  Role-Playing      4.35      3.49      3.10   \n",
       "...                ...           ...       ...       ...       ...   \n",
       "16660             2016        Action      0.01      0.00      0.00   \n",
       "16668             2014        Action      0.00      0.00      0.01   \n",
       "16672             2016        Action      0.01      0.00      0.00   \n",
       "16677             2016        Action      0.00      0.00      0.01   \n",
       "16688             2011        Sports      0.01      0.00      0.00   \n",
       "\n",
       "       other_sales  critic_score  user_score   rating  total_sales  \n",
       "31            2.38           NaN         NaN  Unknown        14.63  \n",
       "33            0.78           NaN         NaN  Unknown        14.60  \n",
       "40            0.91          85.0         8.2        E        12.65  \n",
       "42            1.97          97.0         8.3        M        12.62  \n",
       "47            0.74           NaN         NaN  Unknown        11.68  \n",
       "...            ...           ...         ...      ...          ...  \n",
       "16660         0.00          74.0         6.7  Unknown         0.01  \n",
       "16668         0.00           NaN         NaN  Unknown         0.01  \n",
       "16672         0.00           NaN         NaN        M         0.01  \n",
       "16677         0.00           NaN         NaN  Unknown         0.01  \n",
       "16688         0.00           NaN         NaN        T         0.01  \n",
       "\n",
       "[1151 rows x 12 columns]"
      ]
     },
     "execution_count": 131,
     "metadata": {},
     "output_type": "execute_result"
    }
   ],
   "source": [
    "df_platform_top_sales"
   ]
  },
  {
   "cell_type": "code",
   "execution_count": 132,
   "metadata": {},
   "outputs": [],
   "source": [
    "df_platform_top_sales_sort = df_platform_top_sales.pivot_table(\n",
    "    index=\"year_of_release\", columns=\"platform\", values=\"total_sales\", aggfunc=\"sum\"\n",
    ").sort_values(\"year_of_release\")"
   ]
  },
  {
   "cell_type": "code",
   "execution_count": 133,
   "metadata": {},
   "outputs": [
    {
     "data": {
      "text/html": [
       "<div>\n",
       "<style scoped>\n",
       "    .dataframe tbody tr th:only-of-type {\n",
       "        vertical-align: middle;\n",
       "    }\n",
       "\n",
       "    .dataframe tbody tr th {\n",
       "        vertical-align: top;\n",
       "    }\n",
       "\n",
       "    .dataframe thead th {\n",
       "        text-align: right;\n",
       "    }\n",
       "</style>\n",
       "<table border=\"1\" class=\"dataframe\">\n",
       "  <thead>\n",
       "    <tr style=\"text-align: right;\">\n",
       "      <th>platform</th>\n",
       "      <th>3DS</th>\n",
       "      <th>PS4</th>\n",
       "      <th>XOne</th>\n",
       "    </tr>\n",
       "    <tr>\n",
       "      <th>year_of_release</th>\n",
       "      <th></th>\n",
       "      <th></th>\n",
       "      <th></th>\n",
       "    </tr>\n",
       "  </thead>\n",
       "  <tbody>\n",
       "    <tr>\n",
       "      <th>2011</th>\n",
       "      <td>63.20</td>\n",
       "      <td>NaN</td>\n",
       "      <td>NaN</td>\n",
       "    </tr>\n",
       "    <tr>\n",
       "      <th>2012</th>\n",
       "      <td>51.36</td>\n",
       "      <td>NaN</td>\n",
       "      <td>NaN</td>\n",
       "    </tr>\n",
       "    <tr>\n",
       "      <th>2013</th>\n",
       "      <td>56.57</td>\n",
       "      <td>25.99</td>\n",
       "      <td>18.96</td>\n",
       "    </tr>\n",
       "    <tr>\n",
       "      <th>2014</th>\n",
       "      <td>43.76</td>\n",
       "      <td>100.00</td>\n",
       "      <td>54.07</td>\n",
       "    </tr>\n",
       "    <tr>\n",
       "      <th>2015</th>\n",
       "      <td>27.78</td>\n",
       "      <td>118.90</td>\n",
       "      <td>60.14</td>\n",
       "    </tr>\n",
       "    <tr>\n",
       "      <th>2016</th>\n",
       "      <td>15.14</td>\n",
       "      <td>69.25</td>\n",
       "      <td>26.15</td>\n",
       "    </tr>\n",
       "  </tbody>\n",
       "</table>\n",
       "</div>"
      ],
      "text/plain": [
       "platform           3DS     PS4   XOne\n",
       "year_of_release                      \n",
       "2011             63.20     NaN    NaN\n",
       "2012             51.36     NaN    NaN\n",
       "2013             56.57   25.99  18.96\n",
       "2014             43.76  100.00  54.07\n",
       "2015             27.78  118.90  60.14\n",
       "2016             15.14   69.25  26.15"
      ]
     },
     "execution_count": 133,
     "metadata": {},
     "output_type": "execute_result"
    }
   ],
   "source": [
    "df_platform_top_sales_sort"
   ]
  },
  {
   "cell_type": "markdown",
   "metadata": {},
   "source": [
    "<div class=\"alert alert-success\"; style=\"border-left: 7px solid green\">\n",
    "<h3>✔ Комментарий ревьюера</h3>\n",
    "    \n",
    "К этому моменту уже кажется совсем тяжело различить что такое `df4`, а что `df7` :)</div>   "
   ]
  },
  {
   "cell_type": "markdown",
   "metadata": {},
   "source": [
    "Так как платформы \"PS4\" и \"XOne\" находятся примерно на середине жизненного цикла, а \"3DS\" за экватором, и, начиная с 2015 года, на данных платформах появляется явный нисходящий тренд, то стоит предположить, что в 2017 году их продажи сохранят тенденцию, поэтому далее рассмотрим временной отрезок, начиная с 2015 года."
   ]
  },
  {
   "cell_type": "code",
   "execution_count": 134,
   "metadata": {},
   "outputs": [],
   "source": [
    "df_box_top = df.query('platform == [\"PS4\", \"XOne\", \"3DS\"] and year_of_release >= 2015')"
   ]
  },
  {
   "cell_type": "code",
   "execution_count": 135,
   "metadata": {},
   "outputs": [
    {
     "data": {
      "text/html": [
       "<div>\n",
       "<style scoped>\n",
       "    .dataframe tbody tr th:only-of-type {\n",
       "        vertical-align: middle;\n",
       "    }\n",
       "\n",
       "    .dataframe tbody tr th {\n",
       "        vertical-align: top;\n",
       "    }\n",
       "\n",
       "    .dataframe thead th {\n",
       "        text-align: right;\n",
       "    }\n",
       "</style>\n",
       "<table border=\"1\" class=\"dataframe\">\n",
       "  <thead>\n",
       "    <tr style=\"text-align: right;\">\n",
       "      <th></th>\n",
       "      <th>name</th>\n",
       "      <th>platform</th>\n",
       "      <th>year_of_release</th>\n",
       "      <th>genre</th>\n",
       "      <th>na_sales</th>\n",
       "      <th>eu_sales</th>\n",
       "      <th>jp_sales</th>\n",
       "      <th>other_sales</th>\n",
       "      <th>critic_score</th>\n",
       "      <th>user_score</th>\n",
       "      <th>rating</th>\n",
       "      <th>total_sales</th>\n",
       "    </tr>\n",
       "  </thead>\n",
       "  <tbody>\n",
       "    <tr>\n",
       "      <th>31</th>\n",
       "      <td>Call of Duty: Black Ops 3</td>\n",
       "      <td>PS4</td>\n",
       "      <td>2015</td>\n",
       "      <td>Shooter</td>\n",
       "      <td>6.03</td>\n",
       "      <td>5.86</td>\n",
       "      <td>0.36</td>\n",
       "      <td>2.38</td>\n",
       "      <td>NaN</td>\n",
       "      <td>NaN</td>\n",
       "      <td>Unknown</td>\n",
       "      <td>14.63</td>\n",
       "    </tr>\n",
       "    <tr>\n",
       "      <th>77</th>\n",
       "      <td>FIFA 16</td>\n",
       "      <td>PS4</td>\n",
       "      <td>2015</td>\n",
       "      <td>Sports</td>\n",
       "      <td>1.12</td>\n",
       "      <td>6.12</td>\n",
       "      <td>0.06</td>\n",
       "      <td>1.28</td>\n",
       "      <td>82.0</td>\n",
       "      <td>4.3</td>\n",
       "      <td>E</td>\n",
       "      <td>8.58</td>\n",
       "    </tr>\n",
       "    <tr>\n",
       "      <th>87</th>\n",
       "      <td>Star Wars Battlefront (2015)</td>\n",
       "      <td>PS4</td>\n",
       "      <td>2015</td>\n",
       "      <td>Shooter</td>\n",
       "      <td>2.99</td>\n",
       "      <td>3.49</td>\n",
       "      <td>0.22</td>\n",
       "      <td>1.28</td>\n",
       "      <td>NaN</td>\n",
       "      <td>NaN</td>\n",
       "      <td>Unknown</td>\n",
       "      <td>7.98</td>\n",
       "    </tr>\n",
       "    <tr>\n",
       "      <th>94</th>\n",
       "      <td>FIFA 17</td>\n",
       "      <td>PS4</td>\n",
       "      <td>2016</td>\n",
       "      <td>Sports</td>\n",
       "      <td>0.66</td>\n",
       "      <td>5.75</td>\n",
       "      <td>0.08</td>\n",
       "      <td>1.11</td>\n",
       "      <td>85.0</td>\n",
       "      <td>5.0</td>\n",
       "      <td>E</td>\n",
       "      <td>7.60</td>\n",
       "    </tr>\n",
       "    <tr>\n",
       "      <th>99</th>\n",
       "      <td>Call of Duty: Black Ops 3</td>\n",
       "      <td>XOne</td>\n",
       "      <td>2015</td>\n",
       "      <td>Shooter</td>\n",
       "      <td>4.59</td>\n",
       "      <td>2.11</td>\n",
       "      <td>0.01</td>\n",
       "      <td>0.68</td>\n",
       "      <td>NaN</td>\n",
       "      <td>NaN</td>\n",
       "      <td>Unknown</td>\n",
       "      <td>7.39</td>\n",
       "    </tr>\n",
       "    <tr>\n",
       "      <th>...</th>\n",
       "      <td>...</td>\n",
       "      <td>...</td>\n",
       "      <td>...</td>\n",
       "      <td>...</td>\n",
       "      <td>...</td>\n",
       "      <td>...</td>\n",
       "      <td>...</td>\n",
       "      <td>...</td>\n",
       "      <td>...</td>\n",
       "      <td>...</td>\n",
       "      <td>...</td>\n",
       "      <td>...</td>\n",
       "    </tr>\n",
       "    <tr>\n",
       "      <th>16643</th>\n",
       "      <td>Rugby Challenge 3</td>\n",
       "      <td>XOne</td>\n",
       "      <td>2016</td>\n",
       "      <td>Sports</td>\n",
       "      <td>0.00</td>\n",
       "      <td>0.01</td>\n",
       "      <td>0.00</td>\n",
       "      <td>0.00</td>\n",
       "      <td>NaN</td>\n",
       "      <td>6.6</td>\n",
       "      <td>E</td>\n",
       "      <td>0.01</td>\n",
       "    </tr>\n",
       "    <tr>\n",
       "      <th>16645</th>\n",
       "      <td>ZombiU</td>\n",
       "      <td>XOne</td>\n",
       "      <td>2016</td>\n",
       "      <td>Action</td>\n",
       "      <td>0.00</td>\n",
       "      <td>0.01</td>\n",
       "      <td>0.00</td>\n",
       "      <td>0.00</td>\n",
       "      <td>NaN</td>\n",
       "      <td>NaN</td>\n",
       "      <td>Unknown</td>\n",
       "      <td>0.01</td>\n",
       "    </tr>\n",
       "    <tr>\n",
       "      <th>16660</th>\n",
       "      <td>Prison Architect</td>\n",
       "      <td>XOne</td>\n",
       "      <td>2016</td>\n",
       "      <td>Action</td>\n",
       "      <td>0.01</td>\n",
       "      <td>0.00</td>\n",
       "      <td>0.00</td>\n",
       "      <td>0.00</td>\n",
       "      <td>74.0</td>\n",
       "      <td>6.7</td>\n",
       "      <td>Unknown</td>\n",
       "      <td>0.01</td>\n",
       "    </tr>\n",
       "    <tr>\n",
       "      <th>16672</th>\n",
       "      <td>Metal Gear Solid V: The Definitive Experience</td>\n",
       "      <td>XOne</td>\n",
       "      <td>2016</td>\n",
       "      <td>Action</td>\n",
       "      <td>0.01</td>\n",
       "      <td>0.00</td>\n",
       "      <td>0.00</td>\n",
       "      <td>0.00</td>\n",
       "      <td>NaN</td>\n",
       "      <td>NaN</td>\n",
       "      <td>M</td>\n",
       "      <td>0.01</td>\n",
       "    </tr>\n",
       "    <tr>\n",
       "      <th>16677</th>\n",
       "      <td>Aikatsu Stars! My Special Appeal</td>\n",
       "      <td>3DS</td>\n",
       "      <td>2016</td>\n",
       "      <td>Action</td>\n",
       "      <td>0.00</td>\n",
       "      <td>0.00</td>\n",
       "      <td>0.01</td>\n",
       "      <td>0.00</td>\n",
       "      <td>NaN</td>\n",
       "      <td>NaN</td>\n",
       "      <td>Unknown</td>\n",
       "      <td>0.01</td>\n",
       "    </tr>\n",
       "  </tbody>\n",
       "</table>\n",
       "<p>600 rows × 12 columns</p>\n",
       "</div>"
      ],
      "text/plain": [
       "                                                name platform  \\\n",
       "31                         Call of Duty: Black Ops 3      PS4   \n",
       "77                                           FIFA 16      PS4   \n",
       "87                      Star Wars Battlefront (2015)      PS4   \n",
       "94                                           FIFA 17      PS4   \n",
       "99                         Call of Duty: Black Ops 3     XOne   \n",
       "...                                              ...      ...   \n",
       "16643                              Rugby Challenge 3     XOne   \n",
       "16645                                         ZombiU     XOne   \n",
       "16660                               Prison Architect     XOne   \n",
       "16672  Metal Gear Solid V: The Definitive Experience     XOne   \n",
       "16677               Aikatsu Stars! My Special Appeal      3DS   \n",
       "\n",
       "       year_of_release    genre  na_sales  eu_sales  jp_sales  other_sales  \\\n",
       "31                2015  Shooter      6.03      5.86      0.36         2.38   \n",
       "77                2015   Sports      1.12      6.12      0.06         1.28   \n",
       "87                2015  Shooter      2.99      3.49      0.22         1.28   \n",
       "94                2016   Sports      0.66      5.75      0.08         1.11   \n",
       "99                2015  Shooter      4.59      2.11      0.01         0.68   \n",
       "...                ...      ...       ...       ...       ...          ...   \n",
       "16643             2016   Sports      0.00      0.01      0.00         0.00   \n",
       "16645             2016   Action      0.00      0.01      0.00         0.00   \n",
       "16660             2016   Action      0.01      0.00      0.00         0.00   \n",
       "16672             2016   Action      0.01      0.00      0.00         0.00   \n",
       "16677             2016   Action      0.00      0.00      0.01         0.00   \n",
       "\n",
       "       critic_score  user_score   rating  total_sales  \n",
       "31              NaN         NaN  Unknown        14.63  \n",
       "77             82.0         4.3        E         8.58  \n",
       "87              NaN         NaN  Unknown         7.98  \n",
       "94             85.0         5.0        E         7.60  \n",
       "99              NaN         NaN  Unknown         7.39  \n",
       "...             ...         ...      ...          ...  \n",
       "16643           NaN         6.6        E         0.01  \n",
       "16645           NaN         NaN  Unknown         0.01  \n",
       "16660          74.0         6.7  Unknown         0.01  \n",
       "16672           NaN         NaN        M         0.01  \n",
       "16677           NaN         NaN  Unknown         0.01  \n",
       "\n",
       "[600 rows x 12 columns]"
      ]
     },
     "execution_count": 135,
     "metadata": {},
     "output_type": "execute_result"
    }
   ],
   "source": [
    "df_box_top"
   ]
  },
  {
   "cell_type": "code",
   "execution_count": 136,
   "metadata": {},
   "outputs": [
    {
     "data": {
      "text/plain": [
       "<Figure size 720x720 with 0 Axes>"
      ]
     },
     "metadata": {},
     "output_type": "display_data"
    },
    {
     "data": {
      "image/png": "[encoded data removed]",
      "text/plain": [
       "<Figure size 432x288 with 1 Axes>"
      ]
     },
     "metadata": {
      "needs_background": "light"
     },
     "output_type": "display_data"
    }
   ],
   "source": [
    "plt.figure(figsize=(10, 10))\n",
    "df_box_top.boxplot(by=\"platform\", column=\"total_sales\")\n",
    "plt.suptitle(\"\")\n",
    "plt.show()"
   ]
  },
  {
   "cell_type": "markdown",
   "metadata": {},
   "source": [
    "<div class=\"alert alert-success\"; style=\"border-left: 7px solid green\">\n",
    "<h3>✔ Комментарий ревьюера</h3>\n",
    "    \n",
    "Всё верно, выше видно, что в среднем игры продаются не очень хорошо, но на PS4 больше бестселлеров. Стоило для всех платформ посмотерть, чтобы можно было их сравнить\n",
    "</div>   "
   ]
  },
  {
   "cell_type": "code",
   "execution_count": 137,
   "metadata": {},
   "outputs": [
    {
     "data": {
      "text/html": [
       "<div>\n",
       "<style scoped>\n",
       "    .dataframe tbody tr th:only-of-type {\n",
       "        vertical-align: middle;\n",
       "    }\n",
       "\n",
       "    .dataframe tbody tr th {\n",
       "        vertical-align: top;\n",
       "    }\n",
       "\n",
       "    .dataframe thead th {\n",
       "        text-align: right;\n",
       "    }\n",
       "</style>\n",
       "<table border=\"1\" class=\"dataframe\">\n",
       "  <thead>\n",
       "    <tr style=\"text-align: right;\">\n",
       "      <th></th>\n",
       "      <th>count</th>\n",
       "      <th>mean</th>\n",
       "      <th>std</th>\n",
       "      <th>min</th>\n",
       "      <th>25%</th>\n",
       "      <th>50%</th>\n",
       "      <th>75%</th>\n",
       "      <th>max</th>\n",
       "    </tr>\n",
       "    <tr>\n",
       "      <th>platform</th>\n",
       "      <th></th>\n",
       "      <th></th>\n",
       "      <th></th>\n",
       "      <th></th>\n",
       "      <th></th>\n",
       "      <th></th>\n",
       "      <th></th>\n",
       "      <th></th>\n",
       "    </tr>\n",
       "  </thead>\n",
       "  <tbody>\n",
       "    <tr>\n",
       "      <th>3DS</th>\n",
       "      <td>132.0</td>\n",
       "      <td>0.325152</td>\n",
       "      <td>0.798620</td>\n",
       "      <td>0.01</td>\n",
       "      <td>0.030</td>\n",
       "      <td>0.09</td>\n",
       "      <td>0.2325</td>\n",
       "      <td>7.14</td>\n",
       "    </tr>\n",
       "    <tr>\n",
       "      <th>PS4</th>\n",
       "      <td>301.0</td>\n",
       "      <td>0.625083</td>\n",
       "      <td>1.457063</td>\n",
       "      <td>0.01</td>\n",
       "      <td>0.050</td>\n",
       "      <td>0.12</td>\n",
       "      <td>0.4200</td>\n",
       "      <td>14.63</td>\n",
       "    </tr>\n",
       "    <tr>\n",
       "      <th>XOne</th>\n",
       "      <td>167.0</td>\n",
       "      <td>0.516707</td>\n",
       "      <td>0.965940</td>\n",
       "      <td>0.01</td>\n",
       "      <td>0.035</td>\n",
       "      <td>0.13</td>\n",
       "      <td>0.5550</td>\n",
       "      <td>7.39</td>\n",
       "    </tr>\n",
       "  </tbody>\n",
       "</table>\n",
       "</div>"
      ],
      "text/plain": [
       "          count      mean       std   min    25%   50%     75%    max\n",
       "platform                                                             \n",
       "3DS       132.0  0.325152  0.798620  0.01  0.030  0.09  0.2325   7.14\n",
       "PS4       301.0  0.625083  1.457063  0.01  0.050  0.12  0.4200  14.63\n",
       "XOne      167.0  0.516707  0.965940  0.01  0.035  0.13  0.5550   7.39"
      ]
     },
     "execution_count": 137,
     "metadata": {},
     "output_type": "execute_result"
    }
   ],
   "source": [
    "df_box_top.groupby(\"platform\")[\"total_sales\"].describe()"
   ]
  },
  {
   "cell_type": "markdown",
   "metadata": {},
   "source": [
    "Среди выбранных самых прибыльных платформ видим, что \"PS4\" и \"XOne\" имеют примерно равное медианное значение и в исследуемом временном промежутке похожий тренд, но \"PS4\" имеет больший разброс значений, вследствие чего большее среднее значение, плюс на \"PS4\" выходит почти в два раза больше различных игр, чем на остальных двух платформах, поэтому следует вывод, что наиболее потенциально прибыльная на 2017 год платформа - \"PS4\"."
   ]
  },
  {
   "cell_type": "markdown",
   "metadata": {},
   "source": [
    "Посмотрим, как влияют на продажи внутри популярной платформы \"PS4\" отзывы пользователей и критиков."
   ]
  },
  {
   "cell_type": "code",
   "execution_count": 138,
   "metadata": {},
   "outputs": [
    {
     "data": {
      "text/html": [
       "<div>\n",
       "<style scoped>\n",
       "    .dataframe tbody tr th:only-of-type {\n",
       "        vertical-align: middle;\n",
       "    }\n",
       "\n",
       "    .dataframe tbody tr th {\n",
       "        vertical-align: top;\n",
       "    }\n",
       "\n",
       "    .dataframe thead th {\n",
       "        text-align: right;\n",
       "    }\n",
       "</style>\n",
       "<table border=\"1\" class=\"dataframe\">\n",
       "  <thead>\n",
       "    <tr style=\"text-align: right;\">\n",
       "      <th></th>\n",
       "      <th>name</th>\n",
       "      <th>platform</th>\n",
       "      <th>year_of_release</th>\n",
       "      <th>genre</th>\n",
       "      <th>na_sales</th>\n",
       "      <th>eu_sales</th>\n",
       "      <th>jp_sales</th>\n",
       "      <th>other_sales</th>\n",
       "      <th>critic_score</th>\n",
       "      <th>user_score</th>\n",
       "      <th>rating</th>\n",
       "      <th>total_sales</th>\n",
       "    </tr>\n",
       "  </thead>\n",
       "  <tbody>\n",
       "    <tr>\n",
       "      <th>31</th>\n",
       "      <td>Call of Duty: Black Ops 3</td>\n",
       "      <td>PS4</td>\n",
       "      <td>2015</td>\n",
       "      <td>Shooter</td>\n",
       "      <td>6.03</td>\n",
       "      <td>5.86</td>\n",
       "      <td>0.36</td>\n",
       "      <td>2.38</td>\n",
       "      <td>NaN</td>\n",
       "      <td>NaN</td>\n",
       "      <td>Unknown</td>\n",
       "      <td>14.63</td>\n",
       "    </tr>\n",
       "    <tr>\n",
       "      <th>42</th>\n",
       "      <td>Grand Theft Auto V</td>\n",
       "      <td>PS4</td>\n",
       "      <td>2014</td>\n",
       "      <td>Action</td>\n",
       "      <td>3.96</td>\n",
       "      <td>6.31</td>\n",
       "      <td>0.38</td>\n",
       "      <td>1.97</td>\n",
       "      <td>97.0</td>\n",
       "      <td>8.3</td>\n",
       "      <td>M</td>\n",
       "      <td>12.62</td>\n",
       "    </tr>\n",
       "    <tr>\n",
       "      <th>77</th>\n",
       "      <td>FIFA 16</td>\n",
       "      <td>PS4</td>\n",
       "      <td>2015</td>\n",
       "      <td>Sports</td>\n",
       "      <td>1.12</td>\n",
       "      <td>6.12</td>\n",
       "      <td>0.06</td>\n",
       "      <td>1.28</td>\n",
       "      <td>82.0</td>\n",
       "      <td>4.3</td>\n",
       "      <td>E</td>\n",
       "      <td>8.58</td>\n",
       "    </tr>\n",
       "    <tr>\n",
       "      <th>87</th>\n",
       "      <td>Star Wars Battlefront (2015)</td>\n",
       "      <td>PS4</td>\n",
       "      <td>2015</td>\n",
       "      <td>Shooter</td>\n",
       "      <td>2.99</td>\n",
       "      <td>3.49</td>\n",
       "      <td>0.22</td>\n",
       "      <td>1.28</td>\n",
       "      <td>NaN</td>\n",
       "      <td>NaN</td>\n",
       "      <td>Unknown</td>\n",
       "      <td>7.98</td>\n",
       "    </tr>\n",
       "    <tr>\n",
       "      <th>92</th>\n",
       "      <td>Call of Duty: Advanced Warfare</td>\n",
       "      <td>PS4</td>\n",
       "      <td>2014</td>\n",
       "      <td>Shooter</td>\n",
       "      <td>2.81</td>\n",
       "      <td>3.48</td>\n",
       "      <td>0.14</td>\n",
       "      <td>1.23</td>\n",
       "      <td>83.0</td>\n",
       "      <td>5.7</td>\n",
       "      <td>M</td>\n",
       "      <td>7.66</td>\n",
       "    </tr>\n",
       "  </tbody>\n",
       "</table>\n",
       "</div>"
      ],
      "text/plain": [
       "                              name platform  year_of_release    genre  \\\n",
       "31       Call of Duty: Black Ops 3      PS4             2015  Shooter   \n",
       "42              Grand Theft Auto V      PS4             2014   Action   \n",
       "77                         FIFA 16      PS4             2015   Sports   \n",
       "87    Star Wars Battlefront (2015)      PS4             2015  Shooter   \n",
       "92  Call of Duty: Advanced Warfare      PS4             2014  Shooter   \n",
       "\n",
       "    na_sales  eu_sales  jp_sales  other_sales  critic_score  user_score  \\\n",
       "31      6.03      5.86      0.36         2.38           NaN         NaN   \n",
       "42      3.96      6.31      0.38         1.97          97.0         8.3   \n",
       "77      1.12      6.12      0.06         1.28          82.0         4.3   \n",
       "87      2.99      3.49      0.22         1.28           NaN         NaN   \n",
       "92      2.81      3.48      0.14         1.23          83.0         5.7   \n",
       "\n",
       "     rating  total_sales  \n",
       "31  Unknown        14.63  \n",
       "42        M        12.62  \n",
       "77        E         8.58  \n",
       "87  Unknown         7.98  \n",
       "92        M         7.66  "
      ]
     },
     "execution_count": 138,
     "metadata": {},
     "output_type": "execute_result"
    }
   ],
   "source": [
    "df.query('platform == \"PS4\"').head()"
   ]
  },
  {
   "cell_type": "code",
   "execution_count": 139,
   "metadata": {},
   "outputs": [
    {
     "data": {
      "text/plain": [
       "<AxesSubplot:xlabel='critic_score', ylabel='total_sales'>"
      ]
     },
     "execution_count": 139,
     "metadata": {},
     "output_type": "execute_result"
    },
    {
     "data": {
      "image/png": "[encoded data removed]",
      "text/plain": [
       "<Figure size 432x288 with 1 Axes>"
      ]
     },
     "metadata": {
      "needs_background": "light"
     },
     "output_type": "display_data"
    }
   ],
   "source": [
    "df.query('platform == \"PS4\"').plot(\n",
    "    x=\"critic_score\",\n",
    "    y=\"total_sales\",\n",
    "    kind=\"scatter\",\n",
    "    grid=True,\n",
    "    xlim=(10, 95),\n",
    "    ylim=(0, 8),\n",
    "    alpha=0.3,\n",
    ")"
   ]
  },
  {
   "cell_type": "code",
   "execution_count": 140,
   "metadata": {},
   "outputs": [
    {
     "data": {
      "text/plain": [
       "0.41"
      ]
     },
     "execution_count": 140,
     "metadata": {},
     "output_type": "execute_result"
    }
   ],
   "source": [
    "round(df.query('platform == \"PS4\"')[\"critic_score\"].corr(\n",
    "    df.query('platform == \"PS4\"')[\"total_sales\"]\n",
    "), 2)"
   ]
  },
  {
   "cell_type": "markdown",
   "metadata": {},
   "source": [
    "<div class=\"alert alert-warning\"; style=\"border-left: 7px solid yellow\" >\n",
    "<h3>!! Комментарий ревьюера</h3>\n",
    "    \n",
    "Стоит настроить число отображаемых знаков после `.`</div>    \n"
   ]
  },
  {
   "cell_type": "markdown",
   "metadata": {},
   "source": [
    "<div class=\"alert alert-info\">\n",
    "Настроил.\n",
    "</div>"
   ]
  },
  {
   "cell_type": "markdown",
   "metadata": {},
   "source": [
    "<div class=\"alert alert-success\"; style=\"border-left: 7px solid green\">\n",
    "<h3>✔ Комментарий ревьюера V.2</h3>\n",
    "    \n",
    "👍</div>    \n"
   ]
  },
  {
   "cell_type": "markdown",
   "metadata": {},
   "source": [
    "Коэффициент корреляции между оценками критиков и продажами меньше 0.5, поэтому между этими параметрами существует скорее нелинейная связь. Это следует и из вида диаграммы рассеяния."
   ]
  },
  {
   "cell_type": "code",
   "execution_count": 141,
   "metadata": {},
   "outputs": [
    {
     "data": {
      "text/plain": [
       "<AxesSubplot:xlabel='user_score', ylabel='total_sales'>"
      ]
     },
     "execution_count": 141,
     "metadata": {},
     "output_type": "execute_result"
    },
    {
     "data": {
      "image/png": "[encoded data removed]",
      "text/plain": [
       "<Figure size 432x288 with 1 Axes>"
      ]
     },
     "metadata": {
      "needs_background": "light"
     },
     "output_type": "display_data"
    }
   ],
   "source": [
    "df.query('platform == \"PS4\"').plot(\n",
    "    x=\"user_score\", y=\"total_sales\", kind=\"scatter\", grid=True, ylim=(0, 8), alpha=0.3,\n",
    ")"
   ]
  },
  {
   "cell_type": "code",
   "execution_count": 142,
   "metadata": {},
   "outputs": [
    {
     "data": {
      "text/plain": [
       "-0.03"
      ]
     },
     "execution_count": 142,
     "metadata": {},
     "output_type": "execute_result"
    }
   ],
   "source": [
    "round(df.query('platform == \"PS4\"')[\"user_score\"].corr(\n",
    "    df.query('platform == \"PS4\"')[\"total_sales\"]\n",
    "), 2)"
   ]
  },
  {
   "cell_type": "markdown",
   "metadata": {},
   "source": [
    "Из вида диаграммы рассеяния и близости коэффициента корреляции к нулю следует вывод, что продажи игр на платформе \"PS4\" линейно не зависят от отзывов пользователей."
   ]
  },
  {
   "cell_type": "markdown",
   "metadata": {},
   "source": [
    "\n",
    "<div class=\"alert alert-success\"; style=\"border-left: 7px solid green\">\n",
    "<h3>✔ Комментарий ревьюера</h3>\n",
    "    \n",
    "Тут корректнее сказать \"линейно не зависят\", т.к. прямая зависимость это о монотонном росте обеих величин совместно\n",
    "</div>    "
   ]
  },
  {
   "cell_type": "markdown",
   "metadata": {},
   "source": [
    "<div class=\"alert alert-info\">\n",
    "Исправил.\n",
    "</div>"
   ]
  },
  {
   "cell_type": "code",
   "execution_count": 147,
   "metadata": {},
   "outputs": [
    {
     "data": {
      "text/plain": [
       "<AxesSubplot:xlabel='critic_score', ylabel='total_sales'>"
      ]
     },
     "execution_count": 147,
     "metadata": {},
     "output_type": "execute_result"
    },
    {
     "data": {
      "image/png": "[encoded data removed]",
      "text/plain": [
       "<Figure size 432x288 with 1 Axes>"
      ]
     },
     "metadata": {
      "needs_background": "light"
     },
     "output_type": "display_data"
    }
   ],
   "source": [
    "df.query('platform == \"XOne\"').plot(\n",
    "    x=\"critic_score\",\n",
    "    y=\"total_sales\",\n",
    "    kind=\"scatter\",\n",
    "    grid=True,\n",
    "    xlim=(40, 95),\n",
    "    ylim=(0, 4),\n",
    "    alpha=0.3,\n",
    ")"
   ]
  },
  {
   "cell_type": "code",
   "execution_count": 148,
   "metadata": {},
   "outputs": [
    {
     "data": {
      "text/plain": [
       "0.42"
      ]
     },
     "execution_count": 148,
     "metadata": {},
     "output_type": "execute_result"
    }
   ],
   "source": [
    "round(df.query('platform == \"XOne\"')[\"critic_score\"].corr(\n",
    "    df.query('platform == \"XOne\"')[\"total_sales\"]\n",
    "), 2)"
   ]
  },
  {
   "cell_type": "code",
   "execution_count": 149,
   "metadata": {},
   "outputs": [
    {
     "data": {
      "text/plain": [
       "<AxesSubplot:xlabel='critic_score', ylabel='total_sales'>"
      ]
     },
     "execution_count": 149,
     "metadata": {},
     "output_type": "execute_result"
    },
    {
     "data": {
      "image/png": "[encoded data removed]",
      "text/plain": [
       "<Figure size 432x288 with 1 Axes>"
      ]
     },
     "metadata": {
      "needs_background": "light"
     },
     "output_type": "display_data"
    }
   ],
   "source": [
    "df.query('platform == \"3DS\"').plot(\n",
    "    x=\"critic_score\",\n",
    "    y=\"total_sales\",\n",
    "    kind=\"scatter\",\n",
    "    grid=True,\n",
    "    xlim=(40, 95),\n",
    "    ylim=(0, 4),\n",
    "    alpha=0.3,\n",
    ")"
   ]
  },
  {
   "cell_type": "code",
   "execution_count": 150,
   "metadata": {},
   "outputs": [
    {
     "data": {
      "text/plain": [
       "0.36"
      ]
     },
     "execution_count": 150,
     "metadata": {},
     "output_type": "execute_result"
    }
   ],
   "source": [
    "round(df.query('platform == \"3DS\"')[\"critic_score\"].corr(\n",
    "    df.query('platform == \"3DS\"')[\"total_sales\"]\n",
    "), 2)"
   ]
  },
  {
   "cell_type": "markdown",
   "metadata": {},
   "source": [
    "Видим, что в случае игр на платформах XOne и 3DS линейность связи между оценками критиков и продажами практически такая же."
   ]
  },
  {
   "cell_type": "code",
   "execution_count": 151,
   "metadata": {},
   "outputs": [
    {
     "data": {
      "text/plain": [
       "<AxesSubplot:xlabel='user_score', ylabel='total_sales'>"
      ]
     },
     "execution_count": 151,
     "metadata": {},
     "output_type": "execute_result"
    },
    {
     "data": {
      "image/png": "[encoded data removed]",
      "text/plain": [
       "<Figure size 432x288 with 1 Axes>"
      ]
     },
     "metadata": {
      "needs_background": "light"
     },
     "output_type": "display_data"
    }
   ],
   "source": [
    "df.query('platform == \"XOne\"').plot(\n",
    "    x=\"user_score\", y=\"total_sales\", kind=\"scatter\", grid=True, ylim=(0, 3), \n",
    "    alpha=0.3,\n",
    ")"
   ]
  },
  {
   "cell_type": "code",
   "execution_count": 152,
   "metadata": {},
   "outputs": [
    {
     "data": {
      "text/plain": [
       "-0.07"
      ]
     },
     "execution_count": 152,
     "metadata": {},
     "output_type": "execute_result"
    }
   ],
   "source": [
    "round(df.query('platform == \"XOne\"')[\"user_score\"].corr(\n",
    "    df.query('platform == \"XOne\"')[\"total_sales\"]\n",
    "), 2)"
   ]
  },
  {
   "cell_type": "code",
   "execution_count": 153,
   "metadata": {},
   "outputs": [
    {
     "data": {
      "text/plain": [
       "<AxesSubplot:xlabel='user_score', ylabel='total_sales'>"
      ]
     },
     "execution_count": 153,
     "metadata": {},
     "output_type": "execute_result"
    },
    {
     "data": {
      "image/png": "[encoded data removed]",
      "text/plain": [
       "<Figure size 432x288 with 1 Axes>"
      ]
     },
     "metadata": {
      "needs_background": "light"
     },
     "output_type": "display_data"
    }
   ],
   "source": [
    "df.query('platform == \"3DS\"').plot(\n",
    "    x=\"user_score\", y=\"total_sales\", kind=\"scatter\", grid=True, ylim=(0, 3), \n",
    "    alpha=0.3,\n",
    ")"
   ]
  },
  {
   "cell_type": "code",
   "execution_count": 154,
   "metadata": {},
   "outputs": [
    {
     "data": {
      "text/plain": [
       "0.24"
      ]
     },
     "execution_count": 154,
     "metadata": {},
     "output_type": "execute_result"
    }
   ],
   "source": [
    "round(df.query('platform == \"3DS\"')[\"user_score\"].corr(\n",
    "    df.query('platform == \"3DS\"')[\"total_sales\"]\n",
    "), 2)"
   ]
  },
  {
   "cell_type": "markdown",
   "metadata": {},
   "source": [
    "<div class=\"alert alert-danger\"; style=\"border-left: 7px solid red\">\n",
    "<h3>👀 Комментарий ревьюера</h3>\n",
    "    \n",
    "Все вместе собирать платформы не стоит, т.к. одна из платформ может за собой потянуть общую корреляцию. Достаточно было бы для XOne и 3DS картину сравнить </div>  "
   ]
  },
  {
   "cell_type": "markdown",
   "metadata": {},
   "source": [
    "<div class=\"alert alert-info\">\n",
    "Исправил.\n",
    "</div>"
   ]
  },
  {
   "cell_type": "markdown",
   "metadata": {},
   "source": [
    "<div class=\"alert alert-success\"; style=\"border-left: 7px solid green\">\n",
    "<h3>✔ Комментарий ревьюера V.2</h3>\n",
    "    \n",
    "Имел в виду отдельно для XOne и отдельно для 3DS :) Можно корреляции посчитать так:\n",
    "</div>    \n"
   ]
  },
  {
   "cell_type": "code",
   "execution_count": 155,
   "metadata": {},
   "outputs": [
    {
     "data": {
      "text/html": [
       "<div>\n",
       "<style scoped>\n",
       "    .dataframe tbody tr th:only-of-type {\n",
       "        vertical-align: middle;\n",
       "    }\n",
       "\n",
       "    .dataframe tbody tr th {\n",
       "        vertical-align: top;\n",
       "    }\n",
       "\n",
       "    .dataframe thead th {\n",
       "        text-align: right;\n",
       "    }\n",
       "</style>\n",
       "<table border=\"1\" class=\"dataframe\">\n",
       "  <thead>\n",
       "    <tr style=\"text-align: right;\">\n",
       "      <th></th>\n",
       "      <th>user_score</th>\n",
       "      <th>critic_score</th>\n",
       "    </tr>\n",
       "    <tr>\n",
       "      <th>platform</th>\n",
       "      <th></th>\n",
       "      <th></th>\n",
       "    </tr>\n",
       "  </thead>\n",
       "  <tbody>\n",
       "    <tr>\n",
       "      <th>3DS</th>\n",
       "      <td>0.24</td>\n",
       "      <td>0.36</td>\n",
       "    </tr>\n",
       "    <tr>\n",
       "      <th>PC</th>\n",
       "      <td>-0.09</td>\n",
       "      <td>0.20</td>\n",
       "    </tr>\n",
       "    <tr>\n",
       "      <th>PS3</th>\n",
       "      <td>0.00</td>\n",
       "      <td>0.33</td>\n",
       "    </tr>\n",
       "    <tr>\n",
       "      <th>PS4</th>\n",
       "      <td>-0.03</td>\n",
       "      <td>0.41</td>\n",
       "    </tr>\n",
       "    <tr>\n",
       "      <th>PSV</th>\n",
       "      <td>0.00</td>\n",
       "      <td>0.25</td>\n",
       "    </tr>\n",
       "    <tr>\n",
       "      <th>Wii</th>\n",
       "      <td>0.68</td>\n",
       "      <td>NaN</td>\n",
       "    </tr>\n",
       "    <tr>\n",
       "      <th>WiiU</th>\n",
       "      <td>0.42</td>\n",
       "      <td>0.38</td>\n",
       "    </tr>\n",
       "    <tr>\n",
       "      <th>X360</th>\n",
       "      <td>-0.01</td>\n",
       "      <td>0.35</td>\n",
       "    </tr>\n",
       "    <tr>\n",
       "      <th>XOne</th>\n",
       "      <td>-0.07</td>\n",
       "      <td>0.42</td>\n",
       "    </tr>\n",
       "  </tbody>\n",
       "</table>\n",
       "</div>"
      ],
      "text/plain": [
       "          user_score  critic_score\n",
       "platform                          \n",
       "3DS             0.24          0.36\n",
       "PC             -0.09          0.20\n",
       "PS3             0.00          0.33\n",
       "PS4            -0.03          0.41\n",
       "PSV             0.00          0.25\n",
       "Wii             0.68           NaN\n",
       "WiiU            0.42          0.38\n",
       "X360           -0.01          0.35\n",
       "XOne           -0.07          0.42"
      ]
     },
     "execution_count": 155,
     "metadata": {},
     "output_type": "execute_result"
    }
   ],
   "source": [
    "# Код ревьюера\n",
    "\n",
    "df.groupby('platform')[['user_score', 'critic_score']].corrwith(df['total_sales']).round(2)"
   ]
  },
  {
   "cell_type": "markdown",
   "metadata": {},
   "source": [
    "Видим, что и для платформ XOne и 3DS продажи не зависят от оценок пользователей."
   ]
  },
  {
   "cell_type": "markdown",
   "metadata": {},
   "source": [
    "Посмотрим на общее распределение игр по жанрам."
   ]
  },
  {
   "cell_type": "code",
   "execution_count": 156,
   "metadata": {},
   "outputs": [
    {
     "data": {
      "text/html": [
       "<div>\n",
       "<style scoped>\n",
       "    .dataframe tbody tr th:only-of-type {\n",
       "        vertical-align: middle;\n",
       "    }\n",
       "\n",
       "    .dataframe tbody tr th {\n",
       "        vertical-align: top;\n",
       "    }\n",
       "\n",
       "    .dataframe thead th {\n",
       "        text-align: right;\n",
       "    }\n",
       "</style>\n",
       "<table border=\"1\" class=\"dataframe\">\n",
       "  <thead>\n",
       "    <tr style=\"text-align: right;\">\n",
       "      <th></th>\n",
       "      <th>name</th>\n",
       "      <th>platform</th>\n",
       "      <th>year_of_release</th>\n",
       "      <th>genre</th>\n",
       "      <th>na_sales</th>\n",
       "      <th>eu_sales</th>\n",
       "      <th>jp_sales</th>\n",
       "      <th>other_sales</th>\n",
       "      <th>critic_score</th>\n",
       "      <th>user_score</th>\n",
       "      <th>rating</th>\n",
       "      <th>total_sales</th>\n",
       "    </tr>\n",
       "  </thead>\n",
       "  <tbody>\n",
       "    <tr>\n",
       "      <th>16</th>\n",
       "      <td>Grand Theft Auto V</td>\n",
       "      <td>PS3</td>\n",
       "      <td>2013</td>\n",
       "      <td>Action</td>\n",
       "      <td>7.02</td>\n",
       "      <td>9.09</td>\n",
       "      <td>0.98</td>\n",
       "      <td>3.96</td>\n",
       "      <td>97.0</td>\n",
       "      <td>8.2</td>\n",
       "      <td>M</td>\n",
       "      <td>21.05</td>\n",
       "    </tr>\n",
       "    <tr>\n",
       "      <th>23</th>\n",
       "      <td>Grand Theft Auto V</td>\n",
       "      <td>X360</td>\n",
       "      <td>2013</td>\n",
       "      <td>Action</td>\n",
       "      <td>9.66</td>\n",
       "      <td>5.14</td>\n",
       "      <td>0.06</td>\n",
       "      <td>1.41</td>\n",
       "      <td>97.0</td>\n",
       "      <td>8.1</td>\n",
       "      <td>M</td>\n",
       "      <td>16.27</td>\n",
       "    </tr>\n",
       "    <tr>\n",
       "      <th>31</th>\n",
       "      <td>Call of Duty: Black Ops 3</td>\n",
       "      <td>PS4</td>\n",
       "      <td>2015</td>\n",
       "      <td>Shooter</td>\n",
       "      <td>6.03</td>\n",
       "      <td>5.86</td>\n",
       "      <td>0.36</td>\n",
       "      <td>2.38</td>\n",
       "      <td>NaN</td>\n",
       "      <td>NaN</td>\n",
       "      <td>Unknown</td>\n",
       "      <td>14.63</td>\n",
       "    </tr>\n",
       "    <tr>\n",
       "      <th>33</th>\n",
       "      <td>Pokemon X/Pokemon Y</td>\n",
       "      <td>3DS</td>\n",
       "      <td>2013</td>\n",
       "      <td>Role-Playing</td>\n",
       "      <td>5.28</td>\n",
       "      <td>4.19</td>\n",
       "      <td>4.35</td>\n",
       "      <td>0.78</td>\n",
       "      <td>NaN</td>\n",
       "      <td>NaN</td>\n",
       "      <td>Unknown</td>\n",
       "      <td>14.60</td>\n",
       "    </tr>\n",
       "    <tr>\n",
       "      <th>42</th>\n",
       "      <td>Grand Theft Auto V</td>\n",
       "      <td>PS4</td>\n",
       "      <td>2014</td>\n",
       "      <td>Action</td>\n",
       "      <td>3.96</td>\n",
       "      <td>6.31</td>\n",
       "      <td>0.38</td>\n",
       "      <td>1.97</td>\n",
       "      <td>97.0</td>\n",
       "      <td>8.3</td>\n",
       "      <td>M</td>\n",
       "      <td>12.62</td>\n",
       "    </tr>\n",
       "    <tr>\n",
       "      <th>...</th>\n",
       "      <td>...</td>\n",
       "      <td>...</td>\n",
       "      <td>...</td>\n",
       "      <td>...</td>\n",
       "      <td>...</td>\n",
       "      <td>...</td>\n",
       "      <td>...</td>\n",
       "      <td>...</td>\n",
       "      <td>...</td>\n",
       "      <td>...</td>\n",
       "      <td>...</td>\n",
       "      <td>...</td>\n",
       "    </tr>\n",
       "    <tr>\n",
       "      <th>16703</th>\n",
       "      <td>Strawberry Nauts</td>\n",
       "      <td>PSV</td>\n",
       "      <td>2016</td>\n",
       "      <td>Adventure</td>\n",
       "      <td>0.00</td>\n",
       "      <td>0.00</td>\n",
       "      <td>0.01</td>\n",
       "      <td>0.00</td>\n",
       "      <td>NaN</td>\n",
       "      <td>NaN</td>\n",
       "      <td>Unknown</td>\n",
       "      <td>0.01</td>\n",
       "    </tr>\n",
       "    <tr>\n",
       "      <th>16707</th>\n",
       "      <td>Aiyoku no Eustia</td>\n",
       "      <td>PSV</td>\n",
       "      <td>2014</td>\n",
       "      <td>Misc</td>\n",
       "      <td>0.00</td>\n",
       "      <td>0.00</td>\n",
       "      <td>0.01</td>\n",
       "      <td>0.00</td>\n",
       "      <td>NaN</td>\n",
       "      <td>NaN</td>\n",
       "      <td>Unknown</td>\n",
       "      <td>0.01</td>\n",
       "    </tr>\n",
       "    <tr>\n",
       "      <th>16710</th>\n",
       "      <td>Samurai Warriors: Sanada Maru</td>\n",
       "      <td>PS3</td>\n",
       "      <td>2016</td>\n",
       "      <td>Action</td>\n",
       "      <td>0.00</td>\n",
       "      <td>0.00</td>\n",
       "      <td>0.01</td>\n",
       "      <td>0.00</td>\n",
       "      <td>NaN</td>\n",
       "      <td>NaN</td>\n",
       "      <td>Unknown</td>\n",
       "      <td>0.01</td>\n",
       "    </tr>\n",
       "    <tr>\n",
       "      <th>16712</th>\n",
       "      <td>Haitaka no Psychedelica</td>\n",
       "      <td>PSV</td>\n",
       "      <td>2016</td>\n",
       "      <td>Adventure</td>\n",
       "      <td>0.00</td>\n",
       "      <td>0.00</td>\n",
       "      <td>0.01</td>\n",
       "      <td>0.00</td>\n",
       "      <td>NaN</td>\n",
       "      <td>NaN</td>\n",
       "      <td>Unknown</td>\n",
       "      <td>0.01</td>\n",
       "    </tr>\n",
       "    <tr>\n",
       "      <th>16714</th>\n",
       "      <td>Winning Post 8 2016</td>\n",
       "      <td>PSV</td>\n",
       "      <td>2016</td>\n",
       "      <td>Simulation</td>\n",
       "      <td>0.00</td>\n",
       "      <td>0.00</td>\n",
       "      <td>0.01</td>\n",
       "      <td>0.00</td>\n",
       "      <td>NaN</td>\n",
       "      <td>NaN</td>\n",
       "      <td>Unknown</td>\n",
       "      <td>0.01</td>\n",
       "    </tr>\n",
       "  </tbody>\n",
       "</table>\n",
       "<p>2158 rows × 12 columns</p>\n",
       "</div>"
      ],
      "text/plain": [
       "                                name platform  year_of_release         genre  \\\n",
       "16                Grand Theft Auto V      PS3             2013        Action   \n",
       "23                Grand Theft Auto V     X360             2013        Action   \n",
       "31         Call of Duty: Black Ops 3      PS4             2015       Shooter   \n",
       "33               Pokemon X/Pokemon Y      3DS             2013  Role-Playing   \n",
       "42                Grand Theft Auto V      PS4             2014        Action   \n",
       "...                              ...      ...              ...           ...   \n",
       "16703               Strawberry Nauts      PSV             2016     Adventure   \n",
       "16707               Aiyoku no Eustia      PSV             2014          Misc   \n",
       "16710  Samurai Warriors: Sanada Maru      PS3             2016        Action   \n",
       "16712        Haitaka no Psychedelica      PSV             2016     Adventure   \n",
       "16714            Winning Post 8 2016      PSV             2016    Simulation   \n",
       "\n",
       "       na_sales  eu_sales  jp_sales  other_sales  critic_score  user_score  \\\n",
       "16         7.02      9.09      0.98         3.96          97.0         8.2   \n",
       "23         9.66      5.14      0.06         1.41          97.0         8.1   \n",
       "31         6.03      5.86      0.36         2.38           NaN         NaN   \n",
       "33         5.28      4.19      4.35         0.78           NaN         NaN   \n",
       "42         3.96      6.31      0.38         1.97          97.0         8.3   \n",
       "...         ...       ...       ...          ...           ...         ...   \n",
       "16703      0.00      0.00      0.01         0.00           NaN         NaN   \n",
       "16707      0.00      0.00      0.01         0.00           NaN         NaN   \n",
       "16710      0.00      0.00      0.01         0.00           NaN         NaN   \n",
       "16712      0.00      0.00      0.01         0.00           NaN         NaN   \n",
       "16714      0.00      0.00      0.01         0.00           NaN         NaN   \n",
       "\n",
       "        rating  total_sales  \n",
       "16           M        21.05  \n",
       "23           M        16.27  \n",
       "31     Unknown        14.63  \n",
       "33     Unknown        14.60  \n",
       "42           M        12.62  \n",
       "...        ...          ...  \n",
       "16703  Unknown         0.01  \n",
       "16707  Unknown         0.01  \n",
       "16710  Unknown         0.01  \n",
       "16712  Unknown         0.01  \n",
       "16714  Unknown         0.01  \n",
       "\n",
       "[2158 rows x 12 columns]"
      ]
     },
     "execution_count": 156,
     "metadata": {},
     "output_type": "execute_result"
    }
   ],
   "source": [
    "df"
   ]
  },
  {
   "cell_type": "code",
   "execution_count": 157,
   "metadata": {},
   "outputs": [],
   "source": [
    "df_genre = df.pivot_table(\n",
    "    index=\"genre\", values=\"total_sales\", aggfunc=\"sum\"\n",
    ").sort_values(\"total_sales\")"
   ]
  },
  {
   "cell_type": "markdown",
   "metadata": {},
   "source": [
    "<div class=\"alert alert-success\"; style=\"border-left: 7px solid green\">\n",
    "<h3>✔ Комментарий ревьюера</h3>\n",
    "    \n",
    "А зачем в целом такие функции делать, если они используются по одному разу? \n",
    "</div>    \n"
   ]
  },
  {
   "cell_type": "markdown",
   "metadata": {},
   "source": [
    "<div class=\"alert alert-info\">\n",
    "Для построения гистограмм использую одну функцию pass_value.\n",
    "</div>"
   ]
  },
  {
   "cell_type": "code",
   "execution_count": 158,
   "metadata": {},
   "outputs": [
    {
     "data": {
      "image/png": "[encoded data removed]",
      "text/plain": [
       "<Figure size 1368x432 with 1 Axes>"
      ]
     },
     "metadata": {
      "needs_background": "light"
     },
     "output_type": "display_data"
    }
   ],
   "source": [
    "pass_value(df_genre, \"Гистограмма продаж по жанрам\", \"barh\")"
   ]
  },
  {
   "cell_type": "markdown",
   "metadata": {},
   "source": [
    "Из гистограммы следует, что наибольшие продажи наблюдаются у игр жанров Action, Shooter, Sports, Role-Playing."
   ]
  },
  {
   "cell_type": "code",
   "execution_count": 159,
   "metadata": {},
   "outputs": [],
   "source": [
    "df_genre = df.query('genre == [\"Action\", \"Shooter\", \"Sports\", \"Role-Playing\"]')"
   ]
  },
  {
   "cell_type": "code",
   "execution_count": 160,
   "metadata": {},
   "outputs": [
    {
     "data": {
      "text/html": [
       "<div>\n",
       "<style scoped>\n",
       "    .dataframe tbody tr th:only-of-type {\n",
       "        vertical-align: middle;\n",
       "    }\n",
       "\n",
       "    .dataframe tbody tr th {\n",
       "        vertical-align: top;\n",
       "    }\n",
       "\n",
       "    .dataframe thead th {\n",
       "        text-align: right;\n",
       "    }\n",
       "</style>\n",
       "<table border=\"1\" class=\"dataframe\">\n",
       "  <thead>\n",
       "    <tr style=\"text-align: right;\">\n",
       "      <th></th>\n",
       "      <th>name</th>\n",
       "      <th>platform</th>\n",
       "      <th>year_of_release</th>\n",
       "      <th>genre</th>\n",
       "      <th>na_sales</th>\n",
       "      <th>eu_sales</th>\n",
       "      <th>jp_sales</th>\n",
       "      <th>other_sales</th>\n",
       "      <th>critic_score</th>\n",
       "      <th>user_score</th>\n",
       "      <th>rating</th>\n",
       "      <th>total_sales</th>\n",
       "    </tr>\n",
       "  </thead>\n",
       "  <tbody>\n",
       "    <tr>\n",
       "      <th>16</th>\n",
       "      <td>Grand Theft Auto V</td>\n",
       "      <td>PS3</td>\n",
       "      <td>2013</td>\n",
       "      <td>Action</td>\n",
       "      <td>7.02</td>\n",
       "      <td>9.09</td>\n",
       "      <td>0.98</td>\n",
       "      <td>3.96</td>\n",
       "      <td>97.0</td>\n",
       "      <td>8.2</td>\n",
       "      <td>M</td>\n",
       "      <td>21.05</td>\n",
       "    </tr>\n",
       "    <tr>\n",
       "      <th>23</th>\n",
       "      <td>Grand Theft Auto V</td>\n",
       "      <td>X360</td>\n",
       "      <td>2013</td>\n",
       "      <td>Action</td>\n",
       "      <td>9.66</td>\n",
       "      <td>5.14</td>\n",
       "      <td>0.06</td>\n",
       "      <td>1.41</td>\n",
       "      <td>97.0</td>\n",
       "      <td>8.1</td>\n",
       "      <td>M</td>\n",
       "      <td>16.27</td>\n",
       "    </tr>\n",
       "    <tr>\n",
       "      <th>31</th>\n",
       "      <td>Call of Duty: Black Ops 3</td>\n",
       "      <td>PS4</td>\n",
       "      <td>2015</td>\n",
       "      <td>Shooter</td>\n",
       "      <td>6.03</td>\n",
       "      <td>5.86</td>\n",
       "      <td>0.36</td>\n",
       "      <td>2.38</td>\n",
       "      <td>NaN</td>\n",
       "      <td>NaN</td>\n",
       "      <td>Unknown</td>\n",
       "      <td>14.63</td>\n",
       "    </tr>\n",
       "    <tr>\n",
       "      <th>33</th>\n",
       "      <td>Pokemon X/Pokemon Y</td>\n",
       "      <td>3DS</td>\n",
       "      <td>2013</td>\n",
       "      <td>Role-Playing</td>\n",
       "      <td>5.28</td>\n",
       "      <td>4.19</td>\n",
       "      <td>4.35</td>\n",
       "      <td>0.78</td>\n",
       "      <td>NaN</td>\n",
       "      <td>NaN</td>\n",
       "      <td>Unknown</td>\n",
       "      <td>14.60</td>\n",
       "    </tr>\n",
       "    <tr>\n",
       "      <th>42</th>\n",
       "      <td>Grand Theft Auto V</td>\n",
       "      <td>PS4</td>\n",
       "      <td>2014</td>\n",
       "      <td>Action</td>\n",
       "      <td>3.96</td>\n",
       "      <td>6.31</td>\n",
       "      <td>0.38</td>\n",
       "      <td>1.97</td>\n",
       "      <td>97.0</td>\n",
       "      <td>8.3</td>\n",
       "      <td>M</td>\n",
       "      <td>12.62</td>\n",
       "    </tr>\n",
       "    <tr>\n",
       "      <th>...</th>\n",
       "      <td>...</td>\n",
       "      <td>...</td>\n",
       "      <td>...</td>\n",
       "      <td>...</td>\n",
       "      <td>...</td>\n",
       "      <td>...</td>\n",
       "      <td>...</td>\n",
       "      <td>...</td>\n",
       "      <td>...</td>\n",
       "      <td>...</td>\n",
       "      <td>...</td>\n",
       "      <td>...</td>\n",
       "    </tr>\n",
       "    <tr>\n",
       "      <th>16680</th>\n",
       "      <td>Kyoukai no Shirayuki</td>\n",
       "      <td>PSV</td>\n",
       "      <td>2016</td>\n",
       "      <td>Action</td>\n",
       "      <td>0.00</td>\n",
       "      <td>0.00</td>\n",
       "      <td>0.01</td>\n",
       "      <td>0.00</td>\n",
       "      <td>NaN</td>\n",
       "      <td>NaN</td>\n",
       "      <td>Unknown</td>\n",
       "      <td>0.01</td>\n",
       "    </tr>\n",
       "    <tr>\n",
       "      <th>16691</th>\n",
       "      <td>Dynasty Warriors: Eiketsuden</td>\n",
       "      <td>PS3</td>\n",
       "      <td>2016</td>\n",
       "      <td>Action</td>\n",
       "      <td>0.00</td>\n",
       "      <td>0.00</td>\n",
       "      <td>0.01</td>\n",
       "      <td>0.00</td>\n",
       "      <td>NaN</td>\n",
       "      <td>NaN</td>\n",
       "      <td>Unknown</td>\n",
       "      <td>0.01</td>\n",
       "    </tr>\n",
       "    <tr>\n",
       "      <th>16692</th>\n",
       "      <td>Metal Gear Solid V: Ground Zeroes</td>\n",
       "      <td>PC</td>\n",
       "      <td>2014</td>\n",
       "      <td>Action</td>\n",
       "      <td>0.00</td>\n",
       "      <td>0.01</td>\n",
       "      <td>0.00</td>\n",
       "      <td>0.00</td>\n",
       "      <td>80.0</td>\n",
       "      <td>7.6</td>\n",
       "      <td>M</td>\n",
       "      <td>0.01</td>\n",
       "    </tr>\n",
       "    <tr>\n",
       "      <th>16699</th>\n",
       "      <td>The Longest 5 Minutes</td>\n",
       "      <td>PSV</td>\n",
       "      <td>2016</td>\n",
       "      <td>Action</td>\n",
       "      <td>0.00</td>\n",
       "      <td>0.00</td>\n",
       "      <td>0.01</td>\n",
       "      <td>0.00</td>\n",
       "      <td>NaN</td>\n",
       "      <td>NaN</td>\n",
       "      <td>Unknown</td>\n",
       "      <td>0.01</td>\n",
       "    </tr>\n",
       "    <tr>\n",
       "      <th>16710</th>\n",
       "      <td>Samurai Warriors: Sanada Maru</td>\n",
       "      <td>PS3</td>\n",
       "      <td>2016</td>\n",
       "      <td>Action</td>\n",
       "      <td>0.00</td>\n",
       "      <td>0.00</td>\n",
       "      <td>0.01</td>\n",
       "      <td>0.00</td>\n",
       "      <td>NaN</td>\n",
       "      <td>NaN</td>\n",
       "      <td>Unknown</td>\n",
       "      <td>0.01</td>\n",
       "    </tr>\n",
       "  </tbody>\n",
       "</table>\n",
       "<p>1432 rows × 12 columns</p>\n",
       "</div>"
      ],
      "text/plain": [
       "                                    name platform  year_of_release  \\\n",
       "16                    Grand Theft Auto V      PS3             2013   \n",
       "23                    Grand Theft Auto V     X360             2013   \n",
       "31             Call of Duty: Black Ops 3      PS4             2015   \n",
       "33                   Pokemon X/Pokemon Y      3DS             2013   \n",
       "42                    Grand Theft Auto V      PS4             2014   \n",
       "...                                  ...      ...              ...   \n",
       "16680               Kyoukai no Shirayuki      PSV             2016   \n",
       "16691       Dynasty Warriors: Eiketsuden      PS3             2016   \n",
       "16692  Metal Gear Solid V: Ground Zeroes       PC             2014   \n",
       "16699              The Longest 5 Minutes      PSV             2016   \n",
       "16710      Samurai Warriors: Sanada Maru      PS3             2016   \n",
       "\n",
       "              genre  na_sales  eu_sales  jp_sales  other_sales  critic_score  \\\n",
       "16           Action      7.02      9.09      0.98         3.96          97.0   \n",
       "23           Action      9.66      5.14      0.06         1.41          97.0   \n",
       "31          Shooter      6.03      5.86      0.36         2.38           NaN   \n",
       "33     Role-Playing      5.28      4.19      4.35         0.78           NaN   \n",
       "42           Action      3.96      6.31      0.38         1.97          97.0   \n",
       "...             ...       ...       ...       ...          ...           ...   \n",
       "16680        Action      0.00      0.00      0.01         0.00           NaN   \n",
       "16691        Action      0.00      0.00      0.01         0.00           NaN   \n",
       "16692        Action      0.00      0.01      0.00         0.00          80.0   \n",
       "16699        Action      0.00      0.00      0.01         0.00           NaN   \n",
       "16710        Action      0.00      0.00      0.01         0.00           NaN   \n",
       "\n",
       "       user_score   rating  total_sales  \n",
       "16            8.2        M        21.05  \n",
       "23            8.1        M        16.27  \n",
       "31            NaN  Unknown        14.63  \n",
       "33            NaN  Unknown        14.60  \n",
       "42            8.3        M        12.62  \n",
       "...           ...      ...          ...  \n",
       "16680         NaN  Unknown         0.01  \n",
       "16691         NaN  Unknown         0.01  \n",
       "16692         7.6        M         0.01  \n",
       "16699         NaN  Unknown         0.01  \n",
       "16710         NaN  Unknown         0.01  \n",
       "\n",
       "[1432 rows x 12 columns]"
      ]
     },
     "execution_count": 160,
     "metadata": {},
     "output_type": "execute_result"
    }
   ],
   "source": [
    "df_genre"
   ]
  },
  {
   "cell_type": "code",
   "execution_count": 161,
   "metadata": {},
   "outputs": [
    {
     "data": {
      "image/png": "[encoded data removed]",
      "text/plain": [
       "<Figure size 720x360 with 1 Axes>"
      ]
     },
     "metadata": {
      "needs_background": "light"
     },
     "output_type": "display_data"
    }
   ],
   "source": [
    "df_box_top.boxplot(by=\"genre\", column=\"total_sales\", rot = -10, figsize = (10, 5))\n",
    "plt.suptitle(\"\")\n",
    "plt.show()"
   ]
  },
  {
   "cell_type": "markdown",
   "metadata": {},
   "source": [
    "<div class=\"alert alert-danger\"; style=\"border-left: 7px solid red\">\n",
    "<h3>👀 Комментарий ревьюера</h3>\n",
    "    \n",
    "Всё верно, боксплоты лучше описывают прибыльность, т.к. не зависят от числа игр для жанра. Но нужно что-то сделать с попдисями. Сделать график шире, например\n",
    "</div>  "
   ]
  },
  {
   "cell_type": "markdown",
   "metadata": {},
   "source": [
    "<div class=\"alert alert-success\"; style=\"border-left: 7px solid green\">\n",
    "<h3>✔ Комментарий ревьюера V.2</h3>\n",
    "    \n",
    "👍\n",
    "</div>    \n"
   ]
  },
  {
   "cell_type": "code",
   "execution_count": 162,
   "metadata": {},
   "outputs": [
    {
     "data": {
      "text/html": [
       "<div>\n",
       "<style scoped>\n",
       "    .dataframe tbody tr th:only-of-type {\n",
       "        vertical-align: middle;\n",
       "    }\n",
       "\n",
       "    .dataframe tbody tr th {\n",
       "        vertical-align: top;\n",
       "    }\n",
       "\n",
       "    .dataframe thead th {\n",
       "        text-align: right;\n",
       "    }\n",
       "</style>\n",
       "<table border=\"1\" class=\"dataframe\">\n",
       "  <thead>\n",
       "    <tr style=\"text-align: right;\">\n",
       "      <th></th>\n",
       "      <th>count</th>\n",
       "      <th>mean</th>\n",
       "      <th>std</th>\n",
       "      <th>min</th>\n",
       "      <th>25%</th>\n",
       "      <th>50%</th>\n",
       "      <th>75%</th>\n",
       "      <th>max</th>\n",
       "    </tr>\n",
       "    <tr>\n",
       "      <th>genre</th>\n",
       "      <th></th>\n",
       "      <th></th>\n",
       "      <th></th>\n",
       "      <th></th>\n",
       "      <th></th>\n",
       "      <th></th>\n",
       "      <th></th>\n",
       "      <th></th>\n",
       "    </tr>\n",
       "  </thead>\n",
       "  <tbody>\n",
       "    <tr>\n",
       "      <th>Action</th>\n",
       "      <td>232.0</td>\n",
       "      <td>0.346638</td>\n",
       "      <td>0.679832</td>\n",
       "      <td>0.01</td>\n",
       "      <td>0.0300</td>\n",
       "      <td>0.090</td>\n",
       "      <td>0.3000</td>\n",
       "      <td>4.62</td>\n",
       "    </tr>\n",
       "    <tr>\n",
       "      <th>Adventure</th>\n",
       "      <td>42.0</td>\n",
       "      <td>0.192143</td>\n",
       "      <td>0.360363</td>\n",
       "      <td>0.01</td>\n",
       "      <td>0.0200</td>\n",
       "      <td>0.055</td>\n",
       "      <td>0.1300</td>\n",
       "      <td>1.66</td>\n",
       "    </tr>\n",
       "    <tr>\n",
       "      <th>Fighting</th>\n",
       "      <td>24.0</td>\n",
       "      <td>0.423750</td>\n",
       "      <td>0.638019</td>\n",
       "      <td>0.02</td>\n",
       "      <td>0.0675</td>\n",
       "      <td>0.165</td>\n",
       "      <td>0.3450</td>\n",
       "      <td>2.78</td>\n",
       "    </tr>\n",
       "    <tr>\n",
       "      <th>Misc</th>\n",
       "      <td>38.0</td>\n",
       "      <td>0.192895</td>\n",
       "      <td>0.251094</td>\n",
       "      <td>0.01</td>\n",
       "      <td>0.0300</td>\n",
       "      <td>0.055</td>\n",
       "      <td>0.3175</td>\n",
       "      <td>0.86</td>\n",
       "    </tr>\n",
       "    <tr>\n",
       "      <th>Platform</th>\n",
       "      <td>16.0</td>\n",
       "      <td>0.221250</td>\n",
       "      <td>0.363536</td>\n",
       "      <td>0.02</td>\n",
       "      <td>0.0650</td>\n",
       "      <td>0.120</td>\n",
       "      <td>0.2200</td>\n",
       "      <td>1.54</td>\n",
       "    </tr>\n",
       "    <tr>\n",
       "      <th>Puzzle</th>\n",
       "      <td>5.0</td>\n",
       "      <td>0.140000</td>\n",
       "      <td>0.193261</td>\n",
       "      <td>0.02</td>\n",
       "      <td>0.0300</td>\n",
       "      <td>0.060</td>\n",
       "      <td>0.1100</td>\n",
       "      <td>0.48</td>\n",
       "    </tr>\n",
       "    <tr>\n",
       "      <th>Racing</th>\n",
       "      <td>29.0</td>\n",
       "      <td>0.357586</td>\n",
       "      <td>0.573533</td>\n",
       "      <td>0.01</td>\n",
       "      <td>0.0500</td>\n",
       "      <td>0.100</td>\n",
       "      <td>0.3600</td>\n",
       "      <td>2.42</td>\n",
       "    </tr>\n",
       "    <tr>\n",
       "      <th>Role-Playing</th>\n",
       "      <td>76.0</td>\n",
       "      <td>0.624342</td>\n",
       "      <td>1.307708</td>\n",
       "      <td>0.01</td>\n",
       "      <td>0.0700</td>\n",
       "      <td>0.200</td>\n",
       "      <td>0.5025</td>\n",
       "      <td>7.17</td>\n",
       "    </tr>\n",
       "    <tr>\n",
       "      <th>Shooter</th>\n",
       "      <td>57.0</td>\n",
       "      <td>1.627544</td>\n",
       "      <td>2.523567</td>\n",
       "      <td>0.01</td>\n",
       "      <td>0.1400</td>\n",
       "      <td>0.630</td>\n",
       "      <td>2.1400</td>\n",
       "      <td>14.63</td>\n",
       "    </tr>\n",
       "    <tr>\n",
       "      <th>Simulation</th>\n",
       "      <td>15.0</td>\n",
       "      <td>0.334667</td>\n",
       "      <td>0.763562</td>\n",
       "      <td>0.01</td>\n",
       "      <td>0.0200</td>\n",
       "      <td>0.120</td>\n",
       "      <td>0.2600</td>\n",
       "      <td>3.05</td>\n",
       "    </tr>\n",
       "    <tr>\n",
       "      <th>Sports</th>\n",
       "      <td>56.0</td>\n",
       "      <td>0.903571</td>\n",
       "      <td>1.681115</td>\n",
       "      <td>0.01</td>\n",
       "      <td>0.0600</td>\n",
       "      <td>0.220</td>\n",
       "      <td>0.9300</td>\n",
       "      <td>8.58</td>\n",
       "    </tr>\n",
       "    <tr>\n",
       "      <th>Strategy</th>\n",
       "      <td>10.0</td>\n",
       "      <td>0.092000</td>\n",
       "      <td>0.073303</td>\n",
       "      <td>0.02</td>\n",
       "      <td>0.0400</td>\n",
       "      <td>0.070</td>\n",
       "      <td>0.1250</td>\n",
       "      <td>0.22</td>\n",
       "    </tr>\n",
       "  </tbody>\n",
       "</table>\n",
       "</div>"
      ],
      "text/plain": [
       "              count      mean       std   min     25%    50%     75%    max\n",
       "genre                                                                      \n",
       "Action        232.0  0.346638  0.679832  0.01  0.0300  0.090  0.3000   4.62\n",
       "Adventure      42.0  0.192143  0.360363  0.01  0.0200  0.055  0.1300   1.66\n",
       "Fighting       24.0  0.423750  0.638019  0.02  0.0675  0.165  0.3450   2.78\n",
       "Misc           38.0  0.192895  0.251094  0.01  0.0300  0.055  0.3175   0.86\n",
       "Platform       16.0  0.221250  0.363536  0.02  0.0650  0.120  0.2200   1.54\n",
       "Puzzle          5.0  0.140000  0.193261  0.02  0.0300  0.060  0.1100   0.48\n",
       "Racing         29.0  0.357586  0.573533  0.01  0.0500  0.100  0.3600   2.42\n",
       "Role-Playing   76.0  0.624342  1.307708  0.01  0.0700  0.200  0.5025   7.17\n",
       "Shooter        57.0  1.627544  2.523567  0.01  0.1400  0.630  2.1400  14.63\n",
       "Simulation     15.0  0.334667  0.763562  0.01  0.0200  0.120  0.2600   3.05\n",
       "Sports         56.0  0.903571  1.681115  0.01  0.0600  0.220  0.9300   8.58\n",
       "Strategy       10.0  0.092000  0.073303  0.02  0.0400  0.070  0.1250   0.22"
      ]
     },
     "execution_count": 162,
     "metadata": {},
     "output_type": "execute_result"
    }
   ],
   "source": [
    "df_box_top.groupby(\"genre\")[\"total_sales\"].describe()"
   ]
  },
  {
   "cell_type": "markdown",
   "metadata": {},
   "source": [
    "Из полученных статистик и диаграммы размаха следует, что игр жанра Action была выпущено ощутимо больше, чем других популярных жанров, но при этом лучший показатель продаж показали игры жанра Shooter."
   ]
  },
  {
   "cell_type": "markdown",
   "metadata": {},
   "source": [
    "## Составление портрета пользователя для каждого региона"
   ]
  },
  {
   "cell_type": "markdown",
   "metadata": {},
   "source": [
    "Найдем самые популярные платформы по регионам."
   ]
  },
  {
   "cell_type": "code",
   "execution_count": 163,
   "metadata": {},
   "outputs": [],
   "source": [
    "df_na = (\n",
    "    df.pivot_table(index=\"platform\", values=\"na_sales\", aggfunc=\"sum\")\n",
    "    .sort_values(\"na_sales\", ascending=False)\n",
    "    .head()\n",
    ")"
   ]
  },
  {
   "cell_type": "code",
   "execution_count": 164,
   "metadata": {},
   "outputs": [
    {
     "data": {
      "text/html": [
       "<div>\n",
       "<style scoped>\n",
       "    .dataframe tbody tr th:only-of-type {\n",
       "        vertical-align: middle;\n",
       "    }\n",
       "\n",
       "    .dataframe tbody tr th {\n",
       "        vertical-align: top;\n",
       "    }\n",
       "\n",
       "    .dataframe thead th {\n",
       "        text-align: right;\n",
       "    }\n",
       "</style>\n",
       "<table border=\"1\" class=\"dataframe\">\n",
       "  <thead>\n",
       "    <tr style=\"text-align: right;\">\n",
       "      <th></th>\n",
       "      <th>na_sales</th>\n",
       "    </tr>\n",
       "    <tr>\n",
       "      <th>platform</th>\n",
       "      <th></th>\n",
       "    </tr>\n",
       "  </thead>\n",
       "  <tbody>\n",
       "    <tr>\n",
       "      <th>PS4</th>\n",
       "      <td>108.74</td>\n",
       "    </tr>\n",
       "    <tr>\n",
       "      <th>XOne</th>\n",
       "      <td>93.12</td>\n",
       "    </tr>\n",
       "    <tr>\n",
       "      <th>X360</th>\n",
       "      <td>81.66</td>\n",
       "    </tr>\n",
       "    <tr>\n",
       "      <th>PS3</th>\n",
       "      <td>63.50</td>\n",
       "    </tr>\n",
       "    <tr>\n",
       "      <th>3DS</th>\n",
       "      <td>38.20</td>\n",
       "    </tr>\n",
       "  </tbody>\n",
       "</table>\n",
       "</div>"
      ],
      "text/plain": [
       "          na_sales\n",
       "platform          \n",
       "PS4         108.74\n",
       "XOne         93.12\n",
       "X360         81.66\n",
       "PS3          63.50\n",
       "3DS          38.20"
      ]
     },
     "execution_count": 164,
     "metadata": {},
     "output_type": "execute_result"
    }
   ],
   "source": [
    "df_na"
   ]
  },
  {
   "cell_type": "code",
   "execution_count": 165,
   "metadata": {},
   "outputs": [
    {
     "data": {
      "image/png": "[encoded data removed]",
      "text/plain": [
       "<Figure size 1368x432 with 1 Axes>"
      ]
     },
     "metadata": {
      "needs_background": "light"
     },
     "output_type": "display_data"
    }
   ],
   "source": [
    "pass_value(df_na, \"Топ-5 популярных платформ в Северной Америке\", \"bar\")"
   ]
  },
  {
   "cell_type": "code",
   "execution_count": 166,
   "metadata": {},
   "outputs": [],
   "source": [
    "df_eu = (\n",
    "    df.pivot_table(index=\"platform\", values=\"eu_sales\", aggfunc=\"sum\")\n",
    "    .sort_values(\"eu_sales\", ascending=False)\n",
    "    .head()\n",
    ")"
   ]
  },
  {
   "cell_type": "code",
   "execution_count": 167,
   "metadata": {},
   "outputs": [
    {
     "data": {
      "text/html": [
       "<div>\n",
       "<style scoped>\n",
       "    .dataframe tbody tr th:only-of-type {\n",
       "        vertical-align: middle;\n",
       "    }\n",
       "\n",
       "    .dataframe tbody tr th {\n",
       "        vertical-align: top;\n",
       "    }\n",
       "\n",
       "    .dataframe thead th {\n",
       "        text-align: right;\n",
       "    }\n",
       "</style>\n",
       "<table border=\"1\" class=\"dataframe\">\n",
       "  <thead>\n",
       "    <tr style=\"text-align: right;\">\n",
       "      <th></th>\n",
       "      <th>eu_sales</th>\n",
       "    </tr>\n",
       "    <tr>\n",
       "      <th>platform</th>\n",
       "      <th></th>\n",
       "    </tr>\n",
       "  </thead>\n",
       "  <tbody>\n",
       "    <tr>\n",
       "      <th>PS4</th>\n",
       "      <td>141.09</td>\n",
       "    </tr>\n",
       "    <tr>\n",
       "      <th>PS3</th>\n",
       "      <td>67.81</td>\n",
       "    </tr>\n",
       "    <tr>\n",
       "      <th>XOne</th>\n",
       "      <td>51.59</td>\n",
       "    </tr>\n",
       "    <tr>\n",
       "      <th>X360</th>\n",
       "      <td>42.52</td>\n",
       "    </tr>\n",
       "    <tr>\n",
       "      <th>3DS</th>\n",
       "      <td>30.96</td>\n",
       "    </tr>\n",
       "  </tbody>\n",
       "</table>\n",
       "</div>"
      ],
      "text/plain": [
       "          eu_sales\n",
       "platform          \n",
       "PS4         141.09\n",
       "PS3          67.81\n",
       "XOne         51.59\n",
       "X360         42.52\n",
       "3DS          30.96"
      ]
     },
     "execution_count": 167,
     "metadata": {},
     "output_type": "execute_result"
    }
   ],
   "source": [
    "df_eu"
   ]
  },
  {
   "cell_type": "code",
   "execution_count": 168,
   "metadata": {},
   "outputs": [
    {
     "data": {
      "image/png": "[encoded data removed]",
      "text/plain": [
       "<Figure size 1368x432 with 1 Axes>"
      ]
     },
     "metadata": {
      "needs_background": "light"
     },
     "output_type": "display_data"
    }
   ],
   "source": [
    "pass_value(df_eu, \"Топ-5 популярных платформ в Европе\", \"bar\")"
   ]
  },
  {
   "cell_type": "code",
   "execution_count": 169,
   "metadata": {},
   "outputs": [],
   "source": [
    "df_jp = (\n",
    "    df.pivot_table(index=\"platform\", values=\"jp_sales\", aggfunc=\"sum\")\n",
    "    .sort_values(\"jp_sales\", ascending=False)\n",
    "    .head()\n",
    ")"
   ]
  },
  {
   "cell_type": "code",
   "execution_count": 170,
   "metadata": {},
   "outputs": [
    {
     "data": {
      "text/html": [
       "<div>\n",
       "<style scoped>\n",
       "    .dataframe tbody tr th:only-of-type {\n",
       "        vertical-align: middle;\n",
       "    }\n",
       "\n",
       "    .dataframe tbody tr th {\n",
       "        vertical-align: top;\n",
       "    }\n",
       "\n",
       "    .dataframe thead th {\n",
       "        text-align: right;\n",
       "    }\n",
       "</style>\n",
       "<table border=\"1\" class=\"dataframe\">\n",
       "  <thead>\n",
       "    <tr style=\"text-align: right;\">\n",
       "      <th></th>\n",
       "      <th>jp_sales</th>\n",
       "    </tr>\n",
       "    <tr>\n",
       "      <th>platform</th>\n",
       "      <th></th>\n",
       "    </tr>\n",
       "  </thead>\n",
       "  <tbody>\n",
       "    <tr>\n",
       "      <th>3DS</th>\n",
       "      <td>67.81</td>\n",
       "    </tr>\n",
       "    <tr>\n",
       "      <th>PS3</th>\n",
       "      <td>23.35</td>\n",
       "    </tr>\n",
       "    <tr>\n",
       "      <th>PSV</th>\n",
       "      <td>18.59</td>\n",
       "    </tr>\n",
       "    <tr>\n",
       "      <th>PS4</th>\n",
       "      <td>15.96</td>\n",
       "    </tr>\n",
       "    <tr>\n",
       "      <th>WiiU</th>\n",
       "      <td>10.88</td>\n",
       "    </tr>\n",
       "  </tbody>\n",
       "</table>\n",
       "</div>"
      ],
      "text/plain": [
       "          jp_sales\n",
       "platform          \n",
       "3DS          67.81\n",
       "PS3          23.35\n",
       "PSV          18.59\n",
       "PS4          15.96\n",
       "WiiU         10.88"
      ]
     },
     "execution_count": 170,
     "metadata": {},
     "output_type": "execute_result"
    }
   ],
   "source": [
    "df_jp"
   ]
  },
  {
   "cell_type": "code",
   "execution_count": 172,
   "metadata": {},
   "outputs": [
    {
     "data": {
      "image/png": "[encoded data removed]",
      "text/plain": [
       "<Figure size 1368x432 with 1 Axes>"
      ]
     },
     "metadata": {
      "needs_background": "light"
     },
     "output_type": "display_data"
    }
   ],
   "source": [
    "pass_value(df_jp, \"Топ-5 популярных платформ в Японии\", \"bar\")"
   ]
  },
  {
   "cell_type": "markdown",
   "metadata": {},
   "source": [
    "<div class=\"alert alert-warning\"; style=\"border-left: 7px solid yellow\" >\n",
    "<h3>!! Комментарий ревьюера</h3>\n",
    "    \n",
    "Ты ешё и переопределяешь каждый раз функцию зачем-то. Почему в аргументы не передавать `title` ? </div>    \n",
    "\n"
   ]
  },
  {
   "cell_type": "markdown",
   "metadata": {},
   "source": [
    "<div class=\"alert alert-info\">\n",
    "Исправил.\n",
    "</div>"
   ]
  },
  {
   "cell_type": "markdown",
   "metadata": {},
   "source": [
    "<div class=\"alert alert-success\"; style=\"border-left: 7px solid green\">\n",
    "<h3>✔ Комментарий ревьюера V.2</h3>\n",
    "    \n",
    "👍\n",
    "</div>    \n"
   ]
  },
  {
   "cell_type": "markdown",
   "metadata": {},
   "source": [
    "Из полученных гистограмм следует, что в Северной Америки и Европе состав топ-5 самых популярных платформ совпадает, отличается только их порядок, но PS4 в обоих регионах является самой популярной платформой. На более маленьком рынке - в Японии - самой популярной является платформа 3DS, и топ-5 немного изменен. При этом во всех регионах в топ-5 входят платформы 3DS, PS3, PS4 и по общему количеству продаж PS4 опережает конкурентов."
   ]
  },
  {
   "cell_type": "markdown",
   "metadata": {},
   "source": [
    "<div class=\"alert alert-success\"; style=\"border-left: 7px solid green\">\n",
    "<h3>✔ Комментарий ревьюера</h3>\n",
    "    \n",
    "В целом же всё верно, через `subplots` можно было бы место сэкономить: https://matplotlib.org/stable/gallery/subplots_axes_and_figures/subplots_demo.html\n",
    "</div>    \n"
   ]
  },
  {
   "cell_type": "markdown",
   "metadata": {},
   "source": [
    "Теперь найдем самые популярные жанры по регионам."
   ]
  },
  {
   "cell_type": "code",
   "execution_count": 173,
   "metadata": {},
   "outputs": [],
   "source": [
    "df_na = (\n",
    "    df.pivot_table(index=\"genre\", values=\"na_sales\", aggfunc=\"sum\")\n",
    "    .sort_values(\"na_sales\", ascending=False)\n",
    "    .head()\n",
    ")"
   ]
  },
  {
   "cell_type": "code",
   "execution_count": 174,
   "metadata": {},
   "outputs": [
    {
     "data": {
      "text/html": [
       "<div>\n",
       "<style scoped>\n",
       "    .dataframe tbody tr th:only-of-type {\n",
       "        vertical-align: middle;\n",
       "    }\n",
       "\n",
       "    .dataframe tbody tr th {\n",
       "        vertical-align: top;\n",
       "    }\n",
       "\n",
       "    .dataframe thead th {\n",
       "        text-align: right;\n",
       "    }\n",
       "</style>\n",
       "<table border=\"1\" class=\"dataframe\">\n",
       "  <thead>\n",
       "    <tr style=\"text-align: right;\">\n",
       "      <th></th>\n",
       "      <th>na_sales</th>\n",
       "    </tr>\n",
       "    <tr>\n",
       "      <th>genre</th>\n",
       "      <th></th>\n",
       "    </tr>\n",
       "  </thead>\n",
       "  <tbody>\n",
       "    <tr>\n",
       "      <th>Action</th>\n",
       "      <td>125.83</td>\n",
       "    </tr>\n",
       "    <tr>\n",
       "      <th>Shooter</th>\n",
       "      <td>109.74</td>\n",
       "    </tr>\n",
       "    <tr>\n",
       "      <th>Sports</th>\n",
       "      <td>65.27</td>\n",
       "    </tr>\n",
       "    <tr>\n",
       "      <th>Role-Playing</th>\n",
       "      <td>46.40</td>\n",
       "    </tr>\n",
       "    <tr>\n",
       "      <th>Misc</th>\n",
       "      <td>27.46</td>\n",
       "    </tr>\n",
       "  </tbody>\n",
       "</table>\n",
       "</div>"
      ],
      "text/plain": [
       "              na_sales\n",
       "genre                 \n",
       "Action          125.83\n",
       "Shooter         109.74\n",
       "Sports           65.27\n",
       "Role-Playing     46.40\n",
       "Misc             27.46"
      ]
     },
     "execution_count": 174,
     "metadata": {},
     "output_type": "execute_result"
    }
   ],
   "source": [
    "df_na"
   ]
  },
  {
   "cell_type": "code",
   "execution_count": 175,
   "metadata": {},
   "outputs": [
    {
     "data": {
      "image/png": "[encoded data removed]",
      "text/plain": [
       "<Figure size 1368x432 with 1 Axes>"
      ]
     },
     "metadata": {
      "needs_background": "light"
     },
     "output_type": "display_data"
    }
   ],
   "source": [
    "pass_value(df_na, \"Топ-5 популярных жанров в Северной Америке\", \"bar\")"
   ]
  },
  {
   "cell_type": "code",
   "execution_count": 176,
   "metadata": {},
   "outputs": [],
   "source": [
    "df_eu = (\n",
    "    df.pivot_table(index=\"genre\", values=\"eu_sales\", aggfunc=\"sum\")\n",
    "    .sort_values(\"eu_sales\", ascending=False)\n",
    "    .head()\n",
    ")"
   ]
  },
  {
   "cell_type": "code",
   "execution_count": 177,
   "metadata": {},
   "outputs": [
    {
     "data": {
      "text/html": [
       "<div>\n",
       "<style scoped>\n",
       "    .dataframe tbody tr th:only-of-type {\n",
       "        vertical-align: middle;\n",
       "    }\n",
       "\n",
       "    .dataframe tbody tr th {\n",
       "        vertical-align: top;\n",
       "    }\n",
       "\n",
       "    .dataframe thead th {\n",
       "        text-align: right;\n",
       "    }\n",
       "</style>\n",
       "<table border=\"1\" class=\"dataframe\">\n",
       "  <thead>\n",
       "    <tr style=\"text-align: right;\">\n",
       "      <th></th>\n",
       "      <th>eu_sales</th>\n",
       "    </tr>\n",
       "    <tr>\n",
       "      <th>genre</th>\n",
       "      <th></th>\n",
       "    </tr>\n",
       "  </thead>\n",
       "  <tbody>\n",
       "    <tr>\n",
       "      <th>Action</th>\n",
       "      <td>117.87</td>\n",
       "    </tr>\n",
       "    <tr>\n",
       "      <th>Shooter</th>\n",
       "      <td>87.86</td>\n",
       "    </tr>\n",
       "    <tr>\n",
       "      <th>Sports</th>\n",
       "      <td>60.34</td>\n",
       "    </tr>\n",
       "    <tr>\n",
       "      <th>Role-Playing</th>\n",
       "      <td>36.97</td>\n",
       "    </tr>\n",
       "    <tr>\n",
       "      <th>Racing</th>\n",
       "      <td>20.19</td>\n",
       "    </tr>\n",
       "  </tbody>\n",
       "</table>\n",
       "</div>"
      ],
      "text/plain": [
       "              eu_sales\n",
       "genre                 \n",
       "Action          117.87\n",
       "Shooter          87.86\n",
       "Sports           60.34\n",
       "Role-Playing     36.97\n",
       "Racing           20.19"
      ]
     },
     "execution_count": 177,
     "metadata": {},
     "output_type": "execute_result"
    }
   ],
   "source": [
    "df_eu"
   ]
  },
  {
   "cell_type": "code",
   "execution_count": 178,
   "metadata": {},
   "outputs": [
    {
     "data": {
      "image/png": "[encoded data removed]",
      "text/plain": [
       "<Figure size 1368x432 with 1 Axes>"
      ]
     },
     "metadata": {
      "needs_background": "light"
     },
     "output_type": "display_data"
    }
   ],
   "source": [
    "pass_value(df_eu, \"Топ-5 популярных жанров в Европе\", \"bar\")"
   ]
  },
  {
   "cell_type": "code",
   "execution_count": 179,
   "metadata": {},
   "outputs": [],
   "source": [
    "df_jp = (\n",
    "    df.pivot_table(index=\"genre\", values=\"jp_sales\", aggfunc=\"sum\")\n",
    "    .sort_values(\"jp_sales\", ascending=False)\n",
    "    .head()\n",
    ")"
   ]
  },
  {
   "cell_type": "code",
   "execution_count": 180,
   "metadata": {},
   "outputs": [
    {
     "data": {
      "text/html": [
       "<div>\n",
       "<style scoped>\n",
       "    .dataframe tbody tr th:only-of-type {\n",
       "        vertical-align: middle;\n",
       "    }\n",
       "\n",
       "    .dataframe tbody tr th {\n",
       "        vertical-align: top;\n",
       "    }\n",
       "\n",
       "    .dataframe thead th {\n",
       "        text-align: right;\n",
       "    }\n",
       "</style>\n",
       "<table border=\"1\" class=\"dataframe\">\n",
       "  <thead>\n",
       "    <tr style=\"text-align: right;\">\n",
       "      <th></th>\n",
       "      <th>jp_sales</th>\n",
       "    </tr>\n",
       "    <tr>\n",
       "      <th>genre</th>\n",
       "      <th></th>\n",
       "    </tr>\n",
       "  </thead>\n",
       "  <tbody>\n",
       "    <tr>\n",
       "      <th>Role-Playing</th>\n",
       "      <td>50.01</td>\n",
       "    </tr>\n",
       "    <tr>\n",
       "      <th>Action</th>\n",
       "      <td>39.65</td>\n",
       "    </tr>\n",
       "    <tr>\n",
       "      <th>Misc</th>\n",
       "      <td>9.03</td>\n",
       "    </tr>\n",
       "    <tr>\n",
       "      <th>Fighting</th>\n",
       "      <td>7.63</td>\n",
       "    </tr>\n",
       "    <tr>\n",
       "      <th>Shooter</th>\n",
       "      <td>6.61</td>\n",
       "    </tr>\n",
       "  </tbody>\n",
       "</table>\n",
       "</div>"
      ],
      "text/plain": [
       "              jp_sales\n",
       "genre                 \n",
       "Role-Playing     50.01\n",
       "Action           39.65\n",
       "Misc              9.03\n",
       "Fighting          7.63\n",
       "Shooter           6.61"
      ]
     },
     "execution_count": 180,
     "metadata": {},
     "output_type": "execute_result"
    }
   ],
   "source": [
    "df_jp"
   ]
  },
  {
   "cell_type": "code",
   "execution_count": 181,
   "metadata": {},
   "outputs": [
    {
     "data": {
      "image/png": "[encoded data removed]",
      "text/plain": [
       "<Figure size 1368x432 with 1 Axes>"
      ]
     },
     "metadata": {
      "needs_background": "light"
     },
     "output_type": "display_data"
    }
   ],
   "source": [
    "pass_value(df_jp, \"Топ-5 популярных жанров в Японии\", \"bar\")"
   ]
  },
  {
   "cell_type": "markdown",
   "metadata": {},
   "source": [
    "Из полученных гистограмм видно, что топ-4 популярных жанров в Европе и Северной Америке одинаковый, и лучше всех продаются игры жанра Action. В Японии самыми популярными являются игры жанра Role-Playing, так же, как и в других двух регионах, в топ-5 попали игры жанра Shooter и Action. По общему объему продаж можно сделать вывод, что самый популярный жанр - Action."
   ]
  },
  {
   "cell_type": "markdown",
   "metadata": {},
   "source": [
    "<div class=\"alert alert-success\"; style=\"border-left: 7px solid green\">\n",
    "<h3>✔ Комментарий ревьюера</h3>\n",
    "    \n",
    "👍\n",
    "</div>    \n"
   ]
  },
  {
   "cell_type": "markdown",
   "metadata": {},
   "source": [
    "Далее определим влияние рейтинга ESRB на продажи в отдельном регионе."
   ]
  },
  {
   "cell_type": "code",
   "execution_count": 182,
   "metadata": {},
   "outputs": [],
   "source": [
    "df_rating = df.pivot_table(\n",
    "    columns=\"rating\", values=[\"na_sales\", \"eu_sales\", \"jp_sales\"], aggfunc=\"sum\"\n",
    ")"
   ]
  },
  {
   "cell_type": "code",
   "execution_count": 183,
   "metadata": {},
   "outputs": [
    {
     "data": {
      "text/html": [
       "<div>\n",
       "<style scoped>\n",
       "    .dataframe tbody tr th:only-of-type {\n",
       "        vertical-align: middle;\n",
       "    }\n",
       "\n",
       "    .dataframe tbody tr th {\n",
       "        vertical-align: top;\n",
       "    }\n",
       "\n",
       "    .dataframe thead th {\n",
       "        text-align: right;\n",
       "    }\n",
       "</style>\n",
       "<table border=\"1\" class=\"dataframe\">\n",
       "  <thead>\n",
       "    <tr style=\"text-align: right;\">\n",
       "      <th>rating</th>\n",
       "      <th>E</th>\n",
       "      <th>E10+</th>\n",
       "      <th>M</th>\n",
       "      <th>T</th>\n",
       "      <th>Unknown</th>\n",
       "    </tr>\n",
       "  </thead>\n",
       "  <tbody>\n",
       "    <tr>\n",
       "      <th>eu_sales</th>\n",
       "      <td>82.80</td>\n",
       "      <td>42.53</td>\n",
       "      <td>145.32</td>\n",
       "      <td>41.95</td>\n",
       "      <td>78.61</td>\n",
       "    </tr>\n",
       "    <tr>\n",
       "      <th>jp_sales</th>\n",
       "      <td>15.00</td>\n",
       "      <td>5.89</td>\n",
       "      <td>14.11</td>\n",
       "      <td>20.44</td>\n",
       "      <td>82.05</td>\n",
       "    </tr>\n",
       "    <tr>\n",
       "      <th>na_sales</th>\n",
       "      <td>78.94</td>\n",
       "      <td>54.02</td>\n",
       "      <td>165.21</td>\n",
       "      <td>49.79</td>\n",
       "      <td>89.18</td>\n",
       "    </tr>\n",
       "  </tbody>\n",
       "</table>\n",
       "</div>"
      ],
      "text/plain": [
       "rating        E   E10+       M      T  Unknown\n",
       "eu_sales  82.80  42.53  145.32  41.95    78.61\n",
       "jp_sales  15.00   5.89   14.11  20.44    82.05\n",
       "na_sales  78.94  54.02  165.21  49.79    89.18"
      ]
     },
     "execution_count": 183,
     "metadata": {},
     "output_type": "execute_result"
    }
   ],
   "source": [
    "df_rating"
   ]
  },
  {
   "cell_type": "code",
   "execution_count": 184,
   "metadata": {},
   "outputs": [
    {
     "data": {
      "text/plain": [
       "Text(0.5, 1.0, 'Влияние рейтинга на продажи по регионам\\n')"
      ]
     },
     "execution_count": 184,
     "metadata": {},
     "output_type": "execute_result"
    },
    {
     "data": {
      "image/png": "[encoded data removed]",
      "text/plain": [
       "<Figure size 1368x432 with 1 Axes>"
      ]
     },
     "metadata": {
      "needs_background": "light"
     },
     "output_type": "display_data"
    }
   ],
   "source": [
    "df_rating.plot(kind=\"bar\", figsize=(19, 6), rot=0, fontsize=15).set_title(\n",
    "            \"Влияние рейтинга на продажи по регионам\" + \"\\n\",\n",
    "            fontsize=22,\n",
    "            color=\"SteelBlue\",\n",
    "        )"
   ]
  },
  {
   "cell_type": "code",
   "execution_count": 185,
   "metadata": {},
   "outputs": [
    {
     "data": {
      "text/html": [
       "<div>\n",
       "<style scoped>\n",
       "    .dataframe tbody tr th:only-of-type {\n",
       "        vertical-align: middle;\n",
       "    }\n",
       "\n",
       "    .dataframe tbody tr th {\n",
       "        vertical-align: top;\n",
       "    }\n",
       "\n",
       "    .dataframe thead th {\n",
       "        text-align: right;\n",
       "    }\n",
       "</style>\n",
       "<table border=\"1\" class=\"dataframe\">\n",
       "  <thead>\n",
       "    <tr style=\"text-align: right;\">\n",
       "      <th></th>\n",
       "      <th>name</th>\n",
       "      <th>platform</th>\n",
       "      <th>year_of_release</th>\n",
       "      <th>genre</th>\n",
       "      <th>na_sales</th>\n",
       "      <th>eu_sales</th>\n",
       "      <th>jp_sales</th>\n",
       "      <th>other_sales</th>\n",
       "      <th>critic_score</th>\n",
       "      <th>user_score</th>\n",
       "      <th>rating</th>\n",
       "      <th>total_sales</th>\n",
       "    </tr>\n",
       "  </thead>\n",
       "  <tbody>\n",
       "    <tr>\n",
       "      <th>16</th>\n",
       "      <td>Grand Theft Auto V</td>\n",
       "      <td>PS3</td>\n",
       "      <td>2013</td>\n",
       "      <td>Action</td>\n",
       "      <td>7.02</td>\n",
       "      <td>9.09</td>\n",
       "      <td>0.98</td>\n",
       "      <td>3.96</td>\n",
       "      <td>97.0</td>\n",
       "      <td>8.2</td>\n",
       "      <td>M</td>\n",
       "      <td>21.05</td>\n",
       "    </tr>\n",
       "    <tr>\n",
       "      <th>23</th>\n",
       "      <td>Grand Theft Auto V</td>\n",
       "      <td>X360</td>\n",
       "      <td>2013</td>\n",
       "      <td>Action</td>\n",
       "      <td>9.66</td>\n",
       "      <td>5.14</td>\n",
       "      <td>0.06</td>\n",
       "      <td>1.41</td>\n",
       "      <td>97.0</td>\n",
       "      <td>8.1</td>\n",
       "      <td>M</td>\n",
       "      <td>16.27</td>\n",
       "    </tr>\n",
       "    <tr>\n",
       "      <th>31</th>\n",
       "      <td>Call of Duty: Black Ops 3</td>\n",
       "      <td>PS4</td>\n",
       "      <td>2015</td>\n",
       "      <td>Shooter</td>\n",
       "      <td>6.03</td>\n",
       "      <td>5.86</td>\n",
       "      <td>0.36</td>\n",
       "      <td>2.38</td>\n",
       "      <td>NaN</td>\n",
       "      <td>NaN</td>\n",
       "      <td>Unknown</td>\n",
       "      <td>14.63</td>\n",
       "    </tr>\n",
       "    <tr>\n",
       "      <th>33</th>\n",
       "      <td>Pokemon X/Pokemon Y</td>\n",
       "      <td>3DS</td>\n",
       "      <td>2013</td>\n",
       "      <td>Role-Playing</td>\n",
       "      <td>5.28</td>\n",
       "      <td>4.19</td>\n",
       "      <td>4.35</td>\n",
       "      <td>0.78</td>\n",
       "      <td>NaN</td>\n",
       "      <td>NaN</td>\n",
       "      <td>Unknown</td>\n",
       "      <td>14.60</td>\n",
       "    </tr>\n",
       "    <tr>\n",
       "      <th>42</th>\n",
       "      <td>Grand Theft Auto V</td>\n",
       "      <td>PS4</td>\n",
       "      <td>2014</td>\n",
       "      <td>Action</td>\n",
       "      <td>3.96</td>\n",
       "      <td>6.31</td>\n",
       "      <td>0.38</td>\n",
       "      <td>1.97</td>\n",
       "      <td>97.0</td>\n",
       "      <td>8.3</td>\n",
       "      <td>M</td>\n",
       "      <td>12.62</td>\n",
       "    </tr>\n",
       "    <tr>\n",
       "      <th>...</th>\n",
       "      <td>...</td>\n",
       "      <td>...</td>\n",
       "      <td>...</td>\n",
       "      <td>...</td>\n",
       "      <td>...</td>\n",
       "      <td>...</td>\n",
       "      <td>...</td>\n",
       "      <td>...</td>\n",
       "      <td>...</td>\n",
       "      <td>...</td>\n",
       "      <td>...</td>\n",
       "      <td>...</td>\n",
       "    </tr>\n",
       "    <tr>\n",
       "      <th>16703</th>\n",
       "      <td>Strawberry Nauts</td>\n",
       "      <td>PSV</td>\n",
       "      <td>2016</td>\n",
       "      <td>Adventure</td>\n",
       "      <td>0.00</td>\n",
       "      <td>0.00</td>\n",
       "      <td>0.01</td>\n",
       "      <td>0.00</td>\n",
       "      <td>NaN</td>\n",
       "      <td>NaN</td>\n",
       "      <td>Unknown</td>\n",
       "      <td>0.01</td>\n",
       "    </tr>\n",
       "    <tr>\n",
       "      <th>16707</th>\n",
       "      <td>Aiyoku no Eustia</td>\n",
       "      <td>PSV</td>\n",
       "      <td>2014</td>\n",
       "      <td>Misc</td>\n",
       "      <td>0.00</td>\n",
       "      <td>0.00</td>\n",
       "      <td>0.01</td>\n",
       "      <td>0.00</td>\n",
       "      <td>NaN</td>\n",
       "      <td>NaN</td>\n",
       "      <td>Unknown</td>\n",
       "      <td>0.01</td>\n",
       "    </tr>\n",
       "    <tr>\n",
       "      <th>16710</th>\n",
       "      <td>Samurai Warriors: Sanada Maru</td>\n",
       "      <td>PS3</td>\n",
       "      <td>2016</td>\n",
       "      <td>Action</td>\n",
       "      <td>0.00</td>\n",
       "      <td>0.00</td>\n",
       "      <td>0.01</td>\n",
       "      <td>0.00</td>\n",
       "      <td>NaN</td>\n",
       "      <td>NaN</td>\n",
       "      <td>Unknown</td>\n",
       "      <td>0.01</td>\n",
       "    </tr>\n",
       "    <tr>\n",
       "      <th>16712</th>\n",
       "      <td>Haitaka no Psychedelica</td>\n",
       "      <td>PSV</td>\n",
       "      <td>2016</td>\n",
       "      <td>Adventure</td>\n",
       "      <td>0.00</td>\n",
       "      <td>0.00</td>\n",
       "      <td>0.01</td>\n",
       "      <td>0.00</td>\n",
       "      <td>NaN</td>\n",
       "      <td>NaN</td>\n",
       "      <td>Unknown</td>\n",
       "      <td>0.01</td>\n",
       "    </tr>\n",
       "    <tr>\n",
       "      <th>16714</th>\n",
       "      <td>Winning Post 8 2016</td>\n",
       "      <td>PSV</td>\n",
       "      <td>2016</td>\n",
       "      <td>Simulation</td>\n",
       "      <td>0.00</td>\n",
       "      <td>0.00</td>\n",
       "      <td>0.01</td>\n",
       "      <td>0.00</td>\n",
       "      <td>NaN</td>\n",
       "      <td>NaN</td>\n",
       "      <td>Unknown</td>\n",
       "      <td>0.01</td>\n",
       "    </tr>\n",
       "  </tbody>\n",
       "</table>\n",
       "<p>2158 rows × 12 columns</p>\n",
       "</div>"
      ],
      "text/plain": [
       "                                name platform  year_of_release         genre  \\\n",
       "16                Grand Theft Auto V      PS3             2013        Action   \n",
       "23                Grand Theft Auto V     X360             2013        Action   \n",
       "31         Call of Duty: Black Ops 3      PS4             2015       Shooter   \n",
       "33               Pokemon X/Pokemon Y      3DS             2013  Role-Playing   \n",
       "42                Grand Theft Auto V      PS4             2014        Action   \n",
       "...                              ...      ...              ...           ...   \n",
       "16703               Strawberry Nauts      PSV             2016     Adventure   \n",
       "16707               Aiyoku no Eustia      PSV             2014          Misc   \n",
       "16710  Samurai Warriors: Sanada Maru      PS3             2016        Action   \n",
       "16712        Haitaka no Psychedelica      PSV             2016     Adventure   \n",
       "16714            Winning Post 8 2016      PSV             2016    Simulation   \n",
       "\n",
       "       na_sales  eu_sales  jp_sales  other_sales  critic_score  user_score  \\\n",
       "16         7.02      9.09      0.98         3.96          97.0         8.2   \n",
       "23         9.66      5.14      0.06         1.41          97.0         8.1   \n",
       "31         6.03      5.86      0.36         2.38           NaN         NaN   \n",
       "33         5.28      4.19      4.35         0.78           NaN         NaN   \n",
       "42         3.96      6.31      0.38         1.97          97.0         8.3   \n",
       "...         ...       ...       ...          ...           ...         ...   \n",
       "16703      0.00      0.00      0.01         0.00           NaN         NaN   \n",
       "16707      0.00      0.00      0.01         0.00           NaN         NaN   \n",
       "16710      0.00      0.00      0.01         0.00           NaN         NaN   \n",
       "16712      0.00      0.00      0.01         0.00           NaN         NaN   \n",
       "16714      0.00      0.00      0.01         0.00           NaN         NaN   \n",
       "\n",
       "        rating  total_sales  \n",
       "16           M        21.05  \n",
       "23           M        16.27  \n",
       "31     Unknown        14.63  \n",
       "33     Unknown        14.60  \n",
       "42           M        12.62  \n",
       "...        ...          ...  \n",
       "16703  Unknown         0.01  \n",
       "16707  Unknown         0.01  \n",
       "16710  Unknown         0.01  \n",
       "16712  Unknown         0.01  \n",
       "16714  Unknown         0.01  \n",
       "\n",
       "[2158 rows x 12 columns]"
      ]
     },
     "execution_count": 185,
     "metadata": {},
     "output_type": "execute_result"
    }
   ],
   "source": [
    "df"
   ]
  },
  {
   "cell_type": "markdown",
   "metadata": {},
   "source": [
    "Из вида гистограмм следует, что в Северной Америке наибольшая доля продаж приходится на рейтинг M - около 145 миллионов копий, продажи игр с возрастной категорией E и Unknown в составляют около 80 миллионов копий, с категориями E10+ и T - около 40. В Европе распределение продаж по рейтингу имеет схожую структуру с небольшим увеличением показателей. В Японии больше половины проданных игр составляют игры без определенной возрастной категории, поэтому можно сделать вывод, что рейтинг ESRB в данном регионе не влияет на продажи."
   ]
  },
  {
   "cell_type": "markdown",
   "metadata": {},
   "source": [
    "<div class=\"alert alert-success\"; style=\"border-left: 7px solid green\">\n",
    "<h3>✔ Комментарий ревьюера</h3>\n",
    "    \n",
    "Есть идеи, почему в Японии на первом месте игры без рейтинга?\n",
    "</div>    \n"
   ]
  },
  {
   "cell_type": "markdown",
   "metadata": {},
   "source": [
    "<div class=\"alert alert-info\">\n",
    "Я не уверен, но может быть в Японии используется рейтинг от другой организации?\n",
    "</div>"
   ]
  },
  {
   "cell_type": "markdown",
   "metadata": {},
   "source": [
    "<div class=\"alert alert-success\"; style=\"border-left: 7px solid green\">\n",
    "<h3>✔ Комментарий ревьюера V.2</h3>\n",
    "    \n",
    "Да, в Японии есть свой аналог ESRB и вероятно в источнике был указан именно такой рейтинг. Это ещё раз показывает, что в Японии любят всё японское\n",
    "</div>    \n"
   ]
  },
  {
   "cell_type": "markdown",
   "metadata": {},
   "source": [
    "## Проверка гипотез"
   ]
  },
  {
   "cell_type": "markdown",
   "metadata": {},
   "source": [
    "Проверим гипотезу: Средние пользовательские рейтинги платформ Xbox One и PC одинаковые."
   ]
  },
  {
   "cell_type": "markdown",
   "metadata": {},
   "source": [
    "```\n",
    "H_0: Пользовательские рейтинги (user_score) игр на платформе \"Xone\" = Пользовательские рейтинги (user_score) игр на платформе \"PC\"`\n",
    "H_a: Пользовательские рейтинги (user_score) игр на платформе \"Xone\" ≠ Пользовательские рейтинги (user_score) игр на платформе \"PC\"`\n",
    "alpha = 0.05\n",
    "```"
   ]
  },
  {
   "cell_type": "markdown",
   "metadata": {},
   "source": [
    "<div class=\"alert alert-success\"; style=\"border-left: 7px solid green\">\n",
    "<h3>✔ Комментарий ревьюера</h3>\n",
    "    \n",
    "Гипотезы сформулированы верно👍\n",
    "</div>    \n"
   ]
  },
  {
   "cell_type": "code",
   "execution_count": 186,
   "metadata": {},
   "outputs": [
    {
     "data": {
      "text/plain": [
       "182"
      ]
     },
     "execution_count": 186,
     "metadata": {},
     "output_type": "execute_result"
    }
   ],
   "source": [
    "df[(df[\"platform\"] == \"XOne\") & (~df[\"user_score\"].isna())][\"user_score\"].count()"
   ]
  },
  {
   "cell_type": "code",
   "execution_count": 187,
   "metadata": {},
   "outputs": [
    {
     "data": {
      "text/plain": [
       "1.91"
      ]
     },
     "execution_count": 187,
     "metadata": {},
     "output_type": "execute_result"
    }
   ],
   "source": [
    "import numpy as np\n",
    "\n",
    "round(np.var(\n",
    "    df[(df[\"platform\"] == \"XOne\") & (~df[\"user_score\"].isna())][\"user_score\"], ddof=1\n",
    "), 2)"
   ]
  },
  {
   "cell_type": "code",
   "execution_count": 188,
   "metadata": {},
   "outputs": [
    {
     "data": {
      "text/plain": [
       "155"
      ]
     },
     "execution_count": 188,
     "metadata": {},
     "output_type": "execute_result"
    }
   ],
   "source": [
    "df[(df[\"platform\"] == \"PC\") & (~df[\"user_score\"].isna())][\"user_score\"].count()"
   ]
  },
  {
   "cell_type": "code",
   "execution_count": 189,
   "metadata": {},
   "outputs": [
    {
     "data": {
      "text/plain": [
       "3.04"
      ]
     },
     "execution_count": 189,
     "metadata": {},
     "output_type": "execute_result"
    }
   ],
   "source": [
    "round(np.var(df[(df[\"platform\"] == \"PC\") & (~df[\"user_score\"].isna())][\"user_score\"], ddof=1), 2)"
   ]
  },
  {
   "cell_type": "markdown",
   "metadata": {},
   "source": [
    "Как видим, что исследуемые выборки разного размера и их дисперсии значительно различаются, поэтому для проверки гипотезы используем Т-тест Уэлча."
   ]
  },
  {
   "cell_type": "markdown",
   "metadata": {},
   "source": [
    "<div class=\"alert alert-success\"; style=\"border-left: 7px solid green\">\n",
    "<h3>✔ Комментарий ревьюера</h3>\n",
    "    \n",
    "В целом на практике всегда его можно и использовать, т.к. выше не самый мощный критерий для сравнения дисперсий (для этого тоже стат тесты есть, но на практике не делают стат-тесты подряд [делают, но это надо делать очен аккуратно]). По поводу того, что всегда можно указывать `equal_var=False`, можно посмотреть табличку тут: https://ru.wikipedia.org/wiki/T-%D0%BA%D1%80%D0%B8%D1%82%D0%B5%D1%80%D0%B8%D0%B9_%D0%A3%D1%8D%D0%BB%D1%87%D0%B0\n",
    "</div>    \n"
   ]
  },
  {
   "cell_type": "markdown",
   "metadata": {},
   "source": [
    "<div class=\"alert alert-info\">\n",
    "Я правильно понял, что в общем случае можно не сравнивать размеры выборок и дисперсии, а сразу использовать критерий Уэлча?\n",
    "</div>"
   ]
  },
  {
   "cell_type": "markdown",
   "metadata": {},
   "source": [
    "<div class=\"alert alert-success\"; style=\"border-left: 7px solid green\">\n",
    "<h3>✔ Комментарий ревьюера V.2</h3>\n",
    "    \n",
    "Да. Если интересно как потом проверить, что всё корректно, то идеи описаны тут: https://habr.com/ru/company/avito/blog/571094/ Но это пока некоторое забегание вперед\n",
    "</div>    \n"
   ]
  },
  {
   "cell_type": "code",
   "execution_count": 190,
   "metadata": {},
   "outputs": [],
   "source": [
    "from scipy import stats as st"
   ]
  },
  {
   "cell_type": "code",
   "execution_count": 191,
   "metadata": {},
   "outputs": [
    {
     "name": "stdout",
     "output_type": "stream",
     "text": [
      "0.15\n",
      "Не получилось отвергнуть нулевую гипотезу\n"
     ]
    }
   ],
   "source": [
    "results = st.ttest_ind(\n",
    "    df[(df[\"platform\"] == \"XOne\") & (~df[\"user_score\"].isna())][\"user_score\"],\n",
    "    df[(df[\"platform\"] == \"PC\") & (~df[\"user_score\"].isna())][\"user_score\"],\n",
    "    equal_var=False,\n",
    ")\n",
    "\n",
    "alpha = 0.05\n",
    "\n",
    "print(round(results.pvalue, 2))\n",
    "\n",
    "if results.pvalue < alpha:\n",
    "    print(\"Отвергаем нулевую гипотезу\")\n",
    "else:\n",
    "    print(\"Не получилось отвергнуть нулевую гипотезу\")"
   ]
  },
  {
   "cell_type": "markdown",
   "metadata": {},
   "source": [
    "Таким образом, можем сделать вывод, что при критическом уровне статистической значимости 0.05 не следует отвергать гипотезу о том, что средние пользовательские рейтинги платформ Xbox One и PC одинаковые."
   ]
  },
  {
   "cell_type": "markdown",
   "metadata": {},
   "source": [
    "<div class=\"alert alert-success\"; style=\"border-left: 7px solid green\">\n",
    "<h3>✔ Комментарий ревьюера</h3>\n",
    "    \n",
    "Из того, что не получается отвергнуть нулевую гипотезу равенство в общем случае не следует. Можно тут об этом прочитать последний абзац  https://allatambov.github.io/psms/pdf/hypo-test.pdf\n",
    "</div>    \n"
   ]
  },
  {
   "cell_type": "markdown",
   "metadata": {},
   "source": [
    "Проверим гипотезу: Средние пользовательские рейтинги жанров Action и Sports разные."
   ]
  },
  {
   "cell_type": "markdown",
   "metadata": {},
   "source": [
    "```\n",
    "H_0: Пользовательские рейтинги (user_score) игр жанра \"Action\" = Пользовательские рейтинги (user_score) игр жанра \"Sports\"`\n",
    "H_a: Пользовательские рейтинги (user_score) игр жанра \"Action\" ≠ Пользовательские рейтинги (user_score) игр жанра \"Sports\"`\n",
    "alpha = 0.05\n",
    "```"
   ]
  },
  {
   "cell_type": "code",
   "execution_count": 192,
   "metadata": {},
   "outputs": [
    {
     "data": {
      "text/plain": [
       "388"
      ]
     },
     "execution_count": 192,
     "metadata": {},
     "output_type": "execute_result"
    }
   ],
   "source": [
    "df[(df[\"genre\"] == \"Action\") & (~df[\"user_score\"].isna())][\"user_score\"].count()"
   ]
  },
  {
   "cell_type": "code",
   "execution_count": 193,
   "metadata": {},
   "outputs": [
    {
     "data": {
      "text/plain": [
       "1.76"
      ]
     },
     "execution_count": 193,
     "metadata": {},
     "output_type": "execute_result"
    }
   ],
   "source": [
    "round(np.var(df[(df[\"genre\"] == \"Action\") & (~df[\"user_score\"].isna())][\"user_score\"], ddof=1), 2)"
   ]
  },
  {
   "cell_type": "code",
   "execution_count": 194,
   "metadata": {},
   "outputs": [
    {
     "data": {
      "text/plain": [
       "159"
      ]
     },
     "execution_count": 194,
     "metadata": {},
     "output_type": "execute_result"
    }
   ],
   "source": [
    "df[(df[\"genre\"] == \"Sports\") & (~df[\"user_score\"].isna())][\"user_score\"].count()"
   ]
  },
  {
   "cell_type": "code",
   "execution_count": 195,
   "metadata": {},
   "outputs": [
    {
     "data": {
      "text/plain": [
       "3.18"
      ]
     },
     "execution_count": 195,
     "metadata": {},
     "output_type": "execute_result"
    }
   ],
   "source": [
    "round(np.var(df[(df[\"genre\"] == \"Sports\") & (~df[\"user_score\"].isna())][\"user_score\"], ddof=1), 2)"
   ]
  },
  {
   "cell_type": "markdown",
   "metadata": {},
   "source": [
    "Как видим, что исследуемые выборки разного размера и их дисперсии существенно отличаются, поэтому для проверки гипотезы используем Т-тест Уэлча."
   ]
  },
  {
   "cell_type": "code",
   "execution_count": 196,
   "metadata": {},
   "outputs": [
    {
     "name": "stdout",
     "output_type": "stream",
     "text": [
      "2.419141451747253e-20\n",
      "Отвергаем нулевую гипотезу\n"
     ]
    }
   ],
   "source": [
    "results = st.ttest_ind(\n",
    "    df[(df[\"genre\"] == \"Action\") & (~df[\"user_score\"].isna())][\"user_score\"],\n",
    "    df[(df[\"genre\"] == \"Sports\") & (~df[\"user_score\"].isna())][\"user_score\"],\n",
    "    equal_var=False,\n",
    ")\n",
    "\n",
    "alpha = 0.05\n",
    "\n",
    "print(results.pvalue)\n",
    "\n",
    "if results.pvalue < alpha:\n",
    "    print(\"Отвергаем нулевую гипотезу\")\n",
    "else:\n",
    "    print(\"Не получилось отвергнуть нулевую гипотезу\")"
   ]
  },
  {
   "cell_type": "markdown",
   "metadata": {},
   "source": [
    "Найдем разницу в выборочных средних в процентах."
   ]
  },
  {
   "cell_type": "code",
   "execution_count": 197,
   "metadata": {},
   "outputs": [
    {
     "data": {
      "text/plain": [
       "23.28"
      ]
     },
     "execution_count": 197,
     "metadata": {},
     "output_type": "execute_result"
    }
   ],
   "source": [
    "round((1 - df[(df[\"genre\"] == \"Sports\") & (~df[\"user_score\"].isna())][\"user_score\"].mean() / df[(df[\"genre\"] == \"Action\") & (~df[\"user_score\"].isna())][\"user_score\"].mean()) * 100, 2)"
   ]
  },
  {
   "cell_type": "markdown",
   "metadata": {},
   "source": [
    "Видим, что разница между средними выборочными существенная - 23%."
   ]
  },
  {
   "cell_type": "markdown",
   "metadata": {},
   "source": [
    "По результатам теста можно сделать вывод, что, скорее всего, средние пользовательские рейтинги жанров Action и Sports всё-таки разные."
   ]
  },
  {
   "cell_type": "markdown",
   "metadata": {},
   "source": [
    "<div class=\"alert alert-success\"; style=\"border-left: 7px solid green\">\n",
    "<h3>✔ Комментарий ревьюера</h3>\n",
    "    \n",
    "Всё верно. Т.к. нулевая гипотеза отклоняется, стоит выводить разницу в выборочных средних в `%`, чтобы понимать размер эффекта</div>    \n"
   ]
  },
  {
   "cell_type": "markdown",
   "metadata": {},
   "source": [
    "## Общий вывод"
   ]
  },
  {
   "cell_type": "markdown",
   "metadata": {},
   "source": [
    "В начале даннного исследования была проведена предобработка данных, в результате которой:\n",
    "1. Для пропусков в столбце `rating` была создана отдельную категорию \"Unknown\";\n",
    "2. Было обработано значение \"tbd\" в столбце `user_score`;\n",
    "3. Были удалены пропуски в столбах `year_of_release`, `genre`, `name`;\n",
    "4. Был изменен тип данных в столбце `year_of_release` на целочисленный, в столбце `user_score` на вещественный."
   ]
  },
  {
   "cell_type": "markdown",
   "metadata": {},
   "source": [
    "Далее был добавлен столбец `total_sales`, в котором содержатся суммарные продажи каждой игры во всех регионах."
   ]
  },
  {
   "cell_type": "markdown",
   "metadata": {},
   "source": [
    "В следующем этапе были определены наиболее прибыльные платформы, ими оказались: \"PS4\", \"XOne\", \"3DS\". На основе вида диаграмм рассеяния и коэффициентов корреляции был сделан вывод об отсутствии линейной зависимости продаж игр от отзывов пользователей и критиков. В результате анализа таблицы было выяснено, что наибольшие продажи наблюдаются у игр жанров Action, Shooter, Sports, Role-Playing."
   ]
  },
  {
   "cell_type": "markdown",
   "metadata": {},
   "source": [
    "Далее было показано, что во всех исследуемых регионах в топ-5 входят платформы 3DS, PS3, PS4, при этом по общему количеству продаж PS4 опережает конкурентов. Топ-5 самых популряных жанров игр в разных регионах различается, но везде присутствуют игры жанров Action, Shooter, Role-Playing. Был сделан вывод, что рейтинг ESRB не влияет на продажи в Японии, а в других регионах влияет."
   ]
  },
  {
   "cell_type": "markdown",
   "metadata": {},
   "source": [
    "В заключении были проверены две гипотезы. Первая проверка показала, что средние пользовательские рейтинги платформ Xbox One и PC можно считать одинаковыми, а из второй следует, что средние пользовательские рейтинги жанров Action и Sports с большей долей вероятности разные."
   ]
  },
  {
   "cell_type": "markdown",
   "metadata": {},
   "source": [
    "В дальнейшем можно провести исследование продаж игр еще в других регионах, для анализа дополнительно использовать рейтинг других организаций помимо ESRB."
   ]
  },
  {
   "cell_type": "markdown",
   "metadata": {},
   "source": [
    "<div class=\"alert alert-success\"; style=\"border-left: 7px solid green\">\n",
    "<h3>✔ Комментарий ревьюера</h3>\n",
    "    \n",
    "Хорошая работа 👍</div>    \n"
   ]
  }
 ],
 "metadata": {
  "ExecuteTimeLog": [
   {
    "duration": 368,
    "start_time": "2022-08-30T16:37:23.166Z"
   },
   {
    "duration": 3,
    "start_time": "2022-08-30T16:37:26.427Z"
   },
   {
    "duration": 6,
    "start_time": "2022-08-30T16:37:26.432Z"
   },
   {
    "duration": 197,
    "start_time": "2022-08-30T16:37:26.440Z"
   },
   {
    "duration": 95,
    "start_time": "2022-08-30T16:37:26.639Z"
   },
   {
    "duration": 67,
    "start_time": "2022-08-30T16:37:26.736Z"
   },
   {
    "duration": 3,
    "start_time": "2022-08-30T16:37:26.806Z"
   },
   {
    "duration": 32,
    "start_time": "2022-08-30T16:37:26.811Z"
   },
   {
    "duration": 46,
    "start_time": "2022-08-30T16:37:26.845Z"
   },
   {
    "duration": 4,
    "start_time": "2022-08-30T16:37:26.895Z"
   },
   {
    "duration": 20,
    "start_time": "2022-08-30T16:37:26.901Z"
   },
   {
    "duration": 4,
    "start_time": "2022-08-30T16:37:26.923Z"
   },
   {
    "duration": 501,
    "start_time": "2022-08-30T16:37:26.928Z"
   },
   {
    "duration": 16,
    "start_time": "2022-08-30T16:37:27.431Z"
   },
   {
    "duration": 17,
    "start_time": "2022-08-30T16:37:27.449Z"
   },
   {
    "duration": 17,
    "start_time": "2022-08-30T16:37:27.485Z"
   },
   {
    "duration": 14,
    "start_time": "2022-08-30T16:37:27.504Z"
   },
   {
    "duration": 16,
    "start_time": "2022-08-30T16:37:27.520Z"
   },
   {
    "duration": 18,
    "start_time": "2022-08-30T16:37:27.538Z"
   },
   {
    "duration": 35,
    "start_time": "2022-08-30T16:37:27.557Z"
   },
   {
    "duration": 5,
    "start_time": "2022-08-30T16:37:27.594Z"
   },
   {
    "duration": 6,
    "start_time": "2022-08-30T16:37:27.601Z"
   },
   {
    "duration": 10,
    "start_time": "2022-08-30T16:37:27.609Z"
   },
   {
    "duration": 8,
    "start_time": "2022-08-30T16:37:27.620Z"
   },
   {
    "duration": 11,
    "start_time": "2022-08-30T16:37:27.631Z"
   },
   {
    "duration": 4,
    "start_time": "2022-08-30T16:37:27.644Z"
   },
   {
    "duration": 40,
    "start_time": "2022-08-30T16:37:27.649Z"
   },
   {
    "duration": 10,
    "start_time": "2022-08-30T16:37:27.691Z"
   },
   {
    "duration": 8,
    "start_time": "2022-08-30T16:37:27.703Z"
   },
   {
    "duration": 12,
    "start_time": "2022-08-30T16:37:27.713Z"
   },
   {
    "duration": 13,
    "start_time": "2022-08-30T16:37:27.727Z"
   },
   {
    "duration": 15,
    "start_time": "2022-08-30T16:37:27.742Z"
   },
   {
    "duration": 5,
    "start_time": "2022-08-30T16:37:27.784Z"
   },
   {
    "duration": 15,
    "start_time": "2022-08-30T16:37:27.791Z"
   },
   {
    "duration": 5,
    "start_time": "2022-08-30T16:37:27.808Z"
   },
   {
    "duration": 18,
    "start_time": "2022-08-30T16:37:27.814Z"
   },
   {
    "duration": 16,
    "start_time": "2022-08-30T16:37:27.834Z"
   },
   {
    "duration": 48,
    "start_time": "2022-08-30T16:37:27.852Z"
   },
   {
    "duration": 4,
    "start_time": "2022-08-30T16:37:27.902Z"
   },
   {
    "duration": 28,
    "start_time": "2022-08-30T16:37:27.908Z"
   },
   {
    "duration": 11,
    "start_time": "2022-08-30T16:37:27.938Z"
   },
   {
    "duration": 35,
    "start_time": "2022-08-30T16:37:27.950Z"
   },
   {
    "duration": 3,
    "start_time": "2022-08-30T16:37:27.987Z"
   },
   {
    "duration": 204,
    "start_time": "2022-08-30T16:37:27.992Z"
   },
   {
    "duration": 210,
    "start_time": "2022-08-30T16:37:28.198Z"
   },
   {
    "duration": 12,
    "start_time": "2022-08-30T16:37:28.410Z"
   },
   {
    "duration": 9,
    "start_time": "2022-08-30T16:37:28.424Z"
   },
   {
    "duration": 15,
    "start_time": "2022-08-30T16:37:28.435Z"
   },
   {
    "duration": 175,
    "start_time": "2022-08-30T16:37:28.452Z"
   },
   {
    "duration": 8,
    "start_time": "2022-08-30T16:37:28.629Z"
   },
   {
    "duration": 26,
    "start_time": "2022-08-30T16:37:28.638Z"
   },
   {
    "duration": 77,
    "start_time": "2022-08-30T16:37:28.684Z"
   },
   {
    "duration": 24,
    "start_time": "2022-08-30T16:37:28.762Z"
   },
   {
    "duration": 190,
    "start_time": "2022-08-30T16:37:28.788Z"
   },
   {
    "duration": 5,
    "start_time": "2022-08-30T16:37:28.980Z"
   },
   {
    "duration": 11,
    "start_time": "2022-08-30T16:37:28.987Z"
   },
   {
    "duration": 25,
    "start_time": "2022-08-30T16:37:29.000Z"
   },
   {
    "duration": 16,
    "start_time": "2022-08-30T16:37:29.027Z"
   },
   {
    "duration": 23,
    "start_time": "2022-08-30T16:37:29.044Z"
   },
   {
    "duration": 305,
    "start_time": "2022-08-30T16:37:29.069Z"
   },
   {
    "duration": 10,
    "start_time": "2022-08-30T16:37:29.376Z"
   },
   {
    "duration": 11,
    "start_time": "2022-08-30T16:37:29.389Z"
   },
   {
    "duration": 21,
    "start_time": "2022-08-30T16:37:29.403Z"
   },
   {
    "duration": 267,
    "start_time": "2022-08-30T16:37:29.426Z"
   },
   {
    "duration": 7,
    "start_time": "2022-08-30T16:37:29.695Z"
   },
   {
    "duration": 26,
    "start_time": "2022-08-30T16:37:29.704Z"
   },
   {
    "duration": 14,
    "start_time": "2022-08-30T16:37:29.732Z"
   },
   {
    "duration": 11,
    "start_time": "2022-08-30T16:37:29.747Z"
   },
   {
    "duration": 6,
    "start_time": "2022-08-30T16:37:29.786Z"
   },
   {
    "duration": 24,
    "start_time": "2022-08-30T16:37:29.797Z"
   },
   {
    "duration": 164,
    "start_time": "2022-08-30T16:37:29.823Z"
   },
   {
    "duration": 21,
    "start_time": "2022-08-30T16:37:29.989Z"
   },
   {
    "duration": 17,
    "start_time": "2022-08-30T16:37:30.012Z"
   },
   {
    "duration": 191,
    "start_time": "2022-08-30T16:37:30.031Z"
   },
   {
    "duration": 10,
    "start_time": "2022-08-30T16:37:30.224Z"
   },
   {
    "duration": 177,
    "start_time": "2022-08-30T16:37:30.236Z"
   },
   {
    "duration": 11,
    "start_time": "2022-08-30T16:37:30.415Z"
   },
   {
    "duration": 176,
    "start_time": "2022-08-30T16:37:30.428Z"
   },
   {
    "duration": 10,
    "start_time": "2022-08-30T16:37:30.607Z"
   },
   {
    "duration": 174,
    "start_time": "2022-08-30T16:37:30.619Z"
   },
   {
    "duration": 11,
    "start_time": "2022-08-30T16:37:30.795Z"
   },
   {
    "duration": 36,
    "start_time": "2022-08-30T16:37:30.808Z"
   },
   {
    "duration": 34,
    "start_time": "2022-08-30T16:37:30.846Z"
   },
   {
    "duration": 36,
    "start_time": "2022-08-30T16:37:30.881Z"
   },
   {
    "duration": 370,
    "start_time": "2022-08-30T16:37:30.919Z"
   },
   {
    "duration": 5,
    "start_time": "2022-08-30T16:37:31.291Z"
   },
   {
    "duration": 91,
    "start_time": "2022-08-30T16:37:31.298Z"
   },
   {
    "duration": 517,
    "start_time": "2022-08-30T16:37:31.391Z"
   },
   {
    "duration": 98,
    "start_time": "2022-08-30T16:37:31.910Z"
   },
   {
    "duration": 11,
    "start_time": "2022-08-30T16:37:32.010Z"
   },
   {
    "duration": 67,
    "start_time": "2022-08-30T16:37:32.022Z"
   },
   {
    "duration": 6,
    "start_time": "2022-08-30T16:37:32.091Z"
   },
   {
    "duration": 516,
    "start_time": "2022-08-30T16:37:32.099Z"
   },
   {
    "duration": 14,
    "start_time": "2022-08-30T16:37:32.617Z"
   },
   {
    "duration": 60,
    "start_time": "2022-08-30T16:37:32.633Z"
   },
   {
    "duration": 13,
    "start_time": "2022-08-30T16:37:32.696Z"
   },
   {
    "duration": 384,
    "start_time": "2022-08-30T16:37:32.711Z"
   },
   {
    "duration": 10,
    "start_time": "2022-08-30T16:37:33.096Z"
   },
   {
    "duration": 17,
    "start_time": "2022-08-30T16:37:33.108Z"
   },
   {
    "duration": 10,
    "start_time": "2022-08-30T16:37:33.127Z"
   },
   {
    "duration": 172,
    "start_time": "2022-08-30T16:37:33.138Z"
   },
   {
    "duration": 10,
    "start_time": "2022-08-30T16:37:33.312Z"
   },
   {
    "duration": 14,
    "start_time": "2022-08-30T16:37:33.324Z"
   },
   {
    "duration": 9,
    "start_time": "2022-08-30T16:37:33.340Z"
   },
   {
    "duration": 170,
    "start_time": "2022-08-30T16:37:33.351Z"
   },
   {
    "duration": 10,
    "start_time": "2022-08-30T16:37:33.523Z"
   },
   {
    "duration": 12,
    "start_time": "2022-08-30T16:37:33.535Z"
   },
   {
    "duration": 7,
    "start_time": "2022-08-30T16:37:33.549Z"
   },
   {
    "duration": 181,
    "start_time": "2022-08-30T16:37:33.558Z"
   },
   {
    "duration": 10,
    "start_time": "2022-08-30T16:37:33.740Z"
   },
   {
    "duration": 24,
    "start_time": "2022-08-30T16:37:33.752Z"
   },
   {
    "duration": 9,
    "start_time": "2022-08-30T16:37:33.777Z"
   },
   {
    "duration": 168,
    "start_time": "2022-08-30T16:37:33.787Z"
   },
   {
    "duration": 11,
    "start_time": "2022-08-30T16:37:33.956Z"
   },
   {
    "duration": 21,
    "start_time": "2022-08-30T16:37:33.969Z"
   },
   {
    "duration": 19,
    "start_time": "2022-08-30T16:37:33.992Z"
   },
   {
    "duration": 237,
    "start_time": "2022-08-30T16:37:34.013Z"
   },
   {
    "duration": 23,
    "start_time": "2022-08-30T16:37:34.252Z"
   },
   {
    "duration": 14,
    "start_time": "2022-08-30T16:37:34.277Z"
   },
   {
    "duration": 10,
    "start_time": "2022-08-30T16:37:34.293Z"
   },
   {
    "duration": 7,
    "start_time": "2022-08-30T16:37:34.305Z"
   },
   {
    "duration": 9,
    "start_time": "2022-08-30T16:37:34.314Z"
   },
   {
    "duration": 561,
    "start_time": "2022-08-30T16:37:34.324Z"
   },
   {
    "duration": 8,
    "start_time": "2022-08-30T16:37:34.887Z"
   },
   {
    "duration": 28,
    "start_time": "2022-08-30T16:37:34.897Z"
   },
   {
    "duration": 25,
    "start_time": "2022-08-30T16:37:34.927Z"
   },
   {
    "duration": 25,
    "start_time": "2022-08-30T16:37:34.954Z"
   },
   {
    "duration": 10,
    "start_time": "2022-08-30T16:37:34.981Z"
   },
   {
    "duration": 11,
    "start_time": "2022-08-30T16:37:34.993Z"
   },
   {
    "duration": 252,
    "start_time": "2022-08-30T16:37:41.974Z"
   },
   {
    "duration": 482,
    "start_time": "2022-08-30T16:38:22.754Z"
   },
   {
    "duration": 337,
    "start_time": "2022-08-30T16:38:49.403Z"
   },
   {
    "duration": 351,
    "start_time": "2022-08-30T16:39:07.198Z"
   },
   {
    "duration": 370,
    "start_time": "2022-08-30T16:39:12.743Z"
   },
   {
    "duration": 2,
    "start_time": "2022-08-30T16:39:16.438Z"
   },
   {
    "duration": 8,
    "start_time": "2022-08-30T16:39:16.443Z"
   },
   {
    "duration": 15,
    "start_time": "2022-08-30T16:39:16.454Z"
   },
   {
    "duration": 65,
    "start_time": "2022-08-30T16:39:16.471Z"
   },
   {
    "duration": 17,
    "start_time": "2022-08-30T16:39:16.538Z"
   },
   {
    "duration": 17,
    "start_time": "2022-08-30T16:39:16.556Z"
   },
   {
    "duration": 21,
    "start_time": "2022-08-30T16:39:16.574Z"
   },
   {
    "duration": 20,
    "start_time": "2022-08-30T16:39:16.597Z"
   },
   {
    "duration": 4,
    "start_time": "2022-08-30T16:39:16.619Z"
   },
   {
    "duration": 15,
    "start_time": "2022-08-30T16:39:16.625Z"
   },
   {
    "duration": 4,
    "start_time": "2022-08-30T16:39:16.643Z"
   },
   {
    "duration": 252,
    "start_time": "2022-08-30T16:39:16.649Z"
   },
   {
    "duration": 16,
    "start_time": "2022-08-30T16:39:16.904Z"
   },
   {
    "duration": 18,
    "start_time": "2022-08-30T16:39:16.922Z"
   },
   {
    "duration": 45,
    "start_time": "2022-08-30T16:39:16.941Z"
   },
   {
    "duration": 15,
    "start_time": "2022-08-30T16:39:16.988Z"
   },
   {
    "duration": 22,
    "start_time": "2022-08-30T16:39:17.006Z"
   },
   {
    "duration": 19,
    "start_time": "2022-08-30T16:39:17.031Z"
   },
   {
    "duration": 35,
    "start_time": "2022-08-30T16:39:17.051Z"
   },
   {
    "duration": 5,
    "start_time": "2022-08-30T16:39:17.088Z"
   },
   {
    "duration": 7,
    "start_time": "2022-08-30T16:39:17.095Z"
   },
   {
    "duration": 10,
    "start_time": "2022-08-30T16:39:17.104Z"
   },
   {
    "duration": 7,
    "start_time": "2022-08-30T16:39:17.116Z"
   },
   {
    "duration": 7,
    "start_time": "2022-08-30T16:39:17.125Z"
   },
   {
    "duration": 5,
    "start_time": "2022-08-30T16:39:17.134Z"
   },
   {
    "duration": 9,
    "start_time": "2022-08-30T16:39:17.141Z"
   },
   {
    "duration": 36,
    "start_time": "2022-08-30T16:39:17.152Z"
   },
   {
    "duration": 13,
    "start_time": "2022-08-30T16:39:17.190Z"
   },
   {
    "duration": 12,
    "start_time": "2022-08-30T16:39:17.207Z"
   },
   {
    "duration": 14,
    "start_time": "2022-08-30T16:39:17.221Z"
   },
   {
    "duration": 49,
    "start_time": "2022-08-30T16:39:17.237Z"
   },
   {
    "duration": 4,
    "start_time": "2022-08-30T16:39:17.288Z"
   },
   {
    "duration": 19,
    "start_time": "2022-08-30T16:39:17.293Z"
   },
   {
    "duration": 6,
    "start_time": "2022-08-30T16:39:17.313Z"
   },
   {
    "duration": 16,
    "start_time": "2022-08-30T16:39:17.320Z"
   },
   {
    "duration": 15,
    "start_time": "2022-08-30T16:39:17.337Z"
   },
   {
    "duration": 22,
    "start_time": "2022-08-30T16:39:17.385Z"
   },
   {
    "duration": 6,
    "start_time": "2022-08-30T16:39:17.409Z"
   },
   {
    "duration": 23,
    "start_time": "2022-08-30T16:39:17.416Z"
   },
   {
    "duration": 46,
    "start_time": "2022-08-30T16:39:17.441Z"
   },
   {
    "duration": 10,
    "start_time": "2022-08-30T16:39:17.488Z"
   },
   {
    "duration": 6,
    "start_time": "2022-08-30T16:39:17.499Z"
   },
   {
    "duration": 206,
    "start_time": "2022-08-30T16:39:17.507Z"
   },
   {
    "duration": 524,
    "start_time": "2022-08-30T16:39:17.715Z"
   },
   {
    "duration": 12,
    "start_time": "2022-08-30T16:39:18.241Z"
   },
   {
    "duration": 15,
    "start_time": "2022-08-30T16:39:18.255Z"
   },
   {
    "duration": 5,
    "start_time": "2022-08-30T16:39:18.284Z"
   },
   {
    "duration": 166,
    "start_time": "2022-08-30T16:39:18.290Z"
   },
   {
    "duration": 7,
    "start_time": "2022-08-30T16:39:18.458Z"
   },
   {
    "duration": 34,
    "start_time": "2022-08-30T16:39:18.467Z"
   },
   {
    "duration": 13,
    "start_time": "2022-08-30T16:39:18.503Z"
   },
   {
    "duration": 38,
    "start_time": "2022-08-30T16:39:18.517Z"
   },
   {
    "duration": 196,
    "start_time": "2022-08-30T16:39:18.557Z"
   },
   {
    "duration": 3,
    "start_time": "2022-08-30T16:39:18.754Z"
   },
   {
    "duration": 7,
    "start_time": "2022-08-30T16:39:18.759Z"
   },
   {
    "duration": 36,
    "start_time": "2022-08-30T16:39:18.767Z"
   },
   {
    "duration": 14,
    "start_time": "2022-08-30T16:39:18.805Z"
   },
   {
    "duration": 15,
    "start_time": "2022-08-30T16:39:18.820Z"
   },
   {
    "duration": 594,
    "start_time": "2022-08-30T16:39:18.836Z"
   },
   {
    "duration": 55,
    "start_time": "2022-08-30T16:39:19.432Z"
   },
   {
    "duration": 10,
    "start_time": "2022-08-30T16:39:19.488Z"
   },
   {
    "duration": 16,
    "start_time": "2022-08-30T16:39:19.500Z"
   },
   {
    "duration": 505,
    "start_time": "2022-08-30T16:39:19.518Z"
   },
   {
    "duration": 61,
    "start_time": "2022-08-30T16:39:20.025Z"
   },
   {
    "duration": 22,
    "start_time": "2022-08-30T16:39:20.088Z"
   },
   {
    "duration": 14,
    "start_time": "2022-08-30T16:39:20.112Z"
   },
   {
    "duration": 70,
    "start_time": "2022-08-30T16:39:20.128Z"
   },
   {
    "duration": 12,
    "start_time": "2022-08-30T16:39:20.199Z"
   },
   {
    "duration": 76,
    "start_time": "2022-08-30T16:39:20.212Z"
   },
   {
    "duration": 297,
    "start_time": "2022-08-30T16:39:20.289Z"
   },
   {
    "duration": 30,
    "start_time": "2022-08-30T16:39:20.588Z"
   },
   {
    "duration": 80,
    "start_time": "2022-08-30T16:39:20.620Z"
   },
   {
    "duration": 346,
    "start_time": "2022-08-30T16:39:20.702Z"
   },
   {
    "duration": 10,
    "start_time": "2022-08-30T16:39:21.050Z"
   },
   {
    "duration": 189,
    "start_time": "2022-08-30T16:39:21.061Z"
   },
   {
    "duration": 10,
    "start_time": "2022-08-30T16:39:21.252Z"
   },
   {
    "duration": 173,
    "start_time": "2022-08-30T16:39:21.264Z"
   },
   {
    "duration": 11,
    "start_time": "2022-08-30T16:39:21.439Z"
   },
   {
    "duration": 176,
    "start_time": "2022-08-30T16:39:21.452Z"
   },
   {
    "duration": 11,
    "start_time": "2022-08-30T16:39:21.629Z"
   },
   {
    "duration": 24,
    "start_time": "2022-08-30T16:39:21.641Z"
   },
   {
    "duration": 10,
    "start_time": "2022-08-30T16:39:21.686Z"
   },
   {
    "duration": 4,
    "start_time": "2022-08-30T16:39:21.704Z"
   },
   {
    "duration": 228,
    "start_time": "2022-08-30T16:39:21.710Z"
   },
   {
    "duration": 6,
    "start_time": "2022-08-30T16:39:21.941Z"
   },
   {
    "duration": 48,
    "start_time": "2022-08-30T16:39:21.949Z"
   },
   {
    "duration": 261,
    "start_time": "2022-08-30T16:39:21.999Z"
   },
   {
    "duration": 47,
    "start_time": "2022-08-30T16:39:22.262Z"
   },
   {
    "duration": 9,
    "start_time": "2022-08-30T16:39:22.312Z"
   },
   {
    "duration": 23,
    "start_time": "2022-08-30T16:39:22.323Z"
   },
   {
    "duration": 20,
    "start_time": "2022-08-30T16:39:22.348Z"
   },
   {
    "duration": 154,
    "start_time": "2022-08-30T16:39:22.369Z"
   },
   {
    "duration": 10,
    "start_time": "2022-08-30T16:39:22.525Z"
   },
   {
    "duration": 11,
    "start_time": "2022-08-30T16:39:22.537Z"
   },
   {
    "duration": 9,
    "start_time": "2022-08-30T16:39:22.550Z"
   },
   {
    "duration": 295,
    "start_time": "2022-08-30T16:39:22.561Z"
   },
   {
    "duration": 17,
    "start_time": "2022-08-30T16:39:22.859Z"
   },
   {
    "duration": 36,
    "start_time": "2022-08-30T16:39:22.884Z"
   },
   {
    "duration": 15,
    "start_time": "2022-08-30T16:39:22.922Z"
   },
   {
    "duration": 177,
    "start_time": "2022-08-30T16:39:22.939Z"
   },
   {
    "duration": 12,
    "start_time": "2022-08-30T16:39:23.118Z"
   },
   {
    "duration": 16,
    "start_time": "2022-08-30T16:39:23.132Z"
   },
   {
    "duration": 14,
    "start_time": "2022-08-30T16:39:23.150Z"
   },
   {
    "duration": 195,
    "start_time": "2022-08-30T16:39:23.165Z"
   },
   {
    "duration": 10,
    "start_time": "2022-08-30T16:39:23.362Z"
   },
   {
    "duration": 16,
    "start_time": "2022-08-30T16:39:23.374Z"
   },
   {
    "duration": 11,
    "start_time": "2022-08-30T16:39:23.392Z"
   },
   {
    "duration": 173,
    "start_time": "2022-08-30T16:39:23.404Z"
   },
   {
    "duration": 14,
    "start_time": "2022-08-30T16:39:23.579Z"
   },
   {
    "duration": 16,
    "start_time": "2022-08-30T16:39:23.596Z"
   },
   {
    "duration": 8,
    "start_time": "2022-08-30T16:39:23.615Z"
   },
   {
    "duration": 166,
    "start_time": "2022-08-30T16:39:23.625Z"
   },
   {
    "duration": 11,
    "start_time": "2022-08-30T16:39:23.793Z"
   },
   {
    "duration": 15,
    "start_time": "2022-08-30T16:39:23.805Z"
   },
   {
    "duration": 7,
    "start_time": "2022-08-30T16:39:23.822Z"
   },
   {
    "duration": 246,
    "start_time": "2022-08-30T16:39:23.831Z"
   },
   {
    "duration": 26,
    "start_time": "2022-08-30T16:39:24.079Z"
   },
   {
    "duration": 12,
    "start_time": "2022-08-30T16:39:24.107Z"
   },
   {
    "duration": 10,
    "start_time": "2022-08-30T16:39:24.121Z"
   },
   {
    "duration": 13,
    "start_time": "2022-08-30T16:39:24.132Z"
   },
   {
    "duration": 11,
    "start_time": "2022-08-30T16:39:24.146Z"
   },
   {
    "duration": 27,
    "start_time": "2022-08-30T16:39:24.159Z"
   },
   {
    "duration": 15,
    "start_time": "2022-08-30T16:39:24.188Z"
   },
   {
    "duration": 13,
    "start_time": "2022-08-30T16:39:24.205Z"
   },
   {
    "duration": 11,
    "start_time": "2022-08-30T16:39:24.219Z"
   },
   {
    "duration": 14,
    "start_time": "2022-08-30T16:39:24.232Z"
   },
   {
    "duration": 20,
    "start_time": "2022-08-30T16:39:24.248Z"
   },
   {
    "duration": 13,
    "start_time": "2022-08-30T16:39:24.269Z"
   },
   {
    "duration": 370,
    "start_time": "2022-08-30T16:39:24.287Z"
   },
   {
    "duration": 2,
    "start_time": "2022-08-30T16:39:28.667Z"
   },
   {
    "duration": 5,
    "start_time": "2022-08-30T16:39:28.673Z"
   },
   {
    "duration": 5,
    "start_time": "2022-08-30T16:39:28.680Z"
   },
   {
    "duration": 50,
    "start_time": "2022-08-30T16:39:28.686Z"
   },
   {
    "duration": 16,
    "start_time": "2022-08-30T16:39:28.738Z"
   },
   {
    "duration": 5,
    "start_time": "2022-08-30T16:39:28.756Z"
   },
   {
    "duration": 27,
    "start_time": "2022-08-30T16:39:28.763Z"
   },
   {
    "duration": 20,
    "start_time": "2022-08-30T16:39:28.792Z"
   },
   {
    "duration": 5,
    "start_time": "2022-08-30T16:39:28.813Z"
   },
   {
    "duration": 16,
    "start_time": "2022-08-30T16:39:28.820Z"
   },
   {
    "duration": 5,
    "start_time": "2022-08-30T16:39:28.838Z"
   },
   {
    "duration": 274,
    "start_time": "2022-08-30T16:39:28.845Z"
   },
   {
    "duration": 16,
    "start_time": "2022-08-30T16:39:29.121Z"
   },
   {
    "duration": 17,
    "start_time": "2022-08-30T16:39:29.140Z"
   },
   {
    "duration": 39,
    "start_time": "2022-08-30T16:39:29.159Z"
   },
   {
    "duration": 18,
    "start_time": "2022-08-30T16:39:29.199Z"
   },
   {
    "duration": 14,
    "start_time": "2022-08-30T16:39:29.218Z"
   },
   {
    "duration": 22,
    "start_time": "2022-08-30T16:39:29.234Z"
   },
   {
    "duration": 35,
    "start_time": "2022-08-30T16:39:29.257Z"
   },
   {
    "duration": 7,
    "start_time": "2022-08-30T16:39:29.294Z"
   },
   {
    "duration": 27,
    "start_time": "2022-08-30T16:39:29.302Z"
   },
   {
    "duration": 11,
    "start_time": "2022-08-30T16:39:29.331Z"
   },
   {
    "duration": 8,
    "start_time": "2022-08-30T16:39:29.343Z"
   },
   {
    "duration": 13,
    "start_time": "2022-08-30T16:39:29.352Z"
   },
   {
    "duration": 18,
    "start_time": "2022-08-30T16:39:29.367Z"
   },
   {
    "duration": 9,
    "start_time": "2022-08-30T16:39:29.387Z"
   },
   {
    "duration": 12,
    "start_time": "2022-08-30T16:39:29.398Z"
   },
   {
    "duration": 15,
    "start_time": "2022-08-30T16:39:29.412Z"
   },
   {
    "duration": 12,
    "start_time": "2022-08-30T16:39:29.429Z"
   },
   {
    "duration": 15,
    "start_time": "2022-08-30T16:39:29.444Z"
   },
   {
    "duration": 45,
    "start_time": "2022-08-30T16:39:29.460Z"
   },
   {
    "duration": 10,
    "start_time": "2022-08-30T16:39:29.507Z"
   },
   {
    "duration": 20,
    "start_time": "2022-08-30T16:39:29.518Z"
   },
   {
    "duration": 6,
    "start_time": "2022-08-30T16:39:29.540Z"
   },
   {
    "duration": 21,
    "start_time": "2022-08-30T16:39:29.548Z"
   },
   {
    "duration": 17,
    "start_time": "2022-08-30T16:39:29.584Z"
   },
   {
    "duration": 26,
    "start_time": "2022-08-30T16:39:29.603Z"
   },
   {
    "duration": 8,
    "start_time": "2022-08-30T16:39:29.634Z"
   },
   {
    "duration": 42,
    "start_time": "2022-08-30T16:39:29.644Z"
   },
   {
    "duration": 10,
    "start_time": "2022-08-30T16:39:29.688Z"
   },
   {
    "duration": 8,
    "start_time": "2022-08-30T16:39:29.700Z"
   },
   {
    "duration": 11,
    "start_time": "2022-08-30T16:39:29.710Z"
   },
   {
    "duration": 205,
    "start_time": "2022-08-30T16:39:29.723Z"
   },
   {
    "duration": 467,
    "start_time": "2022-08-30T16:39:29.930Z"
   },
   {
    "duration": 10,
    "start_time": "2022-08-30T16:39:30.399Z"
   },
   {
    "duration": 18,
    "start_time": "2022-08-30T16:39:30.411Z"
   },
   {
    "duration": 24,
    "start_time": "2022-08-30T16:39:30.432Z"
   },
   {
    "duration": 178,
    "start_time": "2022-08-30T16:39:30.457Z"
   },
   {
    "duration": 8,
    "start_time": "2022-08-30T16:39:30.637Z"
   },
   {
    "duration": 37,
    "start_time": "2022-08-30T16:39:30.647Z"
   },
   {
    "duration": 30,
    "start_time": "2022-08-30T16:39:30.685Z"
   },
   {
    "duration": 20,
    "start_time": "2022-08-30T16:39:30.717Z"
   },
   {
    "duration": 297,
    "start_time": "2022-08-30T16:39:30.740Z"
   },
   {
    "duration": 3,
    "start_time": "2022-08-30T16:39:31.039Z"
   },
   {
    "duration": 30,
    "start_time": "2022-08-30T16:39:31.044Z"
   },
   {
    "duration": 33,
    "start_time": "2022-08-30T16:39:31.075Z"
   },
   {
    "duration": 35,
    "start_time": "2022-08-30T16:39:31.110Z"
   },
   {
    "duration": 18,
    "start_time": "2022-08-30T16:39:31.147Z"
   },
   {
    "duration": 283,
    "start_time": "2022-08-30T16:39:31.167Z"
   },
   {
    "duration": 5,
    "start_time": "2022-08-30T16:39:31.452Z"
   },
   {
    "duration": 19,
    "start_time": "2022-08-30T16:39:31.459Z"
   },
   {
    "duration": 23,
    "start_time": "2022-08-30T16:39:31.484Z"
   },
   {
    "duration": 262,
    "start_time": "2022-08-30T16:39:31.508Z"
   },
   {
    "duration": 7,
    "start_time": "2022-08-30T16:39:31.771Z"
   },
   {
    "duration": 31,
    "start_time": "2022-08-30T16:39:31.785Z"
   },
   {
    "duration": 21,
    "start_time": "2022-08-30T16:39:31.818Z"
   },
   {
    "duration": 17,
    "start_time": "2022-08-30T16:39:31.841Z"
   },
   {
    "duration": 17,
    "start_time": "2022-08-30T16:39:31.860Z"
   },
   {
    "duration": 27,
    "start_time": "2022-08-30T16:39:31.879Z"
   },
   {
    "duration": 160,
    "start_time": "2022-08-30T16:39:31.908Z"
   },
   {
    "duration": 30,
    "start_time": "2022-08-30T16:39:32.070Z"
   },
   {
    "duration": 22,
    "start_time": "2022-08-30T16:39:32.102Z"
   },
   {
    "duration": 188,
    "start_time": "2022-08-30T16:39:32.126Z"
   },
   {
    "duration": 11,
    "start_time": "2022-08-30T16:39:32.315Z"
   },
   {
    "duration": 170,
    "start_time": "2022-08-30T16:39:32.328Z"
   },
   {
    "duration": 9,
    "start_time": "2022-08-30T16:39:32.500Z"
   },
   {
    "duration": 174,
    "start_time": "2022-08-30T16:39:32.511Z"
   },
   {
    "duration": 12,
    "start_time": "2022-08-30T16:39:32.686Z"
   },
   {
    "duration": 182,
    "start_time": "2022-08-30T16:39:32.699Z"
   },
   {
    "duration": 11,
    "start_time": "2022-08-30T16:39:32.885Z"
   },
   {
    "duration": 29,
    "start_time": "2022-08-30T16:39:32.897Z"
   },
   {
    "duration": 19,
    "start_time": "2022-08-30T16:39:32.928Z"
   },
   {
    "duration": 5,
    "start_time": "2022-08-30T16:39:32.949Z"
   },
   {
    "duration": 236,
    "start_time": "2022-08-30T16:39:32.955Z"
   },
   {
    "duration": 7,
    "start_time": "2022-08-30T16:39:33.193Z"
   },
   {
    "duration": 31,
    "start_time": "2022-08-30T16:39:33.202Z"
   },
   {
    "duration": 295,
    "start_time": "2022-08-30T16:39:33.234Z"
   },
   {
    "duration": 39,
    "start_time": "2022-08-30T16:39:33.531Z"
   },
   {
    "duration": 10,
    "start_time": "2022-08-30T16:39:33.585Z"
   },
   {
    "duration": 7,
    "start_time": "2022-08-30T16:39:33.597Z"
   },
   {
    "duration": 7,
    "start_time": "2022-08-30T16:39:33.606Z"
   },
   {
    "duration": 277,
    "start_time": "2022-08-30T16:39:33.614Z"
   },
   {
    "duration": 11,
    "start_time": "2022-08-30T16:39:33.892Z"
   },
   {
    "duration": 16,
    "start_time": "2022-08-30T16:39:33.905Z"
   },
   {
    "duration": 13,
    "start_time": "2022-08-30T16:39:33.922Z"
   },
   {
    "duration": 202,
    "start_time": "2022-08-30T16:39:33.938Z"
   },
   {
    "duration": 12,
    "start_time": "2022-08-30T16:39:34.142Z"
   },
   {
    "duration": 17,
    "start_time": "2022-08-30T16:39:34.156Z"
   },
   {
    "duration": 4,
    "start_time": "2022-08-30T16:39:34.186Z"
   },
   {
    "duration": 200,
    "start_time": "2022-08-30T16:39:34.192Z"
   },
   {
    "duration": 13,
    "start_time": "2022-08-30T16:39:34.395Z"
   },
   {
    "duration": 21,
    "start_time": "2022-08-30T16:39:34.410Z"
   },
   {
    "duration": 20,
    "start_time": "2022-08-30T16:39:34.433Z"
   },
   {
    "duration": 207,
    "start_time": "2022-08-30T16:39:34.456Z"
   },
   {
    "duration": 20,
    "start_time": "2022-08-30T16:39:34.665Z"
   },
   {
    "duration": 9,
    "start_time": "2022-08-30T16:39:34.687Z"
   },
   {
    "duration": 10,
    "start_time": "2022-08-30T16:39:34.699Z"
   },
   {
    "duration": 181,
    "start_time": "2022-08-30T16:39:34.711Z"
   },
   {
    "duration": 11,
    "start_time": "2022-08-30T16:39:34.893Z"
   },
   {
    "duration": 11,
    "start_time": "2022-08-30T16:39:34.911Z"
   },
   {
    "duration": 9,
    "start_time": "2022-08-30T16:39:34.924Z"
   },
   {
    "duration": 188,
    "start_time": "2022-08-30T16:39:34.935Z"
   },
   {
    "duration": 12,
    "start_time": "2022-08-30T16:39:35.124Z"
   },
   {
    "duration": 14,
    "start_time": "2022-08-30T16:39:35.138Z"
   },
   {
    "duration": 18,
    "start_time": "2022-08-30T16:39:35.154Z"
   },
   {
    "duration": 234,
    "start_time": "2022-08-30T16:39:35.174Z"
   },
   {
    "duration": 24,
    "start_time": "2022-08-30T16:39:35.410Z"
   },
   {
    "duration": 9,
    "start_time": "2022-08-30T16:39:35.436Z"
   },
   {
    "duration": 22,
    "start_time": "2022-08-30T16:39:35.447Z"
   },
   {
    "duration": 21,
    "start_time": "2022-08-30T16:39:35.470Z"
   },
   {
    "duration": 8,
    "start_time": "2022-08-30T16:39:35.493Z"
   },
   {
    "duration": 9,
    "start_time": "2022-08-30T16:39:35.503Z"
   },
   {
    "duration": 12,
    "start_time": "2022-08-30T16:39:35.514Z"
   },
   {
    "duration": 10,
    "start_time": "2022-08-30T16:39:35.528Z"
   },
   {
    "duration": 13,
    "start_time": "2022-08-30T16:39:35.540Z"
   },
   {
    "duration": 31,
    "start_time": "2022-08-30T16:39:35.555Z"
   },
   {
    "duration": 7,
    "start_time": "2022-08-30T16:39:35.588Z"
   },
   {
    "duration": 10,
    "start_time": "2022-08-30T16:39:35.596Z"
   },
   {
    "duration": 19,
    "start_time": "2022-08-30T16:41:24.940Z"
   },
   {
    "duration": 180,
    "start_time": "2022-08-30T16:41:28.646Z"
   },
   {
    "duration": 228,
    "start_time": "2022-08-30T16:41:32.509Z"
   },
   {
    "duration": 4,
    "start_time": "2022-08-31T07:08:32.945Z"
   },
   {
    "duration": 5,
    "start_time": "2022-08-31T07:08:32.950Z"
   },
   {
    "duration": 434,
    "start_time": "2022-08-31T07:08:32.957Z"
   },
   {
    "duration": 519,
    "start_time": "2022-08-31T07:08:33.393Z"
   },
   {
    "duration": 33,
    "start_time": "2022-08-31T07:08:33.914Z"
   },
   {
    "duration": 4,
    "start_time": "2022-08-31T07:08:33.949Z"
   },
   {
    "duration": 23,
    "start_time": "2022-08-31T07:08:33.955Z"
   },
   {
    "duration": 19,
    "start_time": "2022-08-31T07:08:33.979Z"
   },
   {
    "duration": 3,
    "start_time": "2022-08-31T07:08:34.001Z"
   },
   {
    "duration": 17,
    "start_time": "2022-08-31T07:08:34.006Z"
   },
   {
    "duration": 22,
    "start_time": "2022-08-31T07:08:36.586Z"
   },
   {
    "duration": 6,
    "start_time": "2022-08-31T07:08:39.881Z"
   },
   {
    "duration": 601,
    "start_time": "2022-08-31T07:08:43.361Z"
   },
   {
    "duration": 3,
    "start_time": "2022-08-31T07:10:10.767Z"
   },
   {
    "duration": 7,
    "start_time": "2022-08-31T07:10:10.773Z"
   },
   {
    "duration": 6,
    "start_time": "2022-08-31T07:10:10.782Z"
   },
   {
    "duration": 62,
    "start_time": "2022-08-31T07:10:10.789Z"
   },
   {
    "duration": 18,
    "start_time": "2022-08-31T07:10:10.853Z"
   },
   {
    "duration": 30,
    "start_time": "2022-08-31T07:10:10.874Z"
   },
   {
    "duration": 26,
    "start_time": "2022-08-31T07:10:10.906Z"
   },
   {
    "duration": 16,
    "start_time": "2022-08-31T07:10:10.934Z"
   },
   {
    "duration": 15,
    "start_time": "2022-08-31T07:10:10.952Z"
   },
   {
    "duration": 13,
    "start_time": "2022-08-31T07:10:10.968Z"
   },
   {
    "duration": 7,
    "start_time": "2022-08-31T07:10:10.985Z"
   },
   {
    "duration": 189,
    "start_time": "2022-08-31T07:10:10.993Z"
   },
   {
    "duration": 21,
    "start_time": "2022-08-31T07:10:11.185Z"
   },
   {
    "duration": 29,
    "start_time": "2022-08-31T07:10:11.208Z"
   },
   {
    "duration": 29,
    "start_time": "2022-08-31T07:10:11.239Z"
   },
   {
    "duration": 26,
    "start_time": "2022-08-31T07:10:11.270Z"
   },
   {
    "duration": 23,
    "start_time": "2022-08-31T07:10:11.298Z"
   },
   {
    "duration": 42,
    "start_time": "2022-08-31T07:10:11.322Z"
   },
   {
    "duration": 11,
    "start_time": "2022-08-31T07:20:20.098Z"
   },
   {
    "duration": 14,
    "start_time": "2022-08-31T07:20:27.379Z"
   },
   {
    "duration": 2,
    "start_time": "2022-08-31T07:32:18.615Z"
   },
   {
    "duration": 8,
    "start_time": "2022-08-31T07:32:18.620Z"
   },
   {
    "duration": 6,
    "start_time": "2022-08-31T07:32:18.630Z"
   },
   {
    "duration": 68,
    "start_time": "2022-08-31T07:32:18.637Z"
   },
   {
    "duration": 16,
    "start_time": "2022-08-31T07:32:18.708Z"
   },
   {
    "duration": 7,
    "start_time": "2022-08-31T07:32:18.727Z"
   },
   {
    "duration": 35,
    "start_time": "2022-08-31T07:32:18.736Z"
   },
   {
    "duration": 24,
    "start_time": "2022-08-31T07:32:18.773Z"
   },
   {
    "duration": 5,
    "start_time": "2022-08-31T07:32:18.799Z"
   },
   {
    "duration": 20,
    "start_time": "2022-08-31T07:32:18.806Z"
   },
   {
    "duration": 4,
    "start_time": "2022-08-31T07:32:18.828Z"
   },
   {
    "duration": 206,
    "start_time": "2022-08-31T07:32:18.834Z"
   },
   {
    "duration": 30,
    "start_time": "2022-08-31T07:32:19.043Z"
   },
   {
    "duration": 22,
    "start_time": "2022-08-31T07:32:19.075Z"
   },
   {
    "duration": 17,
    "start_time": "2022-08-31T07:32:19.099Z"
   },
   {
    "duration": 15,
    "start_time": "2022-08-31T07:32:19.117Z"
   },
   {
    "duration": 44,
    "start_time": "2022-08-31T07:32:19.134Z"
   },
   {
    "duration": 13,
    "start_time": "2022-08-31T07:32:19.179Z"
   },
   {
    "duration": 10,
    "start_time": "2022-08-31T07:32:19.194Z"
   },
   {
    "duration": 11,
    "start_time": "2022-08-31T07:32:19.205Z"
   },
   {
    "duration": 9,
    "start_time": "2022-08-31T07:32:19.218Z"
   },
   {
    "duration": 9,
    "start_time": "2022-08-31T07:32:22.196Z"
   },
   {
    "duration": 4,
    "start_time": "2022-08-31T07:37:28.478Z"
   },
   {
    "duration": 5,
    "start_time": "2022-08-31T07:37:30.669Z"
   },
   {
    "duration": 3,
    "start_time": "2022-08-31T07:39:21.338Z"
   },
   {
    "duration": 12,
    "start_time": "2022-08-31T07:39:21.344Z"
   },
   {
    "duration": 8,
    "start_time": "2022-08-31T07:39:21.358Z"
   },
   {
    "duration": 68,
    "start_time": "2022-08-31T07:39:21.368Z"
   },
   {
    "duration": 16,
    "start_time": "2022-08-31T07:39:21.438Z"
   },
   {
    "duration": 11,
    "start_time": "2022-08-31T07:39:21.456Z"
   },
   {
    "duration": 30,
    "start_time": "2022-08-31T07:39:21.469Z"
   },
   {
    "duration": 26,
    "start_time": "2022-08-31T07:39:21.501Z"
   },
   {
    "duration": 9,
    "start_time": "2022-08-31T07:39:21.531Z"
   },
   {
    "duration": 18,
    "start_time": "2022-08-31T07:39:21.541Z"
   },
   {
    "duration": 8,
    "start_time": "2022-08-31T07:39:21.560Z"
   },
   {
    "duration": 175,
    "start_time": "2022-08-31T07:39:21.570Z"
   },
   {
    "duration": 24,
    "start_time": "2022-08-31T07:39:21.747Z"
   },
   {
    "duration": 17,
    "start_time": "2022-08-31T07:39:21.772Z"
   },
   {
    "duration": 25,
    "start_time": "2022-08-31T07:39:21.790Z"
   },
   {
    "duration": 17,
    "start_time": "2022-08-31T07:39:21.817Z"
   },
   {
    "duration": 35,
    "start_time": "2022-08-31T07:39:21.836Z"
   },
   {
    "duration": 18,
    "start_time": "2022-08-31T07:39:21.873Z"
   },
   {
    "duration": 16,
    "start_time": "2022-08-31T07:39:21.893Z"
   },
   {
    "duration": 19,
    "start_time": "2022-08-31T07:39:21.911Z"
   },
   {
    "duration": 25,
    "start_time": "2022-08-31T07:39:21.931Z"
   },
   {
    "duration": 71,
    "start_time": "2022-08-31T07:39:21.958Z"
   },
   {
    "duration": 13,
    "start_time": "2022-08-31T07:39:22.031Z"
   },
   {
    "duration": 21,
    "start_time": "2022-08-31T07:39:22.047Z"
   },
   {
    "duration": 27,
    "start_time": "2022-08-31T07:39:22.070Z"
   },
   {
    "duration": 17,
    "start_time": "2022-08-31T07:39:22.099Z"
   },
   {
    "duration": 6,
    "start_time": "2022-08-31T07:39:22.118Z"
   },
   {
    "duration": 9,
    "start_time": "2022-08-31T07:39:22.126Z"
   },
   {
    "duration": 2,
    "start_time": "2022-08-31T07:39:31.536Z"
   },
   {
    "duration": 18,
    "start_time": "2022-08-31T07:39:31.541Z"
   },
   {
    "duration": 17,
    "start_time": "2022-08-31T07:39:31.561Z"
   },
   {
    "duration": 81,
    "start_time": "2022-08-31T07:39:31.580Z"
   },
   {
    "duration": 14,
    "start_time": "2022-08-31T07:39:31.663Z"
   },
   {
    "duration": 6,
    "start_time": "2022-08-31T07:39:31.680Z"
   },
   {
    "duration": 21,
    "start_time": "2022-08-31T07:39:31.687Z"
   },
   {
    "duration": 21,
    "start_time": "2022-08-31T07:39:31.709Z"
   },
   {
    "duration": 3,
    "start_time": "2022-08-31T07:39:31.732Z"
   },
   {
    "duration": 17,
    "start_time": "2022-08-31T07:39:31.736Z"
   },
   {
    "duration": 4,
    "start_time": "2022-08-31T07:39:31.754Z"
   },
   {
    "duration": 157,
    "start_time": "2022-08-31T07:39:31.768Z"
   },
   {
    "duration": 15,
    "start_time": "2022-08-31T07:39:31.926Z"
   },
   {
    "duration": 31,
    "start_time": "2022-08-31T07:39:31.942Z"
   },
   {
    "duration": 15,
    "start_time": "2022-08-31T07:39:31.975Z"
   },
   {
    "duration": 20,
    "start_time": "2022-08-31T07:39:31.991Z"
   },
   {
    "duration": 20,
    "start_time": "2022-08-31T07:39:32.013Z"
   },
   {
    "duration": 21,
    "start_time": "2022-08-31T07:39:32.034Z"
   },
   {
    "duration": 21,
    "start_time": "2022-08-31T07:39:32.056Z"
   },
   {
    "duration": 16,
    "start_time": "2022-08-31T07:39:32.078Z"
   },
   {
    "duration": 21,
    "start_time": "2022-08-31T07:39:32.096Z"
   },
   {
    "duration": 8,
    "start_time": "2022-08-31T07:39:32.119Z"
   },
   {
    "duration": 15,
    "start_time": "2022-08-31T07:39:32.129Z"
   },
   {
    "duration": 14,
    "start_time": "2022-08-31T07:39:32.146Z"
   },
   {
    "duration": 18,
    "start_time": "2022-08-31T07:39:32.162Z"
   },
   {
    "duration": 18,
    "start_time": "2022-08-31T07:39:32.181Z"
   },
   {
    "duration": 6,
    "start_time": "2022-08-31T07:39:35.397Z"
   },
   {
    "duration": 8,
    "start_time": "2022-08-31T07:40:15.522Z"
   },
   {
    "duration": 5,
    "start_time": "2022-08-31T07:40:18.916Z"
   },
   {
    "duration": 2,
    "start_time": "2022-08-31T07:41:18.182Z"
   },
   {
    "duration": 8,
    "start_time": "2022-08-31T07:41:18.186Z"
   },
   {
    "duration": 8,
    "start_time": "2022-08-31T07:41:18.196Z"
   },
   {
    "duration": 55,
    "start_time": "2022-08-31T07:41:18.205Z"
   },
   {
    "duration": 15,
    "start_time": "2022-08-31T07:41:18.262Z"
   },
   {
    "duration": 5,
    "start_time": "2022-08-31T07:41:18.279Z"
   },
   {
    "duration": 18,
    "start_time": "2022-08-31T07:41:18.285Z"
   },
   {
    "duration": 14,
    "start_time": "2022-08-31T07:41:18.304Z"
   },
   {
    "duration": 3,
    "start_time": "2022-08-31T07:41:18.320Z"
   },
   {
    "duration": 16,
    "start_time": "2022-08-31T07:41:18.324Z"
   },
   {
    "duration": 3,
    "start_time": "2022-08-31T07:41:18.343Z"
   },
   {
    "duration": 166,
    "start_time": "2022-08-31T07:41:18.368Z"
   },
   {
    "duration": 16,
    "start_time": "2022-08-31T07:41:18.535Z"
   },
   {
    "duration": 28,
    "start_time": "2022-08-31T07:41:18.552Z"
   },
   {
    "duration": 15,
    "start_time": "2022-08-31T07:41:18.581Z"
   },
   {
    "duration": 15,
    "start_time": "2022-08-31T07:41:18.598Z"
   },
   {
    "duration": 17,
    "start_time": "2022-08-31T07:41:18.615Z"
   },
   {
    "duration": 38,
    "start_time": "2022-08-31T07:41:18.634Z"
   },
   {
    "duration": 10,
    "start_time": "2022-08-31T07:41:18.673Z"
   },
   {
    "duration": 10,
    "start_time": "2022-08-31T07:41:18.685Z"
   },
   {
    "duration": 10,
    "start_time": "2022-08-31T07:41:18.696Z"
   },
   {
    "duration": 4,
    "start_time": "2022-08-31T07:41:18.708Z"
   },
   {
    "duration": 7,
    "start_time": "2022-08-31T07:41:18.713Z"
   },
   {
    "duration": 7,
    "start_time": "2022-08-31T07:41:18.722Z"
   },
   {
    "duration": 37,
    "start_time": "2022-08-31T07:41:18.731Z"
   },
   {
    "duration": 5,
    "start_time": "2022-08-31T07:41:18.770Z"
   },
   {
    "duration": 5,
    "start_time": "2022-08-31T07:41:18.776Z"
   },
   {
    "duration": 9,
    "start_time": "2022-08-31T07:41:18.782Z"
   },
   {
    "duration": 7,
    "start_time": "2022-08-31T07:41:18.793Z"
   },
   {
    "duration": 9,
    "start_time": "2022-08-31T07:41:18.801Z"
   },
   {
    "duration": 11,
    "start_time": "2022-08-31T07:41:18.811Z"
   },
   {
    "duration": 44,
    "start_time": "2022-08-31T07:41:18.824Z"
   },
   {
    "duration": 15,
    "start_time": "2022-08-31T07:41:18.870Z"
   },
   {
    "duration": 7,
    "start_time": "2022-08-31T07:41:18.887Z"
   },
   {
    "duration": 15,
    "start_time": "2022-08-31T07:41:18.895Z"
   },
   {
    "duration": 14,
    "start_time": "2022-08-31T07:41:24.625Z"
   },
   {
    "duration": 12,
    "start_time": "2022-08-31T07:41:34.425Z"
   },
   {
    "duration": 12,
    "start_time": "2022-08-31T07:41:41.726Z"
   },
   {
    "duration": 2,
    "start_time": "2022-08-31T07:42:53.256Z"
   },
   {
    "duration": 8,
    "start_time": "2022-08-31T07:42:53.260Z"
   },
   {
    "duration": 7,
    "start_time": "2022-08-31T07:42:53.270Z"
   },
   {
    "duration": 70,
    "start_time": "2022-08-31T07:42:53.279Z"
   },
   {
    "duration": 17,
    "start_time": "2022-08-31T07:42:53.352Z"
   },
   {
    "duration": 4,
    "start_time": "2022-08-31T07:42:53.371Z"
   },
   {
    "duration": 20,
    "start_time": "2022-08-31T07:42:53.377Z"
   },
   {
    "duration": 18,
    "start_time": "2022-08-31T07:42:53.400Z"
   },
   {
    "duration": 4,
    "start_time": "2022-08-31T07:42:53.420Z"
   },
   {
    "duration": 43,
    "start_time": "2022-08-31T07:42:53.426Z"
   },
   {
    "duration": 6,
    "start_time": "2022-08-31T07:42:53.473Z"
   },
   {
    "duration": 194,
    "start_time": "2022-08-31T07:42:53.482Z"
   },
   {
    "duration": 17,
    "start_time": "2022-08-31T07:42:53.678Z"
   },
   {
    "duration": 19,
    "start_time": "2022-08-31T07:42:53.697Z"
   },
   {
    "duration": 16,
    "start_time": "2022-08-31T07:42:53.719Z"
   },
   {
    "duration": 43,
    "start_time": "2022-08-31T07:42:53.737Z"
   },
   {
    "duration": 16,
    "start_time": "2022-08-31T07:42:53.782Z"
   },
   {
    "duration": 14,
    "start_time": "2022-08-31T07:42:53.800Z"
   },
   {
    "duration": 13,
    "start_time": "2022-08-31T07:42:53.816Z"
   },
   {
    "duration": 12,
    "start_time": "2022-08-31T07:42:53.831Z"
   },
   {
    "duration": 9,
    "start_time": "2022-08-31T07:42:53.869Z"
   },
   {
    "duration": 4,
    "start_time": "2022-08-31T07:42:53.880Z"
   },
   {
    "duration": 13,
    "start_time": "2022-08-31T07:42:53.886Z"
   },
   {
    "duration": 10,
    "start_time": "2022-08-31T07:42:53.901Z"
   },
   {
    "duration": 7,
    "start_time": "2022-08-31T07:42:53.913Z"
   },
   {
    "duration": 9,
    "start_time": "2022-08-31T07:42:53.921Z"
   },
   {
    "duration": 37,
    "start_time": "2022-08-31T07:42:53.932Z"
   },
   {
    "duration": 13,
    "start_time": "2022-08-31T07:42:53.971Z"
   },
   {
    "duration": 6,
    "start_time": "2022-08-31T07:42:53.988Z"
   },
   {
    "duration": 12,
    "start_time": "2022-08-31T07:42:53.996Z"
   },
   {
    "duration": 12,
    "start_time": "2022-08-31T07:42:54.010Z"
   },
   {
    "duration": 44,
    "start_time": "2022-08-31T07:42:54.024Z"
   },
   {
    "duration": 18,
    "start_time": "2022-08-31T07:42:54.070Z"
   },
   {
    "duration": 11,
    "start_time": "2022-08-31T07:42:54.089Z"
   },
   {
    "duration": 19,
    "start_time": "2022-08-31T07:42:54.102Z"
   },
   {
    "duration": 23,
    "start_time": "2022-08-31T07:42:54.123Z"
   },
   {
    "duration": 21,
    "start_time": "2022-08-31T07:42:54.168Z"
   },
   {
    "duration": 7,
    "start_time": "2022-08-31T07:42:54.191Z"
   },
   {
    "duration": 28,
    "start_time": "2022-08-31T07:42:54.199Z"
   },
   {
    "duration": 13,
    "start_time": "2022-08-31T07:42:54.229Z"
   },
   {
    "duration": 30,
    "start_time": "2022-08-31T07:42:54.244Z"
   },
   {
    "duration": 9,
    "start_time": "2022-08-31T07:43:27.264Z"
   },
   {
    "duration": 10,
    "start_time": "2022-08-31T07:46:29.317Z"
   },
   {
    "duration": 7,
    "start_time": "2022-08-31T07:46:32.164Z"
   },
   {
    "duration": 4,
    "start_time": "2022-08-31T07:46:42.601Z"
   },
   {
    "duration": 222,
    "start_time": "2022-08-31T07:47:48.615Z"
   },
   {
    "duration": 10,
    "start_time": "2022-08-31T07:48:06.432Z"
   },
   {
    "duration": 181,
    "start_time": "2022-08-31T07:48:29.596Z"
   },
   {
    "duration": 3,
    "start_time": "2022-08-31T07:48:53.116Z"
   },
   {
    "duration": 8,
    "start_time": "2022-08-31T07:48:53.121Z"
   },
   {
    "duration": 4,
    "start_time": "2022-08-31T07:48:53.131Z"
   },
   {
    "duration": 54,
    "start_time": "2022-08-31T07:48:53.137Z"
   },
   {
    "duration": 16,
    "start_time": "2022-08-31T07:48:53.194Z"
   },
   {
    "duration": 6,
    "start_time": "2022-08-31T07:48:53.211Z"
   },
   {
    "duration": 21,
    "start_time": "2022-08-31T07:48:53.219Z"
   },
   {
    "duration": 35,
    "start_time": "2022-08-31T07:48:53.241Z"
   },
   {
    "duration": 3,
    "start_time": "2022-08-31T07:48:53.277Z"
   },
   {
    "duration": 12,
    "start_time": "2022-08-31T07:48:53.282Z"
   },
   {
    "duration": 3,
    "start_time": "2022-08-31T07:48:53.297Z"
   },
   {
    "duration": 183,
    "start_time": "2022-08-31T07:48:53.302Z"
   },
   {
    "duration": 27,
    "start_time": "2022-08-31T07:48:53.487Z"
   },
   {
    "duration": 17,
    "start_time": "2022-08-31T07:48:53.516Z"
   },
   {
    "duration": 14,
    "start_time": "2022-08-31T07:48:53.535Z"
   },
   {
    "duration": 29,
    "start_time": "2022-08-31T07:48:53.551Z"
   },
   {
    "duration": 14,
    "start_time": "2022-08-31T07:48:53.582Z"
   },
   {
    "duration": 16,
    "start_time": "2022-08-31T07:48:53.597Z"
   },
   {
    "duration": 12,
    "start_time": "2022-08-31T07:48:53.614Z"
   },
   {
    "duration": 10,
    "start_time": "2022-08-31T07:48:53.628Z"
   },
   {
    "duration": 9,
    "start_time": "2022-08-31T07:48:53.668Z"
   },
   {
    "duration": 4,
    "start_time": "2022-08-31T07:48:53.678Z"
   },
   {
    "duration": 7,
    "start_time": "2022-08-31T07:48:53.683Z"
   },
   {
    "duration": 9,
    "start_time": "2022-08-31T07:48:53.692Z"
   },
   {
    "duration": 6,
    "start_time": "2022-08-31T07:48:53.703Z"
   },
   {
    "duration": 4,
    "start_time": "2022-08-31T07:48:53.710Z"
   },
   {
    "duration": 5,
    "start_time": "2022-08-31T07:48:53.716Z"
   },
   {
    "duration": 10,
    "start_time": "2022-08-31T07:48:53.722Z"
   },
   {
    "duration": 5,
    "start_time": "2022-08-31T07:48:53.735Z"
   },
   {
    "duration": 9,
    "start_time": "2022-08-31T07:48:53.767Z"
   },
   {
    "duration": 10,
    "start_time": "2022-08-31T07:48:53.778Z"
   },
   {
    "duration": 12,
    "start_time": "2022-08-31T07:48:53.790Z"
   },
   {
    "duration": 17,
    "start_time": "2022-08-31T07:48:53.804Z"
   },
   {
    "duration": 5,
    "start_time": "2022-08-31T07:48:53.823Z"
   },
   {
    "duration": 45,
    "start_time": "2022-08-31T07:48:53.830Z"
   },
   {
    "duration": 14,
    "start_time": "2022-08-31T07:48:53.877Z"
   },
   {
    "duration": 21,
    "start_time": "2022-08-31T07:48:53.893Z"
   },
   {
    "duration": 8,
    "start_time": "2022-08-31T07:48:53.915Z"
   },
   {
    "duration": 44,
    "start_time": "2022-08-31T07:48:53.924Z"
   },
   {
    "duration": 10,
    "start_time": "2022-08-31T07:48:53.970Z"
   },
   {
    "duration": 7,
    "start_time": "2022-08-31T07:48:53.981Z"
   },
   {
    "duration": 6,
    "start_time": "2022-08-31T07:48:53.989Z"
   },
   {
    "duration": 191,
    "start_time": "2022-08-31T07:48:53.996Z"
   },
   {
    "duration": 8,
    "start_time": "2022-08-31T07:49:37.520Z"
   },
   {
    "duration": 8,
    "start_time": "2022-08-31T07:49:40.501Z"
   },
   {
    "duration": 9,
    "start_time": "2022-08-31T07:49:50.279Z"
   },
   {
    "duration": 7,
    "start_time": "2022-08-31T07:49:53.001Z"
   },
   {
    "duration": 176,
    "start_time": "2022-08-31T07:50:11.617Z"
   },
   {
    "duration": 183,
    "start_time": "2022-08-31T07:50:20.943Z"
   },
   {
    "duration": 456,
    "start_time": "2022-08-31T07:50:48.541Z"
   },
   {
    "duration": 11,
    "start_time": "2022-08-31T07:54:21.957Z"
   },
   {
    "duration": 7,
    "start_time": "2022-08-31T07:54:29.413Z"
   },
   {
    "duration": 3,
    "start_time": "2022-08-31T07:55:34.139Z"
   },
   {
    "duration": 144,
    "start_time": "2022-08-31T07:55:35.225Z"
   },
   {
    "duration": 7,
    "start_time": "2022-08-31T07:57:14.004Z"
   },
   {
    "duration": 23,
    "start_time": "2022-08-31T07:57:15.490Z"
   },
   {
    "duration": 18,
    "start_time": "2022-08-31T07:59:16.703Z"
   },
   {
    "duration": 14,
    "start_time": "2022-08-31T07:59:25.999Z"
   },
   {
    "duration": 255,
    "start_time": "2022-08-31T07:59:49.976Z"
   },
   {
    "duration": 13,
    "start_time": "2022-08-31T08:00:06.723Z"
   },
   {
    "duration": 189,
    "start_time": "2022-08-31T08:00:10.598Z"
   },
   {
    "duration": 7,
    "start_time": "2022-08-31T08:03:45.924Z"
   },
   {
    "duration": 8,
    "start_time": "2022-08-31T08:03:50.988Z"
   },
   {
    "duration": 4,
    "start_time": "2022-08-31T08:04:05.675Z"
   },
   {
    "duration": 25,
    "start_time": "2022-08-31T08:04:20.338Z"
   },
   {
    "duration": 20,
    "start_time": "2022-08-31T08:05:28.828Z"
   },
   {
    "duration": 19,
    "start_time": "2022-08-31T08:05:40.767Z"
   },
   {
    "duration": 3,
    "start_time": "2022-08-31T08:07:41.708Z"
   },
   {
    "duration": 7,
    "start_time": "2022-08-31T08:08:16.905Z"
   },
   {
    "duration": 36,
    "start_time": "2022-08-31T08:08:20.535Z"
   },
   {
    "duration": 14,
    "start_time": "2022-08-31T08:09:12.374Z"
   },
   {
    "duration": 12,
    "start_time": "2022-08-31T08:09:12.943Z"
   },
   {
    "duration": 247,
    "start_time": "2022-08-31T08:09:13.642Z"
   },
   {
    "duration": 268,
    "start_time": "2022-08-31T08:10:41.315Z"
   },
   {
    "duration": 247,
    "start_time": "2022-08-31T08:12:18.815Z"
   },
   {
    "duration": 275,
    "start_time": "2022-08-31T08:12:26.620Z"
   },
   {
    "duration": 487,
    "start_time": "2022-08-31T08:13:44.362Z"
   },
   {
    "duration": 438,
    "start_time": "2022-08-31T08:13:53.898Z"
   },
   {
    "duration": 424,
    "start_time": "2022-08-31T08:14:05.733Z"
   },
   {
    "duration": 419,
    "start_time": "2022-08-31T08:14:11.300Z"
   },
   {
    "duration": 411,
    "start_time": "2022-08-31T08:14:16.923Z"
   },
   {
    "duration": 416,
    "start_time": "2022-08-31T08:14:26.139Z"
   },
   {
    "duration": 398,
    "start_time": "2022-08-31T08:14:29.150Z"
   },
   {
    "duration": 450,
    "start_time": "2022-08-31T08:14:32.243Z"
   },
   {
    "duration": 272,
    "start_time": "2022-08-31T08:17:03.065Z"
   },
   {
    "duration": 279,
    "start_time": "2022-08-31T08:17:22.864Z"
   },
   {
    "duration": 242,
    "start_time": "2022-08-31T08:18:45.571Z"
   },
   {
    "duration": 344,
    "start_time": "2022-08-31T08:18:55.738Z"
   },
   {
    "duration": 274,
    "start_time": "2022-08-31T08:19:07.011Z"
   },
   {
    "duration": 256,
    "start_time": "2022-08-31T08:19:58.196Z"
   },
   {
    "duration": 243,
    "start_time": "2022-08-31T08:20:18.608Z"
   },
   {
    "duration": 258,
    "start_time": "2022-08-31T08:20:42.247Z"
   },
   {
    "duration": 269,
    "start_time": "2022-08-31T08:21:03.942Z"
   },
   {
    "duration": 238,
    "start_time": "2022-08-31T08:21:47.409Z"
   },
   {
    "duration": 247,
    "start_time": "2022-08-31T08:22:08.549Z"
   },
   {
    "duration": 282,
    "start_time": "2022-08-31T08:22:27.466Z"
   },
   {
    "duration": 6,
    "start_time": "2022-08-31T08:26:17.590Z"
   },
   {
    "duration": 20,
    "start_time": "2022-08-31T08:26:27.757Z"
   },
   {
    "duration": 13,
    "start_time": "2022-08-31T08:28:24.023Z"
   },
   {
    "duration": 9,
    "start_time": "2022-08-31T08:28:31.741Z"
   },
   {
    "duration": 6,
    "start_time": "2022-08-31T08:29:34.434Z"
   },
   {
    "duration": 24,
    "start_time": "2022-08-31T08:29:35.345Z"
   },
   {
    "duration": 186,
    "start_time": "2022-08-31T08:29:46.643Z"
   },
   {
    "duration": 9,
    "start_time": "2022-08-31T08:33:45.155Z"
   },
   {
    "duration": 23,
    "start_time": "2022-08-31T08:33:45.621Z"
   },
   {
    "duration": 128,
    "start_time": "2022-08-31T08:33:52.714Z"
   },
   {
    "duration": 22,
    "start_time": "2022-08-31T08:34:12.284Z"
   },
   {
    "duration": 7,
    "start_time": "2022-08-31T08:34:46.232Z"
   },
   {
    "duration": 21,
    "start_time": "2022-08-31T08:34:47.127Z"
   },
   {
    "duration": 291,
    "start_time": "2022-08-31T08:35:01.054Z"
   },
   {
    "duration": 165,
    "start_time": "2022-08-31T08:35:07.357Z"
   },
   {
    "duration": 173,
    "start_time": "2022-08-31T08:35:12.642Z"
   },
   {
    "duration": 17,
    "start_time": "2022-08-31T08:36:45.551Z"
   },
   {
    "duration": 153,
    "start_time": "2022-08-31T08:36:47.529Z"
   },
   {
    "duration": 10,
    "start_time": "2022-08-31T08:38:29.638Z"
   },
   {
    "duration": 140,
    "start_time": "2022-08-31T08:42:54.903Z"
   },
   {
    "duration": 145,
    "start_time": "2022-08-31T08:43:30.796Z"
   },
   {
    "duration": 10,
    "start_time": "2022-08-31T08:43:32.641Z"
   },
   {
    "duration": 116,
    "start_time": "2022-08-31T08:43:47.218Z"
   },
   {
    "duration": 9,
    "start_time": "2022-08-31T08:43:53.408Z"
   },
   {
    "duration": 10,
    "start_time": "2022-08-31T08:44:08.581Z"
   },
   {
    "duration": 10,
    "start_time": "2022-08-31T08:44:22.614Z"
   },
   {
    "duration": 9,
    "start_time": "2022-08-31T08:44:56.236Z"
   },
   {
    "duration": 10,
    "start_time": "2022-08-31T08:47:10.957Z"
   },
   {
    "duration": 140,
    "start_time": "2022-08-31T08:47:20.703Z"
   },
   {
    "duration": 148,
    "start_time": "2022-08-31T08:47:29.966Z"
   },
   {
    "duration": 152,
    "start_time": "2022-08-31T08:47:54.358Z"
   },
   {
    "duration": 12,
    "start_time": "2022-08-31T08:49:05.892Z"
   },
   {
    "duration": 197,
    "start_time": "2022-08-31T08:49:09.458Z"
   },
   {
    "duration": 10,
    "start_time": "2022-08-31T08:49:52.820Z"
   },
   {
    "duration": 12,
    "start_time": "2022-08-31T08:49:58.737Z"
   },
   {
    "duration": 181,
    "start_time": "2022-08-31T08:50:12.586Z"
   },
   {
    "duration": 227,
    "start_time": "2022-08-31T08:50:33.142Z"
   },
   {
    "duration": 153,
    "start_time": "2022-08-31T08:51:06.159Z"
   },
   {
    "duration": 10,
    "start_time": "2022-08-31T08:51:13.155Z"
   },
   {
    "duration": 31,
    "start_time": "2022-08-31T08:54:07.094Z"
   },
   {
    "duration": 2,
    "start_time": "2022-08-31T08:56:00.298Z"
   },
   {
    "duration": 15,
    "start_time": "2022-08-31T08:56:00.302Z"
   },
   {
    "duration": 11,
    "start_time": "2022-08-31T08:56:00.319Z"
   },
   {
    "duration": 58,
    "start_time": "2022-08-31T08:56:00.331Z"
   },
   {
    "duration": 15,
    "start_time": "2022-08-31T08:56:00.391Z"
   },
   {
    "duration": 8,
    "start_time": "2022-08-31T08:56:00.407Z"
   },
   {
    "duration": 16,
    "start_time": "2022-08-31T08:56:00.417Z"
   },
   {
    "duration": 34,
    "start_time": "2022-08-31T08:56:00.435Z"
   },
   {
    "duration": 4,
    "start_time": "2022-08-31T08:56:00.471Z"
   },
   {
    "duration": 23,
    "start_time": "2022-08-31T08:56:00.477Z"
   },
   {
    "duration": 12,
    "start_time": "2022-08-31T08:56:00.503Z"
   },
   {
    "duration": 204,
    "start_time": "2022-08-31T08:56:00.517Z"
   },
   {
    "duration": 16,
    "start_time": "2022-08-31T08:56:00.724Z"
   },
   {
    "duration": 27,
    "start_time": "2022-08-31T08:56:00.742Z"
   },
   {
    "duration": 25,
    "start_time": "2022-08-31T08:56:00.771Z"
   },
   {
    "duration": 31,
    "start_time": "2022-08-31T08:56:00.798Z"
   },
   {
    "duration": 27,
    "start_time": "2022-08-31T08:56:00.831Z"
   },
   {
    "duration": 41,
    "start_time": "2022-08-31T08:56:00.859Z"
   },
   {
    "duration": 26,
    "start_time": "2022-08-31T08:56:00.901Z"
   },
   {
    "duration": 21,
    "start_time": "2022-08-31T08:56:00.929Z"
   },
   {
    "duration": 26,
    "start_time": "2022-08-31T08:56:00.951Z"
   },
   {
    "duration": 29,
    "start_time": "2022-08-31T08:56:00.978Z"
   },
   {
    "duration": 18,
    "start_time": "2022-08-31T08:56:01.009Z"
   },
   {
    "duration": 32,
    "start_time": "2022-08-31T08:56:01.029Z"
   },
   {
    "duration": 31,
    "start_time": "2022-08-31T08:56:01.063Z"
   },
   {
    "duration": 19,
    "start_time": "2022-08-31T08:56:01.095Z"
   },
   {
    "duration": 21,
    "start_time": "2022-08-31T08:56:01.116Z"
   },
   {
    "duration": 16,
    "start_time": "2022-08-31T08:56:01.139Z"
   },
   {
    "duration": 15,
    "start_time": "2022-08-31T08:56:01.159Z"
   },
   {
    "duration": 36,
    "start_time": "2022-08-31T08:56:01.175Z"
   },
   {
    "duration": 38,
    "start_time": "2022-08-31T08:56:01.213Z"
   },
   {
    "duration": 40,
    "start_time": "2022-08-31T08:56:01.252Z"
   },
   {
    "duration": 26,
    "start_time": "2022-08-31T08:56:01.294Z"
   },
   {
    "duration": 9,
    "start_time": "2022-08-31T08:56:01.322Z"
   },
   {
    "duration": 29,
    "start_time": "2022-08-31T08:56:01.333Z"
   },
   {
    "duration": 20,
    "start_time": "2022-08-31T08:56:01.364Z"
   },
   {
    "duration": 29,
    "start_time": "2022-08-31T08:56:01.385Z"
   },
   {
    "duration": 18,
    "start_time": "2022-08-31T08:56:01.415Z"
   },
   {
    "duration": 39,
    "start_time": "2022-08-31T08:56:01.435Z"
   },
   {
    "duration": 26,
    "start_time": "2022-08-31T08:56:01.475Z"
   },
   {
    "duration": 26,
    "start_time": "2022-08-31T08:56:01.503Z"
   },
   {
    "duration": 497,
    "start_time": "2022-08-31T08:56:01.531Z"
   },
   {
    "duration": 11,
    "start_time": "2022-08-31T08:56:02.031Z"
   },
   {
    "duration": 10,
    "start_time": "2022-08-31T08:56:06.054Z"
   },
   {
    "duration": 7,
    "start_time": "2022-08-31T08:56:07.002Z"
   },
   {
    "duration": 4,
    "start_time": "2022-08-31T08:56:37.325Z"
   },
   {
    "duration": 8,
    "start_time": "2022-08-31T08:56:39.053Z"
   },
   {
    "duration": 3,
    "start_time": "2022-08-31T08:56:57.432Z"
   },
   {
    "duration": 167,
    "start_time": "2022-08-31T08:56:57.988Z"
   },
   {
    "duration": 2,
    "start_time": "2022-08-31T08:57:15.679Z"
   },
   {
    "duration": 34,
    "start_time": "2022-08-31T08:57:15.683Z"
   },
   {
    "duration": 29,
    "start_time": "2022-08-31T08:57:15.719Z"
   },
   {
    "duration": 73,
    "start_time": "2022-08-31T08:57:15.750Z"
   },
   {
    "duration": 16,
    "start_time": "2022-08-31T08:57:15.825Z"
   },
   {
    "duration": 23,
    "start_time": "2022-08-31T08:57:15.842Z"
   },
   {
    "duration": 63,
    "start_time": "2022-08-31T08:57:15.868Z"
   },
   {
    "duration": 44,
    "start_time": "2022-08-31T08:57:15.934Z"
   },
   {
    "duration": 28,
    "start_time": "2022-08-31T08:57:15.980Z"
   },
   {
    "duration": 42,
    "start_time": "2022-08-31T08:57:16.011Z"
   },
   {
    "duration": 44,
    "start_time": "2022-08-31T08:57:16.056Z"
   },
   {
    "duration": 215,
    "start_time": "2022-08-31T08:57:16.101Z"
   },
   {
    "duration": 14,
    "start_time": "2022-08-31T08:57:16.318Z"
   },
   {
    "duration": 16,
    "start_time": "2022-08-31T08:57:16.334Z"
   },
   {
    "duration": 30,
    "start_time": "2022-08-31T08:57:16.351Z"
   },
   {
    "duration": 17,
    "start_time": "2022-08-31T08:57:16.382Z"
   },
   {
    "duration": 29,
    "start_time": "2022-08-31T08:57:16.400Z"
   },
   {
    "duration": 25,
    "start_time": "2022-08-31T08:57:16.431Z"
   },
   {
    "duration": 43,
    "start_time": "2022-08-31T08:57:16.458Z"
   },
   {
    "duration": 28,
    "start_time": "2022-08-31T08:57:16.504Z"
   },
   {
    "duration": 15,
    "start_time": "2022-08-31T08:57:16.534Z"
   },
   {
    "duration": 25,
    "start_time": "2022-08-31T08:57:16.551Z"
   },
   {
    "duration": 25,
    "start_time": "2022-08-31T08:57:16.578Z"
   },
   {
    "duration": 15,
    "start_time": "2022-08-31T08:57:16.605Z"
   },
   {
    "duration": 13,
    "start_time": "2022-08-31T08:57:16.622Z"
   },
   {
    "duration": 13,
    "start_time": "2022-08-31T08:57:16.637Z"
   },
   {
    "duration": 9,
    "start_time": "2022-08-31T08:57:16.652Z"
   },
   {
    "duration": 16,
    "start_time": "2022-08-31T08:57:16.663Z"
   },
   {
    "duration": 6,
    "start_time": "2022-08-31T08:57:16.686Z"
   },
   {
    "duration": 24,
    "start_time": "2022-08-31T08:57:16.694Z"
   },
   {
    "duration": 11,
    "start_time": "2022-08-31T08:57:16.720Z"
   },
   {
    "duration": 13,
    "start_time": "2022-08-31T08:57:16.733Z"
   },
   {
    "duration": 30,
    "start_time": "2022-08-31T08:57:16.747Z"
   },
   {
    "duration": 24,
    "start_time": "2022-08-31T08:57:16.779Z"
   },
   {
    "duration": 23,
    "start_time": "2022-08-31T08:57:16.805Z"
   },
   {
    "duration": 16,
    "start_time": "2022-08-31T08:57:16.830Z"
   },
   {
    "duration": 28,
    "start_time": "2022-08-31T08:57:16.848Z"
   },
   {
    "duration": 7,
    "start_time": "2022-08-31T08:57:16.877Z"
   },
   {
    "duration": 22,
    "start_time": "2022-08-31T08:57:16.886Z"
   },
   {
    "duration": 9,
    "start_time": "2022-08-31T08:57:16.909Z"
   },
   {
    "duration": 6,
    "start_time": "2022-08-31T08:57:16.919Z"
   },
   {
    "duration": 482,
    "start_time": "2022-08-31T08:57:16.927Z"
   },
   {
    "duration": 9,
    "start_time": "2022-08-31T08:57:17.411Z"
   },
   {
    "duration": 6,
    "start_time": "2022-08-31T08:57:17.422Z"
   },
   {
    "duration": 4,
    "start_time": "2022-08-31T08:57:17.430Z"
   },
   {
    "duration": 179,
    "start_time": "2022-08-31T08:57:17.435Z"
   },
   {
    "duration": 8,
    "start_time": "2022-08-31T08:57:17.615Z"
   },
   {
    "duration": 20,
    "start_time": "2022-08-31T08:57:17.624Z"
   },
   {
    "duration": 29,
    "start_time": "2022-08-31T08:57:17.646Z"
   },
   {
    "duration": 13,
    "start_time": "2022-08-31T08:57:17.676Z"
   },
   {
    "duration": 204,
    "start_time": "2022-08-31T08:57:17.690Z"
   },
   {
    "duration": 19,
    "start_time": "2022-08-31T08:57:17.896Z"
   },
   {
    "duration": 3,
    "start_time": "2022-08-31T08:57:17.916Z"
   },
   {
    "duration": 6,
    "start_time": "2022-08-31T08:57:17.921Z"
   },
   {
    "duration": 40,
    "start_time": "2022-08-31T08:57:17.928Z"
   },
   {
    "duration": 12,
    "start_time": "2022-08-31T08:57:17.970Z"
   },
   {
    "duration": 12,
    "start_time": "2022-08-31T08:57:17.983Z"
   },
   {
    "duration": 291,
    "start_time": "2022-08-31T08:57:17.997Z"
   },
   {
    "duration": 7,
    "start_time": "2022-08-31T08:57:18.290Z"
   },
   {
    "duration": 24,
    "start_time": "2022-08-31T08:57:18.299Z"
   },
   {
    "duration": 11,
    "start_time": "2022-08-31T08:57:18.325Z"
   },
   {
    "duration": 8,
    "start_time": "2022-08-31T08:57:18.338Z"
   },
   {
    "duration": 7,
    "start_time": "2022-08-31T08:57:18.367Z"
   },
   {
    "duration": 124,
    "start_time": "2022-08-31T08:57:18.375Z"
   },
   {
    "duration": 144,
    "start_time": "2022-08-31T08:57:18.501Z"
   },
   {
    "duration": 26,
    "start_time": "2022-08-31T08:57:18.647Z"
   },
   {
    "duration": 18,
    "start_time": "2022-08-31T08:57:18.675Z"
   },
   {
    "duration": 175,
    "start_time": "2022-08-31T08:57:18.695Z"
   },
   {
    "duration": 11,
    "start_time": "2022-08-31T08:57:18.872Z"
   },
   {
    "duration": 186,
    "start_time": "2022-08-31T08:57:18.885Z"
   },
   {
    "duration": 9,
    "start_time": "2022-08-31T08:57:19.072Z"
   },
   {
    "duration": 150,
    "start_time": "2022-08-31T08:57:19.082Z"
   },
   {
    "duration": 9,
    "start_time": "2022-08-31T08:57:19.233Z"
   },
   {
    "duration": 153,
    "start_time": "2022-08-31T08:57:19.244Z"
   },
   {
    "duration": 8,
    "start_time": "2022-08-31T08:57:19.399Z"
   },
   {
    "duration": 19,
    "start_time": "2022-08-31T08:57:19.409Z"
   },
   {
    "duration": 12,
    "start_time": "2022-08-31T08:57:19.430Z"
   },
   {
    "duration": 15,
    "start_time": "2022-08-31T09:05:14.022Z"
   },
   {
    "duration": 201,
    "start_time": "2022-08-31T09:05:48.253Z"
   },
   {
    "duration": 7,
    "start_time": "2022-08-31T09:06:46.485Z"
   },
   {
    "duration": 23,
    "start_time": "2022-08-31T09:06:47.497Z"
   },
   {
    "duration": 281,
    "start_time": "2022-08-31T09:07:04.593Z"
   },
   {
    "duration": 251,
    "start_time": "2022-08-31T09:07:25.613Z"
   },
   {
    "duration": 380,
    "start_time": "2022-08-31T09:07:31.077Z"
   },
   {
    "duration": 260,
    "start_time": "2022-08-31T09:07:36.292Z"
   },
   {
    "duration": 245,
    "start_time": "2022-08-31T09:07:40.329Z"
   },
   {
    "duration": 309,
    "start_time": "2022-08-31T09:08:26.323Z"
   },
   {
    "duration": 244,
    "start_time": "2022-08-31T09:12:22.243Z"
   },
   {
    "duration": 39,
    "start_time": "2022-08-31T09:12:27.704Z"
   },
   {
    "duration": 274,
    "start_time": "2022-08-31T09:13:40.143Z"
   },
   {
    "duration": 372,
    "start_time": "2022-08-31T09:13:48.114Z"
   },
   {
    "duration": 255,
    "start_time": "2022-08-31T09:13:54.803Z"
   },
   {
    "duration": 353,
    "start_time": "2022-08-31T09:17:47.510Z"
   },
   {
    "duration": 370,
    "start_time": "2022-08-31T09:17:52.946Z"
   },
   {
    "duration": 279,
    "start_time": "2022-08-31T09:17:58.167Z"
   },
   {
    "duration": 528,
    "start_time": "2022-08-31T09:18:03.497Z"
   },
   {
    "duration": 328,
    "start_time": "2022-08-31T09:18:11.040Z"
   },
   {
    "duration": 302,
    "start_time": "2022-08-31T09:18:19.305Z"
   },
   {
    "duration": 300,
    "start_time": "2022-08-31T09:18:27.919Z"
   },
   {
    "duration": 267,
    "start_time": "2022-08-31T10:51:06.816Z"
   },
   {
    "duration": 237,
    "start_time": "2022-08-31T10:53:06.032Z"
   },
   {
    "duration": 8,
    "start_time": "2022-08-31T10:53:53.328Z"
   },
   {
    "duration": 44,
    "start_time": "2022-08-31T10:54:01.733Z"
   },
   {
    "duration": 12,
    "start_time": "2022-08-31T10:54:39.626Z"
   },
   {
    "duration": 8,
    "start_time": "2022-08-31T10:54:40.329Z"
   },
   {
    "duration": 248,
    "start_time": "2022-08-31T10:54:43.793Z"
   },
   {
    "duration": 9,
    "start_time": "2022-08-31T10:54:49.539Z"
   },
   {
    "duration": 7,
    "start_time": "2022-08-31T10:54:50.296Z"
   },
   {
    "duration": 160,
    "start_time": "2022-08-31T10:55:44.550Z"
   },
   {
    "duration": 9,
    "start_time": "2022-08-31T10:57:24.867Z"
   },
   {
    "duration": 6,
    "start_time": "2022-08-31T10:57:25.416Z"
   },
   {
    "duration": 131,
    "start_time": "2022-08-31T10:58:20.758Z"
   },
   {
    "duration": 10,
    "start_time": "2022-08-31T11:05:34.533Z"
   },
   {
    "duration": 7,
    "start_time": "2022-08-31T11:05:35.416Z"
   },
   {
    "duration": 157,
    "start_time": "2022-08-31T11:06:02.294Z"
   },
   {
    "duration": 184,
    "start_time": "2022-08-31T11:06:30.708Z"
   },
   {
    "duration": 10,
    "start_time": "2022-08-31T11:06:33.727Z"
   },
   {
    "duration": 9,
    "start_time": "2022-08-31T11:06:34.288Z"
   },
   {
    "duration": 167,
    "start_time": "2022-08-31T11:07:03.541Z"
   },
   {
    "duration": 11,
    "start_time": "2022-08-31T11:07:29.120Z"
   },
   {
    "duration": 8,
    "start_time": "2022-08-31T11:07:31.127Z"
   },
   {
    "duration": 159,
    "start_time": "2022-08-31T11:08:04.274Z"
   },
   {
    "duration": 9,
    "start_time": "2022-08-31T11:10:48.769Z"
   },
   {
    "duration": 10,
    "start_time": "2022-08-31T11:11:03.071Z"
   },
   {
    "duration": 7,
    "start_time": "2022-08-31T11:11:37.891Z"
   },
   {
    "duration": 136,
    "start_time": "2022-08-31T11:11:47.948Z"
   },
   {
    "duration": 21,
    "start_time": "2022-08-31T11:12:21.286Z"
   },
   {
    "duration": 3,
    "start_time": "2022-08-31T11:15:22.774Z"
   },
   {
    "duration": 228,
    "start_time": "2022-08-31T11:15:40.406Z"
   },
   {
    "duration": 200,
    "start_time": "2022-08-31T11:16:07.257Z"
   },
   {
    "duration": 24,
    "start_time": "2022-08-31T11:16:37.219Z"
   },
   {
    "duration": 7,
    "start_time": "2022-08-31T11:23:25.482Z"
   },
   {
    "duration": 8,
    "start_time": "2022-08-31T11:23:27.826Z"
   },
   {
    "duration": 6,
    "start_time": "2022-08-31T11:24:51.879Z"
   },
   {
    "duration": 7,
    "start_time": "2022-08-31T11:24:52.626Z"
   },
   {
    "duration": 7,
    "start_time": "2022-08-31T11:25:44.562Z"
   },
   {
    "duration": 7,
    "start_time": "2022-08-31T11:25:47.839Z"
   },
   {
    "duration": 7,
    "start_time": "2022-08-31T11:25:59.844Z"
   },
   {
    "duration": 564,
    "start_time": "2022-08-31T11:32:36.318Z"
   },
   {
    "duration": 9,
    "start_time": "2022-08-31T11:32:38.474Z"
   },
   {
    "duration": 9,
    "start_time": "2022-08-31T11:33:13.740Z"
   },
   {
    "duration": 6,
    "start_time": "2022-08-31T11:42:39.646Z"
   },
   {
    "duration": 8,
    "start_time": "2022-08-31T11:42:40.374Z"
   },
   {
    "duration": 7,
    "start_time": "2022-08-31T11:42:52.017Z"
   },
   {
    "duration": 6,
    "start_time": "2022-08-31T11:42:54.261Z"
   },
   {
    "duration": 7,
    "start_time": "2022-08-31T11:43:03.838Z"
   },
   {
    "duration": 8,
    "start_time": "2022-08-31T11:43:21.448Z"
   },
   {
    "duration": 8,
    "start_time": "2022-08-31T11:43:34.654Z"
   },
   {
    "duration": 7,
    "start_time": "2022-08-31T11:43:40.093Z"
   },
   {
    "duration": 12,
    "start_time": "2022-08-31T11:43:52.467Z"
   },
   {
    "duration": 6,
    "start_time": "2022-08-31T11:50:57.958Z"
   },
   {
    "duration": 10,
    "start_time": "2022-08-31T11:51:28.611Z"
   },
   {
    "duration": 9,
    "start_time": "2022-08-31T11:51:48.077Z"
   },
   {
    "duration": 8,
    "start_time": "2022-08-31T11:54:19.704Z"
   },
   {
    "duration": 8,
    "start_time": "2022-08-31T11:54:59.860Z"
   },
   {
    "duration": 8,
    "start_time": "2022-08-31T11:58:48.526Z"
   },
   {
    "duration": 281,
    "start_time": "2022-08-31T12:08:01.143Z"
   },
   {
    "duration": 274,
    "start_time": "2022-08-31T12:08:09.136Z"
   },
   {
    "duration": 263,
    "start_time": "2022-08-31T12:08:15.351Z"
   },
   {
    "duration": 249,
    "start_time": "2022-08-31T12:08:53.177Z"
   },
   {
    "duration": 44,
    "start_time": "2022-08-31T16:19:14.445Z"
   },
   {
    "duration": 3,
    "start_time": "2022-08-31T16:19:18.594Z"
   },
   {
    "duration": 6,
    "start_time": "2022-08-31T16:19:18.598Z"
   },
   {
    "duration": 410,
    "start_time": "2022-08-31T16:19:18.605Z"
   },
   {
    "duration": 185,
    "start_time": "2022-08-31T16:19:19.016Z"
   },
   {
    "duration": 23,
    "start_time": "2022-08-31T16:19:19.203Z"
   },
   {
    "duration": 3,
    "start_time": "2022-08-31T16:19:19.227Z"
   },
   {
    "duration": 17,
    "start_time": "2022-08-31T16:19:19.231Z"
   },
   {
    "duration": 15,
    "start_time": "2022-08-31T16:19:19.250Z"
   },
   {
    "duration": 3,
    "start_time": "2022-08-31T16:19:19.266Z"
   },
   {
    "duration": 36,
    "start_time": "2022-08-31T16:19:19.270Z"
   },
   {
    "duration": 4,
    "start_time": "2022-08-31T16:19:19.309Z"
   },
   {
    "duration": 393,
    "start_time": "2022-08-31T16:19:19.315Z"
   },
   {
    "duration": 16,
    "start_time": "2022-08-31T16:19:19.710Z"
   },
   {
    "duration": 15,
    "start_time": "2022-08-31T16:19:19.727Z"
   },
   {
    "duration": 21,
    "start_time": "2022-08-31T16:19:19.743Z"
   },
   {
    "duration": 41,
    "start_time": "2022-08-31T16:19:19.766Z"
   },
   {
    "duration": 14,
    "start_time": "2022-08-31T16:19:19.808Z"
   },
   {
    "duration": 14,
    "start_time": "2022-08-31T16:19:19.823Z"
   },
   {
    "duration": 12,
    "start_time": "2022-08-31T16:19:19.838Z"
   },
   {
    "duration": 10,
    "start_time": "2022-08-31T16:19:19.852Z"
   },
   {
    "duration": 50,
    "start_time": "2022-08-31T16:19:19.864Z"
   },
   {
    "duration": 7,
    "start_time": "2022-08-31T16:19:19.916Z"
   },
   {
    "duration": 4,
    "start_time": "2022-08-31T16:19:19.924Z"
   },
   {
    "duration": 7,
    "start_time": "2022-08-31T16:19:19.929Z"
   },
   {
    "duration": 6,
    "start_time": "2022-08-31T16:19:19.937Z"
   },
   {
    "duration": 6,
    "start_time": "2022-08-31T16:19:19.945Z"
   },
   {
    "duration": 4,
    "start_time": "2022-08-31T16:19:19.952Z"
   },
   {
    "duration": 4,
    "start_time": "2022-08-31T16:19:19.957Z"
   },
   {
    "duration": 40,
    "start_time": "2022-08-31T16:19:19.965Z"
   },
   {
    "duration": 7,
    "start_time": "2022-08-31T16:19:20.006Z"
   },
   {
    "duration": 11,
    "start_time": "2022-08-31T16:19:20.014Z"
   },
   {
    "duration": 13,
    "start_time": "2022-08-31T16:19:20.026Z"
   },
   {
    "duration": 12,
    "start_time": "2022-08-31T16:19:20.041Z"
   },
   {
    "duration": 18,
    "start_time": "2022-08-31T16:19:20.054Z"
   },
   {
    "duration": 32,
    "start_time": "2022-08-31T16:19:20.074Z"
   },
   {
    "duration": 12,
    "start_time": "2022-08-31T16:19:20.107Z"
   },
   {
    "duration": 14,
    "start_time": "2022-08-31T16:19:20.120Z"
   },
   {
    "duration": 74,
    "start_time": "2022-08-31T16:19:20.136Z"
   },
   {
    "duration": 4,
    "start_time": "2022-08-31T16:19:20.211Z"
   },
   {
    "duration": 21,
    "start_time": "2022-08-31T16:19:20.216Z"
   },
   {
    "duration": 10,
    "start_time": "2022-08-31T16:19:20.238Z"
   },
   {
    "duration": 58,
    "start_time": "2022-08-31T16:19:20.249Z"
   },
   {
    "duration": 827,
    "start_time": "2022-08-31T16:19:20.308Z"
   },
   {
    "duration": 10,
    "start_time": "2022-08-31T16:19:21.136Z"
   },
   {
    "duration": 59,
    "start_time": "2022-08-31T16:19:21.148Z"
   },
   {
    "duration": 4,
    "start_time": "2022-08-31T16:19:21.208Z"
   },
   {
    "duration": 302,
    "start_time": "2022-08-31T16:19:21.213Z"
   },
   {
    "duration": 7,
    "start_time": "2022-08-31T16:19:21.516Z"
   },
   {
    "duration": 21,
    "start_time": "2022-08-31T16:19:21.524Z"
   },
   {
    "duration": 64,
    "start_time": "2022-08-31T16:19:21.547Z"
   },
   {
    "duration": 13,
    "start_time": "2022-08-31T16:19:21.612Z"
   },
   {
    "duration": 330,
    "start_time": "2022-08-31T16:19:21.626Z"
   },
   {
    "duration": 18,
    "start_time": "2022-08-31T16:19:21.957Z"
   },
   {
    "duration": 29,
    "start_time": "2022-08-31T16:19:21.977Z"
   },
   {
    "duration": 6,
    "start_time": "2022-08-31T16:19:22.008Z"
   },
   {
    "duration": 19,
    "start_time": "2022-08-31T16:19:22.015Z"
   },
   {
    "duration": 15,
    "start_time": "2022-08-31T16:19:22.036Z"
   },
   {
    "duration": 11,
    "start_time": "2022-08-31T16:19:22.053Z"
   },
   {
    "duration": 331,
    "start_time": "2022-08-31T16:19:22.065Z"
   },
   {
    "duration": 9,
    "start_time": "2022-08-31T16:19:22.398Z"
   },
   {
    "duration": 22,
    "start_time": "2022-08-31T16:19:22.408Z"
   },
   {
    "duration": 12,
    "start_time": "2022-08-31T16:19:22.431Z"
   },
   {
    "duration": 7,
    "start_time": "2022-08-31T16:19:22.445Z"
   },
   {
    "duration": 8,
    "start_time": "2022-08-31T16:19:22.454Z"
   },
   {
    "duration": 21,
    "start_time": "2022-08-31T16:19:22.463Z"
   },
   {
    "duration": 134,
    "start_time": "2022-08-31T16:19:22.505Z"
   },
   {
    "duration": 20,
    "start_time": "2022-08-31T16:19:22.640Z"
   },
   {
    "duration": 16,
    "start_time": "2022-08-31T16:19:22.661Z"
   },
   {
    "duration": 169,
    "start_time": "2022-08-31T16:19:22.678Z"
   },
   {
    "duration": 9,
    "start_time": "2022-08-31T16:19:22.849Z"
   },
   {
    "duration": 150,
    "start_time": "2022-08-31T16:19:22.859Z"
   },
   {
    "duration": 8,
    "start_time": "2022-08-31T16:19:23.011Z"
   },
   {
    "duration": 138,
    "start_time": "2022-08-31T16:19:23.020Z"
   },
   {
    "duration": 9,
    "start_time": "2022-08-31T16:19:23.160Z"
   },
   {
    "duration": 143,
    "start_time": "2022-08-31T16:19:23.170Z"
   },
   {
    "duration": 9,
    "start_time": "2022-08-31T16:19:23.314Z"
   },
   {
    "duration": 20,
    "start_time": "2022-08-31T16:19:23.324Z"
   },
   {
    "duration": 10,
    "start_time": "2022-08-31T16:19:23.345Z"
   },
   {
    "duration": 186,
    "start_time": "2022-08-31T16:19:23.356Z"
   },
   {
    "duration": 5,
    "start_time": "2022-08-31T16:19:23.543Z"
   },
   {
    "duration": 20,
    "start_time": "2022-08-31T16:19:23.550Z"
   },
   {
    "duration": 241,
    "start_time": "2022-08-31T16:19:23.571Z"
   },
   {
    "duration": 36,
    "start_time": "2022-08-31T16:19:23.817Z"
   },
   {
    "duration": 8,
    "start_time": "2022-08-31T16:19:23.855Z"
   },
   {
    "duration": 8,
    "start_time": "2022-08-31T16:19:23.865Z"
   },
   {
    "duration": 163,
    "start_time": "2022-08-31T16:19:23.875Z"
   },
   {
    "duration": 9,
    "start_time": "2022-08-31T16:19:24.040Z"
   },
   {
    "duration": 10,
    "start_time": "2022-08-31T16:19:24.051Z"
   },
   {
    "duration": 162,
    "start_time": "2022-08-31T16:19:24.062Z"
   },
   {
    "duration": 9,
    "start_time": "2022-08-31T16:19:24.226Z"
   },
   {
    "duration": 8,
    "start_time": "2022-08-31T16:19:24.237Z"
   },
   {
    "duration": 13,
    "start_time": "2022-08-31T16:19:24.247Z"
   },
   {
    "duration": 214,
    "start_time": "2022-08-31T16:19:24.261Z"
   },
   {
    "duration": 8,
    "start_time": "2022-08-31T16:19:24.477Z"
   },
   {
    "duration": 18,
    "start_time": "2022-08-31T16:19:24.487Z"
   },
   {
    "duration": 139,
    "start_time": "2022-08-31T16:19:24.507Z"
   },
   {
    "duration": 10,
    "start_time": "2022-08-31T16:19:24.648Z"
   },
   {
    "duration": 7,
    "start_time": "2022-08-31T16:19:24.659Z"
   },
   {
    "duration": 160,
    "start_time": "2022-08-31T16:19:24.668Z"
   },
   {
    "duration": 10,
    "start_time": "2022-08-31T16:19:24.829Z"
   },
   {
    "duration": 11,
    "start_time": "2022-08-31T16:19:24.840Z"
   },
   {
    "duration": 142,
    "start_time": "2022-08-31T16:19:24.852Z"
   },
   {
    "duration": 12,
    "start_time": "2022-08-31T16:19:24.995Z"
   },
   {
    "duration": 14,
    "start_time": "2022-08-31T16:19:25.009Z"
   },
   {
    "duration": 185,
    "start_time": "2022-08-31T16:19:25.025Z"
   },
   {
    "duration": 19,
    "start_time": "2022-08-31T16:19:25.211Z"
   },
   {
    "duration": 9,
    "start_time": "2022-08-31T16:19:25.231Z"
   },
   {
    "duration": 7,
    "start_time": "2022-08-31T16:19:25.241Z"
   },
   {
    "duration": 7,
    "start_time": "2022-08-31T16:19:25.249Z"
   },
   {
    "duration": 9,
    "start_time": "2022-08-31T16:19:25.257Z"
   },
   {
    "duration": 414,
    "start_time": "2022-08-31T16:19:25.267Z"
   },
   {
    "duration": 8,
    "start_time": "2022-08-31T16:19:25.682Z"
   },
   {
    "duration": 14,
    "start_time": "2022-08-31T16:19:25.692Z"
   },
   {
    "duration": 5,
    "start_time": "2022-08-31T16:19:25.708Z"
   },
   {
    "duration": 7,
    "start_time": "2022-08-31T16:19:25.714Z"
   },
   {
    "duration": 9,
    "start_time": "2022-08-31T16:19:25.722Z"
   },
   {
    "duration": 11,
    "start_time": "2022-08-31T16:19:25.732Z"
   },
   {
    "duration": 28,
    "start_time": "2022-08-31T16:19:25.745Z"
   },
   {
    "duration": 38,
    "start_time": "2022-08-31T16:24:52.067Z"
   },
   {
    "duration": 4,
    "start_time": "2022-08-31T17:46:51.516Z"
   },
   {
    "duration": 7,
    "start_time": "2022-08-31T17:46:51.522Z"
   },
   {
    "duration": 378,
    "start_time": "2022-08-31T17:46:51.531Z"
   },
   {
    "duration": 97,
    "start_time": "2022-08-31T17:46:51.911Z"
   },
   {
    "duration": 22,
    "start_time": "2022-08-31T17:46:52.009Z"
   },
   {
    "duration": 3,
    "start_time": "2022-08-31T17:46:52.032Z"
   },
   {
    "duration": 19,
    "start_time": "2022-08-31T17:46:52.036Z"
   },
   {
    "duration": 20,
    "start_time": "2022-08-31T17:46:52.056Z"
   },
   {
    "duration": 4,
    "start_time": "2022-08-31T17:46:52.079Z"
   },
   {
    "duration": 11,
    "start_time": "2022-08-31T17:46:52.098Z"
   },
   {
    "duration": 3,
    "start_time": "2022-08-31T17:46:52.110Z"
   },
   {
    "duration": 568,
    "start_time": "2022-08-31T17:46:52.114Z"
   },
   {
    "duration": 19,
    "start_time": "2022-08-31T17:46:52.683Z"
   },
   {
    "duration": 14,
    "start_time": "2022-08-31T17:46:52.703Z"
   },
   {
    "duration": 12,
    "start_time": "2022-08-31T17:46:52.719Z"
   },
   {
    "duration": 13,
    "start_time": "2022-08-31T17:46:52.732Z"
   },
   {
    "duration": 11,
    "start_time": "2022-08-31T17:46:52.746Z"
   },
   {
    "duration": 45,
    "start_time": "2022-08-31T17:46:52.759Z"
   },
   {
    "duration": 11,
    "start_time": "2022-08-31T17:46:52.806Z"
   },
   {
    "duration": 11,
    "start_time": "2022-08-31T17:46:52.818Z"
   },
   {
    "duration": 25,
    "start_time": "2022-08-31T17:46:52.830Z"
   },
   {
    "duration": 7,
    "start_time": "2022-08-31T17:46:52.857Z"
   },
   {
    "duration": 3,
    "start_time": "2022-08-31T17:46:52.865Z"
   },
   {
    "duration": 4,
    "start_time": "2022-08-31T17:46:52.898Z"
   },
   {
    "duration": 12,
    "start_time": "2022-08-31T17:46:52.903Z"
   },
   {
    "duration": 6,
    "start_time": "2022-08-31T17:46:52.916Z"
   },
   {
    "duration": 4,
    "start_time": "2022-08-31T17:46:52.924Z"
   },
   {
    "duration": 4,
    "start_time": "2022-08-31T17:46:52.930Z"
   },
   {
    "duration": 15,
    "start_time": "2022-08-31T17:46:52.936Z"
   },
   {
    "duration": 5,
    "start_time": "2022-08-31T17:46:52.952Z"
   },
   {
    "duration": 43,
    "start_time": "2022-08-31T17:46:52.958Z"
   },
   {
    "duration": 9,
    "start_time": "2022-08-31T17:46:53.002Z"
   },
   {
    "duration": 34,
    "start_time": "2022-08-31T17:46:53.013Z"
   },
   {
    "duration": 14,
    "start_time": "2022-08-31T17:46:53.049Z"
   },
   {
    "duration": 4,
    "start_time": "2022-08-31T17:46:53.064Z"
   },
   {
    "duration": 10,
    "start_time": "2022-08-31T17:46:53.070Z"
   },
   {
    "duration": 22,
    "start_time": "2022-08-31T17:46:53.082Z"
   },
   {
    "duration": 22,
    "start_time": "2022-08-31T17:46:53.105Z"
   },
   {
    "duration": 6,
    "start_time": "2022-08-31T17:46:53.128Z"
   },
   {
    "duration": 21,
    "start_time": "2022-08-31T17:46:53.136Z"
   },
   {
    "duration": 13,
    "start_time": "2022-08-31T17:46:53.158Z"
   },
   {
    "duration": 6,
    "start_time": "2022-08-31T17:46:53.172Z"
   },
   {
    "duration": 513,
    "start_time": "2022-08-31T17:46:53.180Z"
   },
   {
    "duration": 10,
    "start_time": "2022-08-31T17:46:53.695Z"
   },
   {
    "duration": 7,
    "start_time": "2022-08-31T17:46:53.706Z"
   },
   {
    "duration": 5,
    "start_time": "2022-08-31T17:46:53.714Z"
   },
   {
    "duration": 173,
    "start_time": "2022-08-31T17:46:53.721Z"
   },
   {
    "duration": 8,
    "start_time": "2022-08-31T17:46:53.896Z"
   },
   {
    "duration": 18,
    "start_time": "2022-08-31T17:46:53.906Z"
   },
   {
    "duration": 60,
    "start_time": "2022-08-31T17:46:53.926Z"
   },
   {
    "duration": 18,
    "start_time": "2022-08-31T17:46:53.987Z"
   },
   {
    "duration": 184,
    "start_time": "2022-08-31T17:46:54.007Z"
   },
   {
    "duration": 19,
    "start_time": "2022-08-31T17:46:54.198Z"
   },
   {
    "duration": 3,
    "start_time": "2022-08-31T17:46:54.218Z"
   },
   {
    "duration": 12,
    "start_time": "2022-08-31T17:46:54.222Z"
   },
   {
    "duration": 20,
    "start_time": "2022-08-31T17:47:57.037Z"
   },
   {
    "duration": 11,
    "start_time": "2022-08-31T17:48:02.179Z"
   },
   {
    "duration": 18,
    "start_time": "2022-08-31T17:48:09.508Z"
   },
   {
    "duration": 459,
    "start_time": "2022-08-31T17:49:00.032Z"
   },
   {
    "duration": 250,
    "start_time": "2022-08-31T17:49:08.395Z"
   },
   {
    "duration": 4,
    "start_time": "2022-08-31T17:50:07.418Z"
   },
   {
    "duration": 5,
    "start_time": "2022-08-31T17:50:17.080Z"
   },
   {
    "duration": 11,
    "start_time": "2022-08-31T17:50:25.506Z"
   },
   {
    "duration": 234,
    "start_time": "2022-08-31T17:50:49.721Z"
   },
   {
    "duration": 223,
    "start_time": "2022-08-31T17:50:57.168Z"
   },
   {
    "duration": 3,
    "start_time": "2022-08-31T17:51:04.396Z"
   },
   {
    "duration": 15,
    "start_time": "2022-08-31T17:51:04.401Z"
   },
   {
    "duration": 16,
    "start_time": "2022-08-31T17:51:04.418Z"
   },
   {
    "duration": 68,
    "start_time": "2022-08-31T17:51:04.436Z"
   },
   {
    "duration": 16,
    "start_time": "2022-08-31T17:51:04.507Z"
   },
   {
    "duration": 12,
    "start_time": "2022-08-31T17:51:04.525Z"
   },
   {
    "duration": 29,
    "start_time": "2022-08-31T17:51:04.539Z"
   },
   {
    "duration": 40,
    "start_time": "2022-08-31T17:51:04.570Z"
   },
   {
    "duration": 11,
    "start_time": "2022-08-31T17:51:04.612Z"
   },
   {
    "duration": 20,
    "start_time": "2022-08-31T17:51:04.625Z"
   },
   {
    "duration": 5,
    "start_time": "2022-08-31T17:51:04.648Z"
   },
   {
    "duration": 159,
    "start_time": "2022-08-31T17:51:04.655Z"
   },
   {
    "duration": 13,
    "start_time": "2022-08-31T17:51:04.815Z"
   },
   {
    "duration": 13,
    "start_time": "2022-08-31T17:51:04.830Z"
   },
   {
    "duration": 12,
    "start_time": "2022-08-31T17:51:04.844Z"
   },
   {
    "duration": 41,
    "start_time": "2022-08-31T17:51:04.858Z"
   },
   {
    "duration": 10,
    "start_time": "2022-08-31T17:51:04.901Z"
   },
   {
    "duration": 14,
    "start_time": "2022-08-31T17:51:04.913Z"
   },
   {
    "duration": 9,
    "start_time": "2022-08-31T17:51:04.929Z"
   },
   {
    "duration": 12,
    "start_time": "2022-08-31T17:51:04.939Z"
   },
   {
    "duration": 46,
    "start_time": "2022-08-31T17:51:04.953Z"
   },
   {
    "duration": 8,
    "start_time": "2022-08-31T17:51:05.000Z"
   },
   {
    "duration": 4,
    "start_time": "2022-08-31T17:51:05.009Z"
   },
   {
    "duration": 15,
    "start_time": "2022-08-31T17:51:05.014Z"
   },
   {
    "duration": 12,
    "start_time": "2022-08-31T17:51:05.031Z"
   },
   {
    "duration": 10,
    "start_time": "2022-08-31T17:51:05.045Z"
   },
   {
    "duration": 14,
    "start_time": "2022-08-31T17:51:05.056Z"
   },
   {
    "duration": 27,
    "start_time": "2022-08-31T17:51:05.071Z"
   },
   {
    "duration": 27,
    "start_time": "2022-08-31T17:51:05.101Z"
   },
   {
    "duration": 10,
    "start_time": "2022-08-31T17:51:05.129Z"
   },
   {
    "duration": 11,
    "start_time": "2022-08-31T17:51:05.140Z"
   },
   {
    "duration": 11,
    "start_time": "2022-08-31T17:51:05.153Z"
   },
   {
    "duration": 26,
    "start_time": "2022-08-31T17:51:05.166Z"
   },
   {
    "duration": 18,
    "start_time": "2022-08-31T17:51:05.194Z"
   },
   {
    "duration": 8,
    "start_time": "2022-08-31T17:51:05.213Z"
   },
   {
    "duration": 17,
    "start_time": "2022-08-31T17:51:05.223Z"
   },
   {
    "duration": 21,
    "start_time": "2022-08-31T17:51:05.242Z"
   },
   {
    "duration": 22,
    "start_time": "2022-08-31T17:51:05.265Z"
   },
   {
    "duration": 15,
    "start_time": "2022-08-31T17:51:05.299Z"
   },
   {
    "duration": 25,
    "start_time": "2022-08-31T17:51:05.315Z"
   },
   {
    "duration": 27,
    "start_time": "2022-08-31T17:51:05.341Z"
   },
   {
    "duration": 7,
    "start_time": "2022-08-31T17:51:05.369Z"
   },
   {
    "duration": 433,
    "start_time": "2022-08-31T17:51:05.377Z"
   },
   {
    "duration": 10,
    "start_time": "2022-08-31T17:51:05.811Z"
   },
   {
    "duration": 8,
    "start_time": "2022-08-31T17:51:05.822Z"
   },
   {
    "duration": 4,
    "start_time": "2022-08-31T17:51:05.832Z"
   },
   {
    "duration": 176,
    "start_time": "2022-08-31T17:51:05.837Z"
   },
   {
    "duration": 7,
    "start_time": "2022-08-31T17:51:06.015Z"
   },
   {
    "duration": 21,
    "start_time": "2022-08-31T17:51:06.023Z"
   },
   {
    "duration": 18,
    "start_time": "2022-08-31T17:51:06.046Z"
   },
   {
    "duration": 12,
    "start_time": "2022-08-31T17:51:06.066Z"
   },
   {
    "duration": 202,
    "start_time": "2022-08-31T17:51:06.079Z"
   },
   {
    "duration": 30,
    "start_time": "2022-08-31T17:51:06.283Z"
   },
   {
    "duration": 4,
    "start_time": "2022-08-31T17:51:06.314Z"
   },
   {
    "duration": 6,
    "start_time": "2022-08-31T17:51:06.319Z"
   },
   {
    "duration": 20,
    "start_time": "2022-08-31T17:51:06.326Z"
   },
   {
    "duration": 13,
    "start_time": "2022-08-31T17:51:06.348Z"
   },
   {
    "duration": 12,
    "start_time": "2022-08-31T17:51:06.362Z"
   },
   {
    "duration": 310,
    "start_time": "2022-08-31T17:51:06.375Z"
   },
   {
    "duration": 3,
    "start_time": "2022-08-31T17:51:06.687Z"
   },
   {
    "duration": 12,
    "start_time": "2022-08-31T17:51:06.691Z"
   },
   {
    "duration": 15,
    "start_time": "2022-08-31T17:51:06.704Z"
   },
   {
    "duration": 240,
    "start_time": "2022-08-31T17:51:06.720Z"
   },
   {
    "duration": 225,
    "start_time": "2022-08-31T17:51:14.129Z"
   },
   {
    "duration": 6,
    "start_time": "2022-08-31T17:51:42.956Z"
   },
   {
    "duration": 29,
    "start_time": "2022-08-31T17:51:45.137Z"
   },
   {
    "duration": 17,
    "start_time": "2022-08-31T17:52:41.669Z"
   },
   {
    "duration": 11,
    "start_time": "2022-08-31T17:52:45.271Z"
   },
   {
    "duration": 6,
    "start_time": "2022-08-31T17:53:18.016Z"
   },
   {
    "duration": 18,
    "start_time": "2022-08-31T17:53:18.892Z"
   },
   {
    "duration": 130,
    "start_time": "2022-08-31T17:53:26.494Z"
   },
   {
    "duration": 21,
    "start_time": "2022-08-31T17:53:32.014Z"
   },
   {
    "duration": 15,
    "start_time": "2022-08-31T17:53:48.096Z"
   },
   {
    "duration": 153,
    "start_time": "2022-08-31T17:54:01.086Z"
   },
   {
    "duration": 13,
    "start_time": "2022-08-31T17:54:08.671Z"
   },
   {
    "duration": 128,
    "start_time": "2022-08-31T17:55:09.358Z"
   },
   {
    "duration": 10,
    "start_time": "2022-08-31T17:55:20.014Z"
   },
   {
    "duration": 132,
    "start_time": "2022-08-31T17:55:37.496Z"
   },
   {
    "duration": 9,
    "start_time": "2022-08-31T17:55:43.210Z"
   },
   {
    "duration": 163,
    "start_time": "2022-08-31T17:56:04.446Z"
   },
   {
    "duration": 12,
    "start_time": "2022-08-31T17:56:06.879Z"
   },
   {
    "duration": 120,
    "start_time": "2022-08-31T17:57:59.286Z"
   },
   {
    "duration": 8,
    "start_time": "2022-08-31T17:58:24.828Z"
   },
   {
    "duration": 122,
    "start_time": "2022-08-31T17:59:09.724Z"
   },
   {
    "duration": 10,
    "start_time": "2022-08-31T17:59:23.464Z"
   },
   {
    "duration": 132,
    "start_time": "2022-08-31T18:00:07.462Z"
   },
   {
    "duration": 9,
    "start_time": "2022-08-31T18:00:22.899Z"
   },
   {
    "duration": 195,
    "start_time": "2022-08-31T18:00:41.770Z"
   },
   {
    "duration": 10,
    "start_time": "2022-08-31T18:00:51.405Z"
   },
   {
    "duration": 32,
    "start_time": "2022-08-31T18:01:22.332Z"
   },
   {
    "duration": 20,
    "start_time": "2022-08-31T18:02:54.042Z"
   },
   {
    "duration": 8,
    "start_time": "2022-08-31T18:02:57.200Z"
   },
   {
    "duration": 181,
    "start_time": "2022-08-31T18:03:02.998Z"
   },
   {
    "duration": 6,
    "start_time": "2022-08-31T18:03:29.465Z"
   },
   {
    "duration": 21,
    "start_time": "2022-08-31T18:03:30.387Z"
   },
   {
    "duration": 261,
    "start_time": "2022-08-31T18:03:45.168Z"
   },
   {
    "duration": 34,
    "start_time": "2022-08-31T18:04:00.171Z"
   },
   {
    "duration": 9,
    "start_time": "2022-08-31T18:04:22.105Z"
   },
   {
    "duration": 7,
    "start_time": "2022-08-31T18:04:22.852Z"
   },
   {
    "duration": 149,
    "start_time": "2022-08-31T18:04:25.296Z"
   },
   {
    "duration": 13,
    "start_time": "2022-08-31T18:04:33.706Z"
   },
   {
    "duration": 8,
    "start_time": "2022-08-31T18:04:34.855Z"
   },
   {
    "duration": 142,
    "start_time": "2022-08-31T18:04:37.484Z"
   },
   {
    "duration": 10,
    "start_time": "2022-08-31T18:04:46.921Z"
   },
   {
    "duration": 8,
    "start_time": "2022-08-31T18:04:47.414Z"
   },
   {
    "duration": 4,
    "start_time": "2022-08-31T18:04:50.274Z"
   },
   {
    "duration": 143,
    "start_time": "2022-08-31T18:05:25.579Z"
   },
   {
    "duration": 10,
    "start_time": "2022-08-31T18:06:06.286Z"
   },
   {
    "duration": 6,
    "start_time": "2022-08-31T18:06:07.413Z"
   },
   {
    "duration": 150,
    "start_time": "2022-08-31T18:06:11.827Z"
   },
   {
    "duration": 9,
    "start_time": "2022-08-31T18:06:13.201Z"
   },
   {
    "duration": 7,
    "start_time": "2022-08-31T18:06:14.902Z"
   },
   {
    "duration": 141,
    "start_time": "2022-08-31T18:06:15.709Z"
   },
   {
    "duration": 9,
    "start_time": "2022-08-31T18:06:18.312Z"
   },
   {
    "duration": 6,
    "start_time": "2022-08-31T18:06:19.171Z"
   },
   {
    "duration": 159,
    "start_time": "2022-08-31T18:06:21.839Z"
   },
   {
    "duration": 11,
    "start_time": "2022-08-31T18:06:52.299Z"
   },
   {
    "duration": 9,
    "start_time": "2022-08-31T18:06:52.918Z"
   },
   {
    "duration": 230,
    "start_time": "2022-08-31T18:07:01.624Z"
   },
   {
    "duration": 23,
    "start_time": "2022-08-31T18:07:10.587Z"
   },
   {
    "duration": 8,
    "start_time": "2022-08-31T18:08:01.267Z"
   },
   {
    "duration": 9,
    "start_time": "2022-08-31T18:08:01.883Z"
   },
   {
    "duration": 8,
    "start_time": "2022-08-31T18:08:02.535Z"
   },
   {
    "duration": 7,
    "start_time": "2022-08-31T18:08:03.285Z"
   },
   {
    "duration": 448,
    "start_time": "2022-08-31T18:08:23.166Z"
   },
   {
    "duration": 11,
    "start_time": "2022-08-31T18:08:24.728Z"
   },
   {
    "duration": 6,
    "start_time": "2022-08-31T18:08:35.790Z"
   },
   {
    "duration": 8,
    "start_time": "2022-08-31T18:08:36.381Z"
   },
   {
    "duration": 10,
    "start_time": "2022-08-31T18:08:37.968Z"
   },
   {
    "duration": 6,
    "start_time": "2022-08-31T18:08:38.565Z"
   },
   {
    "duration": 10,
    "start_time": "2022-08-31T18:08:45.185Z"
   },
   {
    "duration": 9,
    "start_time": "2022-08-31T18:09:02.173Z"
   }
  ],
  "kernelspec": {
   "display_name": "Python 3 (ipykernel)",
   "language": "python",
   "name": "python3"
  },
  "language_info": {
   "codemirror_mode": {
    "name": "ipython",
    "version": 3
   },
   "file_extension": ".py",
   "mimetype": "text/x-python",
   "name": "python",
   "nbconvert_exporter": "python",
   "pygments_lexer": "ipython3",
   "version": "3.9.5"
  },
  "toc": {
   "base_numbering": 1,
   "nav_menu": {},
   "number_sections": true,
   "sideBar": true,
   "skip_h1_title": true,
   "title_cell": "Table of Contents",
   "title_sidebar": "Contents",
   "toc_cell": false,
   "toc_position": {
    "height": "calc(100% - 180px)",
    "left": "10px",
    "top": "150px",
    "width": "165px"
   },
   "toc_section_display": true,
   "toc_window_display": false
  }
 },
 "nbformat": 4,
 "nbformat_minor": 2
}
