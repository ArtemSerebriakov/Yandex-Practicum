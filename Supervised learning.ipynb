{
 "cells": [
  {
   "cell_type": "markdown",
   "metadata": {
    "toc": true
   },
   "source": [
    "<h1>Содержание<span class=\"tocSkip\"></span></h1>\n",
    "<div class=\"toc\"><ul class=\"toc-item\"><li><span><a href=\"#Подготовка-данных\" data-toc-modified-id=\"Подготовка-данных-1\"><span class=\"toc-item-num\">1&nbsp;&nbsp;</span>Подготовка данных</a></span></li><li><span><a href=\"#Исследование-задачи\" data-toc-modified-id=\"Исследование-задачи-2\"><span class=\"toc-item-num\">2&nbsp;&nbsp;</span>Исследование задачи</a></span></li><li><span><a href=\"#Борьба-с-дисбалансом\" data-toc-modified-id=\"Борьба-с-дисбалансом-3\"><span class=\"toc-item-num\">3&nbsp;&nbsp;</span>Борьба с дисбалансом</a></span></li><li><span><a href=\"#Тестирование-модели\" data-toc-modified-id=\"Тестирование-модели-4\"><span class=\"toc-item-num\">4&nbsp;&nbsp;</span>Тестирование модели</a></span></li><li><span><a href=\"#Чек-лист-готовности-проекта\" data-toc-modified-id=\"Чек-лист-готовности-проекта-5\"><span class=\"toc-item-num\">5&nbsp;&nbsp;</span>Чек-лист готовности проекта</a></span></li></ul></div>"
   ]
  },
  {
   "cell_type": "markdown",
   "metadata": {},
   "source": [
    "# Отток клиентов"
   ]
  },
  {
   "cell_type": "markdown",
   "metadata": {},
   "source": [
    "Из «Бета-Банка» стали уходить клиенты. Каждый месяц. Немного, но заметно. Банковские маркетологи посчитали: сохранять текущих клиентов дешевле, чем привлекать новых.\n",
    "\n",
    "Нужно спрогнозировать, уйдёт клиент из банка в ближайшее время или нет. Вам предоставлены исторические данные о поведении клиентов и расторжении договоров с банком. \n",
    "\n",
    "Постройте модель с предельно большим значением *F1*-меры. Чтобы сдать проект успешно, нужно довести метрику до 0.59. Проверьте *F1*-меру на тестовой выборке самостоятельно.\n",
    "\n",
    "Дополнительно измеряйте *AUC-ROC*, сравнивайте её значение с *F1*-мерой.\n",
    "\n",
    "Источник данных: [https://www.kaggle.com/barelydedicated/bank-customer-churn-modeling](https://www.kaggle.com/barelydedicated/bank-customer-churn-modeling)"
   ]
  },
  {
   "cell_type": "markdown",
   "metadata": {},
   "source": [
    "План работы:\n",
    "1. Изучить общую информацию из датафрейма.\n",
    "2. Разделите исходные данные на обучающую, валидационную и тестовую выборки.\n",
    "3. Подготовить данные для дальнейшего анализа.\n",
    "4. Исследовать баланс классов в целевом признаке.\n",
    "5. Обучить модели без учета дисбаланса и найти значения метрик F1 и AUC-ROC.\n",
    "6. Устранить дисбаланс классов с помощью различных техник.\n",
    "7. Обучить модели на сбалансированных данных и оценить их качества.\n",
    "8. Найти наилучшую модель.\n",
    "9. Проверить качество выбранной модели на тестовой выборке."
   ]
  },
  {
   "cell_type": "markdown",
   "metadata": {},
   "source": [
    "## Подготовка данных"
   ]
  },
  {
   "cell_type": "code",
   "execution_count": 373,
   "metadata": {},
   "outputs": [
    {
     "data": {
      "application/javascript": [
       "\n",
       "            setTimeout(function() {\n",
       "                var nbb_cell_id = 373;\n",
       "                var nbb_unformatted_code = \"# pip install nb_black\";\n",
       "                var nbb_formatted_code = \"# pip install nb_black\";\n",
       "                var nbb_cells = Jupyter.notebook.get_cells();\n",
       "                for (var i = 0; i < nbb_cells.length; ++i) {\n",
       "                    if (nbb_cells[i].input_prompt_number == nbb_cell_id) {\n",
       "                        if (nbb_cells[i].get_text() == nbb_unformatted_code) {\n",
       "                             nbb_cells[i].set_text(nbb_formatted_code);\n",
       "                        }\n",
       "                        break;\n",
       "                    }\n",
       "                }\n",
       "            }, 500);\n",
       "            "
      ],
      "text/plain": [
       "<IPython.core.display.Javascript object>"
      ]
     },
     "metadata": {},
     "output_type": "display_data"
    }
   ],
   "source": [
    "# pip install nb_black"
   ]
  },
  {
   "cell_type": "code",
   "execution_count": 374,
   "metadata": {},
   "outputs": [
    {
     "name": "stdout",
     "output_type": "stream",
     "text": [
      "The nb_black extension is already loaded. To reload it, use:\n",
      "  %reload_ext nb_black\n"
     ]
    },
    {
     "data": {
      "application/javascript": [
       "\n",
       "            setTimeout(function() {\n",
       "                var nbb_cell_id = 374;\n",
       "                var nbb_unformatted_code = \"%load_ext nb_black\";\n",
       "                var nbb_formatted_code = \"%load_ext nb_black\";\n",
       "                var nbb_cells = Jupyter.notebook.get_cells();\n",
       "                for (var i = 0; i < nbb_cells.length; ++i) {\n",
       "                    if (nbb_cells[i].input_prompt_number == nbb_cell_id) {\n",
       "                        if (nbb_cells[i].get_text() == nbb_unformatted_code) {\n",
       "                             nbb_cells[i].set_text(nbb_formatted_code);\n",
       "                        }\n",
       "                        break;\n",
       "                    }\n",
       "                }\n",
       "            }, 500);\n",
       "            "
      ],
      "text/plain": [
       "<IPython.core.display.Javascript object>"
      ]
     },
     "metadata": {},
     "output_type": "display_data"
    }
   ],
   "source": [
    "#%load_ext nb_black"
   ]
  },
  {
   "cell_type": "code",
   "execution_count": 375,
   "metadata": {},
   "outputs": [
    {
     "data": {
      "application/javascript": [
       "\n",
       "            setTimeout(function() {\n",
       "                var nbb_cell_id = 375;\n",
       "                var nbb_unformatted_code = \"import pandas as pd\\nfrom sklearn.model_selection import train_test_split\\nfrom sklearn.preprocessing import StandardScaler\\nimport numpy as np\\nfrom sklearn.model_selection import GridSearchCV\\nfrom sklearn.tree import DecisionTreeClassifier\\nfrom sklearn.ensemble import RandomForestClassifier\\nfrom sklearn.linear_model import LogisticRegression\\nfrom sklearn.metrics import f1_score\\nimport matplotlib.pyplot as plt\\nfrom sklearn.utils import shuffle\\nfrom sklearn.metrics import roc_auc_score\\nfrom sklearn.metrics import roc_curve\";\n",
       "                var nbb_formatted_code = \"import pandas as pd\\nfrom sklearn.model_selection import train_test_split\\nfrom sklearn.preprocessing import StandardScaler\\nimport numpy as np\\nfrom sklearn.model_selection import GridSearchCV\\nfrom sklearn.tree import DecisionTreeClassifier\\nfrom sklearn.ensemble import RandomForestClassifier\\nfrom sklearn.linear_model import LogisticRegression\\nfrom sklearn.metrics import f1_score\\nimport matplotlib.pyplot as plt\\nfrom sklearn.utils import shuffle\\nfrom sklearn.metrics import roc_auc_score\\nfrom sklearn.metrics import roc_curve\";\n",
       "                var nbb_cells = Jupyter.notebook.get_cells();\n",
       "                for (var i = 0; i < nbb_cells.length; ++i) {\n",
       "                    if (nbb_cells[i].input_prompt_number == nbb_cell_id) {\n",
       "                        if (nbb_cells[i].get_text() == nbb_unformatted_code) {\n",
       "                             nbb_cells[i].set_text(nbb_formatted_code);\n",
       "                        }\n",
       "                        break;\n",
       "                    }\n",
       "                }\n",
       "            }, 500);\n",
       "            "
      ],
      "text/plain": [
       "<IPython.core.display.Javascript object>"
      ]
     },
     "metadata": {},
     "output_type": "display_data"
    }
   ],
   "source": [
    "import pandas as pd\n",
    "from sklearn.model_selection import train_test_split\n",
    "from sklearn.preprocessing import StandardScaler\n",
    "import numpy as np\n",
    "from sklearn.model_selection import GridSearchCV\n",
    "from sklearn.tree import DecisionTreeClassifier\n",
    "from sklearn.ensemble import RandomForestClassifier\n",
    "from sklearn.linear_model import LogisticRegression\n",
    "from sklearn.metrics import f1_score\n",
    "import matplotlib.pyplot as plt\n",
    "from sklearn.utils import shuffle\n",
    "from sklearn.metrics import roc_auc_score\n",
    "from sklearn.metrics import roc_curve"
   ]
  },
  {
   "cell_type": "markdown",
   "metadata": {},
   "source": [
    "Изучим данные."
   ]
  },
  {
   "cell_type": "code",
   "execution_count": 376,
   "metadata": {},
   "outputs": [
    {
     "data": {
      "text/html": [
       "<div>\n",
       "<style scoped>\n",
       "    .dataframe tbody tr th:only-of-type {\n",
       "        vertical-align: middle;\n",
       "    }\n",
       "\n",
       "    .dataframe tbody tr th {\n",
       "        vertical-align: top;\n",
       "    }\n",
       "\n",
       "    .dataframe thead th {\n",
       "        text-align: right;\n",
       "    }\n",
       "</style>\n",
       "<table border=\"1\" class=\"dataframe\">\n",
       "  <thead>\n",
       "    <tr style=\"text-align: right;\">\n",
       "      <th></th>\n",
       "      <th>RowNumber</th>\n",
       "      <th>CustomerId</th>\n",
       "      <th>Surname</th>\n",
       "      <th>CreditScore</th>\n",
       "      <th>Geography</th>\n",
       "      <th>Gender</th>\n",
       "      <th>Age</th>\n",
       "      <th>Tenure</th>\n",
       "      <th>Balance</th>\n",
       "      <th>NumOfProducts</th>\n",
       "      <th>HasCrCard</th>\n",
       "      <th>IsActiveMember</th>\n",
       "      <th>EstimatedSalary</th>\n",
       "      <th>Exited</th>\n",
       "    </tr>\n",
       "  </thead>\n",
       "  <tbody>\n",
       "    <tr>\n",
       "      <th>0</th>\n",
       "      <td>1</td>\n",
       "      <td>15634602</td>\n",
       "      <td>Hargrave</td>\n",
       "      <td>619</td>\n",
       "      <td>France</td>\n",
       "      <td>Female</td>\n",
       "      <td>42</td>\n",
       "      <td>2.0</td>\n",
       "      <td>0.00</td>\n",
       "      <td>1</td>\n",
       "      <td>1</td>\n",
       "      <td>1</td>\n",
       "      <td>101348.88</td>\n",
       "      <td>1</td>\n",
       "    </tr>\n",
       "    <tr>\n",
       "      <th>1</th>\n",
       "      <td>2</td>\n",
       "      <td>15647311</td>\n",
       "      <td>Hill</td>\n",
       "      <td>608</td>\n",
       "      <td>Spain</td>\n",
       "      <td>Female</td>\n",
       "      <td>41</td>\n",
       "      <td>1.0</td>\n",
       "      <td>83807.86</td>\n",
       "      <td>1</td>\n",
       "      <td>0</td>\n",
       "      <td>1</td>\n",
       "      <td>112542.58</td>\n",
       "      <td>0</td>\n",
       "    </tr>\n",
       "    <tr>\n",
       "      <th>2</th>\n",
       "      <td>3</td>\n",
       "      <td>15619304</td>\n",
       "      <td>Onio</td>\n",
       "      <td>502</td>\n",
       "      <td>France</td>\n",
       "      <td>Female</td>\n",
       "      <td>42</td>\n",
       "      <td>8.0</td>\n",
       "      <td>159660.80</td>\n",
       "      <td>3</td>\n",
       "      <td>1</td>\n",
       "      <td>0</td>\n",
       "      <td>113931.57</td>\n",
       "      <td>1</td>\n",
       "    </tr>\n",
       "    <tr>\n",
       "      <th>3</th>\n",
       "      <td>4</td>\n",
       "      <td>15701354</td>\n",
       "      <td>Boni</td>\n",
       "      <td>699</td>\n",
       "      <td>France</td>\n",
       "      <td>Female</td>\n",
       "      <td>39</td>\n",
       "      <td>1.0</td>\n",
       "      <td>0.00</td>\n",
       "      <td>2</td>\n",
       "      <td>0</td>\n",
       "      <td>0</td>\n",
       "      <td>93826.63</td>\n",
       "      <td>0</td>\n",
       "    </tr>\n",
       "    <tr>\n",
       "      <th>4</th>\n",
       "      <td>5</td>\n",
       "      <td>15737888</td>\n",
       "      <td>Mitchell</td>\n",
       "      <td>850</td>\n",
       "      <td>Spain</td>\n",
       "      <td>Female</td>\n",
       "      <td>43</td>\n",
       "      <td>2.0</td>\n",
       "      <td>125510.82</td>\n",
       "      <td>1</td>\n",
       "      <td>1</td>\n",
       "      <td>1</td>\n",
       "      <td>79084.10</td>\n",
       "      <td>0</td>\n",
       "    </tr>\n",
       "    <tr>\n",
       "      <th>5</th>\n",
       "      <td>6</td>\n",
       "      <td>15574012</td>\n",
       "      <td>Chu</td>\n",
       "      <td>645</td>\n",
       "      <td>Spain</td>\n",
       "      <td>Male</td>\n",
       "      <td>44</td>\n",
       "      <td>8.0</td>\n",
       "      <td>113755.78</td>\n",
       "      <td>2</td>\n",
       "      <td>1</td>\n",
       "      <td>0</td>\n",
       "      <td>149756.71</td>\n",
       "      <td>1</td>\n",
       "    </tr>\n",
       "    <tr>\n",
       "      <th>6</th>\n",
       "      <td>7</td>\n",
       "      <td>15592531</td>\n",
       "      <td>Bartlett</td>\n",
       "      <td>822</td>\n",
       "      <td>France</td>\n",
       "      <td>Male</td>\n",
       "      <td>50</td>\n",
       "      <td>7.0</td>\n",
       "      <td>0.00</td>\n",
       "      <td>2</td>\n",
       "      <td>1</td>\n",
       "      <td>1</td>\n",
       "      <td>10062.80</td>\n",
       "      <td>0</td>\n",
       "    </tr>\n",
       "    <tr>\n",
       "      <th>7</th>\n",
       "      <td>8</td>\n",
       "      <td>15656148</td>\n",
       "      <td>Obinna</td>\n",
       "      <td>376</td>\n",
       "      <td>Germany</td>\n",
       "      <td>Female</td>\n",
       "      <td>29</td>\n",
       "      <td>4.0</td>\n",
       "      <td>115046.74</td>\n",
       "      <td>4</td>\n",
       "      <td>1</td>\n",
       "      <td>0</td>\n",
       "      <td>119346.88</td>\n",
       "      <td>1</td>\n",
       "    </tr>\n",
       "    <tr>\n",
       "      <th>8</th>\n",
       "      <td>9</td>\n",
       "      <td>15792365</td>\n",
       "      <td>He</td>\n",
       "      <td>501</td>\n",
       "      <td>France</td>\n",
       "      <td>Male</td>\n",
       "      <td>44</td>\n",
       "      <td>4.0</td>\n",
       "      <td>142051.07</td>\n",
       "      <td>2</td>\n",
       "      <td>0</td>\n",
       "      <td>1</td>\n",
       "      <td>74940.50</td>\n",
       "      <td>0</td>\n",
       "    </tr>\n",
       "    <tr>\n",
       "      <th>9</th>\n",
       "      <td>10</td>\n",
       "      <td>15592389</td>\n",
       "      <td>H?</td>\n",
       "      <td>684</td>\n",
       "      <td>France</td>\n",
       "      <td>Male</td>\n",
       "      <td>27</td>\n",
       "      <td>2.0</td>\n",
       "      <td>134603.88</td>\n",
       "      <td>1</td>\n",
       "      <td>1</td>\n",
       "      <td>1</td>\n",
       "      <td>71725.73</td>\n",
       "      <td>0</td>\n",
       "    </tr>\n",
       "  </tbody>\n",
       "</table>\n",
       "</div>"
      ],
      "text/plain": [
       "   RowNumber  CustomerId   Surname  CreditScore Geography  Gender  Age  \\\n",
       "0          1    15634602  Hargrave          619    France  Female   42   \n",
       "1          2    15647311      Hill          608     Spain  Female   41   \n",
       "2          3    15619304      Onio          502    France  Female   42   \n",
       "3          4    15701354      Boni          699    France  Female   39   \n",
       "4          5    15737888  Mitchell          850     Spain  Female   43   \n",
       "5          6    15574012       Chu          645     Spain    Male   44   \n",
       "6          7    15592531  Bartlett          822    France    Male   50   \n",
       "7          8    15656148    Obinna          376   Germany  Female   29   \n",
       "8          9    15792365        He          501    France    Male   44   \n",
       "9         10    15592389        H?          684    France    Male   27   \n",
       "\n",
       "   Tenure    Balance  NumOfProducts  HasCrCard  IsActiveMember  \\\n",
       "0     2.0       0.00              1          1               1   \n",
       "1     1.0   83807.86              1          0               1   \n",
       "2     8.0  159660.80              3          1               0   \n",
       "3     1.0       0.00              2          0               0   \n",
       "4     2.0  125510.82              1          1               1   \n",
       "5     8.0  113755.78              2          1               0   \n",
       "6     7.0       0.00              2          1               1   \n",
       "7     4.0  115046.74              4          1               0   \n",
       "8     4.0  142051.07              2          0               1   \n",
       "9     2.0  134603.88              1          1               1   \n",
       "\n",
       "   EstimatedSalary  Exited  \n",
       "0        101348.88       1  \n",
       "1        112542.58       0  \n",
       "2        113931.57       1  \n",
       "3         93826.63       0  \n",
       "4         79084.10       0  \n",
       "5        149756.71       1  \n",
       "6         10062.80       0  \n",
       "7        119346.88       1  \n",
       "8         74940.50       0  \n",
       "9         71725.73       0  "
      ]
     },
     "execution_count": 376,
     "metadata": {},
     "output_type": "execute_result"
    },
    {
     "data": {
      "application/javascript": [
       "\n",
       "            setTimeout(function() {\n",
       "                var nbb_cell_id = 376;\n",
       "                var nbb_unformatted_code = \"df = pd.read_csv(\\\"Churn.csv\\\", sep=\\\",\\\")\\ndf.head(10)\";\n",
       "                var nbb_formatted_code = \"df = pd.read_csv(\\\"Churn.csv\\\", sep=\\\",\\\")\\ndf.head(10)\";\n",
       "                var nbb_cells = Jupyter.notebook.get_cells();\n",
       "                for (var i = 0; i < nbb_cells.length; ++i) {\n",
       "                    if (nbb_cells[i].input_prompt_number == nbb_cell_id) {\n",
       "                        if (nbb_cells[i].get_text() == nbb_unformatted_code) {\n",
       "                             nbb_cells[i].set_text(nbb_formatted_code);\n",
       "                        }\n",
       "                        break;\n",
       "                    }\n",
       "                }\n",
       "            }, 500);\n",
       "            "
      ],
      "text/plain": [
       "<IPython.core.display.Javascript object>"
      ]
     },
     "metadata": {},
     "output_type": "display_data"
    }
   ],
   "source": [
    "df = pd.read_csv(\"/datasets/Churn.csv\", sep=\",\")\n",
    "df.head(10)"
   ]
  },
  {
   "cell_type": "markdown",
   "metadata": {},
   "source": [
    "Видим, что в датафрейме присутствует достаточно много категориальных признаков: `Geograpy`, `Gender`, `HasCrCard`, `IsActiveMember`. Целевой признак `Exited` также является категориальным."
   ]
  },
  {
   "cell_type": "code",
   "execution_count": 377,
   "metadata": {},
   "outputs": [
    {
     "name": "stdout",
     "output_type": "stream",
     "text": [
      "<class 'pandas.core.frame.DataFrame'>\n",
      "RangeIndex: 10000 entries, 0 to 9999\n",
      "Data columns (total 14 columns):\n",
      " #   Column           Non-Null Count  Dtype  \n",
      "---  ------           --------------  -----  \n",
      " 0   RowNumber        10000 non-null  int64  \n",
      " 1   CustomerId       10000 non-null  int64  \n",
      " 2   Surname          10000 non-null  object \n",
      " 3   CreditScore      10000 non-null  int64  \n",
      " 4   Geography        10000 non-null  object \n",
      " 5   Gender           10000 non-null  object \n",
      " 6   Age              10000 non-null  int64  \n",
      " 7   Tenure           9091 non-null   float64\n",
      " 8   Balance          10000 non-null  float64\n",
      " 9   NumOfProducts    10000 non-null  int64  \n",
      " 10  HasCrCard        10000 non-null  int64  \n",
      " 11  IsActiveMember   10000 non-null  int64  \n",
      " 12  EstimatedSalary  10000 non-null  float64\n",
      " 13  Exited           10000 non-null  int64  \n",
      "dtypes: float64(3), int64(8), object(3)\n",
      "memory usage: 1.1+ MB\n"
     ]
    },
    {
     "data": {
      "application/javascript": [
       "\n",
       "            setTimeout(function() {\n",
       "                var nbb_cell_id = 377;\n",
       "                var nbb_unformatted_code = \"df.info()\";\n",
       "                var nbb_formatted_code = \"df.info()\";\n",
       "                var nbb_cells = Jupyter.notebook.get_cells();\n",
       "                for (var i = 0; i < nbb_cells.length; ++i) {\n",
       "                    if (nbb_cells[i].input_prompt_number == nbb_cell_id) {\n",
       "                        if (nbb_cells[i].get_text() == nbb_unformatted_code) {\n",
       "                             nbb_cells[i].set_text(nbb_formatted_code);\n",
       "                        }\n",
       "                        break;\n",
       "                    }\n",
       "                }\n",
       "            }, 500);\n",
       "            "
      ],
      "text/plain": [
       "<IPython.core.display.Javascript object>"
      ]
     },
     "metadata": {},
     "output_type": "display_data"
    }
   ],
   "source": [
    "df.info()"
   ]
  },
  {
   "cell_type": "markdown",
   "metadata": {},
   "source": [
    "В столбце `Tenure` присутствуют пропуски. Для них создадим отдельную категорию \"Unknown\", говорящую, что нет данных о том, сколько лет человек является клиентом банка. Предварительно поменяем тип данных этого столбца на object."
   ]
  },
  {
   "cell_type": "code",
   "execution_count": 378,
   "metadata": {},
   "outputs": [
    {
     "data": {
      "application/javascript": [
       "\n",
       "            setTimeout(function() {\n",
       "                var nbb_cell_id = 378;\n",
       "                var nbb_unformatted_code = \"df[\\\"Tenure\\\"] = df[\\\"Tenure\\\"].astype(\\\"object\\\")\";\n",
       "                var nbb_formatted_code = \"df[\\\"Tenure\\\"] = df[\\\"Tenure\\\"].astype(\\\"object\\\")\";\n",
       "                var nbb_cells = Jupyter.notebook.get_cells();\n",
       "                for (var i = 0; i < nbb_cells.length; ++i) {\n",
       "                    if (nbb_cells[i].input_prompt_number == nbb_cell_id) {\n",
       "                        if (nbb_cells[i].get_text() == nbb_unformatted_code) {\n",
       "                             nbb_cells[i].set_text(nbb_formatted_code);\n",
       "                        }\n",
       "                        break;\n",
       "                    }\n",
       "                }\n",
       "            }, 500);\n",
       "            "
      ],
      "text/plain": [
       "<IPython.core.display.Javascript object>"
      ]
     },
     "metadata": {},
     "output_type": "display_data"
    }
   ],
   "source": [
    "df[\"Tenure\"] = df[\"Tenure\"].astype(\"object\")"
   ]
  },
  {
   "cell_type": "code",
   "execution_count": 379,
   "metadata": {},
   "outputs": [
    {
     "data": {
      "text/plain": [
       "RowNumber            int64\n",
       "CustomerId           int64\n",
       "Surname             object\n",
       "CreditScore          int64\n",
       "Geography           object\n",
       "Gender              object\n",
       "Age                  int64\n",
       "Tenure              object\n",
       "Balance            float64\n",
       "NumOfProducts        int64\n",
       "HasCrCard            int64\n",
       "IsActiveMember       int64\n",
       "EstimatedSalary    float64\n",
       "Exited               int64\n",
       "dtype: object"
      ]
     },
     "execution_count": 379,
     "metadata": {},
     "output_type": "execute_result"
    },
    {
     "data": {
      "application/javascript": [
       "\n",
       "            setTimeout(function() {\n",
       "                var nbb_cell_id = 379;\n",
       "                var nbb_unformatted_code = \"df.dtypes\";\n",
       "                var nbb_formatted_code = \"df.dtypes\";\n",
       "                var nbb_cells = Jupyter.notebook.get_cells();\n",
       "                for (var i = 0; i < nbb_cells.length; ++i) {\n",
       "                    if (nbb_cells[i].input_prompt_number == nbb_cell_id) {\n",
       "                        if (nbb_cells[i].get_text() == nbb_unformatted_code) {\n",
       "                             nbb_cells[i].set_text(nbb_formatted_code);\n",
       "                        }\n",
       "                        break;\n",
       "                    }\n",
       "                }\n",
       "            }, 500);\n",
       "            "
      ],
      "text/plain": [
       "<IPython.core.display.Javascript object>"
      ]
     },
     "metadata": {},
     "output_type": "display_data"
    }
   ],
   "source": [
    "df.dtypes"
   ]
  },
  {
   "cell_type": "code",
   "execution_count": 380,
   "metadata": {},
   "outputs": [
    {
     "data": {
      "application/javascript": [
       "\n",
       "            setTimeout(function() {\n",
       "                var nbb_cell_id = 380;\n",
       "                var nbb_unformatted_code = \"df[\\\"Tenure\\\"].fillna(\\\"Unknown\\\", inplace=True)\";\n",
       "                var nbb_formatted_code = \"df[\\\"Tenure\\\"].fillna(\\\"Unknown\\\", inplace=True)\";\n",
       "                var nbb_cells = Jupyter.notebook.get_cells();\n",
       "                for (var i = 0; i < nbb_cells.length; ++i) {\n",
       "                    if (nbb_cells[i].input_prompt_number == nbb_cell_id) {\n",
       "                        if (nbb_cells[i].get_text() == nbb_unformatted_code) {\n",
       "                             nbb_cells[i].set_text(nbb_formatted_code);\n",
       "                        }\n",
       "                        break;\n",
       "                    }\n",
       "                }\n",
       "            }, 500);\n",
       "            "
      ],
      "text/plain": [
       "<IPython.core.display.Javascript object>"
      ]
     },
     "metadata": {},
     "output_type": "display_data"
    }
   ],
   "source": [
    "df[\"Tenure\"].fillna(\"Unknown\", inplace=True)"
   ]
  },
  {
   "cell_type": "code",
   "execution_count": 381,
   "metadata": {},
   "outputs": [
    {
     "data": {
      "text/plain": [
       "1.0        952\n",
       "2.0        950\n",
       "8.0        933\n",
       "3.0        928\n",
       "5.0        927\n",
       "7.0        925\n",
       "Unknown    909\n",
       "4.0        885\n",
       "9.0        882\n",
       "6.0        881\n",
       "10.0       446\n",
       "0.0        382\n",
       "Name: Tenure, dtype: int64"
      ]
     },
     "execution_count": 381,
     "metadata": {},
     "output_type": "execute_result"
    },
    {
     "data": {
      "application/javascript": [
       "\n",
       "            setTimeout(function() {\n",
       "                var nbb_cell_id = 381;\n",
       "                var nbb_unformatted_code = \"df[\\\"Tenure\\\"].value_counts()\";\n",
       "                var nbb_formatted_code = \"df[\\\"Tenure\\\"].value_counts()\";\n",
       "                var nbb_cells = Jupyter.notebook.get_cells();\n",
       "                for (var i = 0; i < nbb_cells.length; ++i) {\n",
       "                    if (nbb_cells[i].input_prompt_number == nbb_cell_id) {\n",
       "                        if (nbb_cells[i].get_text() == nbb_unformatted_code) {\n",
       "                             nbb_cells[i].set_text(nbb_formatted_code);\n",
       "                        }\n",
       "                        break;\n",
       "                    }\n",
       "                }\n",
       "            }, 500);\n",
       "            "
      ],
      "text/plain": [
       "<IPython.core.display.Javascript object>"
      ]
     },
     "metadata": {},
     "output_type": "display_data"
    }
   ],
   "source": [
    "df[\"Tenure\"].value_counts()"
   ]
  },
  {
   "cell_type": "markdown",
   "metadata": {},
   "source": [
    "Видим, что столбец `Tenure` можно считать категориальным признаком."
   ]
  },
  {
   "cell_type": "markdown",
   "metadata": {},
   "source": [
    "Удалим столбцы `RowNumber`, `CustomerId`, `Surname` из полученных датафреймов, так как они неинформативны для дальнейшего анализа."
   ]
  },
  {
   "cell_type": "code",
   "execution_count": 382,
   "metadata": {},
   "outputs": [
    {
     "data": {
      "application/javascript": [
       "\n",
       "            setTimeout(function() {\n",
       "                var nbb_cell_id = 382;\n",
       "                var nbb_unformatted_code = \"df.drop([\\\"RowNumber\\\", \\\"CustomerId\\\", \\\"Surname\\\"], axis=1, inplace=True)\";\n",
       "                var nbb_formatted_code = \"df.drop([\\\"RowNumber\\\", \\\"CustomerId\\\", \\\"Surname\\\"], axis=1, inplace=True)\";\n",
       "                var nbb_cells = Jupyter.notebook.get_cells();\n",
       "                for (var i = 0; i < nbb_cells.length; ++i) {\n",
       "                    if (nbb_cells[i].input_prompt_number == nbb_cell_id) {\n",
       "                        if (nbb_cells[i].get_text() == nbb_unformatted_code) {\n",
       "                             nbb_cells[i].set_text(nbb_formatted_code);\n",
       "                        }\n",
       "                        break;\n",
       "                    }\n",
       "                }\n",
       "            }, 500);\n",
       "            "
      ],
      "text/plain": [
       "<IPython.core.display.Javascript object>"
      ]
     },
     "metadata": {},
     "output_type": "display_data"
    }
   ],
   "source": [
    "df.drop([\"RowNumber\", \"CustomerId\", \"Surname\"], axis=1, inplace=True)"
   ]
  },
  {
   "cell_type": "code",
   "execution_count": 383,
   "metadata": {},
   "outputs": [
    {
     "data": {
      "text/html": [
       "<div>\n",
       "<style scoped>\n",
       "    .dataframe tbody tr th:only-of-type {\n",
       "        vertical-align: middle;\n",
       "    }\n",
       "\n",
       "    .dataframe tbody tr th {\n",
       "        vertical-align: top;\n",
       "    }\n",
       "\n",
       "    .dataframe thead th {\n",
       "        text-align: right;\n",
       "    }\n",
       "</style>\n",
       "<table border=\"1\" class=\"dataframe\">\n",
       "  <thead>\n",
       "    <tr style=\"text-align: right;\">\n",
       "      <th></th>\n",
       "      <th>CreditScore</th>\n",
       "      <th>Geography</th>\n",
       "      <th>Gender</th>\n",
       "      <th>Age</th>\n",
       "      <th>Tenure</th>\n",
       "      <th>Balance</th>\n",
       "      <th>NumOfProducts</th>\n",
       "      <th>HasCrCard</th>\n",
       "      <th>IsActiveMember</th>\n",
       "      <th>EstimatedSalary</th>\n",
       "      <th>Exited</th>\n",
       "    </tr>\n",
       "  </thead>\n",
       "  <tbody>\n",
       "    <tr>\n",
       "      <th>0</th>\n",
       "      <td>619</td>\n",
       "      <td>France</td>\n",
       "      <td>Female</td>\n",
       "      <td>42</td>\n",
       "      <td>2.0</td>\n",
       "      <td>0.00</td>\n",
       "      <td>1</td>\n",
       "      <td>1</td>\n",
       "      <td>1</td>\n",
       "      <td>101348.88</td>\n",
       "      <td>1</td>\n",
       "    </tr>\n",
       "    <tr>\n",
       "      <th>1</th>\n",
       "      <td>608</td>\n",
       "      <td>Spain</td>\n",
       "      <td>Female</td>\n",
       "      <td>41</td>\n",
       "      <td>1.0</td>\n",
       "      <td>83807.86</td>\n",
       "      <td>1</td>\n",
       "      <td>0</td>\n",
       "      <td>1</td>\n",
       "      <td>112542.58</td>\n",
       "      <td>0</td>\n",
       "    </tr>\n",
       "    <tr>\n",
       "      <th>2</th>\n",
       "      <td>502</td>\n",
       "      <td>France</td>\n",
       "      <td>Female</td>\n",
       "      <td>42</td>\n",
       "      <td>8.0</td>\n",
       "      <td>159660.80</td>\n",
       "      <td>3</td>\n",
       "      <td>1</td>\n",
       "      <td>0</td>\n",
       "      <td>113931.57</td>\n",
       "      <td>1</td>\n",
       "    </tr>\n",
       "    <tr>\n",
       "      <th>3</th>\n",
       "      <td>699</td>\n",
       "      <td>France</td>\n",
       "      <td>Female</td>\n",
       "      <td>39</td>\n",
       "      <td>1.0</td>\n",
       "      <td>0.00</td>\n",
       "      <td>2</td>\n",
       "      <td>0</td>\n",
       "      <td>0</td>\n",
       "      <td>93826.63</td>\n",
       "      <td>0</td>\n",
       "    </tr>\n",
       "    <tr>\n",
       "      <th>4</th>\n",
       "      <td>850</td>\n",
       "      <td>Spain</td>\n",
       "      <td>Female</td>\n",
       "      <td>43</td>\n",
       "      <td>2.0</td>\n",
       "      <td>125510.82</td>\n",
       "      <td>1</td>\n",
       "      <td>1</td>\n",
       "      <td>1</td>\n",
       "      <td>79084.10</td>\n",
       "      <td>0</td>\n",
       "    </tr>\n",
       "  </tbody>\n",
       "</table>\n",
       "</div>"
      ],
      "text/plain": [
       "   CreditScore Geography  Gender  Age Tenure    Balance  NumOfProducts  \\\n",
       "0          619    France  Female   42    2.0       0.00              1   \n",
       "1          608     Spain  Female   41    1.0   83807.86              1   \n",
       "2          502    France  Female   42    8.0  159660.80              3   \n",
       "3          699    France  Female   39    1.0       0.00              2   \n",
       "4          850     Spain  Female   43    2.0  125510.82              1   \n",
       "\n",
       "   HasCrCard  IsActiveMember  EstimatedSalary  Exited  \n",
       "0          1               1        101348.88       1  \n",
       "1          0               1        112542.58       0  \n",
       "2          1               0        113931.57       1  \n",
       "3          0               0         93826.63       0  \n",
       "4          1               1         79084.10       0  "
      ]
     },
     "execution_count": 383,
     "metadata": {},
     "output_type": "execute_result"
    },
    {
     "data": {
      "application/javascript": [
       "\n",
       "            setTimeout(function() {\n",
       "                var nbb_cell_id = 383;\n",
       "                var nbb_unformatted_code = \"df.head()\";\n",
       "                var nbb_formatted_code = \"df.head()\";\n",
       "                var nbb_cells = Jupyter.notebook.get_cells();\n",
       "                for (var i = 0; i < nbb_cells.length; ++i) {\n",
       "                    if (nbb_cells[i].input_prompt_number == nbb_cell_id) {\n",
       "                        if (nbb_cells[i].get_text() == nbb_unformatted_code) {\n",
       "                             nbb_cells[i].set_text(nbb_formatted_code);\n",
       "                        }\n",
       "                        break;\n",
       "                    }\n",
       "                }\n",
       "            }, 500);\n",
       "            "
      ],
      "text/plain": [
       "<IPython.core.display.Javascript object>"
      ]
     },
     "metadata": {},
     "output_type": "display_data"
    }
   ],
   "source": [
    "df.head()"
   ]
  },
  {
   "cell_type": "markdown",
   "metadata": {},
   "source": [
    "Далее для того, чтобы преобразовать категориальные признаки в численные используем технику прямого кодирования(OHE), так как она работает со всеми моделями."
   ]
  },
  {
   "cell_type": "markdown",
   "metadata": {},
   "source": [
    "Применим прямое кодирование ко всему датафрейму."
   ]
  },
  {
   "cell_type": "code",
   "execution_count": 384,
   "metadata": {},
   "outputs": [
    {
     "data": {
      "application/javascript": [
       "\n",
       "            setTimeout(function() {\n",
       "                var nbb_cell_id = 384;\n",
       "                var nbb_unformatted_code = \"df_ohe = pd.get_dummies(df, drop_first=True)\";\n",
       "                var nbb_formatted_code = \"df_ohe = pd.get_dummies(df, drop_first=True)\";\n",
       "                var nbb_cells = Jupyter.notebook.get_cells();\n",
       "                for (var i = 0; i < nbb_cells.length; ++i) {\n",
       "                    if (nbb_cells[i].input_prompt_number == nbb_cell_id) {\n",
       "                        if (nbb_cells[i].get_text() == nbb_unformatted_code) {\n",
       "                             nbb_cells[i].set_text(nbb_formatted_code);\n",
       "                        }\n",
       "                        break;\n",
       "                    }\n",
       "                }\n",
       "            }, 500);\n",
       "            "
      ],
      "text/plain": [
       "<IPython.core.display.Javascript object>"
      ]
     },
     "metadata": {},
     "output_type": "display_data"
    }
   ],
   "source": [
    "df_ohe = pd.get_dummies(df, drop_first=True)"
   ]
  },
  {
   "cell_type": "code",
   "execution_count": 385,
   "metadata": {},
   "outputs": [
    {
     "data": {
      "text/html": [
       "<div>\n",
       "<style scoped>\n",
       "    .dataframe tbody tr th:only-of-type {\n",
       "        vertical-align: middle;\n",
       "    }\n",
       "\n",
       "    .dataframe tbody tr th {\n",
       "        vertical-align: top;\n",
       "    }\n",
       "\n",
       "    .dataframe thead th {\n",
       "        text-align: right;\n",
       "    }\n",
       "</style>\n",
       "<table border=\"1\" class=\"dataframe\">\n",
       "  <thead>\n",
       "    <tr style=\"text-align: right;\">\n",
       "      <th></th>\n",
       "      <th>CreditScore</th>\n",
       "      <th>Age</th>\n",
       "      <th>Balance</th>\n",
       "      <th>NumOfProducts</th>\n",
       "      <th>HasCrCard</th>\n",
       "      <th>IsActiveMember</th>\n",
       "      <th>EstimatedSalary</th>\n",
       "      <th>Exited</th>\n",
       "      <th>Geography_Germany</th>\n",
       "      <th>Geography_Spain</th>\n",
       "      <th>...</th>\n",
       "      <th>Tenure_2.0</th>\n",
       "      <th>Tenure_3.0</th>\n",
       "      <th>Tenure_4.0</th>\n",
       "      <th>Tenure_5.0</th>\n",
       "      <th>Tenure_6.0</th>\n",
       "      <th>Tenure_7.0</th>\n",
       "      <th>Tenure_8.0</th>\n",
       "      <th>Tenure_9.0</th>\n",
       "      <th>Tenure_10.0</th>\n",
       "      <th>Tenure_Unknown</th>\n",
       "    </tr>\n",
       "  </thead>\n",
       "  <tbody>\n",
       "    <tr>\n",
       "      <th>0</th>\n",
       "      <td>619</td>\n",
       "      <td>42</td>\n",
       "      <td>0.00</td>\n",
       "      <td>1</td>\n",
       "      <td>1</td>\n",
       "      <td>1</td>\n",
       "      <td>101348.88</td>\n",
       "      <td>1</td>\n",
       "      <td>0</td>\n",
       "      <td>0</td>\n",
       "      <td>...</td>\n",
       "      <td>1</td>\n",
       "      <td>0</td>\n",
       "      <td>0</td>\n",
       "      <td>0</td>\n",
       "      <td>0</td>\n",
       "      <td>0</td>\n",
       "      <td>0</td>\n",
       "      <td>0</td>\n",
       "      <td>0</td>\n",
       "      <td>0</td>\n",
       "    </tr>\n",
       "    <tr>\n",
       "      <th>1</th>\n",
       "      <td>608</td>\n",
       "      <td>41</td>\n",
       "      <td>83807.86</td>\n",
       "      <td>1</td>\n",
       "      <td>0</td>\n",
       "      <td>1</td>\n",
       "      <td>112542.58</td>\n",
       "      <td>0</td>\n",
       "      <td>0</td>\n",
       "      <td>1</td>\n",
       "      <td>...</td>\n",
       "      <td>0</td>\n",
       "      <td>0</td>\n",
       "      <td>0</td>\n",
       "      <td>0</td>\n",
       "      <td>0</td>\n",
       "      <td>0</td>\n",
       "      <td>0</td>\n",
       "      <td>0</td>\n",
       "      <td>0</td>\n",
       "      <td>0</td>\n",
       "    </tr>\n",
       "    <tr>\n",
       "      <th>2</th>\n",
       "      <td>502</td>\n",
       "      <td>42</td>\n",
       "      <td>159660.80</td>\n",
       "      <td>3</td>\n",
       "      <td>1</td>\n",
       "      <td>0</td>\n",
       "      <td>113931.57</td>\n",
       "      <td>1</td>\n",
       "      <td>0</td>\n",
       "      <td>0</td>\n",
       "      <td>...</td>\n",
       "      <td>0</td>\n",
       "      <td>0</td>\n",
       "      <td>0</td>\n",
       "      <td>0</td>\n",
       "      <td>0</td>\n",
       "      <td>0</td>\n",
       "      <td>1</td>\n",
       "      <td>0</td>\n",
       "      <td>0</td>\n",
       "      <td>0</td>\n",
       "    </tr>\n",
       "    <tr>\n",
       "      <th>3</th>\n",
       "      <td>699</td>\n",
       "      <td>39</td>\n",
       "      <td>0.00</td>\n",
       "      <td>2</td>\n",
       "      <td>0</td>\n",
       "      <td>0</td>\n",
       "      <td>93826.63</td>\n",
       "      <td>0</td>\n",
       "      <td>0</td>\n",
       "      <td>0</td>\n",
       "      <td>...</td>\n",
       "      <td>0</td>\n",
       "      <td>0</td>\n",
       "      <td>0</td>\n",
       "      <td>0</td>\n",
       "      <td>0</td>\n",
       "      <td>0</td>\n",
       "      <td>0</td>\n",
       "      <td>0</td>\n",
       "      <td>0</td>\n",
       "      <td>0</td>\n",
       "    </tr>\n",
       "    <tr>\n",
       "      <th>4</th>\n",
       "      <td>850</td>\n",
       "      <td>43</td>\n",
       "      <td>125510.82</td>\n",
       "      <td>1</td>\n",
       "      <td>1</td>\n",
       "      <td>1</td>\n",
       "      <td>79084.10</td>\n",
       "      <td>0</td>\n",
       "      <td>0</td>\n",
       "      <td>1</td>\n",
       "      <td>...</td>\n",
       "      <td>1</td>\n",
       "      <td>0</td>\n",
       "      <td>0</td>\n",
       "      <td>0</td>\n",
       "      <td>0</td>\n",
       "      <td>0</td>\n",
       "      <td>0</td>\n",
       "      <td>0</td>\n",
       "      <td>0</td>\n",
       "      <td>0</td>\n",
       "    </tr>\n",
       "  </tbody>\n",
       "</table>\n",
       "<p>5 rows × 22 columns</p>\n",
       "</div>"
      ],
      "text/plain": [
       "   CreditScore  Age    Balance  NumOfProducts  HasCrCard  IsActiveMember  \\\n",
       "0          619   42       0.00              1          1               1   \n",
       "1          608   41   83807.86              1          0               1   \n",
       "2          502   42  159660.80              3          1               0   \n",
       "3          699   39       0.00              2          0               0   \n",
       "4          850   43  125510.82              1          1               1   \n",
       "\n",
       "   EstimatedSalary  Exited  Geography_Germany  Geography_Spain  ...  \\\n",
       "0        101348.88       1                  0                0  ...   \n",
       "1        112542.58       0                  0                1  ...   \n",
       "2        113931.57       1                  0                0  ...   \n",
       "3         93826.63       0                  0                0  ...   \n",
       "4         79084.10       0                  0                1  ...   \n",
       "\n",
       "   Tenure_2.0  Tenure_3.0  Tenure_4.0  Tenure_5.0  Tenure_6.0  Tenure_7.0  \\\n",
       "0           1           0           0           0           0           0   \n",
       "1           0           0           0           0           0           0   \n",
       "2           0           0           0           0           0           0   \n",
       "3           0           0           0           0           0           0   \n",
       "4           1           0           0           0           0           0   \n",
       "\n",
       "   Tenure_8.0  Tenure_9.0  Tenure_10.0  Tenure_Unknown  \n",
       "0           0           0            0               0  \n",
       "1           0           0            0               0  \n",
       "2           1           0            0               0  \n",
       "3           0           0            0               0  \n",
       "4           0           0            0               0  \n",
       "\n",
       "[5 rows x 22 columns]"
      ]
     },
     "execution_count": 385,
     "metadata": {},
     "output_type": "execute_result"
    },
    {
     "data": {
      "application/javascript": [
       "\n",
       "            setTimeout(function() {\n",
       "                var nbb_cell_id = 385;\n",
       "                var nbb_unformatted_code = \"df_ohe.head()\";\n",
       "                var nbb_formatted_code = \"df_ohe.head()\";\n",
       "                var nbb_cells = Jupyter.notebook.get_cells();\n",
       "                for (var i = 0; i < nbb_cells.length; ++i) {\n",
       "                    if (nbb_cells[i].input_prompt_number == nbb_cell_id) {\n",
       "                        if (nbb_cells[i].get_text() == nbb_unformatted_code) {\n",
       "                             nbb_cells[i].set_text(nbb_formatted_code);\n",
       "                        }\n",
       "                        break;\n",
       "                    }\n",
       "                }\n",
       "            }, 500);\n",
       "            "
      ],
      "text/plain": [
       "<IPython.core.display.Javascript object>"
      ]
     },
     "metadata": {},
     "output_type": "display_data"
    }
   ],
   "source": [
    "df_ohe.head()"
   ]
  },
  {
   "cell_type": "markdown",
   "metadata": {},
   "source": [
    "Разделим исходные данные на две выборки: обучающая(80%) и тестовая(20%).\n",
    "Признаки полученных выборок запишем в features_train, features_test.\n",
    "Целевой признак запишем в target_train, target_test."
   ]
  },
  {
   "cell_type": "code",
   "execution_count": 386,
   "metadata": {},
   "outputs": [
    {
     "data": {
      "application/javascript": [
       "\n",
       "            setTimeout(function() {\n",
       "                var nbb_cell_id = 386;\n",
       "                var nbb_unformatted_code = \"target = df_ohe[\\\"Exited\\\"]\\nfeatures = df_ohe.drop(\\\"Exited\\\", axis=1)\\nfeatures_train, features_test, target_train, target_test = train_test_split(\\n    features, target, test_size=0.2, random_state=12345, stratify=target\\n)\";\n",
       "                var nbb_formatted_code = \"target = df_ohe[\\\"Exited\\\"]\\nfeatures = df_ohe.drop(\\\"Exited\\\", axis=1)\\nfeatures_train, features_test, target_train, target_test = train_test_split(\\n    features, target, test_size=0.2, random_state=12345, stratify=target\\n)\";\n",
       "                var nbb_cells = Jupyter.notebook.get_cells();\n",
       "                for (var i = 0; i < nbb_cells.length; ++i) {\n",
       "                    if (nbb_cells[i].input_prompt_number == nbb_cell_id) {\n",
       "                        if (nbb_cells[i].get_text() == nbb_unformatted_code) {\n",
       "                             nbb_cells[i].set_text(nbb_formatted_code);\n",
       "                        }\n",
       "                        break;\n",
       "                    }\n",
       "                }\n",
       "            }, 500);\n",
       "            "
      ],
      "text/plain": [
       "<IPython.core.display.Javascript object>"
      ]
     },
     "metadata": {},
     "output_type": "display_data"
    }
   ],
   "source": [
    "target = df_ohe[\"Exited\"]\n",
    "features = df_ohe.drop(\"Exited\", axis=1)\n",
    "features_train, features_test, target_train, target_test = train_test_split(\n",
    "    features, target, test_size=0.2, random_state=12345, stratify=target\n",
    ")"
   ]
  },
  {
   "cell_type": "markdown",
   "metadata": {},
   "source": [
    "Полученные выборки имеют следующие размеры:"
   ]
  },
  {
   "cell_type": "code",
   "execution_count": 387,
   "metadata": {},
   "outputs": [
    {
     "data": {
      "text/plain": [
       "(8000, 21)"
      ]
     },
     "execution_count": 387,
     "metadata": {},
     "output_type": "execute_result"
    },
    {
     "data": {
      "application/javascript": [
       "\n",
       "            setTimeout(function() {\n",
       "                var nbb_cell_id = 387;\n",
       "                var nbb_unformatted_code = \"features_train.shape\";\n",
       "                var nbb_formatted_code = \"features_train.shape\";\n",
       "                var nbb_cells = Jupyter.notebook.get_cells();\n",
       "                for (var i = 0; i < nbb_cells.length; ++i) {\n",
       "                    if (nbb_cells[i].input_prompt_number == nbb_cell_id) {\n",
       "                        if (nbb_cells[i].get_text() == nbb_unformatted_code) {\n",
       "                             nbb_cells[i].set_text(nbb_formatted_code);\n",
       "                        }\n",
       "                        break;\n",
       "                    }\n",
       "                }\n",
       "            }, 500);\n",
       "            "
      ],
      "text/plain": [
       "<IPython.core.display.Javascript object>"
      ]
     },
     "metadata": {},
     "output_type": "display_data"
    }
   ],
   "source": [
    "features_train.shape"
   ]
  },
  {
   "cell_type": "code",
   "execution_count": 388,
   "metadata": {},
   "outputs": [
    {
     "data": {
      "text/plain": [
       "(8000,)"
      ]
     },
     "execution_count": 388,
     "metadata": {},
     "output_type": "execute_result"
    },
    {
     "data": {
      "application/javascript": [
       "\n",
       "            setTimeout(function() {\n",
       "                var nbb_cell_id = 388;\n",
       "                var nbb_unformatted_code = \"target_train.shape\";\n",
       "                var nbb_formatted_code = \"target_train.shape\";\n",
       "                var nbb_cells = Jupyter.notebook.get_cells();\n",
       "                for (var i = 0; i < nbb_cells.length; ++i) {\n",
       "                    if (nbb_cells[i].input_prompt_number == nbb_cell_id) {\n",
       "                        if (nbb_cells[i].get_text() == nbb_unformatted_code) {\n",
       "                             nbb_cells[i].set_text(nbb_formatted_code);\n",
       "                        }\n",
       "                        break;\n",
       "                    }\n",
       "                }\n",
       "            }, 500);\n",
       "            "
      ],
      "text/plain": [
       "<IPython.core.display.Javascript object>"
      ]
     },
     "metadata": {},
     "output_type": "display_data"
    }
   ],
   "source": [
    "target_train.shape"
   ]
  },
  {
   "cell_type": "code",
   "execution_count": 389,
   "metadata": {},
   "outputs": [
    {
     "data": {
      "text/plain": [
       "(2000, 21)"
      ]
     },
     "execution_count": 389,
     "metadata": {},
     "output_type": "execute_result"
    },
    {
     "data": {
      "application/javascript": [
       "\n",
       "            setTimeout(function() {\n",
       "                var nbb_cell_id = 389;\n",
       "                var nbb_unformatted_code = \"features_test.shape\";\n",
       "                var nbb_formatted_code = \"features_test.shape\";\n",
       "                var nbb_cells = Jupyter.notebook.get_cells();\n",
       "                for (var i = 0; i < nbb_cells.length; ++i) {\n",
       "                    if (nbb_cells[i].input_prompt_number == nbb_cell_id) {\n",
       "                        if (nbb_cells[i].get_text() == nbb_unformatted_code) {\n",
       "                             nbb_cells[i].set_text(nbb_formatted_code);\n",
       "                        }\n",
       "                        break;\n",
       "                    }\n",
       "                }\n",
       "            }, 500);\n",
       "            "
      ],
      "text/plain": [
       "<IPython.core.display.Javascript object>"
      ]
     },
     "metadata": {},
     "output_type": "display_data"
    }
   ],
   "source": [
    "features_test.shape"
   ]
  },
  {
   "cell_type": "code",
   "execution_count": 390,
   "metadata": {},
   "outputs": [
    {
     "data": {
      "text/plain": [
       "(2000,)"
      ]
     },
     "execution_count": 390,
     "metadata": {},
     "output_type": "execute_result"
    },
    {
     "data": {
      "application/javascript": [
       "\n",
       "            setTimeout(function() {\n",
       "                var nbb_cell_id = 390;\n",
       "                var nbb_unformatted_code = \"target_test.shape\";\n",
       "                var nbb_formatted_code = \"target_test.shape\";\n",
       "                var nbb_cells = Jupyter.notebook.get_cells();\n",
       "                for (var i = 0; i < nbb_cells.length; ++i) {\n",
       "                    if (nbb_cells[i].input_prompt_number == nbb_cell_id) {\n",
       "                        if (nbb_cells[i].get_text() == nbb_unformatted_code) {\n",
       "                             nbb_cells[i].set_text(nbb_formatted_code);\n",
       "                        }\n",
       "                        break;\n",
       "                    }\n",
       "                }\n",
       "            }, 500);\n",
       "            "
      ],
      "text/plain": [
       "<IPython.core.display.Javascript object>"
      ]
     },
     "metadata": {},
     "output_type": "display_data"
    }
   ],
   "source": [
    "target_test.shape"
   ]
  },
  {
   "cell_type": "code",
   "execution_count": 391,
   "metadata": {},
   "outputs": [
    {
     "data": {
      "text/plain": [
       "(10000, 22)"
      ]
     },
     "execution_count": 391,
     "metadata": {},
     "output_type": "execute_result"
    },
    {
     "data": {
      "application/javascript": [
       "\n",
       "            setTimeout(function() {\n",
       "                var nbb_cell_id = 391;\n",
       "                var nbb_unformatted_code = \"df_ohe.shape\";\n",
       "                var nbb_formatted_code = \"df_ohe.shape\";\n",
       "                var nbb_cells = Jupyter.notebook.get_cells();\n",
       "                for (var i = 0; i < nbb_cells.length; ++i) {\n",
       "                    if (nbb_cells[i].input_prompt_number == nbb_cell_id) {\n",
       "                        if (nbb_cells[i].get_text() == nbb_unformatted_code) {\n",
       "                             nbb_cells[i].set_text(nbb_formatted_code);\n",
       "                        }\n",
       "                        break;\n",
       "                    }\n",
       "                }\n",
       "            }, 500);\n",
       "            "
      ],
      "text/plain": [
       "<IPython.core.display.Javascript object>"
      ]
     },
     "metadata": {},
     "output_type": "display_data"
    }
   ],
   "source": [
    "df_ohe.shape"
   ]
  },
  {
   "cell_type": "markdown",
   "metadata": {},
   "source": [
    "Видим по количеству строк в каждой выборке, что разделение проведено правильно."
   ]
  },
  {
   "cell_type": "markdown",
   "metadata": {},
   "source": [
    "Произведем масштабирование количественных признаков: `CreditScore`, `Age`, `Balance`, `NumOfProducts`, `EstimatedSalary`."
   ]
  },
  {
   "cell_type": "code",
   "execution_count": 392,
   "metadata": {},
   "outputs": [
    {
     "data": {
      "application/javascript": [
       "\n",
       "            setTimeout(function() {\n",
       "                var nbb_cell_id = 392;\n",
       "                var nbb_unformatted_code = \"numeric = [\\\"CreditScore\\\", \\\"Age\\\", \\\"Balance\\\", \\\"NumOfProducts\\\", \\\"EstimatedSalary\\\"]\\nscaler = StandardScaler()\\nscaler.fit(features_train[numeric])\\npd.options.mode.chained_assignment = None\\nfeatures_train[numeric] = scaler.transform(features_train[numeric])\\nfeatures_test[numeric] = scaler.transform(features_test[numeric])\";\n",
       "                var nbb_formatted_code = \"numeric = [\\\"CreditScore\\\", \\\"Age\\\", \\\"Balance\\\", \\\"NumOfProducts\\\", \\\"EstimatedSalary\\\"]\\nscaler = StandardScaler()\\nscaler.fit(features_train[numeric])\\npd.options.mode.chained_assignment = None\\nfeatures_train[numeric] = scaler.transform(features_train[numeric])\\nfeatures_test[numeric] = scaler.transform(features_test[numeric])\";\n",
       "                var nbb_cells = Jupyter.notebook.get_cells();\n",
       "                for (var i = 0; i < nbb_cells.length; ++i) {\n",
       "                    if (nbb_cells[i].input_prompt_number == nbb_cell_id) {\n",
       "                        if (nbb_cells[i].get_text() == nbb_unformatted_code) {\n",
       "                             nbb_cells[i].set_text(nbb_formatted_code);\n",
       "                        }\n",
       "                        break;\n",
       "                    }\n",
       "                }\n",
       "            }, 500);\n",
       "            "
      ],
      "text/plain": [
       "<IPython.core.display.Javascript object>"
      ]
     },
     "metadata": {},
     "output_type": "display_data"
    }
   ],
   "source": [
    "numeric = [\"CreditScore\", \"Age\", \"Balance\", \"NumOfProducts\", \"EstimatedSalary\"]\n",
    "scaler = StandardScaler()\n",
    "scaler.fit(features_train[numeric])\n",
    "pd.options.mode.chained_assignment = None\n",
    "features_train[numeric] = scaler.transform(features_train[numeric])\n",
    "features_test[numeric] = scaler.transform(features_test[numeric])"
   ]
  },
  {
   "cell_type": "code",
   "execution_count": 393,
   "metadata": {},
   "outputs": [
    {
     "data": {
      "text/html": [
       "<div>\n",
       "<style scoped>\n",
       "    .dataframe tbody tr th:only-of-type {\n",
       "        vertical-align: middle;\n",
       "    }\n",
       "\n",
       "    .dataframe tbody tr th {\n",
       "        vertical-align: top;\n",
       "    }\n",
       "\n",
       "    .dataframe thead th {\n",
       "        text-align: right;\n",
       "    }\n",
       "</style>\n",
       "<table border=\"1\" class=\"dataframe\">\n",
       "  <thead>\n",
       "    <tr style=\"text-align: right;\">\n",
       "      <th></th>\n",
       "      <th>CreditScore</th>\n",
       "      <th>Age</th>\n",
       "      <th>Balance</th>\n",
       "      <th>NumOfProducts</th>\n",
       "      <th>HasCrCard</th>\n",
       "      <th>IsActiveMember</th>\n",
       "      <th>EstimatedSalary</th>\n",
       "      <th>Geography_Germany</th>\n",
       "      <th>Geography_Spain</th>\n",
       "      <th>Gender_Male</th>\n",
       "      <th>...</th>\n",
       "      <th>Tenure_2.0</th>\n",
       "      <th>Tenure_3.0</th>\n",
       "      <th>Tenure_4.0</th>\n",
       "      <th>Tenure_5.0</th>\n",
       "      <th>Tenure_6.0</th>\n",
       "      <th>Tenure_7.0</th>\n",
       "      <th>Tenure_8.0</th>\n",
       "      <th>Tenure_9.0</th>\n",
       "      <th>Tenure_10.0</th>\n",
       "      <th>Tenure_Unknown</th>\n",
       "    </tr>\n",
       "  </thead>\n",
       "  <tbody>\n",
       "    <tr>\n",
       "      <th>3376</th>\n",
       "      <td>-0.061427</td>\n",
       "      <td>0.106098</td>\n",
       "      <td>0.010530</td>\n",
       "      <td>0.805878</td>\n",
       "      <td>1</td>\n",
       "      <td>1</td>\n",
       "      <td>0.267707</td>\n",
       "      <td>1</td>\n",
       "      <td>0</td>\n",
       "      <td>0</td>\n",
       "      <td>...</td>\n",
       "      <td>0</td>\n",
       "      <td>0</td>\n",
       "      <td>1</td>\n",
       "      <td>0</td>\n",
       "      <td>0</td>\n",
       "      <td>0</td>\n",
       "      <td>0</td>\n",
       "      <td>0</td>\n",
       "      <td>0</td>\n",
       "      <td>0</td>\n",
       "    </tr>\n",
       "    <tr>\n",
       "      <th>1315</th>\n",
       "      <td>-0.443298</td>\n",
       "      <td>-1.139433</td>\n",
       "      <td>0.388533</td>\n",
       "      <td>-0.911497</td>\n",
       "      <td>0</td>\n",
       "      <td>0</td>\n",
       "      <td>-1.612531</td>\n",
       "      <td>0</td>\n",
       "      <td>1</td>\n",
       "      <td>0</td>\n",
       "      <td>...</td>\n",
       "      <td>0</td>\n",
       "      <td>0</td>\n",
       "      <td>0</td>\n",
       "      <td>1</td>\n",
       "      <td>0</td>\n",
       "      <td>0</td>\n",
       "      <td>0</td>\n",
       "      <td>0</td>\n",
       "      <td>0</td>\n",
       "      <td>0</td>\n",
       "    </tr>\n",
       "    <tr>\n",
       "      <th>2552</th>\n",
       "      <td>-0.525865</td>\n",
       "      <td>0.680958</td>\n",
       "      <td>0.082043</td>\n",
       "      <td>0.805878</td>\n",
       "      <td>1</td>\n",
       "      <td>0</td>\n",
       "      <td>-0.297533</td>\n",
       "      <td>0</td>\n",
       "      <td>1</td>\n",
       "      <td>0</td>\n",
       "      <td>...</td>\n",
       "      <td>0</td>\n",
       "      <td>0</td>\n",
       "      <td>0</td>\n",
       "      <td>0</td>\n",
       "      <td>0</td>\n",
       "      <td>1</td>\n",
       "      <td>0</td>\n",
       "      <td>0</td>\n",
       "      <td>0</td>\n",
       "      <td>0</td>\n",
       "    </tr>\n",
       "    <tr>\n",
       "      <th>511</th>\n",
       "      <td>-0.185277</td>\n",
       "      <td>-0.085522</td>\n",
       "      <td>0.159218</td>\n",
       "      <td>0.805878</td>\n",
       "      <td>1</td>\n",
       "      <td>0</td>\n",
       "      <td>-0.040122</td>\n",
       "      <td>1</td>\n",
       "      <td>0</td>\n",
       "      <td>0</td>\n",
       "      <td>...</td>\n",
       "      <td>0</td>\n",
       "      <td>0</td>\n",
       "      <td>0</td>\n",
       "      <td>0</td>\n",
       "      <td>1</td>\n",
       "      <td>0</td>\n",
       "      <td>0</td>\n",
       "      <td>0</td>\n",
       "      <td>0</td>\n",
       "      <td>0</td>\n",
       "    </tr>\n",
       "    <tr>\n",
       "      <th>1888</th>\n",
       "      <td>-2.280406</td>\n",
       "      <td>2.022299</td>\n",
       "      <td>-1.224906</td>\n",
       "      <td>0.805878</td>\n",
       "      <td>1</td>\n",
       "      <td>1</td>\n",
       "      <td>1.100176</td>\n",
       "      <td>0</td>\n",
       "      <td>0</td>\n",
       "      <td>1</td>\n",
       "      <td>...</td>\n",
       "      <td>0</td>\n",
       "      <td>0</td>\n",
       "      <td>0</td>\n",
       "      <td>0</td>\n",
       "      <td>0</td>\n",
       "      <td>1</td>\n",
       "      <td>0</td>\n",
       "      <td>0</td>\n",
       "      <td>0</td>\n",
       "      <td>0</td>\n",
       "    </tr>\n",
       "  </tbody>\n",
       "</table>\n",
       "<p>5 rows × 21 columns</p>\n",
       "</div>"
      ],
      "text/plain": [
       "      CreditScore       Age   Balance  NumOfProducts  HasCrCard  \\\n",
       "3376    -0.061427  0.106098  0.010530       0.805878          1   \n",
       "1315    -0.443298 -1.139433  0.388533      -0.911497          0   \n",
       "2552    -0.525865  0.680958  0.082043       0.805878          1   \n",
       "511     -0.185277 -0.085522  0.159218       0.805878          1   \n",
       "1888    -2.280406  2.022299 -1.224906       0.805878          1   \n",
       "\n",
       "      IsActiveMember  EstimatedSalary  Geography_Germany  Geography_Spain  \\\n",
       "3376               1         0.267707                  1                0   \n",
       "1315               0        -1.612531                  0                1   \n",
       "2552               0        -0.297533                  0                1   \n",
       "511                0        -0.040122                  1                0   \n",
       "1888               1         1.100176                  0                0   \n",
       "\n",
       "      Gender_Male  ...  Tenure_2.0  Tenure_3.0  Tenure_4.0  Tenure_5.0  \\\n",
       "3376            0  ...           0           0           1           0   \n",
       "1315            0  ...           0           0           0           1   \n",
       "2552            0  ...           0           0           0           0   \n",
       "511             0  ...           0           0           0           0   \n",
       "1888            1  ...           0           0           0           0   \n",
       "\n",
       "      Tenure_6.0  Tenure_7.0  Tenure_8.0  Tenure_9.0  Tenure_10.0  \\\n",
       "3376           0           0           0           0            0   \n",
       "1315           0           0           0           0            0   \n",
       "2552           0           1           0           0            0   \n",
       "511            1           0           0           0            0   \n",
       "1888           0           1           0           0            0   \n",
       "\n",
       "      Tenure_Unknown  \n",
       "3376               0  \n",
       "1315               0  \n",
       "2552               0  \n",
       "511                0  \n",
       "1888               0  \n",
       "\n",
       "[5 rows x 21 columns]"
      ]
     },
     "execution_count": 393,
     "metadata": {},
     "output_type": "execute_result"
    },
    {
     "data": {
      "application/javascript": [
       "\n",
       "            setTimeout(function() {\n",
       "                var nbb_cell_id = 393;\n",
       "                var nbb_unformatted_code = \"features_train.head()\";\n",
       "                var nbb_formatted_code = \"features_train.head()\";\n",
       "                var nbb_cells = Jupyter.notebook.get_cells();\n",
       "                for (var i = 0; i < nbb_cells.length; ++i) {\n",
       "                    if (nbb_cells[i].input_prompt_number == nbb_cell_id) {\n",
       "                        if (nbb_cells[i].get_text() == nbb_unformatted_code) {\n",
       "                             nbb_cells[i].set_text(nbb_formatted_code);\n",
       "                        }\n",
       "                        break;\n",
       "                    }\n",
       "                }\n",
       "            }, 500);\n",
       "            "
      ],
      "text/plain": [
       "<IPython.core.display.Javascript object>"
      ]
     },
     "metadata": {},
     "output_type": "display_data"
    }
   ],
   "source": [
    "features_train.head()"
   ]
  },
  {
   "cell_type": "markdown",
   "metadata": {},
   "source": [
    "Видим, что в столбцах с количественными признаками появились аномальные отрицательные значения, значит, масштабирование этих признаков прошло успешно."
   ]
  },
  {
   "cell_type": "markdown",
   "metadata": {},
   "source": [
    "## Исследование задачи"
   ]
  },
  {
   "cell_type": "markdown",
   "metadata": {},
   "source": [
    "Посмотрим на относительные частоты классов в целевом признаке в df_ohe."
   ]
  },
  {
   "cell_type": "code",
   "execution_count": 394,
   "metadata": {},
   "outputs": [
    {
     "data": {
      "text/plain": [
       "0    0.7963\n",
       "1    0.2037\n",
       "Name: Exited, dtype: float64"
      ]
     },
     "execution_count": 394,
     "metadata": {},
     "output_type": "execute_result"
    },
    {
     "data": {
      "application/javascript": [
       "\n",
       "            setTimeout(function() {\n",
       "                var nbb_cell_id = 394;\n",
       "                var nbb_unformatted_code = \"class_frequency = df_ohe[\\\"Exited\\\"].value_counts(normalize=True)\\nclass_frequency\";\n",
       "                var nbb_formatted_code = \"class_frequency = df_ohe[\\\"Exited\\\"].value_counts(normalize=True)\\nclass_frequency\";\n",
       "                var nbb_cells = Jupyter.notebook.get_cells();\n",
       "                for (var i = 0; i < nbb_cells.length; ++i) {\n",
       "                    if (nbb_cells[i].input_prompt_number == nbb_cell_id) {\n",
       "                        if (nbb_cells[i].get_text() == nbb_unformatted_code) {\n",
       "                             nbb_cells[i].set_text(nbb_formatted_code);\n",
       "                        }\n",
       "                        break;\n",
       "                    }\n",
       "                }\n",
       "            }, 500);\n",
       "            "
      ],
      "text/plain": [
       "<IPython.core.display.Javascript object>"
      ]
     },
     "metadata": {},
     "output_type": "display_data"
    }
   ],
   "source": [
    "class_frequency = df_ohe[\"Exited\"].value_counts(normalize=True)\n",
    "class_frequency"
   ]
  },
  {
   "cell_type": "code",
   "execution_count": 395,
   "metadata": {},
   "outputs": [
    {
     "data": {
      "text/plain": [
       "<AxesSubplot:>"
      ]
     },
     "execution_count": 395,
     "metadata": {},
     "output_type": "execute_result"
    },
    {
     "data": {
      "image/png": "[encoded data removed]",
      "text/plain": [
       "<Figure size 432x288 with 1 Axes>"
      ]
     },
     "metadata": {
      "needs_background": "light"
     },
     "output_type": "display_data"
    },
    {
     "data": {
      "application/javascript": [
       "\n",
       "            setTimeout(function() {\n",
       "                var nbb_cell_id = 395;\n",
       "                var nbb_unformatted_code = \"class_frequency.plot(kind=\\\"bar\\\")\";\n",
       "                var nbb_formatted_code = \"class_frequency.plot(kind=\\\"bar\\\")\";\n",
       "                var nbb_cells = Jupyter.notebook.get_cells();\n",
       "                for (var i = 0; i < nbb_cells.length; ++i) {\n",
       "                    if (nbb_cells[i].input_prompt_number == nbb_cell_id) {\n",
       "                        if (nbb_cells[i].get_text() == nbb_unformatted_code) {\n",
       "                             nbb_cells[i].set_text(nbb_formatted_code);\n",
       "                        }\n",
       "                        break;\n",
       "                    }\n",
       "                }\n",
       "            }, 500);\n",
       "            "
      ],
      "text/plain": [
       "<IPython.core.display.Javascript object>"
      ]
     },
     "metadata": {},
     "output_type": "display_data"
    }
   ],
   "source": [
    "class_frequency.plot(kind=\"bar\")"
   ]
  },
  {
   "cell_type": "markdown",
   "metadata": {},
   "source": [
    "Видим, что в целевом признаке наблюдается дисбаланс классов."
   ]
  },
  {
   "cell_type": "code",
   "execution_count": 396,
   "metadata": {},
   "outputs": [
    {
     "name": "stdout",
     "output_type": "stream",
     "text": [
      "Количество строк в target_train по классам: [6370 1630]\n",
      "Количество строк в target_test по классам: [1593  407]\n"
     ]
    },
    {
     "data": {
      "application/javascript": [
       "\n",
       "            setTimeout(function() {\n",
       "                var nbb_cell_id = 396;\n",
       "                var nbb_unformatted_code = \"print(f\\\"\\u041a\\u043e\\u043b\\u0438\\u0447\\u0435\\u0441\\u0442\\u0432\\u043e \\u0441\\u0442\\u0440\\u043e\\u043a \\u0432 target_train \\u043f\\u043e \\u043a\\u043b\\u0430\\u0441\\u0441\\u0430\\u043c: {np.bincount(target_train)}\\\")\\nprint(f\\\"\\u041a\\u043e\\u043b\\u0438\\u0447\\u0435\\u0441\\u0442\\u0432\\u043e \\u0441\\u0442\\u0440\\u043e\\u043a \\u0432 target_test \\u043f\\u043e \\u043a\\u043b\\u0430\\u0441\\u0441\\u0430\\u043c: {np.bincount(target_test)}\\\")\";\n",
       "                var nbb_formatted_code = \"print(f\\\"\\u041a\\u043e\\u043b\\u0438\\u0447\\u0435\\u0441\\u0442\\u0432\\u043e \\u0441\\u0442\\u0440\\u043e\\u043a \\u0432 target_train \\u043f\\u043e \\u043a\\u043b\\u0430\\u0441\\u0441\\u0430\\u043c: {np.bincount(target_train)}\\\")\\nprint(f\\\"\\u041a\\u043e\\u043b\\u0438\\u0447\\u0435\\u0441\\u0442\\u0432\\u043e \\u0441\\u0442\\u0440\\u043e\\u043a \\u0432 target_test \\u043f\\u043e \\u043a\\u043b\\u0430\\u0441\\u0441\\u0430\\u043c: {np.bincount(target_test)}\\\")\";\n",
       "                var nbb_cells = Jupyter.notebook.get_cells();\n",
       "                for (var i = 0; i < nbb_cells.length; ++i) {\n",
       "                    if (nbb_cells[i].input_prompt_number == nbb_cell_id) {\n",
       "                        if (nbb_cells[i].get_text() == nbb_unformatted_code) {\n",
       "                             nbb_cells[i].set_text(nbb_formatted_code);\n",
       "                        }\n",
       "                        break;\n",
       "                    }\n",
       "                }\n",
       "            }, 500);\n",
       "            "
      ],
      "text/plain": [
       "<IPython.core.display.Javascript object>"
      ]
     },
     "metadata": {},
     "output_type": "display_data"
    }
   ],
   "source": [
    "print(f\"Количество строк в target_train по классам: {np.bincount(target_train)}\")\n",
    "print(f\"Количество строк в target_test по классам: {np.bincount(target_test)}\")"
   ]
  },
  {
   "cell_type": "markdown",
   "metadata": {},
   "source": [
    "Видим, что дисбаланс классов в `Exited` остается прежним и в полученных выборках."
   ]
  },
  {
   "cell_type": "markdown",
   "metadata": {},
   "source": [
    "Найдем наилучшую модель, при которой значение F1-меры максимально."
   ]
  },
  {
   "cell_type": "markdown",
   "metadata": {},
   "source": [
    "Рассмотрим первую модель - дерево решений, и найдем ее качество при различных значениях гиперпараметра max_depth (глубина дерева)."
   ]
  },
  {
   "cell_type": "code",
   "execution_count": 531,
   "metadata": {},
   "outputs": [
    {
     "data": {
      "text/plain": [
       "{'max_depth': 2}"
      ]
     },
     "execution_count": 531,
     "metadata": {},
     "output_type": "execute_result"
    },
    {
     "data": {
      "application/javascript": [
       "\n",
       "            setTimeout(function() {\n",
       "                var nbb_cell_id = 531;\n",
       "                var nbb_unformatted_code = \"clf = DecisionTreeClassifier(random_state=12345)\\nparameters = {\\\"max_depth\\\": range(1, 5, 1)}\\ngrid_tr = GridSearchCV(clf, parameters, cv=5, scoring=[\\\"f1\\\", \\\"roc_auc\\\"], refit=\\\"f1\\\")\\ngrid_tr.fit(features_train, target_train)\\ngrid_tr.best_params_\";\n",
       "                var nbb_formatted_code = \"clf = DecisionTreeClassifier(random_state=12345)\\nparameters = {\\\"max_depth\\\": range(1, 5, 1)}\\ngrid_tr = GridSearchCV(clf, parameters, cv=5, scoring=[\\\"f1\\\", \\\"roc_auc\\\"], refit=\\\"f1\\\")\\ngrid_tr.fit(features_train, target_train)\\ngrid_tr.best_params_\";\n",
       "                var nbb_cells = Jupyter.notebook.get_cells();\n",
       "                for (var i = 0; i < nbb_cells.length; ++i) {\n",
       "                    if (nbb_cells[i].input_prompt_number == nbb_cell_id) {\n",
       "                        if (nbb_cells[i].get_text() == nbb_unformatted_code) {\n",
       "                             nbb_cells[i].set_text(nbb_formatted_code);\n",
       "                        }\n",
       "                        break;\n",
       "                    }\n",
       "                }\n",
       "            }, 500);\n",
       "            "
      ],
      "text/plain": [
       "<IPython.core.display.Javascript object>"
      ]
     },
     "metadata": {},
     "output_type": "display_data"
    }
   ],
   "source": [
    "clf = DecisionTreeClassifier(random_state=12345)\n",
    "parameters = {\"max_depth\": range(1, 5, 1)}\n",
    "grid_tr = GridSearchCV(clf, parameters, cv=5, scoring=[\"f1\", \"roc_auc\"], refit=\"f1\")\n",
    "grid_tr.fit(features_train, target_train)\n",
    "grid_tr.best_params_"
   ]
  },
  {
   "cell_type": "code",
   "execution_count": 532,
   "metadata": {},
   "outputs": [
    {
     "data": {
      "text/plain": [
       "0.5042849417552633"
      ]
     },
     "execution_count": 532,
     "metadata": {},
     "output_type": "execute_result"
    },
    {
     "data": {
      "application/javascript": [
       "\n",
       "            setTimeout(function() {\n",
       "                var nbb_cell_id = 532;\n",
       "                var nbb_unformatted_code = \"grid_tr.best_score_\";\n",
       "                var nbb_formatted_code = \"grid_tr.best_score_\";\n",
       "                var nbb_cells = Jupyter.notebook.get_cells();\n",
       "                for (var i = 0; i < nbb_cells.length; ++i) {\n",
       "                    if (nbb_cells[i].input_prompt_number == nbb_cell_id) {\n",
       "                        if (nbb_cells[i].get_text() == nbb_unformatted_code) {\n",
       "                             nbb_cells[i].set_text(nbb_formatted_code);\n",
       "                        }\n",
       "                        break;\n",
       "                    }\n",
       "                }\n",
       "            }, 500);\n",
       "            "
      ],
      "text/plain": [
       "<IPython.core.display.Javascript object>"
      ]
     },
     "metadata": {},
     "output_type": "display_data"
    }
   ],
   "source": [
    "grid_tr.best_score_"
   ]
  },
  {
   "cell_type": "code",
   "execution_count": 533,
   "metadata": {},
   "outputs": [
    {
     "data": {
      "text/plain": [
       "0.7273001319451801"
      ]
     },
     "execution_count": 533,
     "metadata": {},
     "output_type": "execute_result"
    },
    {
     "data": {
      "application/javascript": [
       "\n",
       "            setTimeout(function() {\n",
       "                var nbb_cell_id = 533;\n",
       "                var nbb_unformatted_code = \"grid_tr.cv_results_[\\\"mean_test_roc_auc\\\"][grid_tr.best_index_]\";\n",
       "                var nbb_formatted_code = \"grid_tr.cv_results_[\\\"mean_test_roc_auc\\\"][grid_tr.best_index_]\";\n",
       "                var nbb_cells = Jupyter.notebook.get_cells();\n",
       "                for (var i = 0; i < nbb_cells.length; ++i) {\n",
       "                    if (nbb_cells[i].input_prompt_number == nbb_cell_id) {\n",
       "                        if (nbb_cells[i].get_text() == nbb_unformatted_code) {\n",
       "                             nbb_cells[i].set_text(nbb_formatted_code);\n",
       "                        }\n",
       "                        break;\n",
       "                    }\n",
       "                }\n",
       "            }, 500);\n",
       "            "
      ],
      "text/plain": [
       "<IPython.core.display.Javascript object>"
      ]
     },
     "metadata": {},
     "output_type": "display_data"
    }
   ],
   "source": [
    "grid_tr.cv_results_[\"mean_test_roc_auc\"][grid_tr.best_index_]"
   ]
  },
  {
   "cell_type": "markdown",
   "metadata": {},
   "source": [
    "Далее обучим модель случайный лес и проверим качество модели при разном количестве деревьев (n_estimators) и глубине дерева (max_depth)."
   ]
  },
  {
   "cell_type": "code",
   "execution_count": 526,
   "metadata": {},
   "outputs": [
    {
     "name": "stdout",
     "output_type": "stream",
     "text": [
      "Wall time: 4min 23s\n"
     ]
    },
    {
     "data": {
      "text/plain": [
       "{'max_depth': 9, 'n_estimators': 100}"
      ]
     },
     "execution_count": 526,
     "metadata": {},
     "output_type": "execute_result"
    },
    {
     "data": {
      "application/javascript": [
       "\n",
       "            setTimeout(function() {\n",
       "                var nbb_cell_id = 526;\n",
       "                var nbb_unformatted_code = \"%%time\\nclf = RandomForestClassifier(random_state=12345)\\nparameters = {\\\"n_estimators\\\": range(100, 201, 10), \\\"max_depth\\\": range(1, 10, 1)}\\ngrid = GridSearchCV(clf, parameters, cv=5, scoring=[\\\"f1\\\", \\\"roc_auc\\\"], refit=\\\"f1\\\")\\ngrid.fit(features_train, target_train)\\ngrid.best_params_\";\n",
       "                var nbb_formatted_code = \"%%time\\nclf = RandomForestClassifier(random_state=12345)\\nparameters = {\\\"n_estimators\\\": range(100, 201, 10), \\\"max_depth\\\": range(1, 10, 1)}\\ngrid = GridSearchCV(clf, parameters, cv=5, scoring=[\\\"f1\\\", \\\"roc_auc\\\"], refit=\\\"f1\\\")\\ngrid.fit(features_train, target_train)\\ngrid.best_params_\";\n",
       "                var nbb_cells = Jupyter.notebook.get_cells();\n",
       "                for (var i = 0; i < nbb_cells.length; ++i) {\n",
       "                    if (nbb_cells[i].input_prompt_number == nbb_cell_id) {\n",
       "                        if (nbb_cells[i].get_text() == nbb_unformatted_code) {\n",
       "                             nbb_cells[i].set_text(nbb_formatted_code);\n",
       "                        }\n",
       "                        break;\n",
       "                    }\n",
       "                }\n",
       "            }, 500);\n",
       "            "
      ],
      "text/plain": [
       "<IPython.core.display.Javascript object>"
      ]
     },
     "metadata": {},
     "output_type": "display_data"
    }
   ],
   "source": [
    "%%time\n",
    "clf = RandomForestClassifier(random_state=12345)\n",
    "parameters = {\"n_estimators\": range(100, 201, 10), \"max_depth\": range(1, 10, 1)}\n",
    "grid = GridSearchCV(clf, parameters, cv=5, scoring=[\"f1\", \"roc_auc\"], refit=\"f1\")\n",
    "grid.fit(features_train, target_train)\n",
    "grid.best_params_"
   ]
  },
  {
   "cell_type": "code",
   "execution_count": 527,
   "metadata": {},
   "outputs": [
    {
     "data": {
      "text/plain": [
       "0.5259257700644342"
      ]
     },
     "execution_count": 527,
     "metadata": {},
     "output_type": "execute_result"
    },
    {
     "data": {
      "application/javascript": [
       "\n",
       "            setTimeout(function() {\n",
       "                var nbb_cell_id = 527;\n",
       "                var nbb_unformatted_code = \"grid.best_score_\";\n",
       "                var nbb_formatted_code = \"grid.best_score_\";\n",
       "                var nbb_cells = Jupyter.notebook.get_cells();\n",
       "                for (var i = 0; i < nbb_cells.length; ++i) {\n",
       "                    if (nbb_cells[i].input_prompt_number == nbb_cell_id) {\n",
       "                        if (nbb_cells[i].get_text() == nbb_unformatted_code) {\n",
       "                             nbb_cells[i].set_text(nbb_formatted_code);\n",
       "                        }\n",
       "                        break;\n",
       "                    }\n",
       "                }\n",
       "            }, 500);\n",
       "            "
      ],
      "text/plain": [
       "<IPython.core.display.Javascript object>"
      ]
     },
     "metadata": {},
     "output_type": "display_data"
    }
   ],
   "source": [
    "grid.best_score_"
   ]
  },
  {
   "cell_type": "code",
   "execution_count": 528,
   "metadata": {},
   "outputs": [
    {
     "data": {
      "text/plain": [
       "0.8525406670454874"
      ]
     },
     "execution_count": 528,
     "metadata": {},
     "output_type": "execute_result"
    },
    {
     "data": {
      "application/javascript": [
       "\n",
       "            setTimeout(function() {\n",
       "                var nbb_cell_id = 528;\n",
       "                var nbb_unformatted_code = \"grid.cv_results_[\\\"mean_test_roc_auc\\\"][grid.best_index_]\";\n",
       "                var nbb_formatted_code = \"grid.cv_results_[\\\"mean_test_roc_auc\\\"][grid.best_index_]\";\n",
       "                var nbb_cells = Jupyter.notebook.get_cells();\n",
       "                for (var i = 0; i < nbb_cells.length; ++i) {\n",
       "                    if (nbb_cells[i].input_prompt_number == nbb_cell_id) {\n",
       "                        if (nbb_cells[i].get_text() == nbb_unformatted_code) {\n",
       "                             nbb_cells[i].set_text(nbb_formatted_code);\n",
       "                        }\n",
       "                        break;\n",
       "                    }\n",
       "                }\n",
       "            }, 500);\n",
       "            "
      ],
      "text/plain": [
       "<IPython.core.display.Javascript object>"
      ]
     },
     "metadata": {},
     "output_type": "display_data"
    }
   ],
   "source": [
    "grid.cv_results_[\"mean_test_roc_auc\"][grid.best_index_]"
   ]
  },
  {
   "cell_type": "markdown",
   "metadata": {},
   "source": [
    "Рассмотрим следующую модель - логистическую регрессию."
   ]
  },
  {
   "cell_type": "code",
   "execution_count": 235,
   "metadata": {},
   "outputs": [
    {
     "data": {
      "text/plain": [
       "{'max_iter': 100}"
      ]
     },
     "execution_count": 235,
     "metadata": {},
     "output_type": "execute_result"
    },
    {
     "data": {
      "application/javascript": [
       "\n",
       "            setTimeout(function() {\n",
       "                var nbb_cell_id = 235;\n",
       "                var nbb_unformatted_code = \"clf = LogisticRegression(random_state=12345, solver=\\\"liblinear\\\")\\nparameters = {\\\"max_iter\\\": range(100, 1000, 100)}\\ngrid_log = GridSearchCV(clf, parameters, cv=5, scoring=[\\\"f1\\\", \\\"roc_auc\\\"], refit=\\\"f1\\\")\\ngrid_log.fit(features_train, target_train)\\ngrid_log.best_params_\";\n",
       "                var nbb_formatted_code = \"clf = LogisticRegression(random_state=12345, solver=\\\"liblinear\\\")\\nparameters = {\\\"max_iter\\\": range(100, 1000, 100)}\\ngrid_log = GridSearchCV(clf, parameters, cv=5, scoring=[\\\"f1\\\", \\\"roc_auc\\\"], refit=\\\"f1\\\")\\ngrid_log.fit(features_train, target_train)\\ngrid_log.best_params_\";\n",
       "                var nbb_cells = Jupyter.notebook.get_cells();\n",
       "                for (var i = 0; i < nbb_cells.length; ++i) {\n",
       "                    if (nbb_cells[i].input_prompt_number == nbb_cell_id) {\n",
       "                        if (nbb_cells[i].get_text() == nbb_unformatted_code) {\n",
       "                             nbb_cells[i].set_text(nbb_formatted_code);\n",
       "                        }\n",
       "                        break;\n",
       "                    }\n",
       "                }\n",
       "            }, 500);\n",
       "            "
      ],
      "text/plain": [
       "<IPython.core.display.Javascript object>"
      ]
     },
     "metadata": {},
     "output_type": "display_data"
    }
   ],
   "source": [
    "clf = LogisticRegression(random_state=12345, solver=\"liblinear\")\n",
    "parameters = {\"max_iter\": range(100, 1000, 100)}\n",
    "grid_log = GridSearchCV(clf, parameters, cv=5, scoring=[\"f1\", \"roc_auc\"], refit=\"f1\")\n",
    "grid_log.fit(features_train, target_train)\n",
    "grid_log.best_params_"
   ]
  },
  {
   "cell_type": "code",
   "execution_count": 236,
   "metadata": {},
   "outputs": [
    {
     "data": {
      "text/plain": [
       "0.32150328628656755"
      ]
     },
     "execution_count": 236,
     "metadata": {},
     "output_type": "execute_result"
    },
    {
     "data": {
      "application/javascript": [
       "\n",
       "            setTimeout(function() {\n",
       "                var nbb_cell_id = 236;\n",
       "                var nbb_unformatted_code = \"grid_log.best_score_\";\n",
       "                var nbb_formatted_code = \"grid_log.best_score_\";\n",
       "                var nbb_cells = Jupyter.notebook.get_cells();\n",
       "                for (var i = 0; i < nbb_cells.length; ++i) {\n",
       "                    if (nbb_cells[i].input_prompt_number == nbb_cell_id) {\n",
       "                        if (nbb_cells[i].get_text() == nbb_unformatted_code) {\n",
       "                             nbb_cells[i].set_text(nbb_formatted_code);\n",
       "                        }\n",
       "                        break;\n",
       "                    }\n",
       "                }\n",
       "            }, 500);\n",
       "            "
      ],
      "text/plain": [
       "<IPython.core.display.Javascript object>"
      ]
     },
     "metadata": {},
     "output_type": "display_data"
    }
   ],
   "source": [
    "grid_log.best_score_"
   ]
  },
  {
   "cell_type": "code",
   "execution_count": 237,
   "metadata": {},
   "outputs": [
    {
     "data": {
      "text/plain": [
       "0.7601323304215504"
      ]
     },
     "execution_count": 237,
     "metadata": {},
     "output_type": "execute_result"
    },
    {
     "data": {
      "application/javascript": [
       "\n",
       "            setTimeout(function() {\n",
       "                var nbb_cell_id = 237;\n",
       "                var nbb_unformatted_code = \"grid_log.cv_results_[\\\"mean_test_roc_auc\\\"][grid_log.best_index_]\";\n",
       "                var nbb_formatted_code = \"grid_log.cv_results_[\\\"mean_test_roc_auc\\\"][grid_log.best_index_]\";\n",
       "                var nbb_cells = Jupyter.notebook.get_cells();\n",
       "                for (var i = 0; i < nbb_cells.length; ++i) {\n",
       "                    if (nbb_cells[i].input_prompt_number == nbb_cell_id) {\n",
       "                        if (nbb_cells[i].get_text() == nbb_unformatted_code) {\n",
       "                             nbb_cells[i].set_text(nbb_formatted_code);\n",
       "                        }\n",
       "                        break;\n",
       "                    }\n",
       "                }\n",
       "            }, 500);\n",
       "            "
      ],
      "text/plain": [
       "<IPython.core.display.Javascript object>"
      ]
     },
     "metadata": {},
     "output_type": "display_data"
    }
   ],
   "source": [
    "grid_log.cv_results_[\"mean_test_roc_auc\"][grid_log.best_index_]"
   ]
  },
  {
   "cell_type": "markdown",
   "metadata": {},
   "source": [
    "Видим, что на обучающей выборке наилучшим качеством обладает модель случайного леса с 100 деревьями и глубиной дерева 9. При таких параметрах F1-мера равна 0.5259257700644342, метрика AUC-ROC равна 0.8525406670454874."
   ]
  },
  {
   "cell_type": "markdown",
   "metadata": {},
   "source": [
    "Разделим обучающую выборку на тренировочную и валидационную."
   ]
  },
  {
   "cell_type": "code",
   "execution_count": 308,
   "metadata": {},
   "outputs": [
    {
     "data": {
      "application/javascript": [
       "\n",
       "            setTimeout(function() {\n",
       "                var nbb_cell_id = 308;\n",
       "                var nbb_unformatted_code = \"features_train_thr, features_valid_thr, target_train_thr, target_valid_thr = train_test_split(\\n    features_train, target_train, test_size=0.2, random_state=12345, stratify=target_train\\n)\";\n",
       "                var nbb_formatted_code = \"(\\n    features_train_thr,\\n    features_valid_thr,\\n    target_train_thr,\\n    target_valid_thr,\\n) = train_test_split(\\n    features_train,\\n    target_train,\\n    test_size=0.2,\\n    random_state=12345,\\n    stratify=target_train,\\n)\";\n",
       "                var nbb_cells = Jupyter.notebook.get_cells();\n",
       "                for (var i = 0; i < nbb_cells.length; ++i) {\n",
       "                    if (nbb_cells[i].input_prompt_number == nbb_cell_id) {\n",
       "                        if (nbb_cells[i].get_text() == nbb_unformatted_code) {\n",
       "                             nbb_cells[i].set_text(nbb_formatted_code);\n",
       "                        }\n",
       "                        break;\n",
       "                    }\n",
       "                }\n",
       "            }, 500);\n",
       "            "
      ],
      "text/plain": [
       "<IPython.core.display.Javascript object>"
      ]
     },
     "metadata": {},
     "output_type": "display_data"
    }
   ],
   "source": [
    "(\n",
    "    features_train_thr,\n",
    "    features_valid_thr,\n",
    "    target_train_thr,\n",
    "    target_valid_thr,\n",
    ") = train_test_split(\n",
    "    features_train,\n",
    "    target_train,\n",
    "    test_size=0.2,\n",
    "    random_state=12345,\n",
    "    stratify=target_train,\n",
    ")"
   ]
  },
  {
   "cell_type": "code",
   "execution_count": 309,
   "metadata": {},
   "outputs": [
    {
     "name": "stdout",
     "output_type": "stream",
     "text": [
      "Количество строк в target_train_thr по классам: [5096 1304]\n",
      "Количество строк в target_valid_thr по классам: [1274  326]\n"
     ]
    },
    {
     "data": {
      "application/javascript": [
       "\n",
       "            setTimeout(function() {\n",
       "                var nbb_cell_id = 309;\n",
       "                var nbb_unformatted_code = \"print(f\\\"\\u041a\\u043e\\u043b\\u0438\\u0447\\u0435\\u0441\\u0442\\u0432\\u043e \\u0441\\u0442\\u0440\\u043e\\u043a \\u0432 target_train_thr \\u043f\\u043e \\u043a\\u043b\\u0430\\u0441\\u0441\\u0430\\u043c: {np.bincount(target_train_thr)}\\\")\\nprint(f\\\"\\u041a\\u043e\\u043b\\u0438\\u0447\\u0435\\u0441\\u0442\\u0432\\u043e \\u0441\\u0442\\u0440\\u043e\\u043a \\u0432 target_valid_thr \\u043f\\u043e \\u043a\\u043b\\u0430\\u0441\\u0441\\u0430\\u043c: {np.bincount(target_valid_thr)}\\\")\";\n",
       "                var nbb_formatted_code = \"print(\\n    f\\\"\\u041a\\u043e\\u043b\\u0438\\u0447\\u0435\\u0441\\u0442\\u0432\\u043e \\u0441\\u0442\\u0440\\u043e\\u043a \\u0432 target_train_thr \\u043f\\u043e \\u043a\\u043b\\u0430\\u0441\\u0441\\u0430\\u043c: {np.bincount(target_train_thr)}\\\"\\n)\\nprint(\\n    f\\\"\\u041a\\u043e\\u043b\\u0438\\u0447\\u0435\\u0441\\u0442\\u0432\\u043e \\u0441\\u0442\\u0440\\u043e\\u043a \\u0432 target_valid_thr \\u043f\\u043e \\u043a\\u043b\\u0430\\u0441\\u0441\\u0430\\u043c: {np.bincount(target_valid_thr)}\\\"\\n)\";\n",
       "                var nbb_cells = Jupyter.notebook.get_cells();\n",
       "                for (var i = 0; i < nbb_cells.length; ++i) {\n",
       "                    if (nbb_cells[i].input_prompt_number == nbb_cell_id) {\n",
       "                        if (nbb_cells[i].get_text() == nbb_unformatted_code) {\n",
       "                             nbb_cells[i].set_text(nbb_formatted_code);\n",
       "                        }\n",
       "                        break;\n",
       "                    }\n",
       "                }\n",
       "            }, 500);\n",
       "            "
      ],
      "text/plain": [
       "<IPython.core.display.Javascript object>"
      ]
     },
     "metadata": {},
     "output_type": "display_data"
    }
   ],
   "source": [
    "print(\n",
    "    f\"Количество строк в target_train_thr по классам: {np.bincount(target_train_thr)}\"\n",
    ")\n",
    "print(\n",
    "    f\"Количество строк в target_valid_thr по классам: {np.bincount(target_valid_thr)}\"\n",
    ")"
   ]
  },
  {
   "cell_type": "code",
   "execution_count": 317,
   "metadata": {},
   "outputs": [
    {
     "name": "stdout",
     "output_type": "stream",
     "text": [
      "Количество строк в target_train по классам: [6370 1630]\n"
     ]
    },
    {
     "data": {
      "application/javascript": [
       "\n",
       "            setTimeout(function() {\n",
       "                var nbb_cell_id = 317;\n",
       "                var nbb_unformatted_code = \"print(f\\\"\\u041a\\u043e\\u043b\\u0438\\u0447\\u0435\\u0441\\u0442\\u0432\\u043e \\u0441\\u0442\\u0440\\u043e\\u043a \\u0432 target_train \\u043f\\u043e \\u043a\\u043b\\u0430\\u0441\\u0441\\u0430\\u043c: {np.bincount(target_train)}\\\")\";\n",
       "                var nbb_formatted_code = \"print(f\\\"\\u041a\\u043e\\u043b\\u0438\\u0447\\u0435\\u0441\\u0442\\u0432\\u043e \\u0441\\u0442\\u0440\\u043e\\u043a \\u0432 target_train \\u043f\\u043e \\u043a\\u043b\\u0430\\u0441\\u0441\\u0430\\u043c: {np.bincount(target_train)}\\\")\";\n",
       "                var nbb_cells = Jupyter.notebook.get_cells();\n",
       "                for (var i = 0; i < nbb_cells.length; ++i) {\n",
       "                    if (nbb_cells[i].input_prompt_number == nbb_cell_id) {\n",
       "                        if (nbb_cells[i].get_text() == nbb_unformatted_code) {\n",
       "                             nbb_cells[i].set_text(nbb_formatted_code);\n",
       "                        }\n",
       "                        break;\n",
       "                    }\n",
       "                }\n",
       "            }, 500);\n",
       "            "
      ],
      "text/plain": [
       "<IPython.core.display.Javascript object>"
      ]
     },
     "metadata": {},
     "output_type": "display_data"
    }
   ],
   "source": [
    "print(f\"Количество строк в target_train по классам: {np.bincount(target_train)}\")"
   ]
  },
  {
   "cell_type": "markdown",
   "metadata": {},
   "source": [
    "Видмим, что в target_train_thr и target_valid_thr дисбаланс классов остался прежним."
   ]
  },
  {
   "cell_type": "markdown",
   "metadata": {},
   "source": [
    "Построим AUC-ROC кривую для лучшей модели случайного леса."
   ]
  },
  {
   "cell_type": "code",
   "execution_count": 534,
   "metadata": {},
   "outputs": [
    {
     "data": {
      "image/png": "[encoded data removed]",
      "text/plain": [
       "<Figure size 432x288 with 1 Axes>"
      ]
     },
     "metadata": {
      "needs_background": "light"
     },
     "output_type": "display_data"
    },
    {
     "data": {
      "application/javascript": [
       "\n",
       "            setTimeout(function() {\n",
       "                var nbb_cell_id = 534;\n",
       "                var nbb_unformatted_code = \"model = RandomForestClassifier(random_state=12345, n_estimators=100, max_depth=9)\\nmodel.fit(features_train_thr, target_train_thr)\\nprobabilities_valid = model.predict_proba(features_valid_thr)\\nprobabilities_one_valid = probabilities_valid[:, 1]\\n\\nfpr, tpr, thresholds = fpr, tpr, thresholds = roc_curve(\\n    target_valid_thr, probabilities_one_valid\\n)\\nplt.figure()\\nplt.plot(fpr, tpr)\\nplt.plot([0, 1], [0, 1], linestyle=\\\"--\\\")\\nplt.xlim([0.0, 1.0])\\nplt.ylim([0.0, 1.0])\\nplt.xlabel(\\\"False Positive Rate\\\")\\nplt.ylabel(\\\"True Positive Rate\\\")\\nplt.title(\\\"ROC-\\u043a\\u0440\\u0438\\u0432\\u0430\\u044f\\\")\\nplt.show()\";\n",
       "                var nbb_formatted_code = \"model = RandomForestClassifier(random_state=12345, n_estimators=100, max_depth=9)\\nmodel.fit(features_train_thr, target_train_thr)\\nprobabilities_valid = model.predict_proba(features_valid_thr)\\nprobabilities_one_valid = probabilities_valid[:, 1]\\n\\nfpr, tpr, thresholds = fpr, tpr, thresholds = roc_curve(\\n    target_valid_thr, probabilities_one_valid\\n)\\nplt.figure()\\nplt.plot(fpr, tpr)\\nplt.plot([0, 1], [0, 1], linestyle=\\\"--\\\")\\nplt.xlim([0.0, 1.0])\\nplt.ylim([0.0, 1.0])\\nplt.xlabel(\\\"False Positive Rate\\\")\\nplt.ylabel(\\\"True Positive Rate\\\")\\nplt.title(\\\"ROC-\\u043a\\u0440\\u0438\\u0432\\u0430\\u044f\\\")\\nplt.show()\";\n",
       "                var nbb_cells = Jupyter.notebook.get_cells();\n",
       "                for (var i = 0; i < nbb_cells.length; ++i) {\n",
       "                    if (nbb_cells[i].input_prompt_number == nbb_cell_id) {\n",
       "                        if (nbb_cells[i].get_text() == nbb_unformatted_code) {\n",
       "                             nbb_cells[i].set_text(nbb_formatted_code);\n",
       "                        }\n",
       "                        break;\n",
       "                    }\n",
       "                }\n",
       "            }, 500);\n",
       "            "
      ],
      "text/plain": [
       "<IPython.core.display.Javascript object>"
      ]
     },
     "metadata": {},
     "output_type": "display_data"
    }
   ],
   "source": [
    "model = RandomForestClassifier(random_state=12345, n_estimators=100, max_depth=9)\n",
    "model.fit(features_train_thr, target_train_thr)\n",
    "probabilities_valid = model.predict_proba(features_valid_thr)\n",
    "probabilities_one_valid = probabilities_valid[:, 1]\n",
    "\n",
    "fpr, tpr, thresholds = fpr, tpr, thresholds = roc_curve(\n",
    "    target_valid_thr, probabilities_one_valid\n",
    ")\n",
    "plt.figure()\n",
    "plt.plot(fpr, tpr)\n",
    "plt.plot([0, 1], [0, 1], linestyle=\"--\")\n",
    "plt.xlim([0.0, 1.0])\n",
    "plt.ylim([0.0, 1.0])\n",
    "plt.xlabel(\"False Positive Rate\")\n",
    "plt.ylabel(\"True Positive Rate\")\n",
    "plt.title(\"ROC-кривая\")\n",
    "plt.show()"
   ]
  },
  {
   "cell_type": "markdown",
   "metadata": {},
   "source": [
    "Из полученного графика можно сделать вывод, что наша модель с высоким качеством."
   ]
  },
  {
   "cell_type": "markdown",
   "metadata": {},
   "source": [
    "Изучим изменение значений метрик при изменении значения порога для полученной наилучшей модели."
   ]
  },
  {
   "cell_type": "code",
   "execution_count": 535,
   "metadata": {
    "scrolled": true
   },
   "outputs": [
    {
     "name": "stdout",
     "output_type": "stream",
     "text": [
      "f1_score наилучшей модели на валидационной выборке: 0.7674278846153845\n",
      "auc_roc_score наилучшей модели на валидационной выборке: 0.9081217314674809\n",
      "Порог: 0.28\n"
     ]
    },
    {
     "data": {
      "application/javascript": [
       "\n",
       "            setTimeout(function() {\n",
       "                var nbb_cell_id = 535;\n",
       "                var nbb_unformatted_code = \"best_f1_score = 0\\nbest_auc_score = 0\\nbest_threshold = 0\\nfor threshold in np.arange(0, 0.3, 0.02):\\n    predicted_valid = probabilities_one_valid > threshold\\n    auc_roc = roc_auc_score(target_valid_thr, probabilities_one_valid)\\n    f1 = f1_score(target_valid_thr, predicted_valid)\\n    if f1 > best_f1_score:\\n        best_auc_score = auc_roc\\n        best_f1_score = f1\\n        best_threshold = threshold\\nprint(\\\"f1_score \\u043d\\u0430\\u0438\\u043b\\u0443\\u0447\\u0448\\u0435\\u0439 \\u043c\\u043e\\u0434\\u0435\\u043b\\u0438 \\u043d\\u0430 \\u0432\\u0430\\u043b\\u0438\\u0434\\u0430\\u0446\\u0438\\u043e\\u043d\\u043d\\u043e\\u0439 \\u0432\\u044b\\u0431\\u043e\\u0440\\u043a\\u0435:\\\", best_f1_score)\\nprint(\\\"auc_roc_score \\u043d\\u0430\\u0438\\u043b\\u0443\\u0447\\u0448\\u0435\\u0439 \\u043c\\u043e\\u0434\\u0435\\u043b\\u0438 \\u043d\\u0430 \\u0432\\u0430\\u043b\\u0438\\u0434\\u0430\\u0446\\u0438\\u043e\\u043d\\u043d\\u043e\\u0439 \\u0432\\u044b\\u0431\\u043e\\u0440\\u043a\\u0435:\\\", best_auc_score)\\nprint(\\\"\\u041f\\u043e\\u0440\\u043e\\u0433:\\\", best_threshold)\";\n",
       "                var nbb_formatted_code = \"best_f1_score = 0\\nbest_auc_score = 0\\nbest_threshold = 0\\nfor threshold in np.arange(0, 0.3, 0.02):\\n    predicted_valid = probabilities_one_valid > threshold\\n    auc_roc = roc_auc_score(target_valid_thr, probabilities_one_valid)\\n    f1 = f1_score(target_valid_thr, predicted_valid)\\n    if f1 > best_f1_score:\\n        best_auc_score = auc_roc\\n        best_f1_score = f1\\n        best_threshold = threshold\\nprint(\\\"f1_score \\u043d\\u0430\\u0438\\u043b\\u0443\\u0447\\u0448\\u0435\\u0439 \\u043c\\u043e\\u0434\\u0435\\u043b\\u0438 \\u043d\\u0430 \\u0432\\u0430\\u043b\\u0438\\u0434\\u0430\\u0446\\u0438\\u043e\\u043d\\u043d\\u043e\\u0439 \\u0432\\u044b\\u0431\\u043e\\u0440\\u043a\\u0435:\\\", best_f1_score)\\nprint(\\\"auc_roc_score \\u043d\\u0430\\u0438\\u043b\\u0443\\u0447\\u0448\\u0435\\u0439 \\u043c\\u043e\\u0434\\u0435\\u043b\\u0438 \\u043d\\u0430 \\u0432\\u0430\\u043b\\u0438\\u0434\\u0430\\u0446\\u0438\\u043e\\u043d\\u043d\\u043e\\u0439 \\u0432\\u044b\\u0431\\u043e\\u0440\\u043a\\u0435:\\\", best_auc_score)\\nprint(\\\"\\u041f\\u043e\\u0440\\u043e\\u0433:\\\", best_threshold)\";\n",
       "                var nbb_cells = Jupyter.notebook.get_cells();\n",
       "                for (var i = 0; i < nbb_cells.length; ++i) {\n",
       "                    if (nbb_cells[i].input_prompt_number == nbb_cell_id) {\n",
       "                        if (nbb_cells[i].get_text() == nbb_unformatted_code) {\n",
       "                             nbb_cells[i].set_text(nbb_formatted_code);\n",
       "                        }\n",
       "                        break;\n",
       "                    }\n",
       "                }\n",
       "            }, 500);\n",
       "            "
      ],
      "text/plain": [
       "<IPython.core.display.Javascript object>"
      ]
     },
     "metadata": {},
     "output_type": "display_data"
    }
   ],
   "source": [
    "best_f1_score = 0\n",
    "best_auc_score = 0\n",
    "best_threshold = 0\n",
    "for threshold in np.arange(0, 0.3, 0.02):\n",
    "    predicted_valid = probabilities_one_valid > threshold\n",
    "    auc_roc = roc_auc_score(target_valid_thr, probabilities_one_valid)\n",
    "    f1 = f1_score(target_valid_thr, predicted_valid)\n",
    "    if f1 > best_f1_score:\n",
    "        best_auc_score = auc_roc\n",
    "        best_f1_score = f1\n",
    "        best_threshold = threshold\n",
    "print(\"f1_score наилучшей модели на валидационной выборке:\", best_f1_score)\n",
    "print(\"auc_roc_score наилучшей модели на валидационной выборке:\", best_auc_score)\n",
    "print(\"Порог:\", best_threshold)"
   ]
  },
  {
   "cell_type": "markdown",
   "metadata": {},
   "source": [
    "Как видим, при уменьшении порога до 0.28 значение F1-меры увеличилось, метрика AUC-ROC также выросла."
   ]
  },
  {
   "cell_type": "markdown",
   "metadata": {},
   "source": [
    "## Борьба с дисбалансом"
   ]
  },
  {
   "cell_type": "markdown",
   "metadata": {},
   "source": [
    "Попробуем улучшить качество моделе, учитывая дисбаланс классов."
   ]
  },
  {
   "cell_type": "markdown",
   "metadata": {},
   "source": [
    "Получим значение метрик при использовании взвешивания классов. Придадим объектам редкого класса больший вес."
   ]
  },
  {
   "cell_type": "markdown",
   "metadata": {},
   "source": [
    "Рассмотрим первую модель - дерево решений, и найдем ее качество при различных значениях гиперпараметра max_depth (глубина дерева)."
   ]
  },
  {
   "cell_type": "code",
   "execution_count": 536,
   "metadata": {},
   "outputs": [
    {
     "data": {
      "text/plain": [
       "{'max_depth': 4}"
      ]
     },
     "execution_count": 536,
     "metadata": {},
     "output_type": "execute_result"
    },
    {
     "data": {
      "application/javascript": [
       "\n",
       "            setTimeout(function() {\n",
       "                var nbb_cell_id = 536;\n",
       "                var nbb_unformatted_code = \"clf = DecisionTreeClassifier(random_state=12345, class_weight=\\\"balanced\\\")\\nparameters = {\\\"max_depth\\\": range(2, 5, 1)}\\ngrid_tr = GridSearchCV(clf, parameters, cv=5, scoring=[\\\"f1\\\", \\\"roc_auc\\\"], refit=\\\"f1\\\")\\ngrid_tr.fit(features_train, target_train)\\ngrid_tr.best_params_\";\n",
       "                var nbb_formatted_code = \"clf = DecisionTreeClassifier(random_state=12345, class_weight=\\\"balanced\\\")\\nparameters = {\\\"max_depth\\\": range(2, 5, 1)}\\ngrid_tr = GridSearchCV(clf, parameters, cv=5, scoring=[\\\"f1\\\", \\\"roc_auc\\\"], refit=\\\"f1\\\")\\ngrid_tr.fit(features_train, target_train)\\ngrid_tr.best_params_\";\n",
       "                var nbb_cells = Jupyter.notebook.get_cells();\n",
       "                for (var i = 0; i < nbb_cells.length; ++i) {\n",
       "                    if (nbb_cells[i].input_prompt_number == nbb_cell_id) {\n",
       "                        if (nbb_cells[i].get_text() == nbb_unformatted_code) {\n",
       "                             nbb_cells[i].set_text(nbb_formatted_code);\n",
       "                        }\n",
       "                        break;\n",
       "                    }\n",
       "                }\n",
       "            }, 500);\n",
       "            "
      ],
      "text/plain": [
       "<IPython.core.display.Javascript object>"
      ]
     },
     "metadata": {},
     "output_type": "display_data"
    }
   ],
   "source": [
    "clf = DecisionTreeClassifier(random_state=12345, class_weight=\"balanced\")\n",
    "parameters = {\"max_depth\": range(2, 5, 1)}\n",
    "grid_tr = GridSearchCV(clf, parameters, cv=5, scoring=[\"f1\", \"roc_auc\"], refit=\"f1\")\n",
    "grid_tr.fit(features_train, target_train)\n",
    "grid_tr.best_params_"
   ]
  },
  {
   "cell_type": "code",
   "execution_count": 537,
   "metadata": {},
   "outputs": [
    {
     "data": {
      "text/plain": [
       "0.5434528438449531"
      ]
     },
     "execution_count": 537,
     "metadata": {},
     "output_type": "execute_result"
    },
    {
     "data": {
      "application/javascript": [
       "\n",
       "            setTimeout(function() {\n",
       "                var nbb_cell_id = 537;\n",
       "                var nbb_unformatted_code = \"grid_tr.best_score_\";\n",
       "                var nbb_formatted_code = \"grid_tr.best_score_\";\n",
       "                var nbb_cells = Jupyter.notebook.get_cells();\n",
       "                for (var i = 0; i < nbb_cells.length; ++i) {\n",
       "                    if (nbb_cells[i].input_prompt_number == nbb_cell_id) {\n",
       "                        if (nbb_cells[i].get_text() == nbb_unformatted_code) {\n",
       "                             nbb_cells[i].set_text(nbb_formatted_code);\n",
       "                        }\n",
       "                        break;\n",
       "                    }\n",
       "                }\n",
       "            }, 500);\n",
       "            "
      ],
      "text/plain": [
       "<IPython.core.display.Javascript object>"
      ]
     },
     "metadata": {},
     "output_type": "display_data"
    }
   ],
   "source": [
    "grid_tr.best_score_"
   ]
  },
  {
   "cell_type": "code",
   "execution_count": 538,
   "metadata": {},
   "outputs": [
    {
     "data": {
      "text/plain": [
       "0.8162981190588552"
      ]
     },
     "execution_count": 538,
     "metadata": {},
     "output_type": "execute_result"
    },
    {
     "data": {
      "application/javascript": [
       "\n",
       "            setTimeout(function() {\n",
       "                var nbb_cell_id = 538;\n",
       "                var nbb_unformatted_code = \"grid_tr.cv_results_[\\\"mean_test_roc_auc\\\"][grid_tr.best_index_]\";\n",
       "                var nbb_formatted_code = \"grid_tr.cv_results_[\\\"mean_test_roc_auc\\\"][grid_tr.best_index_]\";\n",
       "                var nbb_cells = Jupyter.notebook.get_cells();\n",
       "                for (var i = 0; i < nbb_cells.length; ++i) {\n",
       "                    if (nbb_cells[i].input_prompt_number == nbb_cell_id) {\n",
       "                        if (nbb_cells[i].get_text() == nbb_unformatted_code) {\n",
       "                             nbb_cells[i].set_text(nbb_formatted_code);\n",
       "                        }\n",
       "                        break;\n",
       "                    }\n",
       "                }\n",
       "            }, 500);\n",
       "            "
      ],
      "text/plain": [
       "<IPython.core.display.Javascript object>"
      ]
     },
     "metadata": {},
     "output_type": "display_data"
    }
   ],
   "source": [
    "grid_tr.cv_results_[\"mean_test_roc_auc\"][grid_tr.best_index_]"
   ]
  },
  {
   "cell_type": "markdown",
   "metadata": {},
   "source": [
    "Далее обучим модель случайный лес и проверим качество модели при разном количестве деревьев (n_estimators) и глубине дерева (max_depth)."
   ]
  },
  {
   "cell_type": "code",
   "execution_count": 540,
   "metadata": {},
   "outputs": [
    {
     "name": "stdout",
     "output_type": "stream",
     "text": [
      "Wall time: 2min 27s\n"
     ]
    },
    {
     "data": {
      "text/plain": [
       "{'max_depth': 6, 'n_estimators': 150}"
      ]
     },
     "execution_count": 540,
     "metadata": {},
     "output_type": "execute_result"
    },
    {
     "data": {
      "application/javascript": [
       "\n",
       "            setTimeout(function() {\n",
       "                var nbb_cell_id = 540;\n",
       "                var nbb_unformatted_code = \"%%time\\nclf = RandomForestClassifier(random_state=12345, class_weight='balanced')\\nparameters = {\\\"n_estimators\\\": range(100, 201, 10), \\\"max_depth\\\": range(1, 7, 1)}\\ngrid = GridSearchCV(clf, parameters, cv=5, scoring=[\\\"f1\\\", \\\"roc_auc\\\"], refit=\\\"f1\\\")\\ngrid.fit(features_train, target_train)\\ngrid.best_params_\";\n",
       "                var nbb_formatted_code = \"%%time\\nclf = RandomForestClassifier(random_state=12345, class_weight='balanced')\\nparameters = {\\\"n_estimators\\\": range(100, 201, 10), \\\"max_depth\\\": range(1, 7, 1)}\\ngrid = GridSearchCV(clf, parameters, cv=5, scoring=[\\\"f1\\\", \\\"roc_auc\\\"], refit=\\\"f1\\\")\\ngrid.fit(features_train, target_train)\\ngrid.best_params_\";\n",
       "                var nbb_cells = Jupyter.notebook.get_cells();\n",
       "                for (var i = 0; i < nbb_cells.length; ++i) {\n",
       "                    if (nbb_cells[i].input_prompt_number == nbb_cell_id) {\n",
       "                        if (nbb_cells[i].get_text() == nbb_unformatted_code) {\n",
       "                             nbb_cells[i].set_text(nbb_formatted_code);\n",
       "                        }\n",
       "                        break;\n",
       "                    }\n",
       "                }\n",
       "            }, 500);\n",
       "            "
      ],
      "text/plain": [
       "<IPython.core.display.Javascript object>"
      ]
     },
     "metadata": {},
     "output_type": "display_data"
    }
   ],
   "source": [
    "%%time\n",
    "clf = RandomForestClassifier(random_state=12345, class_weight='balanced')\n",
    "parameters = {\"n_estimators\": range(100, 201, 10), \"max_depth\": range(1, 7, 1)}\n",
    "grid = GridSearchCV(clf, parameters, cv=5, scoring=[\"f1\", \"roc_auc\"], refit=\"f1\")\n",
    "grid.fit(features_train, target_train)\n",
    "grid.best_params_"
   ]
  },
  {
   "cell_type": "code",
   "execution_count": 541,
   "metadata": {},
   "outputs": [
    {
     "data": {
      "text/plain": [
       "0.5928978914534571"
      ]
     },
     "execution_count": 541,
     "metadata": {},
     "output_type": "execute_result"
    },
    {
     "data": {
      "application/javascript": [
       "\n",
       "            setTimeout(function() {\n",
       "                var nbb_cell_id = 541;\n",
       "                var nbb_unformatted_code = \"grid.best_score_\";\n",
       "                var nbb_formatted_code = \"grid.best_score_\";\n",
       "                var nbb_cells = Jupyter.notebook.get_cells();\n",
       "                for (var i = 0; i < nbb_cells.length; ++i) {\n",
       "                    if (nbb_cells[i].input_prompt_number == nbb_cell_id) {\n",
       "                        if (nbb_cells[i].get_text() == nbb_unformatted_code) {\n",
       "                             nbb_cells[i].set_text(nbb_formatted_code);\n",
       "                        }\n",
       "                        break;\n",
       "                    }\n",
       "                }\n",
       "            }, 500);\n",
       "            "
      ],
      "text/plain": [
       "<IPython.core.display.Javascript object>"
      ]
     },
     "metadata": {},
     "output_type": "display_data"
    }
   ],
   "source": [
    "grid.best_score_"
   ]
  },
  {
   "cell_type": "code",
   "execution_count": 542,
   "metadata": {},
   "outputs": [
    {
     "data": {
      "text/plain": [
       "0.8504892565804048"
      ]
     },
     "execution_count": 542,
     "metadata": {},
     "output_type": "execute_result"
    },
    {
     "data": {
      "application/javascript": [
       "\n",
       "            setTimeout(function() {\n",
       "                var nbb_cell_id = 542;\n",
       "                var nbb_unformatted_code = \"grid.cv_results_[\\\"mean_test_roc_auc\\\"][grid.best_index_]\";\n",
       "                var nbb_formatted_code = \"grid.cv_results_[\\\"mean_test_roc_auc\\\"][grid.best_index_]\";\n",
       "                var nbb_cells = Jupyter.notebook.get_cells();\n",
       "                for (var i = 0; i < nbb_cells.length; ++i) {\n",
       "                    if (nbb_cells[i].input_prompt_number == nbb_cell_id) {\n",
       "                        if (nbb_cells[i].get_text() == nbb_unformatted_code) {\n",
       "                             nbb_cells[i].set_text(nbb_formatted_code);\n",
       "                        }\n",
       "                        break;\n",
       "                    }\n",
       "                }\n",
       "            }, 500);\n",
       "            "
      ],
      "text/plain": [
       "<IPython.core.display.Javascript object>"
      ]
     },
     "metadata": {},
     "output_type": "display_data"
    }
   ],
   "source": [
    "grid.cv_results_[\"mean_test_roc_auc\"][grid.best_index_]"
   ]
  },
  {
   "cell_type": "markdown",
   "metadata": {},
   "source": [
    "Рассмотрим следующую модель - логистическую регрессию."
   ]
  },
  {
   "cell_type": "code",
   "execution_count": 249,
   "metadata": {},
   "outputs": [
    {
     "data": {
      "text/plain": [
       "{'max_iter': 100}"
      ]
     },
     "execution_count": 249,
     "metadata": {},
     "output_type": "execute_result"
    },
    {
     "data": {
      "application/javascript": [
       "\n",
       "            setTimeout(function() {\n",
       "                var nbb_cell_id = 249;\n",
       "                var nbb_unformatted_code = \"clf = LogisticRegression(random_state=12345, solver=\\\"liblinear\\\", class_weight='balanced')\\nparameters = {\\\"max_iter\\\": range(100, 1000, 100)}\\ngrid_log = GridSearchCV(clf, parameters, cv=5, scoring=[\\\"f1\\\", \\\"roc_auc\\\"], refit=\\\"f1\\\")\\ngrid_log.fit(features_train, target_train)\\ngrid_log.best_params_\";\n",
       "                var nbb_formatted_code = \"clf = LogisticRegression(\\n    random_state=12345, solver=\\\"liblinear\\\", class_weight=\\\"balanced\\\"\\n)\\nparameters = {\\\"max_iter\\\": range(100, 1000, 100)}\\ngrid_log = GridSearchCV(clf, parameters, cv=5, scoring=[\\\"f1\\\", \\\"roc_auc\\\"], refit=\\\"f1\\\")\\ngrid_log.fit(features_train, target_train)\\ngrid_log.best_params_\";\n",
       "                var nbb_cells = Jupyter.notebook.get_cells();\n",
       "                for (var i = 0; i < nbb_cells.length; ++i) {\n",
       "                    if (nbb_cells[i].input_prompt_number == nbb_cell_id) {\n",
       "                        if (nbb_cells[i].get_text() == nbb_unformatted_code) {\n",
       "                             nbb_cells[i].set_text(nbb_formatted_code);\n",
       "                        }\n",
       "                        break;\n",
       "                    }\n",
       "                }\n",
       "            }, 500);\n",
       "            "
      ],
      "text/plain": [
       "<IPython.core.display.Javascript object>"
      ]
     },
     "metadata": {},
     "output_type": "display_data"
    }
   ],
   "source": [
    "clf = LogisticRegression(\n",
    "    random_state=12345, solver=\"liblinear\", class_weight=\"balanced\"\n",
    ")\n",
    "parameters = {\"max_iter\": range(100, 1000, 100)}\n",
    "grid_log = GridSearchCV(clf, parameters, cv=5, scoring=[\"f1\", \"roc_auc\"], refit=\"f1\")\n",
    "grid_log.fit(features_train, target_train)\n",
    "grid_log.best_params_"
   ]
  },
  {
   "cell_type": "code",
   "execution_count": 250,
   "metadata": {},
   "outputs": [
    {
     "data": {
      "text/plain": [
       "0.4865748052482851"
      ]
     },
     "execution_count": 250,
     "metadata": {},
     "output_type": "execute_result"
    },
    {
     "data": {
      "application/javascript": [
       "\n",
       "            setTimeout(function() {\n",
       "                var nbb_cell_id = 250;\n",
       "                var nbb_unformatted_code = \"grid_log.best_score_\";\n",
       "                var nbb_formatted_code = \"grid_log.best_score_\";\n",
       "                var nbb_cells = Jupyter.notebook.get_cells();\n",
       "                for (var i = 0; i < nbb_cells.length; ++i) {\n",
       "                    if (nbb_cells[i].input_prompt_number == nbb_cell_id) {\n",
       "                        if (nbb_cells[i].get_text() == nbb_unformatted_code) {\n",
       "                             nbb_cells[i].set_text(nbb_formatted_code);\n",
       "                        }\n",
       "                        break;\n",
       "                    }\n",
       "                }\n",
       "            }, 500);\n",
       "            "
      ],
      "text/plain": [
       "<IPython.core.display.Javascript object>"
      ]
     },
     "metadata": {},
     "output_type": "display_data"
    }
   ],
   "source": [
    "grid_log.best_score_"
   ]
  },
  {
   "cell_type": "code",
   "execution_count": 251,
   "metadata": {},
   "outputs": [
    {
     "data": {
      "text/plain": [
       "0.7632055937051555"
      ]
     },
     "execution_count": 251,
     "metadata": {},
     "output_type": "execute_result"
    },
    {
     "data": {
      "application/javascript": [
       "\n",
       "            setTimeout(function() {\n",
       "                var nbb_cell_id = 251;\n",
       "                var nbb_unformatted_code = \"grid_log.cv_results_[\\\"mean_test_roc_auc\\\"][grid_log.best_index_]\";\n",
       "                var nbb_formatted_code = \"grid_log.cv_results_[\\\"mean_test_roc_auc\\\"][grid_log.best_index_]\";\n",
       "                var nbb_cells = Jupyter.notebook.get_cells();\n",
       "                for (var i = 0; i < nbb_cells.length; ++i) {\n",
       "                    if (nbb_cells[i].input_prompt_number == nbb_cell_id) {\n",
       "                        if (nbb_cells[i].get_text() == nbb_unformatted_code) {\n",
       "                             nbb_cells[i].set_text(nbb_formatted_code);\n",
       "                        }\n",
       "                        break;\n",
       "                    }\n",
       "                }\n",
       "            }, 500);\n",
       "            "
      ],
      "text/plain": [
       "<IPython.core.display.Javascript object>"
      ]
     },
     "metadata": {},
     "output_type": "display_data"
    }
   ],
   "source": [
    "grid_log.cv_results_[\"mean_test_roc_auc\"][grid_log.best_index_]"
   ]
  },
  {
   "cell_type": "markdown",
   "metadata": {},
   "source": [
    "Видим, что на обучающей выборке наилучшим качеством обладает модель случайного леса с 150 деревьями и глубиной дерева 6. При таких параметрах F1-мера равна 0.5928978914534571, метрика AUC-ROC равна 0.8504892565804048."
   ]
  },
  {
   "cell_type": "markdown",
   "metadata": {},
   "source": [
    "Теперь найдем значения метрик качества моделей после применения техники upsampling."
   ]
  },
  {
   "cell_type": "code",
   "execution_count": 252,
   "metadata": {},
   "outputs": [
    {
     "data": {
      "application/javascript": [
       "\n",
       "            setTimeout(function() {\n",
       "                var nbb_cell_id = 252;\n",
       "                var nbb_unformatted_code = \"def upsample(features, target, repeat):\\n    features_zeros = features[target == 0]\\n    features_ones = features[target == 1]\\n    target_zeros = target[target == 0]\\n    target_ones = target[target == 1]\\n    features_upsampled = pd.concat([features_zeros] + [features_ones] * repeat)\\n    target_upsampled = pd.concat([target_zeros] + [target_ones] * repeat)\\n    features_upsampled, target_upsampled = shuffle(features_upsampled, target_upsampled, random_state=12345)\\n    return features_upsampled, target_upsampled\";\n",
       "                var nbb_formatted_code = \"def upsample(features, target, repeat):\\n    features_zeros = features[target == 0]\\n    features_ones = features[target == 1]\\n    target_zeros = target[target == 0]\\n    target_ones = target[target == 1]\\n    features_upsampled = pd.concat([features_zeros] + [features_ones] * repeat)\\n    target_upsampled = pd.concat([target_zeros] + [target_ones] * repeat)\\n    features_upsampled, target_upsampled = shuffle(\\n        features_upsampled, target_upsampled, random_state=12345\\n    )\\n    return features_upsampled, target_upsampled\";\n",
       "                var nbb_cells = Jupyter.notebook.get_cells();\n",
       "                for (var i = 0; i < nbb_cells.length; ++i) {\n",
       "                    if (nbb_cells[i].input_prompt_number == nbb_cell_id) {\n",
       "                        if (nbb_cells[i].get_text() == nbb_unformatted_code) {\n",
       "                             nbb_cells[i].set_text(nbb_formatted_code);\n",
       "                        }\n",
       "                        break;\n",
       "                    }\n",
       "                }\n",
       "            }, 500);\n",
       "            "
      ],
      "text/plain": [
       "<IPython.core.display.Javascript object>"
      ]
     },
     "metadata": {},
     "output_type": "display_data"
    }
   ],
   "source": [
    "def upsample(features, target, repeat):\n",
    "    features_zeros = features[target == 0]\n",
    "    features_ones = features[target == 1]\n",
    "    target_zeros = target[target == 0]\n",
    "    target_ones = target[target == 1]\n",
    "    features_upsampled = pd.concat([features_zeros] + [features_ones] * repeat)\n",
    "    target_upsampled = pd.concat([target_zeros] + [target_ones] * repeat)\n",
    "    features_upsampled, target_upsampled = shuffle(\n",
    "        features_upsampled, target_upsampled, random_state=12345\n",
    "    )\n",
    "    return features_upsampled, target_upsampled"
   ]
  },
  {
   "cell_type": "code",
   "execution_count": 253,
   "metadata": {},
   "outputs": [
    {
     "name": "stdout",
     "output_type": "stream",
     "text": [
      "(6370, 21)\n",
      "(1630, 21)\n",
      "(6370,)\n",
      "(1630,)\n"
     ]
    },
    {
     "data": {
      "application/javascript": [
       "\n",
       "            setTimeout(function() {\n",
       "                var nbb_cell_id = 253;\n",
       "                var nbb_unformatted_code = \"features_zeros=features_train[target_train==0]\\nfeatures_ones=features_train[target_train==1]\\ntarget_zeros=target_train[target_train==0]\\ntarget_ones=target_train[target_train==1]\\nprint(features_zeros.shape)\\nprint(features_ones.shape)\\nprint(target_zeros.shape)\\nprint(target_ones.shape)\";\n",
       "                var nbb_formatted_code = \"features_zeros = features_train[target_train == 0]\\nfeatures_ones = features_train[target_train == 1]\\ntarget_zeros = target_train[target_train == 0]\\ntarget_ones = target_train[target_train == 1]\\nprint(features_zeros.shape)\\nprint(features_ones.shape)\\nprint(target_zeros.shape)\\nprint(target_ones.shape)\";\n",
       "                var nbb_cells = Jupyter.notebook.get_cells();\n",
       "                for (var i = 0; i < nbb_cells.length; ++i) {\n",
       "                    if (nbb_cells[i].input_prompt_number == nbb_cell_id) {\n",
       "                        if (nbb_cells[i].get_text() == nbb_unformatted_code) {\n",
       "                             nbb_cells[i].set_text(nbb_formatted_code);\n",
       "                        }\n",
       "                        break;\n",
       "                    }\n",
       "                }\n",
       "            }, 500);\n",
       "            "
      ],
      "text/plain": [
       "<IPython.core.display.Javascript object>"
      ]
     },
     "metadata": {},
     "output_type": "display_data"
    }
   ],
   "source": [
    "features_zeros = features_train[target_train == 0]\n",
    "features_ones = features_train[target_train == 1]\n",
    "target_zeros = target_train[target_train == 0]\n",
    "target_ones = target_train[target_train == 1]\n",
    "print(features_zeros.shape)\n",
    "print(features_ones.shape)\n",
    "print(target_zeros.shape)\n",
    "print(target_ones.shape)"
   ]
  },
  {
   "cell_type": "markdown",
   "metadata": {},
   "source": [
    "Как видим, отрицательных объектов в обучающей выборке почти в 4 раза больше, чем положительных, поэтому увеличим количество объектов с единицами в 4 раза."
   ]
  },
  {
   "cell_type": "code",
   "execution_count": 254,
   "metadata": {},
   "outputs": [
    {
     "data": {
      "application/javascript": [
       "\n",
       "            setTimeout(function() {\n",
       "                var nbb_cell_id = 254;\n",
       "                var nbb_unformatted_code = \"features_upsampled, target_upsampled = upsample(features_train, target_train, 4)\";\n",
       "                var nbb_formatted_code = \"features_upsampled, target_upsampled = upsample(features_train, target_train, 4)\";\n",
       "                var nbb_cells = Jupyter.notebook.get_cells();\n",
       "                for (var i = 0; i < nbb_cells.length; ++i) {\n",
       "                    if (nbb_cells[i].input_prompt_number == nbb_cell_id) {\n",
       "                        if (nbb_cells[i].get_text() == nbb_unformatted_code) {\n",
       "                             nbb_cells[i].set_text(nbb_formatted_code);\n",
       "                        }\n",
       "                        break;\n",
       "                    }\n",
       "                }\n",
       "            }, 500);\n",
       "            "
      ],
      "text/plain": [
       "<IPython.core.display.Javascript object>"
      ]
     },
     "metadata": {},
     "output_type": "display_data"
    }
   ],
   "source": [
    "features_upsampled, target_upsampled = upsample(features_train, target_train, 4)"
   ]
  },
  {
   "cell_type": "markdown",
   "metadata": {},
   "source": [
    "Проверим размеры новой выборки."
   ]
  },
  {
   "cell_type": "code",
   "execution_count": 289,
   "metadata": {},
   "outputs": [
    {
     "name": "stdout",
     "output_type": "stream",
     "text": [
      "(6370, 21)\n",
      "(6520, 21)\n",
      "(6370,)\n",
      "(6520,)\n"
     ]
    },
    {
     "data": {
      "application/javascript": [
       "\n",
       "            setTimeout(function() {\n",
       "                var nbb_cell_id = 289;\n",
       "                var nbb_unformatted_code = \"features_zeros = features_upsampled[target_upsampled == 0]\\nfeatures_ones = features_upsampled[target_upsampled == 1]\\ntarget_zeros = target_upsampled[target_upsampled == 0]\\ntarget_ones = target_upsampled[target_upsampled == 1]\\nprint(features_zeros.shape)\\nprint(features_ones.shape)\\nprint(target_zeros.shape)\\nprint(target_ones.shape)\";\n",
       "                var nbb_formatted_code = \"features_zeros = features_upsampled[target_upsampled == 0]\\nfeatures_ones = features_upsampled[target_upsampled == 1]\\ntarget_zeros = target_upsampled[target_upsampled == 0]\\ntarget_ones = target_upsampled[target_upsampled == 1]\\nprint(features_zeros.shape)\\nprint(features_ones.shape)\\nprint(target_zeros.shape)\\nprint(target_ones.shape)\";\n",
       "                var nbb_cells = Jupyter.notebook.get_cells();\n",
       "                for (var i = 0; i < nbb_cells.length; ++i) {\n",
       "                    if (nbb_cells[i].input_prompt_number == nbb_cell_id) {\n",
       "                        if (nbb_cells[i].get_text() == nbb_unformatted_code) {\n",
       "                             nbb_cells[i].set_text(nbb_formatted_code);\n",
       "                        }\n",
       "                        break;\n",
       "                    }\n",
       "                }\n",
       "            }, 500);\n",
       "            "
      ],
      "text/plain": [
       "<IPython.core.display.Javascript object>"
      ]
     },
     "metadata": {},
     "output_type": "display_data"
    }
   ],
   "source": [
    "features_zeros = features_upsampled[target_upsampled == 0]\n",
    "features_ones = features_upsampled[target_upsampled == 1]\n",
    "target_zeros = target_upsampled[target_upsampled == 0]\n",
    "target_ones = target_upsampled[target_upsampled == 1]\n",
    "print(features_zeros.shape)\n",
    "print(features_ones.shape)\n",
    "print(target_zeros.shape)\n",
    "print(target_ones.shape)"
   ]
  },
  {
   "cell_type": "markdown",
   "metadata": {},
   "source": [
    "Видим, что количество положительных и отрицательных объектов примерно равно."
   ]
  },
  {
   "cell_type": "markdown",
   "metadata": {},
   "source": [
    "Найдем качество моделей с измененной обучающей выборкой."
   ]
  },
  {
   "cell_type": "markdown",
   "metadata": {},
   "source": [
    "Рассмотрим первую модель - дерево решений, и найдем ее качество при различных значениях гиперпараметра max_depth (глубина дерева)."
   ]
  },
  {
   "cell_type": "code",
   "execution_count": 509,
   "metadata": {},
   "outputs": [
    {
     "data": {
      "text/plain": [
       "{'max_depth': 5}"
      ]
     },
     "execution_count": 509,
     "metadata": {},
     "output_type": "execute_result"
    },
    {
     "data": {
      "application/javascript": [
       "\n",
       "            setTimeout(function() {\n",
       "                var nbb_cell_id = 509;\n",
       "                var nbb_unformatted_code = \"clf = DecisionTreeClassifier(random_state=12345)\\nparameters = {\\\"max_depth\\\": range(1, 6, 1)}\\ngrid_tr = GridSearchCV(clf, parameters, cv=5, scoring=[\\\"f1\\\", \\\"roc_auc\\\"], refit=\\\"f1\\\")\\ngrid_tr.fit(features_upsampled, target_upsampled)\\ngrid_tr.best_params_\";\n",
       "                var nbb_formatted_code = \"clf = DecisionTreeClassifier(random_state=12345)\\nparameters = {\\\"max_depth\\\": range(1, 6, 1)}\\ngrid_tr = GridSearchCV(clf, parameters, cv=5, scoring=[\\\"f1\\\", \\\"roc_auc\\\"], refit=\\\"f1\\\")\\ngrid_tr.fit(features_upsampled, target_upsampled)\\ngrid_tr.best_params_\";\n",
       "                var nbb_cells = Jupyter.notebook.get_cells();\n",
       "                for (var i = 0; i < nbb_cells.length; ++i) {\n",
       "                    if (nbb_cells[i].input_prompt_number == nbb_cell_id) {\n",
       "                        if (nbb_cells[i].get_text() == nbb_unformatted_code) {\n",
       "                             nbb_cells[i].set_text(nbb_formatted_code);\n",
       "                        }\n",
       "                        break;\n",
       "                    }\n",
       "                }\n",
       "            }, 500);\n",
       "            "
      ],
      "text/plain": [
       "<IPython.core.display.Javascript object>"
      ]
     },
     "metadata": {},
     "output_type": "display_data"
    }
   ],
   "source": [
    "clf = DecisionTreeClassifier(random_state=12345)\n",
    "parameters = {\"max_depth\": range(1, 6, 1)}\n",
    "grid_tr = GridSearchCV(clf, parameters, cv=5, scoring=[\"f1\", \"roc_auc\"], refit=\"f1\")\n",
    "grid_tr.fit(features_upsampled, target_upsampled)\n",
    "grid_tr.best_params_"
   ]
  },
  {
   "cell_type": "code",
   "execution_count": 510,
   "metadata": {},
   "outputs": [
    {
     "data": {
      "text/plain": [
       "0.7775939638864013"
      ]
     },
     "execution_count": 510,
     "metadata": {},
     "output_type": "execute_result"
    },
    {
     "data": {
      "application/javascript": [
       "\n",
       "            setTimeout(function() {\n",
       "                var nbb_cell_id = 510;\n",
       "                var nbb_unformatted_code = \"grid_tr.best_score_\";\n",
       "                var nbb_formatted_code = \"grid_tr.best_score_\";\n",
       "                var nbb_cells = Jupyter.notebook.get_cells();\n",
       "                for (var i = 0; i < nbb_cells.length; ++i) {\n",
       "                    if (nbb_cells[i].input_prompt_number == nbb_cell_id) {\n",
       "                        if (nbb_cells[i].get_text() == nbb_unformatted_code) {\n",
       "                             nbb_cells[i].set_text(nbb_formatted_code);\n",
       "                        }\n",
       "                        break;\n",
       "                    }\n",
       "                }\n",
       "            }, 500);\n",
       "            "
      ],
      "text/plain": [
       "<IPython.core.display.Javascript object>"
      ]
     },
     "metadata": {},
     "output_type": "display_data"
    }
   ],
   "source": [
    "grid_tr.best_score_"
   ]
  },
  {
   "cell_type": "code",
   "execution_count": 511,
   "metadata": {},
   "outputs": [
    {
     "data": {
      "text/plain": [
       "0.845632445993971"
      ]
     },
     "execution_count": 511,
     "metadata": {},
     "output_type": "execute_result"
    },
    {
     "data": {
      "application/javascript": [
       "\n",
       "            setTimeout(function() {\n",
       "                var nbb_cell_id = 511;\n",
       "                var nbb_unformatted_code = \"grid_tr.cv_results_[\\\"mean_test_roc_auc\\\"][grid_tr.best_index_]\";\n",
       "                var nbb_formatted_code = \"grid_tr.cv_results_[\\\"mean_test_roc_auc\\\"][grid_tr.best_index_]\";\n",
       "                var nbb_cells = Jupyter.notebook.get_cells();\n",
       "                for (var i = 0; i < nbb_cells.length; ++i) {\n",
       "                    if (nbb_cells[i].input_prompt_number == nbb_cell_id) {\n",
       "                        if (nbb_cells[i].get_text() == nbb_unformatted_code) {\n",
       "                             nbb_cells[i].set_text(nbb_formatted_code);\n",
       "                        }\n",
       "                        break;\n",
       "                    }\n",
       "                }\n",
       "            }, 500);\n",
       "            "
      ],
      "text/plain": [
       "<IPython.core.display.Javascript object>"
      ]
     },
     "metadata": {},
     "output_type": "display_data"
    }
   ],
   "source": [
    "grid_tr.cv_results_[\"mean_test_roc_auc\"][grid_tr.best_index_]"
   ]
  },
  {
   "cell_type": "markdown",
   "metadata": {},
   "source": [
    "Далее обучим модель случайный лес и проверим качество модели при разном количестве деревьев (n_estimators) и глубине дерева (max_depth)."
   ]
  },
  {
   "cell_type": "code",
   "execution_count": 491,
   "metadata": {},
   "outputs": [
    {
     "name": "stdout",
     "output_type": "stream",
     "text": [
      "Wall time: 1min 47s\n"
     ]
    },
    {
     "data": {
      "text/plain": [
       "{'max_depth': 6, 'n_estimators': 160}"
      ]
     },
     "execution_count": 491,
     "metadata": {},
     "output_type": "execute_result"
    },
    {
     "data": {
      "application/javascript": [
       "\n",
       "            setTimeout(function() {\n",
       "                var nbb_cell_id = 491;\n",
       "                var nbb_unformatted_code = \"%%time\\nclf = RandomForestClassifier(random_state=12345)\\nparameters = {\\\"n_estimators\\\": range(100, 201, 20), \\\"max_depth\\\": range(1, 7, 1)}\\ngrid = GridSearchCV(clf, parameters, cv=5, scoring=[\\\"f1\\\", \\\"roc_auc\\\"], refit=\\\"f1\\\")\\ngrid.fit(features_upsampled, target_upsampled)\\ngrid.best_params_\";\n",
       "                var nbb_formatted_code = \"%%time\\nclf = RandomForestClassifier(random_state=12345)\\nparameters = {\\\"n_estimators\\\": range(100, 201, 20), \\\"max_depth\\\": range(1, 7, 1)}\\ngrid = GridSearchCV(clf, parameters, cv=5, scoring=[\\\"f1\\\", \\\"roc_auc\\\"], refit=\\\"f1\\\")\\ngrid.fit(features_upsampled, target_upsampled)\\ngrid.best_params_\";\n",
       "                var nbb_cells = Jupyter.notebook.get_cells();\n",
       "                for (var i = 0; i < nbb_cells.length; ++i) {\n",
       "                    if (nbb_cells[i].input_prompt_number == nbb_cell_id) {\n",
       "                        if (nbb_cells[i].get_text() == nbb_unformatted_code) {\n",
       "                             nbb_cells[i].set_text(nbb_formatted_code);\n",
       "                        }\n",
       "                        break;\n",
       "                    }\n",
       "                }\n",
       "            }, 500);\n",
       "            "
      ],
      "text/plain": [
       "<IPython.core.display.Javascript object>"
      ]
     },
     "metadata": {},
     "output_type": "display_data"
    }
   ],
   "source": [
    "%%time\n",
    "clf = RandomForestClassifier(random_state=12345)\n",
    "parameters = {\"n_estimators\": range(100, 201, 20), \"max_depth\": range(1, 7, 1)}\n",
    "grid = GridSearchCV(clf, parameters, cv=5, scoring=[\"f1\", \"roc_auc\"], refit=\"f1\")\n",
    "grid.fit(features_upsampled, target_upsampled)\n",
    "grid.best_params_"
   ]
  },
  {
   "cell_type": "code",
   "execution_count": 492,
   "metadata": {},
   "outputs": [
    {
     "data": {
      "text/plain": [
       "0.7778368949979247"
      ]
     },
     "execution_count": 492,
     "metadata": {},
     "output_type": "execute_result"
    },
    {
     "data": {
      "application/javascript": [
       "\n",
       "            setTimeout(function() {\n",
       "                var nbb_cell_id = 492;\n",
       "                var nbb_unformatted_code = \"grid.best_score_\";\n",
       "                var nbb_formatted_code = \"grid.best_score_\";\n",
       "                var nbb_cells = Jupyter.notebook.get_cells();\n",
       "                for (var i = 0; i < nbb_cells.length; ++i) {\n",
       "                    if (nbb_cells[i].input_prompt_number == nbb_cell_id) {\n",
       "                        if (nbb_cells[i].get_text() == nbb_unformatted_code) {\n",
       "                             nbb_cells[i].set_text(nbb_formatted_code);\n",
       "                        }\n",
       "                        break;\n",
       "                    }\n",
       "                }\n",
       "            }, 500);\n",
       "            "
      ],
      "text/plain": [
       "<IPython.core.display.Javascript object>"
      ]
     },
     "metadata": {},
     "output_type": "display_data"
    }
   ],
   "source": [
    "grid.best_score_"
   ]
  },
  {
   "cell_type": "code",
   "execution_count": 493,
   "metadata": {},
   "outputs": [
    {
     "data": {
      "text/plain": [
       "0.8669196217892535"
      ]
     },
     "execution_count": 493,
     "metadata": {},
     "output_type": "execute_result"
    },
    {
     "data": {
      "application/javascript": [
       "\n",
       "            setTimeout(function() {\n",
       "                var nbb_cell_id = 493;\n",
       "                var nbb_unformatted_code = \"grid.cv_results_[\\\"mean_test_roc_auc\\\"][grid.best_index_]\";\n",
       "                var nbb_formatted_code = \"grid.cv_results_[\\\"mean_test_roc_auc\\\"][grid.best_index_]\";\n",
       "                var nbb_cells = Jupyter.notebook.get_cells();\n",
       "                for (var i = 0; i < nbb_cells.length; ++i) {\n",
       "                    if (nbb_cells[i].input_prompt_number == nbb_cell_id) {\n",
       "                        if (nbb_cells[i].get_text() == nbb_unformatted_code) {\n",
       "                             nbb_cells[i].set_text(nbb_formatted_code);\n",
       "                        }\n",
       "                        break;\n",
       "                    }\n",
       "                }\n",
       "            }, 500);\n",
       "            "
      ],
      "text/plain": [
       "<IPython.core.display.Javascript object>"
      ]
     },
     "metadata": {},
     "output_type": "display_data"
    }
   ],
   "source": [
    "grid.cv_results_[\"mean_test_roc_auc\"][grid.best_index_]"
   ]
  },
  {
   "cell_type": "markdown",
   "metadata": {},
   "source": [
    "Рассмотрим следующую модель - логистическую регрессию."
   ]
  },
  {
   "cell_type": "code",
   "execution_count": 267,
   "metadata": {},
   "outputs": [
    {
     "data": {
      "text/plain": [
       "{'max_iter': 100}"
      ]
     },
     "execution_count": 267,
     "metadata": {},
     "output_type": "execute_result"
    },
    {
     "data": {
      "application/javascript": [
       "\n",
       "            setTimeout(function() {\n",
       "                var nbb_cell_id = 267;\n",
       "                var nbb_unformatted_code = \"clf = LogisticRegression(\\n    random_state=12345, solver=\\\"liblinear\\\"\\n)\\nparameters = {\\\"max_iter\\\": range(100, 1000, 100)}\\ngrid_log = GridSearchCV(clf, parameters, cv=5, scoring=[\\\"f1\\\", \\\"roc_auc\\\"], refit=\\\"f1\\\")\\ngrid_log.fit(features_upsampled, target_upsampled)\\ngrid_log.best_params_\";\n",
       "                var nbb_formatted_code = \"clf = LogisticRegression(random_state=12345, solver=\\\"liblinear\\\")\\nparameters = {\\\"max_iter\\\": range(100, 1000, 100)}\\ngrid_log = GridSearchCV(clf, parameters, cv=5, scoring=[\\\"f1\\\", \\\"roc_auc\\\"], refit=\\\"f1\\\")\\ngrid_log.fit(features_upsampled, target_upsampled)\\ngrid_log.best_params_\";\n",
       "                var nbb_cells = Jupyter.notebook.get_cells();\n",
       "                for (var i = 0; i < nbb_cells.length; ++i) {\n",
       "                    if (nbb_cells[i].input_prompt_number == nbb_cell_id) {\n",
       "                        if (nbb_cells[i].get_text() == nbb_unformatted_code) {\n",
       "                             nbb_cells[i].set_text(nbb_formatted_code);\n",
       "                        }\n",
       "                        break;\n",
       "                    }\n",
       "                }\n",
       "            }, 500);\n",
       "            "
      ],
      "text/plain": [
       "<IPython.core.display.Javascript object>"
      ]
     },
     "metadata": {},
     "output_type": "display_data"
    }
   ],
   "source": [
    "clf = LogisticRegression(random_state=12345, solver=\"liblinear\")\n",
    "parameters = {\"max_iter\": range(100, 1000, 100)}\n",
    "grid_log = GridSearchCV(clf, parameters, cv=5, scoring=[\"f1\", \"roc_auc\"], refit=\"f1\")\n",
    "grid_log.fit(features_upsampled, target_upsampled)\n",
    "grid_log.best_params_"
   ]
  },
  {
   "cell_type": "code",
   "execution_count": 268,
   "metadata": {},
   "outputs": [
    {
     "data": {
      "text/plain": [
       "0.700858706792425"
      ]
     },
     "execution_count": 268,
     "metadata": {},
     "output_type": "execute_result"
    },
    {
     "data": {
      "application/javascript": [
       "\n",
       "            setTimeout(function() {\n",
       "                var nbb_cell_id = 268;\n",
       "                var nbb_unformatted_code = \"grid_log.best_score_\";\n",
       "                var nbb_formatted_code = \"grid_log.best_score_\";\n",
       "                var nbb_cells = Jupyter.notebook.get_cells();\n",
       "                for (var i = 0; i < nbb_cells.length; ++i) {\n",
       "                    if (nbb_cells[i].input_prompt_number == nbb_cell_id) {\n",
       "                        if (nbb_cells[i].get_text() == nbb_unformatted_code) {\n",
       "                             nbb_cells[i].set_text(nbb_formatted_code);\n",
       "                        }\n",
       "                        break;\n",
       "                    }\n",
       "                }\n",
       "            }, 500);\n",
       "            "
      ],
      "text/plain": [
       "<IPython.core.display.Javascript object>"
      ]
     },
     "metadata": {},
     "output_type": "display_data"
    }
   ],
   "source": [
    "grid_log.best_score_"
   ]
  },
  {
   "cell_type": "code",
   "execution_count": 269,
   "metadata": {},
   "outputs": [
    {
     "data": {
      "text/plain": [
       "0.7664141730311756"
      ]
     },
     "execution_count": 269,
     "metadata": {},
     "output_type": "execute_result"
    },
    {
     "data": {
      "application/javascript": [
       "\n",
       "            setTimeout(function() {\n",
       "                var nbb_cell_id = 269;\n",
       "                var nbb_unformatted_code = \"grid_log.cv_results_[\\\"mean_test_roc_auc\\\"][grid_log.best_index_]\";\n",
       "                var nbb_formatted_code = \"grid_log.cv_results_[\\\"mean_test_roc_auc\\\"][grid_log.best_index_]\";\n",
       "                var nbb_cells = Jupyter.notebook.get_cells();\n",
       "                for (var i = 0; i < nbb_cells.length; ++i) {\n",
       "                    if (nbb_cells[i].input_prompt_number == nbb_cell_id) {\n",
       "                        if (nbb_cells[i].get_text() == nbb_unformatted_code) {\n",
       "                             nbb_cells[i].set_text(nbb_formatted_code);\n",
       "                        }\n",
       "                        break;\n",
       "                    }\n",
       "                }\n",
       "            }, 500);\n",
       "            "
      ],
      "text/plain": [
       "<IPython.core.display.Javascript object>"
      ]
     },
     "metadata": {},
     "output_type": "display_data"
    }
   ],
   "source": [
    "grid_log.cv_results_[\"mean_test_roc_auc\"][grid_log.best_index_]"
   ]
  },
  {
   "cell_type": "markdown",
   "metadata": {},
   "source": [
    "Видим, что на обучающей выборке наилучшим качеством обладает модель случайного леса с 160 деревьями и глубиной дерева 6. При таких параметрах F1-мера равна 0.7778368949979247, метрика AUC-ROC равна 0.8669196217892535."
   ]
  },
  {
   "cell_type": "markdown",
   "metadata": {},
   "source": [
    "Попробуем решить проблему дисбаланса классов техникой downsampling. Для этого сократим количество отрицательных объектов в 4 раза."
   ]
  },
  {
   "cell_type": "code",
   "execution_count": 270,
   "metadata": {},
   "outputs": [
    {
     "data": {
      "application/javascript": [
       "\n",
       "            setTimeout(function() {\n",
       "                var nbb_cell_id = 270;\n",
       "                var nbb_unformatted_code = \"def downsample(features, target, fraction):\\n    features_zeros = features[target == 0]\\n    features_ones = features[target == 1]\\n    target_zeros = target[target == 0]\\n    target_ones = target[target == 1]\\n\\n    features_downsampled = pd.concat(\\n        [features_zeros.sample(frac=fraction, random_state=12345)] + [features_ones])\\n    target_downsampled = pd.concat(\\n        [target_zeros.sample(frac=fraction, random_state=12345)] + [target_ones])\\n    \\n    features_downsampled, target_downsampled = shuffle(\\n        features_downsampled, target_downsampled, random_state=12345)\\n    \\n    return features_downsampled, target_downsampled\";\n",
       "                var nbb_formatted_code = \"def downsample(features, target, fraction):\\n    features_zeros = features[target == 0]\\n    features_ones = features[target == 1]\\n    target_zeros = target[target == 0]\\n    target_ones = target[target == 1]\\n\\n    features_downsampled = pd.concat(\\n        [features_zeros.sample(frac=fraction, random_state=12345)] + [features_ones]\\n    )\\n    target_downsampled = pd.concat(\\n        [target_zeros.sample(frac=fraction, random_state=12345)] + [target_ones]\\n    )\\n\\n    features_downsampled, target_downsampled = shuffle(\\n        features_downsampled, target_downsampled, random_state=12345\\n    )\\n\\n    return features_downsampled, target_downsampled\";\n",
       "                var nbb_cells = Jupyter.notebook.get_cells();\n",
       "                for (var i = 0; i < nbb_cells.length; ++i) {\n",
       "                    if (nbb_cells[i].input_prompt_number == nbb_cell_id) {\n",
       "                        if (nbb_cells[i].get_text() == nbb_unformatted_code) {\n",
       "                             nbb_cells[i].set_text(nbb_formatted_code);\n",
       "                        }\n",
       "                        break;\n",
       "                    }\n",
       "                }\n",
       "            }, 500);\n",
       "            "
      ],
      "text/plain": [
       "<IPython.core.display.Javascript object>"
      ]
     },
     "metadata": {},
     "output_type": "display_data"
    }
   ],
   "source": [
    "def downsample(features, target, fraction):\n",
    "    features_zeros = features[target == 0]\n",
    "    features_ones = features[target == 1]\n",
    "    target_zeros = target[target == 0]\n",
    "    target_ones = target[target == 1]\n",
    "\n",
    "    features_downsampled = pd.concat(\n",
    "        [features_zeros.sample(frac=fraction, random_state=12345)] + [features_ones]\n",
    "    )\n",
    "    target_downsampled = pd.concat(\n",
    "        [target_zeros.sample(frac=fraction, random_state=12345)] + [target_ones]\n",
    "    )\n",
    "\n",
    "    features_downsampled, target_downsampled = shuffle(\n",
    "        features_downsampled, target_downsampled, random_state=12345\n",
    "    )\n",
    "\n",
    "    return features_downsampled, target_downsampled"
   ]
  },
  {
   "cell_type": "code",
   "execution_count": 294,
   "metadata": {},
   "outputs": [
    {
     "data": {
      "application/javascript": [
       "\n",
       "            setTimeout(function() {\n",
       "                var nbb_cell_id = 294;\n",
       "                var nbb_unformatted_code = \"features_downsampled, target_downsampled = downsample(features_train, target_train, 0.25)\";\n",
       "                var nbb_formatted_code = \"features_downsampled, target_downsampled = downsample(\\n    features_train, target_train, 0.25\\n)\";\n",
       "                var nbb_cells = Jupyter.notebook.get_cells();\n",
       "                for (var i = 0; i < nbb_cells.length; ++i) {\n",
       "                    if (nbb_cells[i].input_prompt_number == nbb_cell_id) {\n",
       "                        if (nbb_cells[i].get_text() == nbb_unformatted_code) {\n",
       "                             nbb_cells[i].set_text(nbb_formatted_code);\n",
       "                        }\n",
       "                        break;\n",
       "                    }\n",
       "                }\n",
       "            }, 500);\n",
       "            "
      ],
      "text/plain": [
       "<IPython.core.display.Javascript object>"
      ]
     },
     "metadata": {},
     "output_type": "display_data"
    }
   ],
   "source": [
    "features_downsampled, target_downsampled = downsample(\n",
    "    features_train, target_train, 0.25\n",
    ")"
   ]
  },
  {
   "cell_type": "markdown",
   "metadata": {},
   "source": [
    "Проверим размеры новой выборки."
   ]
  },
  {
   "cell_type": "code",
   "execution_count": 295,
   "metadata": {},
   "outputs": [
    {
     "name": "stdout",
     "output_type": "stream",
     "text": [
      "(1592, 21)\n",
      "(1630, 21)\n",
      "(1592,)\n",
      "(1630,)\n"
     ]
    },
    {
     "data": {
      "application/javascript": [
       "\n",
       "            setTimeout(function() {\n",
       "                var nbb_cell_id = 295;\n",
       "                var nbb_unformatted_code = \"features_zeros = features_downsampled[target_downsampled == 0]\\nfeatures_ones = features_downsampled[target_downsampled == 1]\\ntarget_zeros = target_downsampled[target_downsampled == 0]\\ntarget_ones = target_downsampled[target_downsampled == 1]\\nprint(features_zeros.shape)\\nprint(features_ones.shape)\\nprint(target_zeros.shape)\\nprint(target_ones.shape)\";\n",
       "                var nbb_formatted_code = \"features_zeros = features_downsampled[target_downsampled == 0]\\nfeatures_ones = features_downsampled[target_downsampled == 1]\\ntarget_zeros = target_downsampled[target_downsampled == 0]\\ntarget_ones = target_downsampled[target_downsampled == 1]\\nprint(features_zeros.shape)\\nprint(features_ones.shape)\\nprint(target_zeros.shape)\\nprint(target_ones.shape)\";\n",
       "                var nbb_cells = Jupyter.notebook.get_cells();\n",
       "                for (var i = 0; i < nbb_cells.length; ++i) {\n",
       "                    if (nbb_cells[i].input_prompt_number == nbb_cell_id) {\n",
       "                        if (nbb_cells[i].get_text() == nbb_unformatted_code) {\n",
       "                             nbb_cells[i].set_text(nbb_formatted_code);\n",
       "                        }\n",
       "                        break;\n",
       "                    }\n",
       "                }\n",
       "            }, 500);\n",
       "            "
      ],
      "text/plain": [
       "<IPython.core.display.Javascript object>"
      ]
     },
     "metadata": {},
     "output_type": "display_data"
    }
   ],
   "source": [
    "features_zeros = features_downsampled[target_downsampled == 0]\n",
    "features_ones = features_downsampled[target_downsampled == 1]\n",
    "target_zeros = target_downsampled[target_downsampled == 0]\n",
    "target_ones = target_downsampled[target_downsampled == 1]\n",
    "print(features_zeros.shape)\n",
    "print(features_ones.shape)\n",
    "print(target_zeros.shape)\n",
    "print(target_ones.shape)"
   ]
  },
  {
   "cell_type": "markdown",
   "metadata": {},
   "source": [
    "Видим, что количество положительных и отрицательных объектов примерно равно."
   ]
  },
  {
   "cell_type": "markdown",
   "metadata": {},
   "source": [
    "Найдем качество моделей с измененной обучающей выборкой."
   ]
  },
  {
   "cell_type": "markdown",
   "metadata": {},
   "source": [
    "Рассмотрим первую модель - дерево решений, и найдем ее качество при различных значениях гиперпараметра max_depth (глубина дерева)."
   ]
  },
  {
   "cell_type": "code",
   "execution_count": 543,
   "metadata": {},
   "outputs": [
    {
     "data": {
      "text/plain": [
       "{'max_depth': 4}"
      ]
     },
     "execution_count": 543,
     "metadata": {},
     "output_type": "execute_result"
    },
    {
     "data": {
      "application/javascript": [
       "\n",
       "            setTimeout(function() {\n",
       "                var nbb_cell_id = 543;\n",
       "                var nbb_unformatted_code = \"clf = DecisionTreeClassifier(random_state=12345)\\nparameters = {\\\"max_depth\\\": range(1, 5, 1)}\\ngrid_tr = GridSearchCV(clf, parameters, cv=5, scoring=[\\\"f1\\\", \\\"roc_auc\\\"], refit=\\\"f1\\\")\\ngrid_tr.fit(features_downsampled, target_downsampled)\\ngrid_tr.best_params_\";\n",
       "                var nbb_formatted_code = \"clf = DecisionTreeClassifier(random_state=12345)\\nparameters = {\\\"max_depth\\\": range(1, 5, 1)}\\ngrid_tr = GridSearchCV(clf, parameters, cv=5, scoring=[\\\"f1\\\", \\\"roc_auc\\\"], refit=\\\"f1\\\")\\ngrid_tr.fit(features_downsampled, target_downsampled)\\ngrid_tr.best_params_\";\n",
       "                var nbb_cells = Jupyter.notebook.get_cells();\n",
       "                for (var i = 0; i < nbb_cells.length; ++i) {\n",
       "                    if (nbb_cells[i].input_prompt_number == nbb_cell_id) {\n",
       "                        if (nbb_cells[i].get_text() == nbb_unformatted_code) {\n",
       "                             nbb_cells[i].set_text(nbb_formatted_code);\n",
       "                        }\n",
       "                        break;\n",
       "                    }\n",
       "                }\n",
       "            }, 500);\n",
       "            "
      ],
      "text/plain": [
       "<IPython.core.display.Javascript object>"
      ]
     },
     "metadata": {},
     "output_type": "display_data"
    }
   ],
   "source": [
    "clf = DecisionTreeClassifier(random_state=12345)\n",
    "parameters = {\"max_depth\": range(1, 5, 1)}\n",
    "grid_tr = GridSearchCV(clf, parameters, cv=5, scoring=[\"f1\", \"roc_auc\"], refit=\"f1\")\n",
    "grid_tr.fit(features_downsampled, target_downsampled)\n",
    "grid_tr.best_params_"
   ]
  },
  {
   "cell_type": "code",
   "execution_count": 544,
   "metadata": {},
   "outputs": [
    {
     "data": {
      "text/plain": [
       "0.7506024565823761"
      ]
     },
     "execution_count": 544,
     "metadata": {},
     "output_type": "execute_result"
    },
    {
     "data": {
      "application/javascript": [
       "\n",
       "            setTimeout(function() {\n",
       "                var nbb_cell_id = 544;\n",
       "                var nbb_unformatted_code = \"grid_tr.best_score_\";\n",
       "                var nbb_formatted_code = \"grid_tr.best_score_\";\n",
       "                var nbb_cells = Jupyter.notebook.get_cells();\n",
       "                for (var i = 0; i < nbb_cells.length; ++i) {\n",
       "                    if (nbb_cells[i].input_prompt_number == nbb_cell_id) {\n",
       "                        if (nbb_cells[i].get_text() == nbb_unformatted_code) {\n",
       "                             nbb_cells[i].set_text(nbb_formatted_code);\n",
       "                        }\n",
       "                        break;\n",
       "                    }\n",
       "                }\n",
       "            }, 500);\n",
       "            "
      ],
      "text/plain": [
       "<IPython.core.display.Javascript object>"
      ]
     },
     "metadata": {},
     "output_type": "display_data"
    }
   ],
   "source": [
    "grid_tr.best_score_"
   ]
  },
  {
   "cell_type": "code",
   "execution_count": 545,
   "metadata": {},
   "outputs": [
    {
     "data": {
      "text/plain": [
       "0.8212535816350315"
      ]
     },
     "execution_count": 545,
     "metadata": {},
     "output_type": "execute_result"
    },
    {
     "data": {
      "application/javascript": [
       "\n",
       "            setTimeout(function() {\n",
       "                var nbb_cell_id = 545;\n",
       "                var nbb_unformatted_code = \"grid_tr.cv_results_[\\\"mean_test_roc_auc\\\"][grid_tr.best_index_]\";\n",
       "                var nbb_formatted_code = \"grid_tr.cv_results_[\\\"mean_test_roc_auc\\\"][grid_tr.best_index_]\";\n",
       "                var nbb_cells = Jupyter.notebook.get_cells();\n",
       "                for (var i = 0; i < nbb_cells.length; ++i) {\n",
       "                    if (nbb_cells[i].input_prompt_number == nbb_cell_id) {\n",
       "                        if (nbb_cells[i].get_text() == nbb_unformatted_code) {\n",
       "                             nbb_cells[i].set_text(nbb_formatted_code);\n",
       "                        }\n",
       "                        break;\n",
       "                    }\n",
       "                }\n",
       "            }, 500);\n",
       "            "
      ],
      "text/plain": [
       "<IPython.core.display.Javascript object>"
      ]
     },
     "metadata": {},
     "output_type": "display_data"
    }
   ],
   "source": [
    "grid_tr.cv_results_[\"mean_test_roc_auc\"][grid_tr.best_index_]"
   ]
  },
  {
   "cell_type": "markdown",
   "metadata": {},
   "source": [
    "Далее обучим модель случайный лес и проверим качество модели при разном количестве деревьев (n_estimators) и глубине дерева (max_depth)."
   ]
  },
  {
   "cell_type": "code",
   "execution_count": 546,
   "metadata": {},
   "outputs": [
    {
     "name": "stdout",
     "output_type": "stream",
     "text": [
      "Wall time: 1min 12s\n"
     ]
    },
    {
     "data": {
      "text/plain": [
       "{'max_depth': 5, 'n_estimators': 200}"
      ]
     },
     "execution_count": 546,
     "metadata": {},
     "output_type": "execute_result"
    },
    {
     "data": {
      "application/javascript": [
       "\n",
       "            setTimeout(function() {\n",
       "                var nbb_cell_id = 546;\n",
       "                var nbb_unformatted_code = \"%%time\\nclf = RandomForestClassifier(random_state=12345)\\nparameters = {\\\"n_estimators\\\": range(100, 201, 10), \\\"max_depth\\\": range(1, 6, 1)}\\ngrid = GridSearchCV(clf, parameters, cv=5, scoring=[\\\"f1\\\", \\\"roc_auc\\\"], refit=\\\"f1\\\")\\ngrid.fit(features_downsampled, target_downsampled)\\ngrid.best_params_\";\n",
       "                var nbb_formatted_code = \"%%time\\nclf = RandomForestClassifier(random_state=12345)\\nparameters = {\\\"n_estimators\\\": range(100, 201, 10), \\\"max_depth\\\": range(1, 6, 1)}\\ngrid = GridSearchCV(clf, parameters, cv=5, scoring=[\\\"f1\\\", \\\"roc_auc\\\"], refit=\\\"f1\\\")\\ngrid.fit(features_downsampled, target_downsampled)\\ngrid.best_params_\";\n",
       "                var nbb_cells = Jupyter.notebook.get_cells();\n",
       "                for (var i = 0; i < nbb_cells.length; ++i) {\n",
       "                    if (nbb_cells[i].input_prompt_number == nbb_cell_id) {\n",
       "                        if (nbb_cells[i].get_text() == nbb_unformatted_code) {\n",
       "                             nbb_cells[i].set_text(nbb_formatted_code);\n",
       "                        }\n",
       "                        break;\n",
       "                    }\n",
       "                }\n",
       "            }, 500);\n",
       "            "
      ],
      "text/plain": [
       "<IPython.core.display.Javascript object>"
      ]
     },
     "metadata": {},
     "output_type": "display_data"
    }
   ],
   "source": [
    "%%time\n",
    "clf = RandomForestClassifier(random_state=12345)\n",
    "parameters = {\"n_estimators\": range(100, 201, 10), \"max_depth\": range(1, 6, 1)}\n",
    "grid = GridSearchCV(clf, parameters, cv=5, scoring=[\"f1\", \"roc_auc\"], refit=\"f1\")\n",
    "grid.fit(features_downsampled, target_downsampled)\n",
    "grid.best_params_"
   ]
  },
  {
   "cell_type": "code",
   "execution_count": 547,
   "metadata": {},
   "outputs": [
    {
     "data": {
      "text/plain": [
       "0.7689538836970773"
      ]
     },
     "execution_count": 547,
     "metadata": {},
     "output_type": "execute_result"
    },
    {
     "data": {
      "application/javascript": [
       "\n",
       "            setTimeout(function() {\n",
       "                var nbb_cell_id = 547;\n",
       "                var nbb_unformatted_code = \"grid.best_score_\";\n",
       "                var nbb_formatted_code = \"grid.best_score_\";\n",
       "                var nbb_cells = Jupyter.notebook.get_cells();\n",
       "                for (var i = 0; i < nbb_cells.length; ++i) {\n",
       "                    if (nbb_cells[i].input_prompt_number == nbb_cell_id) {\n",
       "                        if (nbb_cells[i].get_text() == nbb_unformatted_code) {\n",
       "                             nbb_cells[i].set_text(nbb_formatted_code);\n",
       "                        }\n",
       "                        break;\n",
       "                    }\n",
       "                }\n",
       "            }, 500);\n",
       "            "
      ],
      "text/plain": [
       "<IPython.core.display.Javascript object>"
      ]
     },
     "metadata": {},
     "output_type": "display_data"
    }
   ],
   "source": [
    "grid.best_score_"
   ]
  },
  {
   "cell_type": "code",
   "execution_count": 548,
   "metadata": {},
   "outputs": [
    {
     "data": {
      "text/plain": [
       "0.8507100857173302"
      ]
     },
     "execution_count": 548,
     "metadata": {},
     "output_type": "execute_result"
    },
    {
     "data": {
      "application/javascript": [
       "\n",
       "            setTimeout(function() {\n",
       "                var nbb_cell_id = 548;\n",
       "                var nbb_unformatted_code = \"grid.cv_results_[\\\"mean_test_roc_auc\\\"][grid.best_index_]\";\n",
       "                var nbb_formatted_code = \"grid.cv_results_[\\\"mean_test_roc_auc\\\"][grid.best_index_]\";\n",
       "                var nbb_cells = Jupyter.notebook.get_cells();\n",
       "                for (var i = 0; i < nbb_cells.length; ++i) {\n",
       "                    if (nbb_cells[i].input_prompt_number == nbb_cell_id) {\n",
       "                        if (nbb_cells[i].get_text() == nbb_unformatted_code) {\n",
       "                             nbb_cells[i].set_text(nbb_formatted_code);\n",
       "                        }\n",
       "                        break;\n",
       "                    }\n",
       "                }\n",
       "            }, 500);\n",
       "            "
      ],
      "text/plain": [
       "<IPython.core.display.Javascript object>"
      ]
     },
     "metadata": {},
     "output_type": "display_data"
    }
   ],
   "source": [
    "grid.cv_results_[\"mean_test_roc_auc\"][grid.best_index_]"
   ]
  },
  {
   "cell_type": "markdown",
   "metadata": {},
   "source": [
    "Рассмотрим следующую модель - логистическую регрессию."
   ]
  },
  {
   "cell_type": "code",
   "execution_count": 446,
   "metadata": {},
   "outputs": [
    {
     "data": {
      "text/plain": [
       "{'max_iter': 100}"
      ]
     },
     "execution_count": 446,
     "metadata": {},
     "output_type": "execute_result"
    },
    {
     "data": {
      "application/javascript": [
       "\n",
       "            setTimeout(function() {\n",
       "                var nbb_cell_id = 446;\n",
       "                var nbb_unformatted_code = \"clf = LogisticRegression(random_state=12345, solver=\\\"liblinear\\\")\\nparameters = {\\\"max_iter\\\": range(100, 1000, 100)}\\ngrid_log = GridSearchCV(clf, parameters, cv=5, scoring=[\\\"f1\\\", \\\"roc_auc\\\"], refit=\\\"f1\\\")\\ngrid_log.fit(features_downsampled, target_downsampled)\\ngrid_log.best_params_\";\n",
       "                var nbb_formatted_code = \"clf = LogisticRegression(random_state=12345, solver=\\\"liblinear\\\")\\nparameters = {\\\"max_iter\\\": range(100, 1000, 100)}\\ngrid_log = GridSearchCV(clf, parameters, cv=5, scoring=[\\\"f1\\\", \\\"roc_auc\\\"], refit=\\\"f1\\\")\\ngrid_log.fit(features_downsampled, target_downsampled)\\ngrid_log.best_params_\";\n",
       "                var nbb_cells = Jupyter.notebook.get_cells();\n",
       "                for (var i = 0; i < nbb_cells.length; ++i) {\n",
       "                    if (nbb_cells[i].input_prompt_number == nbb_cell_id) {\n",
       "                        if (nbb_cells[i].get_text() == nbb_unformatted_code) {\n",
       "                             nbb_cells[i].set_text(nbb_formatted_code);\n",
       "                        }\n",
       "                        break;\n",
       "                    }\n",
       "                }\n",
       "            }, 500);\n",
       "            "
      ],
      "text/plain": [
       "<IPython.core.display.Javascript object>"
      ]
     },
     "metadata": {},
     "output_type": "display_data"
    }
   ],
   "source": [
    "clf = LogisticRegression(random_state=12345, solver=\"liblinear\")\n",
    "parameters = {\"max_iter\": range(100, 1000, 100)}\n",
    "grid_log = GridSearchCV(clf, parameters, cv=5, scoring=[\"f1\", \"roc_auc\"], refit=\"f1\")\n",
    "grid_log.fit(features_downsampled, target_downsampled)\n",
    "grid_log.best_params_"
   ]
  },
  {
   "cell_type": "code",
   "execution_count": 447,
   "metadata": {},
   "outputs": [
    {
     "data": {
      "text/plain": [
       "0.7007007579453887"
      ]
     },
     "execution_count": 447,
     "metadata": {},
     "output_type": "execute_result"
    },
    {
     "data": {
      "application/javascript": [
       "\n",
       "            setTimeout(function() {\n",
       "                var nbb_cell_id = 447;\n",
       "                var nbb_unformatted_code = \"grid_log.best_score_\";\n",
       "                var nbb_formatted_code = \"grid_log.best_score_\";\n",
       "                var nbb_cells = Jupyter.notebook.get_cells();\n",
       "                for (var i = 0; i < nbb_cells.length; ++i) {\n",
       "                    if (nbb_cells[i].input_prompt_number == nbb_cell_id) {\n",
       "                        if (nbb_cells[i].get_text() == nbb_unformatted_code) {\n",
       "                             nbb_cells[i].set_text(nbb_formatted_code);\n",
       "                        }\n",
       "                        break;\n",
       "                    }\n",
       "                }\n",
       "            }, 500);\n",
       "            "
      ],
      "text/plain": [
       "<IPython.core.display.Javascript object>"
      ]
     },
     "metadata": {},
     "output_type": "display_data"
    }
   ],
   "source": [
    "grid_log.best_score_"
   ]
  },
  {
   "cell_type": "code",
   "execution_count": 448,
   "metadata": {},
   "outputs": [
    {
     "data": {
      "text/plain": [
       "0.764199954448267"
      ]
     },
     "execution_count": 448,
     "metadata": {},
     "output_type": "execute_result"
    },
    {
     "data": {
      "application/javascript": [
       "\n",
       "            setTimeout(function() {\n",
       "                var nbb_cell_id = 448;\n",
       "                var nbb_unformatted_code = \"grid_log.cv_results_[\\\"mean_test_roc_auc\\\"][grid_log.best_index_]\";\n",
       "                var nbb_formatted_code = \"grid_log.cv_results_[\\\"mean_test_roc_auc\\\"][grid_log.best_index_]\";\n",
       "                var nbb_cells = Jupyter.notebook.get_cells();\n",
       "                for (var i = 0; i < nbb_cells.length; ++i) {\n",
       "                    if (nbb_cells[i].input_prompt_number == nbb_cell_id) {\n",
       "                        if (nbb_cells[i].get_text() == nbb_unformatted_code) {\n",
       "                             nbb_cells[i].set_text(nbb_formatted_code);\n",
       "                        }\n",
       "                        break;\n",
       "                    }\n",
       "                }\n",
       "            }, 500);\n",
       "            "
      ],
      "text/plain": [
       "<IPython.core.display.Javascript object>"
      ]
     },
     "metadata": {},
     "output_type": "display_data"
    }
   ],
   "source": [
    "grid_log.cv_results_[\"mean_test_roc_auc\"][grid_log.best_index_]"
   ]
  },
  {
   "cell_type": "markdown",
   "metadata": {},
   "source": [
    "Видим, что на обучающей выборке наилучшим качеством обладает модель случайного леса с 200 деревьями и глубиной дерева 5. При таких параметрах F1-мера равна 0.7689538836970773, метрика AUC-ROC равна 0.8507100857173302."
   ]
  },
  {
   "cell_type": "markdown",
   "metadata": {},
   "source": [
    "Теперь попробуем по очереди использовать техники upsampling и downsampling, то есть увеличим количество положительных объектов в 2 раза и уменьшим количество отрицательных элементов в 2 раза."
   ]
  },
  {
   "cell_type": "code",
   "execution_count": 291,
   "metadata": {},
   "outputs": [
    {
     "data": {
      "application/javascript": [
       "\n",
       "            setTimeout(function() {\n",
       "                var nbb_cell_id = 291;\n",
       "                var nbb_unformatted_code = \"def upanddownsample(features, target, repeat, fraction):\\n    features_zeros = features[target == 0]\\n    features_ones = features[target == 1]\\n    target_zeros = target[target == 0]\\n    target_ones = target[target == 1]\\n    \\n    features_upsampled = pd.concat([features_zeros] + [features_ones] * repeat)\\n    target_upsampled = pd.concat([target_zeros] + [target_ones] * repeat)\\n    \\n    features_zeros = features_upsampled[target_upsampled == 0]\\n    features_ones = features_upsampled[target_upsampled == 1]\\n    target_zeros = target_upsampled[target_upsampled == 0]\\n    target_ones = target_upsampled[target_upsampled == 1]\\n    \\n    features_downsampled = pd.concat(\\n        [features_zeros.sample(frac=fraction, random_state=12345)] + [features_ones]\\n    )\\n    target_downsampled = pd.concat(\\n        [target_zeros.sample(frac=fraction, random_state=12345)] + [target_ones]\\n    )\\n\\n    features_downsampled, target_downsampled = shuffle(\\n        features_downsampled, target_downsampled, random_state=12345\\n    )\\n\\n    return features_downsampled, target_downsampled\";\n",
       "                var nbb_formatted_code = \"def upanddownsample(features, target, repeat, fraction):\\n    features_zeros = features[target == 0]\\n    features_ones = features[target == 1]\\n    target_zeros = target[target == 0]\\n    target_ones = target[target == 1]\\n\\n    features_upsampled = pd.concat([features_zeros] + [features_ones] * repeat)\\n    target_upsampled = pd.concat([target_zeros] + [target_ones] * repeat)\\n\\n    features_zeros = features_upsampled[target_upsampled == 0]\\n    features_ones = features_upsampled[target_upsampled == 1]\\n    target_zeros = target_upsampled[target_upsampled == 0]\\n    target_ones = target_upsampled[target_upsampled == 1]\\n\\n    features_downsampled = pd.concat(\\n        [features_zeros.sample(frac=fraction, random_state=12345)] + [features_ones]\\n    )\\n    target_downsampled = pd.concat(\\n        [target_zeros.sample(frac=fraction, random_state=12345)] + [target_ones]\\n    )\\n\\n    features_downsampled, target_downsampled = shuffle(\\n        features_downsampled, target_downsampled, random_state=12345\\n    )\\n\\n    return features_downsampled, target_downsampled\";\n",
       "                var nbb_cells = Jupyter.notebook.get_cells();\n",
       "                for (var i = 0; i < nbb_cells.length; ++i) {\n",
       "                    if (nbb_cells[i].input_prompt_number == nbb_cell_id) {\n",
       "                        if (nbb_cells[i].get_text() == nbb_unformatted_code) {\n",
       "                             nbb_cells[i].set_text(nbb_formatted_code);\n",
       "                        }\n",
       "                        break;\n",
       "                    }\n",
       "                }\n",
       "            }, 500);\n",
       "            "
      ],
      "text/plain": [
       "<IPython.core.display.Javascript object>"
      ]
     },
     "metadata": {},
     "output_type": "display_data"
    }
   ],
   "source": [
    "def upanddownsample(features, target, repeat, fraction):\n",
    "    features_zeros = features[target == 0]\n",
    "    features_ones = features[target == 1]\n",
    "    target_zeros = target[target == 0]\n",
    "    target_ones = target[target == 1]\n",
    "\n",
    "    features_upsampled = pd.concat([features_zeros] + [features_ones] * repeat)\n",
    "    target_upsampled = pd.concat([target_zeros] + [target_ones] * repeat)\n",
    "\n",
    "    features_zeros = features_upsampled[target_upsampled == 0]\n",
    "    features_ones = features_upsampled[target_upsampled == 1]\n",
    "    target_zeros = target_upsampled[target_upsampled == 0]\n",
    "    target_ones = target_upsampled[target_upsampled == 1]\n",
    "\n",
    "    features_downsampled = pd.concat(\n",
    "        [features_zeros.sample(frac=fraction, random_state=12345)] + [features_ones]\n",
    "    )\n",
    "    target_downsampled = pd.concat(\n",
    "        [target_zeros.sample(frac=fraction, random_state=12345)] + [target_ones]\n",
    "    )\n",
    "\n",
    "    features_downsampled, target_downsampled = shuffle(\n",
    "        features_downsampled, target_downsampled, random_state=12345\n",
    "    )\n",
    "\n",
    "    return features_downsampled, target_downsampled"
   ]
  },
  {
   "cell_type": "code",
   "execution_count": 297,
   "metadata": {},
   "outputs": [
    {
     "data": {
      "application/javascript": [
       "\n",
       "            setTimeout(function() {\n",
       "                var nbb_cell_id = 297;\n",
       "                var nbb_unformatted_code = \"features_upanddownsampled, target_upanddownsampled = upanddownsample(\\n    features_train, target_train, 2, 0.5)\";\n",
       "                var nbb_formatted_code = \"features_upanddownsampled, target_upanddownsampled = upanddownsample(\\n    features_train, target_train, 2, 0.5\\n)\";\n",
       "                var nbb_cells = Jupyter.notebook.get_cells();\n",
       "                for (var i = 0; i < nbb_cells.length; ++i) {\n",
       "                    if (nbb_cells[i].input_prompt_number == nbb_cell_id) {\n",
       "                        if (nbb_cells[i].get_text() == nbb_unformatted_code) {\n",
       "                             nbb_cells[i].set_text(nbb_formatted_code);\n",
       "                        }\n",
       "                        break;\n",
       "                    }\n",
       "                }\n",
       "            }, 500);\n",
       "            "
      ],
      "text/plain": [
       "<IPython.core.display.Javascript object>"
      ]
     },
     "metadata": {},
     "output_type": "display_data"
    }
   ],
   "source": [
    "features_upanddownsampled, target_upanddownsampled = upanddownsample(\n",
    "    features_train, target_train, 2, 0.5\n",
    ")"
   ]
  },
  {
   "cell_type": "markdown",
   "metadata": {},
   "source": [
    "Проверим размеры новой выборки."
   ]
  },
  {
   "cell_type": "code",
   "execution_count": 298,
   "metadata": {},
   "outputs": [
    {
     "name": "stdout",
     "output_type": "stream",
     "text": [
      "(3185, 21)\n",
      "(3260, 21)\n",
      "(3185,)\n",
      "(3260,)\n"
     ]
    },
    {
     "data": {
      "application/javascript": [
       "\n",
       "            setTimeout(function() {\n",
       "                var nbb_cell_id = 298;\n",
       "                var nbb_unformatted_code = \"features_zeros = features_upanddownsampled[target_upanddownsampled == 0]\\nfeatures_ones = features_upanddownsampled[target_upanddownsampled == 1]\\ntarget_zeros = target_upanddownsampled[target_upanddownsampled == 0]\\ntarget_ones = target_upanddownsampled[target_upanddownsampled == 1]\\nprint(features_zeros.shape)\\nprint(features_ones.shape)\\nprint(target_zeros.shape)\\nprint(target_ones.shape)\";\n",
       "                var nbb_formatted_code = \"features_zeros = features_upanddownsampled[target_upanddownsampled == 0]\\nfeatures_ones = features_upanddownsampled[target_upanddownsampled == 1]\\ntarget_zeros = target_upanddownsampled[target_upanddownsampled == 0]\\ntarget_ones = target_upanddownsampled[target_upanddownsampled == 1]\\nprint(features_zeros.shape)\\nprint(features_ones.shape)\\nprint(target_zeros.shape)\\nprint(target_ones.shape)\";\n",
       "                var nbb_cells = Jupyter.notebook.get_cells();\n",
       "                for (var i = 0; i < nbb_cells.length; ++i) {\n",
       "                    if (nbb_cells[i].input_prompt_number == nbb_cell_id) {\n",
       "                        if (nbb_cells[i].get_text() == nbb_unformatted_code) {\n",
       "                             nbb_cells[i].set_text(nbb_formatted_code);\n",
       "                        }\n",
       "                        break;\n",
       "                    }\n",
       "                }\n",
       "            }, 500);\n",
       "            "
      ],
      "text/plain": [
       "<IPython.core.display.Javascript object>"
      ]
     },
     "metadata": {},
     "output_type": "display_data"
    }
   ],
   "source": [
    "features_zeros = features_upanddownsampled[target_upanddownsampled == 0]\n",
    "features_ones = features_upanddownsampled[target_upanddownsampled == 1]\n",
    "target_zeros = target_upanddownsampled[target_upanddownsampled == 0]\n",
    "target_ones = target_upanddownsampled[target_upanddownsampled == 1]\n",
    "print(features_zeros.shape)\n",
    "print(features_ones.shape)\n",
    "print(target_zeros.shape)\n",
    "print(target_ones.shape)"
   ]
  },
  {
   "cell_type": "markdown",
   "metadata": {},
   "source": [
    "Видим, что количество положительных и отрицательных объектов примерно равно."
   ]
  },
  {
   "cell_type": "markdown",
   "metadata": {},
   "source": [
    "Найдем качество моделей с измененной обучающей выборкой."
   ]
  },
  {
   "cell_type": "markdown",
   "metadata": {},
   "source": [
    "Рассмотрим первую модель - дерево решений, и найдем ее качество при различных значениях гиперпараметра max_depth (глубина дерева)."
   ]
  },
  {
   "cell_type": "code",
   "execution_count": 461,
   "metadata": {},
   "outputs": [
    {
     "data": {
      "text/plain": [
       "{'max_depth': 4}"
      ]
     },
     "execution_count": 461,
     "metadata": {},
     "output_type": "execute_result"
    },
    {
     "data": {
      "application/javascript": [
       "\n",
       "            setTimeout(function() {\n",
       "                var nbb_cell_id = 461;\n",
       "                var nbb_unformatted_code = \"clf = DecisionTreeClassifier(random_state=12345)\\nparameters = {\\\"max_depth\\\": range(2, 5, 1)}\\ngrid_tr = GridSearchCV(clf, parameters, cv=5, scoring=[\\\"f1\\\", \\\"roc_auc\\\"], refit=\\\"f1\\\")\\ngrid_tr.fit(features_upanddownsampled, target_upanddownsampled)\\ngrid_tr.best_params_\";\n",
       "                var nbb_formatted_code = \"clf = DecisionTreeClassifier(random_state=12345)\\nparameters = {\\\"max_depth\\\": range(2, 5, 1)}\\ngrid_tr = GridSearchCV(clf, parameters, cv=5, scoring=[\\\"f1\\\", \\\"roc_auc\\\"], refit=\\\"f1\\\")\\ngrid_tr.fit(features_upanddownsampled, target_upanddownsampled)\\ngrid_tr.best_params_\";\n",
       "                var nbb_cells = Jupyter.notebook.get_cells();\n",
       "                for (var i = 0; i < nbb_cells.length; ++i) {\n",
       "                    if (nbb_cells[i].input_prompt_number == nbb_cell_id) {\n",
       "                        if (nbb_cells[i].get_text() == nbb_unformatted_code) {\n",
       "                             nbb_cells[i].set_text(nbb_formatted_code);\n",
       "                        }\n",
       "                        break;\n",
       "                    }\n",
       "                }\n",
       "            }, 500);\n",
       "            "
      ],
      "text/plain": [
       "<IPython.core.display.Javascript object>"
      ]
     },
     "metadata": {},
     "output_type": "display_data"
    }
   ],
   "source": [
    "clf = DecisionTreeClassifier(random_state=12345)\n",
    "parameters = {\"max_depth\": range(2, 5, 1)}\n",
    "grid_tr = GridSearchCV(clf, parameters, cv=5, scoring=[\"f1\", \"roc_auc\"], refit=\"f1\")\n",
    "grid_tr.fit(features_upanddownsampled, target_upanddownsampled)\n",
    "grid_tr.best_params_"
   ]
  },
  {
   "cell_type": "code",
   "execution_count": 462,
   "metadata": {},
   "outputs": [
    {
     "data": {
      "text/plain": [
       "0.7432304713669591"
      ]
     },
     "execution_count": 462,
     "metadata": {},
     "output_type": "execute_result"
    },
    {
     "data": {
      "application/javascript": [
       "\n",
       "            setTimeout(function() {\n",
       "                var nbb_cell_id = 462;\n",
       "                var nbb_unformatted_code = \"grid_tr.best_score_\";\n",
       "                var nbb_formatted_code = \"grid_tr.best_score_\";\n",
       "                var nbb_cells = Jupyter.notebook.get_cells();\n",
       "                for (var i = 0; i < nbb_cells.length; ++i) {\n",
       "                    if (nbb_cells[i].input_prompt_number == nbb_cell_id) {\n",
       "                        if (nbb_cells[i].get_text() == nbb_unformatted_code) {\n",
       "                             nbb_cells[i].set_text(nbb_formatted_code);\n",
       "                        }\n",
       "                        break;\n",
       "                    }\n",
       "                }\n",
       "            }, 500);\n",
       "            "
      ],
      "text/plain": [
       "<IPython.core.display.Javascript object>"
      ]
     },
     "metadata": {},
     "output_type": "display_data"
    }
   ],
   "source": [
    "grid_tr.best_score_"
   ]
  },
  {
   "cell_type": "code",
   "execution_count": 463,
   "metadata": {},
   "outputs": [
    {
     "data": {
      "text/plain": [
       "0.8185915092795023"
      ]
     },
     "execution_count": 463,
     "metadata": {},
     "output_type": "execute_result"
    },
    {
     "data": {
      "application/javascript": [
       "\n",
       "            setTimeout(function() {\n",
       "                var nbb_cell_id = 463;\n",
       "                var nbb_unformatted_code = \"grid_tr.cv_results_[\\\"mean_test_roc_auc\\\"][grid_tr.best_index_]\";\n",
       "                var nbb_formatted_code = \"grid_tr.cv_results_[\\\"mean_test_roc_auc\\\"][grid_tr.best_index_]\";\n",
       "                var nbb_cells = Jupyter.notebook.get_cells();\n",
       "                for (var i = 0; i < nbb_cells.length; ++i) {\n",
       "                    if (nbb_cells[i].input_prompt_number == nbb_cell_id) {\n",
       "                        if (nbb_cells[i].get_text() == nbb_unformatted_code) {\n",
       "                             nbb_cells[i].set_text(nbb_formatted_code);\n",
       "                        }\n",
       "                        break;\n",
       "                    }\n",
       "                }\n",
       "            }, 500);\n",
       "            "
      ],
      "text/plain": [
       "<IPython.core.display.Javascript object>"
      ]
     },
     "metadata": {},
     "output_type": "display_data"
    }
   ],
   "source": [
    "grid_tr.cv_results_[\"mean_test_roc_auc\"][grid_tr.best_index_]"
   ]
  },
  {
   "cell_type": "markdown",
   "metadata": {},
   "source": [
    "Далее обучим модель случайный лес и проверим качество модели при разном количестве деревьев (n_estimators) и глубине дерева (max_depth)."
   ]
  },
  {
   "cell_type": "code",
   "execution_count": 549,
   "metadata": {},
   "outputs": [
    {
     "name": "stdout",
     "output_type": "stream",
     "text": [
      "Wall time: 1min 43s\n"
     ]
    },
    {
     "data": {
      "text/plain": [
       "{'max_depth': 5, 'n_estimators': 180}"
      ]
     },
     "execution_count": 549,
     "metadata": {},
     "output_type": "execute_result"
    },
    {
     "data": {
      "application/javascript": [
       "\n",
       "            setTimeout(function() {\n",
       "                var nbb_cell_id = 549;\n",
       "                var nbb_unformatted_code = \"%%time\\nclf = RandomForestClassifier(random_state=12345)\\nparameters = {\\\"n_estimators\\\": range(100, 201, 10), \\\"max_depth\\\": range(1, 6, 1)}\\ngrid = GridSearchCV(clf, parameters, cv=5, scoring=[\\\"f1\\\", \\\"roc_auc\\\"], refit=\\\"f1\\\")\\ngrid.fit(features_upanddownsampled, target_upanddownsampled)\\ngrid.best_params_\";\n",
       "                var nbb_formatted_code = \"%%time\\nclf = RandomForestClassifier(random_state=12345)\\nparameters = {\\\"n_estimators\\\": range(100, 201, 10), \\\"max_depth\\\": range(1, 6, 1)}\\ngrid = GridSearchCV(clf, parameters, cv=5, scoring=[\\\"f1\\\", \\\"roc_auc\\\"], refit=\\\"f1\\\")\\ngrid.fit(features_upanddownsampled, target_upanddownsampled)\\ngrid.best_params_\";\n",
       "                var nbb_cells = Jupyter.notebook.get_cells();\n",
       "                for (var i = 0; i < nbb_cells.length; ++i) {\n",
       "                    if (nbb_cells[i].input_prompt_number == nbb_cell_id) {\n",
       "                        if (nbb_cells[i].get_text() == nbb_unformatted_code) {\n",
       "                             nbb_cells[i].set_text(nbb_formatted_code);\n",
       "                        }\n",
       "                        break;\n",
       "                    }\n",
       "                }\n",
       "            }, 500);\n",
       "            "
      ],
      "text/plain": [
       "<IPython.core.display.Javascript object>"
      ]
     },
     "metadata": {},
     "output_type": "display_data"
    }
   ],
   "source": [
    "%%time\n",
    "clf = RandomForestClassifier(random_state=12345)\n",
    "parameters = {\"n_estimators\": range(100, 201, 10), \"max_depth\": range(1, 6, 1)}\n",
    "grid = GridSearchCV(clf, parameters, cv=5, scoring=[\"f1\", \"roc_auc\"], refit=\"f1\")\n",
    "grid.fit(features_upanddownsampled, target_upanddownsampled)\n",
    "grid.best_params_"
   ]
  },
  {
   "cell_type": "code",
   "execution_count": 550,
   "metadata": {},
   "outputs": [
    {
     "data": {
      "text/plain": [
       "0.7711256951130416"
      ]
     },
     "execution_count": 550,
     "metadata": {},
     "output_type": "execute_result"
    },
    {
     "data": {
      "application/javascript": [
       "\n",
       "            setTimeout(function() {\n",
       "                var nbb_cell_id = 550;\n",
       "                var nbb_unformatted_code = \"grid.best_score_\";\n",
       "                var nbb_formatted_code = \"grid.best_score_\";\n",
       "                var nbb_cells = Jupyter.notebook.get_cells();\n",
       "                for (var i = 0; i < nbb_cells.length; ++i) {\n",
       "                    if (nbb_cells[i].input_prompt_number == nbb_cell_id) {\n",
       "                        if (nbb_cells[i].get_text() == nbb_unformatted_code) {\n",
       "                             nbb_cells[i].set_text(nbb_formatted_code);\n",
       "                        }\n",
       "                        break;\n",
       "                    }\n",
       "                }\n",
       "            }, 500);\n",
       "            "
      ],
      "text/plain": [
       "<IPython.core.display.Javascript object>"
      ]
     },
     "metadata": {},
     "output_type": "display_data"
    }
   ],
   "source": [
    "grid.best_score_"
   ]
  },
  {
   "cell_type": "code",
   "execution_count": 551,
   "metadata": {},
   "outputs": [
    {
     "data": {
      "text/plain": [
       "0.8535552965877242"
      ]
     },
     "execution_count": 551,
     "metadata": {},
     "output_type": "execute_result"
    },
    {
     "data": {
      "application/javascript": [
       "\n",
       "            setTimeout(function() {\n",
       "                var nbb_cell_id = 551;\n",
       "                var nbb_unformatted_code = \"grid.cv_results_[\\\"mean_test_roc_auc\\\"][grid.best_index_]\";\n",
       "                var nbb_formatted_code = \"grid.cv_results_[\\\"mean_test_roc_auc\\\"][grid.best_index_]\";\n",
       "                var nbb_cells = Jupyter.notebook.get_cells();\n",
       "                for (var i = 0; i < nbb_cells.length; ++i) {\n",
       "                    if (nbb_cells[i].input_prompt_number == nbb_cell_id) {\n",
       "                        if (nbb_cells[i].get_text() == nbb_unformatted_code) {\n",
       "                             nbb_cells[i].set_text(nbb_formatted_code);\n",
       "                        }\n",
       "                        break;\n",
       "                    }\n",
       "                }\n",
       "            }, 500);\n",
       "            "
      ],
      "text/plain": [
       "<IPython.core.display.Javascript object>"
      ]
     },
     "metadata": {},
     "output_type": "display_data"
    }
   ],
   "source": [
    "grid.cv_results_[\"mean_test_roc_auc\"][grid.best_index_]"
   ]
  },
  {
   "cell_type": "markdown",
   "metadata": {},
   "source": [
    "Рассмотрим следующую модель - логистическую регрессию."
   ]
  },
  {
   "cell_type": "code",
   "execution_count": 305,
   "metadata": {},
   "outputs": [
    {
     "data": {
      "text/plain": [
       "{'max_iter': 100}"
      ]
     },
     "execution_count": 305,
     "metadata": {},
     "output_type": "execute_result"
    },
    {
     "data": {
      "application/javascript": [
       "\n",
       "            setTimeout(function() {\n",
       "                var nbb_cell_id = 305;\n",
       "                var nbb_unformatted_code = \"clf = LogisticRegression(random_state=12345, solver=\\\"liblinear\\\")\\nparameters = {\\\"max_iter\\\": range(100, 1000, 100)}\\ngrid_log = GridSearchCV(clf, parameters, cv=5, scoring=[\\\"f1\\\", \\\"roc_auc\\\"], refit=\\\"f1\\\")\\ngrid_log.fit(features_upanddownsampled, target_upanddownsampled)\\ngrid_log.best_params_\";\n",
       "                var nbb_formatted_code = \"clf = LogisticRegression(random_state=12345, solver=\\\"liblinear\\\")\\nparameters = {\\\"max_iter\\\": range(100, 1000, 100)}\\ngrid_log = GridSearchCV(clf, parameters, cv=5, scoring=[\\\"f1\\\", \\\"roc_auc\\\"], refit=\\\"f1\\\")\\ngrid_log.fit(features_upanddownsampled, target_upanddownsampled)\\ngrid_log.best_params_\";\n",
       "                var nbb_cells = Jupyter.notebook.get_cells();\n",
       "                for (var i = 0; i < nbb_cells.length; ++i) {\n",
       "                    if (nbb_cells[i].input_prompt_number == nbb_cell_id) {\n",
       "                        if (nbb_cells[i].get_text() == nbb_unformatted_code) {\n",
       "                             nbb_cells[i].set_text(nbb_formatted_code);\n",
       "                        }\n",
       "                        break;\n",
       "                    }\n",
       "                }\n",
       "            }, 500);\n",
       "            "
      ],
      "text/plain": [
       "<IPython.core.display.Javascript object>"
      ]
     },
     "metadata": {},
     "output_type": "display_data"
    }
   ],
   "source": [
    "clf = LogisticRegression(random_state=12345, solver=\"liblinear\")\n",
    "parameters = {\"max_iter\": range(100, 1000, 100)}\n",
    "grid_log = GridSearchCV(clf, parameters, cv=5, scoring=[\"f1\", \"roc_auc\"], refit=\"f1\")\n",
    "grid_log.fit(features_upanddownsampled, target_upanddownsampled)\n",
    "grid_log.best_params_"
   ]
  },
  {
   "cell_type": "code",
   "execution_count": 306,
   "metadata": {},
   "outputs": [
    {
     "data": {
      "text/plain": [
       "0.6945572566727634"
      ]
     },
     "execution_count": 306,
     "metadata": {},
     "output_type": "execute_result"
    },
    {
     "data": {
      "application/javascript": [
       "\n",
       "            setTimeout(function() {\n",
       "                var nbb_cell_id = 306;\n",
       "                var nbb_unformatted_code = \"grid_log.best_score_\";\n",
       "                var nbb_formatted_code = \"grid_log.best_score_\";\n",
       "                var nbb_cells = Jupyter.notebook.get_cells();\n",
       "                for (var i = 0; i < nbb_cells.length; ++i) {\n",
       "                    if (nbb_cells[i].input_prompt_number == nbb_cell_id) {\n",
       "                        if (nbb_cells[i].get_text() == nbb_unformatted_code) {\n",
       "                             nbb_cells[i].set_text(nbb_formatted_code);\n",
       "                        }\n",
       "                        break;\n",
       "                    }\n",
       "                }\n",
       "            }, 500);\n",
       "            "
      ],
      "text/plain": [
       "<IPython.core.display.Javascript object>"
      ]
     },
     "metadata": {},
     "output_type": "display_data"
    }
   ],
   "source": [
    "grid_log.best_score_"
   ]
  },
  {
   "cell_type": "code",
   "execution_count": 307,
   "metadata": {},
   "outputs": [
    {
     "data": {
      "text/plain": [
       "0.7596724484980402"
      ]
     },
     "execution_count": 307,
     "metadata": {},
     "output_type": "execute_result"
    },
    {
     "data": {
      "application/javascript": [
       "\n",
       "            setTimeout(function() {\n",
       "                var nbb_cell_id = 307;\n",
       "                var nbb_unformatted_code = \"grid_log.cv_results_[\\\"mean_test_roc_auc\\\"][grid_log.best_index_]\";\n",
       "                var nbb_formatted_code = \"grid_log.cv_results_[\\\"mean_test_roc_auc\\\"][grid_log.best_index_]\";\n",
       "                var nbb_cells = Jupyter.notebook.get_cells();\n",
       "                for (var i = 0; i < nbb_cells.length; ++i) {\n",
       "                    if (nbb_cells[i].input_prompt_number == nbb_cell_id) {\n",
       "                        if (nbb_cells[i].get_text() == nbb_unformatted_code) {\n",
       "                             nbb_cells[i].set_text(nbb_formatted_code);\n",
       "                        }\n",
       "                        break;\n",
       "                    }\n",
       "                }\n",
       "            }, 500);\n",
       "            "
      ],
      "text/plain": [
       "<IPython.core.display.Javascript object>"
      ]
     },
     "metadata": {},
     "output_type": "display_data"
    }
   ],
   "source": [
    "grid_log.cv_results_[\"mean_test_roc_auc\"][grid_log.best_index_]"
   ]
  },
  {
   "cell_type": "markdown",
   "metadata": {},
   "source": [
    "Видим, что на обучающей выборке наилучшим качеством обладает модель случайного леса с 180 деревьями и глубиной дерева 5. При таких параметрах F1-мера равна 0.7711256951130416, метрика AUC-ROC равна 0.8535552965877242."
   ]
  },
  {
   "cell_type": "markdown",
   "metadata": {},
   "source": [
    "Итак, для сбалансированной выборки лучший результат показала модель случайного леса с 160 деревьями и глубиной дерева 6 после применения техники upsamplig. При таких параметрах F1-мера равна 0.7778368949979247, метрика AUC-ROC равна 0.8669196217892535."
   ]
  },
  {
   "cell_type": "code",
   "execution_count": 325,
   "metadata": {},
   "outputs": [
    {
     "data": {
      "application/javascript": [
       "\n",
       "            setTimeout(function() {\n",
       "                var nbb_cell_id = 325;\n",
       "                var nbb_unformatted_code = \"(\\n    features_train_thr,\\n    features_valid_thr,\\n    target_train_thr,\\n    target_valid_thr,\\n) = train_test_split(\\n    features_upsampled,\\n    target_upsampled,\\n    test_size=0.2,\\n    random_state=12345,\\n    stratify=target_upsampled,\\n)\";\n",
       "                var nbb_formatted_code = \"(\\n    features_train_thr,\\n    features_valid_thr,\\n    target_train_thr,\\n    target_valid_thr,\\n) = train_test_split(\\n    features_upsampled,\\n    target_upsampled,\\n    test_size=0.2,\\n    random_state=12345,\\n    stratify=target_upsampled,\\n)\";\n",
       "                var nbb_cells = Jupyter.notebook.get_cells();\n",
       "                for (var i = 0; i < nbb_cells.length; ++i) {\n",
       "                    if (nbb_cells[i].input_prompt_number == nbb_cell_id) {\n",
       "                        if (nbb_cells[i].get_text() == nbb_unformatted_code) {\n",
       "                             nbb_cells[i].set_text(nbb_formatted_code);\n",
       "                        }\n",
       "                        break;\n",
       "                    }\n",
       "                }\n",
       "            }, 500);\n",
       "            "
      ],
      "text/plain": [
       "<IPython.core.display.Javascript object>"
      ]
     },
     "metadata": {},
     "output_type": "display_data"
    }
   ],
   "source": [
    "(\n",
    "    features_train_thr,\n",
    "    features_valid_thr,\n",
    "    target_train_thr,\n",
    "    target_valid_thr,\n",
    ") = train_test_split(\n",
    "    features_upsampled,\n",
    "    target_upsampled,\n",
    "    test_size=0.2,\n",
    "    random_state=12345,\n",
    "    stratify=target_upsampled,\n",
    ")"
   ]
  },
  {
   "cell_type": "code",
   "execution_count": 326,
   "metadata": {},
   "outputs": [
    {
     "name": "stdout",
     "output_type": "stream",
     "text": [
      "Количество строк в target_train_thr по классам: [5096 5216]\n",
      "Количество строк в target_valid_thr по классам: [1274 1304]\n"
     ]
    },
    {
     "data": {
      "application/javascript": [
       "\n",
       "            setTimeout(function() {\n",
       "                var nbb_cell_id = 326;\n",
       "                var nbb_unformatted_code = \"print(\\n    f\\\"\\u041a\\u043e\\u043b\\u0438\\u0447\\u0435\\u0441\\u0442\\u0432\\u043e \\u0441\\u0442\\u0440\\u043e\\u043a \\u0432 target_train_thr \\u043f\\u043e \\u043a\\u043b\\u0430\\u0441\\u0441\\u0430\\u043c: {np.bincount(target_train_thr)}\\\"\\n)\\nprint(\\n    f\\\"\\u041a\\u043e\\u043b\\u0438\\u0447\\u0435\\u0441\\u0442\\u0432\\u043e \\u0441\\u0442\\u0440\\u043e\\u043a \\u0432 target_valid_thr \\u043f\\u043e \\u043a\\u043b\\u0430\\u0441\\u0441\\u0430\\u043c: {np.bincount(target_valid_thr)}\\\"\\n)\";\n",
       "                var nbb_formatted_code = \"print(\\n    f\\\"\\u041a\\u043e\\u043b\\u0438\\u0447\\u0435\\u0441\\u0442\\u0432\\u043e \\u0441\\u0442\\u0440\\u043e\\u043a \\u0432 target_train_thr \\u043f\\u043e \\u043a\\u043b\\u0430\\u0441\\u0441\\u0430\\u043c: {np.bincount(target_train_thr)}\\\"\\n)\\nprint(\\n    f\\\"\\u041a\\u043e\\u043b\\u0438\\u0447\\u0435\\u0441\\u0442\\u0432\\u043e \\u0441\\u0442\\u0440\\u043e\\u043a \\u0432 target_valid_thr \\u043f\\u043e \\u043a\\u043b\\u0430\\u0441\\u0441\\u0430\\u043c: {np.bincount(target_valid_thr)}\\\"\\n)\";\n",
       "                var nbb_cells = Jupyter.notebook.get_cells();\n",
       "                for (var i = 0; i < nbb_cells.length; ++i) {\n",
       "                    if (nbb_cells[i].input_prompt_number == nbb_cell_id) {\n",
       "                        if (nbb_cells[i].get_text() == nbb_unformatted_code) {\n",
       "                             nbb_cells[i].set_text(nbb_formatted_code);\n",
       "                        }\n",
       "                        break;\n",
       "                    }\n",
       "                }\n",
       "            }, 500);\n",
       "            "
      ],
      "text/plain": [
       "<IPython.core.display.Javascript object>"
      ]
     },
     "metadata": {},
     "output_type": "display_data"
    }
   ],
   "source": [
    "print(\n",
    "    f\"Количество строк в target_train_thr по классам: {np.bincount(target_train_thr)}\"\n",
    ")\n",
    "print(\n",
    "    f\"Количество строк в target_valid_thr по классам: {np.bincount(target_valid_thr)}\"\n",
    ")"
   ]
  },
  {
   "cell_type": "code",
   "execution_count": 327,
   "metadata": {},
   "outputs": [
    {
     "name": "stdout",
     "output_type": "stream",
     "text": [
      "Количество строк в target_train по классам: [6370 1630]\n"
     ]
    },
    {
     "data": {
      "application/javascript": [
       "\n",
       "            setTimeout(function() {\n",
       "                var nbb_cell_id = 327;\n",
       "                var nbb_unformatted_code = \"print(f\\\"\\u041a\\u043e\\u043b\\u0438\\u0447\\u0435\\u0441\\u0442\\u0432\\u043e \\u0441\\u0442\\u0440\\u043e\\u043a \\u0432 target_train \\u043f\\u043e \\u043a\\u043b\\u0430\\u0441\\u0441\\u0430\\u043c: {np.bincount(target_train)}\\\")\";\n",
       "                var nbb_formatted_code = \"print(f\\\"\\u041a\\u043e\\u043b\\u0438\\u0447\\u0435\\u0441\\u0442\\u0432\\u043e \\u0441\\u0442\\u0440\\u043e\\u043a \\u0432 target_train \\u043f\\u043e \\u043a\\u043b\\u0430\\u0441\\u0441\\u0430\\u043c: {np.bincount(target_train)}\\\")\";\n",
       "                var nbb_cells = Jupyter.notebook.get_cells();\n",
       "                for (var i = 0; i < nbb_cells.length; ++i) {\n",
       "                    if (nbb_cells[i].input_prompt_number == nbb_cell_id) {\n",
       "                        if (nbb_cells[i].get_text() == nbb_unformatted_code) {\n",
       "                             nbb_cells[i].set_text(nbb_formatted_code);\n",
       "                        }\n",
       "                        break;\n",
       "                    }\n",
       "                }\n",
       "            }, 500);\n",
       "            "
      ],
      "text/plain": [
       "<IPython.core.display.Javascript object>"
      ]
     },
     "metadata": {},
     "output_type": "display_data"
    }
   ],
   "source": [
    "print(f\"Количество строк в target_train по классам: {np.bincount(target_train)}\")"
   ]
  },
  {
   "cell_type": "markdown",
   "metadata": {},
   "source": [
    "Видмим, что в target_train_thr и target_valid_thr дисбаланс классов остался прежним."
   ]
  },
  {
   "cell_type": "markdown",
   "metadata": {},
   "source": [
    "Построим AUC-ROC кривую для лучшей модели случайного леса."
   ]
  },
  {
   "cell_type": "code",
   "execution_count": 552,
   "metadata": {},
   "outputs": [
    {
     "data": {
      "image/png": "[encoded data removed]",
      "text/plain": [
       "<Figure size 432x288 with 1 Axes>"
      ]
     },
     "metadata": {
      "needs_background": "light"
     },
     "output_type": "display_data"
    },
    {
     "data": {
      "application/javascript": [
       "\n",
       "            setTimeout(function() {\n",
       "                var nbb_cell_id = 552;\n",
       "                var nbb_unformatted_code = \"model = RandomForestClassifier(random_state=12345, n_estimators=160, max_depth=6)\\nmodel.fit(features_train_thr, target_train_thr)\\nprobabilities_valid = model.predict_proba(features_valid_thr)\\nprobabilities_one_valid = probabilities_valid[:, 1]\\n\\nfpr, tpr, thresholds = fpr, tpr, thresholds = roc_curve(\\n    target_valid_thr, probabilities_one_valid\\n)\\nplt.figure()\\nplt.plot(fpr, tpr)\\nplt.plot([0, 1], [0, 1], linestyle=\\\"--\\\")\\nplt.xlim([0.0, 1.0])\\nplt.ylim([0.0, 1.0])\\nplt.xlabel(\\\"False Positive Rate\\\")\\nplt.ylabel(\\\"True Positive Rate\\\")\\nplt.title(\\\"ROC-\\u043a\\u0440\\u0438\\u0432\\u0430\\u044f\\\")\\nplt.show()\";\n",
       "                var nbb_formatted_code = \"model = RandomForestClassifier(random_state=12345, n_estimators=160, max_depth=6)\\nmodel.fit(features_train_thr, target_train_thr)\\nprobabilities_valid = model.predict_proba(features_valid_thr)\\nprobabilities_one_valid = probabilities_valid[:, 1]\\n\\nfpr, tpr, thresholds = fpr, tpr, thresholds = roc_curve(\\n    target_valid_thr, probabilities_one_valid\\n)\\nplt.figure()\\nplt.plot(fpr, tpr)\\nplt.plot([0, 1], [0, 1], linestyle=\\\"--\\\")\\nplt.xlim([0.0, 1.0])\\nplt.ylim([0.0, 1.0])\\nplt.xlabel(\\\"False Positive Rate\\\")\\nplt.ylabel(\\\"True Positive Rate\\\")\\nplt.title(\\\"ROC-\\u043a\\u0440\\u0438\\u0432\\u0430\\u044f\\\")\\nplt.show()\";\n",
       "                var nbb_cells = Jupyter.notebook.get_cells();\n",
       "                for (var i = 0; i < nbb_cells.length; ++i) {\n",
       "                    if (nbb_cells[i].input_prompt_number == nbb_cell_id) {\n",
       "                        if (nbb_cells[i].get_text() == nbb_unformatted_code) {\n",
       "                             nbb_cells[i].set_text(nbb_formatted_code);\n",
       "                        }\n",
       "                        break;\n",
       "                    }\n",
       "                }\n",
       "            }, 500);\n",
       "            "
      ],
      "text/plain": [
       "<IPython.core.display.Javascript object>"
      ]
     },
     "metadata": {},
     "output_type": "display_data"
    }
   ],
   "source": [
    "model = RandomForestClassifier(random_state=12345, n_estimators=160, max_depth=6)\n",
    "model.fit(features_train_thr, target_train_thr)\n",
    "probabilities_valid = model.predict_proba(features_valid_thr)\n",
    "probabilities_one_valid = probabilities_valid[:, 1]\n",
    "\n",
    "fpr, tpr, thresholds = fpr, tpr, thresholds = roc_curve(\n",
    "    target_valid_thr, probabilities_one_valid\n",
    ")\n",
    "plt.figure()\n",
    "plt.plot(fpr, tpr)\n",
    "plt.plot([0, 1], [0, 1], linestyle=\"--\")\n",
    "plt.xlim([0.0, 1.0])\n",
    "plt.ylim([0.0, 1.0])\n",
    "plt.xlabel(\"False Positive Rate\")\n",
    "plt.ylabel(\"True Positive Rate\")\n",
    "plt.title(\"ROC-кривая\")\n",
    "plt.show()"
   ]
  },
  {
   "cell_type": "markdown",
   "metadata": {},
   "source": [
    "Из полученного графика можно сделать вывод, что наша модель обладает достаточно высоким качеством."
   ]
  },
  {
   "cell_type": "markdown",
   "metadata": {},
   "source": [
    "Изучим изменение значений метрик при изменении значения порога для полученной наилучшей модели."
   ]
  },
  {
   "cell_type": "code",
   "execution_count": 555,
   "metadata": {},
   "outputs": [
    {
     "name": "stdout",
     "output_type": "stream",
     "text": [
      "f1_score наилучшей модели на валидационной выборке: 0.7258926061287602\n",
      "auc_roc_score наилучшей модели на валидационной выборке: 0.8665878928258421\n",
      "Порог: 0.28\n"
     ]
    },
    {
     "data": {
      "application/javascript": [
       "\n",
       "            setTimeout(function() {\n",
       "                var nbb_cell_id = 555;\n",
       "                var nbb_unformatted_code = \"best_f1_score = 0\\nbest_auc_score = 0\\nbest_threshold = 0\\nfor threshold in np.arange(0, 0.3, 0.02):\\n    predicted_valid = probabilities_one_valid > threshold\\n    auc_roc = roc_auc_score(target_valid_thr, probabilities_one_valid)\\n    f1 = f1_score(target_valid_thr, predicted_valid)\\n    if f1 > best_f1_score:\\n        best_auc_score = auc_roc\\n        best_f1_score = f1\\n        best_threshold = threshold\\nprint(\\\"f1_score \\u043d\\u0430\\u0438\\u043b\\u0443\\u0447\\u0448\\u0435\\u0439 \\u043c\\u043e\\u0434\\u0435\\u043b\\u0438 \\u043d\\u0430 \\u0432\\u0430\\u043b\\u0438\\u0434\\u0430\\u0446\\u0438\\u043e\\u043d\\u043d\\u043e\\u0439 \\u0432\\u044b\\u0431\\u043e\\u0440\\u043a\\u0435:\\\", best_f1_score)\\nprint(\\\"auc_roc_score \\u043d\\u0430\\u0438\\u043b\\u0443\\u0447\\u0448\\u0435\\u0439 \\u043c\\u043e\\u0434\\u0435\\u043b\\u0438 \\u043d\\u0430 \\u0432\\u0430\\u043b\\u0438\\u0434\\u0430\\u0446\\u0438\\u043e\\u043d\\u043d\\u043e\\u0439 \\u0432\\u044b\\u0431\\u043e\\u0440\\u043a\\u0435:\\\", best_auc_score)\\nprint(\\\"\\u041f\\u043e\\u0440\\u043e\\u0433:\\\", best_threshold)\";\n",
       "                var nbb_formatted_code = \"best_f1_score = 0\\nbest_auc_score = 0\\nbest_threshold = 0\\nfor threshold in np.arange(0, 0.3, 0.02):\\n    predicted_valid = probabilities_one_valid > threshold\\n    auc_roc = roc_auc_score(target_valid_thr, probabilities_one_valid)\\n    f1 = f1_score(target_valid_thr, predicted_valid)\\n    if f1 > best_f1_score:\\n        best_auc_score = auc_roc\\n        best_f1_score = f1\\n        best_threshold = threshold\\nprint(\\\"f1_score \\u043d\\u0430\\u0438\\u043b\\u0443\\u0447\\u0448\\u0435\\u0439 \\u043c\\u043e\\u0434\\u0435\\u043b\\u0438 \\u043d\\u0430 \\u0432\\u0430\\u043b\\u0438\\u0434\\u0430\\u0446\\u0438\\u043e\\u043d\\u043d\\u043e\\u0439 \\u0432\\u044b\\u0431\\u043e\\u0440\\u043a\\u0435:\\\", best_f1_score)\\nprint(\\\"auc_roc_score \\u043d\\u0430\\u0438\\u043b\\u0443\\u0447\\u0448\\u0435\\u0439 \\u043c\\u043e\\u0434\\u0435\\u043b\\u0438 \\u043d\\u0430 \\u0432\\u0430\\u043b\\u0438\\u0434\\u0430\\u0446\\u0438\\u043e\\u043d\\u043d\\u043e\\u0439 \\u0432\\u044b\\u0431\\u043e\\u0440\\u043a\\u0435:\\\", best_auc_score)\\nprint(\\\"\\u041f\\u043e\\u0440\\u043e\\u0433:\\\", best_threshold)\";\n",
       "                var nbb_cells = Jupyter.notebook.get_cells();\n",
       "                for (var i = 0; i < nbb_cells.length; ++i) {\n",
       "                    if (nbb_cells[i].input_prompt_number == nbb_cell_id) {\n",
       "                        if (nbb_cells[i].get_text() == nbb_unformatted_code) {\n",
       "                             nbb_cells[i].set_text(nbb_formatted_code);\n",
       "                        }\n",
       "                        break;\n",
       "                    }\n",
       "                }\n",
       "            }, 500);\n",
       "            "
      ],
      "text/plain": [
       "<IPython.core.display.Javascript object>"
      ]
     },
     "metadata": {},
     "output_type": "display_data"
    }
   ],
   "source": [
    "best_f1_score = 0\n",
    "best_auc_score = 0\n",
    "best_threshold = 0\n",
    "for threshold in np.arange(0, 0.3, 0.02):\n",
    "    predicted_valid = probabilities_one_valid > threshold\n",
    "    auc_roc = roc_auc_score(target_valid_thr, probabilities_one_valid)\n",
    "    f1 = f1_score(target_valid_thr, predicted_valid)\n",
    "    if f1 > best_f1_score:\n",
    "        best_auc_score = auc_roc\n",
    "        best_f1_score = f1\n",
    "        best_threshold = threshold\n",
    "print(\"f1_score наилучшей модели на валидационной выборке:\", best_f1_score)\n",
    "print(\"auc_roc_score наилучшей модели на валидационной выборке:\", best_auc_score)\n",
    "print(\"Порог:\", best_threshold)"
   ]
  },
  {
   "cell_type": "markdown",
   "metadata": {},
   "source": [
    "Как видим, при уменьшении порога до 0.28 значение F1-меры уменьшилось, метрика AUC-ROC почти не изменилась."
   ]
  },
  {
   "cell_type": "markdown",
   "metadata": {},
   "source": [
    "В результате получаем, что наилучшие результаты показала модель случайного леса с количеством деревьев 160 и глубиной дерева 6, примененная к сбалансированной выборке после использования техники upsampling."
   ]
  },
  {
   "cell_type": "markdown",
   "metadata": {},
   "source": [
    "## Тестирование модели"
   ]
  },
  {
   "cell_type": "markdown",
   "metadata": {},
   "source": [
    "Найдем значения метрик F1 и AUC-ROC для лучшей модели на тестовой выборке."
   ]
  },
  {
   "cell_type": "code",
   "execution_count": 556,
   "metadata": {},
   "outputs": [
    {
     "name": "stdout",
     "output_type": "stream",
     "text": [
      "f1_score наилучшей модели на тестовой выборке: 0.6019047619047619\n",
      "roc_auc_score наилучшей модели на тестовой выборке: 0.8602439110913689\n"
     ]
    },
    {
     "data": {
      "application/javascript": [
       "\n",
       "            setTimeout(function() {\n",
       "                var nbb_cell_id = 556;\n",
       "                var nbb_unformatted_code = \"model = RandomForestClassifier(random_state=12345, n_estimators=160, max_depth=6)\\nmodel.fit(features_upsampled, target_upsampled)\\npredicted_valid = model.predict(features_test)\\nprobabilities_valid = model.predict_proba(features_test)\\nprobabilities_one_valid = probabilities_valid[:, 1]\\n# predicted_valid = probabilities_one_valid > 0.72\\nf1 = f1_score(target_test, predicted_valid)\\nauc_roc = roc_auc_score(target_test, probabilities_one_valid)\\nprint(\\\"f1_score \\u043d\\u0430\\u0438\\u043b\\u0443\\u0447\\u0448\\u0435\\u0439 \\u043c\\u043e\\u0434\\u0435\\u043b\\u0438 \\u043d\\u0430 \\u0442\\u0435\\u0441\\u0442\\u043e\\u0432\\u043e\\u0439 \\u0432\\u044b\\u0431\\u043e\\u0440\\u043a\\u0435:\\\", f1)\\nprint(\\\"roc_auc_score \\u043d\\u0430\\u0438\\u043b\\u0443\\u0447\\u0448\\u0435\\u0439 \\u043c\\u043e\\u0434\\u0435\\u043b\\u0438 \\u043d\\u0430 \\u0442\\u0435\\u0441\\u0442\\u043e\\u0432\\u043e\\u0439 \\u0432\\u044b\\u0431\\u043e\\u0440\\u043a\\u0435:\\\", auc_roc)\";\n",
       "                var nbb_formatted_code = \"model = RandomForestClassifier(random_state=12345, n_estimators=160, max_depth=6)\\nmodel.fit(features_upsampled, target_upsampled)\\npredicted_valid = model.predict(features_test)\\nprobabilities_valid = model.predict_proba(features_test)\\nprobabilities_one_valid = probabilities_valid[:, 1]\\n# predicted_valid = probabilities_one_valid > 0.72\\nf1 = f1_score(target_test, predicted_valid)\\nauc_roc = roc_auc_score(target_test, probabilities_one_valid)\\nprint(\\\"f1_score \\u043d\\u0430\\u0438\\u043b\\u0443\\u0447\\u0448\\u0435\\u0439 \\u043c\\u043e\\u0434\\u0435\\u043b\\u0438 \\u043d\\u0430 \\u0442\\u0435\\u0441\\u0442\\u043e\\u0432\\u043e\\u0439 \\u0432\\u044b\\u0431\\u043e\\u0440\\u043a\\u0435:\\\", f1)\\nprint(\\\"roc_auc_score \\u043d\\u0430\\u0438\\u043b\\u0443\\u0447\\u0448\\u0435\\u0439 \\u043c\\u043e\\u0434\\u0435\\u043b\\u0438 \\u043d\\u0430 \\u0442\\u0435\\u0441\\u0442\\u043e\\u0432\\u043e\\u0439 \\u0432\\u044b\\u0431\\u043e\\u0440\\u043a\\u0435:\\\", auc_roc)\";\n",
       "                var nbb_cells = Jupyter.notebook.get_cells();\n",
       "                for (var i = 0; i < nbb_cells.length; ++i) {\n",
       "                    if (nbb_cells[i].input_prompt_number == nbb_cell_id) {\n",
       "                        if (nbb_cells[i].get_text() == nbb_unformatted_code) {\n",
       "                             nbb_cells[i].set_text(nbb_formatted_code);\n",
       "                        }\n",
       "                        break;\n",
       "                    }\n",
       "                }\n",
       "            }, 500);\n",
       "            "
      ],
      "text/plain": [
       "<IPython.core.display.Javascript object>"
      ]
     },
     "metadata": {},
     "output_type": "display_data"
    }
   ],
   "source": [
    "model = RandomForestClassifier(random_state=12345, n_estimators=160, max_depth=6)\n",
    "model.fit(features_upsampled, target_upsampled)\n",
    "predicted_valid = model.predict(features_test)\n",
    "probabilities_valid = model.predict_proba(features_test)\n",
    "probabilities_one_valid = probabilities_valid[:, 1]\n",
    "# predicted_valid = probabilities_one_valid > 0.72\n",
    "f1 = f1_score(target_test, predicted_valid)\n",
    "auc_roc = roc_auc_score(target_test, probabilities_one_valid)\n",
    "print(\"f1_score наилучшей модели на тестовой выборке:\", f1)\n",
    "print(\"roc_auc_score наилучшей модели на тестовой выборке:\", auc_roc)"
   ]
  },
  {
   "cell_type": "markdown",
   "metadata": {},
   "source": [
    "Видим, что на тестовой выборке F1-мера на выбранной лучшей модели равна 0.6019047619047619, этот показатель значительно ниже, чем на обучающей выборке, но все равно достаточно высокий. Из этого наблюдения можно сделать вывод, что присутствует переобучение модели. Значение AUC-ROC меры при этом почти не изменилось."
   ]
  },
  {
   "cell_type": "markdown",
   "metadata": {},
   "source": [
    "## Чек-лист готовности проекта"
   ]
  },
  {
   "cell_type": "markdown",
   "metadata": {},
   "source": [
    "Поставьте 'x' в выполненных пунктах. Далее нажмите Shift+Enter."
   ]
  },
  {
   "cell_type": "markdown",
   "metadata": {},
   "source": [
    "- [x]  Jupyter Notebook открыт\n",
    "- [ ]  Весь код выполняется без ошибок\n",
    "- [ ]  Ячейки с кодом расположены в порядке исполнения\n",
    "- [ ]  Выполнен шаг 1: данные подготовлены\n",
    "- [ ]  Выполнен шаг 2: задача исследована\n",
    "    - [ ]  Исследован баланс классов\n",
    "    - [ ]  Изучены модели без учёта дисбаланса\n",
    "    - [ ]  Написаны выводы по результатам исследования\n",
    "- [ ]  Выполнен шаг 3: учтён дисбаланс\n",
    "    - [ ]  Применено несколько способов борьбы с дисбалансом\n",
    "    - [ ]  Написаны выводы по результатам исследования\n",
    "- [ ]  Выполнен шаг 4: проведено тестирование\n",
    "- [ ]  Удалось достичь *F1*-меры не менее 0.59\n",
    "- [ ]  Исследована метрика *AUC-ROC*"
   ]
  },
  {
   "cell_type": "code",
   "execution_count": null,
   "metadata": {},
   "outputs": [],
   "source": []
  }
 ],
 "metadata": {
  "kernelspec": {
   "display_name": "Python 3 (ipykernel)",
   "language": "python",
   "name": "python3"
  },
  "language_info": {
   "codemirror_mode": {
    "name": "ipython",
    "version": 3
   },
   "file_extension": ".py",
   "mimetype": "text/x-python",
   "name": "python",
   "nbconvert_exporter": "python",
   "pygments_lexer": "ipython3",
   "version": "3.9.7"
  },
  "toc": {
   "base_numbering": 1,
   "nav_menu": {},
   "number_sections": true,
   "sideBar": true,
   "skip_h1_title": true,
   "title_cell": "Содержание",
   "title_sidebar": "Contents",
   "toc_cell": true,
   "toc_position": {},
   "toc_section_display": true,
   "toc_window_display": true
  }
 },
 "nbformat": 4,
 "nbformat_minor": 2
}
